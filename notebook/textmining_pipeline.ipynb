{
  "nbformat": 4,
  "nbformat_minor": 0,
  "metadata": {
    "colab": {
      "provenance": [],
      "collapsed_sections": [
        "D8dO1vx16m30",
        "ZdLIRUXGDl9h",
        "ismImS_IDsrQ",
        "BMem0ZX-JW-o",
        "7GBQDhMPpjXF",
        "Aj70fCTUvhMA",
        "TQwnhhkSLk7G",
        "ovOYkrwuQyw0",
        "LSWWPN6nTOYj",
        "X7MRipe_TW3m",
        "UKrgXjE2eko_",
        "KUh6T9GoYHpm",
        "uBL36ndQUZwp",
        "H0s1qCXUYgsP",
        "Bq6w0aIMcAEc",
        "nX3G0B8Qd4bk",
        "TVa8KdylttWw",
        "MCDbybo9mUwn",
        "8zkmY3K405sc",
        "W2g4EPDBZXaP",
        "vF99Oqqad-Mr",
        "fkYYzMGDg4zG",
        "JgqUZsxriE9a",
        "9Krv8MVVrepv",
        "8KNzDB21rjb4",
        "j5i6QTGks-gt",
        "9eK_asFitnLR",
        "cHonh45d1_VL",
        "qketRx6ZvBGH",
        "sRWQcMRzysR9",
        "y1Lwc4cUywkY",
        "nWKB78fouWbK",
        "ThHa8hXdyWOT",
        "zBdFv76Lyh-s"
      ]
    },
    "kernelspec": {
      "name": "python3",
      "display_name": "Python 3"
    },
    "language_info": {
      "name": "python"
    },
    "gpuClass": "standard"
  },
  "cells": [
    {
      "cell_type": "markdown",
      "source": [
        "###LIBRARIES\n",
        "\n"
      ],
      "metadata": {
        "id": "D8dO1vx16m30"
      }
    },
    {
      "cell_type": "code",
      "source": [
        " !pip install -q pyLDAvis==2.1.2"
      ],
      "metadata": {
        "id": "OX9SbFdP7xnv"
      },
      "execution_count": null,
      "outputs": []
    },
    {
      "cell_type": "code",
      "source": [
        "# Don't print warnings\n",
        "import warnings\n",
        "def warn(*args, **kwargs):\n",
        "    pass\n",
        "warnings.warn = warn"
      ],
      "metadata": {
        "id": "lQgwhEdC7yoh"
      },
      "execution_count": null,
      "outputs": []
    },
    {
      "cell_type": "code",
      "execution_count": null,
      "metadata": {
        "id": "MUsQu2IN_jsC"
      },
      "outputs": [],
      "source": [
        "import pandas as pd\n",
        "import numpy as np\n",
        "import seaborn as sns\n",
        "from google.colab import drive\n",
        "import bz2\n",
        "import re\n",
        "import os\n",
        "import gc\n",
        "import nltk\n",
        "from nltk.corpus import stopwords\n",
        "import joblib\n",
        "import gensim\n",
        "from gensim.models.ldamodel import LdaModel\n",
        "from gensim.corpora.dictionary import Dictionary\n",
        "from gensim.models import CoherenceModel\n",
        "import pyLDAvis\n",
        "import pyLDAvis.gensim\n",
        "pyLDAvis.enable_notebook()\n",
        "from sklearn.metrics import (precision_recall_curve, auc, confusion_matrix,\n",
        "                             f1_score, fbeta_score, precision_score,\n",
        "                             recall_score, classification_report)\n",
        "import itertools\n",
        "import matplotlib.pyplot as plt\n",
        "from sklearn.linear_model import LogisticRegression\n",
        "from sklearn.ensemble import RandomForestClassifier\n",
        "from sklearn.svm import SVC\n",
        "from keras.models import Sequential\n",
        "from keras.layers.core import Dense, Dropout, Activation\n",
        "from keras.optimizers import Adadelta,Adam,RMSprop\n",
        "from keras.utils import np_utils\n",
        "import pickle\n",
        "from scipy import sparse\n",
        "from sklearn.feature_extraction.text import CountVectorizer\n",
        "from sklearn.feature_extraction.text import TfidfVectorizer\n",
        "from gensim.models.doc2vec import Doc2Vec, TaggedDocument\n",
        "import random\n",
        "from sklearn.model_selection import train_test_split"
      ]
    },
    {
      "cell_type": "code",
      "source": [
        "nltk.download(\"stopwords\")"
      ],
      "metadata": {
        "colab": {
          "base_uri": "https://localhost:8080/"
        },
        "id": "4xSgzWCxE0ru",
        "outputId": "40e9304b-c80f-4174-94b6-c454e4e12031"
      },
      "execution_count": null,
      "outputs": [
        {
          "output_type": "stream",
          "name": "stderr",
          "text": [
            "[nltk_data] Downloading package stopwords to /root/nltk_data...\n",
            "[nltk_data]   Unzipping corpora/stopwords.zip.\n"
          ]
        },
        {
          "output_type": "execute_result",
          "data": {
            "text/plain": [
              "True"
            ]
          },
          "metadata": {},
          "execution_count": 2
        }
      ]
    },
    {
      "cell_type": "markdown",
      "source": [
        "###IMPORT THE DATA\n"
      ],
      "metadata": {
        "id": "ZdLIRUXGDl9h"
      }
    },
    {
      "cell_type": "code",
      "source": [
        "drive.mount('/content/drive')"
      ],
      "metadata": {
        "colab": {
          "base_uri": "https://localhost:8080/"
        },
        "id": "gXHj_IifN8gg",
        "outputId": "22009c52-2b2e-4fbd-cb44-54843280ee12"
      },
      "execution_count": null,
      "outputs": [
        {
          "output_type": "stream",
          "name": "stdout",
          "text": [
            "Drive already mounted at /content/drive; to attempt to forcibly remount, call drive.mount(\"/content/drive\", force_remount=True).\n"
          ]
        }
      ]
    },
    {
      "cell_type": "code",
      "source": [
        "train_file = bz2.BZ2File('/content/drive/MyDrive/text_mining/train.ft.txt.bz2')\n",
        "test_file = bz2.BZ2File('/content/drive/MyDrive/text_mining/test.ft.txt.bz2')"
      ],
      "metadata": {
        "id": "HsR5bEViBT9s"
      },
      "execution_count": null,
      "outputs": []
    },
    {
      "cell_type": "code",
      "source": [
        "type(train_file)"
      ],
      "metadata": {
        "colab": {
          "base_uri": "https://localhost:8080/"
        },
        "id": "Gvzz_4ODOKif",
        "outputId": "f11cdaac-213c-42e3-b9bf-495dcc85a54a"
      },
      "execution_count": null,
      "outputs": [
        {
          "output_type": "execute_result",
          "data": {
            "text/plain": [
              "bz2.BZ2File"
            ]
          },
          "metadata": {},
          "execution_count": 5
        }
      ]
    },
    {
      "cell_type": "code",
      "source": [
        "type(test_file)"
      ],
      "metadata": {
        "colab": {
          "base_uri": "https://localhost:8080/"
        },
        "id": "GYvjIYX9OKb-",
        "outputId": "dab34b90-6743-4abb-9afe-a9d73dc3a053"
      },
      "execution_count": null,
      "outputs": [
        {
          "output_type": "execute_result",
          "data": {
            "text/plain": [
              "bz2.BZ2File"
            ]
          },
          "metadata": {},
          "execution_count": 6
        }
      ]
    },
    {
      "cell_type": "code",
      "source": [
        "def load_extract(file):\n",
        "    texts, labels = [], [] \n",
        "    for line in file:\n",
        "        x = line.decode('utf-8')  # decode binary to string\n",
        "        labels.append(int(x[9]) - 1)  # extract labels\n",
        "        texts.append(x[10:].strip())  # extract texts\n",
        "    print('finish')\n",
        "    return np.array(labels), texts\n"
      ],
      "metadata": {
        "id": "Qr04bdvDCM4U"
      },
      "execution_count": null,
      "outputs": []
    },
    {
      "cell_type": "code",
      "source": [
        "train_labels, train_texts = load_extract(train_file)\n",
        "test_labels, test_texts = load_extract(test_file)"
      ],
      "metadata": {
        "colab": {
          "base_uri": "https://localhost:8080/"
        },
        "id": "1BoBJ9-ACS23",
        "outputId": "c0022405-7462-40c9-88a4-acd646a72350"
      },
      "execution_count": null,
      "outputs": [
        {
          "output_type": "stream",
          "name": "stdout",
          "text": [
            "finish\n",
            "finish\n"
          ]
        }
      ]
    },
    {
      "cell_type": "code",
      "source": [
        "train_texts[0]"
      ],
      "metadata": {
        "colab": {
          "base_uri": "https://localhost:8080/",
          "height": 53
        },
        "id": "3xx6sxZrDMjp",
        "outputId": "de75974f-6bc0-4115-8b8b-5d99a7130e54"
      },
      "execution_count": null,
      "outputs": [
        {
          "output_type": "execute_result",
          "data": {
            "text/plain": [
              "'Stuning even for the non-gamer: This sound track was beautiful! It paints the senery in your mind so well I would recomend it even to people who hate vid. game music! I have played the game Chrono Cross but out of all of the games I have ever played it has the best music! It backs away from crude keyboarding and takes a fresher step with grate guitars and soulful orchestras. It would impress anyone who cares to listen! ^_^'"
            ],
            "application/vnd.google.colaboratory.intrinsic+json": {
              "type": "string"
            }
          },
          "metadata": {},
          "execution_count": 9
        }
      ]
    },
    {
      "cell_type": "code",
      "source": [
        "train_labels[0]"
      ],
      "metadata": {
        "colab": {
          "base_uri": "https://localhost:8080/"
        },
        "id": "rDlHEnNvDScs",
        "outputId": "ee18b298-8119-4ab6-aaa3-4d586bef0a7b"
      },
      "execution_count": null,
      "outputs": [
        {
          "output_type": "execute_result",
          "data": {
            "text/plain": [
              "1"
            ]
          },
          "metadata": {},
          "execution_count": 10
        }
      ]
    },
    {
      "cell_type": "markdown",
      "source": [
        "###PRE-PROCESSING"
      ],
      "metadata": {
        "id": "ismImS_IDsrQ"
      }
    },
    {
      "cell_type": "code",
      "source": [
        "def clean_texts(texts):\n",
        "    stwords = stopwords.words('english')\n",
        "    l = len(texts)/10\n",
        "    temp_texts = []\n",
        "    for i in range(len(texts)):\n",
        "        text = re.sub('\\d','0',texts[i])\n",
        "        if 'www.' in text or 'http:' in text or 'https:' in text or '.com' in text: # remove links and urls\n",
        "            text = re.sub(r\"([^ ]+(?<=\\.[a-z]{3}))\", \" \", text)\n",
        "        \n",
        "        text = re.sub('[^a-zA-Z]', ' ', text)\n",
        "        text = text.lower()\n",
        "        text = text.split() #tokenization\n",
        "        text = [word for word in text if not word in stwords]\n",
        "        text = ' '.join(text)\n",
        "        temp_texts.append(text)\n",
        "        if i%l==0:\n",
        "            print('--'+str(int(i/l)*10)+'%', end='')\n",
        "    print('Finishd all')\n",
        "    return temp_texts"
      ],
      "metadata": {
        "id": "TH_w904jDrxx"
      },
      "execution_count": null,
      "outputs": []
    },
    {
      "cell_type": "code",
      "source": [
        "print('Processing Training data')\n",
        "train_texts = clean_texts(train_texts)\n",
        "print('\\nProcessing Test data')\n",
        "test_texts = clean_texts(test_texts)"
      ],
      "metadata": {
        "colab": {
          "base_uri": "https://localhost:8080/"
        },
        "id": "2kRMwdl1EEr2",
        "outputId": "80eddeee-b9a2-4891-824d-9bbd4475d7d2"
      },
      "execution_count": null,
      "outputs": [
        {
          "output_type": "stream",
          "name": "stdout",
          "text": [
            "Processing Training data\n",
            "--0%--10%--20%--30%--40%--50%--60%--70%--80%--90%Finishd all\n",
            "\n",
            "Processing Test data\n",
            "--0%--10%--20%--30%--40%--50%--60%--70%--80%--90%Finishd all\n"
          ]
        }
      ]
    },
    {
      "cell_type": "markdown",
      "source": [
        "###SAVING PREPROCESSED TEXT AND LABELS "
      ],
      "metadata": {
        "id": "BMem0ZX-JW-o"
      }
    },
    {
      "cell_type": "code",
      "source": [
        "#save your model or results\n",
        "#joblib.dump(train_texts, '/content/drive/MyDrive/text_mining/traintext_preprocessed')\n",
        "#joblib.dump(train_labels, '/content/drive/MyDrive/text_mining/train_labels')\n",
        "#joblib.dump(test_texts, '/content/drive/MyDrive/text_mining/testtext_preprocessed')\n",
        "#joblib.dump(test_labels, '/content/drive/MyDrive/text_mining/testlabels')\n"
      ],
      "metadata": {
        "id": "2FVTh_zaIKr1"
      },
      "execution_count": null,
      "outputs": []
    },
    {
      "cell_type": "code",
      "source": [
        "train_T = joblib.load('/content/drive/MyDrive/text_mining/traintext_preprocessed')\n",
        "test_t = joblib.load('/content/drive/MyDrive/text_mining/testtext_preprocessed')\n",
        "\n"
      ],
      "metadata": {
        "id": "GrajRrsVJ7gM"
      },
      "execution_count": null,
      "outputs": []
    },
    {
      "cell_type": "code",
      "source": [
        "len(train_T)"
      ],
      "metadata": {
        "colab": {
          "base_uri": "https://localhost:8080/"
        },
        "id": "uTQmo5ahj9AH",
        "outputId": "5e1b4bab-09e0-43e0-ae3c-555fdf5e9f82"
      },
      "execution_count": null,
      "outputs": [
        {
          "output_type": "execute_result",
          "data": {
            "text/plain": [
              "3600000"
            ]
          },
          "metadata": {},
          "execution_count": 5
        }
      ]
    },
    {
      "cell_type": "code",
      "source": [
        "train_T[1], train_L[1]"
      ],
      "metadata": {
        "colab": {
          "base_uri": "https://localhost:8080/"
        },
        "id": "pcJaJUzMxAc-",
        "outputId": "33d40c1e-92e7-42eb-f867-b6b5517525ca"
      },
      "execution_count": null,
      "outputs": [
        {
          "output_type": "execute_result",
          "data": {
            "text/plain": [
              "('best soundtrack ever anything reading lot reviews saying best game soundtrack figured write review disagree bit opinino yasunori mitsuda ultimate masterpiece music timeless listening years beauty simply refuses fade price tag pretty staggering must say going buy cd much money one feel would worth every penny',\n",
              " 1)"
            ]
          },
          "metadata": {},
          "execution_count": 9
        }
      ]
    },
    {
      "cell_type": "code",
      "source": [
        "len(test_t)"
      ],
      "metadata": {
        "colab": {
          "base_uri": "https://localhost:8080/"
        },
        "id": "JGZ6y6LqkMPr",
        "outputId": "e80845d3-39f4-461f-d63a-df0b05738441"
      },
      "execution_count": null,
      "outputs": [
        {
          "output_type": "execute_result",
          "data": {
            "text/plain": [
              "400000"
            ]
          },
          "metadata": {},
          "execution_count": 6
        }
      ]
    },
    {
      "cell_type": "code",
      "source": [
        "train_L = joblib.load('/content/drive/MyDrive/text_mining/train_labels')\n",
        "test_l = joblib.load('/content/drive/MyDrive/text_mining/testlabels')"
      ],
      "metadata": {
        "id": "4ITl_-RAl9Bp"
      },
      "execution_count": null,
      "outputs": []
    },
    {
      "cell_type": "code",
      "source": [
        "train_T[0]"
      ],
      "metadata": {
        "colab": {
          "base_uri": "https://localhost:8080/",
          "height": 55
        },
        "id": "JfP8QPyrKTNo",
        "outputId": "cf5c1997-634c-4904-867a-42a29a5d202d"
      },
      "execution_count": null,
      "outputs": [
        {
          "output_type": "execute_result",
          "data": {
            "text/plain": [
              "'stuning even non gamer sound track beautiful paints senery mind well would recomend even people hate vid game music played game chrono cross games ever played best music backs away crude keyboarding takes fresher step grate guitars soulful orchestras would impress anyone cares listen'"
            ],
            "application/vnd.google.colaboratory.intrinsic+json": {
              "type": "string"
            }
          },
          "metadata": {},
          "execution_count": 10
        }
      ]
    },
    {
      "cell_type": "code",
      "source": [
        "train_L[0]"
      ],
      "metadata": {
        "colab": {
          "base_uri": "https://localhost:8080/"
        },
        "id": "B4I4_evfKIRG",
        "outputId": "f1330c00-130e-4ee1-bffa-647379d546af"
      },
      "execution_count": null,
      "outputs": [
        {
          "output_type": "execute_result",
          "data": {
            "text/plain": [
              "1"
            ]
          },
          "metadata": {},
          "execution_count": 11
        }
      ]
    },
    {
      "cell_type": "markdown",
      "source": [
        "###SAMPLING DATA\n"
      ],
      "metadata": {
        "id": "7GBQDhMPpjXF"
      }
    },
    {
      "cell_type": "code",
      "source": [
        "train_t, _, train_l, _ = train_test_split(train_T, train_L, test_size=0.98, random_state = 42, shuffle = True, stratify = train_L) #reduce train dimensionality without imbalance classes"
      ],
      "metadata": {
        "id": "G2OYjQFopm-O"
      },
      "execution_count": null,
      "outputs": []
    },
    {
      "cell_type": "code",
      "source": [
        "train_text, test_text , train_labels, test_labels = train_test_split(train_t, train_l, test_size=0.3, random_state = 42, shuffle = True, stratify = train_l) #splitting the sampling of the original into train and test "
      ],
      "metadata": {
        "id": "RA3zSvI4apf1"
      },
      "execution_count": null,
      "outputs": []
    },
    {
      "cell_type": "markdown",
      "source": [
        "####SAVE SAMPLED DATA\n"
      ],
      "metadata": {
        "id": "Aj70fCTUvhMA"
      }
    },
    {
      "cell_type": "code",
      "source": [
        "#joblib.dump(train_text, '/content/drive/MyDrive/text_mining/traintext_preprocessed_sampled')\n",
        "#joblib.dump(train_labels, '/content/drive/MyDrive/text_mining/trainlabels_preprocessed_sampled')\n",
        "#joblib.dump(test_text, '/content/drive/MyDrive/text_mining/testtext_preprocessed_sampled')\n",
        "#joblib.dump(test_labels, '/content/drive/MyDrive/text_mining/testlabels_preprocessed_sampled')\n"
      ],
      "metadata": {
        "colab": {
          "base_uri": "https://localhost:8080/"
        },
        "id": "nh3hFpm9vkVC",
        "outputId": "4f06ac5e-8b8a-440b-9f46-4eabb561db62"
      },
      "execution_count": null,
      "outputs": [
        {
          "output_type": "execute_result",
          "data": {
            "text/plain": [
              "['/content/drive/MyDrive/text_mining/testlabels_preprocessed_sampled']"
            ]
          },
          "metadata": {},
          "execution_count": 41
        }
      ]
    },
    {
      "cell_type": "code",
      "source": [
        "train_text = joblib.load('/content/drive/MyDrive/text_mining/traintext_preprocessed_sampled')\n",
        "test_text = joblib.load('/content/drive/MyDrive/text_mining/testtext_preprocessed_sampled')"
      ],
      "metadata": {
        "id": "pjfN2qxfv3g9"
      },
      "execution_count": null,
      "outputs": []
    },
    {
      "cell_type": "code",
      "source": [
        "train_labels = joblib.load('/content/drive/MyDrive/text_mining/trainlabels_preprocessed_sampled')\n",
        "test_labels = joblib.load('/content/drive/MyDrive/text_mining/testlabels_preprocessed_sampled')"
      ],
      "metadata": {
        "id": "6n00aM5UvE2s"
      },
      "execution_count": null,
      "outputs": []
    },
    {
      "cell_type": "markdown",
      "source": [
        "###EXPLORATORY DATA ANALYSIS \n"
      ],
      "metadata": {
        "id": "TQwnhhkSLk7G"
      }
    },
    {
      "cell_type": "code",
      "source": [
        "sns.countplot(x=train_labels)"
      ],
      "metadata": {
        "colab": {
          "base_uri": "https://localhost:8080/",
          "height": 283
        },
        "id": "_LvaAJOjLrF1",
        "outputId": "a597b46f-4cbc-4a82-ad9e-474ca5f598d5"
      },
      "execution_count": null,
      "outputs": [
        {
          "output_type": "execute_result",
          "data": {
            "text/plain": [
              "<matplotlib.axes._subplots.AxesSubplot at 0x7fa2a64cd190>"
            ]
          },
          "metadata": {},
          "execution_count": 4
        },
        {
          "output_type": "display_data",
          "data": {
            "text/plain": [
              "<Figure size 432x288 with 1 Axes>"
            ],
            "image/png": "[encoded data removed]"
          },
          "metadata": {
            "needs_background": "light"
          }
        }
      ]
    },
    {
      "cell_type": "markdown",
      "source": [],
      "metadata": {
        "id": "SbxcnF-GZwz8"
      }
    },
    {
      "cell_type": "code",
      "source": [
        "train_labels.size"
      ],
      "metadata": {
        "colab": {
          "base_uri": "https://localhost:8080/"
        },
        "id": "CWI8iR_iuphW",
        "outputId": "eea28c41-0f6f-426d-fdef-348640135ead"
      },
      "execution_count": null,
      "outputs": [
        {
          "output_type": "execute_result",
          "data": {
            "text/plain": [
              "50400"
            ]
          },
          "metadata": {},
          "execution_count": 5
        }
      ]
    },
    {
      "cell_type": "code",
      "source": [
        "sns.countplot(x=test_labels)"
      ],
      "metadata": {
        "colab": {
          "base_uri": "https://localhost:8080/",
          "height": 283
        },
        "id": "pZjvIsN1ZzcZ",
        "outputId": "6926331f-2ae7-4011-c6f1-6194c2bba2e5"
      },
      "execution_count": null,
      "outputs": [
        {
          "output_type": "execute_result",
          "data": {
            "text/plain": [
              "<matplotlib.axes._subplots.AxesSubplot at 0x7fa2a5eb5520>"
            ]
          },
          "metadata": {},
          "execution_count": 6
        },
        {
          "output_type": "display_data",
          "data": {
            "text/plain": [
              "<Figure size 432x288 with 1 Axes>"
            ],
            "image/png": "[encoded data removed]"
          },
          "metadata": {
            "needs_background": "light"
          }
        }
      ]
    },
    {
      "cell_type": "code",
      "source": [
        "test_labels.size"
      ],
      "metadata": {
        "colab": {
          "base_uri": "https://localhost:8080/"
        },
        "id": "yy-1S2W5Z43a",
        "outputId": "03b4e748-9a9f-4e37-e1db-27edeffeaa74"
      },
      "execution_count": null,
      "outputs": [
        {
          "output_type": "execute_result",
          "data": {
            "text/plain": [
              "21600"
            ]
          },
          "metadata": {},
          "execution_count": 7
        }
      ]
    },
    {
      "cell_type": "code",
      "source": [
        "count_z = (train_labels == 0).sum()\n",
        "count_o = (train_labels == 1).sum()\n",
        "\n",
        "print('0 occurences in train labels: ', count_z)\n",
        "print('1 occurences in train labels: ', count_o)\n",
        "\n"
      ],
      "metadata": {
        "colab": {
          "base_uri": "https://localhost:8080/"
        },
        "id": "3KIyuhrpM1Ms",
        "outputId": "f673f8c8-cea2-4c1a-eb17-86ee06ba6779"
      },
      "execution_count": null,
      "outputs": [
        {
          "output_type": "stream",
          "name": "stdout",
          "text": [
            "0 occurences in train labels:  25200\n",
            "1 occurences in train labels:  25200\n"
          ]
        }
      ]
    },
    {
      "cell_type": "markdown",
      "source": [
        "The data are perfectly balanced"
      ],
      "metadata": {
        "id": "cOhuBUxVPFhU"
      }
    },
    {
      "cell_type": "code",
      "source": [
        "len(train_text)"
      ],
      "metadata": {
        "colab": {
          "base_uri": "https://localhost:8080/"
        },
        "id": "_tCXQsEOu4p_",
        "outputId": "5a73d37c-edf8-492e-b4d2-e9fc51ced9cc"
      },
      "execution_count": null,
      "outputs": [
        {
          "output_type": "execute_result",
          "data": {
            "text/plain": [
              "50400"
            ]
          },
          "metadata": {},
          "execution_count": 9
        }
      ]
    },
    {
      "cell_type": "code",
      "source": [
        "train_text[1], train_labels[1]"
      ],
      "metadata": {
        "colab": {
          "base_uri": "https://localhost:8080/"
        },
        "id": "EzWIoOceewD2",
        "outputId": "8c789e32-2d3f-401b-c9e9-b104d9bcca61"
      },
      "execution_count": null,
      "outputs": [
        {
          "output_type": "execute_result",
          "data": {
            "text/plain": [
              "('good beginning careful effective thought might good idea post warning instance exercise create empower astral entity take attributes one shortcomings could extremely dangerous experience much difficult banish energy form trouble many magicians working forces cannot see distinct disadvantage forces decide take advantage suggest magical student practice protection intuitive techniques performing entity creating invoking exercises accomplished magician protection need also recommended hands light barbara brennan way shaman michael harner excellent beginning perceive work subtle energies shamanic work root magical practices',\n",
              " 1)"
            ]
          },
          "metadata": {},
          "execution_count": 10
        }
      ]
    },
    {
      "cell_type": "code",
      "source": [
        "test_text[1], test_labels[1]"
      ],
      "metadata": {
        "colab": {
          "base_uri": "https://localhost:8080/"
        },
        "id": "Ubfm-xkMe4po",
        "outputId": "b8e43d8a-216b-4d93-ba56-ac0a6358c98e"
      },
      "execution_count": null,
      "outputs": [
        {
          "output_type": "execute_result",
          "data": {
            "text/plain": [
              "('julie garwood still one fav authors series reviewed another look book reviewsif first time considering julie garwood book pass select one historicals generally star reviews book admit disappointed adam story maybe disappointed strong word genevieve drove nuts really stand nonsense seemed smart brave one moment plain stupid next nothing hate stupid heroine makes stupid decisions storyline one red rose draw fact made decision read next book series awhile rose books grabbed way julie garwood books usually memorize sure fallen love series clayborne men outstanding feel series',\n",
              " 0)"
            ]
          },
          "metadata": {},
          "execution_count": 11
        }
      ]
    },
    {
      "cell_type": "markdown",
      "source": [
        "###TEXT RAPRESENTATION"
      ],
      "metadata": {
        "id": "ovOYkrwuQyw0"
      }
    },
    {
      "cell_type": "markdown",
      "source": [
        "####tf-idf"
      ],
      "metadata": {
        "id": "LSWWPN6nTOYj"
      }
    },
    {
      "cell_type": "code",
      "source": [
        "tfidf_vect = TfidfVectorizer(min_df=5, max_features=500)\n",
        "X_train_tfidf = tfidf_vect.fit_transform(train_text)"
      ],
      "metadata": {
        "id": "acPSKDlHQ-U0"
      },
      "execution_count": null,
      "outputs": []
    },
    {
      "cell_type": "code",
      "source": [
        "X_train_tfidf.shape"
      ],
      "metadata": {
        "colab": {
          "base_uri": "https://localhost:8080/"
        },
        "id": "qR-7JcQRTv-7",
        "outputId": "60422292-3d63-4b61-ec39-786e33d1f94b"
      },
      "execution_count": null,
      "outputs": [
        {
          "output_type": "execute_result",
          "data": {
            "text/plain": [
              "(50400, 500)"
            ]
          },
          "metadata": {},
          "execution_count": 14
        }
      ]
    },
    {
      "cell_type": "code",
      "source": [
        "X_test_tfidf = tfidf_vect.transform(test_text)"
      ],
      "metadata": {
        "id": "JhcJHU7ST-O6"
      },
      "execution_count": null,
      "outputs": []
    },
    {
      "cell_type": "code",
      "source": [
        "X_test_tfidf.shape"
      ],
      "metadata": {
        "colab": {
          "base_uri": "https://localhost:8080/"
        },
        "id": "EvjOJ2SjUOZe",
        "outputId": "25e3bb08-563a-4b01-8ebd-4e9a7a55f7a2"
      },
      "execution_count": null,
      "outputs": [
        {
          "output_type": "execute_result",
          "data": {
            "text/plain": [
              "(21600, 500)"
            ]
          },
          "metadata": {},
          "execution_count": 25
        }
      ]
    },
    {
      "cell_type": "markdown",
      "source": [
        "####doc2vec"
      ],
      "metadata": {
        "id": "X7MRipe_TW3m"
      }
    },
    {
      "cell_type": "code",
      "source": [
        "# Uniamo le due liste di recensioni\n",
        "all_text = train_text + test_text"
      ],
      "metadata": {
        "id": "5yrgtILNZhUO"
      },
      "execution_count": null,
      "outputs": []
    },
    {
      "cell_type": "code",
      "source": [
        "# Mischiamo le recensioni\n",
        "random.shuffle(all_text)"
      ],
      "metadata": {
        "id": "lo0B_5YIZqRp"
      },
      "execution_count": null,
      "outputs": []
    },
    {
      "cell_type": "code",
      "source": [
        "tagged_reviews = [TaggedDocument(words=review.split(), tags=[str(i)]) for i, review in enumerate(all_text)]"
      ],
      "metadata": {
        "id": "07XAnIHZV3V_"
      },
      "execution_count": null,
      "outputs": []
    },
    {
      "cell_type": "code",
      "source": [
        "d2v = Doc2Vec(tagged_reviews, vector_size=100, window=5, min_count=2, workers=4)"
      ],
      "metadata": {
        "id": "oRWtYVn_WyRW"
      },
      "execution_count": null,
      "outputs": []
    },
    {
      "cell_type": "code",
      "source": [
        "# generare gli embedding per i dati di valutazione\n",
        "X_test_d2v = [d2v.infer_vector(review.split()) for review in test_text]"
      ],
      "metadata": {
        "id": "INAEJ3l6XTr4"
      },
      "execution_count": null,
      "outputs": []
    },
    {
      "cell_type": "code",
      "source": [
        "X_train_d2v = [d2v.infer_vector(review.split()) for review in train_text]"
      ],
      "metadata": {
        "id": "-nBAPuTwZ0ct"
      },
      "execution_count": null,
      "outputs": []
    },
    {
      "cell_type": "markdown",
      "source": [
        "####LOAD OF TF IDF"
      ],
      "metadata": {
        "id": "UKrgXjE2eko_"
      }
    },
    {
      "cell_type": "code",
      "source": [
        "#sparse.save_npz(\"/content/drive/MyDrive/text_mining/train_preprocessed_tfidf.npz\",X_train_tfidf)\n",
        "#sparse.save_npz(\"/content/drive/MyDrive/text_mining/test_preprocessed_tfidf.npz\",X_test_tfidf)"
      ],
      "metadata": {
        "id": "2wdxM_k4dRWU"
      },
      "execution_count": null,
      "outputs": []
    },
    {
      "cell_type": "code",
      "source": [
        "X_train_tfidf = sparse.load_npz(\"/content/drive/MyDrive/text_mining/train_preprocessed_tfidf.npz\")\n",
        "X_test_tfidf = sparse.load_npz(\"/content/drive/MyDrive/text_mining/test_preprocessed_tfidf.npz\")"
      ],
      "metadata": {
        "id": "ARrcVTl-eLG3"
      },
      "execution_count": null,
      "outputs": []
    },
    {
      "cell_type": "markdown",
      "source": [
        "####LOAD OF DOC2VEC"
      ],
      "metadata": {
        "id": "KUh6T9GoYHpm"
      }
    },
    {
      "cell_type": "code",
      "source": [
        "#with open(\"/content/drive/MyDrive/text_mining/train_preprocessed_d2v.pickle\", 'wb') as handle:\n",
        "    #pickle.dump(X_train_d2v, handle, protocol=pickle.HIGHEST_PROTOCOL)"
      ],
      "metadata": {
        "id": "ovV0PWgdbf0h"
      },
      "execution_count": null,
      "outputs": []
    },
    {
      "cell_type": "code",
      "source": [
        "#with open(\"/content/drive/MyDrive/text_mining/test_preprocessed_d2v.pickle\", 'wb') as handle:\n",
        "    #pickle.dump(X_test_d2v, handle, protocol=pickle.HIGHEST_PROTOCOL)"
      ],
      "metadata": {
        "id": "yEb38geLbyPx"
      },
      "execution_count": null,
      "outputs": []
    },
    {
      "cell_type": "code",
      "source": [
        "# Load train data\n",
        "with open('/content/drive/MyDrive/text_mining/train_preprocessed_d2v.pickle', 'rb') as handle:\n",
        "    X_train_d2v = pickle.load(handle)\n",
        "\n",
        "# Load test data\n",
        "with open('/content/drive/MyDrive/text_mining/test_preprocessed_d2v.pickle', 'rb') as handle:\n",
        "    X_test_d2v = pickle.load(handle)"
      ],
      "metadata": {
        "id": "s1n40ymRb6Vg"
      },
      "execution_count": null,
      "outputs": []
    },
    {
      "cell_type": "markdown",
      "source": [
        "###TEXT CLASSIFICATION"
      ],
      "metadata": {
        "id": "uBL36ndQUZwp"
      }
    },
    {
      "cell_type": "code",
      "source": [
        "def score_model(clf, X_train, X_test, y_train, y_test):\n",
        "    train_score = clf.score(X_train, y_train) # Train Accuracy\n",
        "    test_score = clf.score(X_test, y_test)    # Test Accuracy\n",
        "\n",
        "    predictions = clf.predict(X_test)\n",
        "\n",
        "    prec = precision_score(y_test, predictions)\n",
        "    rec = recall_score(y_test, predictions)\n",
        "    f1 = f1_score(y_test, predictions) # F1\n",
        "    f2 = fbeta_score(y_test, predictions, beta=2) # F2\n",
        "    cm = confusion_matrix(y_test, predictions)\n",
        "    scores_strings = [\"Train Accuracy\", \"Test Accuracy\", \"Test Precision\",\n",
        "                      \"Test Recall\", \"Test F1\", \"Test F2\"]\n",
        "\n",
        "    scores = [train_score, test_score, prec, rec, f1, f2]\n",
        "\n",
        "    print((\"{:20s} {:.5f}\\n\"*6)[:-1].format(*itertools.chain(*zip(scores_strings, scores))))\n",
        "    print(\"Classification report:\")\n",
        "    print(classification_report(y_test, predictions, digits=5))"
      ],
      "metadata": {
        "id": "JICaZZYtVxT8"
      },
      "execution_count": null,
      "outputs": []
    },
    {
      "cell_type": "markdown",
      "source": [
        "####TF-IDF"
      ],
      "metadata": {
        "id": "H0s1qCXUYgsP"
      }
    },
    {
      "cell_type": "markdown",
      "source": [
        "#####Logistic Regression"
      ],
      "metadata": {
        "id": "Bq6w0aIMcAEc"
      }
    },
    {
      "cell_type": "code",
      "source": [
        "lr = LogisticRegression(n_jobs=-1, max_iter=150)\n",
        "lr.fit(X_train_tfidf, train_labels)"
      ],
      "metadata": {
        "colab": {
          "base_uri": "https://localhost:8080/"
        },
        "id": "HV-p5MeYcMTh",
        "outputId": "091a6844-fd25-412a-f37c-c2f099e609c9"
      },
      "execution_count": null,
      "outputs": [
        {
          "output_type": "execute_result",
          "data": {
            "text/plain": [
              "LogisticRegression(max_iter=150, n_jobs=-1)"
            ]
          },
          "metadata": {},
          "execution_count": 37
        }
      ]
    },
    {
      "cell_type": "code",
      "source": [
        "y_pred_lr = lr.predict(X_test_tfidf)"
      ],
      "metadata": {
        "id": "dTiAC_AecVaC"
      },
      "execution_count": null,
      "outputs": []
    },
    {
      "cell_type": "code",
      "source": [
        "score_model(lr, X_train_tfidf, X_test_tfidf, train_labels, test_labels)"
      ],
      "metadata": {
        "colab": {
          "base_uri": "https://localhost:8080/"
        },
        "id": "QEU66_Ppcoxj",
        "outputId": "a2a98e0d-c402-4039-9d91-2cf7e9f4d8bf"
      },
      "execution_count": null,
      "outputs": [
        {
          "output_type": "stream",
          "name": "stdout",
          "text": [
            "Train Accuracy       0.84083\n",
            "Test Accuracy        0.83375\n",
            "Test Precision       0.83465\n",
            "Test Recall          0.83241\n",
            "Test F1              0.83353\n",
            "Test F2              0.83285\n",
            "Classification report:\n",
            "              precision    recall  f1-score   support\n",
            "\n",
            "           0    0.83286   0.83509   0.83397     10800\n",
            "           1    0.83465   0.83241   0.83353     10800\n",
            "\n",
            "    accuracy                        0.83375     21600\n",
            "   macro avg    0.83375   0.83375   0.83375     21600\n",
            "weighted avg    0.83375   0.83375   0.83375     21600\n",
            "\n"
          ]
        }
      ]
    },
    {
      "cell_type": "markdown",
      "source": [
        "#####Support Vector Machine (Best model for tf-idf text rapresentation)"
      ],
      "metadata": {
        "id": "nX3G0B8Qd4bk"
      }
    },
    {
      "cell_type": "code",
      "source": [
        "svm = SVC(kernel='linear')"
      ],
      "metadata": {
        "id": "LJ9pLr-cec7d"
      },
      "execution_count": null,
      "outputs": []
    },
    {
      "cell_type": "code",
      "source": [
        "svm.fit(X_train_tfidf, train_labels) #troppo oneroso 8 ore per il training prima di crashare"
      ],
      "metadata": {
        "id": "czIpP2ZSegp-",
        "colab": {
          "base_uri": "https://localhost:8080/"
        },
        "outputId": "da57bde0-a5b2-4eec-d38e-01adf4eb74d2"
      },
      "execution_count": null,
      "outputs": [
        {
          "output_type": "execute_result",
          "data": {
            "text/plain": [
              "SVC(kernel='linear')"
            ]
          },
          "metadata": {},
          "execution_count": 69
        }
      ]
    },
    {
      "cell_type": "code",
      "source": [
        "y_pred_best_tfidf = svm.predict(X_test_tfidf)"
      ],
      "metadata": {
        "id": "0FWvjVldepw0"
      },
      "execution_count": null,
      "outputs": []
    },
    {
      "cell_type": "code",
      "source": [
        "len(y_pred_best_tfidf)"
      ],
      "metadata": {
        "colab": {
          "base_uri": "https://localhost:8080/"
        },
        "id": "iYwFA9D4rYkl",
        "outputId": "4f1992db-3e88-4912-fe44-0d19065db152"
      },
      "execution_count": null,
      "outputs": [
        {
          "output_type": "execute_result",
          "data": {
            "text/plain": [
              "21600"
            ]
          },
          "metadata": {},
          "execution_count": 80
        }
      ]
    },
    {
      "cell_type": "code",
      "source": [
        "score_model(svm, X_train_tfidf, X_test_tfidf, train_labels, test_labels)"
      ],
      "metadata": {
        "colab": {
          "base_uri": "https://localhost:8080/"
        },
        "id": "vK1QsqBKhmsW",
        "outputId": "ff7dba87-5251-4933-95c0-4c3841ec929b"
      },
      "execution_count": null,
      "outputs": [
        {
          "output_type": "stream",
          "name": "stdout",
          "text": [
            "Train Accuracy       0.84113\n",
            "Test Accuracy        0.83486\n",
            "Test Precision       0.83834\n",
            "Test Recall          0.82972\n",
            "Test F1              0.83401\n",
            "Test F2              0.83143\n",
            "Classification report:\n",
            "              precision    recall  f1-score   support\n",
            "\n",
            "           0    0.83145   0.84000   0.83571     10800\n",
            "           1    0.83834   0.82972   0.83401     10800\n",
            "\n",
            "    accuracy                        0.83486     21600\n",
            "   macro avg    0.83490   0.83486   0.83486     21600\n",
            "weighted avg    0.83490   0.83486   0.83486     21600\n",
            "\n"
          ]
        }
      ]
    },
    {
      "cell_type": "markdown",
      "source": [
        "#####RANDOM FOREST"
      ],
      "metadata": {
        "id": "TVa8KdylttWw"
      }
    },
    {
      "cell_type": "code",
      "source": [
        "rf = RandomForestClassifier(n_estimators = 72,max_depth = 20, n_jobs=-1, random_state = 0)"
      ],
      "metadata": {
        "id": "eDY64EV7t62h"
      },
      "execution_count": null,
      "outputs": []
    },
    {
      "cell_type": "code",
      "source": [
        "rf.fit(X_train_tfidf, train_labels)"
      ],
      "metadata": {
        "colab": {
          "base_uri": "https://localhost:8080/"
        },
        "id": "nIl7RRUKuEpS",
        "outputId": "d2a70fe0-7781-48a0-8e79-8d421d3f11a4"
      },
      "execution_count": null,
      "outputs": [
        {
          "output_type": "execute_result",
          "data": {
            "text/plain": [
              "RandomForestClassifier(max_depth=20, n_estimators=72, n_jobs=-1, random_state=0)"
            ]
          },
          "metadata": {},
          "execution_count": 62
        }
      ]
    },
    {
      "cell_type": "code",
      "source": [
        "y_pred_rf = rf.predict(X_test_tfidf)"
      ],
      "metadata": {
        "id": "P4-kHrJfuMhx"
      },
      "execution_count": null,
      "outputs": []
    },
    {
      "cell_type": "code",
      "source": [
        "score_model(rf, X_train_tfidf, X_test_tfidf, train_labels, test_labels) "
      ],
      "metadata": {
        "colab": {
          "base_uri": "https://localhost:8080/"
        },
        "id": "H6AD7r0juPos",
        "outputId": "ecc5003d-8546-4aac-e534-285f41f46672"
      },
      "execution_count": null,
      "outputs": [
        {
          "output_type": "stream",
          "name": "stdout",
          "text": [
            "Train Accuracy       0.85405\n",
            "Test Accuracy        0.80282\n",
            "Test Precision       0.81228\n",
            "Test Recall          0.78769\n",
            "Test F1              0.79979\n",
            "Test F2              0.79248\n",
            "Classification report:\n",
            "              precision    recall  f1-score   support\n",
            "\n",
            "           0    0.79392   0.81796   0.80576     10800\n",
            "           1    0.81228   0.78769   0.79979     10800\n",
            "\n",
            "    accuracy                        0.80282     21600\n",
            "   macro avg    0.80310   0.80282   0.80278     21600\n",
            "weighted avg    0.80310   0.80282   0.80278     21600\n",
            "\n"
          ]
        }
      ]
    },
    {
      "cell_type": "markdown",
      "source": [
        "#####NEURAL NETWORK\n"
      ],
      "metadata": {
        "id": "MCDbybo9mUwn"
      }
    },
    {
      "cell_type": "code",
      "source": [
        "np.random.seed(1337)\n",
        "nb_classes = 20\n",
        "batch_size = 128\n",
        "nb_epochs = 5"
      ],
      "metadata": {
        "id": "tjkv223rnBBn"
      },
      "execution_count": null,
      "outputs": []
    },
    {
      "cell_type": "code",
      "source": [
        "X = X_train_tfidf.astype('float16')"
      ],
      "metadata": {
        "id": "eG-8yXC0yYuV"
      },
      "execution_count": null,
      "outputs": []
    },
    {
      "cell_type": "code",
      "source": [
        "X_test = X_test_tfidf.astype('float16')"
      ],
      "metadata": {
        "id": "Pph7SXiMzTF8"
      },
      "execution_count": null,
      "outputs": []
    },
    {
      "cell_type": "code",
      "source": [
        "def build_model():\n",
        "    model = Sequential()\n",
        "    model.add(Dense(256, input_dim=500, activation='relu'))\n",
        "    model.add(Dropout(0.3))\n",
        "    model.add(Dense(200, activation='relu'))\n",
        "    model.add(Dropout(0.3))\n",
        "    model.add(Dense(160, activation='relu'))\n",
        "    model.add(Dropout(0.3))\n",
        "    model.add(Dense(120, activation='relu'))\n",
        "    model.add(Dropout(0.3))\n",
        "    model.add(Dense(80, activation='relu'))\n",
        "    model.add(Dropout(0.3))\n",
        "    model.add(Dense(1, activation='sigmoid'))\n",
        "    model.compile(loss='binary_crossentropy', optimizer='adam', metrics=['accuracy'])\n",
        "    model.summary()\n",
        "    return model"
      ],
      "metadata": {
        "id": "bGWjOWpcnsde"
      },
      "execution_count": null,
      "outputs": []
    },
    {
      "cell_type": "code",
      "source": [
        "from keras.wrappers.scikit_learn import KerasClassifier\n",
        "estimator = KerasClassifier(build_fn=build_model, epochs=15, batch_size=128)"
      ],
      "metadata": {
        "colab": {
          "base_uri": "https://localhost:8080/"
        },
        "id": "pM7pjIx7wXSS",
        "outputId": "04c33c5b-aa42-41ff-befc-f028c7ee9e05"
      },
      "execution_count": null,
      "outputs": [
        {
          "output_type": "stream",
          "name": "stderr",
          "text": [
            "<ipython-input-15-87a684a0c8a4>:2: DeprecationWarning: KerasClassifier is deprecated, use Sci-Keras (https://github.com/adriangb/scikeras) instead. See https://www.adriangb.com/scikeras/stable/migration.html for help migrating.\n",
            "  estimator = KerasClassifier(build_fn=build_model, epochs=15, batch_size=128)\n"
          ]
        }
      ]
    },
    {
      "cell_type": "code",
      "source": [
        "estimator.fit(X, train_labels)"
      ],
      "metadata": {
        "colab": {
          "base_uri": "https://localhost:8080/"
        },
        "id": "s2UV1c8PoGuA",
        "outputId": "7d327c38-9325-48fe-e8d9-f09b76aca374"
      },
      "execution_count": null,
      "outputs": [
        {
          "output_type": "stream",
          "name": "stdout",
          "text": [
            "Model: \"sequential\"\n",
            "_________________________________________________________________\n",
            " Layer (type)                Output Shape              Param #   \n",
            "=================================================================\n",
            " dense (Dense)               (None, 256)               128256    \n",
            "                                                                 \n",
            " dropout (Dropout)           (None, 256)               0         \n",
            "                                                                 \n",
            " dense_1 (Dense)             (None, 200)               51400     \n",
            "                                                                 \n",
            " dropout_1 (Dropout)         (None, 200)               0         \n",
            "                                                                 \n",
            " dense_2 (Dense)             (None, 160)               32160     \n",
            "                                                                 \n",
            " dropout_2 (Dropout)         (None, 160)               0         \n",
            "                                                                 \n",
            " dense_3 (Dense)             (None, 120)               19320     \n",
            "                                                                 \n",
            " dropout_3 (Dropout)         (None, 120)               0         \n",
            "                                                                 \n",
            " dense_4 (Dense)             (None, 80)                9680      \n",
            "                                                                 \n",
            " dropout_4 (Dropout)         (None, 80)                0         \n",
            "                                                                 \n",
            " dense_5 (Dense)             (None, 1)                 81        \n",
            "                                                                 \n",
            "=================================================================\n",
            "Total params: 240,897\n",
            "Trainable params: 240,897\n",
            "Non-trainable params: 0\n",
            "_________________________________________________________________\n",
            "Epoch 1/15\n"
          ]
        },
        {
          "output_type": "stream",
          "name": "stderr",
          "text": [
            "/usr/local/lib/python3.8/dist-packages/tensorflow/python/framework/indexed_slices.py:444: UserWarning: Converting sparse IndexedSlices(IndexedSlices(indices=Tensor(\"gradient_tape/sequential/dense/embedding_lookup_sparse/Reshape_1:0\", shape=(None,), dtype=int32), values=Tensor(\"gradient_tape/sequential/dense/embedding_lookup_sparse/Reshape:0\", shape=(None, 256), dtype=float32), dense_shape=Tensor(\"gradient_tape/sequential/dense/embedding_lookup_sparse/Cast:0\", shape=(2,), dtype=int32))) to a dense Tensor of unknown shape. This may consume a large amount of memory.\n",
            "  warnings.warn(\n"
          ]
        },
        {
          "output_type": "stream",
          "name": "stdout",
          "text": [
            "394/394 [==============================] - 7s 13ms/step - loss: 0.4418 - accuracy: 0.7847\n",
            "Epoch 2/15\n",
            "394/394 [==============================] - 5s 13ms/step - loss: 0.3663 - accuracy: 0.8398\n",
            "Epoch 3/15\n",
            "394/394 [==============================] - 5s 13ms/step - loss: 0.3394 - accuracy: 0.8534\n",
            "Epoch 4/15\n",
            "394/394 [==============================] - 5s 13ms/step - loss: 0.3067 - accuracy: 0.8720\n",
            "Epoch 5/15\n",
            "394/394 [==============================] - 5s 13ms/step - loss: 0.2652 - accuracy: 0.8908\n",
            "Epoch 6/15\n",
            "394/394 [==============================] - 5s 13ms/step - loss: 0.2215 - accuracy: 0.9107\n",
            "Epoch 7/15\n",
            "394/394 [==============================] - 6s 14ms/step - loss: 0.1886 - accuracy: 0.9249\n",
            "Epoch 8/15\n",
            "394/394 [==============================] - 6s 14ms/step - loss: 0.1581 - accuracy: 0.9382\n",
            "Epoch 9/15\n",
            "394/394 [==============================] - 5s 14ms/step - loss: 0.1379 - accuracy: 0.9460\n",
            "Epoch 10/15\n",
            "394/394 [==============================] - 5s 13ms/step - loss: 0.1188 - accuracy: 0.9537\n",
            "Epoch 11/15\n",
            "394/394 [==============================] - 5s 13ms/step - loss: 0.1066 - accuracy: 0.9592\n",
            "Epoch 12/15\n",
            "394/394 [==============================] - 5s 13ms/step - loss: 0.0954 - accuracy: 0.9626\n",
            "Epoch 13/15\n",
            "394/394 [==============================] - 5s 13ms/step - loss: 0.0878 - accuracy: 0.9661\n",
            "Epoch 14/15\n",
            "394/394 [==============================] - 5s 13ms/step - loss: 0.0818 - accuracy: 0.9697\n",
            "Epoch 15/15\n",
            "394/394 [==============================] - 7s 17ms/step - loss: 0.0773 - accuracy: 0.9709\n"
          ]
        },
        {
          "output_type": "execute_result",
          "data": {
            "text/plain": [
              "<keras.callbacks.History at 0x7f1ac5941f40>"
            ]
          },
          "metadata": {},
          "execution_count": 16
        }
      ]
    },
    {
      "cell_type": "code",
      "source": [
        "score_model(estimator, X, X_test, train_labels, test_labels) "
      ],
      "metadata": {
        "colab": {
          "base_uri": "https://localhost:8080/"
        },
        "id": "5aAW_gLBwoB_",
        "outputId": "4417c335-0de8-4668-8e1e-04fe35be6937"
      },
      "execution_count": null,
      "outputs": [
        {
          "output_type": "stream",
          "name": "stdout",
          "text": [
            "394/394 [==============================] - 2s 5ms/step - loss: 0.0166 - accuracy: 0.9966\n",
            "169/169 [==============================] - 1s 5ms/step - loss: 0.7895 - accuracy: 0.8227\n",
            "675/675 [==============================] - 2s 2ms/step\n",
            "Train Accuracy       0.99657\n",
            "Test Accuracy        0.82273\n",
            "Test Precision       0.81951\n",
            "Test Recall          0.82778\n",
            "Test F1              0.82362\n",
            "Test F2              0.82611\n",
            "Classification report:\n",
            "              precision    recall  f1-score   support\n",
            "\n",
            "           0    0.82602   0.81769   0.82183     10800\n",
            "           1    0.81951   0.82778   0.82362     10800\n",
            "\n",
            "    accuracy                        0.82273     21600\n",
            "   macro avg    0.82276   0.82273   0.82273     21600\n",
            "weighted avg    0.82276   0.82273   0.82273     21600\n",
            "\n"
          ]
        }
      ]
    },
    {
      "cell_type": "markdown",
      "source": [
        "####Doc2Vec"
      ],
      "metadata": {
        "id": "8zkmY3K405sc"
      }
    },
    {
      "cell_type": "markdown",
      "source": [
        "#####Logistic Regression"
      ],
      "metadata": {
        "id": "W2g4EPDBZXaP"
      }
    },
    {
      "cell_type": "code",
      "source": [
        "lr = LogisticRegression(n_jobs=-1, max_iter=150)\n",
        "lr.fit(X_train_d2v, train_labels)"
      ],
      "metadata": {
        "colab": {
          "base_uri": "https://localhost:8080/"
        },
        "id": "TfCwkEDLdYbL",
        "outputId": "ae59074c-83af-4509-dfaf-204a1a614ed9"
      },
      "execution_count": null,
      "outputs": [
        {
          "output_type": "execute_result",
          "data": {
            "text/plain": [
              "LogisticRegression(max_iter=150, n_jobs=-1)"
            ]
          },
          "metadata": {},
          "execution_count": 21
        }
      ]
    },
    {
      "cell_type": "code",
      "source": [
        "y_pred_lr = lr.predict(X_test_d2v)"
      ],
      "metadata": {
        "id": "OfwSn9qDdmDi"
      },
      "execution_count": null,
      "outputs": []
    },
    {
      "cell_type": "code",
      "source": [
        "score_model(lr, X_train_d2v, X_test_d2v, train_labels, test_labels)"
      ],
      "metadata": {
        "colab": {
          "base_uri": "https://localhost:8080/"
        },
        "id": "Uq8LM1zCdscu",
        "outputId": "6a40bcd7-e511-4d78-d074-6bb9fa124c47"
      },
      "execution_count": null,
      "outputs": [
        {
          "output_type": "stream",
          "name": "stdout",
          "text": [
            "Train Accuracy       0.79105\n",
            "Test Accuracy        0.79417\n",
            "Test Precision       0.79088\n",
            "Test Recall          0.79981\n",
            "Test F1              0.79532\n",
            "Test F2              0.79801\n",
            "Classification report:\n",
            "              precision    recall  f1-score   support\n",
            "\n",
            "           0    0.79753   0.78852   0.79300     10800\n",
            "           1    0.79088   0.79981   0.79532     10800\n",
            "\n",
            "    accuracy                        0.79417     21600\n",
            "   macro avg    0.79420   0.79417   0.79416     21600\n",
            "weighted avg    0.79420   0.79417   0.79416     21600\n",
            "\n"
          ]
        }
      ]
    },
    {
      "cell_type": "markdown",
      "source": [
        "#####Support Vector Machine"
      ],
      "metadata": {
        "id": "vF99Oqqad-Mr"
      }
    },
    {
      "cell_type": "code",
      "source": [
        "svm = SVC(kernel='linear')"
      ],
      "metadata": {
        "id": "gtpSLh75eIBm"
      },
      "execution_count": null,
      "outputs": []
    },
    {
      "cell_type": "code",
      "source": [
        "svm.fit(X_train_d2v, train_labels) #troppo oneroso 8 ore per il training prima di crashare"
      ],
      "metadata": {
        "colab": {
          "base_uri": "https://localhost:8080/"
        },
        "id": "-0ochcf7eNAj",
        "outputId": "80a1ca13-4ebe-460f-b57c-7a8965d9fa5f"
      },
      "execution_count": null,
      "outputs": [
        {
          "output_type": "execute_result",
          "data": {
            "text/plain": [
              "SVC(kernel='linear')"
            ]
          },
          "metadata": {},
          "execution_count": 26
        }
      ]
    },
    {
      "cell_type": "code",
      "source": [
        "y_pred_svm = svm.predict(X_test_d2v)"
      ],
      "metadata": {
        "id": "MOlcGw8keQXF"
      },
      "execution_count": null,
      "outputs": []
    },
    {
      "cell_type": "code",
      "source": [
        "score_model(svm, X_train_d2v, X_test_d2v, train_labels, test_labels)"
      ],
      "metadata": {
        "colab": {
          "base_uri": "https://localhost:8080/"
        },
        "id": "RRZCsqxTffZK",
        "outputId": "61a51987-792a-47f5-f4d0-ba6b1a571320"
      },
      "execution_count": null,
      "outputs": [
        {
          "output_type": "stream",
          "name": "stdout",
          "text": [
            "Train Accuracy       0.79218\n",
            "Test Accuracy        0.79454\n",
            "Test Precision       0.79003\n",
            "Test Recall          0.80231\n",
            "Test F1              0.79612\n",
            "Test F2              0.79983\n",
            "Classification report:\n",
            "              precision    recall  f1-score   support\n",
            "\n",
            "           0    0.79919   0.78676   0.79293     10800\n",
            "           1    0.79003   0.80231   0.79612     10800\n",
            "\n",
            "    accuracy                        0.79454     21600\n",
            "   macro avg    0.79461   0.79454   0.79452     21600\n",
            "weighted avg    0.79461   0.79454   0.79452     21600\n",
            "\n"
          ]
        }
      ]
    },
    {
      "cell_type": "markdown",
      "source": [
        "#####Random Forest"
      ],
      "metadata": {
        "id": "fkYYzMGDg4zG"
      }
    },
    {
      "cell_type": "code",
      "source": [
        "rf = RandomForestClassifier(n_estimators = 72,max_depth = 20, n_jobs=-1, random_state = 0)"
      ],
      "metadata": {
        "id": "xzHRq3tmhBVp"
      },
      "execution_count": null,
      "outputs": []
    },
    {
      "cell_type": "code",
      "source": [
        "rf.fit(X_train_d2v, train_labels)"
      ],
      "metadata": {
        "colab": {
          "base_uri": "https://localhost:8080/"
        },
        "id": "NkaIJGxehDtA",
        "outputId": "6779ecba-27be-4b1c-acf2-da7767282de6"
      },
      "execution_count": null,
      "outputs": [
        {
          "output_type": "execute_result",
          "data": {
            "text/plain": [
              "RandomForestClassifier(max_depth=20, n_estimators=72, n_jobs=-1, random_state=0)"
            ]
          },
          "metadata": {},
          "execution_count": 31
        }
      ]
    },
    {
      "cell_type": "code",
      "source": [
        "y_pred_rf = rf.predict(X_test_d2v)"
      ],
      "metadata": {
        "id": "2CxWeQ0VhIjQ"
      },
      "execution_count": null,
      "outputs": []
    },
    {
      "cell_type": "code",
      "source": [
        "score_model(rf, X_train_d2v, X_test_d2v, train_labels, test_labels) "
      ],
      "metadata": {
        "colab": {
          "base_uri": "https://localhost:8080/"
        },
        "id": "VMbKkUN3hKdC",
        "outputId": "df825450-1ff1-44d7-cd84-1509a451291d"
      },
      "execution_count": null,
      "outputs": [
        {
          "output_type": "stream",
          "name": "stdout",
          "text": [
            "Train Accuracy       0.99990\n",
            "Test Accuracy        0.76435\n",
            "Test Precision       0.76995\n",
            "Test Recall          0.75398\n",
            "Test F1              0.76188\n",
            "Test F2              0.75712\n",
            "Classification report:\n",
            "              precision    recall  f1-score   support\n",
            "\n",
            "           0    0.75898   0.77472   0.76677     10800\n",
            "           1    0.76995   0.75398   0.76188     10800\n",
            "\n",
            "    accuracy                        0.76435     21600\n",
            "   macro avg    0.76447   0.76435   0.76433     21600\n",
            "weighted avg    0.76447   0.76435   0.76433     21600\n",
            "\n"
          ]
        }
      ]
    },
    {
      "cell_type": "markdown",
      "source": [
        "#####NEURAL NETWORK (best model for Doc2Vec text rapresentation)"
      ],
      "metadata": {
        "id": "JgqUZsxriE9a"
      }
    },
    {
      "cell_type": "code",
      "source": [
        "import numpy as np\n",
        "\n",
        "# converti i dati del vettore in un array numpy\n",
        "X_tr_d2v = np.asarray(X_train_d2v)\n",
        "\n",
        "# cambia il tipo di dati dell'array in float16\n",
        "doc2vec_data = X_tr_d2v.astype(np.float16)"
      ],
      "metadata": {
        "id": "xQGaSqoTjOFm"
      },
      "execution_count": null,
      "outputs": []
    },
    {
      "cell_type": "code",
      "source": [
        "# converti i dati del vettore in un array numpy\n",
        "X_te_d2v = np.asarray(X_test_d2v)\n",
        "\n",
        "# cambia il tipo di dati dell'array in float16\n",
        "doc2vec_test_data = X_te_d2v.astype(np.float16)"
      ],
      "metadata": {
        "id": "wbW0w8KljZ7R"
      },
      "execution_count": null,
      "outputs": []
    },
    {
      "cell_type": "code",
      "source": [
        "np.random.seed(1337)\n",
        "nb_classes = 20\n",
        "batch_size = 128\n",
        "nb_epochs = 5"
      ],
      "metadata": {
        "id": "ueM74Zz8iOXz"
      },
      "execution_count": null,
      "outputs": []
    },
    {
      "cell_type": "code",
      "source": [
        "#del model\n",
        "\n",
        "def build_model():\n",
        "    model = Sequential()\n",
        "    model.add(Dense(256, input_dim=100, activation='relu'))\n",
        "    model.add(Dropout(0.3))\n",
        "    model.add(Dense(200, activation='relu'))\n",
        "    model.add(Dropout(0.3))\n",
        "    model.add(Dense(160, activation='relu'))\n",
        "    model.add(Dropout(0.3))\n",
        "    model.add(Dense(120, activation='relu'))\n",
        "    model.add(Dropout(0.3))\n",
        "    model.add(Dense(80, activation='relu'))\n",
        "    model.add(Dropout(0.3))\n",
        "    model.add(Dense(1, activation='sigmoid'))\n",
        "    model.compile(loss='binary_crossentropy', optimizer='adam', metrics=['accuracy'])\n",
        "    model.summary()\n",
        "    return model"
      ],
      "metadata": {
        "id": "05j-LaAkiZja"
      },
      "execution_count": null,
      "outputs": []
    },
    {
      "cell_type": "code",
      "source": [
        "from keras.wrappers.scikit_learn import KerasClassifier\n",
        "estimator = KerasClassifier(build_fn=build_model, epochs=15, batch_size=128)"
      ],
      "metadata": {
        "colab": {
          "base_uri": "https://localhost:8080/"
        },
        "id": "bn-HKSNYip_e",
        "outputId": "512b7233-2a98-47fa-9de5-fae43875bbab"
      },
      "execution_count": null,
      "outputs": [
        {
          "output_type": "stream",
          "name": "stderr",
          "text": [
            "<ipython-input-28-87a684a0c8a4>:2: DeprecationWarning: KerasClassifier is deprecated, use Sci-Keras (https://github.com/adriangb/scikeras) instead. See https://www.adriangb.com/scikeras/stable/migration.html for help migrating.\n",
            "  estimator = KerasClassifier(build_fn=build_model, epochs=15, batch_size=128)\n"
          ]
        }
      ]
    },
    {
      "cell_type": "code",
      "source": [
        "estimator.fit(doc2vec_data, train_labels)"
      ],
      "metadata": {
        "colab": {
          "base_uri": "https://localhost:8080/"
        },
        "id": "20XDgTvXiv5N",
        "outputId": "01ef3a34-7bda-43ea-d288-5f80ce65d12e"
      },
      "execution_count": null,
      "outputs": [
        {
          "output_type": "stream",
          "name": "stdout",
          "text": [
            "Model: \"sequential_2\"\n",
            "_________________________________________________________________\n",
            " Layer (type)                Output Shape              Param #   \n",
            "=================================================================\n",
            " dense_12 (Dense)            (None, 256)               25856     \n",
            "                                                                 \n",
            " dropout_10 (Dropout)        (None, 256)               0         \n",
            "                                                                 \n",
            " dense_13 (Dense)            (None, 200)               51400     \n",
            "                                                                 \n",
            " dropout_11 (Dropout)        (None, 200)               0         \n",
            "                                                                 \n",
            " dense_14 (Dense)            (None, 160)               32160     \n",
            "                                                                 \n",
            " dropout_12 (Dropout)        (None, 160)               0         \n",
            "                                                                 \n",
            " dense_15 (Dense)            (None, 120)               19320     \n",
            "                                                                 \n",
            " dropout_13 (Dropout)        (None, 120)               0         \n",
            "                                                                 \n",
            " dense_16 (Dense)            (None, 80)                9680      \n",
            "                                                                 \n",
            " dropout_14 (Dropout)        (None, 80)                0         \n",
            "                                                                 \n",
            " dense_17 (Dense)            (None, 1)                 81        \n",
            "                                                                 \n",
            "=================================================================\n",
            "Total params: 138,497\n",
            "Trainable params: 138,497\n",
            "Non-trainable params: 0\n",
            "_________________________________________________________________\n",
            "Epoch 1/15\n",
            "394/394 [==============================] - 5s 9ms/step - loss: 0.4905 - accuracy: 0.7659\n",
            "Epoch 2/15\n",
            "394/394 [==============================] - 3s 8ms/step - loss: 0.4504 - accuracy: 0.7932\n",
            "Epoch 3/15\n",
            "394/394 [==============================] - 3s 8ms/step - loss: 0.4375 - accuracy: 0.7991\n",
            "Epoch 4/15\n",
            "394/394 [==============================] - 3s 9ms/step - loss: 0.4298 - accuracy: 0.8014\n",
            "Epoch 5/15\n",
            "394/394 [==============================] - 3s 8ms/step - loss: 0.4238 - accuracy: 0.8042\n",
            "Epoch 6/15\n",
            "394/394 [==============================] - 3s 8ms/step - loss: 0.4182 - accuracy: 0.8085\n",
            "Epoch 7/15\n",
            "394/394 [==============================] - 3s 9ms/step - loss: 0.4135 - accuracy: 0.8096\n",
            "Epoch 8/15\n",
            "394/394 [==============================] - 3s 9ms/step - loss: 0.4077 - accuracy: 0.8135\n",
            "Epoch 9/15\n",
            "394/394 [==============================] - 3s 9ms/step - loss: 0.4027 - accuracy: 0.8161\n",
            "Epoch 10/15\n",
            "394/394 [==============================] - 3s 9ms/step - loss: 0.4002 - accuracy: 0.8170\n",
            "Epoch 11/15\n",
            "394/394 [==============================] - 4s 9ms/step - loss: 0.3945 - accuracy: 0.8190\n",
            "Epoch 12/15\n",
            "394/394 [==============================] - 4s 9ms/step - loss: 0.3923 - accuracy: 0.8194\n",
            "Epoch 13/15\n",
            "394/394 [==============================] - 3s 9ms/step - loss: 0.3853 - accuracy: 0.8242\n",
            "Epoch 14/15\n",
            "394/394 [==============================] - 3s 8ms/step - loss: 0.3830 - accuracy: 0.8249\n",
            "Epoch 15/15\n",
            "394/394 [==============================] - 3s 9ms/step - loss: 0.3785 - accuracy: 0.8287\n"
          ]
        },
        {
          "output_type": "execute_result",
          "data": {
            "text/plain": [
              "<keras.callbacks.History at 0x7f1ac25b1dc0>"
            ]
          },
          "metadata": {},
          "execution_count": 29
        }
      ]
    },
    {
      "cell_type": "code",
      "source": [
        "y_pred_best_d2v = estimator.predict(doc2vec_test_data)"
      ],
      "metadata": {
        "colab": {
          "base_uri": "https://localhost:8080/"
        },
        "id": "PFajMIcFpdX0",
        "outputId": "d42aa036-2856-4f39-8fb1-b71a229000d2"
      },
      "execution_count": null,
      "outputs": [
        {
          "output_type": "stream",
          "name": "stdout",
          "text": [
            "675/675 [==============================] - 1s 2ms/step\n"
          ]
        }
      ]
    },
    {
      "cell_type": "code",
      "source": [
        "len(y_pred_best_d2v)"
      ],
      "metadata": {
        "colab": {
          "base_uri": "https://localhost:8080/"
        },
        "id": "nm_5YuLSqbAm",
        "outputId": "4ae34be4-87fd-46e4-e8ed-781835c9f065"
      },
      "execution_count": null,
      "outputs": [
        {
          "output_type": "execute_result",
          "data": {
            "text/plain": [
              "21600"
            ]
          },
          "metadata": {},
          "execution_count": 31
        }
      ]
    },
    {
      "cell_type": "code",
      "source": [
        "len(doc2vec_test_data)"
      ],
      "metadata": {
        "colab": {
          "base_uri": "https://localhost:8080/"
        },
        "id": "gVwaRYU0qk3x",
        "outputId": "e732c27d-5377-41ff-cdfc-8667026fc537"
      },
      "execution_count": null,
      "outputs": [
        {
          "output_type": "execute_result",
          "data": {
            "text/plain": [
              "21600"
            ]
          },
          "metadata": {},
          "execution_count": 32
        }
      ]
    },
    {
      "cell_type": "code",
      "source": [
        "score_model(estimator, doc2vec_data, doc2vec_test_data, train_labels, test_labels) "
      ],
      "metadata": {
        "colab": {
          "base_uri": "https://localhost:8080/"
        },
        "id": "SssPuki3ka6i",
        "outputId": "0a088212-5073-433b-c58d-5d96dc967391"
      },
      "execution_count": null,
      "outputs": [
        {
          "output_type": "stream",
          "name": "stdout",
          "text": [
            "394/394 [==============================] - 1s 3ms/step - loss: 0.3445 - accuracy: 0.8486\n",
            "169/169 [==============================] - 1s 3ms/step - loss: 0.4319 - accuracy: 0.8025\n",
            "675/675 [==============================] - 1s 2ms/step\n",
            "Train Accuracy       0.84863\n",
            "Test Accuracy        0.80250\n",
            "Test Precision       0.80189\n",
            "Test Recall          0.80352\n",
            "Test F1              0.80270\n",
            "Test F2              0.80319\n",
            "Classification report:\n",
            "              precision    recall  f1-score   support\n",
            "\n",
            "           0    0.80312   0.80148   0.80230     10800\n",
            "           1    0.80189   0.80352   0.80270     10800\n",
            "\n",
            "    accuracy                        0.80250     21600\n",
            "   macro avg    0.80250   0.80250   0.80250     21600\n",
            "weighted avg    0.80250   0.80250   0.80250     21600\n",
            "\n"
          ]
        }
      ]
    },
    {
      "cell_type": "markdown",
      "source": [
        "###CREATION OF DATASET FOR TOPIC MODELLING"
      ],
      "metadata": {
        "id": "9Krv8MVVrepv"
      }
    },
    {
      "cell_type": "markdown",
      "source": [
        "####TFIDF DATASET"
      ],
      "metadata": {
        "id": "8KNzDB21rjb4"
      }
    },
    {
      "cell_type": "code",
      "source": [
        "type(y_pred_best_tfidf)"
      ],
      "metadata": {
        "colab": {
          "base_uri": "https://localhost:8080/"
        },
        "id": "y68dSC4qrmjN",
        "outputId": "871244fe-2a93-4fc4-b0a3-e19eb467de1f"
      },
      "execution_count": null,
      "outputs": [
        {
          "output_type": "execute_result",
          "data": {
            "text/plain": [
              "numpy.ndarray"
            ]
          },
          "metadata": {},
          "execution_count": 82
        }
      ]
    },
    {
      "cell_type": "code",
      "source": [
        "type(test_text)"
      ],
      "metadata": {
        "colab": {
          "base_uri": "https://localhost:8080/"
        },
        "id": "aT4EeC0Xr5sz",
        "outputId": "ad269c4a-42f9-4a61-cc42-52556baa8f19"
      },
      "execution_count": null,
      "outputs": [
        {
          "output_type": "execute_result",
          "data": {
            "text/plain": [
              "list"
            ]
          },
          "metadata": {},
          "execution_count": 86
        }
      ]
    },
    {
      "cell_type": "code",
      "source": [
        "data = {'test_text': test_text, 'value': y_pred_best_tfidf}\n",
        "df_tfidf = pd.DataFrame(data)"
      ],
      "metadata": {
        "id": "SJtn4-OZsoe_"
      },
      "execution_count": null,
      "outputs": []
    },
    {
      "cell_type": "code",
      "source": [
        "df_tfidf.head()"
      ],
      "metadata": {
        "colab": {
          "base_uri": "https://localhost:8080/",
          "height": 206
        },
        "id": "P-UAHxk1syg7",
        "outputId": "d56d6634-c543-4f12-fa3f-a51d6f993802"
      },
      "execution_count": null,
      "outputs": [
        {
          "output_type": "execute_result",
          "data": {
            "text/plain": [
              "                                           test_text  value\n",
              "0  potential disappointment saw lucy lui antonio ...      0\n",
              "1  julie garwood still one fav authors series rev...      0\n",
              "2  end metaphysics indeed heidegger bends neitzch...      0\n",
              "3  different good way opinion cd good shows ashan...      1\n",
              "4  expected strings goodness sake players love em...      1"
            ],
            "text/html": [
              "\n",
              "  <div id=\"df-ee2e2834-c06c-49c4-9520-679dbaf9580b\">\n",
              "    <div class=\"colab-df-container\">\n",
              "      <div>\n",
              "<style scoped>\n",
              "    .dataframe tbody tr th:only-of-type {\n",
              "        vertical-align: middle;\n",
              "    }\n",
              "\n",
              "    .dataframe tbody tr th {\n",
              "        vertical-align: top;\n",
              "    }\n",
              "\n",
              "    .dataframe thead th {\n",
              "        text-align: right;\n",
              "    }\n",
              "</style>\n",
              "<table border=\"1\" class=\"dataframe\">\n",
              "  <thead>\n",
              "    <tr style=\"text-align: right;\">\n",
              "      <th></th>\n",
              "      <th>test_text</th>\n",
              "      <th>value</th>\n",
              "    </tr>\n",
              "  </thead>\n",
              "  <tbody>\n",
              "    <tr>\n",
              "      <th>0</th>\n",
              "      <td>potential disappointment saw lucy lui antonio ...</td>\n",
              "      <td>0</td>\n",
              "    </tr>\n",
              "    <tr>\n",
              "      <th>1</th>\n",
              "      <td>julie garwood still one fav authors series rev...</td>\n",
              "      <td>0</td>\n",
              "    </tr>\n",
              "    <tr>\n",
              "      <th>2</th>\n",
              "      <td>end metaphysics indeed heidegger bends neitzch...</td>\n",
              "      <td>0</td>\n",
              "    </tr>\n",
              "    <tr>\n",
              "      <th>3</th>\n",
              "      <td>different good way opinion cd good shows ashan...</td>\n",
              "      <td>1</td>\n",
              "    </tr>\n",
              "    <tr>\n",
              "      <th>4</th>\n",
              "      <td>expected strings goodness sake players love em...</td>\n",
              "      <td>1</td>\n",
              "    </tr>\n",
              "  </tbody>\n",
              "</table>\n",
              "</div>\n",
              "      <button class=\"colab-df-convert\" onclick=\"convertToInteractive('df-ee2e2834-c06c-49c4-9520-679dbaf9580b')\"\n",
              "              title=\"Convert this dataframe to an interactive table.\"\n",
              "              style=\"display:none;\">\n",
              "        \n",
              "  <svg xmlns=\"http://www.w3.org/2000/svg\" height=\"24px\"viewBox=\"0 0 24 24\"\n",
              "       width=\"24px\">\n",
              "    <path d=\"M0 0h24v24H0V0z\" fill=\"none\"/>\n",
              "    <path d=\"M18.56 5.44l.94 2.06.94-2.06 2.06-.94-2.06-.94-.94-2.06-.94 2.06-2.06.94zm-11 1L8.5 8.5l.94-2.06 2.06-.94-2.06-.94L8.5 2.5l-.94 2.06-2.06.94zm10 10l.94 2.06.94-2.06 2.06-.94-2.06-.94-.94-2.06-.94 2.06-2.06.94z\"/><path d=\"M17.41 7.96l-1.37-1.37c-.4-.4-.92-.59-1.43-.59-.52 0-1.04.2-1.43.59L10.3 9.45l-7.72 7.72c-.78.78-.78 2.05 0 2.83L4 21.41c.39.39.9.59 1.41.59.51 0 1.02-.2 1.41-.59l7.78-7.78 2.81-2.81c.8-.78.8-2.07 0-2.86zM5.41 20L4 18.59l7.72-7.72 1.47 1.35L5.41 20z\"/>\n",
              "  </svg>\n",
              "      </button>\n",
              "      \n",
              "  <style>\n",
              "    .colab-df-container {\n",
              "      display:flex;\n",
              "      flex-wrap:wrap;\n",
              "      gap: 12px;\n",
              "    }\n",
              "\n",
              "    .colab-df-convert {\n",
              "      background-color: #E8F0FE;\n",
              "      border: none;\n",
              "      border-radius: 50%;\n",
              "      cursor: pointer;\n",
              "      display: none;\n",
              "      fill: #1967D2;\n",
              "      height: 32px;\n",
              "      padding: 0 0 0 0;\n",
              "      width: 32px;\n",
              "    }\n",
              "\n",
              "    .colab-df-convert:hover {\n",
              "      background-color: #E2EBFA;\n",
              "      box-shadow: 0px 1px 2px rgba(60, 64, 67, 0.3), 0px 1px 3px 1px rgba(60, 64, 67, 0.15);\n",
              "      fill: #174EA6;\n",
              "    }\n",
              "\n",
              "    [theme=dark] .colab-df-convert {\n",
              "      background-color: #3B4455;\n",
              "      fill: #D2E3FC;\n",
              "    }\n",
              "\n",
              "    [theme=dark] .colab-df-convert:hover {\n",
              "      background-color: #434B5C;\n",
              "      box-shadow: 0px 1px 3px 1px rgba(0, 0, 0, 0.15);\n",
              "      filter: drop-shadow(0px 1px 2px rgba(0, 0, 0, 0.3));\n",
              "      fill: #FFFFFF;\n",
              "    }\n",
              "  </style>\n",
              "\n",
              "      <script>\n",
              "        const buttonEl =\n",
              "          document.querySelector('#df-ee2e2834-c06c-49c4-9520-679dbaf9580b button.colab-df-convert');\n",
              "        buttonEl.style.display =\n",
              "          google.colab.kernel.accessAllowed ? 'block' : 'none';\n",
              "\n",
              "        async function convertToInteractive(key) {\n",
              "          const element = document.querySelector('#df-ee2e2834-c06c-49c4-9520-679dbaf9580b');\n",
              "          const dataTable =\n",
              "            await google.colab.kernel.invokeFunction('convertToInteractive',\n",
              "                                                     [key], {});\n",
              "          if (!dataTable) return;\n",
              "\n",
              "          const docLinkHtml = 'Like what you see? Visit the ' +\n",
              "            '<a target=\"_blank\" href=https://colab.research.google.com/notebooks/data_table.ipynb>data table notebook</a>'\n",
              "            + ' to learn more about interactive tables.';\n",
              "          element.innerHTML = '';\n",
              "          dataTable['output_type'] = 'display_data';\n",
              "          await google.colab.output.renderOutput(dataTable, element);\n",
              "          const docLink = document.createElement('div');\n",
              "          docLink.innerHTML = docLinkHtml;\n",
              "          element.appendChild(docLink);\n",
              "        }\n",
              "      </script>\n",
              "    </div>\n",
              "  </div>\n",
              "  "
            ]
          },
          "metadata": {},
          "execution_count": 88
        }
      ]
    },
    {
      "cell_type": "markdown",
      "source": [
        "####DOC2VEC DATASET"
      ],
      "metadata": {
        "id": "j5i6QTGks-gt"
      }
    },
    {
      "cell_type": "code",
      "source": [
        "type(y_pred_best_d2v)"
      ],
      "metadata": {
        "colab": {
          "base_uri": "https://localhost:8080/"
        },
        "id": "zWpMMU8EtDWA",
        "outputId": "c098990f-cefc-4acf-b372-31432ed65fd3"
      },
      "execution_count": null,
      "outputs": [
        {
          "output_type": "execute_result",
          "data": {
            "text/plain": [
              "numpy.ndarray"
            ]
          },
          "metadata": {},
          "execution_count": 46
        }
      ]
    },
    {
      "cell_type": "code",
      "source": [
        "type(test_text)"
      ],
      "metadata": {
        "colab": {
          "base_uri": "https://localhost:8080/"
        },
        "id": "7YTbem0Hs9gQ",
        "outputId": "59f33039-7b6f-42d6-b938-c7f87dfa0d57"
      },
      "execution_count": null,
      "outputs": [
        {
          "output_type": "execute_result",
          "data": {
            "text/plain": [
              "list"
            ]
          },
          "metadata": {},
          "execution_count": 47
        }
      ]
    },
    {
      "cell_type": "code",
      "source": [
        "d = {'test_text': test_text, 'value': y_pred_best_d2v}\n",
        "df_d2v = pd.DataFrame(d)"
      ],
      "metadata": {
        "id": "SDJwJhcStMtP"
      },
      "execution_count": null,
      "outputs": []
    },
    {
      "cell_type": "markdown",
      "source": [
        "####save and load the dataset"
      ],
      "metadata": {
        "id": "9eK_asFitnLR"
      }
    },
    {
      "cell_type": "code",
      "source": [
        "#df_tfidf.to_csv('/content/drive/MyDrive/text_mining/df_tfidf.csv')"
      ],
      "metadata": {
        "id": "tMB4GjDutqpj"
      },
      "execution_count": null,
      "outputs": []
    },
    {
      "cell_type": "code",
      "source": [
        "#df_d2v.to_csv('/content/drive/MyDrive/text_mining/df_d2v.csv')"
      ],
      "metadata": {
        "id": "TxXKhyBJurnu"
      },
      "execution_count": null,
      "outputs": []
    },
    {
      "cell_type": "code",
      "source": [
        "df_tfidf = pd.read_csv('/content/drive/MyDrive/text_mining/df_tfidf.csv')"
      ],
      "metadata": {
        "id": "VSiA9AWGuztz"
      },
      "execution_count": null,
      "outputs": []
    },
    {
      "cell_type": "code",
      "source": [
        "df_d2v = pd.read_csv('/content/drive/MyDrive/text_mining/df_d2v.csv')"
      ],
      "metadata": {
        "id": "zjvmbsZgeQEh"
      },
      "execution_count": null,
      "outputs": []
    },
    {
      "cell_type": "code",
      "source": [
        "df_tfidf= df_tfidf.drop(columns=[\"Unnamed: 0\"])"
      ],
      "metadata": {
        "id": "-diDOdM_xZFH"
      },
      "execution_count": null,
      "outputs": []
    },
    {
      "cell_type": "code",
      "source": [
        "df_d2v = df_d2v.drop(columns=[\"Unnamed: 0\"])"
      ],
      "metadata": {
        "id": "gxmDRp3gxg1_"
      },
      "execution_count": null,
      "outputs": []
    },
    {
      "cell_type": "code",
      "source": [
        "df_tfidf.head()"
      ],
      "metadata": {
        "colab": {
          "base_uri": "https://localhost:8080/",
          "height": 206
        },
        "id": "M_72XDqavElC",
        "outputId": "ef56b827-02ec-4036-b1ca-4cb1f2788b18"
      },
      "execution_count": null,
      "outputs": [
        {
          "output_type": "execute_result",
          "data": {
            "text/plain": [
              "                                           test_text  value\n",
              "0  potential disappointment saw lucy lui antonio ...      0\n",
              "1  julie garwood still one fav authors series rev...      0\n",
              "2  end metaphysics indeed heidegger bends neitzch...      0\n",
              "3  different good way opinion cd good shows ashan...      1\n",
              "4  expected strings goodness sake players love em...      1"
            ],
            "text/html": [
              "\n",
              "  <div id=\"df-34f087a4-be01-4a68-a01d-d0ce3f2f07f4\">\n",
              "    <div class=\"colab-df-container\">\n",
              "      <div>\n",
              "<style scoped>\n",
              "    .dataframe tbody tr th:only-of-type {\n",
              "        vertical-align: middle;\n",
              "    }\n",
              "\n",
              "    .dataframe tbody tr th {\n",
              "        vertical-align: top;\n",
              "    }\n",
              "\n",
              "    .dataframe thead th {\n",
              "        text-align: right;\n",
              "    }\n",
              "</style>\n",
              "<table border=\"1\" class=\"dataframe\">\n",
              "  <thead>\n",
              "    <tr style=\"text-align: right;\">\n",
              "      <th></th>\n",
              "      <th>test_text</th>\n",
              "      <th>value</th>\n",
              "    </tr>\n",
              "  </thead>\n",
              "  <tbody>\n",
              "    <tr>\n",
              "      <th>0</th>\n",
              "      <td>potential disappointment saw lucy lui antonio ...</td>\n",
              "      <td>0</td>\n",
              "    </tr>\n",
              "    <tr>\n",
              "      <th>1</th>\n",
              "      <td>julie garwood still one fav authors series rev...</td>\n",
              "      <td>0</td>\n",
              "    </tr>\n",
              "    <tr>\n",
              "      <th>2</th>\n",
              "      <td>end metaphysics indeed heidegger bends neitzch...</td>\n",
              "      <td>0</td>\n",
              "    </tr>\n",
              "    <tr>\n",
              "      <th>3</th>\n",
              "      <td>different good way opinion cd good shows ashan...</td>\n",
              "      <td>1</td>\n",
              "    </tr>\n",
              "    <tr>\n",
              "      <th>4</th>\n",
              "      <td>expected strings goodness sake players love em...</td>\n",
              "      <td>1</td>\n",
              "    </tr>\n",
              "  </tbody>\n",
              "</table>\n",
              "</div>\n",
              "      <button class=\"colab-df-convert\" onclick=\"convertToInteractive('df-34f087a4-be01-4a68-a01d-d0ce3f2f07f4')\"\n",
              "              title=\"Convert this dataframe to an interactive table.\"\n",
              "              style=\"display:none;\">\n",
              "        \n",
              "  <svg xmlns=\"http://www.w3.org/2000/svg\" height=\"24px\"viewBox=\"0 0 24 24\"\n",
              "       width=\"24px\">\n",
              "    <path d=\"M0 0h24v24H0V0z\" fill=\"none\"/>\n",
              "    <path d=\"M18.56 5.44l.94 2.06.94-2.06 2.06-.94-2.06-.94-.94-2.06-.94 2.06-2.06.94zm-11 1L8.5 8.5l.94-2.06 2.06-.94-2.06-.94L8.5 2.5l-.94 2.06-2.06.94zm10 10l.94 2.06.94-2.06 2.06-.94-2.06-.94-.94-2.06-.94 2.06-2.06.94z\"/><path d=\"M17.41 7.96l-1.37-1.37c-.4-.4-.92-.59-1.43-.59-.52 0-1.04.2-1.43.59L10.3 9.45l-7.72 7.72c-.78.78-.78 2.05 0 2.83L4 21.41c.39.39.9.59 1.41.59.51 0 1.02-.2 1.41-.59l7.78-7.78 2.81-2.81c.8-.78.8-2.07 0-2.86zM5.41 20L4 18.59l7.72-7.72 1.47 1.35L5.41 20z\"/>\n",
              "  </svg>\n",
              "      </button>\n",
              "      \n",
              "  <style>\n",
              "    .colab-df-container {\n",
              "      display:flex;\n",
              "      flex-wrap:wrap;\n",
              "      gap: 12px;\n",
              "    }\n",
              "\n",
              "    .colab-df-convert {\n",
              "      background-color: #E8F0FE;\n",
              "      border: none;\n",
              "      border-radius: 50%;\n",
              "      cursor: pointer;\n",
              "      display: none;\n",
              "      fill: #1967D2;\n",
              "      height: 32px;\n",
              "      padding: 0 0 0 0;\n",
              "      width: 32px;\n",
              "    }\n",
              "\n",
              "    .colab-df-convert:hover {\n",
              "      background-color: #E2EBFA;\n",
              "      box-shadow: 0px 1px 2px rgba(60, 64, 67, 0.3), 0px 1px 3px 1px rgba(60, 64, 67, 0.15);\n",
              "      fill: #174EA6;\n",
              "    }\n",
              "\n",
              "    [theme=dark] .colab-df-convert {\n",
              "      background-color: #3B4455;\n",
              "      fill: #D2E3FC;\n",
              "    }\n",
              "\n",
              "    [theme=dark] .colab-df-convert:hover {\n",
              "      background-color: #434B5C;\n",
              "      box-shadow: 0px 1px 3px 1px rgba(0, 0, 0, 0.15);\n",
              "      filter: drop-shadow(0px 1px 2px rgba(0, 0, 0, 0.3));\n",
              "      fill: #FFFFFF;\n",
              "    }\n",
              "  </style>\n",
              "\n",
              "      <script>\n",
              "        const buttonEl =\n",
              "          document.querySelector('#df-34f087a4-be01-4a68-a01d-d0ce3f2f07f4 button.colab-df-convert');\n",
              "        buttonEl.style.display =\n",
              "          google.colab.kernel.accessAllowed ? 'block' : 'none';\n",
              "\n",
              "        async function convertToInteractive(key) {\n",
              "          const element = document.querySelector('#df-34f087a4-be01-4a68-a01d-d0ce3f2f07f4');\n",
              "          const dataTable =\n",
              "            await google.colab.kernel.invokeFunction('convertToInteractive',\n",
              "                                                     [key], {});\n",
              "          if (!dataTable) return;\n",
              "\n",
              "          const docLinkHtml = 'Like what you see? Visit the ' +\n",
              "            '<a target=\"_blank\" href=https://colab.research.google.com/notebooks/data_table.ipynb>data table notebook</a>'\n",
              "            + ' to learn more about interactive tables.';\n",
              "          element.innerHTML = '';\n",
              "          dataTable['output_type'] = 'display_data';\n",
              "          await google.colab.output.renderOutput(dataTable, element);\n",
              "          const docLink = document.createElement('div');\n",
              "          docLink.innerHTML = docLinkHtml;\n",
              "          element.appendChild(docLink);\n",
              "        }\n",
              "      </script>\n",
              "    </div>\n",
              "  </div>\n",
              "  "
            ]
          },
          "metadata": {},
          "execution_count": 7
        }
      ]
    },
    {
      "cell_type": "code",
      "source": [
        "# creo la sottoporzione di dataset con value == 0\n",
        "tfidf_value_0 = df_tfidf.loc[df_tfidf[\"value\"] == 0]"
      ],
      "metadata": {
        "id": "ZrEKWHuYZyyN"
      },
      "execution_count": null,
      "outputs": []
    },
    {
      "cell_type": "code",
      "source": [
        "tfidf_value_0.head()"
      ],
      "metadata": {
        "colab": {
          "base_uri": "https://localhost:8080/",
          "height": 206
        },
        "id": "Vc457fOhaCEB",
        "outputId": "bfab85de-37f0-4a51-d01c-cf99cc9cd81c"
      },
      "execution_count": null,
      "outputs": [
        {
          "output_type": "execute_result",
          "data": {
            "text/plain": [
              "                                           test_text  value\n",
              "0  potential disappointment saw lucy lui antonio ...      0\n",
              "1  julie garwood still one fav authors series rev...      0\n",
              "2  end metaphysics indeed heidegger bends neitzch...      0\n",
              "5  hate g rated movies would movie name ice princ...      0\n",
              "9  buy toaster update month toaster stopped poppi...      0"
            ],
            "text/html": [
              "\n",
              "  <div id=\"df-99331984-33bd-4a5a-8d81-d3337238b83e\">\n",
              "    <div class=\"colab-df-container\">\n",
              "      <div>\n",
              "<style scoped>\n",
              "    .dataframe tbody tr th:only-of-type {\n",
              "        vertical-align: middle;\n",
              "    }\n",
              "\n",
              "    .dataframe tbody tr th {\n",
              "        vertical-align: top;\n",
              "    }\n",
              "\n",
              "    .dataframe thead th {\n",
              "        text-align: right;\n",
              "    }\n",
              "</style>\n",
              "<table border=\"1\" class=\"dataframe\">\n",
              "  <thead>\n",
              "    <tr style=\"text-align: right;\">\n",
              "      <th></th>\n",
              "      <th>test_text</th>\n",
              "      <th>value</th>\n",
              "    </tr>\n",
              "  </thead>\n",
              "  <tbody>\n",
              "    <tr>\n",
              "      <th>0</th>\n",
              "      <td>potential disappointment saw lucy lui antonio ...</td>\n",
              "      <td>0</td>\n",
              "    </tr>\n",
              "    <tr>\n",
              "      <th>1</th>\n",
              "      <td>julie garwood still one fav authors series rev...</td>\n",
              "      <td>0</td>\n",
              "    </tr>\n",
              "    <tr>\n",
              "      <th>2</th>\n",
              "      <td>end metaphysics indeed heidegger bends neitzch...</td>\n",
              "      <td>0</td>\n",
              "    </tr>\n",
              "    <tr>\n",
              "      <th>5</th>\n",
              "      <td>hate g rated movies would movie name ice princ...</td>\n",
              "      <td>0</td>\n",
              "    </tr>\n",
              "    <tr>\n",
              "      <th>9</th>\n",
              "      <td>buy toaster update month toaster stopped poppi...</td>\n",
              "      <td>0</td>\n",
              "    </tr>\n",
              "  </tbody>\n",
              "</table>\n",
              "</div>\n",
              "      <button class=\"colab-df-convert\" onclick=\"convertToInteractive('df-99331984-33bd-4a5a-8d81-d3337238b83e')\"\n",
              "              title=\"Convert this dataframe to an interactive table.\"\n",
              "              style=\"display:none;\">\n",
              "        \n",
              "  <svg xmlns=\"http://www.w3.org/2000/svg\" height=\"24px\"viewBox=\"0 0 24 24\"\n",
              "       width=\"24px\">\n",
              "    <path d=\"M0 0h24v24H0V0z\" fill=\"none\"/>\n",
              "    <path d=\"M18.56 5.44l.94 2.06.94-2.06 2.06-.94-2.06-.94-.94-2.06-.94 2.06-2.06.94zm-11 1L8.5 8.5l.94-2.06 2.06-.94-2.06-.94L8.5 2.5l-.94 2.06-2.06.94zm10 10l.94 2.06.94-2.06 2.06-.94-2.06-.94-.94-2.06-.94 2.06-2.06.94z\"/><path d=\"M17.41 7.96l-1.37-1.37c-.4-.4-.92-.59-1.43-.59-.52 0-1.04.2-1.43.59L10.3 9.45l-7.72 7.72c-.78.78-.78 2.05 0 2.83L4 21.41c.39.39.9.59 1.41.59.51 0 1.02-.2 1.41-.59l7.78-7.78 2.81-2.81c.8-.78.8-2.07 0-2.86zM5.41 20L4 18.59l7.72-7.72 1.47 1.35L5.41 20z\"/>\n",
              "  </svg>\n",
              "      </button>\n",
              "      \n",
              "  <style>\n",
              "    .colab-df-container {\n",
              "      display:flex;\n",
              "      flex-wrap:wrap;\n",
              "      gap: 12px;\n",
              "    }\n",
              "\n",
              "    .colab-df-convert {\n",
              "      background-color: #E8F0FE;\n",
              "      border: none;\n",
              "      border-radius: 50%;\n",
              "      cursor: pointer;\n",
              "      display: none;\n",
              "      fill: #1967D2;\n",
              "      height: 32px;\n",
              "      padding: 0 0 0 0;\n",
              "      width: 32px;\n",
              "    }\n",
              "\n",
              "    .colab-df-convert:hover {\n",
              "      background-color: #E2EBFA;\n",
              "      box-shadow: 0px 1px 2px rgba(60, 64, 67, 0.3), 0px 1px 3px 1px rgba(60, 64, 67, 0.15);\n",
              "      fill: #174EA6;\n",
              "    }\n",
              "\n",
              "    [theme=dark] .colab-df-convert {\n",
              "      background-color: #3B4455;\n",
              "      fill: #D2E3FC;\n",
              "    }\n",
              "\n",
              "    [theme=dark] .colab-df-convert:hover {\n",
              "      background-color: #434B5C;\n",
              "      box-shadow: 0px 1px 3px 1px rgba(0, 0, 0, 0.15);\n",
              "      filter: drop-shadow(0px 1px 2px rgba(0, 0, 0, 0.3));\n",
              "      fill: #FFFFFF;\n",
              "    }\n",
              "  </style>\n",
              "\n",
              "      <script>\n",
              "        const buttonEl =\n",
              "          document.querySelector('#df-99331984-33bd-4a5a-8d81-d3337238b83e button.colab-df-convert');\n",
              "        buttonEl.style.display =\n",
              "          google.colab.kernel.accessAllowed ? 'block' : 'none';\n",
              "\n",
              "        async function convertToInteractive(key) {\n",
              "          const element = document.querySelector('#df-99331984-33bd-4a5a-8d81-d3337238b83e');\n",
              "          const dataTable =\n",
              "            await google.colab.kernel.invokeFunction('convertToInteractive',\n",
              "                                                     [key], {});\n",
              "          if (!dataTable) return;\n",
              "\n",
              "          const docLinkHtml = 'Like what you see? Visit the ' +\n",
              "            '<a target=\"_blank\" href=https://colab.research.google.com/notebooks/data_table.ipynb>data table notebook</a>'\n",
              "            + ' to learn more about interactive tables.';\n",
              "          element.innerHTML = '';\n",
              "          dataTable['output_type'] = 'display_data';\n",
              "          await google.colab.output.renderOutput(dataTable, element);\n",
              "          const docLink = document.createElement('div');\n",
              "          docLink.innerHTML = docLinkHtml;\n",
              "          element.appendChild(docLink);\n",
              "        }\n",
              "      </script>\n",
              "    </div>\n",
              "  </div>\n",
              "  "
            ]
          },
          "metadata": {},
          "execution_count": 9
        }
      ]
    },
    {
      "cell_type": "code",
      "source": [
        "# creo la sottoporzione di dataset con value == 1\n",
        "tfidf_value_1 = df_tfidf.loc[df_tfidf[\"value\"] == 1]"
      ],
      "metadata": {
        "id": "8r_2sJEzZ92w"
      },
      "execution_count": null,
      "outputs": []
    },
    {
      "cell_type": "code",
      "source": [
        "tfidf_value_1.head()"
      ],
      "metadata": {
        "colab": {
          "base_uri": "https://localhost:8080/",
          "height": 206
        },
        "id": "MEQrVvyLaLED",
        "outputId": "99f4fba6-c034-4b7e-c747-bc92b142b514"
      },
      "execution_count": null,
      "outputs": [
        {
          "output_type": "execute_result",
          "data": {
            "text/plain": [
              "                                           test_text  value\n",
              "3  different good way opinion cd good shows ashan...      1\n",
              "4  expected strings goodness sake players love em...      1\n",
              "6  aircraft profile volume relates concise detail...      1\n",
              "7  excellent buy crib wonderful crib ever sturdy ...      1\n",
              "8  great songs wonderful singer clay aiken defina...      1"
            ],
            "text/html": [
              "\n",
              "  <div id=\"df-e5d6746b-ccd3-4bf0-8322-c226d59db787\">\n",
              "    <div class=\"colab-df-container\">\n",
              "      <div>\n",
              "<style scoped>\n",
              "    .dataframe tbody tr th:only-of-type {\n",
              "        vertical-align: middle;\n",
              "    }\n",
              "\n",
              "    .dataframe tbody tr th {\n",
              "        vertical-align: top;\n",
              "    }\n",
              "\n",
              "    .dataframe thead th {\n",
              "        text-align: right;\n",
              "    }\n",
              "</style>\n",
              "<table border=\"1\" class=\"dataframe\">\n",
              "  <thead>\n",
              "    <tr style=\"text-align: right;\">\n",
              "      <th></th>\n",
              "      <th>test_text</th>\n",
              "      <th>value</th>\n",
              "    </tr>\n",
              "  </thead>\n",
              "  <tbody>\n",
              "    <tr>\n",
              "      <th>3</th>\n",
              "      <td>different good way opinion cd good shows ashan...</td>\n",
              "      <td>1</td>\n",
              "    </tr>\n",
              "    <tr>\n",
              "      <th>4</th>\n",
              "      <td>expected strings goodness sake players love em...</td>\n",
              "      <td>1</td>\n",
              "    </tr>\n",
              "    <tr>\n",
              "      <th>6</th>\n",
              "      <td>aircraft profile volume relates concise detail...</td>\n",
              "      <td>1</td>\n",
              "    </tr>\n",
              "    <tr>\n",
              "      <th>7</th>\n",
              "      <td>excellent buy crib wonderful crib ever sturdy ...</td>\n",
              "      <td>1</td>\n",
              "    </tr>\n",
              "    <tr>\n",
              "      <th>8</th>\n",
              "      <td>great songs wonderful singer clay aiken defina...</td>\n",
              "      <td>1</td>\n",
              "    </tr>\n",
              "  </tbody>\n",
              "</table>\n",
              "</div>\n",
              "      <button class=\"colab-df-convert\" onclick=\"convertToInteractive('df-e5d6746b-ccd3-4bf0-8322-c226d59db787')\"\n",
              "              title=\"Convert this dataframe to an interactive table.\"\n",
              "              style=\"display:none;\">\n",
              "        \n",
              "  <svg xmlns=\"http://www.w3.org/2000/svg\" height=\"24px\"viewBox=\"0 0 24 24\"\n",
              "       width=\"24px\">\n",
              "    <path d=\"M0 0h24v24H0V0z\" fill=\"none\"/>\n",
              "    <path d=\"M18.56 5.44l.94 2.06.94-2.06 2.06-.94-2.06-.94-.94-2.06-.94 2.06-2.06.94zm-11 1L8.5 8.5l.94-2.06 2.06-.94-2.06-.94L8.5 2.5l-.94 2.06-2.06.94zm10 10l.94 2.06.94-2.06 2.06-.94-2.06-.94-.94-2.06-.94 2.06-2.06.94z\"/><path d=\"M17.41 7.96l-1.37-1.37c-.4-.4-.92-.59-1.43-.59-.52 0-1.04.2-1.43.59L10.3 9.45l-7.72 7.72c-.78.78-.78 2.05 0 2.83L4 21.41c.39.39.9.59 1.41.59.51 0 1.02-.2 1.41-.59l7.78-7.78 2.81-2.81c.8-.78.8-2.07 0-2.86zM5.41 20L4 18.59l7.72-7.72 1.47 1.35L5.41 20z\"/>\n",
              "  </svg>\n",
              "      </button>\n",
              "      \n",
              "  <style>\n",
              "    .colab-df-container {\n",
              "      display:flex;\n",
              "      flex-wrap:wrap;\n",
              "      gap: 12px;\n",
              "    }\n",
              "\n",
              "    .colab-df-convert {\n",
              "      background-color: #E8F0FE;\n",
              "      border: none;\n",
              "      border-radius: 50%;\n",
              "      cursor: pointer;\n",
              "      display: none;\n",
              "      fill: #1967D2;\n",
              "      height: 32px;\n",
              "      padding: 0 0 0 0;\n",
              "      width: 32px;\n",
              "    }\n",
              "\n",
              "    .colab-df-convert:hover {\n",
              "      background-color: #E2EBFA;\n",
              "      box-shadow: 0px 1px 2px rgba(60, 64, 67, 0.3), 0px 1px 3px 1px rgba(60, 64, 67, 0.15);\n",
              "      fill: #174EA6;\n",
              "    }\n",
              "\n",
              "    [theme=dark] .colab-df-convert {\n",
              "      background-color: #3B4455;\n",
              "      fill: #D2E3FC;\n",
              "    }\n",
              "\n",
              "    [theme=dark] .colab-df-convert:hover {\n",
              "      background-color: #434B5C;\n",
              "      box-shadow: 0px 1px 3px 1px rgba(0, 0, 0, 0.15);\n",
              "      filter: drop-shadow(0px 1px 2px rgba(0, 0, 0, 0.3));\n",
              "      fill: #FFFFFF;\n",
              "    }\n",
              "  </style>\n",
              "\n",
              "      <script>\n",
              "        const buttonEl =\n",
              "          document.querySelector('#df-e5d6746b-ccd3-4bf0-8322-c226d59db787 button.colab-df-convert');\n",
              "        buttonEl.style.display =\n",
              "          google.colab.kernel.accessAllowed ? 'block' : 'none';\n",
              "\n",
              "        async function convertToInteractive(key) {\n",
              "          const element = document.querySelector('#df-e5d6746b-ccd3-4bf0-8322-c226d59db787');\n",
              "          const dataTable =\n",
              "            await google.colab.kernel.invokeFunction('convertToInteractive',\n",
              "                                                     [key], {});\n",
              "          if (!dataTable) return;\n",
              "\n",
              "          const docLinkHtml = 'Like what you see? Visit the ' +\n",
              "            '<a target=\"_blank\" href=https://colab.research.google.com/notebooks/data_table.ipynb>data table notebook</a>'\n",
              "            + ' to learn more about interactive tables.';\n",
              "          element.innerHTML = '';\n",
              "          dataTable['output_type'] = 'display_data';\n",
              "          await google.colab.output.renderOutput(dataTable, element);\n",
              "          const docLink = document.createElement('div');\n",
              "          docLink.innerHTML = docLinkHtml;\n",
              "          element.appendChild(docLink);\n",
              "        }\n",
              "      </script>\n",
              "    </div>\n",
              "  </div>\n",
              "  "
            ]
          },
          "metadata": {},
          "execution_count": 11
        }
      ]
    },
    {
      "cell_type": "code",
      "source": [
        "df_d2v.head()"
      ],
      "metadata": {
        "colab": {
          "base_uri": "https://localhost:8080/",
          "height": 206
        },
        "id": "XkmlPjvhxmvi",
        "outputId": "6e3b42cb-a55e-458c-b5ce-bf2105da1d67"
      },
      "execution_count": null,
      "outputs": [
        {
          "output_type": "execute_result",
          "data": {
            "text/plain": [
              "                                           test_text  value\n",
              "0  potential disappointment saw lucy lui antonio ...      0\n",
              "1  julie garwood still one fav authors series rev...      0\n",
              "2  end metaphysics indeed heidegger bends neitzch...      1\n",
              "3  different good way opinion cd good shows ashan...      1\n",
              "4  expected strings goodness sake players love em...      1"
            ],
            "text/html": [
              "\n",
              "  <div id=\"df-46e1ebef-1156-4994-b6e3-79bf6217b0d0\">\n",
              "    <div class=\"colab-df-container\">\n",
              "      <div>\n",
              "<style scoped>\n",
              "    .dataframe tbody tr th:only-of-type {\n",
              "        vertical-align: middle;\n",
              "    }\n",
              "\n",
              "    .dataframe tbody tr th {\n",
              "        vertical-align: top;\n",
              "    }\n",
              "\n",
              "    .dataframe thead th {\n",
              "        text-align: right;\n",
              "    }\n",
              "</style>\n",
              "<table border=\"1\" class=\"dataframe\">\n",
              "  <thead>\n",
              "    <tr style=\"text-align: right;\">\n",
              "      <th></th>\n",
              "      <th>test_text</th>\n",
              "      <th>value</th>\n",
              "    </tr>\n",
              "  </thead>\n",
              "  <tbody>\n",
              "    <tr>\n",
              "      <th>0</th>\n",
              "      <td>potential disappointment saw lucy lui antonio ...</td>\n",
              "      <td>0</td>\n",
              "    </tr>\n",
              "    <tr>\n",
              "      <th>1</th>\n",
              "      <td>julie garwood still one fav authors series rev...</td>\n",
              "      <td>0</td>\n",
              "    </tr>\n",
              "    <tr>\n",
              "      <th>2</th>\n",
              "      <td>end metaphysics indeed heidegger bends neitzch...</td>\n",
              "      <td>1</td>\n",
              "    </tr>\n",
              "    <tr>\n",
              "      <th>3</th>\n",
              "      <td>different good way opinion cd good shows ashan...</td>\n",
              "      <td>1</td>\n",
              "    </tr>\n",
              "    <tr>\n",
              "      <th>4</th>\n",
              "      <td>expected strings goodness sake players love em...</td>\n",
              "      <td>1</td>\n",
              "    </tr>\n",
              "  </tbody>\n",
              "</table>\n",
              "</div>\n",
              "      <button class=\"colab-df-convert\" onclick=\"convertToInteractive('df-46e1ebef-1156-4994-b6e3-79bf6217b0d0')\"\n",
              "              title=\"Convert this dataframe to an interactive table.\"\n",
              "              style=\"display:none;\">\n",
              "        \n",
              "  <svg xmlns=\"http://www.w3.org/2000/svg\" height=\"24px\"viewBox=\"0 0 24 24\"\n",
              "       width=\"24px\">\n",
              "    <path d=\"M0 0h24v24H0V0z\" fill=\"none\"/>\n",
              "    <path d=\"M18.56 5.44l.94 2.06.94-2.06 2.06-.94-2.06-.94-.94-2.06-.94 2.06-2.06.94zm-11 1L8.5 8.5l.94-2.06 2.06-.94-2.06-.94L8.5 2.5l-.94 2.06-2.06.94zm10 10l.94 2.06.94-2.06 2.06-.94-2.06-.94-.94-2.06-.94 2.06-2.06.94z\"/><path d=\"M17.41 7.96l-1.37-1.37c-.4-.4-.92-.59-1.43-.59-.52 0-1.04.2-1.43.59L10.3 9.45l-7.72 7.72c-.78.78-.78 2.05 0 2.83L4 21.41c.39.39.9.59 1.41.59.51 0 1.02-.2 1.41-.59l7.78-7.78 2.81-2.81c.8-.78.8-2.07 0-2.86zM5.41 20L4 18.59l7.72-7.72 1.47 1.35L5.41 20z\"/>\n",
              "  </svg>\n",
              "      </button>\n",
              "      \n",
              "  <style>\n",
              "    .colab-df-container {\n",
              "      display:flex;\n",
              "      flex-wrap:wrap;\n",
              "      gap: 12px;\n",
              "    }\n",
              "\n",
              "    .colab-df-convert {\n",
              "      background-color: #E8F0FE;\n",
              "      border: none;\n",
              "      border-radius: 50%;\n",
              "      cursor: pointer;\n",
              "      display: none;\n",
              "      fill: #1967D2;\n",
              "      height: 32px;\n",
              "      padding: 0 0 0 0;\n",
              "      width: 32px;\n",
              "    }\n",
              "\n",
              "    .colab-df-convert:hover {\n",
              "      background-color: #E2EBFA;\n",
              "      box-shadow: 0px 1px 2px rgba(60, 64, 67, 0.3), 0px 1px 3px 1px rgba(60, 64, 67, 0.15);\n",
              "      fill: #174EA6;\n",
              "    }\n",
              "\n",
              "    [theme=dark] .colab-df-convert {\n",
              "      background-color: #3B4455;\n",
              "      fill: #D2E3FC;\n",
              "    }\n",
              "\n",
              "    [theme=dark] .colab-df-convert:hover {\n",
              "      background-color: #434B5C;\n",
              "      box-shadow: 0px 1px 3px 1px rgba(0, 0, 0, 0.15);\n",
              "      filter: drop-shadow(0px 1px 2px rgba(0, 0, 0, 0.3));\n",
              "      fill: #FFFFFF;\n",
              "    }\n",
              "  </style>\n",
              "\n",
              "      <script>\n",
              "        const buttonEl =\n",
              "          document.querySelector('#df-46e1ebef-1156-4994-b6e3-79bf6217b0d0 button.colab-df-convert');\n",
              "        buttonEl.style.display =\n",
              "          google.colab.kernel.accessAllowed ? 'block' : 'none';\n",
              "\n",
              "        async function convertToInteractive(key) {\n",
              "          const element = document.querySelector('#df-46e1ebef-1156-4994-b6e3-79bf6217b0d0');\n",
              "          const dataTable =\n",
              "            await google.colab.kernel.invokeFunction('convertToInteractive',\n",
              "                                                     [key], {});\n",
              "          if (!dataTable) return;\n",
              "\n",
              "          const docLinkHtml = 'Like what you see? Visit the ' +\n",
              "            '<a target=\"_blank\" href=https://colab.research.google.com/notebooks/data_table.ipynb>data table notebook</a>'\n",
              "            + ' to learn more about interactive tables.';\n",
              "          element.innerHTML = '';\n",
              "          dataTable['output_type'] = 'display_data';\n",
              "          await google.colab.output.renderOutput(dataTable, element);\n",
              "          const docLink = document.createElement('div');\n",
              "          docLink.innerHTML = docLinkHtml;\n",
              "          element.appendChild(docLink);\n",
              "        }\n",
              "      </script>\n",
              "    </div>\n",
              "  </div>\n",
              "  "
            ]
          },
          "metadata": {},
          "execution_count": 12
        }
      ]
    },
    {
      "cell_type": "code",
      "source": [
        "# creo la sottoporzione di dataset con value == 0\n",
        "d2v_value_0 = df_d2v.loc[df_d2v[\"value\"] == 0]"
      ],
      "metadata": {
        "id": "Iw-HXD1DbZl5"
      },
      "execution_count": null,
      "outputs": []
    },
    {
      "cell_type": "code",
      "source": [
        "d2v_value_0.head()"
      ],
      "metadata": {
        "colab": {
          "base_uri": "https://localhost:8080/",
          "height": 206
        },
        "id": "g8s6-Qnob5oN",
        "outputId": "363ae080-f977-4817-eaac-31934704792e"
      },
      "execution_count": null,
      "outputs": [
        {
          "output_type": "execute_result",
          "data": {
            "text/plain": [
              "                                            test_text  value\n",
              "0   potential disappointment saw lucy lui antonio ...      0\n",
              "1   julie garwood still one fav authors series rev...      0\n",
              "5   hate g rated movies would movie name ice princ...      0\n",
              "9   buy toaster update month toaster stopped poppi...      0\n",
              "10  like dance hits one keeper unfortunately many ...      0"
            ],
            "text/html": [
              "\n",
              "  <div id=\"df-5cc079a0-5460-45e6-9e65-9a5639e79b51\">\n",
              "    <div class=\"colab-df-container\">\n",
              "      <div>\n",
              "<style scoped>\n",
              "    .dataframe tbody tr th:only-of-type {\n",
              "        vertical-align: middle;\n",
              "    }\n",
              "\n",
              "    .dataframe tbody tr th {\n",
              "        vertical-align: top;\n",
              "    }\n",
              "\n",
              "    .dataframe thead th {\n",
              "        text-align: right;\n",
              "    }\n",
              "</style>\n",
              "<table border=\"1\" class=\"dataframe\">\n",
              "  <thead>\n",
              "    <tr style=\"text-align: right;\">\n",
              "      <th></th>\n",
              "      <th>test_text</th>\n",
              "      <th>value</th>\n",
              "    </tr>\n",
              "  </thead>\n",
              "  <tbody>\n",
              "    <tr>\n",
              "      <th>0</th>\n",
              "      <td>potential disappointment saw lucy lui antonio ...</td>\n",
              "      <td>0</td>\n",
              "    </tr>\n",
              "    <tr>\n",
              "      <th>1</th>\n",
              "      <td>julie garwood still one fav authors series rev...</td>\n",
              "      <td>0</td>\n",
              "    </tr>\n",
              "    <tr>\n",
              "      <th>5</th>\n",
              "      <td>hate g rated movies would movie name ice princ...</td>\n",
              "      <td>0</td>\n",
              "    </tr>\n",
              "    <tr>\n",
              "      <th>9</th>\n",
              "      <td>buy toaster update month toaster stopped poppi...</td>\n",
              "      <td>0</td>\n",
              "    </tr>\n",
              "    <tr>\n",
              "      <th>10</th>\n",
              "      <td>like dance hits one keeper unfortunately many ...</td>\n",
              "      <td>0</td>\n",
              "    </tr>\n",
              "  </tbody>\n",
              "</table>\n",
              "</div>\n",
              "      <button class=\"colab-df-convert\" onclick=\"convertToInteractive('df-5cc079a0-5460-45e6-9e65-9a5639e79b51')\"\n",
              "              title=\"Convert this dataframe to an interactive table.\"\n",
              "              style=\"display:none;\">\n",
              "        \n",
              "  <svg xmlns=\"http://www.w3.org/2000/svg\" height=\"24px\"viewBox=\"0 0 24 24\"\n",
              "       width=\"24px\">\n",
              "    <path d=\"M0 0h24v24H0V0z\" fill=\"none\"/>\n",
              "    <path d=\"M18.56 5.44l.94 2.06.94-2.06 2.06-.94-2.06-.94-.94-2.06-.94 2.06-2.06.94zm-11 1L8.5 8.5l.94-2.06 2.06-.94-2.06-.94L8.5 2.5l-.94 2.06-2.06.94zm10 10l.94 2.06.94-2.06 2.06-.94-2.06-.94-.94-2.06-.94 2.06-2.06.94z\"/><path d=\"M17.41 7.96l-1.37-1.37c-.4-.4-.92-.59-1.43-.59-.52 0-1.04.2-1.43.59L10.3 9.45l-7.72 7.72c-.78.78-.78 2.05 0 2.83L4 21.41c.39.39.9.59 1.41.59.51 0 1.02-.2 1.41-.59l7.78-7.78 2.81-2.81c.8-.78.8-2.07 0-2.86zM5.41 20L4 18.59l7.72-7.72 1.47 1.35L5.41 20z\"/>\n",
              "  </svg>\n",
              "      </button>\n",
              "      \n",
              "  <style>\n",
              "    .colab-df-container {\n",
              "      display:flex;\n",
              "      flex-wrap:wrap;\n",
              "      gap: 12px;\n",
              "    }\n",
              "\n",
              "    .colab-df-convert {\n",
              "      background-color: #E8F0FE;\n",
              "      border: none;\n",
              "      border-radius: 50%;\n",
              "      cursor: pointer;\n",
              "      display: none;\n",
              "      fill: #1967D2;\n",
              "      height: 32px;\n",
              "      padding: 0 0 0 0;\n",
              "      width: 32px;\n",
              "    }\n",
              "\n",
              "    .colab-df-convert:hover {\n",
              "      background-color: #E2EBFA;\n",
              "      box-shadow: 0px 1px 2px rgba(60, 64, 67, 0.3), 0px 1px 3px 1px rgba(60, 64, 67, 0.15);\n",
              "      fill: #174EA6;\n",
              "    }\n",
              "\n",
              "    [theme=dark] .colab-df-convert {\n",
              "      background-color: #3B4455;\n",
              "      fill: #D2E3FC;\n",
              "    }\n",
              "\n",
              "    [theme=dark] .colab-df-convert:hover {\n",
              "      background-color: #434B5C;\n",
              "      box-shadow: 0px 1px 3px 1px rgba(0, 0, 0, 0.15);\n",
              "      filter: drop-shadow(0px 1px 2px rgba(0, 0, 0, 0.3));\n",
              "      fill: #FFFFFF;\n",
              "    }\n",
              "  </style>\n",
              "\n",
              "      <script>\n",
              "        const buttonEl =\n",
              "          document.querySelector('#df-5cc079a0-5460-45e6-9e65-9a5639e79b51 button.colab-df-convert');\n",
              "        buttonEl.style.display =\n",
              "          google.colab.kernel.accessAllowed ? 'block' : 'none';\n",
              "\n",
              "        async function convertToInteractive(key) {\n",
              "          const element = document.querySelector('#df-5cc079a0-5460-45e6-9e65-9a5639e79b51');\n",
              "          const dataTable =\n",
              "            await google.colab.kernel.invokeFunction('convertToInteractive',\n",
              "                                                     [key], {});\n",
              "          if (!dataTable) return;\n",
              "\n",
              "          const docLinkHtml = 'Like what you see? Visit the ' +\n",
              "            '<a target=\"_blank\" href=https://colab.research.google.com/notebooks/data_table.ipynb>data table notebook</a>'\n",
              "            + ' to learn more about interactive tables.';\n",
              "          element.innerHTML = '';\n",
              "          dataTable['output_type'] = 'display_data';\n",
              "          await google.colab.output.renderOutput(dataTable, element);\n",
              "          const docLink = document.createElement('div');\n",
              "          docLink.innerHTML = docLinkHtml;\n",
              "          element.appendChild(docLink);\n",
              "        }\n",
              "      </script>\n",
              "    </div>\n",
              "  </div>\n",
              "  "
            ]
          },
          "metadata": {},
          "execution_count": 13
        }
      ]
    },
    {
      "cell_type": "code",
      "source": [
        "# creo la sottoporzione di dataset con value == 1\n",
        "d2v_value_1 = df_d2v.loc[df_d2v[\"value\"] == 1]"
      ],
      "metadata": {
        "id": "rPGsIi9hbuNM"
      },
      "execution_count": null,
      "outputs": []
    },
    {
      "cell_type": "code",
      "source": [
        "d2v_value_1.head()"
      ],
      "metadata": {
        "colab": {
          "base_uri": "https://localhost:8080/",
          "height": 206
        },
        "id": "HoQ1EcLDcGKj",
        "outputId": "ffce084b-040b-4617-c7c4-1f129bae609a"
      },
      "execution_count": null,
      "outputs": [
        {
          "output_type": "execute_result",
          "data": {
            "text/plain": [
              "                                           test_text  value\n",
              "2  end metaphysics indeed heidegger bends neitzch...      1\n",
              "3  different good way opinion cd good shows ashan...      1\n",
              "4  expected strings goodness sake players love em...      1\n",
              "6  aircraft profile volume relates concise detail...      1\n",
              "7  excellent buy crib wonderful crib ever sturdy ...      1"
            ],
            "text/html": [
              "\n",
              "  <div id=\"df-6dfedc53-f6fb-4a98-be5b-d7d5f09360ed\">\n",
              "    <div class=\"colab-df-container\">\n",
              "      <div>\n",
              "<style scoped>\n",
              "    .dataframe tbody tr th:only-of-type {\n",
              "        vertical-align: middle;\n",
              "    }\n",
              "\n",
              "    .dataframe tbody tr th {\n",
              "        vertical-align: top;\n",
              "    }\n",
              "\n",
              "    .dataframe thead th {\n",
              "        text-align: right;\n",
              "    }\n",
              "</style>\n",
              "<table border=\"1\" class=\"dataframe\">\n",
              "  <thead>\n",
              "    <tr style=\"text-align: right;\">\n",
              "      <th></th>\n",
              "      <th>test_text</th>\n",
              "      <th>value</th>\n",
              "    </tr>\n",
              "  </thead>\n",
              "  <tbody>\n",
              "    <tr>\n",
              "      <th>2</th>\n",
              "      <td>end metaphysics indeed heidegger bends neitzch...</td>\n",
              "      <td>1</td>\n",
              "    </tr>\n",
              "    <tr>\n",
              "      <th>3</th>\n",
              "      <td>different good way opinion cd good shows ashan...</td>\n",
              "      <td>1</td>\n",
              "    </tr>\n",
              "    <tr>\n",
              "      <th>4</th>\n",
              "      <td>expected strings goodness sake players love em...</td>\n",
              "      <td>1</td>\n",
              "    </tr>\n",
              "    <tr>\n",
              "      <th>6</th>\n",
              "      <td>aircraft profile volume relates concise detail...</td>\n",
              "      <td>1</td>\n",
              "    </tr>\n",
              "    <tr>\n",
              "      <th>7</th>\n",
              "      <td>excellent buy crib wonderful crib ever sturdy ...</td>\n",
              "      <td>1</td>\n",
              "    </tr>\n",
              "  </tbody>\n",
              "</table>\n",
              "</div>\n",
              "      <button class=\"colab-df-convert\" onclick=\"convertToInteractive('df-6dfedc53-f6fb-4a98-be5b-d7d5f09360ed')\"\n",
              "              title=\"Convert this dataframe to an interactive table.\"\n",
              "              style=\"display:none;\">\n",
              "        \n",
              "  <svg xmlns=\"http://www.w3.org/2000/svg\" height=\"24px\"viewBox=\"0 0 24 24\"\n",
              "       width=\"24px\">\n",
              "    <path d=\"M0 0h24v24H0V0z\" fill=\"none\"/>\n",
              "    <path d=\"M18.56 5.44l.94 2.06.94-2.06 2.06-.94-2.06-.94-.94-2.06-.94 2.06-2.06.94zm-11 1L8.5 8.5l.94-2.06 2.06-.94-2.06-.94L8.5 2.5l-.94 2.06-2.06.94zm10 10l.94 2.06.94-2.06 2.06-.94-2.06-.94-.94-2.06-.94 2.06-2.06.94z\"/><path d=\"M17.41 7.96l-1.37-1.37c-.4-.4-.92-.59-1.43-.59-.52 0-1.04.2-1.43.59L10.3 9.45l-7.72 7.72c-.78.78-.78 2.05 0 2.83L4 21.41c.39.39.9.59 1.41.59.51 0 1.02-.2 1.41-.59l7.78-7.78 2.81-2.81c.8-.78.8-2.07 0-2.86zM5.41 20L4 18.59l7.72-7.72 1.47 1.35L5.41 20z\"/>\n",
              "  </svg>\n",
              "      </button>\n",
              "      \n",
              "  <style>\n",
              "    .colab-df-container {\n",
              "      display:flex;\n",
              "      flex-wrap:wrap;\n",
              "      gap: 12px;\n",
              "    }\n",
              "\n",
              "    .colab-df-convert {\n",
              "      background-color: #E8F0FE;\n",
              "      border: none;\n",
              "      border-radius: 50%;\n",
              "      cursor: pointer;\n",
              "      display: none;\n",
              "      fill: #1967D2;\n",
              "      height: 32px;\n",
              "      padding: 0 0 0 0;\n",
              "      width: 32px;\n",
              "    }\n",
              "\n",
              "    .colab-df-convert:hover {\n",
              "      background-color: #E2EBFA;\n",
              "      box-shadow: 0px 1px 2px rgba(60, 64, 67, 0.3), 0px 1px 3px 1px rgba(60, 64, 67, 0.15);\n",
              "      fill: #174EA6;\n",
              "    }\n",
              "\n",
              "    [theme=dark] .colab-df-convert {\n",
              "      background-color: #3B4455;\n",
              "      fill: #D2E3FC;\n",
              "    }\n",
              "\n",
              "    [theme=dark] .colab-df-convert:hover {\n",
              "      background-color: #434B5C;\n",
              "      box-shadow: 0px 1px 3px 1px rgba(0, 0, 0, 0.15);\n",
              "      filter: drop-shadow(0px 1px 2px rgba(0, 0, 0, 0.3));\n",
              "      fill: #FFFFFF;\n",
              "    }\n",
              "  </style>\n",
              "\n",
              "      <script>\n",
              "        const buttonEl =\n",
              "          document.querySelector('#df-6dfedc53-f6fb-4a98-be5b-d7d5f09360ed button.colab-df-convert');\n",
              "        buttonEl.style.display =\n",
              "          google.colab.kernel.accessAllowed ? 'block' : 'none';\n",
              "\n",
              "        async function convertToInteractive(key) {\n",
              "          const element = document.querySelector('#df-6dfedc53-f6fb-4a98-be5b-d7d5f09360ed');\n",
              "          const dataTable =\n",
              "            await google.colab.kernel.invokeFunction('convertToInteractive',\n",
              "                                                     [key], {});\n",
              "          if (!dataTable) return;\n",
              "\n",
              "          const docLinkHtml = 'Like what you see? Visit the ' +\n",
              "            '<a target=\"_blank\" href=https://colab.research.google.com/notebooks/data_table.ipynb>data table notebook</a>'\n",
              "            + ' to learn more about interactive tables.';\n",
              "          element.innerHTML = '';\n",
              "          dataTable['output_type'] = 'display_data';\n",
              "          await google.colab.output.renderOutput(dataTable, element);\n",
              "          const docLink = document.createElement('div');\n",
              "          docLink.innerHTML = docLinkHtml;\n",
              "          element.appendChild(docLink);\n",
              "        }\n",
              "      </script>\n",
              "    </div>\n",
              "  </div>\n",
              "  "
            ]
          },
          "metadata": {},
          "execution_count": 15
        }
      ]
    },
    {
      "cell_type": "markdown",
      "source": [
        "###TOPIC MODELING\n"
      ],
      "metadata": {
        "id": "cHonh45d1_VL"
      }
    },
    {
      "cell_type": "code",
      "source": [
        "tfidf_0 = tfidf_value_0['test_text']"
      ],
      "metadata": {
        "id": "oAp46LTocxSO"
      },
      "execution_count": null,
      "outputs": []
    },
    {
      "cell_type": "code",
      "source": [
        "l_0 = tfidf_0.tolist() "
      ],
      "metadata": {
        "id": "MbBQZX9Qi5mq"
      },
      "execution_count": null,
      "outputs": []
    },
    {
      "cell_type": "code",
      "source": [
        "tfidf_1 = tfidf_value_1['test_text']"
      ],
      "metadata": {
        "id": "YmIlMviGsGW5"
      },
      "execution_count": null,
      "outputs": []
    },
    {
      "cell_type": "code",
      "source": [
        "l_1 = tfidf_1.tolist() "
      ],
      "metadata": {
        "id": "o1Z6IE0_sKSR"
      },
      "execution_count": null,
      "outputs": []
    },
    {
      "cell_type": "markdown",
      "source": [
        "####GENSIM TOPIC MODELING"
      ],
      "metadata": {
        "id": "qketRx6ZvBGH"
      }
    },
    {
      "cell_type": "markdown",
      "source": [
        "#####tf-idf"
      ],
      "metadata": {
        "id": "b3tl7n-ziKLb"
      }
    },
    {
      "cell_type": "markdown",
      "source": [
        "######recensioni classificate come negative"
      ],
      "metadata": {
        "id": "sRWQcMRzysR9"
      }
    },
    {
      "cell_type": "code",
      "source": [
        "size = len(l_0)"
      ],
      "metadata": {
        "id": "JEBlcpvrwEmS"
      },
      "execution_count": null,
      "outputs": []
    },
    {
      "cell_type": "code",
      "source": [
        "text=[]\n",
        "for x in range(0,size):\n",
        "  text.append(list(l_0[x].split()))"
      ],
      "metadata": {
        "id": "m9KC37osvybQ"
      },
      "execution_count": null,
      "outputs": []
    },
    {
      "cell_type": "code",
      "source": [
        "doc_id = 0\n",
        "l_0[doc_id]"
      ],
      "metadata": {
        "colab": {
          "base_uri": "https://localhost:8080/",
          "height": 53
        },
        "id": "Mg9w2mw7w_5m",
        "outputId": "64e3b774-6288-4ae4-9ded-a564da13f97f"
      },
      "execution_count": null,
      "outputs": [
        {
          "output_type": "execute_result",
          "data": {
            "text/plain": [
              "'potential disappointment saw lucy lui antonio banderas going action film together excited actors high list quality artists imagine dismay watched movie realized horribly plotted poorly constructed bomb banderas ecks lui sever one dimensional robots screen dialogue forced action scenes thrown time time liven things plot weak best even bad guy miscast unconvincing unless diehard fan either lui banderas avoid wasting time sitting movie beginning end bad'"
            ],
            "application/vnd.google.colaboratory.intrinsic+json": {
              "type": "string"
            }
          },
          "metadata": {},
          "execution_count": 20
        }
      ]
    },
    {
      "cell_type": "code",
      "source": [
        "text[doc_id][:5]"
      ],
      "metadata": {
        "colab": {
          "base_uri": "https://localhost:8080/"
        },
        "id": "JMs4hM5M07XD",
        "outputId": "ce971bcf-5c08-46e5-ba98-3e710f8f31da"
      },
      "execution_count": null,
      "outputs": [
        {
          "output_type": "execute_result",
          "data": {
            "text/plain": [
              "['potential', 'disappointment', 'saw', 'lucy', 'lui']"
            ]
          },
          "metadata": {},
          "execution_count": 21
        }
      ]
    },
    {
      "cell_type": "code",
      "source": [
        "dictionary = Dictionary(text)\n",
        "dictionary.filter_extremes(no_below=5, no_above=0.5)"
      ],
      "metadata": {
        "id": "0dGkMd6R1B_q"
      },
      "execution_count": null,
      "outputs": []
    },
    {
      "cell_type": "code",
      "source": [
        "dictionary[549]"
      ],
      "metadata": {
        "colab": {
          "base_uri": "https://localhost:8080/",
          "height": 36
        },
        "id": "BubR1mLTE4Va",
        "outputId": "79420d57-af3f-42d0-b395-dd4d35022591"
      },
      "execution_count": null,
      "outputs": [
        {
          "output_type": "execute_result",
          "data": {
            "text/plain": [
              "'cd'"
            ],
            "application/vnd.google.colaboratory.intrinsic+json": {
              "type": "string"
            }
          },
          "metadata": {},
          "execution_count": 25
        }
      ]
    },
    {
      "cell_type": "code",
      "source": [
        "dictionary[0]"
      ],
      "metadata": {
        "colab": {
          "base_uri": "https://localhost:8080/",
          "height": 36
        },
        "id": "GfvCjpJr1jdi",
        "outputId": "4d7cbbab-0a3d-46a9-8ae7-e5a0555b6f35"
      },
      "execution_count": null,
      "outputs": [
        {
          "output_type": "execute_result",
          "data": {
            "text/plain": [
              "'action'"
            ],
            "application/vnd.google.colaboratory.intrinsic+json": {
              "type": "string"
            }
          },
          "metadata": {},
          "execution_count": 26
        }
      ]
    },
    {
      "cell_type": "code",
      "source": [
        "corpus = [dictionary.doc2bow(i) for i in text]"
      ],
      "metadata": {
        "id": "c7oYycnD1o5Z"
      },
      "execution_count": null,
      "outputs": []
    },
    {
      "cell_type": "code",
      "source": [
        "[(dictionary[k], v) for k, v in corpus[0][:5]]"
      ],
      "metadata": {
        "colab": {
          "base_uri": "https://localhost:8080/"
        },
        "id": "wv0T2GVS26Zs",
        "outputId": "38d1289e-5ffe-43a4-c800-77d7a3f87d4a"
      },
      "execution_count": null,
      "outputs": [
        {
          "output_type": "execute_result",
          "data": {
            "text/plain": [
              "[('action', 2), ('actors', 1), ('artists', 1), ('avoid', 1), ('bad', 2)]"
            ]
          },
          "metadata": {},
          "execution_count": 28
        }
      ]
    },
    {
      "cell_type": "code",
      "source": [
        "lda_gensim_tf_idf0 = LdaModel(corpus, num_topics=8, id2word=dictionary,  random_state=28)"
      ],
      "metadata": {
        "colab": {
          "base_uri": "https://localhost:8080/"
        },
        "id": "5Io8WHKQ3KDc",
        "outputId": "136adcbb-3c02-4d7d-9e6c-ff0d1977462f"
      },
      "execution_count": null,
      "outputs": [
        {
          "output_type": "stream",
          "name": "stderr",
          "text": [
            "WARNING:gensim.models.ldamodel:too few updates, training might not converge; consider increasing the number of passes or iterations to improve accuracy\n"
          ]
        }
      ]
    },
    {
      "cell_type": "code",
      "source": [
        "pyLDAvis.gensim.prepare(lda_gensim_tf_idf0, corpus, dictionary, mds='tsne')"
      ],
      "metadata": {
        "colab": {
          "base_uri": "https://localhost:8080/",
          "height": 862
        },
        "id": "9z2NMkg_3Y_5",
        "outputId": "e21250f1-2105-475c-a7a9-8ecd283b03ed"
      },
      "execution_count": null,
      "outputs": [
        {
          "output_type": "execute_result",
          "data": {
            "text/plain": [
              "PreparedData(topic_coordinates=                x           y  topics  cluster       Freq\n",
              "topic                                                    \n",
              "5     -108.958252 -208.941483       1        1  26.440093\n",
              "0      186.487061  -98.103249       2        1  18.343510\n",
              "4       19.245832  160.858780       3        1  14.241404\n",
              "7      170.658829   75.445076       4        1  10.588887\n",
              "1       -1.386411  -35.043739       5        1   8.717007\n",
              "6     -145.800095  106.944611       6        1   8.047467\n",
              "2       64.834541 -221.825272       7        1   7.156111\n",
              "3     -196.906036  -58.990913       8        1   6.465521, topic_info=          Term         Freq        Total Category  logprob  loglift\n",
              "55        book  5358.000000  5358.000000  Default  30.0000  30.0000\n",
              "29       movie  1868.000000  1868.000000  Default  29.0000  29.0000\n",
              "220    product  1803.000000  1803.000000  Default  28.0000  28.0000\n",
              "1031       dvd   835.000000   835.000000  Default  27.0000  27.0000\n",
              "1579      game   807.000000   807.000000  Default  26.0000  26.0000\n",
              "...        ...          ...          ...      ...      ...      ...\n",
              "597   original    67.777043   414.500173   Topic8  -5.9391   0.9278\n",
              "549         cd    77.071368   843.452781   Topic8  -5.8106   0.3459\n",
              "52     another    77.214542   867.998636   Topic8  -5.8088   0.3191\n",
              "89      really    86.252609  1712.634554   Topic8  -5.6981  -0.2498\n",
              "422       make    77.352343   989.793032   Topic8  -5.8070   0.1896\n",
              "\n",
              "[703 rows x 6 columns], token_table=      Topic      Freq    Term\n",
              "term                         \n",
              "1271      1  0.112213  acting\n",
              "1271      2  0.367243  acting\n",
              "1271      3  0.010201  acting\n",
              "1271      4  0.484557  acting\n",
              "1271      5  0.005101  acting\n",
              "...     ...       ...     ...\n",
              "4333      6  0.051833    yoga\n",
              "5980      4  0.949186     yrs\n",
              "5980      6  0.043145     yrs\n",
              "3686      8  0.917897   zelda\n",
              "5183      6  0.973441  zombie\n",
              "\n",
              "[2065 rows x 3 columns], R=30, lambda_step=0.01, plot_opts={'xlab': 'PC1', 'ylab': 'PC2'}, topic_order=[6, 1, 5, 8, 2, 7, 3, 4])"
            ],
            "text/html": [
              "\n",
              "<link rel=\"stylesheet\" type=\"text/css\" href=\"https://cdn.rawgit.com/bmabey/pyLDAvis/files/ldavis.v1.0.0.css\">\n",
              "\n",
              "\n",
              "<div id=\"ldavis_el9901397265650641448842516717\"></div>\n",
              "<script type=\"text/javascript\">\n",
              "\n",
              "var ldavis_el9901397265650641448842516717_data = {\"mdsDat\": {\"x\": [-108.958251953125, 186.487060546875, 19.245832443237305, 170.65882873535156, -1.3864107131958008, -145.8000946044922, 64.83454132080078, -196.90603637695312], \"y\": [-208.9414825439453, -98.1032485961914, 160.85877990722656, 75.44507598876953, -35.043739318847656, 106.94461059570312, -221.8252716064453, -58.99091339111328], \"topics\": [1, 2, 3, 4, 5, 6, 7, 8], \"cluster\": [1, 1, 1, 1, 1, 1, 1, 1], \"Freq\": [26.440093070502662, 18.343510360830702, 14.24140351019566, 10.588887036359802, 8.717006860026899, 8.047467101313202, 7.156110966258986, 6.465521094512083]}, \"tinfo\": {\"Term\": [\"book\", \"movie\", \"product\", \"dvd\", \"game\", \"amazon\", \"read\", \"album\", \"item\", \"buy\", \"cd\", \"author\", \"music\", \"quality\", \"books\", \"ordered\", \"sound\", \"phone\", \"service\", \"money\", \"received\", \"back\", \"bought\", \"use\", \"get\", \"would\", \"time\", \"waste\", \"customer\", \"work\", \"mood\", \"lists\", \"banks\", \"outline\", \"erotic\", \"biased\", \"plates\", \"teacher\", \"grisham\", \"teeth\", \"graphic\", \"aspect\", \"toxic\", \"recommendations\", \"enjoys\", \"authentic\", \"fairy\", \"describing\", \"married\", \"captivating\", \"resource\", \"sleepy\", \"novels\", \"guides\", \"prayer\", \"nonexistent\", \"premise\", \"disturbing\", \"blah\", \"cultural\", \"author\", \"pages\", \"book\", \"books\", \"development\", \"chapters\", \"introduction\", \"novel\", \"chapter\", \"subject\", \"errors\", \"prose\", \"method\", \"history\", \"reading\", \"authors\", \"examples\", \"read\", \"written\", \"reader\", \"characters\", \"readers\", \"fiction\", \"library\", \"depth\", \"tale\", \"page\", \"ms\", \"writing\", \"story\", \"information\", \"character\", \"plot\", \"text\", \"interesting\", \"stories\", \"many\", \"boring\", \"learn\", \"like\", \"really\", \"one\", \"found\", \"would\", \"life\", \"much\", \"people\", \"time\", \"first\", \"good\", \"something\", \"could\", \"better\", \"even\", \"get\", \"money\", \"bad\", \"nothing\", \"waste\", \"oven\", \"map\", \"cleaned\", \"gary\", \"fascinating\", \"coating\", \"distortion\", \"exist\", \"cent\", \"poetry\", \"diaper\", \"dakota\", \"qualities\", \"lunch\", \"norelco\", \"performances\", \"lamp\", \"suffering\", \"twisted\", \"kim\", \"laura\", \"testament\", \"sight\", \"perfume\", \"talentless\", \"gloves\", \"opeth\", \"vader\", \"kelly\", \"margaret\", \"techno\", \"blender\", \"mats\", \"bands\", \"garage\", \"nu\", \"nightmare\", \"album\", \"oil\", \"beats\", \"song\", \"lyrics\", \"songs\", \"cd\", \"rock\", \"singer\", \"movie\", \"heard\", \"da\", \"killing\", \"sounds\", \"eat\", \"watch\", \"food\", \"film\", \"smell\", \"talent\", \"like\", \"really\", \"ever\", \"one\", \"better\", \"boring\", \"stars\", \"think\", \"get\", \"much\", \"great\", \"good\", \"music\", \"worst\", \"sound\", \"time\", \"even\", \"make\", \"would\", \"first\", \"buy\", \"got\", \"something\", \"could\", \"money\", \"never\", \"well\", \"bad\", \"work\", \"que\", \"es\", \"sleeve\", \"ea\", \"jacket\", \"keys\", \"restaurant\", \"harris\", \"limit\", \"attachment\", \"searched\", \"choppy\", \"garmin\", \"bells\", \"saga\", \"occur\", \"slower\", \"por\", \"una\", \"mi\", \"britney\", \"peel\", \"calories\", \"havent\", \"adventures\", \"controls\", \"william\", \"credited\", \"colorful\", \"avent\", \"clogged\", \"balls\", \"ebay\", \"kit\", \"camera\", \"pad\", \"wire\", \"junk\", \"portable\", \"remote\", \"bottles\", \"game\", \"inches\", \"saves\", \"mirror\", \"causing\", \"washed\", \"graphics\", \"computers\", \"stiff\", \"ball\", \"printer\", \"software\", \"hair\", \"microsoft\", \"unit\", \"broke\", \"install\", \"piece\", \"use\", \"games\", \"bought\", \"replace\", \"price\", \"design\", \"bag\", \"size\", \"blu\", \"cheap\", \"get\", \"buy\", \"one\", \"work\", \"product\", \"small\", \"computer\", \"support\", \"money\", \"quality\", \"working\", \"would\", \"even\", \"worth\", \"months\", \"two\", \"new\", \"first\", \"good\", \"time\", \"used\", \"like\", \"made\", \"thing\", \"could\", \"way\", \"cookbook\", \"leaks\", \"inspiring\", \"polish\", \"prime\", \"region\", \"candles\", \"orders\", \"beer\", \"photoshop\", \"woods\", \"dragon\", \"busy\", \"sources\", \"charles\", \"elementary\", \"parties\", \"faces\", \"pole\", \"subjected\", \"trained\", \"investigation\", \"yrs\", \"gate\", \"theatre\", \"tied\", \"views\", \"stroller\", \"edward\", \"cities\", \"rail\", \"dan\", \"dell\", \"vhs\", \"dvd\", \"trailer\", \"episodes\", \"closer\", \"yoga\", \"budget\", \"movie\", \"godzilla\", \"movies\", \"dvds\", \"watching\", \"greatest\", \"video\", \"seen\", \"film\", \"bad\", \"acting\", \"watched\", \"fit\", \"good\", \"wrong\", \"ray\", \"transfer\", \"player\", \"picture\", \"like\", \"even\", \"see\", \"know\", \"play\", \"would\", \"want\", \"one\", \"quality\", \"buy\", \"better\", \"amazon\", \"much\", \"thought\", \"version\", \"book\", \"look\", \"money\", \"get\", \"way\", \"could\", \"time\", \"collar\", \"hurts\", \"picking\", \"bratz\", \"buck\", \"scale\", \"compact\", \"locks\", \"eureka\", \"phillips\", \"informative\", \"solutions\", \"coat\", \"occasion\", \"ram\", \"afterwards\", \"caution\", \"chords\", \"antics\", \"sheets\", \"dos\", \"texas\", \"japan\", \"creates\", \"ripping\", \"pumping\", \"outright\", \"gear\", \"cords\", \"hazard\", \"vacuum\", \"yesterday\", \"ruins\", \"closely\", \"fm\", \"durable\", \"wipes\", \"menu\", \"signal\", \"ear\", \"de\", \"doll\", \"generic\", \"paper\", \"headphones\", \"holder\", \"alarm\", \"gel\", \"lid\", \"product\", \"battery\", \"quality\", \"wear\", \"comfortable\", \"sound\", \"la\", \"case\", \"poor\", \"small\", \"unit\", \"one\", \"used\", \"work\", \"good\", \"great\", \"would\", \"use\", \"price\", \"get\", \"buy\", \"like\", \"even\", \"also\", \"got\", \"bought\", \"new\", \"plastic\", \"time\", \"back\", \"two\", \"first\", \"well\", \"little\", \"way\", \"os\", \"critics\", \"hitch\", \"vcr\", \"monitor\", \"combo\", \"carb\", \"rebate\", \"cell\", \"dsl\", \"rake\", \"mold\", \"ballads\", \"crate\", \"cookbooks\", \"zombie\", \"projects\", \"navy\", \"frozen\", \"someday\", \"relatives\", \"netgear\", \"devoid\", \"tense\", \"converter\", \"hardcover\", \"georgia\", \"toaster\", \"cycle\", \"brass\", \"reply\", \"usb\", \"panel\", \"repeat\", \"refund\", \"warranty\", \"card\", \"phone\", \"contacted\", \"service\", \"sent\", \"cable\", \"customer\", \"receive\", \"item\", \"seller\", \"order\", \"ordered\", \"send\", \"shipping\", \"recipes\", \"received\", \"email\", \"amazon\", \"return\", \"replacement\", \"back\", \"month\", \"worked\", \"got\", \"get\", \"company\", \"would\", \"purchased\", \"time\", \"one\", \"months\", \"never\", \"still\", \"old\", \"work\", \"another\", \"tried\", \"album\", \"good\", \"buy\", \"dies\", \"manages\", \"dress\", \"cliched\", \"penny\", \"thicker\", \"inspired\", \"upside\", \"german\", \"tomatoes\", \"pots\", \"highlights\", \"seek\", \"camping\", \"sewing\", \"elegant\", \"warner\", \"crime\", \"sided\", \"jackson\", \"throat\", \"doa\", \"winner\", \"chill\", \"bosses\", \"tragic\", \"container\", \"swallow\", \"blatant\", \"chopped\", \"score\", \"cartoon\", \"nick\", \"traffic\", \"toys\", \"tea\", \"coffee\", \"nine\", \"blanket\", \"console\", \"noise\", \"shirt\", \"water\", \"kettle\", \"scent\", \"moon\", \"milk\", \"music\", \"musical\", \"warm\", \"groups\", \"recording\", \"hear\", \"tracks\", \"loud\", \"sound\", \"cd\", \"band\", \"songs\", \"would\", \"version\", \"set\", \"see\", \"like\", \"one\", \"get\", \"bad\", \"better\", \"made\", \"first\", \"good\", \"want\", \"buy\", \"think\", \"time\", \"even\", \"could\", \"way\", \"original\", \"quality\", \"really\", \"work\", \"money\", \"stayed\", \"jeans\", \"manufactured\", \"shaving\", \"piano\", \"cancelled\", \"pricey\", \"drums\", \"sprayed\", \"mosquito\", \"dave\", \"incomprehensible\", \"owner\", \"composite\", \"wheels\", \"stack\", \"jvc\", \"labels\", \"xl\", \"rank\", \"bone\", \"realise\", \"zelda\", \"grid\", \"physically\", \"spraying\", \"individuals\", \"centers\", \"tiger\", \"legitimate\", \"crib\", \"pitt\", \"mountain\", \"sheet\", \"trees\", \"vehicles\", \"keyboard\", \"paint\", \"noted\", \"puzzles\", \"advertising\", \"product\", \"filters\", \"machines\", \"pump\", \"amazon\", \"products\", \"network\", \"waste\", \"money\", \"buy\", \"light\", \"tool\", \"time\", \"company\", \"game\", \"work\", \"like\", \"received\", \"handle\", \"one\", \"never\", \"bought\", \"even\", \"new\", \"use\", \"would\", \"used\", \"ordered\", \"great\", \"item\", \"two\", \"return\", \"worked\", \"original\", \"cd\", \"another\", \"really\", \"make\"], \"Freq\": [5358.0, 1868.0, 1803.0, 835.0, 807.0, 786.0, 1748.0, 731.0, 591.0, 1892.0, 843.0, 677.0, 517.0, 1035.0, 709.0, 465.0, 657.0, 310.0, 311.0, 1664.0, 453.0, 1155.0, 1312.0, 1299.0, 2453.0, 3145.0, 2269.0, 1061.0, 298.0, 1542.0, 31.123623228296147, 26.29018203225152, 25.876261259712557, 24.24421136274526, 24.46125367290348, 29.386363058620187, 24.62736121557034, 61.53221222390958, 26.938291275256983, 22.42030635833708, 70.18116478810686, 35.60426904729675, 21.130493759881276, 21.527194882006164, 20.96463577736535, 19.5415825550156, 21.118014221290977, 23.917488131775848, 19.945764357492866, 23.691965369617666, 19.028425642951557, 18.8335145719447, 116.61451631932351, 18.862223175564715, 18.99529844672062, 20.124092692335868, 54.62132515846427, 22.892895200958456, 26.27880025211653, 20.533055944821417, 641.5719061477744, 336.8641429164033, 4920.886509505868, 658.7026947755912, 77.19387239513104, 74.19453295567362, 66.72827503656058, 281.51747041374307, 146.46782632390145, 104.4413457317305, 93.28267543375905, 43.93991491796379, 32.823133980295445, 146.714532609055, 680.5487065780184, 101.05098381186474, 79.67328158444029, 1460.350112451626, 416.6012996511303, 212.6314707534641, 573.1290028320349, 91.1640230496216, 88.78070217363921, 126.90151434828584, 104.80670179268998, 92.48072690262286, 241.17380300911728, 77.88927864539102, 273.5146183629929, 630.8520024022761, 309.7122189656882, 271.6217582047349, 339.87184797957036, 115.33684183667484, 256.8165884715004, 107.39430066608034, 550.6858104299182, 370.4845189989763, 130.28927349357136, 977.9835949795003, 639.1614306777008, 1143.9089679224408, 344.0847662810723, 879.692342241324, 218.4917187697632, 550.3220344062333, 352.1032472276549, 641.7344172683888, 456.14005442368625, 572.1741703841434, 336.1866131343779, 392.3010857656816, 390.4964137343775, 410.5869183862774, 436.6415615673684, 377.83970274735583, 365.7484491310222, 329.12095590612853, 331.39660152877036, 52.26314993090186, 42.784854023998236, 36.57129112488767, 44.068308422812486, 31.94034968673278, 27.681204433031496, 27.32880405665997, 26.590424975051047, 26.363753197772827, 38.68987421009444, 29.81722037706866, 24.03132973515814, 23.2928847970267, 23.850455858277897, 23.995816074291962, 36.7687969603084, 23.95056627011361, 22.65022073547673, 21.93292636309176, 21.034817597137202, 20.679838194367903, 20.424763136250974, 20.714712409644516, 19.94196896970747, 19.579768717905203, 19.424434425336333, 21.12043532521213, 19.097932657544067, 24.003648751663118, 18.32829722058885, 21.336614671371247, 42.09245979033507, 32.90458689890629, 88.07291021991134, 40.25831315026632, 27.475564254878424, 32.06373294386304, 527.9641101284913, 51.05643750045094, 30.810971933347798, 231.6130558944949, 86.41986051913779, 275.85825493677754, 458.891206041551, 89.07208537948001, 42.224831400586396, 759.089572827915, 152.15018493986662, 37.38884249298105, 40.599420195228824, 141.5410900533341, 55.502509057891814, 189.54254969460015, 90.93085386135286, 236.4348240420453, 61.207192234331835, 56.37597473800276, 778.7327974918675, 499.14074115468753, 294.84765604522005, 850.4183445447158, 420.06573537600605, 247.28767303803437, 174.7882243430824, 290.1257688738785, 549.6353757812147, 413.808566961376, 327.51877944741346, 511.3647994279415, 191.78151850296084, 217.38792806504495, 216.08918645539185, 445.0874749800268, 386.5228245728238, 268.37880645953607, 479.2469727862478, 321.68142724416884, 346.7104068168581, 260.64009572398817, 232.73553995705552, 266.1438315306052, 291.22692392076067, 248.8574036158091, 245.1343262065565, 242.745289503024, 234.52335334693038, 51.04494886018957, 46.8140985650365, 35.188221885537914, 33.9252543711463, 29.34314965794214, 28.43650000335539, 27.222227294937166, 25.542533576221608, 35.08508271073979, 40.76029378545698, 29.009180213695444, 21.32621882249394, 24.673863033447255, 19.36434625709199, 20.00682444514468, 18.219525167178485, 19.06241339024765, 22.79367846256671, 17.98206294356317, 19.37189358916536, 18.650339944616665, 20.045148266835426, 17.01976655890136, 20.229770919289333, 16.385130932913547, 30.070998793427037, 15.974525390592289, 16.75375608990624, 20.18168801458326, 15.341791441588875, 18.73662462062594, 31.607814390889967, 20.928939863029505, 70.42211700529258, 206.8167039597567, 72.63712042514398, 82.8808226468648, 244.80114640529632, 31.88751429524544, 60.777048843891386, 33.74603492233583, 586.1365756414173, 43.73716871098767, 34.639661470705065, 34.147036418620544, 35.87805067597138, 34.3901541933022, 85.04052734517862, 61.97628296536796, 56.15159645115218, 60.29688942463259, 62.42988817868678, 169.46281999752887, 128.7447655421416, 48.56723363046602, 258.66010645529934, 188.71531202241982, 63.10206254549407, 220.94466306392027, 481.94375634086725, 99.53787029793315, 480.1099657612218, 93.23271429050104, 228.27689617320078, 154.33947071105223, 98.82154008010569, 138.07127559471866, 81.86580544277001, 179.6888480036688, 515.9835962339685, 436.14071329031884, 698.1917621562197, 374.50291893219605, 408.85644811325585, 162.77668865334763, 119.54161214612742, 127.06230424842187, 339.9898665959491, 261.6478735532541, 152.8467878739956, 443.67503545210946, 325.1780690663194, 197.97602042281173, 175.2703732762599, 215.98679159672216, 217.22649366831942, 253.69802589906035, 299.587124368809, 286.03763132308717, 201.7761549003003, 291.9434186705005, 208.0087206150722, 196.21679273398206, 208.44398528366727, 187.6569042562214, 44.13138130157764, 29.069468066427486, 27.81678375928271, 27.727090475878207, 28.725560423395045, 28.40825908986143, 21.504294577187757, 21.40540141666949, 23.61726917930011, 24.720915967731234, 24.7320902252973, 25.664728687447433, 19.43516961596541, 21.91741099985127, 18.43888620282525, 23.235450978936978, 16.724753620603256, 18.235024676347287, 15.865683517281663, 16.896817811213083, 15.46316865922072, 15.214600291892406, 21.90035774856575, 27.617599429727154, 13.741943023249593, 13.74556926113621, 30.28179898030307, 20.02113998141967, 13.33417827530275, 13.11742686501477, 26.535884206518976, 18.076430420450546, 32.27795893374192, 57.90164258160023, 671.2523874937295, 28.452411632597222, 62.688399224260095, 22.986146817651285, 33.2608668390602, 40.665894773476374, 899.4255077609334, 25.55979220589256, 169.93526399471892, 76.41483661618119, 120.43725664325709, 63.42711673629646, 181.44578920989034, 136.53348525488107, 199.29874061063592, 366.1881708029052, 94.75995078443152, 70.58787824538847, 130.46670710691328, 454.64504566260314, 164.67728037528826, 74.57696556414676, 54.08529515756929, 103.87337701349519, 108.12963111817781, 390.1227437683854, 267.5078803817998, 181.59177073103433, 185.96442743977434, 125.68626357640773, 313.72490399261966, 163.01070706182475, 323.77524119407934, 170.0832861177714, 220.10595380318887, 195.86474115861745, 144.09618157113096, 188.0467635815014, 138.72400272951506, 118.48857011594833, 231.77150589988702, 120.50633297997584, 147.639922239246, 158.07788550803903, 136.21062867696924, 133.05301305651452, 138.19998008365582, 36.289749122019074, 33.30084056145496, 30.848928710818885, 44.57011312581673, 26.391164687799403, 25.24092097372672, 24.100027587007858, 26.370634752896866, 24.18223616583277, 23.26950409242934, 23.772590470267684, 21.670919147543035, 21.604200897255918, 20.716147953899075, 19.020920076861916, 18.093519437657257, 17.420207028967425, 20.78689021680035, 16.87922971649607, 41.446792852389045, 16.104848567501726, 23.20777093353427, 14.537377538513152, 14.250510666360318, 14.045598979363012, 21.197458628755136, 14.197972366193234, 24.77137543760759, 13.918207583538795, 12.81201297694066, 67.80461658670245, 24.327114753453884, 29.025215100357475, 17.73471400181344, 29.951890892332592, 39.09596185649586, 29.286438735076235, 24.813561950181704, 86.30840359442814, 71.81817847868706, 78.77561350657005, 54.796221496918285, 44.12972502379747, 83.47101637186174, 58.03616746859934, 30.5117172613817, 37.24150785865334, 42.51657448583614, 47.57828970061914, 423.8417498118696, 95.38676180668956, 289.08535694760633, 63.531656302047864, 63.1878929605219, 167.59459715762, 46.195656734237524, 107.88059208827339, 156.877680391975, 109.71831200857143, 121.08931960734844, 348.8058876610919, 156.61938441319728, 202.6518273573304, 251.55718513364295, 175.8049558601843, 274.6585468786216, 175.96730548701782, 113.9092050495155, 221.24466356341776, 195.08728128834062, 219.8953574170107, 157.4340884703288, 124.09825535362245, 122.44022485962124, 126.9549287620847, 117.31482404229145, 86.14192698225426, 137.2656645615404, 115.00526289980186, 108.53355224049021, 111.39975567380887, 106.49226129770855, 101.51947817504958, 99.40823846508033, 36.806720598924166, 32.83965896681028, 34.098285470490524, 37.550844524529275, 48.12676523191129, 35.50150177129306, 25.32619005188992, 23.559120805514777, 61.64954790966979, 22.991304351233747, 21.504460085394584, 24.49482574630912, 20.05404379951109, 20.98813638792035, 19.711611840770104, 16.615930677246194, 22.98145688574197, 16.21147441143747, 19.621441266633315, 15.387995720613997, 15.131426652354396, 22.747760853456167, 14.635098920441965, 16.879989262133837, 26.855881883365928, 13.10247969079166, 13.27645903711115, 43.99682432105383, 12.776620477779876, 12.019745920394245, 33.652575351518074, 100.94617303711755, 20.70493834142575, 41.07801914616897, 191.84676068615235, 131.73305950688982, 178.54445461511318, 226.3063510262497, 59.03755195776719, 212.54878374534655, 178.45939696882874, 119.12007229229256, 190.405000775386, 65.64698887030629, 294.27825138031903, 108.930631519619, 191.43012137388249, 238.7136281723873, 101.37105864644128, 138.81461556567515, 79.66681225660992, 198.46932755268048, 39.743080842898856, 268.84046790346946, 180.7374924496973, 89.78167101352408, 293.00766550912124, 113.38326658643638, 132.6118940762751, 219.11486422265213, 315.4504475789502, 112.78212196955967, 294.62877119686215, 132.93848024585355, 236.3275852333397, 268.37712442777695, 130.40023124165427, 156.0201639382381, 138.2989610410405, 138.9948113226354, 144.17524548015783, 129.9714983545007, 120.12547931989354, 121.82455948737174, 129.68639717299433, 124.11557615521532, 30.758375616643093, 24.75818227015701, 24.672358619414556, 23.82909459136651, 23.623620393046032, 29.951903808756704, 21.528900414703216, 19.70042470125685, 22.546473739351715, 18.189871760622424, 17.99014422299035, 17.666420090960234, 18.538511901728988, 17.377465991021445, 18.96716604670381, 24.298583675112454, 18.801999692231202, 48.17862746066417, 14.812046931152896, 16.99339280534148, 14.529596983663279, 15.421726689171605, 13.835514907910566, 13.698448679959586, 13.10954524683236, 20.21203331045794, 31.526790508058266, 15.070157690425464, 19.371099771284392, 12.236424937950783, 41.37134570468337, 23.500581851684597, 16.90435022899854, 19.881778505479367, 43.513373281153584, 44.54634672822952, 128.80938874518458, 22.715984483113132, 17.822400407493667, 18.934255764624716, 96.11868313990257, 32.47575032846782, 174.17991634469675, 36.999401617118814, 29.451813383900497, 40.50745038572429, 36.346045911843284, 220.95088542935125, 45.60069569772762, 42.31668547694078, 25.588602088896025, 60.07189454196956, 80.15943565619911, 56.312487796221475, 62.18548551308349, 152.7126727757643, 175.2791910399804, 75.31043419740571, 111.2429658543024, 310.4440052743607, 100.84541846687617, 93.08849730269168, 126.03554342391911, 216.05333156649533, 230.6023979116948, 185.64239438083504, 147.01568498251925, 146.60091763398154, 126.38009775060486, 147.54323075425827, 161.03587953101555, 108.29038562811861, 136.36549005867278, 102.83881190511435, 132.5946993886074, 123.33782519584571, 109.61605919565707, 106.194835226642, 78.7276403107794, 93.12723049189462, 96.75043458344963, 95.02081403108095, 90.05780094586959, 34.057852108172874, 40.10663580491841, 28.086460020724267, 24.560312122804326, 32.2216860837658, 21.281221939365075, 19.958708689305958, 18.66655275400473, 22.88767963962593, 17.04458468380912, 17.136155320096705, 19.941512051480256, 15.951138796388824, 22.14740653792673, 15.811033296799556, 17.191920468813564, 21.847553363208533, 18.059846745489935, 14.301816046534213, 16.095072094139066, 20.305696495995427, 16.18254986173575, 20.460374884436206, 15.380600688259689, 13.64789154192568, 12.956948515117938, 13.088453449433933, 15.332134713344317, 35.68278537412699, 15.60151526013624, 35.234082367479175, 19.735579206052222, 31.129640427675916, 37.483494845615716, 27.304412103023328, 18.33112322047896, 48.58938995701584, 77.80070447659631, 28.48718076873449, 38.451089139118174, 40.62650051462307, 496.2939792511762, 29.34499692593326, 23.758322514840646, 49.03743403127287, 203.3602415879573, 88.66954866041388, 28.84887474832724, 201.182553900557, 254.24788888414975, 262.16811245423963, 84.7411315233654, 47.893563342648264, 252.13611839700513, 86.26320544311899, 134.66083708897662, 174.5938531943666, 247.4006708192035, 94.65969935496906, 55.79684336485343, 230.62108927450848, 130.52598841448616, 135.4753494075123, 153.45116879501546, 108.07981594028601, 113.19281979741477, 149.1380489573471, 97.78239193545704, 77.73031252637779, 101.24677091203597, 80.83487248553044, 89.63871840135974, 73.46400084963257, 70.4332413182471, 67.77704291895793, 77.0713681550104, 77.21454218293765, 86.25260861221638, 77.35234291673281], \"Total\": [5358.0, 1868.0, 1803.0, 835.0, 807.0, 786.0, 1748.0, 731.0, 591.0, 1892.0, 843.0, 677.0, 517.0, 1035.0, 709.0, 465.0, 657.0, 310.0, 311.0, 1664.0, 453.0, 1155.0, 1312.0, 1299.0, 2453.0, 3145.0, 2269.0, 1061.0, 298.0, 1542.0, 32.04807077303247, 27.17177273392233, 26.746250361862423, 25.11461500571721, 25.350909375115403, 30.45952440247753, 25.54919009119579, 63.852227490180766, 27.985611528505814, 23.303637163058962, 72.96280054528474, 37.02268138580267, 21.99247522015796, 22.448174366419174, 21.864460377033737, 20.405745925052997, 22.061430055695194, 24.992668665112504, 20.844111009403775, 24.77108468687782, 19.899315411284544, 19.697969181246116, 121.9753463759627, 19.730641556960435, 19.87389446368302, 21.06016479013128, 57.21121883869071, 23.990975271767944, 27.549109328716103, 21.53227409354532, 677.431389707232, 354.1307311635546, 5358.306226624356, 709.9638615896413, 81.63865656004477, 78.51595910778265, 70.64279631553566, 302.53069949660915, 156.5595656790353, 111.5136966575206, 100.17034617544982, 46.51592887433026, 34.543438711674, 160.30516576822424, 780.1862856811167, 109.3363401398865, 85.7672580204402, 1748.8780893599883, 476.5847667401957, 237.7227674911664, 672.3492216497651, 99.5503839779196, 97.17850392592555, 141.82253373483243, 116.0509115861249, 102.61468415862798, 287.5297652396498, 85.95660766529943, 337.234510421979, 855.9694473728866, 390.387873779514, 344.1854198080732, 460.78754632590324, 132.6460606279657, 362.5134051015561, 123.73652651723411, 1060.289709572799, 684.9355218273149, 164.52602272549004, 3200.381467359095, 1712.634553974754, 4094.7008150925276, 700.0224996239706, 3145.2086267794925, 365.2466477584269, 1589.8939176322963, 792.548955667127, 2269.3835712356513, 1534.9131090761919, 2442.8869515631677, 876.2365159100045, 1270.0475650571375, 1470.3514203709487, 1888.8347890072957, 2453.4692724836013, 1664.5876920074065, 1425.251684478906, 900.4905569045965, 1061.923455256151, 53.293993809471345, 43.70923289159498, 37.44052951024262, 45.11585768381963, 32.83111460645677, 28.54847810450789, 28.196207845870383, 27.456622796510906, 27.229177495391934, 39.9901023532715, 30.857147173288848, 24.920410376380143, 24.15856131001339, 24.75356135742413, 24.91500599612437, 38.18298130698758, 24.877383052621777, 23.552436320146338, 22.836387274551402, 21.91561207846019, 21.547830358562116, 21.293133662726433, 21.604222938932637, 20.807378744658088, 20.445397081105284, 20.291071568860456, 22.07101709551852, 19.9644955657518, 25.10517706972978, 19.197016548480907, 22.352661148207183, 44.71862698981662, 34.9247161031568, 98.12535907255183, 43.77474301649039, 29.202769184204605, 34.423120731057274, 731.7982086101104, 57.6200342559204, 33.36145415269207, 330.69478796980195, 108.05346355289055, 443.41576429507796, 843.4527808983157, 120.06486011937969, 50.24328878611512, 1868.2402221090838, 252.281453473354, 43.38206698875772, 48.7419469792559, 267.852485800208, 74.52003149431525, 403.3735738539326, 147.47180763898888, 574.003687044885, 86.40726856468801, 77.15257981204572, 3200.381467359095, 1712.634553974754, 843.9422039740867, 4094.7008150925276, 1470.3514203709487, 684.9355218273149, 418.7422479010698, 917.0712047927952, 2453.4692724836013, 1589.8939176322963, 1188.6292603954014, 2442.8869515631677, 517.982498582845, 639.7798728051747, 657.6089774776347, 2269.3835712356513, 1888.8347890072957, 989.793031653697, 3145.2086267794925, 1534.9131090761919, 1892.8448048474565, 1078.571188070724, 876.2365159100045, 1270.0475650571375, 1664.5876920074065, 1162.491149054356, 1146.8662845821918, 1425.251684478906, 1542.5001159941971, 51.89455254667246, 47.66406296102513, 36.03960580326896, 34.84347531385087, 30.19359209141229, 29.28686922059673, 28.116428656129763, 26.42735239060555, 36.34178269034487, 42.25269158742838, 30.161936114781874, 22.178088099477716, 25.671567085764057, 20.228669314149478, 20.905698091652823, 19.071646239229366, 19.95985855339892, 23.86960809690231, 18.831741753764803, 20.30295457759353, 19.55471961767843, 21.029471261924538, 17.874019962974273, 21.273632476937085, 17.235911651789028, 31.6400301451094, 16.826874342583142, 17.653593026367023, 21.271921365298248, 16.19174598495508, 19.774871469073005, 33.598430077181845, 22.135088463197718, 78.33785883803381, 243.66928259675225, 81.4020914172408, 95.69195634959995, 309.99115666845347, 34.712936705227044, 69.52899418847295, 36.96197962785724, 807.1640585790022, 48.85380487012065, 38.18212637215387, 37.754590945121016, 39.89011669787667, 38.262497451475156, 106.22174792529998, 74.21860654340426, 67.07620174408505, 73.46246033884564, 76.77164113414818, 254.07936645593247, 184.40199614548473, 58.46687465114456, 510.77246116721676, 342.7351604816013, 82.79347902849051, 422.79767620094606, 1299.5526172448217, 155.67788073777683, 1312.022010093556, 145.14893922707523, 505.05896421531594, 298.59150200615534, 163.7261712612654, 280.0810382865023, 128.4233111203727, 443.6587592660344, 2453.4692724836013, 1892.8448048474565, 4094.7008150925276, 1542.5001159941971, 1803.2021060940647, 397.9376527809346, 240.14891727747357, 269.501187250406, 1664.5876920074065, 1035.6572919437667, 383.3024790957355, 3145.2086267794925, 1888.8347890072957, 684.2278437747481, 548.8086913596787, 1002.8974355577062, 1029.7635246046625, 1534.9131090761919, 2442.8869515631677, 2269.3835712356513, 883.2365720705225, 3200.381467359095, 1032.989983919932, 856.9533018445005, 1270.0475650571375, 1134.0973517275845, 44.993369595711705, 29.93310004007395, 28.680100298900708, 28.588982045302792, 29.623718959153088, 29.319353071583585, 22.36848721965691, 22.27180971491866, 24.576028037294734, 25.75085625633491, 25.773047440110453, 26.747098822451374, 20.300564734335797, 22.8960785913034, 19.30096118288599, 24.3453144573666, 17.607406562415655, 19.204782792312574, 16.728384566718958, 17.819095288376403, 16.3252849702329, 16.092966948214016, 23.177755684646122, 29.30442092037567, 14.602982763909937, 14.6220310299869, 32.251902272338704, 21.333805655446294, 14.213399821237411, 13.982385435291757, 28.31527024280777, 19.341746145810575, 35.03219571831097, 64.10291438270077, 835.1434580506959, 31.198131244837956, 73.19498339242229, 25.044348560887777, 38.585121052722464, 48.70442196559989, 1868.2402221090838, 28.873554376041067, 304.1112810083207, 113.87392454383246, 219.35584672447743, 97.22078370657452, 455.5095041261178, 317.21026509607066, 574.003687044885, 1425.251684478906, 196.05534138070647, 132.13305928007352, 346.1014279885186, 2442.8869515631677, 523.468535043424, 147.90262104364, 89.91526401278517, 275.6139596328187, 303.9150125761757, 3200.381467359095, 1888.8347890072957, 923.3022133637362, 1010.4234443270818, 491.1162991296978, 3145.2086267794925, 914.1427910405162, 4094.7008150925276, 1035.6572919437667, 1892.8448048474565, 1470.3514203709487, 786.5090622868335, 1589.8939176322963, 776.5687464197044, 509.6894322984794, 5358.306226624356, 601.1395243215175, 1664.5876920074065, 2453.4692724836013, 1134.0973517275845, 1270.0475650571375, 2269.3835712356513, 37.1530596323994, 34.166937963954126, 31.716509392613514, 45.829506049862644, 27.255673396229408, 26.104263658402537, 24.99086126026463, 27.34708276911229, 25.08027185175425, 24.165967284362235, 24.716366232297343, 22.535182210338466, 22.467840804328187, 21.632203514635922, 19.904157606713333, 18.964549350948566, 18.284850330071862, 21.856679434406544, 17.748361330055186, 43.66596530061286, 16.97023421436179, 24.47505418930186, 15.401728558800961, 15.115302685777836, 14.90932393842472, 22.516179071686455, 15.08417503920575, 26.359168000562754, 14.830021820077356, 13.675909732230949, 72.70768415739785, 25.975037019122034, 31.218594635405157, 18.943881284078635, 33.20906657205664, 44.73228718219197, 32.84116110696739, 27.73330097971881, 114.60814261678071, 94.81170326093414, 106.14774102857797, 69.4591994038162, 55.058110481965045, 128.49782520241294, 85.14342290175912, 36.8107966153932, 48.668300546394086, 59.37385587014509, 70.58243770318322, 1803.2021060940647, 196.7846807817329, 1035.6572919437667, 115.24835238598106, 115.97749441219665, 657.6089774776347, 75.47632293487645, 336.74580797137355, 709.520767809751, 397.9376527809346, 510.77246116721676, 4094.7008150925276, 883.2365720705225, 1542.5001159941971, 2442.8869515631677, 1188.6292603954014, 3145.2086267794925, 1299.5526172448217, 505.05896421531594, 2453.4692724836013, 1892.8448048474565, 3200.381467359095, 1888.8347890072957, 981.0491773898865, 1078.571188070724, 1312.022010093556, 1029.7635246046625, 366.262432678741, 2269.3835712356513, 1155.8204533060102, 1002.8974355577062, 1534.9131090761919, 1146.8662845821918, 870.89940572378, 1134.0973517275845, 37.654450851446455, 33.7104200154603, 35.06045321255012, 38.618287602663486, 49.651076008175814, 36.65238548014536, 26.173961296149177, 24.40709250118006, 63.89005245921275, 23.838764680015345, 22.353418938037418, 25.571795902542856, 20.95153989836801, 21.93271177997327, 20.702084947608093, 17.46382141902621, 24.16032960947284, 17.086567313987295, 20.693861633317226, 16.24739342363467, 15.981399923313168, 24.06523635581805, 15.496246190647073, 17.90659114796609, 28.50457794840563, 13.950042121957617, 14.13895092850158, 46.87809821700284, 13.663307102660998, 12.873353153217138, 36.17047667211128, 111.61504581341308, 22.35373123045349, 45.644136680592844, 230.86386711375818, 163.18046491165995, 237.83919597398528, 310.96504825259433, 71.67133309472268, 311.9303617777841, 259.8234878534351, 168.25927772368323, 298.2996989252274, 89.43442333048849, 591.9489113159797, 171.11967951394462, 350.2693721124315, 465.55874954711544, 162.1214086886186, 252.4165603731198, 122.16491102382525, 453.29890968414907, 49.12668468544584, 786.5090622868335, 479.97493646871715, 168.69440367123747, 1155.8204533060102, 284.88866667187494, 415.2013975164541, 1078.571188070724, 2453.4692724836013, 334.7927061315246, 3145.2086267794925, 531.5438349716053, 2269.3835712356513, 4094.7008150925276, 548.8086913596787, 1162.491149054356, 805.4748654114378, 834.2042583251108, 1542.5001159941971, 867.9986359386794, 596.7806378842683, 731.7982086101104, 2442.8869515631677, 1892.8448048474565, 31.67372615616548, 25.62510963133655, 25.538338340596724, 24.697373827151274, 24.49528999217646, 31.069370569393264, 22.438959924318517, 20.56635816976274, 23.597776517436984, 19.055545284659427, 18.87506603349431, 18.5373714450234, 19.454969054209325, 18.24624521380581, 19.920686705097385, 25.528163171053226, 19.837281907275642, 50.96140952903261, 15.67906858771362, 17.998122985102338, 15.40272564933103, 16.38400867742584, 14.705659081418897, 14.563833846636088, 13.975855405578534, 21.570943923342085, 33.6604986273969, 16.133978395453216, 20.739548257952457, 13.103073012067048, 45.27713499676732, 25.47368228104029, 18.179481616183065, 21.55231775337729, 49.9689868881872, 51.704348532230284, 164.72501656166656, 25.041872279310763, 19.265203348573245, 20.677390390520667, 141.04241991180925, 39.43379143511466, 323.8244877949064, 47.01281446396661, 35.44348336182352, 53.61993246588126, 47.00278132282247, 517.982498582845, 64.11830346955541, 61.95472701390996, 30.630571176182382, 108.93019950305089, 187.75869526463643, 113.76969946164677, 135.78777864173483, 657.6089774776347, 843.4527808983157, 204.9511264468344, 443.41576429507796, 3145.2086267794925, 509.6894322984794, 463.3632377926609, 923.3022133637362, 3200.381467359095, 4094.7008150925276, 2453.4692724836013, 1425.251684478906, 1470.3514203709487, 1032.989983919932, 1534.9131090761919, 2442.8869515631677, 914.1427910405162, 1892.8448048474565, 917.0712047927952, 2269.3835712356513, 1888.8347890072957, 1270.0475650571375, 1134.0973517275845, 414.50017341486443, 1035.6572919437667, 1712.634553974754, 1542.5001159941971, 1664.5876920074065, 34.987214845384734, 41.24296078791839, 28.983413934866952, 25.44287706050556, 33.58738551238182, 22.20981821894509, 20.876514764973575, 19.53131512498622, 24.04355461958562, 17.911212594147003, 18.017621103713473, 20.977808252327442, 16.81680639108743, 23.352558664556902, 16.697320257643536, 18.156353024535203, 23.07682446477784, 19.127442305896242, 15.167492850004678, 17.10235321323868, 21.59147633645959, 17.21952760087562, 21.78893863374239, 16.39037560383936, 14.556907513486358, 13.824797677452732, 13.974155558113456, 16.379622403813205, 38.148843526947, 16.695510836422855, 39.464166866309625, 21.49424159582297, 34.98323563506119, 42.63305375845507, 31.45046768690252, 20.023512077405012, 62.22080823553048, 109.31466114457888, 34.62242796593207, 51.69128041119564, 57.33906436621084, 1803.2021060940647, 38.79175994450411, 29.22119333662233, 87.11559918468191, 786.5090622868335, 255.7672096201903, 40.24207145995586, 1061.923455256151, 1664.5876920074065, 1892.8448048474565, 290.9212815433724, 104.1469243239155, 2269.3835712356513, 334.7927061315246, 807.1640585790022, 1542.5001159941971, 3200.381467359095, 453.29890968414907, 161.07966881101208, 4094.7008150925276, 1162.491149054356, 1312.022010093556, 1888.8347890072957, 1029.7635246046625, 1299.5526172448217, 3145.2086267794925, 883.2365720705225, 465.55874954711544, 1188.6292603954014, 591.9489113159797, 1002.8974355577062, 479.97493646871715, 415.2013975164541, 414.50017341486443, 843.4527808983157, 867.9986359386794, 1712.634553974754, 989.793031653697], \"Category\": [\"Default\", \"Default\", \"Default\", \"Default\", \"Default\", \"Default\", \"Default\", \"Default\", \"Default\", \"Default\", \"Default\", \"Default\", \"Default\", \"Default\", \"Default\", \"Default\", \"Default\", \"Default\", \"Default\", \"Default\", \"Default\", \"Default\", \"Default\", \"Default\", \"Default\", \"Default\", \"Default\", \"Default\", \"Default\", \"Default\", \"Topic1\", \"Topic1\", \"Topic1\", \"Topic1\", \"Topic1\", \"Topic1\", \"Topic1\", \"Topic1\", \"Topic1\", \"Topic1\", \"Topic1\", \"Topic1\", \"Topic1\", \"Topic1\", \"Topic1\", \"Topic1\", \"Topic1\", \"Topic1\", \"Topic1\", \"Topic1\", \"Topic1\", \"Topic1\", \"Topic1\", \"Topic1\", \"Topic1\", \"Topic1\", \"Topic1\", \"Topic1\", \"Topic1\", \"Topic1\", \"Topic1\", \"Topic1\", \"Topic1\", \"Topic1\", \"Topic1\", \"Topic1\", \"Topic1\", \"Topic1\", \"Topic1\", \"Topic1\", \"Topic1\", \"Topic1\", \"Topic1\", \"Topic1\", \"Topic1\", \"Topic1\", \"Topic1\", \"Topic1\", \"Topic1\", \"Topic1\", \"Topic1\", \"Topic1\", \"Topic1\", \"Topic1\", \"Topic1\", \"Topic1\", \"Topic1\", \"Topic1\", \"Topic1\", \"Topic1\", \"Topic1\", \"Topic1\", \"Topic1\", \"Topic1\", \"Topic1\", \"Topic1\", \"Topic1\", \"Topic1\", \"Topic1\", \"Topic1\", \"Topic1\", \"Topic1\", \"Topic1\", \"Topic1\", \"Topic1\", \"Topic1\", \"Topic1\", \"Topic1\", \"Topic1\", \"Topic1\", \"Topic1\", \"Topic1\", \"Topic1\", \"Topic1\", \"Topic1\", \"Topic1\", \"Topic1\", \"Topic1\", \"Topic1\", \"Topic2\", \"Topic2\", \"Topic2\", \"Topic2\", \"Topic2\", \"Topic2\", \"Topic2\", \"Topic2\", \"Topic2\", \"Topic2\", \"Topic2\", \"Topic2\", \"Topic2\", \"Topic2\", \"Topic2\", \"Topic2\", \"Topic2\", \"Topic2\", \"Topic2\", \"Topic2\", \"Topic2\", \"Topic2\", \"Topic2\", \"Topic2\", \"Topic2\", \"Topic2\", \"Topic2\", \"Topic2\", \"Topic2\", \"Topic2\", \"Topic2\", \"Topic2\", \"Topic2\", \"Topic2\", \"Topic2\", \"Topic2\", \"Topic2\", \"Topic2\", \"Topic2\", \"Topic2\", \"Topic2\", \"Topic2\", \"Topic2\", \"Topic2\", \"Topic2\", \"Topic2\", \"Topic2\", \"Topic2\", \"Topic2\", \"Topic2\", \"Topic2\", \"Topic2\", \"Topic2\", \"Topic2\", \"Topic2\", \"Topic2\", \"Topic2\", \"Topic2\", \"Topic2\", \"Topic2\", \"Topic2\", \"Topic2\", \"Topic2\", \"Topic2\", \"Topic2\", \"Topic2\", \"Topic2\", \"Topic2\", \"Topic2\", \"Topic2\", \"Topic2\", \"Topic2\", \"Topic2\", \"Topic2\", \"Topic2\", \"Topic2\", \"Topic2\", \"Topic2\", \"Topic2\", \"Topic2\", \"Topic2\", \"Topic2\", \"Topic2\", \"Topic2\", \"Topic2\", \"Topic2\", \"Topic3\", \"Topic3\", \"Topic3\", \"Topic3\", \"Topic3\", \"Topic3\", \"Topic3\", \"Topic3\", \"Topic3\", \"Topic3\", \"Topic3\", \"Topic3\", \"Topic3\", \"Topic3\", \"Topic3\", \"Topic3\", \"Topic3\", \"Topic3\", \"Topic3\", \"Topic3\", \"Topic3\", \"Topic3\", \"Topic3\", \"Topic3\", \"Topic3\", \"Topic3\", \"Topic3\", \"Topic3\", \"Topic3\", \"Topic3\", \"Topic3\", \"Topic3\", \"Topic3\", \"Topic3\", \"Topic3\", \"Topic3\", \"Topic3\", \"Topic3\", \"Topic3\", \"Topic3\", \"Topic3\", \"Topic3\", \"Topic3\", \"Topic3\", \"Topic3\", \"Topic3\", \"Topic3\", \"Topic3\", \"Topic3\", \"Topic3\", \"Topic3\", \"Topic3\", \"Topic3\", \"Topic3\", \"Topic3\", \"Topic3\", \"Topic3\", \"Topic3\", \"Topic3\", \"Topic3\", \"Topic3\", \"Topic3\", \"Topic3\", \"Topic3\", \"Topic3\", \"Topic3\", \"Topic3\", \"Topic3\", \"Topic3\", \"Topic3\", \"Topic3\", \"Topic3\", \"Topic3\", \"Topic3\", \"Topic3\", \"Topic3\", \"Topic3\", \"Topic3\", \"Topic3\", \"Topic3\", \"Topic3\", \"Topic3\", \"Topic3\", \"Topic3\", \"Topic3\", \"Topic3\", \"Topic3\", \"Topic3\", \"Topic3\", \"Topic3\", \"Topic3\", \"Topic3\", \"Topic3\", \"Topic3\", \"Topic3\", \"Topic4\", \"Topic4\", \"Topic4\", \"Topic4\", \"Topic4\", \"Topic4\", \"Topic4\", \"Topic4\", \"Topic4\", \"Topic4\", \"Topic4\", \"Topic4\", \"Topic4\", \"Topic4\", \"Topic4\", \"Topic4\", \"Topic4\", \"Topic4\", \"Topic4\", \"Topic4\", \"Topic4\", \"Topic4\", \"Topic4\", \"Topic4\", \"Topic4\", \"Topic4\", \"Topic4\", \"Topic4\", \"Topic4\", \"Topic4\", \"Topic4\", \"Topic4\", \"Topic4\", \"Topic4\", \"Topic4\", \"Topic4\", \"Topic4\", \"Topic4\", \"Topic4\", \"Topic4\", \"Topic4\", \"Topic4\", \"Topic4\", \"Topic4\", \"Topic4\", \"Topic4\", \"Topic4\", \"Topic4\", \"Topic4\", \"Topic4\", \"Topic4\", \"Topic4\", \"Topic4\", \"Topic4\", \"Topic4\", \"Topic4\", \"Topic4\", \"Topic4\", \"Topic4\", \"Topic4\", \"Topic4\", \"Topic4\", \"Topic4\", \"Topic4\", \"Topic4\", \"Topic4\", \"Topic4\", \"Topic4\", \"Topic4\", \"Topic4\", \"Topic4\", \"Topic4\", \"Topic4\", \"Topic4\", \"Topic4\", \"Topic4\", \"Topic4\", \"Topic4\", \"Topic4\", \"Topic4\", \"Topic4\", \"Topic5\", \"Topic5\", \"Topic5\", \"Topic5\", \"Topic5\", \"Topic5\", \"Topic5\", \"Topic5\", \"Topic5\", \"Topic5\", \"Topic5\", \"Topic5\", \"Topic5\", \"Topic5\", \"Topic5\", \"Topic5\", \"Topic5\", \"Topic5\", \"Topic5\", \"Topic5\", \"Topic5\", \"Topic5\", \"Topic5\", \"Topic5\", \"Topic5\", \"Topic5\", \"Topic5\", \"Topic5\", \"Topic5\", \"Topic5\", \"Topic5\", \"Topic5\", \"Topic5\", \"Topic5\", \"Topic5\", \"Topic5\", \"Topic5\", \"Topic5\", \"Topic5\", \"Topic5\", \"Topic5\", \"Topic5\", \"Topic5\", \"Topic5\", \"Topic5\", \"Topic5\", \"Topic5\", \"Topic5\", \"Topic5\", \"Topic5\", \"Topic5\", \"Topic5\", \"Topic5\", \"Topic5\", \"Topic5\", \"Topic5\", \"Topic5\", \"Topic5\", \"Topic5\", \"Topic5\", \"Topic5\", \"Topic5\", \"Topic5\", \"Topic5\", \"Topic5\", \"Topic5\", \"Topic5\", \"Topic5\", \"Topic5\", \"Topic5\", \"Topic5\", \"Topic5\", \"Topic5\", \"Topic5\", \"Topic5\", \"Topic5\", \"Topic5\", \"Topic5\", \"Topic5\", \"Topic5\", \"Topic5\", \"Topic5\", \"Topic5\", \"Topic5\", \"Topic6\", \"Topic6\", \"Topic6\", \"Topic6\", \"Topic6\", \"Topic6\", \"Topic6\", \"Topic6\", \"Topic6\", \"Topic6\", \"Topic6\", \"Topic6\", \"Topic6\", \"Topic6\", \"Topic6\", \"Topic6\", \"Topic6\", \"Topic6\", \"Topic6\", \"Topic6\", \"Topic6\", \"Topic6\", \"Topic6\", \"Topic6\", \"Topic6\", \"Topic6\", \"Topic6\", \"Topic6\", \"Topic6\", \"Topic6\", \"Topic6\", \"Topic6\", \"Topic6\", \"Topic6\", \"Topic6\", \"Topic6\", \"Topic6\", \"Topic6\", \"Topic6\", \"Topic6\", \"Topic6\", \"Topic6\", \"Topic6\", \"Topic6\", \"Topic6\", \"Topic6\", \"Topic6\", \"Topic6\", \"Topic6\", \"Topic6\", \"Topic6\", \"Topic6\", \"Topic6\", \"Topic6\", \"Topic6\", \"Topic6\", \"Topic6\", \"Topic6\", \"Topic6\", \"Topic6\", \"Topic6\", \"Topic6\", \"Topic6\", \"Topic6\", \"Topic6\", \"Topic6\", \"Topic6\", \"Topic6\", \"Topic6\", \"Topic6\", \"Topic6\", \"Topic6\", \"Topic6\", \"Topic6\", \"Topic6\", \"Topic6\", \"Topic7\", \"Topic7\", \"Topic7\", \"Topic7\", \"Topic7\", \"Topic7\", \"Topic7\", \"Topic7\", \"Topic7\", \"Topic7\", \"Topic7\", \"Topic7\", \"Topic7\", \"Topic7\", \"Topic7\", \"Topic7\", \"Topic7\", \"Topic7\", \"Topic7\", \"Topic7\", \"Topic7\", \"Topic7\", \"Topic7\", \"Topic7\", \"Topic7\", \"Topic7\", \"Topic7\", \"Topic7\", \"Topic7\", \"Topic7\", \"Topic7\", \"Topic7\", \"Topic7\", \"Topic7\", \"Topic7\", \"Topic7\", \"Topic7\", \"Topic7\", \"Topic7\", \"Topic7\", \"Topic7\", \"Topic7\", \"Topic7\", \"Topic7\", \"Topic7\", \"Topic7\", \"Topic7\", \"Topic7\", \"Topic7\", \"Topic7\", \"Topic7\", \"Topic7\", \"Topic7\", \"Topic7\", \"Topic7\", \"Topic7\", \"Topic7\", \"Topic7\", \"Topic7\", \"Topic7\", \"Topic7\", \"Topic7\", \"Topic7\", \"Topic7\", \"Topic7\", \"Topic7\", \"Topic7\", \"Topic7\", \"Topic7\", \"Topic7\", \"Topic7\", \"Topic7\", \"Topic7\", \"Topic7\", \"Topic7\", \"Topic7\", \"Topic7\", \"Topic7\", \"Topic7\", \"Topic7\", \"Topic7\", \"Topic7\", \"Topic7\", \"Topic8\", \"Topic8\", \"Topic8\", \"Topic8\", \"Topic8\", \"Topic8\", \"Topic8\", \"Topic8\", \"Topic8\", \"Topic8\", \"Topic8\", \"Topic8\", \"Topic8\", \"Topic8\", \"Topic8\", \"Topic8\", \"Topic8\", \"Topic8\", \"Topic8\", \"Topic8\", \"Topic8\", \"Topic8\", \"Topic8\", \"Topic8\", \"Topic8\", \"Topic8\", \"Topic8\", \"Topic8\", \"Topic8\", \"Topic8\", \"Topic8\", \"Topic8\", \"Topic8\", \"Topic8\", \"Topic8\", \"Topic8\", \"Topic8\", \"Topic8\", \"Topic8\", \"Topic8\", \"Topic8\", \"Topic8\", \"Topic8\", \"Topic8\", \"Topic8\", \"Topic8\", \"Topic8\", \"Topic8\", \"Topic8\", \"Topic8\", \"Topic8\", \"Topic8\", \"Topic8\", \"Topic8\", \"Topic8\", \"Topic8\", \"Topic8\", \"Topic8\", \"Topic8\", \"Topic8\", \"Topic8\", \"Topic8\", \"Topic8\", \"Topic8\", \"Topic8\", \"Topic8\", \"Topic8\", \"Topic8\", \"Topic8\", \"Topic8\", \"Topic8\", \"Topic8\", \"Topic8\", \"Topic8\", \"Topic8\", \"Topic8\", \"Topic8\", \"Topic8\", \"Topic8\"], \"logprob\": [30.0, 29.0, 28.0, 27.0, 26.0, 25.0, 24.0, 23.0, 22.0, 21.0, 20.0, 19.0, 18.0, 17.0, 16.0, 15.0, 14.0, 13.0, 12.0, 11.0, 10.0, 9.0, 8.0, 7.0, 6.0, 5.0, 4.0, 3.0, 2.0, 1.0, -8.125800132751465, -8.294500350952148, -8.310400009155273, -8.37559986114502, -8.366600036621094, -8.183199882507324, -8.35990047454834, -7.444200038909912, -8.2701997756958, -8.453800201416016, -7.312699794769287, -7.991300106048584, -8.512999534606934, -8.494400024414062, -8.520899772644043, -8.59119987487793, -8.51360034942627, -8.389100074768066, -8.570699691772461, -8.398599624633789, -8.617799758911133, -8.628100395202637, -6.804900169372559, -8.62660026550293, -8.619500160217285, -8.561800003051758, -7.563300132751465, -8.432900428771973, -8.295000076293945, -8.54170036315918, -5.099800109863281, -5.744100093841553, -3.0625, -5.073500156402588, -7.217400074005127, -7.256999969482422, -7.363100051879883, -5.923500061035156, -6.576900005340576, -6.91510009765625, -7.02810001373291, -7.780900001525879, -8.072600364685059, -6.575200080871582, -5.040800094604492, -6.9481000900268555, -7.185800075531006, -4.277299880981445, -5.531599998474121, -6.20419979095459, -5.212600231170654, -7.05109977722168, -7.077600002288818, -6.720300197601318, -6.911600112915039, -7.0366997718811035, -6.078199863433838, -7.208399772644043, -5.952400207519531, -5.116700172424316, -5.828100204467773, -5.9593000411987305, -5.735199928283691, -6.815899848937988, -6.015399932861328, -6.887199878692627, -5.252600193023682, -5.648900032043457, -6.693999767303467, -4.678199768066406, -5.103600025177002, -4.521500110626221, -5.722799777984619, -4.784200191497803, -6.177000045776367, -5.253200054168701, -5.69980001449585, -5.099599838256836, -5.440899848937988, -5.214300155639648, -5.746099948883057, -5.591700077056885, -5.59630012512207, -5.546199798583984, -5.484600067138672, -5.629300117492676, -5.661799907684326, -5.767300128936768, -5.76039981842041, -7.241799831390381, -7.44189977645874, -7.598899841308594, -7.412399768829346, -7.734300136566162, -7.877399921417236, -7.890200138092041, -7.917600154876709, -7.92609977722168, -7.542600154876709, -7.802999973297119, -8.018799781799316, -8.050000190734863, -8.026300430297852, -8.020299911499023, -7.593500137329102, -8.022100448608398, -8.07800006866455, -8.110099792480469, -8.152000427246094, -8.168999671936035, -8.181400299072266, -8.1673002243042, -8.205300331115723, -8.223600387573242, -8.231599807739258, -8.147899627685547, -8.248600006103516, -8.01990032196045, -8.28969955444336, -8.137700080871582, -7.4583001136779785, -7.704500198364258, -6.71999979019165, -7.502799987792969, -7.884799957275391, -7.730400085449219, -4.929100036621094, -7.265200138092041, -7.770299911499023, -5.7530999183654785, -6.738900184631348, -5.578199863433838, -5.069300174713135, -6.708700180053711, -7.455100059509277, -4.565999984741211, -6.173299789428711, -7.5767998695373535, -7.4944000244140625, -6.245500087738037, -7.181700229644775, -5.953499794006348, -6.688000202178955, -5.732500076293945, -7.083899974822998, -7.166100025177002, -4.540500164031982, -4.985199928283691, -5.51170015335083, -4.452400207519531, -5.157700061798096, -5.687600135803223, -6.034599781036377, -5.5278000831604, -4.888899803161621, -5.172699928283691, -5.406599998474121, -4.960999965667725, -5.941800117492676, -5.816400051116943, -5.822400093078613, -5.099899768829346, -5.240900039672852, -5.6057000160217285, -5.025899887084961, -5.424600124359131, -5.349599838256836, -5.635000228881836, -5.748199939727783, -5.614099979400635, -5.52400016784668, -5.681300163269043, -5.696300029754639, -5.706099987030029, -5.740600109100342, -7.01230001449585, -7.098800182342529, -7.384300231933594, -7.42080020904541, -7.565999984741211, -7.597300052642822, -7.640999794006348, -7.704699993133545, -7.387199878692627, -7.237299919128418, -7.577400207519531, -7.8850998878479, -7.739299774169922, -7.981599807739258, -7.94890022277832, -8.042499542236328, -7.997300148010254, -7.81850004196167, -8.0556001663208, -7.981200218200684, -8.019100189208984, -7.947000026702881, -8.110600471496582, -7.937900066375732, -8.148599624633789, -7.541399955749512, -8.173999786376953, -8.126399993896484, -7.940199851989746, -8.214400291442871, -8.01449966430664, -7.491600036621094, -7.903900146484375, -6.690499782562256, -5.6132001876831055, -6.6595001220703125, -6.527599811553955, -5.4446001052856445, -7.482800006866455, -6.837800025939941, -7.42609977722168, -4.571499824523926, -7.166800022125244, -7.400000095367432, -7.414299964904785, -7.3649001121521, -7.407199859619141, -6.5019001960754395, -6.818299770355225, -6.916999816894531, -6.845699787139893, -6.810999870300293, -5.812399864196777, -6.087200164794922, -7.062099933624268, -5.389500141143799, -5.704800128936768, -6.800300121307373, -5.547100067138672, -4.767199993133545, -6.3445000648498535, -4.770999908447266, -6.409900188446045, -5.514400005340576, -5.905900001525879, -6.3516998291015625, -6.017199993133545, -6.539899826049805, -5.753799915313721, -4.69890022277832, -4.867000102996826, -4.396500110626221, -5.019400119781494, -4.931600093841553, -5.85260009765625, -6.161300182342529, -6.100299835205078, -5.116099834442139, -5.377999782562256, -5.915599822998047, -4.849899768829346, -5.160600185394287, -5.656899929046631, -5.77869987487793, -5.569799900054932, -5.5640997886657715, -5.408899784088135, -5.242599964141846, -5.288899898529053, -5.637899875640869, -5.268400192260742, -5.607399940490723, -5.665800094604492, -5.605299949645996, -5.710400104522705, -6.861499786376953, -7.2789998054504395, -7.322999954223633, -7.326300144195557, -7.290900230407715, -7.302000045776367, -7.580399990081787, -7.585000038146973, -7.486700057983398, -7.440999984741211, -7.4405999183654785, -7.403500080108643, -7.681600093841553, -7.561399936676025, -7.7342000007629395, -7.502999782562256, -7.8317999839782715, -7.745299816131592, -7.884500026702881, -7.821499824523926, -7.910200119018555, -7.926400184631348, -7.56220006942749, -7.3302001953125, -8.028200149536133, -8.027899742126465, -7.238100051879883, -7.651899814605713, -8.058300018310547, -8.074700355529785, -7.370200157165527, -7.7540998458862305, -7.174300193786621, -6.589900016784668, -4.139500141143799, -7.3003997802734375, -6.510499954223633, -7.513800144195557, -7.1442999839782715, -6.943299770355225, -3.84689998626709, -7.407599925994873, -5.513199806213379, -6.3125, -5.857500076293945, -6.498799800872803, -5.447700023651123, -5.732100009918213, -5.353899955749512, -4.745500087738037, -6.097300052642822, -6.3917999267578125, -5.777500152587891, -4.529099941253662, -5.5447001457214355, -6.3368000984191895, -6.658100128173828, -6.005499839782715, -5.9653000831604, -4.682199954986572, -5.059500217437744, -5.446899890899658, -5.423099994659424, -5.814899921417236, -4.900100231170654, -5.554800033569336, -4.868599891662598, -5.512400150299072, -5.2546000480651855, -5.371200084686279, -5.678199768066406, -5.4120001792907715, -5.71619987487793, -5.873799800872803, -5.202899932861328, -5.85699987411499, -5.653900146484375, -5.585599899291992, -5.734499931335449, -5.757900238037109, -5.71999979019165, -6.862599849700928, -6.948500156402588, -7.025000095367432, -6.657100200653076, -7.181099891662598, -7.2256999015808105, -7.271900177001953, -7.1819000244140625, -7.268499851226807, -7.307000160217285, -7.285600185394287, -7.378200054168701, -7.381199836730957, -7.4232001304626465, -7.508600234985352, -7.558599948883057, -7.596499919891357, -7.4197998046875, -7.627999782562256, -6.729700088500977, -7.675000190734863, -7.309599876403809, -7.777400016784668, -7.797299861907959, -7.811800003051758, -7.400300025939941, -7.801000118255615, -7.2444000244140625, -7.820899963378906, -7.90369987487793, -6.237500190734863, -7.262499809265137, -7.085999965667725, -7.57859992980957, -7.054500102996826, -6.788099765777588, -7.077000141143799, -7.242700099945068, -5.996200084686279, -6.179999828338623, -6.087500095367432, -6.450500011444092, -6.666999816894531, -6.029600143432617, -6.393099784851074, -7.035999774932861, -6.836699962615967, -6.70419979095459, -6.591800212860107, -4.404799938201904, -5.896200180053711, -4.787399768829346, -6.302599906921387, -6.308000087738037, -5.332600116729736, -6.621200084686279, -5.773099899291992, -5.39870023727417, -5.756199836730957, -5.657599925994873, -4.599599838256836, -5.400300025939941, -5.142600059509277, -4.926499843597412, -5.284800052642822, -4.838600158691406, -5.28380012512207, -5.718699932098389, -5.054900169372559, -5.180699825286865, -5.060999870300293, -5.395100116729736, -5.6331000328063965, -5.646500110626221, -5.610300064086914, -5.689300060272217, -5.9980998039245605, -5.532199859619141, -5.709199905395508, -5.767099857330322, -5.741000175476074, -5.786099910736084, -5.833899974822998, -5.854899883270264, -6.768499851226807, -6.882599830627441, -6.84499979019165, -6.748499870300293, -6.500400066375732, -6.804599761962891, -7.142399787902832, -7.214700222015381, -6.252699851989746, -7.239099979400635, -7.306000232696533, -7.17579984664917, -7.375800132751465, -7.3302998542785645, -7.39300012588501, -7.563899993896484, -7.239500045776367, -7.588500022888184, -7.397600173950195, -7.640600204467773, -7.657400131225586, -7.24970006942749, -7.690800189971924, -7.548099994659424, -7.083700180053711, -7.801400184631348, -7.7881999015808105, -6.590099811553955, -7.826600074768066, -7.887700080871582, -6.858099937438965, -5.7596001625061035, -7.343800067901611, -6.658699989318848, -5.117499828338623, -5.4934000968933105, -5.1894001960754395, -4.952300071716309, -6.296000003814697, -5.014999866485596, -5.189899921417236, -5.594099998474121, -5.125100135803223, -6.189899921417236, -4.689700126647949, -5.683499813079834, -5.119699954986572, -4.898900032043457, -5.75540018081665, -5.441100120544434, -5.996399879455566, -5.083600044250488, -6.691800117492676, -4.780099868774414, -5.177199840545654, -5.876800060272217, -4.693999767303467, -5.643400192260742, -5.486800193786621, -4.984600067138672, -4.620200157165527, -5.648799896240234, -4.688499927520752, -5.484300136566162, -4.908999919891357, -4.781799793243408, -5.503600120544434, -5.32420015335083, -5.444799900054932, -5.439799785614014, -5.403200149536133, -5.506899833679199, -5.585700035095215, -5.571599960327148, -5.509099960327148, -5.552999973297119, -6.830699920654297, -7.047699928283691, -7.05109977722168, -7.085899829864502, -7.094600200653076, -6.8572001457214355, -7.187399864196777, -7.276199817657471, -7.141200065612793, -7.355999946594238, -7.367000102996826, -7.385200023651123, -7.336999893188477, -7.401599884033203, -7.3140997886657715, -7.066400051116943, -7.32289981842041, -6.381899833679199, -7.561399936676025, -7.423999786376953, -7.580599784851074, -7.520999908447266, -7.6296000480651855, -7.639500141143799, -7.683499813079834, -7.250500202178955, -6.806000232696533, -7.544099807739258, -7.293000221252441, -7.752399921417236, -6.534200191497803, -7.099800109863281, -7.429299831390381, -7.267000198364258, -6.483799934387207, -6.460299968719482, -5.398499965667725, -7.133800029754639, -7.376399993896484, -7.315800189971924, -5.691199779510498, -6.776299953460693, -5.096700191497803, -6.645899772644043, -6.874100208282471, -6.555300235748291, -6.663700103759766, -4.85890007019043, -6.4369001388549805, -6.511600017547607, -7.014699935913086, -6.161300182342529, -5.872799873352051, -6.225900173187256, -6.126699924468994, -5.228300094604492, -5.090400218963623, -5.935200214385986, -5.545100212097168, -4.518799781799316, -5.643199920654297, -5.723299980163574, -5.420300006866455, -4.88129997253418, -4.816100120544434, -5.0329999923706055, -5.266300201416016, -5.269100189208984, -5.417500019073486, -5.262700080871582, -5.17519998550415, -5.572000026702881, -5.3414998054504395, -5.623700141906738, -5.369500160217285, -5.44189977645874, -5.559800148010254, -5.5914998054504395, -5.8907999992370605, -5.722899913787842, -5.684700012207031, -5.702700138092041, -5.756400108337402, -6.627299785614014, -6.463799953460693, -6.820099830627441, -6.95419979095459, -6.682700157165527, -7.097499847412109, -7.1616997718811035, -7.228600025177002, -7.024700164794922, -7.319499969482422, -7.3140997886657715, -7.162499904632568, -7.385799884796143, -7.057600021362305, -7.394599914550781, -7.3109002113342285, -7.071300029754639, -7.261600017547607, -7.494999885559082, -7.376800060272217, -7.144400119781494, -7.371399879455566, -7.1367998123168945, -7.4222002029418945, -7.541800022125244, -7.593699932098389, -7.583600044250488, -7.4253997802734375, -6.580699920654297, -7.4079999923706055, -6.593299865722656, -7.172900199890137, -6.717199802398682, -6.531400203704834, -6.848299980163574, -7.246699810028076, -6.271900177001953, -5.801199913024902, -6.8059000968933105, -6.50600004196167, -6.450900077819824, -3.948199987411499, -6.776199817657471, -6.987400054931641, -6.262800216674805, -4.840400218963623, -5.670400142669678, -6.793300151824951, -4.851099967956543, -4.617000102996826, -4.586400032043457, -5.715700149536133, -6.286399841308594, -4.625400066375732, -5.69789981842041, -5.252600193023682, -4.9928998947143555, -4.6442999839782715, -5.605100154876709, -6.133600234985352, -4.714600086212158, -5.28380012512207, -5.246600151062012, -5.122000217437744, -5.472499847412109, -5.426199913024902, -5.1504998207092285, -5.5725998878479, -5.80210018157959, -5.537799835205078, -5.762899875640869, -5.659599781036377, -5.858500003814697, -5.900700092315674, -5.9390997886657715, -5.8105998039245605, -5.808800220489502, -5.6981000900268555, -5.807000160217285], \"loglift\": [30.0, 29.0, 28.0, 27.0, 26.0, 25.0, 24.0, 23.0, 22.0, 21.0, 20.0, 19.0, 18.0, 17.0, 16.0, 15.0, 14.0, 13.0, 12.0, 11.0, 10.0, 9.0, 8.0, 7.0, 6.0, 5.0, 4.0, 3.0, 2.0, 1.0, 1.301, 1.2973, 1.2972, 1.295, 1.2946, 1.2944, 1.2935, 1.2933, 1.2921, 1.2916, 1.2914, 1.2912, 1.2903, 1.2884, 1.2883, 1.287, 1.2866, 1.2863, 1.2862, 1.2857, 1.2855, 1.2854, 1.2853, 1.2853, 1.2851, 1.2848, 1.284, 1.2834, 1.2831, 1.2828, 1.2759, 1.2803, 1.2451, 1.2553, 1.2743, 1.2737, 1.2733, 1.2583, 1.2637, 1.2648, 1.2591, 1.2733, 1.2792, 1.2417, 1.1937, 1.2515, 1.2566, 1.15, 1.1958, 1.2187, 1.1706, 1.2423, 1.2399, 1.2191, 1.2284, 1.2263, 1.1545, 1.2317, 1.1209, 1.0251, 1.0988, 1.0935, 1.0259, 1.1905, 0.9856, 1.1886, 0.6752, 0.7158, 1.097, 0.1448, 0.3447, 0.055, 0.6201, 0.0562, 0.8165, 0.2694, 0.519, 0.0672, 0.1169, -0.1212, 0.3723, 0.1555, 0.0045, -0.1958, -0.3959, -0.1526, -0.0299, 0.3238, 0.1658, 1.6764, 1.6745, 1.6724, 1.6724, 1.6684, 1.665, 1.6646, 1.6638, 1.6636, 1.6628, 1.6616, 1.6596, 1.6594, 1.6587, 1.6583, 1.6582, 1.6579, 1.6568, 1.6555, 1.6549, 1.6548, 1.6543, 1.6538, 1.6534, 1.6526, 1.6522, 1.6519, 1.6515, 1.651, 1.6496, 1.6494, 1.6354, 1.6363, 1.5878, 1.6122, 1.6349, 1.6249, 1.3694, 1.575, 1.6164, 1.3398, 1.4725, 1.2213, 1.0872, 1.3973, 1.522, 0.7953, 1.1902, 1.5472, 1.5131, 1.058, 1.4013, 0.9406, 1.2124, 0.8089, 1.3511, 1.3822, 0.2825, 0.463, 0.6443, 0.1242, 0.443, 0.6771, 0.8222, 0.545, 0.1999, 0.3499, 0.4069, 0.132, 0.7023, 0.6165, 0.583, 0.0669, 0.1094, 0.3908, -0.1855, 0.1332, -0.0015, 0.2756, 0.3702, 0.1331, -0.0473, 0.1545, 0.1529, -0.0742, -0.1877, 1.9325, 1.931, 1.9251, 1.9223, 1.9204, 1.9196, 1.9167, 1.915, 1.9138, 1.9131, 1.91, 1.9098, 1.9094, 1.9053, 1.9051, 1.9033, 1.903, 1.9029, 1.9028, 1.9021, 1.9017, 1.9011, 1.9, 1.8987, 1.8984, 1.8982, 1.897, 1.8967, 1.8964, 1.8951, 1.8951, 1.8879, 1.893, 1.8425, 1.785, 1.8351, 1.8053, 1.7129, 1.8641, 1.8145, 1.858, 1.629, 1.8384, 1.8516, 1.8486, 1.843, 1.8423, 1.7266, 1.7688, 1.7712, 1.7515, 1.7422, 1.544, 1.5897, 1.7635, 1.2686, 1.3523, 1.6774, 1.3, 0.9571, 1.5018, 0.9437, 1.5064, 1.1549, 1.2891, 1.4441, 1.2417, 1.4988, 1.0452, 0.3898, 0.4811, 0.1801, 0.5335, 0.4651, 1.0551, 1.2514, 1.1971, 0.3606, 0.5732, 1.0296, -0.0095, 0.1897, 0.7089, 0.8076, 0.4136, 0.3929, 0.1489, -0.1495, -0.1221, 0.4726, -0.4454, 0.3464, 0.4749, 0.1419, 0.15, 2.226, 2.2161, 2.2148, 2.2148, 2.2146, 2.2138, 2.206, 2.2057, 2.2056, 2.2045, 2.2041, 2.2041, 2.2018, 2.2017, 2.1997, 2.1987, 2.1939, 2.1935, 2.1924, 2.1922, 2.1911, 2.1892, 2.1887, 2.1861, 2.1846, 2.1836, 2.1823, 2.1819, 2.1815, 2.1815, 2.1805, 2.1777, 2.1635, 2.1436, 2.0269, 2.1532, 2.0904, 2.1596, 2.0969, 2.065, 1.5144, 2.1235, 1.6634, 1.8465, 1.6458, 1.8183, 1.3249, 1.4024, 1.1875, 0.8864, 1.5183, 1.6184, 1.2698, 0.5639, 1.0889, 1.5606, 1.7371, 1.2695, 1.2119, 0.1408, 0.2908, 0.6192, 0.5528, 0.8825, -0.0598, 0.5212, -0.292, 0.4389, 0.0936, 0.2295, 0.5482, 0.1106, 0.523, 0.7864, -0.8953, 0.6382, -0.1772, -0.4968, 0.126, -0.0107, -0.5532, 2.4164, 2.4142, 2.4122, 2.412, 2.4077, 2.4063, 2.4036, 2.4035, 2.4034, 2.4021, 2.401, 2.4008, 2.4007, 2.3966, 2.3945, 2.3929, 2.3915, 2.3897, 2.3897, 2.3877, 2.3876, 2.3867, 2.3821, 2.381, 2.3802, 2.3795, 2.3793, 2.3778, 2.3764, 2.3746, 2.3701, 2.3743, 2.367, 2.3739, 2.3367, 2.3052, 2.3253, 2.3287, 2.1563, 2.1621, 2.1417, 2.2028, 2.2186, 2.0085, 2.0566, 2.2522, 2.1723, 2.1059, 2.0455, 0.9919, 1.7157, 1.1638, 1.8443, 1.8326, 1.0728, 1.949, 1.3016, 0.9308, 1.1515, 1.0005, -0.023, 0.7101, 0.4102, 0.1666, 0.5287, 0.0018, 0.4404, 0.9506, 0.0339, 0.1675, -0.238, -0.0448, 0.3723, 0.2641, 0.1044, 0.2677, 0.9925, -0.3655, 0.1323, 0.2163, -0.1832, 0.0632, 0.2906, 0.0055, 2.497, 2.4936, 2.492, 2.4918, 2.4886, 2.4879, 2.4869, 2.4845, 2.4841, 2.4836, 2.4811, 2.4768, 2.476, 2.4758, 2.4708, 2.47, 2.4698, 2.4672, 2.4666, 2.4655, 2.4652, 2.4635, 2.4626, 2.4608, 2.4602, 2.4571, 2.4569, 2.4564, 2.4527, 2.4512, 2.4477, 2.4193, 2.4432, 2.4144, 2.3347, 2.3057, 2.2331, 2.202, 2.3259, 2.1362, 2.1442, 2.1744, 2.0709, 2.2106, 1.8209, 2.0682, 1.9156, 1.8518, 2.0503, 1.9219, 2.0923, 1.6939, 2.3078, 1.4463, 1.5431, 1.8891, 1.1474, 1.5985, 1.3785, 0.926, 0.4686, 1.4318, 0.1519, 1.1339, 0.2578, -0.2052, 1.0827, 0.5115, 0.7578, 0.7278, 0.1497, 0.6209, 0.9168, 0.7269, -0.416, -0.2048, 2.6079, 2.6028, 2.6027, 2.6014, 2.601, 2.6006, 2.5958, 2.5942, 2.5916, 2.5907, 2.5892, 2.5891, 2.589, 2.5884, 2.5882, 2.5878, 2.5836, 2.5811, 2.5803, 2.5798, 2.5788, 2.5767, 2.5762, 2.5759, 2.5732, 2.5721, 2.5717, 2.569, 2.5689, 2.5688, 2.547, 2.5566, 2.5645, 2.5565, 2.4989, 2.4882, 2.3913, 2.5397, 2.5594, 2.5491, 2.2537, 2.4431, 2.0171, 2.3977, 2.452, 2.3568, 2.3801, 1.7852, 2.2964, 2.256, 2.4574, 2.042, 1.7861, 1.9339, 1.8562, 1.1772, 1.0661, 1.6361, 1.2544, 0.3216, 1.017, 1.0322, 0.6458, -0.0583, -0.2396, 0.0558, 0.3656, 0.3317, 0.5363, 0.2951, -0.0821, 0.504, 0.0067, 0.4492, -0.2028, -0.0916, 0.1874, 0.2689, 0.9761, 0.2284, -0.2364, -0.1499, -0.2797, 2.7118, 2.7107, 2.7073, 2.7034, 2.6972, 2.696, 2.6937, 2.6934, 2.6894, 2.6891, 2.6885, 2.688, 2.6858, 2.6857, 2.6841, 2.6841, 2.6839, 2.6813, 2.6799, 2.678, 2.6773, 2.6766, 2.6758, 2.6751, 2.6742, 2.6739, 2.6732, 2.6726, 2.6719, 2.6709, 2.6253, 2.6533, 2.622, 2.61, 2.5973, 2.6504, 2.4914, 2.3986, 2.5436, 2.4428, 2.3941, 1.4485, 2.4596, 2.5317, 2.164, 1.3861, 1.6793, 2.4058, 1.0751, 0.8597, 0.7618, 1.5052, 1.9619, 0.5414, 1.3826, 0.9479, 0.56, 0.1787, 1.1724, 1.6785, -0.138, 0.5519, 0.4682, 0.2284, 0.4845, 0.298, -0.3101, 0.5378, 0.9487, 0.2757, 0.7477, 0.3238, 0.8617, 0.9646, 0.9278, 0.3459, 0.3191, -0.2498, 0.1896]}, \"token.table\": {\"Topic\": [1, 2, 3, 4, 5, 6, 7, 3, 2, 4, 5, 6, 8, 5, 4, 5, 8, 1, 2, 3, 4, 5, 6, 7, 8, 1, 2, 3, 4, 5, 6, 7, 8, 1, 2, 3, 4, 5, 6, 7, 8, 1, 2, 3, 4, 5, 6, 7, 8, 5, 1, 4, 3, 1, 1, 2, 3, 4, 5, 6, 7, 8, 1, 2, 3, 4, 5, 8, 3, 1, 2, 3, 4, 5, 6, 7, 8, 1, 2, 3, 4, 5, 6, 7, 8, 1, 2, 3, 4, 5, 6, 7, 8, 1, 2, 3, 4, 6, 7, 6, 2, 3, 1, 2, 3, 4, 5, 6, 7, 8, 1, 2, 3, 5, 7, 8, 1, 1, 2, 3, 4, 5, 6, 7, 8, 2, 5, 4, 3, 1, 2, 3, 4, 5, 6, 7, 8, 1, 1, 3, 4, 7, 1, 7, 2, 5, 1, 2, 3, 4, 5, 7, 8, 5, 8, 1, 2, 3, 4, 5, 6, 7, 8, 1, 2, 3, 4, 5, 6, 7, 8, 1, 2, 3, 4, 5, 6, 7, 8, 7, 2, 3, 4, 1, 2, 3, 4, 5, 6, 7, 8, 6, 3, 5, 3, 1, 2, 3, 4, 5, 6, 7, 8, 5, 1, 4, 5, 6, 7, 4, 1, 2, 3, 4, 5, 6, 7, 8, 1, 2, 3, 4, 5, 6, 7, 3, 1, 2, 3, 4, 5, 6, 7, 8, 4, 1, 6, 1, 2, 3, 5, 6, 7, 8, 4, 7, 1, 2, 3, 4, 5, 6, 7, 8, 1, 3, 6, 8, 5, 1, 2, 3, 4, 5, 6, 7, 8, 1, 2, 6, 2, 8, 1, 2, 3, 4, 5, 7, 1, 2, 4, 6, 7, 8, 1, 2, 3, 4, 5, 6, 7, 1, 2, 3, 4, 5, 6, 7, 8, 4, 1, 2, 3, 4, 5, 6, 7, 8, 7, 7, 3, 5, 4, 2, 7, 3, 5, 4, 6, 5, 2, 1, 2, 3, 4, 5, 7, 8, 5, 3, 6, 1, 2, 3, 4, 5, 7, 8, 5, 1, 2, 3, 4, 5, 6, 7, 8, 8, 1, 2, 3, 4, 5, 6, 7, 8, 2, 3, 4, 5, 7, 8, 4, 7, 1, 2, 3, 4, 5, 6, 7, 8, 7, 8, 3, 6, 7, 4, 6, 5, 1, 2, 3, 4, 5, 6, 7, 8, 6, 5, 3, 5, 8, 4, 7, 6, 1, 1, 2, 3, 4, 5, 6, 7, 8, 6, 1, 2, 3, 2, 4, 5, 8, 1, 2, 3, 4, 5, 1, 4, 1, 2, 4, 6, 8, 1, 1, 2, 3, 4, 5, 6, 7, 8, 1, 2, 5, 6, 2, 7, 2, 1, 7, 3, 5, 5, 4, 7, 8, 6, 2, 4, 5, 1, 2, 3, 4, 5, 6, 7, 8, 2, 3, 4, 5, 6, 7, 8, 3, 1, 2, 3, 5, 7, 1, 2, 3, 4, 7, 3, 4, 7, 4, 2, 3, 4, 5, 6, 7, 8, 1, 1, 2, 4, 6, 7, 1, 1, 2, 5, 3, 5, 1, 2, 3, 4, 5, 6, 7, 8, 1, 2, 3, 4, 5, 6, 7, 8, 1, 4, 5, 2, 4, 1, 2, 1, 2, 3, 5, 7, 1, 2, 3, 4, 5, 6, 7, 8, 2, 3, 8, 1, 2, 3, 4, 5, 6, 7, 8, 1, 2, 3, 4, 5, 6, 7, 8, 2, 3, 5, 1, 2, 3, 4, 5, 7, 1, 2, 3, 4, 5, 6, 7, 8, 6, 1, 2, 3, 4, 5, 6, 7, 8, 1, 2, 3, 4, 5, 6, 7, 8, 2, 5, 7, 3, 2, 1, 4, 3, 5, 2, 5, 1, 5, 8, 6, 7, 1, 2, 3, 4, 5, 6, 7, 8, 2, 2, 4, 1, 2, 3, 4, 5, 6, 7, 8, 1, 2, 3, 4, 5, 6, 7, 8, 1, 2, 8, 1, 2, 3, 5, 7, 8, 1, 2, 3, 4, 5, 6, 7, 8, 1, 2, 3, 4, 6, 8, 8, 1, 1, 4, 7, 1, 1, 2, 3, 4, 5, 7, 8, 1, 2, 3, 4, 5, 6, 7, 8, 6, 3, 3, 5, 2, 3, 4, 5, 8, 1, 2, 3, 4, 5, 6, 7, 8, 1, 2, 3, 4, 5, 6, 7, 8, 7, 1, 2, 3, 4, 5, 6, 7, 8, 6, 4, 5, 8, 5, 1, 2, 3, 5, 7, 8, 8, 1, 2, 3, 4, 5, 6, 7, 8, 5, 7, 4, 1, 2, 3, 4, 5, 6, 7, 1, 2, 3, 4, 5, 6, 7, 8, 1, 2, 5, 4, 1, 2, 3, 4, 5, 6, 7, 8, 3, 7, 5, 8, 1, 2, 3, 4, 5, 6, 7, 8, 8, 2, 2, 5, 6, 7, 1, 2, 5, 8, 3, 2, 3, 7, 2, 1, 2, 3, 4, 5, 8, 1, 2, 3, 4, 5, 6, 7, 8, 3, 4, 5, 8, 2, 2, 4, 1, 2, 3, 4, 5, 6, 7, 8, 8, 1, 2, 4, 5, 6, 8, 2, 3, 5, 6, 7, 1, 2, 3, 4, 5, 6, 7, 8, 1, 2, 3, 4, 5, 6, 7, 8, 1, 2, 3, 4, 5, 6, 7, 8, 3, 1, 1, 2, 3, 4, 5, 6, 7, 8, 5, 1, 2, 3, 4, 5, 6, 7, 8, 1, 2, 3, 4, 5, 7, 8, 2, 1, 2, 3, 4, 6, 7, 1, 2, 3, 6, 8, 1, 2, 3, 4, 5, 6, 7, 8, 1, 2, 3, 4, 5, 6, 7, 8, 7, 8, 1, 2, 3, 4, 5, 6, 7, 8, 2, 2, 1, 2, 5, 2, 5, 1, 3, 3, 1, 2, 3, 5, 3, 7, 3, 5, 6, 1, 2, 3, 4, 5, 6, 7, 8, 6, 1, 2, 3, 4, 5, 6, 7, 8, 1, 2, 3, 4, 5, 6, 7, 8, 1, 1, 2, 3, 4, 7, 8, 1, 4, 8, 1, 2, 3, 4, 5, 6, 7, 8, 1, 2, 3, 4, 5, 6, 7, 8, 1, 2, 3, 4, 5, 6, 8, 1, 2, 3, 4, 5, 6, 7, 8, 1, 2, 3, 4, 5, 6, 7, 8, 1, 2, 4, 6, 7, 6, 6, 1, 2, 7, 8, 1, 2, 3, 4, 5, 6, 7, 8, 1, 2, 3, 4, 5, 6, 7, 8, 7, 1, 2, 5, 7, 1, 2, 3, 4, 5, 6, 7, 8, 1, 2, 2, 3, 4, 6, 8, 1, 2, 3, 4, 5, 6, 7, 8, 1, 2, 3, 4, 5, 6, 7, 1, 2, 4, 5, 2, 8, 5, 3, 1, 2, 4, 7, 8, 1, 2, 3, 4, 5, 6, 7, 8, 1, 2, 3, 4, 5, 6, 7, 8, 2, 1, 2, 3, 4, 5, 6, 7, 8, 1, 2, 3, 4, 5, 6, 7, 8, 4, 1, 2, 3, 4, 5, 6, 7, 8, 6, 1, 5, 2, 8, 2, 3, 4, 6, 7, 1, 2, 3, 4, 5, 6, 7, 8, 1, 2, 3, 4, 5, 6, 7, 8, 1, 2, 3, 4, 7, 8, 6, 1, 2, 3, 4, 5, 6, 7, 8, 4, 3, 7, 1, 2, 3, 4, 5, 6, 7, 8, 1, 2, 2, 5, 1, 2, 3, 4, 5, 6, 7, 8, 4, 8, 3, 8, 5, 1, 2, 3, 4, 5, 6, 7, 8, 1, 2, 3, 4, 5, 6, 7, 8, 1, 8, 1, 2, 3, 4, 5, 6, 7, 8, 1, 1, 2, 3, 4, 5, 6, 7, 8, 1, 2, 3, 4, 5, 6, 7, 8, 1, 2, 3, 4, 5, 6, 7, 8, 2, 4, 4, 1, 2, 3, 4, 5, 6, 7, 8, 3, 1, 2, 3, 7, 1, 1, 2, 1, 2, 3, 4, 5, 6, 7, 8, 8, 4, 1, 2, 3, 5, 6, 7, 8, 1, 2, 3, 4, 5, 6, 7, 8, 1, 2, 3, 4, 5, 6, 7, 8, 6, 1, 2, 4, 1, 2, 3, 4, 5, 6, 8, 5, 1, 2, 3, 4, 5, 6, 7, 8, 1, 2, 4, 5, 8, 2, 1, 2, 3, 4, 5, 6, 7, 8, 3, 4, 5, 6, 5, 8, 1, 2, 3, 4, 5, 7, 8, 1, 2, 3, 4, 5, 6, 7, 8, 1, 2, 3, 4, 5, 6, 7, 8, 1, 2, 4, 5, 8, 1, 2, 3, 4, 5, 6, 7, 8, 8, 1, 2, 3, 4, 5, 6, 7, 8, 6, 1, 2, 3, 4, 5, 6, 7, 8, 1, 2, 3, 4, 5, 6, 7, 8, 2, 4, 6, 1, 1, 2, 5, 7, 8, 1, 2, 3, 4, 5, 6, 7, 8, 4, 6, 1, 2, 3, 5, 7, 8, 3, 5, 6, 2, 3, 4, 5, 6, 7, 8, 1, 2, 3, 4, 5, 6, 7, 8, 4, 6, 1, 3, 1, 2, 3, 4, 5, 6, 7, 8, 5, 1, 2, 3, 4, 5, 6, 7, 8, 4, 5, 3, 3, 8, 5, 4, 7, 2, 3, 7, 3, 1, 2, 3, 4, 5, 6, 7, 8, 7, 1, 2, 3, 4, 5, 6, 7, 8, 1, 2, 3, 4, 5, 6, 7, 8, 1, 2, 3, 4, 5, 6, 7, 8, 1, 2, 3, 4, 5, 6, 7, 8, 1, 2, 3, 4, 5, 6, 7, 8, 1, 2, 3, 4, 5, 6, 7, 8, 7, 8, 1, 5, 8, 1, 5, 1, 2, 3, 4, 5, 6, 7, 8, 2, 6, 7, 7, 2, 2, 3, 4, 5, 7, 2, 4, 7, 8, 1, 2, 3, 4, 5, 6, 7, 8, 1, 3, 3, 1, 2, 3, 4, 5, 6, 7, 8, 2, 3, 4, 5, 6, 7, 1, 2, 3, 4, 5, 6, 7, 8, 5, 6, 1, 2, 3, 4, 5, 6, 7, 8, 1, 2, 3, 4, 5, 6, 7, 8, 1, 2, 3, 4, 5, 6, 7, 8, 1, 2, 3, 4, 5, 6, 7, 8, 1, 2, 3, 4, 5, 6, 7, 8, 4, 8, 8, 8, 1, 2, 3, 4, 5, 6, 7, 8, 8, 2, 3, 4, 7, 1, 2, 3, 4, 5, 6, 7, 8, 1, 2, 3, 4, 5, 6, 7, 8, 1, 2, 3, 4, 5, 6, 7, 8, 1, 4, 1, 4, 5, 6, 8, 4, 2, 1, 2, 3, 4, 5, 6, 7, 8, 7, 1, 2, 4, 5, 7, 1, 2, 3, 7, 8, 2, 1, 2, 4, 5, 6, 7, 8, 1, 4, 2, 1, 6, 2, 5, 1, 2, 3, 4, 5, 7, 8, 4, 7, 1, 2, 3, 4, 5, 6, 7, 8, 1, 2, 3, 4, 5, 6, 7, 8, 1, 2, 3, 4, 5, 6, 7, 8, 7, 4, 7, 8, 1, 2, 3, 4, 5, 6, 7, 8, 2, 3, 6, 7, 1, 2, 3, 4, 5, 6, 7, 8, 1, 1, 2, 4, 7, 1, 2, 3, 5, 6, 7, 8, 2, 3, 7, 7, 2, 4, 6, 4, 1, 2, 4, 5, 6, 8, 2, 6, 8, 1, 2, 3, 4, 5, 6, 7, 8, 2, 1, 2, 3, 4, 5, 6, 7, 8, 3, 1, 2, 3, 4, 5, 6, 7, 8, 7, 2, 4, 6, 1, 2, 3, 4, 5, 6, 7, 8, 1, 2, 3, 4, 5, 6, 7, 8, 2, 3, 4, 5, 7, 2, 6, 6, 8, 1, 2, 3, 4, 5, 6, 7, 8, 1, 2, 4, 7, 1, 2, 3, 4, 5, 6, 7, 8, 4, 5, 1, 2, 3, 4, 5, 6, 7, 8, 1, 2, 3, 4, 7, 8, 7, 1, 2, 3, 5, 6, 7, 8, 3, 8, 1, 2, 3, 4, 5, 6, 7, 8, 1, 2, 3, 4, 5, 6, 7, 8, 1, 2, 4, 5, 6, 7, 1, 2, 3, 4, 5, 6, 7, 8, 1, 2, 3, 4, 5, 6, 7, 8, 1, 2, 3, 4, 5, 6, 7, 8, 2, 3, 5, 7, 8, 1, 2, 3, 4, 5, 6, 7, 8, 8, 3, 7, 2, 4, 5, 1, 2, 3, 4, 5, 7, 4, 1, 2, 3, 4, 5, 6, 7, 8, 1, 2, 3, 4, 5, 6, 7, 8, 1, 2, 3, 4, 5, 6, 7, 8, 1, 2, 3, 4, 5, 6, 7, 8, 1, 2, 3, 4, 5, 6, 7, 8, 1, 2, 3, 4, 5, 6, 7, 8, 1, 2, 3, 4, 5, 6, 7, 8, 1, 2, 3, 4, 5, 6, 7, 8, 1, 2, 3, 4, 5, 6, 7, 8, 8, 2, 5, 1, 2, 4, 6, 4, 6, 8, 6], \"Freq\": [0.11221321411121211, 0.36724324618214876, 0.010201201282837465, 0.4845570609347796, 0.005100600641418733, 0.010201201282837465, 0.010201201282837465, 0.9282943846105903, 0.03488023430634445, 0.10464070291903335, 0.10464070291903335, 0.052320351459516676, 0.7150448032800613, 0.9491393476797633, 0.02054725537512305, 0.7602484488795529, 0.2054725537512305, 0.02459694460606434, 0.7215103751112206, 0.00683248461279565, 0.00683248461279565, 0.00546598769023652, 0.16671262455221386, 0.06012586459260172, 0.00683248461279565, 0.21201791387603097, 0.15289753404521467, 0.16411001987519705, 0.10906690761891978, 0.12639529481071077, 0.12129871034253696, 0.06523628119262492, 0.04892721089446869, 0.01907161750480838, 0.03687179384262954, 0.09790096985801637, 0.1830875280461605, 0.030514588007693414, 0.34201767391956367, 0.03178602917468064, 0.2581025568984068, 0.2891709613443818, 0.17050718039429685, 0.11751170540688026, 0.08410151465394371, 0.05645170161703071, 0.1497698206166121, 0.04262679509857421, 0.08870981682676254, 0.9578349056491257, 0.9723768957967792, 0.027010469327688313, 0.970352383709418, 0.9801160944303023, 0.9476974491504674, 0.013285478259118702, 0.001476164251013189, 0.013285478259118702, 0.013285478259118702, 0.004428492753039567, 0.004428492753039567, 0.002952328502026378, 0.9237550833581876, 0.00914608993423948, 0.00914608993423948, 0.03658435973695792, 0.01829217986847896, 0.00914608993423948, 0.9263979322512583, 0.1531379718136362, 0.18255430538235726, 0.1341038736221108, 0.06315859854460702, 0.09949642236479188, 0.25349958045986104, 0.05277636316741134, 0.060563039700308095, 0.2567967496448287, 0.170496202633042, 0.052622284763284566, 0.2567967496448287, 0.05823532847136825, 0.051219023836263644, 0.10313967813603775, 0.05051739337275318, 0.030538795120428668, 0.024431036096342933, 0.6046681433844876, 0.04886207219268587, 0.04886207219268587, 0.10993966243354321, 0.0183232770722572, 0.11604742145762893, 0.027224789243036493, 0.06806197310759124, 0.8167436772910949, 0.04083718386455474, 0.027224789243036493, 0.013612394621518246, 0.9545837726971977, 0.029763295418947074, 0.9524254534063064, 0.03903369617280562, 0.4537667180088653, 0.034154484151204915, 0.014637636064802107, 0.03903369617280562, 0.034154484151204915, 0.36594090162005266, 0.014637636064802107, 0.010191045510066577, 0.8968120048858588, 0.010191045510066577, 0.020382091020133154, 0.05095522755033288, 0.010191045510066577, 0.9720988792161124, 0.020326785520650707, 0.025408481900813386, 0.12196071312390425, 0.020326785520650707, 0.48276115611545434, 0.24900312262797117, 0.01524508914048803, 0.0660620529421148, 0.9292160904652439, 0.029974712595653027, 0.9765613858992757, 0.9392609916614707, 0.26524271313425773, 0.2856459987599699, 0.11765894710827332, 0.13330146608798596, 0.06257007591885055, 0.018362957063140922, 0.09997609956598946, 0.01700273802142678, 0.9520831519497128, 0.9437691683519738, 0.036298814167383606, 0.05190705656756323, 0.9343270182161382, 0.04821705793984958, 0.916124100857142, 0.9392059378201457, 0.044724092277149796, 0.03114699321411167, 0.05450723812469543, 0.6385133608892892, 0.07008073473175126, 0.08565423133880709, 0.06229398642822334, 0.05450723812469543, 0.046314572677524125, 0.9262914535504825, 0.9183872275810836, 0.014183586526348782, 0.00242613980055966, 0.04329726413306471, 0.010637689894761587, 0.005972036432146856, 0.002986018216073428, 0.0022395136620550708, 0.928216259521251, 0.008451134381073606, 0.009859656777919206, 0.03239601512744882, 0.005634089587382403, 0.0070426119842280045, 0.005634089587382403, 0.004225567190536803, 0.5401968334375333, 0.3606178861055966, 0.002919982883446126, 0.06861959776098396, 0.007299957208615315, 0.004379974325169189, 0.007299957208615315, 0.007299957208615315, 0.9301756223673425, 0.054109655925805834, 0.9198641507386992, 0.027054827962902917, 0.0800291452370626, 0.13338190872843766, 0.3658475210837147, 0.06707204553201436, 0.09679715662006619, 0.09451060961329297, 0.06021240451169472, 0.10289461530479477, 0.9321580676904773, 0.02182000388378607, 0.9819001747703731, 0.9716324432912382, 0.005835409466567886, 0.0612717993989628, 0.5514461945906652, 0.002917704733283943, 0.15463835086404898, 0.13129671299777743, 0.0612717993989628, 0.02917704733283943, 0.9539298340578471, 0.06159604978206929, 0.8418126803549469, 0.041064033188046196, 0.020532016594023098, 0.041064033188046196, 0.9359345539714933, 0.09086851682690457, 0.18332194964497608, 0.2303411240495953, 0.11622717268557561, 0.10301953942585111, 0.06550986096823352, 0.07184952493290128, 0.13841599656191278, 0.005943208680844383, 0.1664098430636427, 0.04754566944675506, 0.011886417361688766, 0.04754566944675506, 0.7072418330204815, 0.005943208680844383, 0.9511010973029688, 0.02872746176868048, 0.04103923109811497, 0.8495120837309799, 0.004103923109811497, 0.004103923109811497, 0.06976669286679545, 0.9316985385649178, 0.9455277748327939, 0.9835265024389718, 0.9688715816596318, 0.9551477408075065, 0.016818085781106988, 0.004204521445276747, 0.14715825058468612, 0.021022607226383733, 0.7526093387045376, 0.021022607226383733, 0.033636171562213976, 0.03925620132054038, 0.9421488316929693, 0.06830077600240003, 0.1306623540915479, 0.09799676556866091, 0.24944631235659143, 0.32071668731561753, 0.05939197913252177, 0.03860478643613915, 0.03266558852288697, 0.05013773249017491, 0.9024791848231485, 0.025068866245087456, 0.025068866245087456, 0.9297314275546048, 0.036753687582823054, 0.5441916967908317, 0.015412836728280635, 0.018969645204037704, 0.053352127136356044, 0.03082567345656127, 0.2074804944191624, 0.09129141754443146, 0.015651888854503564, 0.015651888854503564, 0.970417108979221, 0.954858074739865, 0.9157720263751608, 0.9325524081953345, 0.01277469052322376, 0.00638734526161188, 0.01277469052322376, 0.02554938104644752, 0.00638734526161188, 0.9424835516358735, 0.025472528422591175, 0.012736264211295588, 0.012736264211295588, 0.012736264211295588, 0.012736264211295588, 0.7902717092190433, 0.15108135617422888, 0.008716232086974742, 0.023243285565265982, 0.008716232086974742, 0.005810821391316496, 0.014527053478291238, 0.8522356857854484, 0.08329004957065464, 0.00594928925504676, 0.0297464462752338, 0.01189857851009352, 0.00148732231376169, 0.013385900823855209, 0.00148732231376169, 0.9325960416914603, 0.03380976862671484, 0.040571722352057804, 0.40571722352057804, 0.08114344470411561, 0.14650899738243095, 0.09466735215480154, 0.07212750640365832, 0.12622313620640205, 0.9612853419934944, 0.9158157013205076, 0.9468805383857476, 0.9608046850402184, 0.9297412133403073, 0.9882338867530679, 0.9717632396046656, 0.9608153473824157, 0.9501748733575563, 0.9183708629546679, 0.03992916795455077, 0.9791773135477236, 0.980787833855799, 0.02428289329388264, 0.0303536166173533, 0.06677795655817727, 0.00607072332347066, 0.01821216997041198, 0.7831233087277152, 0.07284867988164792, 0.9689646116952945, 0.940206559461376, 0.9822007361431152, 0.008622362511522201, 0.07760126260369982, 0.19831433776501065, 0.025867087534566603, 0.5432088382258987, 0.09484598762674422, 0.051734175069133206, 0.9603510559341908, 0.026882306081257086, 0.059738457958349075, 0.10454230142711089, 0.02389538318333963, 0.17025460518129487, 0.3375222874646723, 0.02090846028542218, 0.25687536922090104, 0.942080922095713, 0.04996899480556444, 0.08328165800927406, 0.4996899480556443, 0.04164082900463703, 0.01249224870139111, 0.24984497402782216, 0.033312663203709625, 0.033312663203709625, 0.06736855126855444, 0.8353700357300751, 0.013473710253710887, 0.013473710253710887, 0.026947420507421774, 0.04042113076113266, 0.048362002221442775, 0.9188780422074128, 0.013952579878462344, 0.013952579878462344, 0.06976289939231171, 0.04185773963538703, 0.013952579878462344, 0.8232022128292783, 0.013952579878462344, 0.013952579878462344, 0.9506692207451322, 0.02970841314828538, 0.9481659740023067, 0.9472162699223622, 0.0350820840711986, 0.9779218670520204, 0.9660862686350241, 0.9440309778267726, 0.3086498575211744, 0.20944097474651122, 0.16377339378674563, 0.10472048737325561, 0.05905290641349001, 0.0440928367887392, 0.08661092940645201, 0.022833790479882803, 0.9574739416935698, 0.9262136717363102, 0.9629767704857118, 0.07601832847917248, 0.8868804989236789, 0.03924538230954158, 0.941889175428998, 0.9789258035012769, 0.9752801728589886, 0.006704666505551269, 0.06034199854996142, 0.08045599806661523, 0.006704666505551269, 0.02346633276942944, 0.6369433180273706, 0.006704666505551269, 0.18102599564988425, 0.9514534001411843, 0.06915299819110596, 0.8528869776903067, 0.046101998794070634, 0.9630660024261671, 0.930629523534451, 0.05170164019635839, 0.9435207845777299, 0.009420831666410797, 0.018841663332821595, 0.17899580166180515, 0.03768332666564319, 0.744245701646453, 0.057090341013213176, 0.9134454562114108, 0.9047753142557292, 0.03446763101926587, 0.025850723264449406, 0.017233815509632936, 0.008616907754816468, 0.9602816058415491, 0.10382077115965929, 0.08037737122038138, 0.5157547986641139, 0.0066981142683651155, 0.1105188854280244, 0.013396228536730231, 0.1574056853065802, 0.013396228536730231, 0.9431806357980296, 0.03674729749862453, 0.012249099166208177, 0.9679763612076202, 0.9722220862325592, 0.9787291791043558, 0.9575755770985501, 0.9586938313035527, 0.9155268588613024, 0.20155717486186311, 0.7918317583858908, 0.9428272938307071, 0.9720680426908856, 0.9789203849750491, 0.972796756307182, 0.9648150946043567, 0.06706565188095966, 0.04471043458730643, 0.8718534744524754, 0.014368788840194161, 0.046698563730631026, 0.0059869953500809, 0.8034547759808568, 0.038316770240517765, 0.0718439442009708, 0.007184394420097081, 0.01317138977017798, 0.02634492498627495, 0.00878164166209165, 0.6674047663189654, 0.0175632833241833, 0.1405062665934664, 0.0702531332967332, 0.06147149163464155, 0.9757924458954422, 0.010547221129947111, 0.10547221129947111, 0.03164166338984133, 0.759399921356192, 0.094924990169524, 0.16103052775702892, 0.7514757961994682, 0.02683842129283815, 0.04025763193925723, 0.02683842129283815, 0.948719949094175, 0.9146298678360986, 0.9401381462186033, 0.9447403129779856, 0.04071107205393234, 0.04071107205393234, 0.02035553602696617, 0.02035553602696617, 0.8142214410786468, 0.02035553602696617, 0.04071107205393234, 0.9604627618460797, 0.027324276983264614, 0.013662138491632307, 0.8607147249728353, 0.013662138491632307, 0.06831069245816154, 0.9467116009478751, 0.9284184746362875, 0.039931977403711294, 0.019965988701855647, 0.9860678481906141, 0.9569274265390911, 0.21759446744201855, 0.20488822116803207, 0.17206375162690032, 0.1418864167261824, 0.08312002770899492, 0.03441275032538006, 0.06511951215418074, 0.08100231999666384, 0.23698305293681107, 0.34955000308179635, 0.12086135699777364, 0.08531389905725198, 0.04621169532267816, 0.04976644111673032, 0.043841864793310044, 0.0663552548223071, 0.9327568800314715, 0.04663784400157358, 0.011659461000393395, 0.9833693021936794, 0.9372665233790182, 0.9518875225669614, 0.9746851541161713, 0.9158404009578124, 0.030871024751386932, 0.010290341583795643, 0.020580683167591287, 0.010290341583795643, 0.18989425061215084, 0.4111471848116293, 0.00522644726455461, 0.34668766854878913, 0.0034842981763697402, 0.0017421490881848701, 0.015679341793663832, 0.02439008723458818, 0.18045069391062102, 0.05155734111732029, 0.7475814462011442, 0.2970852208529574, 0.20978386209353572, 0.16548168003651575, 0.03583264725200144, 0.07231679718131201, 0.07427130521323935, 0.09642239624174934, 0.04951420347549291, 0.02889326420326626, 0.054897201986205894, 0.10690507755208517, 0.3756124346424614, 0.18202756448057744, 0.049118549145552644, 0.06934383408783902, 0.13579834175535144, 0.030112258585474293, 0.030112258585474293, 0.9033677575642288, 0.12205722767068819, 0.617067095446257, 0.054247656742528086, 0.16274297022758427, 0.027123828371264043, 0.020342871278448034, 0.49141277628188473, 0.10713941343355045, 0.07714037767215633, 0.12285319407047118, 0.08999710728418238, 0.04428429088586752, 0.029999035761394125, 0.03714166332363082, 0.9664701714154643, 0.032211543271354934, 0.0037167165313101848, 0.7259986291159227, 0.012389055104367282, 0.012389055104367282, 0.029733732250481478, 0.017344677146114196, 0.16725224390895832, 0.10919984213193863, 0.02569408050163262, 0.6423520125408155, 0.02569408050163262, 0.02569408050163262, 0.044964640877857086, 0.02569408050163262, 0.09635280188112232, 0.9137689280079061, 0.04568844640039531, 0.022844223200197654, 0.9738400432073168, 0.9752668409489238, 0.03412454396274009, 0.9554872309567226, 0.037937464489723294, 0.9484366122430823, 0.26947887694868855, 0.7242244817996005, 0.05448788514060406, 0.7991556487288596, 0.12713839866140947, 0.9194458673588249, 0.9746680998951206, 0.1781151306442216, 0.22417236122270454, 0.21031443343802828, 0.0643986055876133, 0.09007653060039583, 0.1283896250639126, 0.07581101670440554, 0.028938613903294587, 0.9363724303825437, 0.06926753713632071, 0.9004779827721693, 0.23414918960289405, 0.2091787340683197, 0.12280551902249688, 0.18625503718412026, 0.10315663597889738, 0.05321572490974864, 0.06590562854207332, 0.025789158994724344, 0.15390731908658686, 0.2419868089252962, 0.14927155646349688, 0.05099338885398962, 0.11311260800339516, 0.2030464028913405, 0.04172186360780969, 0.04635762623089965, 0.9593929985808883, 0.013705614265441262, 0.013705614265441262, 0.009414267977431947, 0.018828535954863893, 0.8002127780817155, 0.009414267977431947, 0.04707133988715974, 0.10355694775175142, 0.17330887507470027, 0.2759481117694257, 0.10516315235115307, 0.08917835319377782, 0.14806971851042353, 0.08413052188092246, 0.03870004006522433, 0.08497182709973168, 0.16457386363280269, 0.020571732954100336, 0.020571732954100336, 0.6480095880541605, 0.11314453124755185, 0.020571732954100336, 0.9151712177045125, 0.9647814903918793, 0.13058848876805493, 0.03264712219201373, 0.848825176992357, 0.9629691941414502, 0.005422934788683338, 0.043383478309466705, 0.6995585877401507, 0.1843797828152335, 0.043383478309466705, 0.005422934788683338, 0.021691739154733353, 0.006208108120542869, 0.09312162180814303, 0.3724864872325721, 0.012416216241085737, 0.031040540602714346, 0.0993297299286859, 0.03724864872325721, 0.3476540547504007, 0.931896827719091, 0.9838291636525245, 0.9401309354047627, 0.9505766164397834, 0.05872444200145842, 0.1291937724032085, 0.10570399560262515, 0.6812035272169177, 0.011744888400291684, 0.05325985028765514, 0.2290173562369171, 0.03195591017259308, 0.01597795508629654, 0.10651970057531028, 0.11184568560407579, 0.4260788023012411, 0.021303940115062054, 0.18629986212983407, 0.602501681781591, 0.027746787976783798, 0.023782961122957542, 0.04360209539208883, 0.019819134269131285, 0.035674441684436314, 0.05945740280739385, 0.9710114539908157, 0.9170010167516286, 0.031190510773864918, 0.012476204309545968, 0.006238102154772984, 0.006238102154772984, 0.006238102154772984, 0.01871430646431895, 0.012476204309545968, 0.9697535794497224, 0.027165942928326338, 0.8421442307781164, 0.13582971464163168, 0.9658459893249657, 0.020469234743507307, 0.020469234743507307, 0.9006463287143215, 0.020469234743507307, 0.040938469487014614, 0.9533884455150858, 0.9302887710057116, 0.7940820420438673, 0.028177104717685614, 0.007684664923005168, 0.0870928691273919, 0.023053994769015502, 0.040984879589360895, 0.005123109948670112, 0.01793088482034539, 0.9710165229967642, 0.980437599345111, 0.9762866833862929, 0.024156491833273116, 0.03623473774990967, 0.7609294927481032, 0.04831298366654623, 0.024156491833273116, 0.07246947549981934, 0.03623473774990967, 0.708939300956341, 0.06344592965757137, 0.008275556042291916, 0.13240889667667066, 0.027585186807639724, 0.013792593403819862, 0.038619261530695614, 0.0055170373615279445, 0.9484335770166201, 0.028311450060197616, 0.014155725030098808, 0.9320841861086832, 0.005068004928551365, 0.021961354690389248, 0.18075884245166535, 0.03209736454749198, 0.04561204435696229, 0.4966644829980338, 0.07939874388063806, 0.13683613307088685, 0.9604686952185535, 0.9445429400649991, 0.9739166576487025, 0.9698624743672015, 0.04193668019344165, 0.04193668019344165, 0.7903451267225542, 0.009677695429255765, 0.03871078171702306, 0.01935539085851153, 0.025807187811348706, 0.032258984764185886, 0.9533374071280303, 0.9559781209007152, 0.021270796301005524, 0.14889557410703866, 0.021270796301005524, 0.7870194631372044, 0.03214358759901038, 0.1285743503960415, 0.03214358759901038, 0.7875178961757542, 0.9560598570334139, 0.8411645931470321, 0.06154862876685601, 0.08206483835580801, 0.9582210127108383, 0.025530439938817682, 0.025530439938817682, 0.8935653978586188, 0.012765219969408841, 0.025530439938817682, 0.012765219969408841, 0.28403933183788627, 0.20981302560847348, 0.12371051038235464, 0.18408123944894372, 0.06432946539882442, 0.053442940485177205, 0.039587363322353485, 0.04057704740541233, 0.052996752417991226, 0.31798051450794734, 0.609462652806899, 0.9410562955639554, 0.9647316982350637, 0.9745760779880823, 0.9688271499168235, 0.7901485603703169, 0.024312263396009753, 0.018234197547007315, 0.08509292188603414, 0.024312263396009753, 0.04254646094301707, 0.006078065849002438, 0.006078065849002438, 0.9583414461984876, 0.8954853411197241, 0.028204262712432256, 0.028204262712432256, 0.028204262712432256, 0.014102131356216128, 0.007051065678108064, 0.17001396367837276, 0.014167830306531064, 0.6800558547134911, 0.09917481214571745, 0.028335660613062127, 0.5968569495104158, 0.17522405857186518, 0.035592386897410115, 0.06297114604926404, 0.043806014642966296, 0.027378759151853935, 0.05475751830370787, 0.0027378759151853935, 0.1443689501750609, 0.19936664547984603, 0.17874250974055161, 0.006874711913098139, 0.09968332273992302, 0.044685627435137903, 0.037810915522039766, 0.2921752563066709, 0.3055885712296136, 0.2434084836276779, 0.09123912351640814, 0.1218604731897232, 0.06874180538907462, 0.024372094637944642, 0.06749195438200055, 0.0771782996868247, 0.9630787872521909, 0.9568753667492793, 0.3295443746014299, 0.20553464478625766, 0.1366403504444953, 0.07348724729787982, 0.11712030038099598, 0.03559538540991054, 0.07693196201496795, 0.027557717736704936, 0.9507412625878406, 0.2511896055585894, 0.18298580537380682, 0.18298580537380682, 0.2012843859111875, 0.07153081482794266, 0.029943131788441116, 0.03327014643160124, 0.049905219647401855, 0.029457732058152886, 0.09573762918899688, 0.04418659808722933, 0.1031020622035351, 0.22093299043614664, 0.45659484690136976, 0.04418659808722933, 0.9695574569435392, 0.01850935577850339, 0.7959022984756458, 0.009254677889251694, 0.009254677889251694, 0.11105613467102034, 0.04627338944625847, 0.0684434744659603, 0.0684434744659603, 0.03422173723298015, 0.03422173723298015, 0.8213216935915237, 0.18296401992475617, 0.1994211010820094, 0.20135722827698035, 0.11326344090580144, 0.04453092548433219, 0.0880937873711789, 0.12197601328317079, 0.04743511627678864, 0.25863992957425447, 0.27076367627304765, 0.11012403251403803, 0.08587653911645167, 0.07072185574296021, 0.04748467457027328, 0.07779404131725623, 0.07779404131725623, 0.9756055821680423, 0.9660697688313415, 0.5196692894642948, 0.1659923683225334, 0.03206670751685304, 0.1018589532888273, 0.04149809208063335, 0.03583926134236516, 0.04810006127527956, 0.05470203046992578, 0.9837738426260196, 0.937645698983594, 0.9595036214774064, 0.9448895705416249, 0.02863301728914015, 0.03605773437252543, 0.9014433593131357, 0.9553189036981314, 0.028949057687822164, 0.935824385923048, 0.0855185099226459, 0.03420740396905836, 0.8380813972419299, 0.05131110595358754, 0.21275336732348735, 0.7659121223645544, 0.9005527314392419, 0.07946053512699193, 0.9385340040827341, 0.2270832602061064, 0.17481806539676445, 0.20425478431237085, 0.08891090611244377, 0.05106369607809271, 0.04685845051872037, 0.05406744290621581, 0.1525903388686535, 0.9667464204017665, 0.028081145148585805, 0.03510143143573226, 0.2035883023272471, 0.05265214715359839, 0.1368955825993558, 0.3966461752237745, 0.049142004010025164, 0.09828400802005033, 0.02550980008227433, 0.16763582911208846, 0.3188725010284291, 0.0018221285773053094, 0.12208261467945572, 0.2368767150496902, 0.056485985896464586, 0.06924088593760175, 0.9672969152978035, 0.03729956208491337, 0.018649781042456685, 0.16784802938211016, 0.018649781042456685, 0.764641022740724, 0.9491261359688865, 0.028585120325398707, 0.08575536097619613, 0.8861387300873599, 0.04924420259838954, 0.40626467143671374, 0.008028946075824382, 0.48120150147774127, 0.014452102936483887, 0.002141052286886502, 0.03532736273362728, 0.003211578430329753, 0.08549501982890474, 0.2268906295459395, 0.013153079973677652, 0.5590058988813003, 0.023017889953935892, 0.036170969927613546, 0.05590058988813002, 0.003288269993419413, 0.9074346012318085, 0.01163377693886934, 0.01163377693886934, 0.01163377693886934, 0.01163377693886934, 0.02326755387773868, 0.01163377693886934, 0.3459350299415395, 0.2603947316287225, 0.1075543456727332, 0.11824688296183533, 0.0446570675015442, 0.040254258029560966, 0.038367339684425295, 0.0440280947198323, 0.04440304462588214, 0.3706688942682336, 0.017375104418823447, 0.03668077599529394, 0.05791701472941149, 0.030889074522352795, 0.426655341839998, 0.015444537261176398, 0.046788511823686305, 0.12476936486316348, 0.015596170607895435, 0.09357702364737261, 0.71742384796319, 0.9364080980093751, 0.9557354708647805, 0.09939846173128354, 0.14909769259692532, 0.024849615432820885, 0.7206388475518056, 0.270969805022809, 0.21419517920850614, 0.12301168926432281, 0.05505418260780881, 0.017204432064940253, 0.13419457010653396, 0.07311883627599608, 0.11268903002535866, 0.21364128243371255, 0.11264722164686661, 0.21072799221870736, 0.08254322275847985, 0.11361831838520167, 0.09808077057184075, 0.06215019125344365, 0.10487844774018616, 0.9351201733313941, 0.029050242359280883, 0.9296077554969883, 0.07986623275178875, 0.9184616766455707, 0.007090065532236884, 0.12053111404802704, 0.049630458725658196, 0.049630458725658196, 0.06381058979013196, 0.028360262128947537, 0.680646291094741, 0.007090065532236884, 0.9496601854403309, 0.9632749036357164, 0.02888301193041645, 0.02888301193041645, 0.0577660238608329, 0.02888301193041645, 0.8087243340516606, 0.3653564132098459, 0.16435486065366928, 0.12215563967502446, 0.10216653500092955, 0.05552529076137476, 0.0666303489136497, 0.0466412442395548, 0.07662490125069717, 0.9321368061794362, 0.029749047005726687, 0.003305449667302965, 0.016527248336514824, 0.009916349001908895, 0.003305449667302965, 0.00661089933460593, 0.9592102295768256, 0.01639675606114232, 0.01639675606114232, 0.00819837803057116, 0.9245698525947993, 0.03424332787388146, 0.970774890583468, 0.943809452745351, 0.03471014944414932, 0.8851088108258075, 0.05206522416622397, 0.01735507472207466, 0.01735507472207466, 0.1426509141045677, 0.20738326168143037, 0.14624715563661564, 0.1138809818481843, 0.10548975160673915, 0.16662585765155388, 0.05154612862602027, 0.06593109475421197, 0.2793854915561515, 0.20758537397091675, 0.17046422474317635, 0.07912666019597298, 0.08523211237158818, 0.06545044732259493, 0.05641437810268444, 0.05641437810268444, 0.9514740489356066, 0.08279342217421, 0.07708353098978173, 0.06280880302871104, 0.04567912947542621, 0.06851869421313932, 0.5452946081129004, 0.03425934710656966, 0.07708353098978173, 0.017183652992844, 0.057994828850848494, 0.0665866553472705, 0.103101917957064, 0.060142785474954, 0.5133616331612145, 0.0150356963687385, 0.167540616680229, 0.9428959868462442, 0.2750300417507903, 0.13510247664951106, 0.06272614987298727, 0.11097703439066979, 0.028950530710609507, 0.03618816338826188, 0.19059099384484593, 0.16405300736012055, 0.9826195619203588, 0.955618869512295, 0.9281250027669503, 0.9757197065377116, 0.9514291612752157, 0.012284696653238593, 0.8967828556864172, 0.061423483266192964, 0.012284696653238593, 0.012284696653238593, 0.8381740923383418, 0.06260221436551931, 0.010433702394253218, 0.031301107182759656, 0.031301107182759656, 0.010433702394253218, 0.006955801596168812, 0.010433702394253218, 0.9516259684459782, 0.011295263720427043, 0.005647631860213521, 0.014119079650533802, 0.005647631860213521, 0.008471447790320281, 0.0028238159301067606, 0.0028238159301067606, 0.018295807525349345, 0.10062694138942141, 0.07318323010139738, 0.018295807525349345, 0.07318323010139738, 0.7135364934886245, 0.939440480137417, 0.20233805481955947, 0.031128931510701455, 0.007782232877675364, 0.05447563014372755, 0.6459253288470552, 0.007782232877675364, 0.007782232877675364, 0.03891116438837682, 0.9655027808744866, 0.95104626031238, 0.9797801947911353, 0.44413660188815024, 0.25739734882154164, 0.05551707523601878, 0.1135576538918566, 0.04416130984683312, 0.025235034198190353, 0.050470068396380706, 0.008832261969366624, 0.026189678379487817, 0.9690181000410492, 0.9611974792901116, 0.9517516815841784, 0.02251056843634066, 0.009647386472717425, 0.02572636392724647, 0.012863181963623235, 0.12541602414532654, 0.7267697809447127, 0.02572636392724647, 0.05466852334539874, 0.9708415033325273, 0.9617427318975266, 0.029773082505375567, 0.9527386401720181, 0.9774089454881696, 0.10200220034286694, 0.1118733810212089, 0.10200220034286694, 0.35536250442031064, 0.11516377458065623, 0.1085829874617616, 0.006580787118894642, 0.09542141322397231, 0.08278191194070164, 0.11825987420100234, 0.5227086439684303, 0.042573554712360843, 0.11116428174894219, 0.04493875219638089, 0.021286777356180422, 0.056764739616481125, 0.04652408858167541, 0.9304817716335081, 0.005460565489538633, 0.09282961332215676, 0.38496986701247365, 0.03003311019246248, 0.23480431605016122, 0.0655267858744636, 0.10648102704600335, 0.07917819959831018, 0.9785045988058526, 0.06515768272547028, 0.08348328099200879, 0.21787100161329123, 0.2565583757315392, 0.0488682620441027, 0.16085802922850473, 0.08551945857717973, 0.08144710340683783, 0.0036282632466520578, 0.04353915895982469, 0.1124761606462138, 0.377339377651814, 0.24672190077233994, 0.14150226661943024, 0.039910895713172634, 0.039910895713172634, 0.7378671639695894, 0.15408402541717894, 0.0021701975410870276, 0.07595691393804596, 0.0065105926232610824, 0.0021701975410870276, 0.01953177786978325, 0.0021701975410870276, 0.9752413148502356, 0.9564581646354499, 0.9793982855223919, 0.11838976927948576, 0.08738292494438234, 0.1522154176450531, 0.1536248196602851, 0.2212761163914198, 0.09583933703577419, 0.10993335718809391, 0.062013688670206825, 0.9635683965412417, 0.028807703839399474, 0.028807703839399474, 0.9218465228607832, 0.953639047834774, 0.9560280213181191, 0.9613499085743072, 0.017479089246805586, 0.06137897195461742, 0.0851385740015661, 0.4514324388920249, 0.04751920409389736, 0.22571621944601244, 0.05543907144288025, 0.01979966837245723, 0.05345910460563453, 0.9580143153758508, 0.9789452850260594, 0.013025643131070151, 0.039076929393210454, 0.8075898741263494, 0.052102572524280605, 0.039076929393210454, 0.013025643131070151, 0.026051286262140302, 0.011645949130731843, 0.11424121528241712, 0.22681872354615826, 0.051020348572729975, 0.23513725863953816, 0.04547465851047672, 0.040483537454448784, 0.27506622708776163, 0.023458831993787992, 0.21894909860868791, 0.2267687092732839, 0.06255688531676798, 0.06255688531676798, 0.046917663987575985, 0.011729415996893996, 0.34797267457452186, 0.9519737674018365, 0.9459125307133517, 0.02149801206166708, 0.02149801206166708, 0.011479000424252794, 0.06887400254551676, 0.09183200339402235, 0.011479000424252794, 0.25253800933356146, 0.011479000424252794, 0.5624710207883868, 0.9326626837147066, 0.08089643256288925, 0.09782824402954049, 0.21446961191091568, 0.05643937155550413, 0.11287874311100826, 0.2502145472294016, 0.058320683940687595, 0.1298105545776595, 0.19345622550750616, 0.019345622550750615, 0.03869124510150123, 0.019345622550750615, 0.7351336569285234, 0.9520434476562484, 0.025104829756185144, 0.11007502277711947, 0.2529794383123272, 0.16414696379044133, 0.27904983844375025, 0.03476053350856405, 0.08979804489712379, 0.044416237260942945, 0.9827621108040594, 0.9535490838855103, 0.03531663273650038, 0.9841894906986229, 0.9545744349206531, 0.9355437699424098, 0.020283616198490645, 0.047328437796478176, 0.2704482159798753, 0.5070904049622661, 0.054089643195975055, 0.054089643195975055, 0.04056723239698129, 0.834820911121538, 0.05317694844815277, 0.022871805784151728, 0.041741045556076904, 0.025158986362566898, 0.007433336879849311, 0.007433336879849311, 0.008005132024453104, 0.896001684011671, 0.02523948405666679, 0.004206580676111131, 0.02944606473277792, 0.02523948405666679, 0.012619742028333394, 0.004206580676111131, 0.004206580676111131, 0.91410998495178, 0.01004516466979978, 0.04018065867919912, 0.02009032933959956, 0.01004516466979978, 0.8728684578266775, 0.03204362914194851, 0.014099196822457347, 0.034607119473304394, 0.01794443231949117, 0.012817451656779406, 0.005126980662711762, 0.010253961325423524, 0.9291776389490728, 0.37310937030727426, 0.29136396836201855, 0.06889969592528696, 0.06247684291530258, 0.053134511264416213, 0.043792179613529846, 0.0566378856334986, 0.05021503262351422, 0.9833207293674829, 0.033544130864623024, 0.022362753909748682, 0.08945101563899473, 0.011181376954874341, 0.06708826172924605, 0.7379708790217064, 0.022362753909748682, 0.022362753909748682, 0.03750284776075308, 0.04412099736559185, 0.09486014433602248, 0.09486014433602248, 0.06838754591666737, 0.4367978739193593, 0.013236299209677557, 0.2095747374865613, 0.06548525213135707, 0.2783123215582676, 0.6548525213135707, 0.9800351530105, 0.027540571978076446, 0.27540571978076445, 0.09180190659358815, 0.5508114395615289, 0.04590095329679408, 0.004331557001543468, 0.017326228006173873, 0.017326228006173873, 0.04331557001543468, 0.047647127016978146, 0.8316589442963458, 0.017326228006173873, 0.02165778500771734, 0.9550006076749932, 0.9385911166717296, 0.028764978169806107, 0.014382489084903053, 0.8773318341790862, 0.028764978169806107, 0.028764978169806107, 0.014382489084903053, 0.021908618997392146, 0.04381723799478429, 0.8982533788930779, 0.04133685049267515, 0.6407211826364648, 0.006889475082112525, 0.04133685049267515, 0.11712107639591292, 0.08956317606746282, 0.0551158006569002, 0.005927878923291756, 0.04149515246304229, 0.14226909415900213, 0.005927878923291756, 0.047423031386334046, 0.533509103096258, 0.017783636769875266, 0.20747576231521145, 0.055293714211459954, 0.9399931415948192, 0.954806716075541, 0.9602926577274825, 0.035418516068928096, 0.039585400312331404, 0.2979322234033363, 0.025001305460419832, 0.02291786333871818, 0.3771030240279991, 0.050002610920839664, 0.15209127488422064, 0.9390097135067819, 0.02498649477471693, 0.7412660116499357, 0.02498649477471693, 0.02498649477471693, 0.01665766318314462, 0.04997298954943386, 0.10827481069044004, 0.01665766318314462, 0.0320321914448351, 0.9289335519002179, 0.9566769744936454, 0.9166592677123769, 0.0785707943753466, 0.9576979579714331, 0.14106965585063072, 0.8182040039336582, 0.0441724062298287, 0.02208620311491435, 0.9055343277114883, 0.9614767397437585, 0.2815979386129476, 0.16787569417310336, 0.0639010706852458, 0.1971185570290633, 0.030325931850625123, 0.09855927851453165, 0.13646669332781305, 0.023827517882634024, 0.976614249401189, 0.15447167192133524, 0.2648085804365747, 0.044134763406095776, 0.4318901847596515, 0.05674469580783743, 0.018914898602612477, 0.018914898602612477, 0.009457449301306238, 0.035063179273375496, 0.011687726424458499, 0.09350181139566799, 0.023375452848916997, 0.035063179273375496, 0.6369810901329881, 0.005843863212229249, 0.16362816994241897, 0.006168216820276143, 0.006168216820276143, 0.2343922391704934, 0.03700930092165686, 0.01850465046082843, 0.6229898988478904, 0.01850465046082843, 0.04934573456220914, 0.01924383373230857, 0.03848766746461714, 0.09621916866154284, 0.04618520095754056, 0.04618520095754056, 0.685080480870185, 0.03848766746461714, 0.03079013397169371, 0.012823374990503674, 0.0352642812238851, 0.054499343709640616, 0.012823374990503674, 0.02244090623338143, 0.6828447182443206, 0.01923506248575551, 0.16349803112892183, 0.08848349773131137, 0.05611148636619745, 0.2201296772827746, 0.17696699546262273, 0.04100454772914429, 0.1143811068234025, 0.20070647046370627, 0.09927416818634933, 0.953782381163507, 0.9825932790756189, 0.0938239147179719, 0.023455978679492975, 0.8678712111412401, 0.022901131192580432, 0.9389463788957978, 0.0039617052008069885, 0.015846820803227954, 0.22977890164680534, 0.007923410401613977, 0.02773193640564892, 0.5506770229121715, 0.007923410401613977, 0.15450650283147255, 0.15215376918226464, 0.025358961530377443, 0.8114867689720782, 0.9566894816541749, 0.9720321836781375, 0.008725383530066754, 0.16578228707126832, 0.034901534120267017, 0.7503829835857407, 0.02617615059020026, 0.8359325397426376, 0.019903155708158038, 0.09951577854079019, 0.019903155708158038, 0.017851976094452236, 0.04641513784557581, 0.49271454020688166, 0.09640067091004206, 0.13924541353672742, 0.04998553306446626, 0.014281580875561788, 0.14638620397450833, 0.9645664395743582, 0.9711537964942262, 0.9519105533322796, 0.1206219106549942, 0.07538869415937137, 0.4096119049325845, 0.06282391179947615, 0.27642521191769504, 0.015077738831874275, 0.015077738831874275, 0.03015547766374855, 0.7059591283612086, 0.06943860278962706, 0.02314620092987569, 0.03471930139481353, 0.011573100464937845, 0.13887720557925412, 0.13775223265156558, 0.0472293369091082, 0.6651464948032738, 0.035422002681831155, 0.02755044653031312, 0.035422002681831155, 0.003935778075759017, 0.043293558833349184, 0.9762512587942183, 0.9232250127075696, 0.3834581119357385, 0.2659099407173425, 0.0821695954148011, 0.04222604208816168, 0.099288261126218, 0.036519820184356046, 0.04108479770740055, 0.04907350837272843, 0.036287236559337015, 0.7015532401471823, 0.015119681899723757, 0.015119681899723757, 0.021167554659613258, 0.012095745519779004, 0.19050799193651932, 0.009071809139834254, 0.024807417520410657, 0.6224406577848492, 0.006765659323748362, 0.018041758196662296, 0.009020879098331148, 0.04510439549165574, 0.2503293949786894, 0.024807417520410657, 0.004561981515986877, 0.32846266915105515, 0.07147104375046108, 0.07907434627710587, 0.2554709648952651, 0.015206605053289591, 0.23266105731533074, 0.013685944547960632, 0.0746679648697308, 0.5301425505750887, 0.04480077892183848, 0.04480077892183848, 0.09706835433065004, 0.0373339824348654, 0.09333495608716351, 0.08213476135670389, 0.9608632287083537, 0.9565973236446681, 0.9403392587221787, 0.9363113824140459, 0.20298883245256336, 0.4179181844611598, 0.1480624424948109, 0.07403122124740545, 0.026269143023272903, 0.052538286046545805, 0.07403122124740545, 0.007164311733619882, 0.9717835543712917, 0.08945050321858893, 0.8348713633734967, 0.029816834406196306, 0.029816834406196306, 0.16139547685773634, 0.17753502454350997, 0.19864058690182934, 0.09062976777395963, 0.04717713938918447, 0.1713275062028278, 0.08318074576514103, 0.06952420541564026, 0.8647406146890423, 0.016163375975496115, 0.008081687987748058, 0.04849012792648835, 0.016163375975496115, 0.024245063963244176, 0.008081687987748058, 0.016163375975496115, 0.7371758442274365, 0.09346127977526929, 0.008177861980336062, 0.12149966370785008, 0.007009595983145197, 0.0058413299859543305, 0.024533585941008188, 0.004673063988763464, 0.046873962205834126, 0.9374792441166826, 0.9326208628829106, 0.02690252489085319, 0.008967508296951063, 0.008967508296951063, 0.008967508296951063, 0.9540327230355681, 0.9765444087126649, 0.05565838189077366, 0.08905341102523785, 0.471240966675217, 0.007421117585436488, 0.025973911549027708, 0.13729067533057504, 0.022263352756309463, 0.18923849842863044, 0.9297148931491822, 0.8965578440779571, 0.03898077582947639, 0.009745193957369098, 0.019490387914738196, 0.009745193957369098, 0.14257462325689577, 0.7258344456714694, 0.012961329386990524, 0.06480664693495262, 0.03888398816097157, 0.9782152882950412, 0.05802219900575535, 0.01934073300191845, 0.01934073300191845, 0.01934073300191845, 0.01934073300191845, 0.8703329850863302, 0.01934073300191845, 0.9709919675008111, 0.015661160766142115, 0.9394854536898988, 0.9440586396905676, 0.9493710924388272, 0.9392699222571425, 0.9397323422496603, 0.8669688300999917, 0.0075388593921738405, 0.0075388593921738405, 0.07538859392173841, 0.015077718784347681, 0.0075388593921738405, 0.015077718784347681, 0.9587082465508239, 0.9655811962136526, 0.16220253740876817, 0.22171569861630183, 0.22871724699365872, 0.08985320417608021, 0.10268937620123453, 0.08168473106916382, 0.06418086012577158, 0.04784391391193881, 0.3140432264090892, 0.3162240821480412, 0.03380326395375613, 0.09377679677493636, 0.056702249212752215, 0.03816497543166014, 0.11231407055602843, 0.03707454756218414, 0.34124474004620586, 0.1583890680214465, 0.0978664160132515, 0.1789925240242363, 0.07983839201081043, 0.04120691200557958, 0.055371788007497556, 0.046357776006277024, 0.9738536114646358, 0.9574593277287378, 0.02621311441049675, 0.943672118777883, 0.28289620500356355, 0.19608849100714296, 0.12602541219784918, 0.06080946462693422, 0.06036881633253615, 0.10399299747794548, 0.058606223154943855, 0.11104337018831467, 0.021331923393541098, 0.021331923393541098, 0.9386046293158082, 0.9446069231349056, 0.009601819799208105, 0.06721273859445673, 0.2688509543778269, 0.15362911678732968, 0.028805459397624314, 0.009601819799208105, 0.009601819799208105, 0.460887350361989, 0.9548720546358387, 0.020012412944005527, 0.040024825888011054, 0.06003723883201658, 0.8805461695362432, 0.01757937315000314, 0.36916683615006596, 0.00878968657500157, 0.00878968657500157, 0.0878968657500157, 0.492222448200088, 0.00878968657500157, 0.04639872200488961, 0.04639872200488961, 0.9279744400977923, 0.9271731488003103, 0.03205320190982465, 0.8974896534750901, 0.03205320190982465, 0.9188201019063746, 0.011121582202748231, 0.08897265762198585, 0.6005654389484044, 0.044486328810992924, 0.011121582202748231, 0.24467480846046108, 0.06359205910419245, 0.031796029552096226, 0.8584927979065982, 0.09048550936813744, 0.21951114309677786, 0.16589010050825198, 0.05697235775030876, 0.0837828790445717, 0.2010789097069721, 0.088809851787246, 0.09216116694902887, 0.9633747989777935, 0.16851174806925293, 0.1984250761288836, 0.215375962029341, 0.04686421396008809, 0.10868509194999153, 0.0947255388554972, 0.07777465295503981, 0.08973998417889209, 0.9558329885445396, 0.005873456828789091, 0.04698765463031273, 0.5070751062187915, 0.005873456828789091, 0.23689609209449333, 0.08418621454597697, 0.07439711983132849, 0.04111419780152364, 0.9724619125521495, 0.07167492466359422, 0.017918731165898556, 0.9048959238778771, 0.09387846123433763, 0.17390600195869102, 0.37089687143402245, 0.03231881452329656, 0.13543122276429034, 0.05540368203993696, 0.05155620412049689, 0.08695300097934551, 0.12454194434242358, 0.1811519190435252, 0.22870429779245058, 0.04415578026685927, 0.1777553205614591, 0.07246076761741008, 0.06113877267718976, 0.1109555504141592, 0.02750740892352441, 0.013753704461762205, 0.013753704461762205, 0.93525190339983, 0.013753704461762205, 0.9516894597924953, 0.9839897716588334, 0.04994128882756901, 0.8989431988962421, 0.1765781165878579, 0.049049476829960525, 0.23936144693020736, 0.23151353063741367, 0.011771874439190526, 0.056897393122754214, 0.19815988639304052, 0.03727760239077, 0.015599914756291742, 0.031199829512583484, 0.904795055864921, 0.046799744268875225, 0.026344126502962136, 0.15147872739203228, 0.15147872739203228, 0.3973572414196789, 0.04829756525543058, 0.20416698039795655, 0.010976719376234224, 0.006586031625740534, 0.9301776914327909, 0.031005923047759697, 0.2680106460404622, 0.15861854561578376, 0.1761212816837323, 0.1783091236922259, 0.051414287199598875, 0.025160183097676047, 0.11814346845865274, 0.022972341089182478, 0.01614081843626689, 0.09684491061760132, 0.01614081843626689, 0.16140818436266888, 0.6779143743232092, 0.01614081843626689, 0.9577925085105256, 0.006128184525895083, 0.042897291681265576, 0.08579458336253115, 0.030640922629475414, 0.8089203574181509, 0.012256369051790166, 0.012256369051790166, 0.8885985564094216, 0.07840575497730191, 0.31169854885647863, 0.19775436634398946, 0.14407818119347804, 0.0847518712902812, 0.03484243597489338, 0.015066999340494434, 0.02165881155196075, 0.18927917921496135, 0.05949819610317543, 0.4710273858168055, 0.06197728760747441, 0.23551369290840274, 0.01983273203439181, 0.0942054771633611, 0.0520609215902785, 0.007437274512896929, 0.1059538019953443, 0.29515701984417336, 0.5373371386906747, 0.0075681287139531634, 0.015136257427906327, 0.045408772283718986, 0.11397006450163749, 0.27808695738399547, 0.009117605160131, 0.54705630960786, 0.0136764077401965, 0.018235210320262, 0.0136764077401965, 0.009117605160131, 0.006176185172465079, 0.08955468500074365, 0.13896416638046427, 0.006176185172465079, 0.08337849982827857, 0.030880925862325395, 0.5373281100044619, 0.10499514793190634, 0.28745327683148203, 0.19045983986380405, 0.16577060136294056, 0.11991915843276552, 0.08729409327091019, 0.027334514054527432, 0.09346640289612607, 0.028216272572415414, 0.06073839543107852, 0.31236889078840385, 0.5553224725127179, 0.026030740899033653, 0.043384568165056085, 0.24239966222503137, 0.2136256016011967, 0.1560774803535274, 0.09765741787483279, 0.09242577048868103, 0.06190782740279578, 0.06975529848202341, 0.06626753355792224, 0.9582375946029829, 0.950859896749178, 0.9520144539247124, 0.03044959332414851, 0.06089918664829702, 0.8830382064003068, 0.020900398281055325, 0.020900398281055325, 0.867366528663796, 0.04180079656211065, 0.04180079656211065, 0.010450199140527663, 0.9700055865761779, 0.13679091353844267, 0.15235006958072997, 0.24311181316073932, 0.06871960585343564, 0.13160452819101356, 0.0933549362537239, 0.06158832600072063, 0.11345217947501168, 0.03612704603048828, 0.1276488959743919, 0.18304369988780728, 0.024084697353658854, 0.08429644073780598, 0.3203264748036628, 0.055394803913415364, 0.16859288147561197, 0.0417424902592497, 0.05739592410646833, 0.3991625631040752, 0.007826716923609318, 0.04956920718285902, 0.28176180924993544, 0.08870279180090561, 0.07565826359489007, 0.28134676886719356, 0.33917916024545003, 0.10316048191797098, 0.060958466587891946, 0.03594986491080807, 0.05001720335416775, 0.07658884263606937, 0.054706316168620976, 0.20314870443325547, 0.13445813530834175, 0.28937729120708333, 0.16076516178171296, 0.07892107942011364, 0.016076516178171296, 0.0453065455930282, 0.07161357206639941, 0.27979066078712495, 0.1522951437693555, 0.14116710612441302, 0.09983439487176958, 0.08743458149597653, 0.09379346015022938, 0.098562619140919, 0.04737364597418365, 0.8124909863381, 0.041514137988078105, 0.008895886711731022, 0.05930591141154015, 0.041514137988078105, 0.0029652955705770077, 0.026687660135193067, 0.008895886711731022, 0.8749755113917068, 0.03567046449318709, 0.014687838320724095, 0.02727741402420189, 0.008393050468985197, 0.020982626172462993, 0.010491313086231496, 0.010491313086231496, 0.1585577631578463, 0.13945441819906965, 0.07641337983510665, 0.31520519181981493, 0.07641337983510665, 0.1700197701331123, 0.017193010462899, 0.04775836239694166, 0.9230266424681837, 0.038498501436738296, 0.923964034481719, 0.02591672574082653, 0.05183345148165306, 0.8552519494472756, 0.05183345148165306, 0.9491859479118457, 0.04314481581417481, 0.9178969355133234, 0.9734410122562926], \"Term\": [\"acting\", \"acting\", \"acting\", \"acting\", \"acting\", \"acting\", \"acting\", \"adventures\", \"advertising\", \"advertising\", \"advertising\", \"advertising\", \"advertising\", \"afterwards\", \"alarm\", \"alarm\", \"alarm\", \"album\", \"album\", \"album\", \"album\", \"album\", \"album\", \"album\", \"album\", \"also\", \"also\", \"also\", \"also\", \"also\", \"also\", \"also\", \"also\", \"amazon\", \"amazon\", \"amazon\", \"amazon\", \"amazon\", \"amazon\", \"amazon\", \"amazon\", \"another\", \"another\", \"another\", \"another\", \"another\", \"another\", \"another\", \"another\", \"antics\", \"aspect\", \"aspect\", \"attachment\", \"authentic\", \"author\", \"author\", \"author\", \"author\", \"author\", \"author\", \"author\", \"author\", \"authors\", \"authors\", \"authors\", \"authors\", \"authors\", \"authors\", \"avent\", \"back\", \"back\", \"back\", \"back\", \"back\", \"back\", \"back\", \"back\", \"bad\", \"bad\", \"bad\", \"bad\", \"bad\", \"bad\", \"bad\", \"bad\", \"bag\", \"bag\", \"bag\", \"bag\", \"bag\", \"bag\", \"bag\", \"bag\", \"ball\", \"ball\", \"ball\", \"ball\", \"ball\", \"ball\", \"ballads\", \"balls\", \"balls\", \"band\", \"band\", \"band\", \"band\", \"band\", \"band\", \"band\", \"band\", \"bands\", \"bands\", \"bands\", \"bands\", \"bands\", \"bands\", \"banks\", \"battery\", \"battery\", \"battery\", \"battery\", \"battery\", \"battery\", \"battery\", \"battery\", \"beats\", \"beats\", \"beer\", \"bells\", \"better\", \"better\", \"better\", \"better\", \"better\", \"better\", \"better\", \"better\", \"biased\", \"blah\", \"blah\", \"blanket\", \"blanket\", \"blatant\", \"blatant\", \"blender\", \"blender\", \"blu\", \"blu\", \"blu\", \"blu\", \"blu\", \"blu\", \"blu\", \"bone\", \"bone\", \"book\", \"book\", \"book\", \"book\", \"book\", \"book\", \"book\", \"book\", \"books\", \"books\", \"books\", \"books\", \"books\", \"books\", \"books\", \"books\", \"boring\", \"boring\", \"boring\", \"boring\", \"boring\", \"boring\", \"boring\", \"boring\", \"bosses\", \"bottles\", \"bottles\", \"bottles\", \"bought\", \"bought\", \"bought\", \"bought\", \"bought\", \"bought\", \"bought\", \"bought\", \"brass\", \"bratz\", \"bratz\", \"britney\", \"broke\", \"broke\", \"broke\", \"broke\", \"broke\", \"broke\", \"broke\", \"broke\", \"buck\", \"budget\", \"budget\", \"budget\", \"budget\", \"budget\", \"busy\", \"buy\", \"buy\", \"buy\", \"buy\", \"buy\", \"buy\", \"buy\", \"buy\", \"cable\", \"cable\", \"cable\", \"cable\", \"cable\", \"cable\", \"cable\", \"calories\", \"camera\", \"camera\", \"camera\", \"camera\", \"camera\", \"camera\", \"camping\", \"cancelled\", \"candles\", \"captivating\", \"carb\", \"card\", \"card\", \"card\", \"card\", \"card\", \"card\", \"card\", \"cartoon\", \"cartoon\", \"case\", \"case\", \"case\", \"case\", \"case\", \"case\", \"case\", \"case\", \"causing\", \"causing\", \"causing\", \"causing\", \"caution\", \"cd\", \"cd\", \"cd\", \"cd\", \"cd\", \"cd\", \"cd\", \"cd\", \"cell\", \"cell\", \"cell\", \"cent\", \"centers\", \"chapter\", \"chapter\", \"chapter\", \"chapter\", \"chapter\", \"chapter\", \"chapters\", \"chapters\", \"chapters\", \"chapters\", \"chapters\", \"chapters\", \"character\", \"character\", \"character\", \"character\", \"character\", \"character\", \"character\", \"characters\", \"characters\", \"characters\", \"characters\", \"characters\", \"characters\", \"characters\", \"characters\", \"charles\", \"cheap\", \"cheap\", \"cheap\", \"cheap\", \"cheap\", \"cheap\", \"cheap\", \"cheap\", \"chill\", \"chopped\", \"choppy\", \"chords\", \"cities\", \"cleaned\", \"cliched\", \"clogged\", \"closely\", \"closer\", \"closer\", \"coat\", \"coating\", \"coffee\", \"coffee\", \"coffee\", \"coffee\", \"coffee\", \"coffee\", \"coffee\", \"collar\", \"colorful\", \"combo\", \"comfortable\", \"comfortable\", \"comfortable\", \"comfortable\", \"comfortable\", \"comfortable\", \"comfortable\", \"compact\", \"company\", \"company\", \"company\", \"company\", \"company\", \"company\", \"company\", \"company\", \"composite\", \"computer\", \"computer\", \"computer\", \"computer\", \"computer\", \"computer\", \"computer\", \"computer\", \"computers\", \"computers\", \"computers\", \"computers\", \"computers\", \"computers\", \"console\", \"console\", \"contacted\", \"contacted\", \"contacted\", \"contacted\", \"contacted\", \"contacted\", \"contacted\", \"contacted\", \"container\", \"container\", \"controls\", \"converter\", \"converter\", \"cookbook\", \"cookbooks\", \"cords\", \"could\", \"could\", \"could\", \"could\", \"could\", \"could\", \"could\", \"could\", \"crate\", \"creates\", \"credited\", \"crib\", \"crib\", \"crime\", \"crime\", \"critics\", \"cultural\", \"customer\", \"customer\", \"customer\", \"customer\", \"customer\", \"customer\", \"customer\", \"customer\", \"cycle\", \"da\", \"da\", \"da\", \"dakota\", \"dan\", \"dan\", \"dave\", \"de\", \"de\", \"de\", \"de\", \"de\", \"dell\", \"dell\", \"depth\", \"depth\", \"depth\", \"depth\", \"depth\", \"describing\", \"design\", \"design\", \"design\", \"design\", \"design\", \"design\", \"design\", \"design\", \"development\", \"development\", \"development\", \"devoid\", \"diaper\", \"dies\", \"distortion\", \"disturbing\", \"doa\", \"doll\", \"doll\", \"dos\", \"dragon\", \"dress\", \"drums\", \"dsl\", \"durable\", \"durable\", \"durable\", \"dvd\", \"dvd\", \"dvd\", \"dvd\", \"dvd\", \"dvd\", \"dvd\", \"dvd\", \"dvds\", \"dvds\", \"dvds\", \"dvds\", \"dvds\", \"dvds\", \"dvds\", \"ea\", \"ear\", \"ear\", \"ear\", \"ear\", \"ear\", \"eat\", \"eat\", \"eat\", \"eat\", \"eat\", \"ebay\", \"edward\", \"elegant\", \"elementary\", \"email\", \"email\", \"email\", \"email\", \"email\", \"email\", \"email\", \"enjoys\", \"episodes\", \"episodes\", \"episodes\", \"episodes\", \"episodes\", \"erotic\", \"errors\", \"errors\", \"errors\", \"es\", \"eureka\", \"even\", \"even\", \"even\", \"even\", \"even\", \"even\", \"even\", \"even\", \"ever\", \"ever\", \"ever\", \"ever\", \"ever\", \"ever\", \"ever\", \"ever\", \"examples\", \"examples\", \"examples\", \"exist\", \"faces\", \"fairy\", \"fascinating\", \"fiction\", \"fiction\", \"fiction\", \"fiction\", \"fiction\", \"film\", \"film\", \"film\", \"film\", \"film\", \"film\", \"film\", \"film\", \"filters\", \"filters\", \"filters\", \"first\", \"first\", \"first\", \"first\", \"first\", \"first\", \"first\", \"first\", \"fit\", \"fit\", \"fit\", \"fit\", \"fit\", \"fit\", \"fit\", \"fit\", \"fm\", \"fm\", \"fm\", \"food\", \"food\", \"food\", \"food\", \"food\", \"food\", \"found\", \"found\", \"found\", \"found\", \"found\", \"found\", \"found\", \"found\", \"frozen\", \"game\", \"game\", \"game\", \"game\", \"game\", \"game\", \"game\", \"game\", \"games\", \"games\", \"games\", \"games\", \"games\", \"games\", \"games\", \"games\", \"garage\", \"garage\", \"garage\", \"garmin\", \"gary\", \"gate\", \"gate\", \"gear\", \"gear\", \"gel\", \"gel\", \"generic\", \"generic\", \"generic\", \"georgia\", \"german\", \"get\", \"get\", \"get\", \"get\", \"get\", \"get\", \"get\", \"get\", \"gloves\", \"godzilla\", \"godzilla\", \"good\", \"good\", \"good\", \"good\", \"good\", \"good\", \"good\", \"good\", \"got\", \"got\", \"got\", \"got\", \"got\", \"got\", \"got\", \"got\", \"graphic\", \"graphic\", \"graphic\", \"graphics\", \"graphics\", \"graphics\", \"graphics\", \"graphics\", \"graphics\", \"great\", \"great\", \"great\", \"great\", \"great\", \"great\", \"great\", \"great\", \"greatest\", \"greatest\", \"greatest\", \"greatest\", \"greatest\", \"greatest\", \"grid\", \"grisham\", \"groups\", \"groups\", \"groups\", \"guides\", \"hair\", \"hair\", \"hair\", \"hair\", \"hair\", \"hair\", \"hair\", \"handle\", \"handle\", \"handle\", \"handle\", \"handle\", \"handle\", \"handle\", \"handle\", \"hardcover\", \"harris\", \"havent\", \"hazard\", \"headphones\", \"headphones\", \"headphones\", \"headphones\", \"headphones\", \"hear\", \"hear\", \"hear\", \"hear\", \"hear\", \"hear\", \"hear\", \"hear\", \"heard\", \"heard\", \"heard\", \"heard\", \"heard\", \"heard\", \"heard\", \"heard\", \"highlights\", \"history\", \"history\", \"history\", \"history\", \"history\", \"history\", \"history\", \"history\", \"hitch\", \"holder\", \"holder\", \"holder\", \"hurts\", \"inches\", \"inches\", \"inches\", \"inches\", \"inches\", \"incomprehensible\", \"individuals\", \"information\", \"information\", \"information\", \"information\", \"information\", \"information\", \"information\", \"information\", \"informative\", \"inspired\", \"inspiring\", \"install\", \"install\", \"install\", \"install\", \"install\", \"install\", \"install\", \"interesting\", \"interesting\", \"interesting\", \"interesting\", \"interesting\", \"interesting\", \"interesting\", \"interesting\", \"introduction\", \"introduction\", \"introduction\", \"investigation\", \"item\", \"item\", \"item\", \"item\", \"item\", \"item\", \"item\", \"item\", \"jacket\", \"jackson\", \"japan\", \"jeans\", \"junk\", \"junk\", \"junk\", \"junk\", \"junk\", \"junk\", \"junk\", \"junk\", \"jvc\", \"kelly\", \"kettle\", \"kettle\", \"kettle\", \"kettle\", \"keyboard\", \"keyboard\", \"keyboard\", \"keyboard\", \"keys\", \"killing\", \"killing\", \"killing\", \"kim\", \"kit\", \"kit\", \"kit\", \"kit\", \"kit\", \"kit\", \"know\", \"know\", \"know\", \"know\", \"know\", \"know\", \"know\", \"know\", \"la\", \"la\", \"la\", \"labels\", \"lamp\", \"laura\", \"leaks\", \"learn\", \"learn\", \"learn\", \"learn\", \"learn\", \"learn\", \"learn\", \"learn\", \"legitimate\", \"library\", \"library\", \"library\", \"library\", \"library\", \"library\", \"lid\", \"lid\", \"lid\", \"lid\", \"lid\", \"life\", \"life\", \"life\", \"life\", \"life\", \"life\", \"life\", \"life\", \"light\", \"light\", \"light\", \"light\", \"light\", \"light\", \"light\", \"light\", \"like\", \"like\", \"like\", \"like\", \"like\", \"like\", \"like\", \"like\", \"limit\", \"lists\", \"little\", \"little\", \"little\", \"little\", \"little\", \"little\", \"little\", \"little\", \"locks\", \"look\", \"look\", \"look\", \"look\", \"look\", \"look\", \"look\", \"look\", \"loud\", \"loud\", \"loud\", \"loud\", \"loud\", \"loud\", \"loud\", \"lunch\", \"lyrics\", \"lyrics\", \"lyrics\", \"lyrics\", \"lyrics\", \"lyrics\", \"machines\", \"machines\", \"machines\", \"machines\", \"machines\", \"made\", \"made\", \"made\", \"made\", \"made\", \"made\", \"made\", \"made\", \"make\", \"make\", \"make\", \"make\", \"make\", \"make\", \"make\", \"make\", \"manages\", \"manufactured\", \"many\", \"many\", \"many\", \"many\", \"many\", \"many\", \"many\", \"many\", \"map\", \"margaret\", \"married\", \"mats\", \"mats\", \"menu\", \"menu\", \"method\", \"method\", \"mi\", \"microsoft\", \"microsoft\", \"microsoft\", \"microsoft\", \"milk\", \"milk\", \"mirror\", \"mirror\", \"mold\", \"money\", \"money\", \"money\", \"money\", \"money\", \"money\", \"money\", \"money\", \"monitor\", \"month\", \"month\", \"month\", \"month\", \"month\", \"month\", \"month\", \"month\", \"months\", \"months\", \"months\", \"months\", \"months\", \"months\", \"months\", \"months\", \"mood\", \"moon\", \"moon\", \"moon\", \"moon\", \"moon\", \"mosquito\", \"mountain\", \"mountain\", \"mountain\", \"movie\", \"movie\", \"movie\", \"movie\", \"movie\", \"movie\", \"movie\", \"movie\", \"movies\", \"movies\", \"movies\", \"movies\", \"movies\", \"movies\", \"movies\", \"movies\", \"ms\", \"ms\", \"ms\", \"ms\", \"ms\", \"ms\", \"ms\", \"much\", \"much\", \"much\", \"much\", \"much\", \"much\", \"much\", \"much\", \"music\", \"music\", \"music\", \"music\", \"music\", \"music\", \"music\", \"music\", \"musical\", \"musical\", \"musical\", \"musical\", \"musical\", \"navy\", \"netgear\", \"network\", \"network\", \"network\", \"network\", \"never\", \"never\", \"never\", \"never\", \"never\", \"never\", \"never\", \"never\", \"new\", \"new\", \"new\", \"new\", \"new\", \"new\", \"new\", \"new\", \"nick\", \"nightmare\", \"nightmare\", \"nine\", \"nine\", \"noise\", \"noise\", \"noise\", \"noise\", \"noise\", \"noise\", \"noise\", \"noise\", \"nonexistent\", \"norelco\", \"noted\", \"noted\", \"noted\", \"noted\", \"noted\", \"nothing\", \"nothing\", \"nothing\", \"nothing\", \"nothing\", \"nothing\", \"nothing\", \"nothing\", \"novel\", \"novel\", \"novel\", \"novel\", \"novel\", \"novel\", \"novel\", \"novels\", \"novels\", \"novels\", \"novels\", \"nu\", \"nu\", \"occasion\", \"occur\", \"oil\", \"oil\", \"oil\", \"oil\", \"oil\", \"old\", \"old\", \"old\", \"old\", \"old\", \"old\", \"old\", \"old\", \"one\", \"one\", \"one\", \"one\", \"one\", \"one\", \"one\", \"one\", \"opeth\", \"order\", \"order\", \"order\", \"order\", \"order\", \"order\", \"order\", \"order\", \"ordered\", \"ordered\", \"ordered\", \"ordered\", \"ordered\", \"ordered\", \"ordered\", \"ordered\", \"orders\", \"original\", \"original\", \"original\", \"original\", \"original\", \"original\", \"original\", \"original\", \"os\", \"outline\", \"outright\", \"oven\", \"owner\", \"pad\", \"pad\", \"pad\", \"pad\", \"pad\", \"page\", \"page\", \"page\", \"page\", \"page\", \"page\", \"page\", \"page\", \"pages\", \"pages\", \"pages\", \"pages\", \"pages\", \"pages\", \"pages\", \"pages\", \"paint\", \"paint\", \"paint\", \"paint\", \"paint\", \"paint\", \"panel\", \"paper\", \"paper\", \"paper\", \"paper\", \"paper\", \"paper\", \"paper\", \"paper\", \"parties\", \"peel\", \"penny\", \"people\", \"people\", \"people\", \"people\", \"people\", \"people\", \"people\", \"people\", \"performances\", \"performances\", \"perfume\", \"phillips\", \"phone\", \"phone\", \"phone\", \"phone\", \"phone\", \"phone\", \"phone\", \"phone\", \"photoshop\", \"physically\", \"piano\", \"piano\", \"picking\", \"picture\", \"picture\", \"picture\", \"picture\", \"picture\", \"picture\", \"picture\", \"picture\", \"piece\", \"piece\", \"piece\", \"piece\", \"piece\", \"piece\", \"piece\", \"piece\", \"pitt\", \"pitt\", \"plastic\", \"plastic\", \"plastic\", \"plastic\", \"plastic\", \"plastic\", \"plastic\", \"plastic\", \"plates\", \"play\", \"play\", \"play\", \"play\", \"play\", \"play\", \"play\", \"play\", \"player\", \"player\", \"player\", \"player\", \"player\", \"player\", \"player\", \"player\", \"plot\", \"plot\", \"plot\", \"plot\", \"plot\", \"plot\", \"plot\", \"plot\", \"poetry\", \"pole\", \"polish\", \"poor\", \"poor\", \"poor\", \"poor\", \"poor\", \"poor\", \"poor\", \"poor\", \"por\", \"portable\", \"portable\", \"portable\", \"pots\", \"prayer\", \"premise\", \"premise\", \"price\", \"price\", \"price\", \"price\", \"price\", \"price\", \"price\", \"price\", \"pricey\", \"prime\", \"printer\", \"printer\", \"printer\", \"printer\", \"printer\", \"printer\", \"printer\", \"product\", \"product\", \"product\", \"product\", \"product\", \"product\", \"product\", \"product\", \"products\", \"products\", \"products\", \"products\", \"products\", \"products\", \"products\", \"products\", \"projects\", \"prose\", \"prose\", \"prose\", \"pump\", \"pump\", \"pump\", \"pump\", \"pump\", \"pump\", \"pump\", \"pumping\", \"purchased\", \"purchased\", \"purchased\", \"purchased\", \"purchased\", \"purchased\", \"purchased\", \"purchased\", \"puzzles\", \"puzzles\", \"puzzles\", \"puzzles\", \"puzzles\", \"qualities\", \"quality\", \"quality\", \"quality\", \"quality\", \"quality\", \"quality\", \"quality\", \"quality\", \"que\", \"rail\", \"rail\", \"rake\", \"ram\", \"rank\", \"ray\", \"ray\", \"ray\", \"ray\", \"ray\", \"ray\", \"ray\", \"read\", \"read\", \"read\", \"read\", \"read\", \"read\", \"read\", \"read\", \"reader\", \"reader\", \"reader\", \"reader\", \"reader\", \"reader\", \"reader\", \"reader\", \"readers\", \"readers\", \"readers\", \"readers\", \"readers\", \"reading\", \"reading\", \"reading\", \"reading\", \"reading\", \"reading\", \"reading\", \"reading\", \"realise\", \"really\", \"really\", \"really\", \"really\", \"really\", \"really\", \"really\", \"really\", \"rebate\", \"receive\", \"receive\", \"receive\", \"receive\", \"receive\", \"receive\", \"receive\", \"receive\", \"received\", \"received\", \"received\", \"received\", \"received\", \"received\", \"received\", \"received\", \"recipes\", \"recipes\", \"recipes\", \"recommendations\", \"recording\", \"recording\", \"recording\", \"recording\", \"recording\", \"refund\", \"refund\", \"refund\", \"refund\", \"refund\", \"refund\", \"refund\", \"refund\", \"region\", \"relatives\", \"remote\", \"remote\", \"remote\", \"remote\", \"remote\", \"remote\", \"repeat\", \"repeat\", \"repeat\", \"replace\", \"replace\", \"replace\", \"replace\", \"replace\", \"replace\", \"replace\", \"replacement\", \"replacement\", \"replacement\", \"replacement\", \"replacement\", \"replacement\", \"replacement\", \"replacement\", \"reply\", \"reply\", \"resource\", \"restaurant\", \"return\", \"return\", \"return\", \"return\", \"return\", \"return\", \"return\", \"return\", \"ripping\", \"rock\", \"rock\", \"rock\", \"rock\", \"rock\", \"rock\", \"rock\", \"rock\", \"ruins\", \"ruins\", \"saga\", \"saves\", \"saves\", \"scale\", \"scent\", \"scent\", \"score\", \"score\", \"score\", \"searched\", \"see\", \"see\", \"see\", \"see\", \"see\", \"see\", \"see\", \"see\", \"seek\", \"seen\", \"seen\", \"seen\", \"seen\", \"seen\", \"seen\", \"seen\", \"seen\", \"seller\", \"seller\", \"seller\", \"seller\", \"seller\", \"seller\", \"seller\", \"seller\", \"send\", \"send\", \"send\", \"send\", \"send\", \"send\", \"send\", \"send\", \"sent\", \"sent\", \"sent\", \"sent\", \"sent\", \"sent\", \"sent\", \"sent\", \"service\", \"service\", \"service\", \"service\", \"service\", \"service\", \"service\", \"service\", \"set\", \"set\", \"set\", \"set\", \"set\", \"set\", \"set\", \"set\", \"sewing\", \"shaving\", \"sheet\", \"sheet\", \"sheet\", \"sheets\", \"sheets\", \"shipping\", \"shipping\", \"shipping\", \"shipping\", \"shipping\", \"shipping\", \"shipping\", \"shipping\", \"shirt\", \"shirt\", \"shirt\", \"sided\", \"sight\", \"signal\", \"signal\", \"signal\", \"signal\", \"signal\", \"singer\", \"singer\", \"singer\", \"singer\", \"size\", \"size\", \"size\", \"size\", \"size\", \"size\", \"size\", \"size\", \"sleepy\", \"sleeve\", \"slower\", \"small\", \"small\", \"small\", \"small\", \"small\", \"small\", \"small\", \"small\", \"smell\", \"smell\", \"smell\", \"smell\", \"smell\", \"smell\", \"software\", \"software\", \"software\", \"software\", \"software\", \"software\", \"software\", \"software\", \"solutions\", \"someday\", \"something\", \"something\", \"something\", \"something\", \"something\", \"something\", \"something\", \"something\", \"song\", \"song\", \"song\", \"song\", \"song\", \"song\", \"song\", \"song\", \"songs\", \"songs\", \"songs\", \"songs\", \"songs\", \"songs\", \"songs\", \"songs\", \"sound\", \"sound\", \"sound\", \"sound\", \"sound\", \"sound\", \"sound\", \"sound\", \"sounds\", \"sounds\", \"sounds\", \"sounds\", \"sounds\", \"sounds\", \"sounds\", \"sounds\", \"sources\", \"sprayed\", \"spraying\", \"stack\", \"stars\", \"stars\", \"stars\", \"stars\", \"stars\", \"stars\", \"stars\", \"stars\", \"stayed\", \"stiff\", \"stiff\", \"stiff\", \"stiff\", \"still\", \"still\", \"still\", \"still\", \"still\", \"still\", \"still\", \"still\", \"stories\", \"stories\", \"stories\", \"stories\", \"stories\", \"stories\", \"stories\", \"stories\", \"story\", \"story\", \"story\", \"story\", \"story\", \"story\", \"story\", \"story\", \"stroller\", \"stroller\", \"subject\", \"subject\", \"subject\", \"subject\", \"subject\", \"subjected\", \"suffering\", \"support\", \"support\", \"support\", \"support\", \"support\", \"support\", \"support\", \"support\", \"swallow\", \"tale\", \"tale\", \"tale\", \"tale\", \"tale\", \"talent\", \"talent\", \"talent\", \"talent\", \"talent\", \"talentless\", \"tea\", \"tea\", \"tea\", \"tea\", \"tea\", \"tea\", \"tea\", \"teacher\", \"teacher\", \"techno\", \"teeth\", \"tense\", \"testament\", \"texas\", \"text\", \"text\", \"text\", \"text\", \"text\", \"text\", \"text\", \"theatre\", \"thicker\", \"thing\", \"thing\", \"thing\", \"thing\", \"thing\", \"thing\", \"thing\", \"thing\", \"think\", \"think\", \"think\", \"think\", \"think\", \"think\", \"think\", \"think\", \"thought\", \"thought\", \"thought\", \"thought\", \"thought\", \"thought\", \"thought\", \"thought\", \"throat\", \"tied\", \"tiger\", \"tiger\", \"time\", \"time\", \"time\", \"time\", \"time\", \"time\", \"time\", \"time\", \"toaster\", \"toaster\", \"toaster\", \"tomatoes\", \"tool\", \"tool\", \"tool\", \"tool\", \"tool\", \"tool\", \"tool\", \"tool\", \"toxic\", \"toys\", \"toys\", \"toys\", \"toys\", \"tracks\", \"tracks\", \"tracks\", \"tracks\", \"tracks\", \"tracks\", \"tracks\", \"traffic\", \"traffic\", \"traffic\", \"tragic\", \"trailer\", \"trailer\", \"trailer\", \"trained\", \"transfer\", \"transfer\", \"transfer\", \"transfer\", \"transfer\", \"transfer\", \"trees\", \"trees\", \"trees\", \"tried\", \"tried\", \"tried\", \"tried\", \"tried\", \"tried\", \"tried\", \"tried\", \"twisted\", \"two\", \"two\", \"two\", \"two\", \"two\", \"two\", \"two\", \"two\", \"una\", \"unit\", \"unit\", \"unit\", \"unit\", \"unit\", \"unit\", \"unit\", \"unit\", \"upside\", \"usb\", \"usb\", \"usb\", \"use\", \"use\", \"use\", \"use\", \"use\", \"use\", \"use\", \"use\", \"used\", \"used\", \"used\", \"used\", \"used\", \"used\", \"used\", \"used\", \"vacuum\", \"vacuum\", \"vacuum\", \"vacuum\", \"vacuum\", \"vader\", \"vcr\", \"vehicles\", \"vehicles\", \"version\", \"version\", \"version\", \"version\", \"version\", \"version\", \"version\", \"version\", \"vhs\", \"vhs\", \"vhs\", \"vhs\", \"video\", \"video\", \"video\", \"video\", \"video\", \"video\", \"video\", \"video\", \"views\", \"views\", \"want\", \"want\", \"want\", \"want\", \"want\", \"want\", \"want\", \"want\", \"warm\", \"warm\", \"warm\", \"warm\", \"warm\", \"warm\", \"warner\", \"warranty\", \"warranty\", \"warranty\", \"warranty\", \"warranty\", \"warranty\", \"warranty\", \"washed\", \"washed\", \"waste\", \"waste\", \"waste\", \"waste\", \"waste\", \"waste\", \"waste\", \"waste\", \"watch\", \"watch\", \"watch\", \"watch\", \"watch\", \"watch\", \"watch\", \"watch\", \"watched\", \"watched\", \"watched\", \"watched\", \"watched\", \"watched\", \"watching\", \"watching\", \"watching\", \"watching\", \"watching\", \"watching\", \"watching\", \"watching\", \"water\", \"water\", \"water\", \"water\", \"water\", \"water\", \"water\", \"water\", \"way\", \"way\", \"way\", \"way\", \"way\", \"way\", \"way\", \"way\", \"wear\", \"wear\", \"wear\", \"wear\", \"wear\", \"well\", \"well\", \"well\", \"well\", \"well\", \"well\", \"well\", \"well\", \"wheels\", \"william\", \"winner\", \"wipes\", \"wipes\", \"wipes\", \"wire\", \"wire\", \"wire\", \"wire\", \"wire\", \"wire\", \"woods\", \"work\", \"work\", \"work\", \"work\", \"work\", \"work\", \"work\", \"work\", \"worked\", \"worked\", \"worked\", \"worked\", \"worked\", \"worked\", \"worked\", \"worked\", \"working\", \"working\", \"working\", \"working\", \"working\", \"working\", \"working\", \"working\", \"worst\", \"worst\", \"worst\", \"worst\", \"worst\", \"worst\", \"worst\", \"worst\", \"worth\", \"worth\", \"worth\", \"worth\", \"worth\", \"worth\", \"worth\", \"worth\", \"would\", \"would\", \"would\", \"would\", \"would\", \"would\", \"would\", \"would\", \"writing\", \"writing\", \"writing\", \"writing\", \"writing\", \"writing\", \"writing\", \"writing\", \"written\", \"written\", \"written\", \"written\", \"written\", \"written\", \"written\", \"written\", \"wrong\", \"wrong\", \"wrong\", \"wrong\", \"wrong\", \"wrong\", \"wrong\", \"wrong\", \"xl\", \"yesterday\", \"yesterday\", \"yoga\", \"yoga\", \"yoga\", \"yoga\", \"yrs\", \"yrs\", \"zelda\", \"zombie\"]}, \"R\": 30, \"lambda.step\": 0.01, \"plot.opts\": {\"xlab\": \"PC1\", \"ylab\": \"PC2\"}, \"topic.order\": [6, 1, 5, 8, 2, 7, 3, 4]};\n",
              "\n",
              "function LDAvis_load_lib(url, callback){\n",
              "  var s = document.createElement('script');\n",
              "  s.src = url;\n",
              "  s.async = true;\n",
              "  s.onreadystatechange = s.onload = callback;\n",
              "  s.onerror = function(){console.warn(\"failed to load library \" + url);};\n",
              "  document.getElementsByTagName(\"head\")[0].appendChild(s);\n",
              "}\n",
              "\n",
              "if(typeof(LDAvis) !== \"undefined\"){\n",
              "   // already loaded: just create the visualization\n",
              "   !function(LDAvis){\n",
              "       new LDAvis(\"#\" + \"ldavis_el9901397265650641448842516717\", ldavis_el9901397265650641448842516717_data);\n",
              "   }(LDAvis);\n",
              "}else if(typeof define === \"function\" && define.amd){\n",
              "   // require.js is available: use it to load d3/LDAvis\n",
              "   require.config({paths: {d3: \"https://cdnjs.cloudflare.com/ajax/libs/d3/3.5.5/d3.min\"}});\n",
              "   require([\"d3\"], function(d3){\n",
              "      window.d3 = d3;\n",
              "      LDAvis_load_lib(\"https://cdn.rawgit.com/bmabey/pyLDAvis/files/ldavis.v1.0.0.js\", function(){\n",
              "        new LDAvis(\"#\" + \"ldavis_el9901397265650641448842516717\", ldavis_el9901397265650641448842516717_data);\n",
              "      });\n",
              "    });\n",
              "}else{\n",
              "    // require.js not available: dynamically load d3 & LDAvis\n",
              "    LDAvis_load_lib(\"https://cdnjs.cloudflare.com/ajax/libs/d3/3.5.5/d3.min.js\", function(){\n",
              "         LDAvis_load_lib(\"https://cdn.rawgit.com/bmabey/pyLDAvis/files/ldavis.v1.0.0.js\", function(){\n",
              "                 new LDAvis(\"#\" + \"ldavis_el9901397265650641448842516717\", ldavis_el9901397265650641448842516717_data);\n",
              "            })\n",
              "         });\n",
              "}\n",
              "</script>"
            ]
          },
          "metadata": {},
          "execution_count": 93
        }
      ]
    },
    {
      "cell_type": "code",
      "source": [
        "# Compute coherence score\n",
        "coherence_model_lda = CoherenceModel(model=lda_gensim_tf_idf0, texts=text, dictionary=dictionary, coherence='c_v')\n",
        "coherence_lda = coherence_model_lda.get_coherence()\n",
        "\n",
        "print('Coherence Score: ', coherence_lda)"
      ],
      "metadata": {
        "colab": {
          "base_uri": "https://localhost:8080/"
        },
        "id": "dhFQsoMWvLKd",
        "outputId": "1d6c1565-153d-4a61-b82e-ec27386fc5ce"
      },
      "execution_count": null,
      "outputs": [
        {
          "output_type": "stream",
          "name": "stdout",
          "text": [
            "Coherence Score:  0.43279334546180803\n"
          ]
        }
      ]
    },
    {
      "cell_type": "code",
      "source": [
        "#stampo per ogni topic identificato una coppia rappresentante una parola (rappresentante il topic) e peso della parola nel topic\n",
        "topics_tfidf_0 = lda_gensim_tf_idf0.show_topics(num_topics=8, num_words=5, formatted=False)\n",
        "for topic in topics_tfidf_0:\n",
        "  print(topic)"
      ],
      "metadata": {
        "colab": {
          "base_uri": "https://localhost:8080/"
        },
        "id": "QsCON-TODIzJ",
        "outputId": "dba4b994-e12b-448a-b84a-6201e220542b"
      },
      "execution_count": null,
      "outputs": [
        {
          "output_type": "stream",
          "name": "stdout",
          "text": [
            "(0, [('one', 0.01165053), ('like', 0.010668455), ('movie', 0.010399347), ('get', 0.0075298743), ('album', 0.007232983)])\n",
            "(1, [('product', 0.012218893), ('one', 0.010055691), ('quality', 0.008334014), ('would', 0.0079181045), ('good', 0.0072521176)])\n",
            "(2, [('would', 0.010901888), ('one', 0.008098084), ('music', 0.0077591506), ('like', 0.007587163), ('get', 0.0065192194)])\n",
            "(3, [('product', 0.019289944), ('buy', 0.010189945), ('money', 0.009882102), ('time', 0.009800022), ('like', 0.009615964)])\n",
            "(4, [('one', 0.012320191), ('game', 0.010342881), ('get', 0.009104972), ('use', 0.00850431), ('bought', 0.008471951)])\n",
            "(5, [('book', 0.046770915), ('read', 0.013880001), ('one', 0.010872364), ('like', 0.009295315), ('would', 0.008361098)])\n",
            "(6, [('get', 0.009850708), ('would', 0.0092005), ('item', 0.0091895545), ('back', 0.009149877), ('amazon', 0.008395198)])\n",
            "(7, [('movie', 0.0213457), ('dvd', 0.01593056), ('good', 0.010789906), ('like', 0.009258624), ('bad', 0.008690595)])\n"
          ]
        }
      ]
    },
    {
      "cell_type": "code",
      "source": [
        "num_topics = 8\n",
        "n_top_sentences = 3\n",
        "threshold = 0.7\n",
        "\n",
        "sentence_topic_distributions_tfidf0 = [lda_gensim_tf_idf0[c] for c in corpus] #calcolo la distribuzione di probabilitàdi appartenenza per ogni frase del corpus ad un topic\n",
        "for topic_id in range(num_topics):\n",
        "    sentences = []\n",
        "    for i, dist in enumerate(sentence_topic_distributions_tfidf0):\n",
        "        if max([p for t, p in dist]) >= threshold and topic_id in [t for t, p in dist]: #per ogni topic, verifico quali frasi sono oltre il threshold e le inserisco nella lista\n",
        "            sentences.append(\" \".join(text[i]))\n",
        "\n",
        "    # print the selected sentences for this topic\n",
        "    print(\"Topic\", topic_id)\n",
        "    for i, sentence in enumerate(sentences[:n_top_sentences]):\n",
        "        print(f\"\\t{i+1}. {sentence}\")"
      ],
      "metadata": {
        "colab": {
          "base_uri": "https://localhost:8080/"
        },
        "id": "2JsTiaHjVSDk",
        "outputId": "d55c8106-849f-4dc6-98e0-e5aa74db4cc3"
      },
      "execution_count": null,
      "outputs": [
        {
          "output_type": "stream",
          "name": "stdout",
          "text": [
            "Topic 0\n",
            "\t1. hate g rated movies would movie name ice princess casey caryle magic turing things ice dork learns mathematical fomula tricky skating jumps high schoolers wants scholarship way harverd tried jumps idea talent say forget college athletic really believe kim cattral playing movie coach g rated movie totally different sex city show rated tv\n",
            "\t2. like dance hits one keeper unfortunately many house r b songs mixed liking plan buying cds series pure dance\n",
            "\t3. jay jane hit miami wow song huge hit miami goes well changing times girls guy go wrong beats rythym everything songs doubt fav new millenium\n",
            "Topic 1\n",
            "\t1. good macbook bought daughters macbook tried anchor slot macbook turned key made plastic frame macbook bow initially thought something wrong trying latch onto laptop kept happening even called apple said lock ok use laptop got nervous anyway decided return ended going apple buying kensigton lock one rubber gasket end lock near lock inserts port absolutely problems fits like glove therefore would recomment macbook\n",
            "\t2. count modulator excited get inno good experience roady received incar kit hooked modulator work sent back got new one bottom line fm modulator worthless try hold inno around car radio hear music bad static buy another car radio tape deck tape deck adapter incar kit adapter inno sounds great\n",
            "\t3. broke half first tried use grip jar tightly tried squeeze tightly around lid cheap plastic thing broke hands waste money right recycle bin back old standby banging lid counter running hot water\n",
            "Topic 2\n",
            "\t1. horrible man mike one worst rappers makes ashamed even say rapper hatin though tigh entertainer promoter guess make far wack lyrics copies everybody else said fact repeats everything make better really brainwashing listeners thinking good represent south well hope everybody feels slim thug lil flip others rappers coming houston everybody else know honestly listen hip hop rap wack\n",
            "\t2. coffee maker well really wanted see purchased birthday present mother wanted one warmer bottom said ok want hassel return either guess ok\n",
            "\t3. lemons flimsy purchased pro mixer years ago shortly year warranty period unit stopped mixing since called concerned excessive noise customer service rep indicated normal replaced rebuilt unit months later rebuilt unit dead help get customer service list places get repaired abused units make loaves bread week either lemons top line kitchenaid model lacks durability\n",
            "Topic 3\n",
            "\t1. like dance hits one keeper unfortunately many house r b songs mixed liking plan buying cds series pure dance\n",
            "\t2. poor service able buy wanted even emails phone calls still need buy items\n",
            "\t3. order two amazon let specify frequency ordered two sent us two use frequency son fly time called customer service receiving order said send replacement uses different frequency agree reviews heli hard control even adjusting trim fly fine spin uncontrollably apparent reason still year old fun flying around still pretty fun working getting hang flying\n",
            "Topic 4\n",
            "\t1. cheap price extremely functional worked well party rather cheaply made price paid think could cobbled something together would looked almost nice fraction price\n",
            "\t2. jay jane hit miami wow song huge hit miami goes well changing times girls guy go wrong beats rythym everything songs doubt fav new millenium\n",
            "\t3. issues definitely good choice winter white dwarf even though bars narrow enough escape got wheel find way short small mos old syrian using wheel liking cage large enough question quality crack fly wheel occurred installation unfortunately return cage using days suggest dwarf get habitrail dwarf habitat hamster took loved right away perhaps might good choice younger syrian may work okay dwarf grow honest impressed crittertrail products seeing much better made habitrail\n",
            "Topic 5\n",
            "\t1. hate g rated movies would movie name ice princess casey caryle magic turing things ice dork learns mathematical fomula tricky skating jumps high schoolers wants scholarship way harverd tried jumps idea talent say forget college athletic really believe kim cattral playing movie coach g rated movie totally different sex city show rated tv\n",
            "\t2. review thought book boring side action excitement favorite part grandmother came suggestions add excitement make book little longer\n",
            "\t3. book title misleading based title classic knits expecting traditional patterns classic lines book titled mostly something like able judge book photo cover ha remember old saying thought would getting lots classic un trendy patterns instead women patterns exaggerated wonders however men patterns classic might worth subscribed vogue knitting magazine past years already patterns silly thought editor book would imagination publish patterns original vogue knitting instead lazy\n",
            "Topic 6\n",
            "\t1. buy toaster update month toaster stopped popping reviewing warranty send back toaster cost communicate via letter correspondence also include money send back toaster buy toaster\n",
            "\t2. poor service able buy wanted even emails phone calls still need buy items\n",
            "\t3. horrible man mike one worst rappers makes ashamed even say rapper hatin though tigh entertainer promoter guess make far wack lyrics copies everybody else said fact repeats everything make better really brainwashing listeners thinking good represent south well hope everybody feels slim thug lil flip others rappers coming houston everybody else know honestly listen hip hop rap wack\n",
            "Topic 7\n",
            "\t1. season coming bible talks diciples asked know jesus returning gave parable saying know time coming season like everyone tell summer coming changing wheather well jesus saying know stuff going around book true ideas behind come around since beginng know charcter god forever god power anything sit go oh wait new idea forgot metion sorry bout know come day evey knee bow confess jesus christ lord\n",
            "\t2. gus van sant opus someone stolelove story screenplay stupid enough believe one would notice already forgotten\n",
            "\t3. terrible fan books like might want see see otherwise worth watching special effects good momoa terrible conan much weigh lbs hardly fit cimmerian good actor either plot needed depth overall complete departure books unfortunate books would make good movie stuck one stories marique sorceress rose mcgowan reason give movie one star played best role movie waste mins even bigger waste produced flopped\n"
          ]
        }
      ]
    },
    {
      "cell_type": "markdown",
      "source": [
        "######recensioni classificate come positive"
      ],
      "metadata": {
        "id": "y1Lwc4cUywkY"
      }
    },
    {
      "cell_type": "code",
      "source": [
        "size1 = len(l_1)"
      ],
      "metadata": {
        "id": "8jHfAKpzsdE2"
      },
      "execution_count": null,
      "outputs": []
    },
    {
      "cell_type": "code",
      "source": [
        "text1=[]\n",
        "for x in range(0,size1):\n",
        "  text1.append(list(l_1[x].split()))"
      ],
      "metadata": {
        "id": "qjlsrbnIsfY0"
      },
      "execution_count": null,
      "outputs": []
    },
    {
      "cell_type": "code",
      "source": [
        "doc_id = 0\n",
        "l_1[doc_id]"
      ],
      "metadata": {
        "colab": {
          "base_uri": "https://localhost:8080/",
          "height": 53
        },
        "id": "nJfrao5gsqq5",
        "outputId": "8e97a187-0725-45aa-8128-8ac23378fd84"
      },
      "execution_count": null,
      "outputs": [
        {
          "output_type": "execute_result",
          "data": {
            "text/plain": [
              "'different good way opinion cd good shows ashanti way wished wouldve seen sooner cd gave chills first heard knew ashanti wanted prove album certainly best songs certainly breakup makeup living life although think overdid end breakup makeup vocals lyrics match perfectly beats make must album gave stars cause skits intros outros really werent workin corny brought level classiness cd'"
            ],
            "application/vnd.google.colaboratory.intrinsic+json": {
              "type": "string"
            }
          },
          "metadata": {},
          "execution_count": 25
        }
      ]
    },
    {
      "cell_type": "code",
      "source": [
        "text1[doc_id][:5]"
      ],
      "metadata": {
        "colab": {
          "base_uri": "https://localhost:8080/"
        },
        "id": "wBCAaiUnsqjJ",
        "outputId": "974b4d46-772e-4e53-eaa2-0b699a18bfcf"
      },
      "execution_count": null,
      "outputs": [
        {
          "output_type": "execute_result",
          "data": {
            "text/plain": [
              "['different', 'good', 'way', 'opinion', 'cd']"
            ]
          },
          "metadata": {},
          "execution_count": 26
        }
      ]
    },
    {
      "cell_type": "code",
      "source": [
        "dictionary1 = Dictionary(text1)\n",
        "dictionary1.filter_extremes(no_below=5, no_above=0.5)"
      ],
      "metadata": {
        "id": "Oa1vKnsGsqZu"
      },
      "execution_count": null,
      "outputs": []
    },
    {
      "cell_type": "code",
      "source": [
        "dictionary1[0]"
      ],
      "metadata": {
        "colab": {
          "base_uri": "https://localhost:8080/",
          "height": 36
        },
        "id": "1cDINrtBsqPy",
        "outputId": "3ac70774-a37c-468e-eb66-4e0672356a31"
      },
      "execution_count": null,
      "outputs": [
        {
          "output_type": "execute_result",
          "data": {
            "text/plain": [
              "'album'"
            ],
            "application/vnd.google.colaboratory.intrinsic+json": {
              "type": "string"
            }
          },
          "metadata": {},
          "execution_count": 28
        }
      ]
    },
    {
      "cell_type": "code",
      "source": [
        "corpus1 = [dictionary1.doc2bow(i) for i in text1]"
      ],
      "metadata": {
        "id": "_rph2_hFsqCV"
      },
      "execution_count": null,
      "outputs": []
    },
    {
      "cell_type": "code",
      "source": [
        "[(dictionary1[k], v) for k, v in corpus1[0][:5]]"
      ],
      "metadata": {
        "colab": {
          "base_uri": "https://localhost:8080/"
        },
        "id": "ZdQXLFL9tAe0",
        "outputId": "ac37abe6-1774-4f87-dc83-fe68917d9c0c"
      },
      "execution_count": null,
      "outputs": [
        {
          "output_type": "execute_result",
          "data": {
            "text/plain": [
              "[('album', 2), ('although', 1), ('beats', 1), ('best', 1), ('brought', 1)]"
            ]
          },
          "metadata": {},
          "execution_count": 30
        }
      ]
    },
    {
      "cell_type": "code",
      "source": [
        "lda_gensim_tf_idf1 = LdaModel(corpus1, num_topics=8, id2word=dictionary1, random_state=28)"
      ],
      "metadata": {
        "colab": {
          "base_uri": "https://localhost:8080/"
        },
        "id": "SUdp6zZNtn_r",
        "outputId": "ea224c1d-9f84-4be4-e12c-3abb3f775395"
      },
      "execution_count": null,
      "outputs": [
        {
          "output_type": "stream",
          "name": "stderr",
          "text": [
            "WARNING:gensim.models.ldamodel:too few updates, training might not converge; consider increasing the number of passes or iterations to improve accuracy\n"
          ]
        }
      ]
    },
    {
      "cell_type": "code",
      "source": [
        "pyLDAvis.gensim.prepare(lda_gensim_tf_idf1, corpus1, dictionary1, mds='tsne')"
      ],
      "metadata": {
        "colab": {
          "base_uri": "https://localhost:8080/",
          "height": 862
        },
        "id": "DQoqbm_tts3x",
        "outputId": "941f9bad-0572-4a3e-ded7-b3d6e826d37b"
      },
      "execution_count": null,
      "outputs": [
        {
          "output_type": "execute_result",
          "data": {
            "text/plain": [
              "PreparedData(topic_coordinates=                x           y  topics  cluster       Freq\n",
              "topic                                                    \n",
              "5     -108.958252 -208.941483       1        1  19.078407\n",
              "4      186.487061  -98.103249       2        1  17.974246\n",
              "2       19.245832  160.858780       3        1  17.773999\n",
              "0      170.658829   75.445076       4        1  14.806408\n",
              "6       -1.386411  -35.043739       5        1  10.524708\n",
              "1     -145.800095  106.944611       6        1   8.036739\n",
              "7       64.834541 -221.825272       7        1   6.657115\n",
              "3     -196.906036  -58.990913       8        1   5.148378, topic_info=       Term         Freq        Total Category  logprob  loglift\n",
              "187    book  5868.000000  5868.000000  Default  30.0000  30.0000\n",
              "507    game   678.000000   678.000000  Default  29.0000  29.0000\n",
              "201    read  2494.000000  2494.000000  Default  28.0000  28.0000\n",
              "346   movie  1473.000000  1473.000000  Default  27.0000  27.0000\n",
              "391     set   560.000000   560.000000  Default  26.0000  26.0000\n",
              "..      ...          ...          ...      ...      ...      ...\n",
              "292      go    69.501839   755.196666   Topic8  -5.6082   0.5809\n",
              "14     good    90.796007  3696.960351   Topic8  -5.3410  -0.7402\n",
              "158    much    73.932294  1310.858460   Topic8  -5.5464   0.0912\n",
              "301   would    75.014630  1744.867488   Topic8  -5.5319  -0.1803\n",
              "28   really    65.352664  1573.784696   Topic8  -5.6698  -0.2150\n",
              "\n",
              "[692 rows x 6 columns], token_table=      Topic      Freq    Term\n",
              "term                         \n",
              "691       1  0.051133  acting\n",
              "691       2  0.127832  acting\n",
              "691       3  0.673248  acting\n",
              "691       4  0.008522  acting\n",
              "691       5  0.119310  acting\n",
              "...     ...       ...     ...\n",
              "486       7  0.041228   young\n",
              "486       8  0.012685   young\n",
              "3223      3  0.040222   youth\n",
              "3223      6  0.925109   youth\n",
              "4527      3  0.988414    zero\n",
              "\n",
              "[1902 rows x 3 columns], R=30, lambda_step=0.01, plot_opts={'xlab': 'PC1', 'ylab': 'PC2'}, topic_order=[6, 5, 3, 1, 7, 2, 8, 4])"
            ],
            "text/html": [
              "\n",
              "<link rel=\"stylesheet\" type=\"text/css\" href=\"https://cdn.rawgit.com/bmabey/pyLDAvis/files/ldavis.v1.0.0.css\">\n",
              "\n",
              "\n",
              "<div id=\"ldavis_el9901397267937594244707131711\"></div>\n",
              "<script type=\"text/javascript\">\n",
              "\n",
              "var ldavis_el9901397267937594244707131711_data = {\"mdsDat\": {\"x\": [-108.958251953125, 186.487060546875, 19.245832443237305, 170.65882873535156, -1.3864107131958008, -145.8000946044922, 64.83454132080078, -196.90603637695312], \"y\": [-208.9414825439453, -98.1032485961914, 160.85877990722656, 75.44507598876953, -35.043739318847656, 106.94461059570312, -221.8252716064453, -58.99091339111328], \"topics\": [1, 2, 3, 4, 5, 6, 7, 8], \"cluster\": [1, 1, 1, 1, 1, 1, 1, 1], \"Freq\": [19.07840705692698, 17.974245899618882, 17.77399894355908, 14.806407946411287, 10.524708323947156, 8.036738863454705, 6.6571149447810605, 5.14837802130085]}, \"tinfo\": {\"Term\": [\"book\", \"game\", \"read\", \"movie\", \"set\", \"cd\", \"great\", \"price\", \"story\", \"fun\", \"album\", \"love\", \"music\", \"songs\", \"like\", \"season\", \"use\", \"series\", \"film\", \"dvd\", \"time\", \"product\", \"one\", \"show\", \"first\", \"get\", \"easy\", \"books\", \"sound\", \"reading\", \"serve\", \"spanish\", \"repair\", \"python\", \"fitness\", \"toddlers\", \"parenting\", \"intrigue\", \"norelco\", \"nick\", \"wondered\", \"spoke\", \"chinese\", \"charts\", \"scratches\", \"alex\", \"yoga\", \"bell\", \"jesse\", \"bedtime\", \"mailed\", \"frozen\", \"hates\", \"premium\", \"alert\", \"remington\", \"weber\", \"poker\", \"illustrations\", \"growth\", \"cardboard\", \"shaver\", \"japanese\", \"pile\", \"book\", \"read\", \"adventures\", \"reader\", \"reading\", \"bible\", \"books\", \"author\", \"resource\", \"story\", \"language\", \"stories\", \"ice\", \"written\", \"pages\", \"characters\", \"chapter\", \"teach\", \"wonderful\", \"life\", \"history\", \"great\", \"interesting\", \"well\", \"must\", \"loved\", \"one\", \"love\", \"young\", \"world\", \"recommend\", \"good\", \"series\", \"would\", \"anyone\", \"way\", \"many\", \"really\", \"new\", \"like\", \"best\", \"get\", \"first\", \"time\", \"years\", \"excellent\", \"much\", \"vs\", \"shirt\", \"mario\", \"spectacular\", \"orchestra\", \"tripod\", \"chorus\", \"kinds\", \"attractive\", \"william\", \"cartoons\", \"plugged\", \"wider\", \"pool\", \"seats\", \"sung\", \"avant\", \"guns\", \"warmer\", \"canned\", \"diamond\", \"selections\", \"riff\", \"mat\", \"joseph\", \"neck\", \"deliver\", \"scores\", \"jimmy\", \"philosophical\", \"rockin\", \"mp\", \"possibility\", \"solo\", \"doors\", \"stereo\", \"sound\", \"slide\", \"ear\", \"wii\", \"musicians\", \"speakers\", \"music\", \"price\", \"service\", \"bass\", \"dave\", \"albums\", \"product\", \"great\", \"soundtrack\", \"delivery\", \"gift\", \"sounds\", \"player\", \"quality\", \"perfect\", \"album\", \"track\", \"guitar\", \"item\", \"one\", \"best\", \"good\", \"video\", \"songs\", \"like\", \"band\", \"back\", \"cd\", \"well\", \"nice\", \"time\", \"worth\", \"get\", \"love\", \"would\", \"still\", \"really\", \"make\", \"much\", \"use\", \"better\", \"bought\", \"movie\", \"also\", \"zero\", \"moon\", \"animated\", \"dryer\", \"mad\", \"splendid\", \"update\", \"dts\", \"oscar\", \"buried\", \"riot\", \"didnt\", \"remake\", \"spots\", \"creativity\", \"spends\", \"koontz\", \"dig\", \"corny\", \"crowded\", \"drummer\", \"depressed\", \"reveals\", \"chart\", \"punks\", \"ireland\", \"hunting\", \"dim\", \"mills\", \"ding\", \"couples\", \"sexy\", \"jump\", \"film\", \"automatic\", \"trilogy\", \"directed\", \"georgia\", \"crying\", \"cd\", \"romance\", \"actors\", \"songs\", \"song\", \"fan\", \"album\", \"movie\", \"concert\", \"edge\", \"acting\", \"catchy\", \"enjoyable\", \"good\", \"lord\", \"ending\", \"king\", \"still\", \"love\", \"ever\", \"seen\", \"novel\", \"best\", \"one\", \"man\", \"favorite\", \"true\", \"life\", \"time\", \"think\", \"better\", \"get\", \"like\", \"way\", \"story\", \"go\", \"really\", \"see\", \"well\", \"great\", \"new\", \"much\", \"many\", \"first\", \"also\", \"book\", \"would\", \"read\", \"becoming\", \"suggestions\", \"fishing\", \"powder\", \"killed\", \"kenny\", \"lens\", \"cap\", \"wizard\", \"pillow\", \"pants\", \"dozen\", \"resolution\", \"hitch\", \"net\", \"clients\", \"winds\", \"delivers\", \"toilet\", \"shampoo\", \"preparing\", \"owners\", \"government\", \"mrs\", \"fur\", \"suggests\", \"innovative\", \"exposure\", \"jewel\", \"sewing\", \"recharge\", \"gauge\", \"shiny\", \"camera\", \"lively\", \"hair\", \"walking\", \"tub\", \"phone\", \"painful\", \"battery\", \"cameras\", \"water\", \"firm\", \"necessary\", \"organized\", \"weather\", \"tool\", \"use\", \"using\", \"guide\", \"dry\", \"large\", \"shoes\", \"easy\", \"tips\", \"works\", \"filter\", \"also\", \"information\", \"helpful\", \"clear\", \"small\", \"design\", \"baby\", \"well\", \"product\", \"great\", \"book\", \"little\", \"used\", \"bought\", \"good\", \"excellent\", \"like\", \"would\", \"nice\", \"find\", \"recommend\", \"need\", \"one\", \"really\", \"found\", \"love\", \"read\", \"get\", \"years\", \"labels\", \"mysteries\", \"nintendo\", \"toto\", \"monsters\", \"rhino\", \"partner\", \"outdoor\", \"flu\", \"sentences\", \"click\", \"witness\", \"sparks\", \"lasting\", \"mormon\", \"authority\", \"les\", \"volt\", \"bach\", \"horns\", \"shoulder\", \"mon\", \"outlet\", \"drinking\", \"vincent\", \"blowing\", \"chances\", \"repeats\", \"posted\", \"scream\", \"game\", \"ah\", \"london\", \"kerry\", \"graphics\", \"games\", \"tim\", \"showcases\", \"detective\", \"florida\", \"fun\", \"wayne\", \"kill\", \"comic\", \"remarkable\", \"movie\", \"playing\", \"play\", \"amazing\", \"watch\", \"best\", \"everyone\", \"rules\", \"like\", \"see\", \"got\", \"played\", \"heard\", \"loved\", \"kids\", \"first\", \"one\", \"classic\", \"old\", \"love\", \"family\", \"great\", \"get\", \"really\", \"ever\", \"time\", \"would\", \"well\", \"good\", \"cd\", \"book\", \"never\", \"album\", \"read\", \"music\", \"helping\", \"sports\", \"leather\", \"stir\", \"somewhere\", \"printer\", \"listener\", \"alternate\", \"johnny\", \"musically\", \"dressed\", \"compositions\", \"seek\", \"progress\", \"grandmother\", \"sin\", \"reed\", \"pilates\", \"grammar\", \"rick\", \"tab\", \"plans\", \"blender\", \"pilot\", \"vin\", \"seeks\", \"laptops\", \"south\", \"wallet\", \"rounded\", \"chess\", \"cultural\", \"spending\", \"courage\", \"rise\", \"youth\", \"jesus\", \"exam\", \"nancy\", \"ur\", \"christ\", \"tales\", \"law\", \"god\", \"wire\", \"bike\", \"soldier\", \"one\", \"application\", \"physical\", \"web\", \"book\", \"drive\", \"good\", \"first\", \"life\", \"much\", \"writing\", \"many\", \"american\", \"even\", \"great\", \"cd\", \"find\", \"like\", \"history\", \"time\", \"read\", \"books\", \"really\", \"excellent\", \"new\", \"dvd\", \"story\", \"want\", \"use\", \"would\", \"bought\", \"love\", \"music\", \"best\", \"easy\", \"get\", \"boat\", \"shakespeare\", \"lamp\", \"jean\", \"funk\", \"router\", \"saves\", \"singers\", \"bubble\", \"files\", \"canada\", \"region\", \"frankly\", \"tower\", \"lyrically\", \"mattress\", \"glasses\", \"cliches\", \"ted\", \"lullaby\", \"josh\", \"lodge\", \"pirate\", \"deadly\", \"ed\", \"hoffman\", \"printing\", \"outfit\", \"cruise\", \"corelle\", \"bobby\", \"mb\", \"drill\", \"blu\", \"translated\", \"mouse\", \"boot\", \"crystal\", \"reliable\", \"transfer\", \"buttons\", \"plate\", \"wheel\", \"cordless\", \"journal\", \"ray\", \"cat\", \"vacuum\", \"version\", \"hot\", \"phones\", \"like\", \"great\", \"time\", \"worked\", \"first\", \"much\", \"set\", \"would\", \"good\", \"one\", \"easy\", \"love\", \"two\", \"side\", \"also\", \"use\", \"well\", \"old\", \"even\", \"bit\", \"small\", \"get\", \"far\", \"best\", \"little\", \"really\", \"recommend\", \"dvd\", \"works\", \"album\", \"cowboy\", \"shorts\", \"blades\", \"confident\", \"par\", \"elderly\", \"pedometer\", \"freeze\", \"recommendations\", \"cbs\", \"manilow\", \"hitler\", \"creek\", \"junkie\", \"blade\", \"jeff\", \"verse\", \"poster\", \"tighter\", \"basketball\", \"cookware\", \"businessman\", \"cities\", \"es\", \"se\", \"recipient\", \"sue\", \"codes\", \"motivating\", \"ww\", \"knives\", \"annie\", \"teenager\", \"discover\", \"insane\", \"que\", \"season\", \"seasons\", \"noticing\", \"knife\", \"channel\", \"sharp\", \"de\", \"set\", \"episodes\", \"la\", \"doll\", \"dolls\", \"box\", \"cut\", \"tea\", \"show\", \"potter\", \"amazon\", \"series\", \"watching\", \"skin\", \"dvd\", \"love\", \"tv\", \"get\", \"price\", \"great\", \"time\", \"buy\", \"one\", \"new\", \"like\", \"looks\", \"years\", \"first\", \"find\", \"go\", \"good\", \"much\", \"would\", \"really\"], \"Freq\": [5868.0, 678.0, 2494.0, 1473.0, 560.0, 1630.0, 5344.0, 872.0, 1246.0, 645.0, 1470.0, 2370.0, 1126.0, 960.0, 2889.0, 210.0, 1108.0, 688.0, 570.0, 702.0, 1830.0, 884.0, 3800.0, 422.0, 1348.0, 1709.0, 1041.0, 837.0, 569.0, 739.0, 43.97295381372392, 60.19086806963954, 35.840008560555596, 35.813668017170315, 31.39712041275473, 31.123359025043033, 52.895445000804024, 26.36018638361185, 25.83814166636978, 25.16947650825894, 21.957244381098484, 21.942063006465812, 57.943840681662046, 21.277857428248414, 21.29389311286984, 29.01972082412517, 91.38745249725923, 21.40275223471421, 27.987050121476347, 20.397961059712706, 19.048932010534987, 22.00315843348445, 18.14140954602327, 18.07235554700414, 21.029349280299947, 18.765936717251076, 17.783324901096336, 38.67705349258365, 58.42986540071803, 32.67959299115795, 41.58877492788696, 58.875602659251776, 89.47096949799229, 31.15718602175081, 4017.875762876192, 1655.843927435507, 64.60724603833967, 200.8699917273956, 487.2678422798145, 129.27841408435452, 524.7065673122894, 277.2423125931437, 77.10599737896001, 717.3765075325197, 91.88547025701857, 215.38889597127692, 79.73027416010495, 276.5252808180859, 101.26294895863505, 286.89838627846086, 88.84172318378833, 65.40847435477707, 329.75466292190987, 407.19324440577367, 157.72406720929095, 1004.5850287749358, 176.47743862077442, 519.250657591581, 283.62074629826196, 206.36872322533927, 649.1262139200358, 481.0867255688449, 150.1988470163037, 207.789968038016, 291.6464204651392, 590.5874873536695, 227.2797301341589, 375.0343349585264, 202.01113731677424, 260.81045704296326, 257.36229842405237, 313.79101829685726, 270.40593603319303, 391.7253448306539, 312.6080973577894, 286.1579733879214, 258.44078916411235, 256.04432292982466, 223.14097838615788, 222.2645135642038, 222.71796005067432, 67.42774916650384, 58.263677449294256, 34.73978716630258, 31.446905421411135, 29.994451906530063, 29.25893644624035, 37.91526040036719, 27.744078791508738, 26.632122473897887, 25.565866420263486, 25.125991270516288, 25.00385561095506, 24.2441363789377, 23.26240675102329, 23.274217883543365, 22.1495897264942, 26.40528672780597, 22.092313243295266, 27.38070450498663, 25.119621654217557, 30.509372227264794, 21.330868746403763, 21.183372078296404, 20.07645484347086, 19.915398671743286, 36.9522237092811, 19.882508884561112, 23.287580984242638, 33.282989680934826, 19.19528736211556, 23.724049891174705, 84.40522586257869, 21.214582813056424, 61.9457508372173, 43.463115324771394, 39.418851844408394, 435.45528301020556, 37.12148451675501, 39.69415482503942, 26.144931549873565, 58.01157697059785, 37.689050447895916, 663.412405057866, 523.374442105194, 137.25540338954258, 75.10563227888261, 46.90648984507395, 138.35391958570085, 452.4275762095827, 1901.421072385562, 72.49328087849291, 40.44147949233038, 180.98951238379732, 119.00946420513111, 121.51793001345636, 267.7260794283144, 270.3120666248461, 518.8595471627684, 145.4643060856167, 114.83477763215073, 120.69701201637776, 928.2990373946564, 543.77804067283, 763.6724762224999, 142.63541083729612, 299.418763850094, 598.3039895378595, 160.91596314824508, 241.6464518496535, 368.62255767339764, 435.44869003372224, 233.7126980927038, 352.0663305834008, 206.55966308346368, 307.63376658983026, 354.34793176285166, 301.0791464416483, 225.7709187732592, 266.80186119689654, 206.19851277119338, 244.51653779684423, 229.9461059811361, 213.02113433259265, 208.59761681189386, 233.2266971393181, 215.6985297591526, 40.63073104179989, 46.83868276561114, 38.22532311412962, 30.894666804367407, 26.777892915840333, 26.35529284624902, 32.85775423981763, 22.879479342799016, 22.572528498815903, 22.841089542563374, 22.783278258228755, 25.15213571445158, 28.390205499658222, 21.00558221697274, 20.434600104798182, 22.356858630097975, 19.766746676445237, 26.155386748791432, 22.348429325185606, 20.984104340439757, 18.91110463345881, 19.269312962926673, 17.785999018934426, 18.480855926453224, 19.81674366953062, 24.44121228900855, 16.789139937743617, 17.468172143855885, 16.511397482591708, 24.97048200391289, 18.9603266712473, 21.446446097885367, 34.768683566059686, 432.5683024386121, 22.486447530714862, 44.11398183121956, 33.62379850282745, 32.19898130731449, 26.79877481938087, 883.1233058936508, 93.42221292777137, 80.81424242681241, 530.9939161813031, 348.2182531631545, 323.03359979130664, 604.866965888751, 605.3177271102859, 112.04818542178532, 66.97312192959258, 78.9600162178711, 52.867560789761555, 99.78031176433839, 1012.0703226529305, 49.07818932960065, 108.80702152759233, 69.04287329815462, 320.49981966187624, 569.6252130513816, 298.51012990087065, 143.809326506692, 119.47454966274705, 495.8824624615672, 725.508899071212, 161.2164599725321, 195.9349904120068, 142.89589222004165, 299.89781398041316, 393.8453970937325, 250.26401026394805, 255.01554108704292, 369.20162062963874, 468.14748642559755, 251.10478535126342, 281.09842667406605, 215.53504553693784, 299.5166959159768, 207.21797395385568, 341.33853896129864, 481.12051989747107, 240.9009965587826, 254.33254461329398, 226.66693754876496, 251.222807044439, 226.7641668295522, 292.05832811572725, 235.4985794489824, 226.78075506185323, 57.59901487952255, 51.29073561149081, 33.12886581063605, 30.42499714872898, 30.19998141770195, 31.33529714497797, 89.23012756217149, 48.61148096964604, 26.253477490085103, 32.12281572190861, 43.70487164366935, 24.241997500917652, 35.417436726903816, 30.718008356752435, 24.552047232172782, 24.729219640146646, 19.862156437909693, 25.981440066523803, 23.05471443640094, 20.596085036632783, 19.327016426140297, 27.78542186800538, 18.696703683878702, 18.487308449666564, 28.781069924024447, 29.597529563595675, 17.51250094072821, 32.90626104174942, 17.36931675429674, 22.92266667443508, 24.847678775364617, 35.61257873362016, 33.4243419102162, 215.51027169229843, 53.56928834560151, 147.1374029852555, 50.49834118086308, 37.93305365810632, 115.15848997994259, 38.903967145956074, 134.58460170853112, 47.883176891811004, 164.51681088503727, 43.102727504467836, 51.65421987734181, 57.83992709908318, 51.74047204791454, 102.44054414123818, 501.89988640062046, 234.6992716390161, 120.62233927525588, 79.96953950062053, 108.66485530809335, 57.382155179631, 403.0410485812453, 71.37826625243, 279.204795258644, 58.73362000743088, 397.380718560764, 130.2297188621542, 107.72548101182232, 117.94524498238164, 182.0704425226488, 86.08144272999827, 134.27472962711792, 460.7313627902424, 265.22288982856173, 763.7665139013579, 798.7166332021247, 294.03584155457435, 214.24010070109046, 253.86814639649864, 516.8732809770296, 245.69833470899846, 423.03678183868885, 323.530841780831, 202.60526691468525, 205.780897421096, 213.9480189824185, 170.39820075524415, 333.0398287338523, 237.70670581294806, 179.27941123472914, 230.17529152167631, 228.52028021576317, 186.70876569181553, 158.68619080179738, 40.04756430374634, 39.35174046829016, 45.34297455064131, 29.751574175371168, 25.15341289311939, 27.079321652667826, 19.960830677959354, 19.438302100652354, 22.200285898258176, 20.205353081092447, 20.659412318788487, 17.89003904595196, 17.837950799662163, 18.025049741859185, 20.93492902678763, 16.8898125770449, 16.6673729114566, 15.6510754050246, 25.158087407050807, 16.876352773061964, 15.249417851841446, 14.972571850083227, 15.084366695444917, 20.389091018458416, 13.643272453626569, 13.14762966001676, 17.059714133569976, 17.15142412819017, 18.55821266923881, 12.374516243153796, 622.8298730329835, 45.27697212769266, 36.56688244525245, 20.560192209045965, 58.20929340543424, 119.82986803488711, 23.146745309673346, 21.581998561370128, 18.010128729469322, 20.006642267457977, 374.0474160073509, 36.78976859118732, 38.24221425757428, 30.293109736724432, 48.375568282336594, 529.0549654386792, 135.8918947746522, 185.75978077129437, 158.04316479769224, 160.37997979295625, 392.76040853006407, 114.67077410067039, 43.84636340916475, 440.74324548372186, 188.48778470858542, 168.22775131474677, 67.58299494479215, 115.21307183554454, 138.24859843989935, 114.09984750478645, 228.99397903620195, 396.39152946088524, 116.92501278133311, 181.70996049325404, 289.36766484488294, 110.35957791388991, 411.1870042050198, 224.64866994698323, 206.82017754031932, 160.79784931811716, 215.47570867738054, 208.66526884723777, 230.0046481843258, 265.3079664443477, 193.67368550320577, 298.66459431414484, 144.1755754315657, 163.43890233539113, 165.89674507389054, 130.26619730896206, 41.57026380867678, 40.36099683430747, 39.933208965068204, 35.29900797953067, 30.5859200456703, 29.61697466739658, 51.295068118525066, 26.45090362962215, 27.140762364705683, 22.384082908958085, 20.900252712476085, 21.841334367919224, 18.74555973878146, 16.89015124963178, 16.48016089857178, 16.385906027479006, 16.26304701822892, 18.095531904483806, 15.988440748713504, 18.061038881634822, 17.374654932898597, 15.465821173185054, 15.109183773052353, 41.799689246196664, 15.317772545761159, 14.10966096368078, 14.152453525773575, 43.60790056300755, 13.335369913856413, 17.98339342040633, 27.31194294445352, 21.855610608556248, 26.16508781643926, 20.65344817753134, 40.97909554906197, 23.10919918876285, 63.419995863918004, 49.770012285409166, 26.84544857258734, 27.046619416859972, 25.03245382838655, 34.79022900492375, 53.01926468040148, 105.38512488823618, 55.023214259262126, 35.035767946228624, 26.956342125778242, 425.17810839628766, 32.21094227927145, 30.7952819497319, 36.53500222529883, 380.1520128726686, 44.71781068811408, 268.93521156907775, 162.7292932437583, 145.28976415306926, 155.42959708199152, 80.23132904107129, 118.36760166504821, 61.75049361003756, 110.74173016720731, 199.4907971269845, 126.17471994728825, 95.82904229049254, 143.1184944855364, 67.38098368405457, 118.26443942538526, 127.63666484422899, 87.60280072023207, 102.86923493351308, 84.46542335921261, 86.57031737554824, 76.97309523597613, 82.29622685459461, 72.00858636370366, 78.15107191425858, 81.58633041449443, 74.41397880134085, 80.58162469783574, 72.6770126579225, 73.67299180510243, 71.22656313940328, 72.3514778672008, 35.03828881911274, 30.743879696334805, 30.233626772676807, 28.494478781595344, 40.37283833722726, 32.74533988605536, 29.292942794126176, 30.316124394172565, 24.076465857316325, 21.015744194911818, 19.94320094748083, 30.522014723670416, 32.06745590328337, 16.041688173383868, 16.00242192995755, 25.908429377810222, 17.95293584474368, 15.826947606310268, 15.717220349752694, 20.2532459504245, 14.456940813736683, 14.039887096188597, 14.002679014377396, 13.870764119507442, 26.26294664628359, 14.071515463350915, 15.710456799940575, 14.236479327579069, 12.09639917178089, 12.080156382818343, 33.58162101366812, 24.920417666263873, 21.238822955195378, 41.21520123970271, 20.67986020664627, 58.50909319645893, 25.410399908789476, 29.416888909409398, 25.791717493789562, 36.091391496333024, 36.23117818188478, 31.447442917997005, 40.41831187056972, 28.711248984135548, 32.323386802500394, 46.60046169202643, 73.44821435110327, 37.326448211835014, 124.7344867444066, 73.48735222686129, 33.64934494284968, 309.94317600394425, 360.5978338273615, 200.18441516795218, 65.57554506393295, 142.22029692311966, 136.0337512221773, 93.32449865940542, 144.45835584121087, 188.71759950428333, 188.14145117756337, 111.49496492854713, 146.10837673388247, 96.86903806364215, 63.509504526596814, 102.97553939186076, 98.3547255199677, 113.77153414712912, 88.67402329828992, 90.26713452468074, 72.7159081822007, 69.13481537126111, 98.54442440757033, 68.0925155464822, 92.76131261456916, 80.61789093958163, 80.92633847820865, 74.05983209088265, 70.19620489462405, 69.99748033363232, 71.0142891921012, 26.966118163146252, 28.71552728917085, 44.003952418640864, 31.858863721909962, 21.775368821006943, 22.371389624428726, 16.517840475730413, 16.577937166330383, 14.8786122926587, 19.635411729161973, 15.069692457102951, 14.969787582753074, 14.16392804654625, 15.665450733224654, 67.93186861133765, 41.61303908292821, 15.33282202569185, 16.61889914653357, 15.360801038155936, 12.37840597397871, 26.153730742225747, 13.944920713264402, 13.775849822847192, 15.543678879056605, 18.980236244864027, 11.546064272140592, 12.051292545859289, 11.694747380678297, 11.20426144883157, 10.971538718704524, 27.5436693988685, 27.60145849656191, 24.79923988942868, 31.410879636278636, 16.835141118717548, 17.29807271461502, 161.91363731466473, 37.73461076719125, 19.31932003542225, 68.1424772771288, 25.34243755274086, 58.85873980728964, 48.69670070920477, 272.88958352776183, 99.83997936618557, 43.03281760730912, 32.90047497969766, 21.074270914201417, 72.26937996099741, 71.13608269824167, 33.41268118493017, 122.34805526337202, 29.70508975207859, 87.05499692135533, 146.58767298739548, 85.49477290976854, 46.0191825696081, 127.51693100735785, 218.83333283469182, 66.77940906178804, 164.16425959099507, 110.65171837916678, 222.55959679752533, 140.99041446081347, 91.32084052420585, 155.10555875789248, 96.41767348238234, 114.35517997079363, 57.01233015305425, 79.9906828952609, 83.70553684804403, 72.07192854577482, 69.50183922470376, 90.79600653522847, 73.93229406303784, 75.01463014401395, 65.35266363645215], \"Total\": [5868.0, 678.0, 2494.0, 1473.0, 560.0, 1630.0, 5344.0, 872.0, 1246.0, 645.0, 1470.0, 2370.0, 1126.0, 960.0, 2889.0, 210.0, 1108.0, 688.0, 570.0, 702.0, 1830.0, 884.0, 3800.0, 422.0, 1348.0, 1709.0, 1041.0, 837.0, 569.0, 739.0, 44.82059885798465, 61.478323537540476, 36.682370380769456, 36.69315547356091, 32.25543230259357, 31.98721404769862, 54.371577125537016, 27.19932126732341, 26.675443613959267, 26.00906301117896, 22.795396819867946, 22.792520460048916, 60.21874487694895, 22.117693119142725, 22.13562893334582, 30.16907557855903, 95.08643445584083, 22.279208637949775, 29.158511079393392, 21.282413035838065, 19.890709793623753, 22.986018396786857, 18.981694717473047, 18.913066065154833, 22.012713522190424, 19.654010593722614, 18.632515390412674, 40.53797887712267, 61.30664041315825, 34.28911994995412, 43.68703748788335, 62.96930913164714, 97.94413908820344, 33.15325224014067, 5868.109342469959, 2494.269885039121, 75.26915676832809, 270.1345929508243, 739.0094812741293, 169.6937452577079, 837.4332946876983, 417.5051850892026, 95.91880203069152, 1246.4220447206342, 117.35458878784277, 333.40345967605515, 105.59763062570704, 492.2434763920953, 144.03872271579593, 562.6563410621604, 124.7964061408644, 85.62422006188086, 760.443022636347, 1126.6370771603931, 327.52330835643767, 5344.728366916218, 393.32175124767684, 2213.593480389086, 879.8367030035619, 530.3070971791486, 3800.790626912385, 2370.1261610160473, 315.32299613266423, 560.9844816316236, 1036.1429848402381, 3696.9603512590666, 688.628894300487, 1744.8674878769448, 554.5125963057179, 971.573377697395, 990.5864364100496, 1573.784695811172, 1145.55073804746, 2889.373698576796, 2065.14623181159, 1709.4109581119553, 1348.5385251778562, 1830.6914787949086, 1024.4108288745192, 991.0566703732235, 1310.8584598278262, 68.31013109802035, 59.54618624120498, 35.67164836885775, 32.303882761200484, 30.85017399374697, 30.115690982643358, 39.074340437859114, 28.60091455926752, 27.497635368968393, 26.426897533201725, 25.982002877148787, 25.865013189638915, 25.104406958362045, 24.118260860443662, 24.17236907826366, 23.005470135599936, 27.42732576863274, 22.948382951898903, 28.442921822729637, 26.109564751707012, 31.72608810286291, 22.187037827363525, 22.043515950424545, 20.93184584381901, 20.773969260348135, 38.54667030760367, 20.740423087599538, 24.318849191808475, 34.75996772003905, 20.054797151596, 24.816130153413535, 91.06061410789027, 22.175333390370035, 67.77155306389938, 47.1899413092113, 42.79417345309521, 569.1812818778865, 40.40400663851145, 43.921251252667936, 27.653490887616115, 67.32706925552425, 41.725867235044845, 1126.4994287632944, 872.4199378952729, 200.92009078080696, 97.22460073717816, 55.248369465438884, 206.70017278494413, 884.3193800398213, 5344.728366916218, 95.79483567362139, 46.25890935726962, 304.49279958290634, 184.0268944163974, 190.54473487862606, 543.4475520938395, 583.5104764750063, 1470.8873283792805, 260.32736704507494, 193.81415814337183, 207.98081168042944, 3800.790626912385, 2065.14623181159, 3696.9603512590666, 293.9937888297564, 960.3358712924884, 2889.373698576796, 380.0350242871063, 762.7898973382289, 1630.997502426948, 2213.593480389086, 733.4836419731785, 1830.6914787949086, 729.9756650157658, 1709.4109581119553, 2370.1261610160473, 1744.8674878769448, 988.6498313190373, 1573.784695811172, 809.4935398850106, 1310.8584598278262, 1108.1176376466926, 900.1762245811991, 953.5957311464911, 1473.6266223159894, 1242.7556078340324, 41.48059840475563, 47.864019528743924, 39.089838741033574, 31.747189561142857, 27.6272276335796, 27.23554080560808, 33.97337684817477, 23.743820782555822, 23.427609196695308, 23.715142254698172, 23.663421787247795, 26.128703784686046, 29.5109923846709, 21.855703982733885, 21.284203212485455, 23.2920448258512, 20.620118733772237, 27.29721007020053, 23.325638331739334, 21.926405303133674, 19.783465935524468, 20.170802827278063, 18.635764917077218, 19.378079294905938, 20.790957408856663, 25.648583254478474, 17.63839425864142, 18.35245029574012, 17.364499777837892, 26.263520808096782, 19.942487814471193, 22.600003761573582, 37.143037326976646, 570.9485755344592, 23.939655639190402, 49.99270303836981, 37.26970262583822, 35.63573767277324, 29.314267218937978, 1630.997502426948, 123.3644139980494, 104.95625171303556, 960.3358712924884, 609.0650005155516, 598.9066539396376, 1470.8873283792805, 1473.6266223159894, 180.35380664846852, 94.33564188430302, 117.34156847272727, 70.1297619228539, 165.20279994140114, 3696.9603512590666, 65.57054817854623, 196.77893729637924, 108.13575898961142, 988.6498313190373, 2370.1261610160473, 925.7669843673584, 319.296199026547, 245.4764132196487, 2065.14623181159, 3800.790626912385, 389.7664123469631, 561.3573950377285, 340.1442922726598, 1126.6370771603931, 1830.6914787949086, 864.7854263968736, 900.1762245811991, 1709.4109581119553, 2889.373698576796, 971.573377697395, 1246.4220447206342, 755.1966663409611, 1573.784695811172, 764.7981030899954, 2213.593480389086, 5344.728366916218, 1145.55073804746, 1310.8584598278262, 990.5864364100496, 1348.5385251778562, 1242.7556078340324, 5868.109342469959, 1744.8674878769448, 2494.269885039121, 58.44717218066533, 52.25443186241255, 34.03547773912903, 31.27032637379874, 31.051205313096105, 32.23480272632014, 91.97207332364505, 50.14877503069953, 27.100597991667865, 33.21598983309843, 45.20937421333159, 25.08892401541011, 36.676249350366184, 31.849279171496864, 25.46628262926958, 25.67986807772545, 20.709034925808012, 27.09687837904378, 24.056468740590834, 21.507367264568625, 20.197110934243113, 29.043496884993967, 19.54334918435981, 19.334241076914324, 30.101655809193705, 31.01107495195855, 18.35986822662198, 34.50543325576449, 18.21523547625691, 24.053665726925296, 26.123944647573985, 37.685737794165576, 35.54743293149171, 246.27512237106075, 58.30213357128432, 170.36001106672907, 55.494676094490316, 40.966113080735, 135.2233755222534, 42.542723788773166, 173.54017763634607, 54.635118125062704, 236.02779829396803, 49.07970188609884, 60.7984115782033, 69.61393053478311, 61.32527757196166, 145.83702007152246, 1108.1176376466926, 421.09438545135095, 189.3630586870905, 110.45826609318338, 165.71486455234515, 71.59260578778769, 1041.059251390163, 97.96097343919553, 705.6726472997592, 76.4718009410367, 1242.7556078340324, 247.4069804815114, 188.2356831662542, 221.63358937812075, 440.785159945269, 138.1485241754028, 289.5756238241676, 2213.593480389086, 884.3193800398213, 5344.728366916218, 5868.109342469959, 1169.9394176300611, 695.2874463884605, 953.5957311464911, 3696.9603512590666, 991.0566703732235, 2889.373698576796, 1744.8674878769448, 733.4836419731785, 852.0768243712492, 1036.1429848402381, 576.1086428759552, 3800.790626912385, 1573.784695811172, 697.9951991878236, 2370.1261610160473, 2494.269885039121, 1709.4109581119553, 1024.4108288745192, 40.909253760648646, 40.208895457566896, 46.64091757919667, 30.754010758949235, 26.00359848114773, 28.092722682217165, 20.81259759778975, 20.298719072985275, 23.201114389163816, 21.129160689779916, 21.632689088304677, 18.742287564372766, 18.68912881703402, 18.890191928674092, 21.991138101390057, 17.745874000924108, 17.5190719981988, 16.50519300724634, 26.579457430206972, 17.835942940692384, 16.120216926868533, 15.831785738248087, 15.97151589898992, 21.649694594812456, 14.511593425947773, 13.998218743150028, 18.186795005051632, 18.308889648741527, 19.812133197925103, 13.228932017239686, 678.5402063838783, 49.011522528180336, 39.63094478216129, 22.191682506903376, 68.58296271776902, 153.5805946385513, 25.40666142043325, 23.576817732344463, 19.33802715120701, 21.819239282716236, 645.640475581145, 44.0687256341038, 48.34773731375684, 36.29297822206247, 67.17157342015928, 1473.6266223159894, 263.82612144789505, 401.39823442805795, 467.79748131439794, 488.3572690078066, 2065.14623181159, 320.5097462446812, 71.69978662195739, 2889.373698576796, 764.7981030899954, 666.8626219261207, 151.18792702067628, 386.27893757349113, 530.3070971791486, 384.72630273580717, 1348.5385251778562, 3800.790626912385, 414.0287943762469, 941.6459513206125, 2370.1261610160473, 383.76515537991344, 5344.728366916218, 1709.4109581119553, 1573.784695811172, 925.7669843673584, 1830.6914787949086, 1744.8674878769448, 2213.593480389086, 3696.9603512590666, 1630.997502426948, 5868.109342469959, 762.1569778907203, 1470.8873283792805, 2494.269885039121, 1126.4994287632944, 42.432981834966725, 41.22612268841975, 40.79759744894132, 36.177530606941005, 31.48937695975319, 30.548299278396474, 52.94231406257341, 27.35608879676412, 28.110127327334972, 23.2475517311447, 21.765305724213093, 22.867781701176952, 19.658364996491542, 17.753026560717593, 17.342361167670617, 17.255430622628786, 17.127519504935425, 19.06012106521135, 16.85049523379211, 19.055548343151365, 18.337419023230726, 16.327708302997284, 15.97080648990741, 44.198085822646625, 16.232980567365594, 14.997587331713124, 15.057334194852022, 46.50238220315531, 14.23110683792064, 19.199795604847537, 29.213023813157143, 23.388716876001766, 28.112034101294782, 22.114283141928773, 45.12401623133032, 24.861933735380212, 73.18434338727262, 57.83327614120621, 29.59191795589307, 30.236975488415755, 28.471685197403527, 42.550143201668156, 71.72315992371576, 188.45760036566213, 83.10908994258116, 46.547916101882095, 33.783067589059605, 3800.790626912385, 45.86197103806753, 42.89151419148196, 59.423427204624645, 5868.109342469959, 94.12675362622312, 3696.9603512590666, 1348.5385251778562, 1126.6370771603931, 1310.8584598278262, 320.7059295052608, 990.5864364100496, 214.5764793453215, 1010.8705458058831, 5344.728366916218, 1630.997502426948, 852.0768243712492, 2889.373698576796, 327.52330835643767, 1830.6914787949086, 2494.269885039121, 837.4332946876983, 1573.784695811172, 991.0566703732235, 1145.55073804746, 702.445008073343, 1246.4220447206342, 672.6960441637991, 1108.1176376466926, 1744.8674878769448, 953.5957311464911, 2370.1261610160473, 1126.4994287632944, 2065.14623181159, 1041.059251390163, 1709.4109581119553, 35.90120564528812, 31.598159738051965, 31.09912355120563, 29.350729629323776, 41.606932159381856, 33.754739413340175, 30.201855614857827, 31.309850399689054, 24.93084061045399, 21.894165028148105, 20.80787391398601, 32.00409246382553, 33.72128835749574, 16.89616969881689, 16.861784319348324, 27.3064888063618, 18.922385695885136, 16.684228350553752, 16.573767119106563, 21.37179849427595, 15.310476032562441, 14.893683299211848, 14.896454186708443, 14.767695611265868, 28.049552738298217, 15.036600649946195, 16.78851295079043, 15.222326349865106, 12.950661713737386, 12.933838255060417, 35.9770082718865, 26.70447426417432, 22.867269249541284, 45.691210099127694, 22.4366894044013, 69.68728126510953, 28.63465485465007, 33.87355350087034, 29.24028834919763, 43.08069064306381, 43.615410327366895, 37.57409082796296, 51.61879442793042, 34.91232963473935, 41.013604527620664, 67.47607107523774, 139.87927991368684, 52.15754570007281, 313.5629073931191, 162.47970113162492, 45.918514754943246, 2889.373698576796, 5344.728366916218, 1830.6914787949086, 209.14345084909866, 1348.5385251778562, 1310.8584598278262, 560.6365333324816, 1744.8674878769448, 3696.9603512590666, 3800.790626912385, 1041.059251390163, 2370.1261610160473, 842.1711116959181, 263.4713817541631, 1242.7556078340324, 1108.1176376466926, 2213.593480389086, 941.6459513206125, 1010.8705458058831, 490.3934756432464, 440.785159945269, 1709.4109581119553, 473.6668849600238, 2065.14623181159, 1169.9394176300611, 1573.784695811172, 1036.1429848402381, 702.445008073343, 705.6726472997592, 1470.8873283792805, 27.996308876230085, 29.846082763224597, 45.80656245004695, 33.208112170806956, 22.782095812696646, 23.515477975506524, 17.36700635396384, 17.43757863425213, 15.727639378442463, 20.755891659988023, 15.93805424270742, 15.895523706715272, 15.041642083242019, 16.641391574897952, 72.19447130465869, 44.23965073018383, 16.34592185402333, 17.729168008075415, 16.40811036702492, 13.22761998970974, 27.961923857764, 14.914943149122099, 14.743848302608527, 16.677540457927414, 20.365578768847648, 12.3946164983274, 12.950925152153715, 12.595241659813283, 12.093255070601804, 11.84643457268087, 30.168918653437732, 30.278148393947482, 27.204170415335533, 34.92830995426148, 18.30977843119197, 18.841796424200503, 210.1183158433159, 44.487991472493604, 21.5634643819456, 96.42604478072968, 29.77053430715333, 82.80444244292234, 66.52823456355065, 560.6365333324816, 166.79411349849903, 59.77691105026641, 44.98910234445877, 24.857918861620902, 154.65559311693858, 164.91240579871842, 51.709945909005974, 422.4484087333293, 43.75231132813596, 275.3042794953651, 688.628894300487, 278.19252065819734, 93.65678532308723, 702.445008073343, 2370.1261610160473, 215.99047361903754, 1709.4109581119553, 872.4199378952729, 5344.728366916218, 1830.6914787949086, 790.6259279201486, 3800.790626912385, 1145.55073804746, 2889.373698576796, 283.98777133209467, 1024.4108288745192, 1348.5385251778562, 852.0768243712492, 755.1966663409611, 3696.9603512590666, 1310.8584598278262, 1744.8674878769448, 1573.784695811172], \"Category\": [\"Default\", \"Default\", \"Default\", \"Default\", \"Default\", \"Default\", \"Default\", \"Default\", \"Default\", \"Default\", \"Default\", \"Default\", \"Default\", \"Default\", \"Default\", \"Default\", \"Default\", \"Default\", \"Default\", \"Default\", \"Default\", \"Default\", \"Default\", \"Default\", \"Default\", \"Default\", \"Default\", \"Default\", \"Default\", \"Default\", \"Topic1\", \"Topic1\", \"Topic1\", \"Topic1\", \"Topic1\", \"Topic1\", \"Topic1\", \"Topic1\", \"Topic1\", \"Topic1\", \"Topic1\", \"Topic1\", \"Topic1\", \"Topic1\", \"Topic1\", \"Topic1\", \"Topic1\", \"Topic1\", \"Topic1\", \"Topic1\", \"Topic1\", \"Topic1\", \"Topic1\", \"Topic1\", \"Topic1\", \"Topic1\", \"Topic1\", \"Topic1\", \"Topic1\", \"Topic1\", \"Topic1\", \"Topic1\", \"Topic1\", \"Topic1\", \"Topic1\", \"Topic1\", \"Topic1\", \"Topic1\", \"Topic1\", \"Topic1\", \"Topic1\", \"Topic1\", \"Topic1\", \"Topic1\", \"Topic1\", \"Topic1\", \"Topic1\", \"Topic1\", \"Topic1\", \"Topic1\", \"Topic1\", \"Topic1\", \"Topic1\", \"Topic1\", \"Topic1\", \"Topic1\", \"Topic1\", \"Topic1\", \"Topic1\", \"Topic1\", \"Topic1\", \"Topic1\", \"Topic1\", \"Topic1\", \"Topic1\", \"Topic1\", \"Topic1\", \"Topic1\", \"Topic1\", \"Topic1\", \"Topic1\", \"Topic1\", \"Topic1\", \"Topic1\", \"Topic1\", \"Topic1\", \"Topic1\", \"Topic1\", \"Topic1\", \"Topic1\", \"Topic1\", \"Topic2\", \"Topic2\", \"Topic2\", \"Topic2\", \"Topic2\", \"Topic2\", \"Topic2\", \"Topic2\", \"Topic2\", \"Topic2\", \"Topic2\", \"Topic2\", \"Topic2\", \"Topic2\", \"Topic2\", \"Topic2\", \"Topic2\", \"Topic2\", \"Topic2\", \"Topic2\", \"Topic2\", \"Topic2\", \"Topic2\", \"Topic2\", \"Topic2\", \"Topic2\", \"Topic2\", \"Topic2\", \"Topic2\", \"Topic2\", \"Topic2\", \"Topic2\", \"Topic2\", \"Topic2\", \"Topic2\", \"Topic2\", \"Topic2\", \"Topic2\", \"Topic2\", \"Topic2\", \"Topic2\", \"Topic2\", \"Topic2\", \"Topic2\", \"Topic2\", \"Topic2\", \"Topic2\", \"Topic2\", \"Topic2\", \"Topic2\", \"Topic2\", \"Topic2\", \"Topic2\", \"Topic2\", \"Topic2\", \"Topic2\", \"Topic2\", \"Topic2\", \"Topic2\", \"Topic2\", \"Topic2\", \"Topic2\", \"Topic2\", \"Topic2\", \"Topic2\", \"Topic2\", \"Topic2\", \"Topic2\", \"Topic2\", \"Topic2\", \"Topic2\", \"Topic2\", \"Topic2\", \"Topic2\", \"Topic2\", \"Topic2\", \"Topic2\", \"Topic2\", \"Topic2\", \"Topic2\", \"Topic2\", \"Topic2\", \"Topic2\", \"Topic2\", \"Topic2\", \"Topic2\", \"Topic3\", \"Topic3\", \"Topic3\", \"Topic3\", \"Topic3\", \"Topic3\", \"Topic3\", \"Topic3\", \"Topic3\", \"Topic3\", \"Topic3\", \"Topic3\", \"Topic3\", \"Topic3\", \"Topic3\", \"Topic3\", \"Topic3\", \"Topic3\", \"Topic3\", \"Topic3\", \"Topic3\", \"Topic3\", \"Topic3\", \"Topic3\", \"Topic3\", \"Topic3\", \"Topic3\", \"Topic3\", \"Topic3\", \"Topic3\", \"Topic3\", \"Topic3\", \"Topic3\", \"Topic3\", \"Topic3\", \"Topic3\", \"Topic3\", \"Topic3\", \"Topic3\", \"Topic3\", \"Topic3\", \"Topic3\", \"Topic3\", \"Topic3\", \"Topic3\", \"Topic3\", \"Topic3\", \"Topic3\", \"Topic3\", \"Topic3\", \"Topic3\", \"Topic3\", \"Topic3\", \"Topic3\", \"Topic3\", \"Topic3\", \"Topic3\", \"Topic3\", \"Topic3\", \"Topic3\", \"Topic3\", \"Topic3\", \"Topic3\", \"Topic3\", \"Topic3\", \"Topic3\", \"Topic3\", \"Topic3\", \"Topic3\", \"Topic3\", \"Topic3\", \"Topic3\", \"Topic3\", \"Topic3\", \"Topic3\", \"Topic3\", \"Topic3\", \"Topic3\", \"Topic3\", \"Topic3\", \"Topic3\", \"Topic3\", \"Topic3\", \"Topic3\", \"Topic3\", \"Topic3\", \"Topic3\", \"Topic4\", \"Topic4\", \"Topic4\", \"Topic4\", \"Topic4\", \"Topic4\", \"Topic4\", \"Topic4\", \"Topic4\", \"Topic4\", \"Topic4\", \"Topic4\", \"Topic4\", \"Topic4\", \"Topic4\", \"Topic4\", \"Topic4\", \"Topic4\", \"Topic4\", \"Topic4\", \"Topic4\", \"Topic4\", \"Topic4\", \"Topic4\", \"Topic4\", \"Topic4\", \"Topic4\", \"Topic4\", \"Topic4\", \"Topic4\", \"Topic4\", \"Topic4\", \"Topic4\", \"Topic4\", \"Topic4\", \"Topic4\", \"Topic4\", \"Topic4\", \"Topic4\", \"Topic4\", \"Topic4\", \"Topic4\", \"Topic4\", \"Topic4\", \"Topic4\", \"Topic4\", \"Topic4\", \"Topic4\", \"Topic4\", \"Topic4\", \"Topic4\", \"Topic4\", \"Topic4\", \"Topic4\", \"Topic4\", \"Topic4\", \"Topic4\", \"Topic4\", \"Topic4\", \"Topic4\", \"Topic4\", \"Topic4\", \"Topic4\", \"Topic4\", \"Topic4\", \"Topic4\", \"Topic4\", \"Topic4\", \"Topic4\", \"Topic4\", \"Topic4\", \"Topic4\", \"Topic4\", \"Topic4\", \"Topic4\", \"Topic4\", \"Topic4\", \"Topic4\", \"Topic4\", \"Topic4\", \"Topic4\", \"Topic4\", \"Topic4\", \"Topic4\", \"Topic4\", \"Topic4\", \"Topic4\", \"Topic5\", \"Topic5\", \"Topic5\", \"Topic5\", \"Topic5\", \"Topic5\", \"Topic5\", \"Topic5\", \"Topic5\", \"Topic5\", \"Topic5\", \"Topic5\", \"Topic5\", \"Topic5\", \"Topic5\", \"Topic5\", \"Topic5\", \"Topic5\", \"Topic5\", \"Topic5\", \"Topic5\", \"Topic5\", \"Topic5\", \"Topic5\", \"Topic5\", \"Topic5\", \"Topic5\", \"Topic5\", \"Topic5\", \"Topic5\", \"Topic5\", \"Topic5\", \"Topic5\", \"Topic5\", \"Topic5\", \"Topic5\", \"Topic5\", \"Topic5\", \"Topic5\", \"Topic5\", \"Topic5\", \"Topic5\", \"Topic5\", \"Topic5\", \"Topic5\", \"Topic5\", \"Topic5\", \"Topic5\", \"Topic5\", \"Topic5\", \"Topic5\", \"Topic5\", \"Topic5\", \"Topic5\", \"Topic5\", \"Topic5\", \"Topic5\", \"Topic5\", \"Topic5\", \"Topic5\", \"Topic5\", \"Topic5\", \"Topic5\", \"Topic5\", \"Topic5\", \"Topic5\", \"Topic5\", \"Topic5\", \"Topic5\", \"Topic5\", \"Topic5\", \"Topic5\", \"Topic5\", \"Topic5\", \"Topic5\", \"Topic5\", \"Topic5\", \"Topic5\", \"Topic5\", \"Topic5\", \"Topic6\", \"Topic6\", \"Topic6\", \"Topic6\", \"Topic6\", \"Topic6\", \"Topic6\", \"Topic6\", \"Topic6\", \"Topic6\", \"Topic6\", \"Topic6\", \"Topic6\", \"Topic6\", \"Topic6\", \"Topic6\", \"Topic6\", \"Topic6\", \"Topic6\", \"Topic6\", \"Topic6\", \"Topic6\", \"Topic6\", \"Topic6\", \"Topic6\", \"Topic6\", \"Topic6\", \"Topic6\", \"Topic6\", \"Topic6\", \"Topic6\", \"Topic6\", \"Topic6\", \"Topic6\", \"Topic6\", \"Topic6\", \"Topic6\", \"Topic6\", \"Topic6\", \"Topic6\", \"Topic6\", \"Topic6\", \"Topic6\", \"Topic6\", \"Topic6\", \"Topic6\", \"Topic6\", \"Topic6\", \"Topic6\", \"Topic6\", \"Topic6\", \"Topic6\", \"Topic6\", \"Topic6\", \"Topic6\", \"Topic6\", \"Topic6\", \"Topic6\", \"Topic6\", \"Topic6\", \"Topic6\", \"Topic6\", \"Topic6\", \"Topic6\", \"Topic6\", \"Topic6\", \"Topic6\", \"Topic6\", \"Topic6\", \"Topic6\", \"Topic6\", \"Topic6\", \"Topic6\", \"Topic6\", \"Topic6\", \"Topic6\", \"Topic6\", \"Topic6\", \"Topic6\", \"Topic6\", \"Topic6\", \"Topic6\", \"Topic6\", \"Topic7\", \"Topic7\", \"Topic7\", \"Topic7\", \"Topic7\", \"Topic7\", \"Topic7\", \"Topic7\", \"Topic7\", \"Topic7\", \"Topic7\", \"Topic7\", \"Topic7\", \"Topic7\", \"Topic7\", \"Topic7\", \"Topic7\", \"Topic7\", \"Topic7\", \"Topic7\", \"Topic7\", \"Topic7\", \"Topic7\", \"Topic7\", \"Topic7\", \"Topic7\", \"Topic7\", \"Topic7\", \"Topic7\", \"Topic7\", \"Topic7\", \"Topic7\", \"Topic7\", \"Topic7\", \"Topic7\", \"Topic7\", \"Topic7\", \"Topic7\", \"Topic7\", \"Topic7\", \"Topic7\", \"Topic7\", \"Topic7\", \"Topic7\", \"Topic7\", \"Topic7\", \"Topic7\", \"Topic7\", \"Topic7\", \"Topic7\", \"Topic7\", \"Topic7\", \"Topic7\", \"Topic7\", \"Topic7\", \"Topic7\", \"Topic7\", \"Topic7\", \"Topic7\", \"Topic7\", \"Topic7\", \"Topic7\", \"Topic7\", \"Topic7\", \"Topic7\", \"Topic7\", \"Topic7\", \"Topic7\", \"Topic7\", \"Topic7\", \"Topic7\", \"Topic7\", \"Topic7\", \"Topic7\", \"Topic7\", \"Topic7\", \"Topic7\", \"Topic7\", \"Topic7\", \"Topic7\", \"Topic7\", \"Topic8\", \"Topic8\", \"Topic8\", \"Topic8\", \"Topic8\", \"Topic8\", \"Topic8\", \"Topic8\", \"Topic8\", \"Topic8\", \"Topic8\", \"Topic8\", \"Topic8\", \"Topic8\", \"Topic8\", \"Topic8\", \"Topic8\", \"Topic8\", \"Topic8\", \"Topic8\", \"Topic8\", \"Topic8\", \"Topic8\", \"Topic8\", \"Topic8\", \"Topic8\", \"Topic8\", \"Topic8\", \"Topic8\", \"Topic8\", \"Topic8\", \"Topic8\", \"Topic8\", \"Topic8\", \"Topic8\", \"Topic8\", \"Topic8\", \"Topic8\", \"Topic8\", \"Topic8\", \"Topic8\", \"Topic8\", \"Topic8\", \"Topic8\", \"Topic8\", \"Topic8\", \"Topic8\", \"Topic8\", \"Topic8\", \"Topic8\", \"Topic8\", \"Topic8\", \"Topic8\", \"Topic8\", \"Topic8\", \"Topic8\", \"Topic8\", \"Topic8\", \"Topic8\", \"Topic8\", \"Topic8\", \"Topic8\", \"Topic8\", \"Topic8\", \"Topic8\", \"Topic8\", \"Topic8\", \"Topic8\", \"Topic8\", \"Topic8\", \"Topic8\", \"Topic8\", \"Topic8\", \"Topic8\", \"Topic8\", \"Topic8\", \"Topic8\"], \"logprob\": [30.0, 29.0, 28.0, 27.0, 26.0, 25.0, 24.0, 23.0, 22.0, 21.0, 20.0, 19.0, 18.0, 17.0, 16.0, 15.0, 14.0, 13.0, 12.0, 11.0, 10.0, 9.0, 8.0, 7.0, 6.0, 5.0, 4.0, 3.0, 2.0, 1.0, -7.375899791717529, -7.0619001388549805, -7.580399990081787, -7.581099987030029, -7.712699890136719, -7.721499919891357, -7.191100120544434, -7.887599945068359, -7.907599925994873, -7.933800220489502, -8.07040023803711, -8.071000099182129, -7.099999904632568, -8.101799964904785, -8.10099983215332, -7.791500091552734, -6.6442999839782715, -8.09589958190918, -7.827700138092041, -8.144000053405762, -8.212400436401367, -8.068300247192383, -8.261300086975098, -8.26509952545166, -8.113499641418457, -8.227399826049805, -8.281200408935547, -7.504199981689453, -7.091599941253662, -7.672699928283691, -7.431600093841553, -7.084000110626221, -6.665500164031982, -7.720399856567383, -2.8608999252319336, -3.7474000453948975, -6.991099834442139, -5.856800079345703, -4.970600128173828, -6.297500133514404, -4.896599769592285, -5.534599781036377, -6.814300060272217, -4.583899974822998, -6.638899803161621, -5.7870001792907715, -6.780799865722656, -5.537199974060059, -6.5416998863220215, -5.50029993057251, -6.672599792480469, -6.978799819946289, -5.361100196838379, -5.150199890136719, -6.098599910736084, -4.247099876403809, -5.986299991607666, -4.907100200653076, -5.5117998123168945, -5.829800128936768, -4.683800220489502, -4.983399868011475, -6.147500038146973, -5.82289981842041, -5.48390007019043, -4.778299808502197, -5.73330020904541, -5.232399940490723, -5.851099967956543, -5.595699787139893, -5.609000205993652, -5.410699844360352, -5.559500217437744, -5.188899993896484, -5.4145002365112305, -5.502900123596191, -5.604800224304199, -5.614099979400635, -5.7515997886657715, -5.7555999755859375, -5.753499984741211, -6.888800144195557, -7.034900188446045, -7.552000045776367, -7.651500225067139, -7.698800086975098, -7.723700046539307, -7.4644999504089355, -7.776800155639648, -7.817699909210205, -7.85860013961792, -7.875899791717529, -7.880799770355225, -7.9116997718811035, -7.953000068664551, -7.952499866485596, -8.001999855041504, -7.826300144195557, -8.004599571228027, -7.789999961853027, -7.876200199127197, -7.68179988861084, -8.03969955444336, -8.046600341796875, -8.100299835205078, -8.10830020904541, -7.490200042724609, -8.109999656677246, -7.951900005340576, -7.594799995422363, -8.1451997756958, -7.933300018310547, -6.6641998291015625, -8.045100212097168, -6.973599910736084, -7.327899932861328, -7.425600051879883, -5.023399829864502, -7.485599994659424, -7.418600082397461, -7.83620023727417, -7.0391998291015625, -7.4704999923706055, -4.602399826049805, -4.8394999504089355, -6.177999973297119, -6.780900001525879, -7.251699924468994, -6.170000076293945, -4.985199928283691, -3.549499988555908, -6.816299915313721, -7.400000095367432, -5.901400089263916, -6.3206000328063965, -6.299799919128418, -5.509900093078613, -5.50029993057251, -4.848199844360352, -6.119900226593018, -6.356299877166748, -6.306600093841553, -4.266499996185303, -4.801300048828125, -4.461699962615967, -6.139500141143799, -5.3979997634887695, -4.705699920654297, -6.019000053405762, -5.612400054931641, -5.190100193023682, -5.023499965667725, -5.645699977874756, -5.236000061035156, -5.769199848175049, -5.3709001541137695, -5.229599952697754, -5.392499923706055, -5.680300235748291, -5.513299942016602, -5.770999908447266, -5.600599765777588, -5.6620001792907715, -5.738399982452393, -5.759399890899658, -5.647799968719482, -5.72599983215332, -7.384099960327148, -7.2418999671936035, -7.445099830627441, -7.6579999923706055, -7.80109977722168, -7.816999912261963, -7.596399784088135, -7.958399772644043, -7.97189998626709, -7.960100173950195, -7.962600231170654, -7.863699913024902, -7.742599964141846, -8.043800354003906, -8.071399688720703, -7.981500148773193, -8.104599952697754, -7.8246002197265625, -7.981900215148926, -8.044899940490723, -8.148900032043457, -8.13010025024414, -8.210200309753418, -8.171899795532227, -8.102100372314453, -7.892399787902832, -8.267900466918945, -8.228300094604492, -8.284600257873535, -7.8709001541137695, -8.146300315856934, -8.023099899291992, -7.539899826049805, -5.018899917602539, -7.9756999015808105, -7.3018999099731445, -7.573400020599365, -7.616700172424316, -7.800300121307373, -4.305200099945068, -6.551499843597412, -6.696499824523926, -4.813899993896484, -5.235799789428711, -5.3109002113342285, -4.683599948883057, -4.6828999519348145, -6.369699954986572, -6.884300231933594, -6.719699859619141, -7.120800018310547, -6.4857001304626465, -4.168900012969971, -7.195199966430664, -6.399099826812744, -6.853899955749512, -5.31879997253418, -4.74370002746582, -5.389800071716309, -6.120100021362305, -6.305500030517578, -4.882299900054932, -4.501800060272217, -6.005899906158447, -5.810800075531006, -6.126500129699707, -5.385200023651123, -5.11269998550415, -5.566100120544434, -5.547299861907959, -5.177299976348877, -4.939799785614014, -5.56279993057251, -5.449900150299072, -5.7154998779296875, -5.386499881744385, -5.754899978637695, -5.255799770355225, -4.912499904632568, -5.6041998863220215, -5.550000190734863, -5.665200233459473, -5.562300205230713, -5.664700031280518, -5.4116997718811035, -5.6269001960754395, -5.664599895477295, -6.852499961853027, -6.968400001525879, -7.405600070953369, -7.490699768066406, -7.4980998039245605, -7.46120023727417, -6.414700031280518, -7.02209997177124, -7.638199806213379, -7.436399936676025, -7.128499984741211, -7.717899799346924, -7.338799953460693, -7.481100082397461, -7.7052001953125, -7.697999954223633, -7.917099952697754, -7.648600101470947, -7.768099784851074, -7.880899906158447, -7.944499969482422, -7.581399917602539, -7.97760009765625, -7.988900184631348, -7.546199798583984, -7.5183000564575195, -8.043000221252441, -7.412300109863281, -8.051300048828125, -7.773799896240234, -7.69320011138916, -7.3333001136779785, -7.396699905395508, -5.532899856567383, -6.925000190734863, -5.914599895477295, -6.984000205993652, -7.270100116729736, -6.159599781036377, -7.244900226593018, -6.003799915313721, -7.037199974060059, -5.8028998374938965, -7.142399787902832, -6.961400032043457, -6.848299980163574, -6.959700107574463, -6.276700019836426, -4.687600135803223, -5.447700023651123, -6.11329984664917, -6.5243000984191895, -6.217700004577637, -6.856200218200684, -4.906899929046631, -6.638000011444092, -5.27400016784668, -6.832900047302246, -4.92110013961792, -6.0366997718811035, -6.226399898529053, -6.135700225830078, -5.701600074768066, -6.450699806213379, -6.006100177764893, -4.773099899291992, -5.325399875640869, -4.2677001953125, -4.2230000495910645, -5.222300052642822, -5.538899898529053, -5.369100093841553, -4.658199787139893, -5.401899814605713, -4.858500003814697, -5.126699924468994, -5.594699859619141, -5.579100131988525, -5.540200233459473, -5.7677998542785645, -5.097700119018555, -5.434899806976318, -5.7170000076293945, -5.467100143432617, -5.474299907684326, -5.676400184631348, -5.839000225067139, -6.874599933624268, -6.892099857330322, -6.750400066375732, -7.1717000007629395, -7.339600086212158, -7.265900135040283, -7.570799827575684, -7.597400188446045, -7.4644999504089355, -7.558700084686279, -7.536499977111816, -7.6803998947143555, -7.683300018310547, -7.672900199890137, -7.523200035095215, -7.7378997802734375, -7.751200199127197, -7.8140997886657715, -7.339399814605713, -7.738699913024902, -7.840099811553955, -7.858399868011475, -7.85099983215332, -7.549600124359131, -7.951399803161621, -7.988399982452393, -7.72790002822876, -7.722499847412109, -7.643700122833252, -8.048999786376953, -4.130300045013428, -6.751800060272217, -6.9654998779296875, -7.541299819946289, -6.5005998611450195, -5.778500080108643, -7.422800064086914, -7.492800235748291, -7.673699855804443, -7.568600177764893, -4.640200138092041, -6.959400177001953, -6.9207000732421875, -7.15369987487793, -6.6855998039245605, -4.293499946594238, -5.6528000831604, -5.340199947357178, -5.501800060272217, -5.487100124359131, -4.591400146484375, -5.8225998878479, -6.783899784088135, -4.476200103759766, -5.3256001472473145, -5.439300060272217, -6.35129976272583, -5.817800045013428, -5.6356000900268555, -5.827499866485596, -5.130899906158447, -4.582200050354004, -5.803100109100342, -5.362199783325195, -4.896900177001953, -5.860899925231934, -4.545599937438965, -5.150100231170654, -5.232800006866455, -5.484499931335449, -5.191800117492676, -5.223899841308594, -5.126500129699707, -4.983699798583984, -5.298399925231934, -4.865300178527832, -5.593599796295166, -5.468200206756592, -5.4532999992370605, -5.695000171661377, -6.567500114440918, -6.597099781036377, -6.607699871063232, -6.731100082397461, -6.8744001388549805, -6.906599998474121, -6.3572998046875, -7.019599914550781, -6.993899822235107, -7.186600208282471, -7.255199909210205, -7.211100101470947, -7.363999843597412, -7.468200206756592, -7.492800235748291, -7.498499870300293, -7.50600004196167, -7.3993000984191895, -7.523099899291992, -7.401199817657471, -7.439899921417236, -7.556300163269043, -7.579599857330322, -6.561999797821045, -7.565899848937988, -7.648099899291992, -7.644999980926514, -6.519700050354004, -7.704500198364258, -7.4054999351501465, -6.987599849700928, -7.2104997634887695, -7.0304999351501465, -7.267000198364258, -6.581900119781494, -7.154699802398682, -6.145100116729736, -6.387499809265137, -7.004799842834473, -6.997399806976318, -7.074699878692627, -6.74560022354126, -6.3242998123168945, -5.63730001449585, -6.287199974060059, -6.73859977722168, -7.000699996948242, -4.242400169372559, -6.8225998878479, -6.867599964141846, -6.696599960327148, -4.354300022125244, -6.494500160217285, -4.700399875640869, -5.2027997970581055, -5.316199779510498, -5.248700141906738, -5.909999847412109, -5.521100044250488, -6.171800136566162, -5.587699890136719, -4.999199867248535, -5.457300186157227, -5.732399940490723, -5.331200122833252, -6.08459997177124, -5.521999835968018, -5.445700168609619, -5.8221001625061035, -5.661499977111816, -5.85860013961792, -5.834000110626221, -5.951499938964844, -5.8846001625061035, -6.018099784851074, -5.936299800872803, -5.8933000564575195, -5.985300064086914, -5.905600070953369, -6.008900165557861, -5.995299816131592, -6.029099941253662, -6.013400077819824, -6.550099849700928, -6.6809000968933105, -6.6975998878479, -6.756899833679199, -6.408400058746338, -6.617800235748291, -6.7291998863220215, -6.694900035858154, -6.925300121307373, -7.061299800872803, -7.113699913024902, -6.6880998611450195, -6.638700008392334, -7.331399917602539, -7.333799839019775, -6.8520002365112305, -7.218800067901611, -7.344900131225586, -7.351799964904785, -7.098299980163574, -7.435400009155273, -7.464700222015381, -7.467299938201904, -7.476799964904785, -6.838399887084961, -7.462399959564209, -7.35230016708374, -7.450799942016602, -7.613699913024902, -7.614999771118164, -6.592599868774414, -6.890900135040283, -7.05079984664917, -6.387800216674805, -7.077400207519531, -6.037399768829346, -6.871399879455566, -6.724999904632568, -6.856500148773193, -6.520500183105469, -6.51669979095459, -6.658299922943115, -6.407299995422363, -6.749300003051758, -6.630799770355225, -6.264999866485596, -5.809999942779541, -6.4868998527526855, -5.280399799346924, -5.809500217437744, -6.59060001373291, -4.370200157165527, -4.218800067901611, -4.807300090789795, -5.923399925231934, -5.149199962615967, -5.193699836730957, -5.570499897003174, -5.133600234985352, -4.866300106048584, -4.8694000244140625, -5.392600059509277, -5.122200012207031, -5.533199787139893, -5.955399990081787, -5.472099781036377, -5.51800012588501, -5.372399806976318, -5.621600151062012, -5.603799819946289, -5.820000171661377, -5.870500087738037, -5.51609992980957, -5.885700225830078, -5.576600074768066, -5.716899871826172, -5.7129998207092285, -5.801700115203857, -5.855299949645996, -5.858099937438965, -5.843699932098389, -6.554999828338623, -6.492099761962891, -6.065299987792969, -6.388299942016602, -6.768799781799316, -6.741799831390381, -7.045100212097168, -7.041500091552734, -7.149700164794922, -6.872200012207031, -7.136899948120117, -7.143499851226807, -7.19890022277832, -7.098100185394287, -5.631100177764893, -6.121200084686279, -7.11959981918335, -7.039000034332275, -7.117800235748291, -7.333600044250488, -6.585599899291992, -7.2144999504089355, -7.2266998291015625, -7.105899810791016, -6.906199932098389, -7.403200149536133, -7.360400199890137, -7.390399932861328, -7.433300018310547, -7.4542999267578125, -6.53380012512207, -6.531700134277344, -6.638800144195557, -6.402400016784668, -7.026100158691406, -6.999000072479248, -4.762499809265137, -6.218999862670898, -6.888500213623047, -5.627999782562256, -6.617099761962891, -5.774400234222412, -5.964000225067139, -4.240499973297119, -5.245999813079834, -6.087600231170654, -6.356100082397461, -6.801499843597412, -5.569200038909912, -5.585000038146973, -6.34060001373291, -5.042699813842773, -6.4583001136779785, -5.382999897003174, -4.861999988555908, -5.401100158691406, -6.020500183105469, -5.001299858093262, -4.461299896240234, -5.648200035095215, -4.748700141906738, -5.143199920654297, -4.444399833679199, -4.900899887084961, -5.33519983291626, -4.805500030517578, -5.280900001525879, -5.110300064086914, -5.806300163269043, -5.467700004577637, -5.422299861907959, -5.571899890899658, -5.6082000732421875, -5.341000080108643, -5.54640007019043, -5.531899929046631, -5.6697998046875], \"loglift\": [30.0, 29.0, 28.0, 27.0, 26.0, 25.0, 24.0, 23.0, 22.0, 21.0, 20.0, 19.0, 18.0, 17.0, 16.0, 15.0, 14.0, 13.0, 12.0, 11.0, 10.0, 9.0, 8.0, 7.0, 6.0, 5.0, 4.0, 3.0, 2.0, 1.0, 1.6375, 1.6354, 1.6334, 1.6324, 1.6296, 1.6292, 1.6291, 1.6253, 1.6247, 1.6238, 1.6192, 1.6186, 1.6181, 1.6179, 1.6178, 1.6178, 1.6169, 1.6165, 1.6156, 1.6142, 1.6134, 1.6129, 1.6113, 1.6111, 1.6109, 1.6104, 1.61, 1.6096, 1.6086, 1.6085, 1.6074, 1.5894, 1.5661, 1.5945, 1.2778, 1.2469, 1.5039, 1.3604, 1.2401, 1.3846, 1.1891, 1.2472, 1.4383, 1.1042, 1.412, 1.2197, 1.3756, 1.0799, 1.3043, 0.9831, 1.3168, 1.3873, 0.8211, 0.6389, 0.9259, -0.0149, 0.8552, 0.2066, 0.5245, 0.7128, -0.1107, 0.062, 0.915, 0.6634, 0.3889, -0.1775, 0.5481, 0.1192, 0.6468, 0.3415, 0.3088, 0.0441, 0.2129, -0.3416, -0.2314, -0.1307, 0.0045, -0.3105, 0.1325, 0.1617, -0.1159, 1.7032, 1.6945, 1.6898, 1.6893, 1.6881, 1.6874, 1.6861, 1.6858, 1.6842, 1.6831, 1.6827, 1.6824, 1.6814, 1.6801, 1.6784, 1.6783, 1.6783, 1.6782, 1.6782, 1.6776, 1.6771, 1.6769, 1.6764, 1.6745, 1.674, 1.674, 1.674, 1.6729, 1.6728, 1.6724, 1.6712, 1.6403, 1.6719, 1.6263, 1.634, 1.6341, 1.4484, 1.6315, 1.615, 1.6601, 1.5673, 1.6145, 1.1868, 1.2053, 1.3352, 1.4581, 1.5525, 1.3148, 1.046, 0.6827, 1.4375, 1.5818, 1.196, 1.2804, 1.2664, 1.0083, 0.9467, 0.6742, 1.1342, 1.1928, 1.1721, 0.3066, 0.3818, 0.1391, 0.993, 0.5508, 0.1415, 0.8568, 0.5667, 0.2291, 0.0902, 0.5725, 0.0676, 0.4538, 0.0012, -0.1842, -0.0408, 0.2394, -0.0585, 0.3487, 0.0371, 0.1437, 0.275, 0.1964, -0.1272, -0.035, 1.7067, 1.7058, 1.7051, 1.7002, 1.6962, 1.6946, 1.694, 1.6904, 1.6903, 1.6899, 1.6895, 1.6893, 1.6887, 1.6878, 1.6867, 1.6865, 1.6852, 1.6847, 1.6846, 1.6835, 1.6823, 1.6817, 1.6808, 1.68, 1.6794, 1.6792, 1.6781, 1.6781, 1.6771, 1.6769, 1.6769, 1.675, 1.6614, 1.4499, 1.6648, 1.6023, 1.6245, 1.626, 1.6377, 1.114, 1.4494, 1.466, 1.1349, 1.1683, 1.1101, 0.8388, 0.8377, 1.2514, 1.3849, 1.3313, 1.4449, 1.2232, 0.4319, 1.4377, 1.1349, 1.2788, 0.601, 0.3017, 0.5956, 0.9298, 1.0073, 0.3008, 0.0713, 0.8446, 0.6749, 0.8602, 0.4039, 0.1909, 0.4875, 0.4662, 0.1949, -0.0926, 0.3744, 0.2381, 0.4736, 0.0684, 0.4216, -0.1421, -0.6803, 0.1682, 0.0876, 0.2526, 0.047, 0.0263, -1.2729, -0.2753, -0.6703, 1.8955, 1.8915, 1.8831, 1.8827, 1.8823, 1.8818, 1.8798, 1.879, 1.8784, 1.8766, 1.8763, 1.8758, 1.8752, 1.8739, 1.8736, 1.8724, 1.8684, 1.8681, 1.8676, 1.8668, 1.8661, 1.8658, 1.8658, 1.8653, 1.8652, 1.8635, 1.8629, 1.8627, 1.8626, 1.8619, 1.86, 1.8535, 1.8485, 1.7767, 1.8254, 1.7636, 1.8158, 1.8332, 1.7495, 1.8207, 1.6559, 1.7782, 1.5492, 1.7803, 1.7471, 1.7248, 1.7402, 1.5569, 1.1181, 1.3256, 1.4591, 1.5871, 1.4881, 1.6889, 0.9612, 1.5935, 0.9829, 1.6462, 0.7699, 1.2684, 1.352, 1.2793, 1.0259, 1.4371, 1.1416, 0.3406, 0.7059, -0.0355, -0.0842, 0.5291, 0.7329, 0.5867, -0.0574, 0.5154, -0.0112, 0.225, 0.6236, 0.4892, 0.3326, 0.692, -0.5246, 0.0199, 0.5508, -0.4217, -0.48, -0.3042, 0.0452, 2.2302, 2.2299, 2.2232, 2.2183, 2.2182, 2.2147, 2.2097, 2.2081, 2.2073, 2.2067, 2.2054, 2.2049, 2.2048, 2.2046, 2.2022, 2.202, 2.2016, 2.1983, 2.1965, 2.1961, 2.1959, 2.1956, 2.1943, 2.1915, 2.1897, 2.1888, 2.1875, 2.1861, 2.1861, 2.1847, 2.1658, 2.1722, 2.171, 2.1751, 2.0874, 2.0033, 2.1583, 2.163, 2.1803, 2.1647, 1.7056, 2.0709, 2.017, 2.0707, 1.9232, 1.2271, 1.588, 1.4809, 1.1663, 1.1379, 0.5917, 1.2236, 1.7596, 0.3711, 0.8509, 0.8742, 1.4463, 1.0417, 0.907, 1.036, 0.4784, -0.0091, 0.987, 0.6062, 0.1484, 1.0052, -0.3134, 0.2221, 0.2221, 0.501, 0.1118, 0.1277, -0.0128, -0.3829, 0.1207, -0.7265, 0.5863, 0.0543, -0.4589, 0.0942, 2.5006, 2.4999, 2.4997, 2.4966, 2.492, 2.4902, 2.4895, 2.4875, 2.4861, 2.4833, 2.4806, 2.4752, 2.4736, 2.4713, 2.4702, 2.4694, 2.4694, 2.4692, 2.4686, 2.4675, 2.4672, 2.4669, 2.4657, 2.4654, 2.4631, 2.4601, 2.4592, 2.4569, 2.4561, 2.4557, 2.4539, 2.4534, 2.4494, 2.4528, 2.4248, 2.448, 2.3779, 2.371, 2.4237, 2.4096, 2.3924, 2.3198, 2.219, 1.9399, 2.1087, 2.237, 2.2954, 0.3307, 2.1678, 2.1898, 2.0347, -0.2156, 1.7769, -0.0996, 0.4065, 0.4729, 0.3889, 1.1355, 0.3966, 1.2756, 0.3098, -0.767, -0.0381, 0.336, -0.484, 0.94, -0.2184, -0.4514, 0.2636, -0.2066, 0.0587, -0.0615, 0.31, -0.1966, 0.2866, -0.1306, -0.5416, -0.0294, -0.8603, -0.2197, -0.8122, -0.161, -0.6412, 2.6852, 2.6821, 2.6813, 2.6799, 2.6794, 2.6791, 2.6789, 2.6772, 2.6746, 2.6685, 2.667, 2.6621, 2.6592, 2.6576, 2.6572, 2.6569, 2.6569, 2.6567, 2.6564, 2.6557, 2.6521, 2.6504, 2.6476, 2.6468, 2.6437, 2.6431, 2.6431, 2.6425, 2.6412, 2.6412, 2.6406, 2.6403, 2.6356, 2.6064, 2.6279, 2.5346, 2.59, 2.5684, 2.584, 2.5325, 2.524, 2.5315, 2.4649, 2.5139, 2.4714, 2.3393, 2.0653, 2.3749, 1.7877, 1.916, 2.3986, 0.4771, 0.0134, 0.4963, 1.5497, 0.4601, 0.4439, 0.9165, 0.218, -0.2655, -0.2963, 0.4755, -0.0769, 0.5469, 1.2867, 0.2189, 0.2876, -0.2587, 0.3468, 0.2937, 0.8008, 0.857, -0.1439, 0.7698, -0.3934, 0.0345, -0.2582, 0.0711, 0.4062, 0.3988, -0.3213, 2.929, 2.9279, 2.9263, 2.925, 2.9213, 2.9166, 2.9164, 2.9159, 2.911, 2.911, 2.9105, 2.9065, 2.9064, 2.9061, 2.9056, 2.9053, 2.9025, 2.9018, 2.9005, 2.9001, 2.8996, 2.8992, 2.8986, 2.8961, 2.896, 2.8956, 2.8945, 2.8923, 2.8901, 2.8898, 2.8754, 2.8739, 2.8739, 2.8603, 2.8825, 2.881, 2.7059, 2.8018, 2.8566, 2.6193, 2.8054, 2.6251, 2.6545, 2.2465, 2.4533, 2.6378, 2.6536, 2.8014, 2.2057, 2.1257, 2.5298, 1.7273, 2.5793, 1.8152, 1.4194, 1.7866, 2.2559, 1.2602, 0.5841, 1.7926, 0.6235, 0.9016, -0.2122, 0.4027, 0.808, -0.2324, 0.4915, -0.263, 1.3608, 0.4165, 0.187, 0.4965, 0.5809, -0.7402, 0.0912, -0.1803, -0.215]}, \"token.table\": {\"Topic\": [1, 2, 3, 4, 5, 6, 7, 1, 2, 3, 5, 6, 7, 8, 1, 2, 7, 1, 4, 5, 1, 2, 3, 4, 5, 6, 7, 8, 1, 2, 3, 4, 5, 6, 7, 8, 1, 1, 1, 2, 3, 4, 5, 6, 7, 8, 6, 1, 2, 3, 4, 5, 6, 7, 8, 1, 2, 3, 4, 5, 6, 7, 8, 1, 2, 3, 4, 5, 6, 7, 8, 3, 1, 4, 8, 1, 2, 3, 4, 5, 6, 7, 8, 2, 5, 6, 7, 2, 1, 2, 3, 4, 5, 6, 7, 8, 5, 1, 3, 2, 1, 2, 3, 4, 5, 6, 7, 8, 5, 1, 2, 3, 4, 5, 6, 7, 8, 1, 2, 3, 4, 5, 6, 7, 8, 8, 2, 3, 4, 5, 6, 7, 8, 1, 2, 3, 4, 6, 7, 8, 4, 1, 1, 1, 2, 3, 4, 5, 6, 7, 8, 1, 2, 3, 4, 5, 6, 7, 8, 1, 2, 3, 4, 6, 7, 8, 2, 3, 4, 6, 7, 1, 2, 3, 4, 5, 6, 7, 8, 1, 2, 3, 8, 2, 8, 6, 5, 1, 2, 7, 7, 3, 7, 1, 2, 3, 4, 5, 6, 7, 8, 1, 2, 3, 4, 5, 6, 7, 8, 3, 6, 7, 1, 2, 3, 4, 5, 6, 7, 8, 1, 2, 3, 4, 5, 6, 7, 8, 7, 3, 8, 2, 3, 5, 7, 8, 1, 2, 3, 4, 5, 6, 7, 8, 1, 3, 4, 5, 6, 7, 3, 4, 6, 7, 7, 2, 4, 1, 5, 2, 1, 3, 4, 5, 6, 7, 8, 1, 2, 3, 5, 7, 8, 1, 2, 3, 4, 5, 6, 7, 8, 5, 7, 8, 1, 2, 3, 4, 5, 6, 8, 1, 2, 3, 4, 5, 6, 7, 8, 3, 1, 3, 6, 1, 6, 2, 4, 6, 7, 8, 8, 1, 2, 3, 4, 5, 6, 7, 8, 1, 2, 3, 4, 5, 6, 7, 8, 7, 5, 4, 8, 1, 3, 5, 8, 6, 2, 3, 4, 5, 6, 7, 8, 7, 8, 6, 8, 2, 4, 7, 7, 3, 3, 6, 8, 3, 8, 3, 7, 3, 5, 7, 1, 4, 6, 7, 3, 6, 1, 2, 3, 4, 5, 6, 7, 8, 1, 2, 5, 6, 7, 1, 2, 4, 5, 6, 8, 7, 2, 4, 1, 2, 3, 4, 3, 1, 2, 3, 4, 5, 6, 7, 5, 2, 3, 3, 3, 1, 3, 2, 3, 4, 6, 8, 4, 6, 7, 8, 5, 7, 8, 1, 2, 6, 4, 6, 7, 5, 8, 1, 2, 3, 4, 5, 6, 7, 8, 3, 1, 2, 3, 4, 5, 6, 8, 3, 3, 1, 2, 3, 4, 5, 6, 7, 8, 2, 4, 1, 2, 3, 4, 5, 6, 7, 8, 2, 7, 1, 2, 3, 4, 5, 6, 7, 8, 8, 1, 2, 3, 4, 5, 6, 7, 8, 1, 2, 3, 4, 5, 6, 7, 1, 2, 3, 4, 5, 8, 8, 1, 2, 3, 4, 5, 6, 7, 8, 1, 2, 3, 4, 5, 6, 7, 8, 1, 2, 3, 4, 5, 6, 7, 8, 3, 6, 1, 2, 3, 4, 5, 6, 7, 8, 2, 4, 1, 2, 3, 4, 5, 6, 7, 8, 1, 2, 3, 4, 5, 6, 7, 8, 1, 2, 3, 4, 5, 6, 7, 8, 1, 2, 3, 4, 5, 6, 7, 8, 7, 1, 2, 3, 4, 5, 6, 7, 8, 1, 2, 4, 1, 2, 3, 4, 5, 6, 7, 8, 3, 4, 7, 1, 2, 3, 4, 5, 6, 7, 8, 4, 1, 3, 5, 5, 1, 2, 3, 4, 5, 6, 7, 8, 1, 7, 8, 1, 1, 2, 3, 4, 5, 6, 7, 8, 1, 7, 4, 1, 2, 3, 4, 5, 6, 7, 8, 1, 2, 3, 4, 5, 6, 7, 8, 2, 4, 3, 5, 7, 8, 1, 2, 3, 4, 5, 6, 7, 8, 1, 2, 3, 4, 5, 6, 7, 8, 7, 1, 2, 3, 4, 5, 6, 7, 8, 1, 2, 3, 4, 5, 6, 7, 8, 1, 2, 3, 4, 5, 6, 7, 8, 1, 2, 3, 4, 5, 6, 7, 8, 4, 6, 6, 1, 2, 3, 5, 6, 7, 1, 2, 3, 4, 5, 6, 7, 8, 1, 2, 1, 2, 3, 4, 5, 6, 8, 1, 2, 3, 4, 5, 6, 7, 2, 1, 2, 3, 4, 5, 6, 7, 1, 1, 2, 3, 4, 5, 6, 7, 8, 1, 2, 3, 4, 5, 6, 7, 8, 6, 1, 2, 3, 4, 5, 6, 7, 8, 4, 8, 7, 5, 1, 2, 3, 4, 5, 6, 7, 8, 3, 1, 4, 6, 1, 3, 5, 1, 2, 3, 4, 5, 6, 8, 4, 2, 8, 1, 2, 3, 4, 5, 6, 7, 8, 1, 3, 1, 2, 3, 4, 5, 6, 7, 8, 1, 2, 4, 7, 5, 8, 1, 2, 3, 6, 7, 8, 4, 2, 4, 6, 2, 7, 2, 7, 3, 6, 8, 4, 2, 5, 1, 2, 3, 4, 5, 6, 7, 8, 2, 3, 5, 7, 4, 2, 1, 2, 3, 4, 5, 6, 7, 8, 1, 3, 4, 8, 3, 8, 3, 1, 2, 4, 5, 7, 8, 5, 7, 1, 2, 3, 4, 5, 6, 6, 1, 2, 3, 4, 5, 6, 8, 5, 1, 2, 3, 4, 6, 7, 6, 4, 6, 5, 1, 2, 3, 4, 5, 6, 7, 8, 1, 2, 3, 4, 5, 6, 7, 8, 1, 6, 1, 2, 3, 4, 5, 6, 7, 8, 2, 4, 6, 7, 2, 5, 7, 1, 2, 3, 4, 5, 6, 7, 8, 1, 3, 4, 5, 6, 1, 2, 3, 4, 5, 6, 7, 8, 1, 2, 3, 4, 5, 6, 7, 8, 7, 7, 3, 1, 1, 2, 3, 4, 5, 6, 7, 8, 1, 2, 3, 4, 5, 6, 7, 8, 8, 1, 2, 3, 4, 5, 6, 7, 8, 2, 2, 7, 5, 7, 3, 5, 5, 3, 5, 8, 1, 3, 4, 5, 7, 1, 2, 3, 4, 5, 6, 7, 8, 2, 4, 7, 8, 4, 1, 2, 3, 4, 5, 6, 7, 8, 1, 2, 3, 4, 5, 6, 7, 8, 6, 1, 2, 3, 6, 7, 1, 2, 3, 4, 5, 6, 7, 8, 5, 4, 6, 1, 2, 3, 4, 2, 7, 1, 2, 3, 4, 5, 6, 7, 8, 4, 1, 2, 3, 4, 5, 6, 7, 8, 1, 2, 3, 4, 5, 6, 7, 8, 1, 2, 3, 4, 5, 6, 7, 8, 1, 4, 5, 1, 4, 8, 1, 2, 3, 4, 5, 6, 7, 8, 1, 2, 3, 4, 5, 6, 7, 8, 1, 2, 3, 4, 5, 6, 7, 8, 2, 1, 2, 3, 4, 6, 3, 5, 7, 5, 4, 1, 3, 4, 5, 6, 7, 8, 2, 4, 2, 4, 8, 1, 4, 5, 8, 1, 2, 3, 4, 5, 6, 7, 8, 2, 2, 3, 4, 5, 2, 4, 7, 8, 2, 6, 8, 6, 1, 8, 4, 5, 6, 7, 6, 3, 7, 1, 2, 3, 4, 5, 6, 7, 8, 1, 2, 3, 4, 5, 6, 7, 8, 1, 2, 3, 4, 5, 6, 7, 8, 1, 2, 3, 4, 5, 6, 7, 8, 2, 1, 4, 2, 2, 5, 8, 1, 2, 5, 8, 4, 1, 4, 1, 2, 3, 4, 5, 6, 7, 8, 6, 7, 1, 2, 3, 4, 5, 6, 7, 8, 6, 3, 1, 1, 2, 3, 4, 5, 6, 7, 8, 4, 8, 1, 2, 3, 4, 6, 7, 1, 2, 3, 4, 5, 6, 7, 8, 1, 2, 3, 4, 5, 6, 7, 8, 1, 2, 3, 4, 5, 6, 7, 8, 1, 2, 3, 4, 5, 6, 7, 8, 1, 4, 8, 1, 2, 3, 4, 5, 6, 7, 8, 8, 6, 7, 4, 7, 3, 3, 5, 1, 1, 5, 4, 7, 1, 3, 4, 5, 6, 8, 3, 5, 6, 2, 3, 2, 6, 2, 1, 2, 3, 4, 5, 6, 7, 6, 7, 1, 2, 3, 4, 5, 6, 7, 7, 2, 1, 5, 4, 8, 1, 2, 3, 4, 5, 7, 8, 3, 5, 6, 8, 2, 1, 2, 3, 4, 5, 6, 7, 8, 6, 6, 1, 2, 3, 4, 5, 6, 7, 8, 2, 5, 1, 2, 3, 4, 5, 6, 7, 8, 1, 1, 2, 3, 4, 5, 6, 7, 8, 1, 2, 3, 4, 5, 6, 7, 8, 4, 3, 7, 4, 1, 2, 3, 4, 5, 6, 7, 8, 1, 2, 4, 6, 2, 7, 2, 4, 6, 7, 8, 8, 5, 1, 2, 3, 4, 5, 6, 7, 8, 5, 6, 1, 2, 3, 4, 5, 6, 7, 6, 7, 1, 2, 3, 4, 5, 6, 7, 8, 2, 3, 4, 1, 2, 3, 4, 5, 6, 7, 8, 1, 3, 6, 7, 1, 2, 7, 6, 1, 2, 3, 4, 5, 6, 7, 8, 1, 2, 3, 4, 5, 6, 7, 8, 1, 2, 3, 4, 5, 6, 7, 8, 1, 2, 3, 4, 5, 6, 7, 8, 1, 2, 3, 7, 8, 4, 6, 1, 6, 5, 1, 2, 3, 4, 2, 1, 6, 3, 3, 1, 6, 3, 2, 3, 5, 8, 1, 2, 3, 4, 5, 6, 7, 8, 6, 1, 2, 3, 4, 5, 6, 7, 8, 1, 2, 3, 4, 5, 6, 7, 8, 8, 4, 4, 2, 6, 1, 2, 3, 4, 6, 7, 3, 4, 5, 7, 8, 1, 2, 3, 4, 5, 6, 7, 7, 1, 8, 1, 2, 3, 4, 5, 6, 7, 8, 8, 1, 5, 1, 2, 3, 4, 5, 6, 7, 8, 1, 2, 3, 4, 6, 7, 8, 1, 4, 1, 2, 3, 4, 5, 6, 7, 8, 5, 7, 1, 2, 3, 4, 5, 6, 7, 8, 2, 3, 5, 6, 7, 8, 3, 7, 2, 3, 5, 6, 2, 1, 2, 3, 4, 5, 6, 7, 8, 4, 6, 8, 1, 2, 3, 4, 5, 6, 7, 8, 1, 2, 3, 4, 5, 6, 7, 8, 3, 1, 5, 6, 1, 2, 3, 4, 5, 6, 7, 8, 1, 2, 3, 4, 5, 6, 7, 8, 1, 2, 3, 4, 5, 6, 7, 8, 1, 2, 4, 7, 8, 1, 2, 3, 4, 5, 6, 7, 8, 1, 2, 3, 4, 5, 6, 7, 8, 6, 5, 5, 2, 2, 3, 4, 6, 8, 6, 1, 2, 3, 4, 5, 6, 7, 8, 2, 1, 2, 3, 4, 5, 6, 7, 8, 1, 2, 3, 4, 5, 6, 7, 8, 1, 2, 3, 4, 5, 6, 7, 8, 1, 2, 3, 4, 5, 6, 7, 8, 1, 4, 5, 6, 1, 3, 4, 5, 7, 8, 1, 4, 5, 6, 7, 8, 1, 1, 2, 3, 4, 5, 6, 7, 8, 2, 3, 4, 5, 7, 2, 2, 2, 4, 1, 3, 4, 6, 5, 4, 1, 1, 2, 3, 4, 5, 6, 7, 8, 1, 2, 3, 4, 5, 6, 7, 8, 1, 2, 3, 4, 5, 6, 7, 8, 1, 2, 3, 4, 5, 6, 7, 8, 1, 2, 3, 4, 5, 6, 7, 8, 1, 2, 3, 4, 5, 6, 7, 8, 1, 2, 3, 4, 5, 6, 7, 8, 1, 2, 3, 4, 5, 6, 7, 8, 8, 1, 2, 3, 4, 5, 6, 7, 8, 1, 6, 1, 2, 3, 4, 5, 6, 7, 8, 3, 6, 3], \"Freq\": [0.05113277483924659, 0.12783193709811647, 0.6732482020500801, 0.008522129139874431, 0.11930980795824205, 0.008522129139874431, 0.017044258279748863, 0.019055558552798436, 0.09527779276399218, 0.7717501213883365, 0.028583337829197652, 0.019055558552798436, 0.057166675658395304, 0.009527779276399218, 0.8635675327154833, 0.0929995804462828, 0.03985696304840692, 0.04080673067950608, 0.02040336533975304, 0.9181514402888868, 0.012917372822115096, 0.35284823656198605, 0.41131634512524384, 0.007478479002277161, 0.11081746157919793, 0.03943198019382503, 0.04827018265106167, 0.01699654318699355, 0.004837925322106161, 0.6676336944506502, 0.19351701288424644, 0.004837925322106161, 0.07256887983159242, 0.03386547725474313, 0.014513775966318483, 0.004837925322106161, 0.953994153370981, 0.9612492078017172, 0.1102388910067152, 0.17380730260912763, 0.18265860042718504, 0.3194513848880725, 0.05149846003233411, 0.04184249877627146, 0.08288033411453771, 0.03701451814824014, 0.9504282645505768, 0.134673662250137, 0.2116300406787867, 0.10260850457153295, 0.08978244150009133, 0.3377529942146293, 0.05344192946434008, 0.04061586639289846, 0.032065157678604045, 0.03632344552845338, 0.23610239593494697, 0.054485168292680075, 0.20341129495933893, 0.02179406731707203, 0.11260268113820548, 0.01816172276422669, 0.31601397609754445, 0.22835680848851792, 0.0885465175771804, 0.22369646545813998, 0.12582926182020374, 0.02330171515188958, 0.28894126788343083, 0.013981029091133749, 0.009320686060755833, 0.9721196409058208, 0.03302711866620937, 0.03302711866620937, 0.9247593226538622, 0.36428387983567445, 0.09197266273078909, 0.16951824111165048, 0.09918620490575294, 0.11180990371193968, 0.07213542174963851, 0.06492187957467466, 0.025247397612373476, 0.06541367350979885, 0.19624102052939654, 0.6977458507711877, 0.021804557836599615, 0.9819026122686177, 0.6634648140736676, 0.007185539502602899, 0.1556866892230628, 0.06706503535762705, 0.021556618507808697, 0.07185539502602899, 0.009580719336803866, 0.004790359668401933, 0.9579691594291008, 0.041771695260434345, 0.9189772957295556, 0.9479597179589013, 0.25209304234919344, 0.18302645540420895, 0.04489328151423993, 0.4627461325313962, 0.03107996412524303, 0.017266646736246127, 0.0034533293472492252, 0.0034533293472492252, 0.9405760093352412, 0.1153659747029658, 0.317256430433156, 0.17042700808392675, 0.1376525834524024, 0.09176838896826825, 0.07341471117461461, 0.0471951714693951, 0.0471951714693951, 0.010525345677029249, 0.4236451635004273, 0.2789216604412751, 0.018419354934801187, 0.1473548394784095, 0.09209677467400593, 0.018419354934801187, 0.010525345677029249, 0.9071926778464492, 0.7714096991022191, 0.030856387964088766, 0.010285462654696254, 0.04114185061878502, 0.07199823858287378, 0.07199823858287378, 0.010285462654696254, 0.04609883491512854, 0.06914825237269281, 0.005762354364391068, 0.7779178391927942, 0.011524708728782135, 0.08643531546586602, 0.005762354364391068, 0.9923491220536199, 0.9397430623266932, 0.9425828511803239, 0.15156311702219255, 0.26341960274783627, 0.24017669662302718, 0.04793849388241873, 0.19030129389687436, 0.035832813609080666, 0.045033130616817595, 0.026632496601343737, 0.09553684895422662, 0.23662033520058454, 0.28327786608520683, 0.13108544391393886, 0.08109523225184352, 0.04776842447711331, 0.0766516578818795, 0.04887931806960432, 0.76019301597765, 0.011785938232211628, 0.03535781469663488, 0.10018047497379884, 0.07660859850937558, 0.011785938232211628, 0.005892969116105814, 0.02148323885888345, 0.02148323885888345, 0.15038267201218414, 0.7519133600609207, 0.06444971657665034, 0.171291022764562, 0.20595706308596146, 0.16925184392212675, 0.14682087665533886, 0.04078357684870524, 0.04690111337601102, 0.14886005549777412, 0.0693320806427989, 0.013851476185482783, 0.027702952370965567, 0.013851476185482783, 0.9419003806128292, 0.021830933091530755, 0.9605610560273532, 0.9392136840102031, 0.9286895881921761, 0.02188604761901658, 0.04377209523803316, 0.8973279523796798, 0.974897621706852, 0.05559105929224414, 0.9450480079681504, 0.6847179841929759, 0.005112379175159104, 0.04976049063821528, 0.13615969869840414, 0.05095337911241907, 0.06475680288534864, 0.004771553896815163, 0.0037490780617833426, 0.6269156042999064, 0.019105999369140005, 0.12299487093883878, 0.07164749763427501, 0.03940612369885126, 0.10508299653027003, 0.005970624802856252, 0.009552999684570003, 0.034922718820115516, 0.034922718820115516, 0.8730679705028879, 0.11430420296549698, 0.2191704442182465, 0.110109553315387, 0.2663602527819838, 0.0870389802397821, 0.07760101852703465, 0.06816305681428719, 0.057676432689012236, 0.045261861268134945, 0.23277528652183688, 0.006465980181162135, 0.1099216630797563, 0.03232990090581068, 0.03232990090581068, 0.0711257819927835, 0.46555057304367375, 0.9626630876592396, 0.9698444880904522, 0.9386559412279118, 0.09171070431246552, 0.02292767607811638, 0.02292767607811638, 0.8253963388121897, 0.02292767607811638, 0.11383385849330481, 0.20110648333817183, 0.1985768420383206, 0.10877457589360237, 0.11003939654352798, 0.08347816289509019, 0.06956513574590849, 0.11509867914323042, 0.028423496180231947, 0.04872599345182619, 0.8770678821328715, 0.008120998908637699, 0.020302497271594246, 0.016241997817275398, 0.018303245866714273, 0.8785558016022851, 0.018303245866714273, 0.07321298346685709, 0.9611746054726428, 0.9575035140471091, 0.9770926601896799, 0.9613835685619275, 0.022890084965760178, 0.962204496635921, 0.25021575762755505, 0.14298043293003146, 0.02144706493950472, 0.007149021646501574, 0.014298043293003148, 0.5218785801946149, 0.04289412987900944, 0.014259281260644345, 0.1853706563883765, 0.7557419068141503, 0.014259281260644345, 0.02851856252128869, 0.9635818266750165, 0.007357460684117435, 0.22624191603661112, 0.5413864820063079, 0.0018393651710293588, 0.11894561439323187, 0.07725333718323307, 0.011036191026176152, 0.01655428653926423, 0.9347441369014176, 0.1007707812378481, 0.8397565103154009, 0.713161562517601, 0.016026102528485416, 0.05609135884969896, 0.06410441011394166, 0.04807830758545625, 0.0961566151709125, 0.008013051264242708, 0.5100804506321083, 0.03199110840201376, 0.19905578561253007, 0.014218270400895005, 0.1955012180123063, 0.030213824601901883, 0.01599555420100688, 0.003554567600223751, 0.9288846291764219, 0.949466107829511, 0.034231307460531143, 0.9242453014343408, 0.9631552454060154, 0.01660612492079337, 0.9725052188771385, 0.035122613679754895, 0.8780653419938723, 0.035122613679754895, 0.035122613679754895, 0.9495485651139721, 0.15216332983533754, 0.18356211218231197, 0.285004332072537, 0.03381407329674168, 0.2825890411227697, 0.024152909497672626, 0.009661163799069051, 0.026568200447439887, 0.18950196185446141, 0.13987049565448342, 0.049631466199977985, 0.532410273781582, 0.004511951472725271, 0.045119514727252716, 0.022559757363626358, 0.013535854418175815, 0.9589895117606058, 0.9707531002862363, 0.9735252503763769, 0.9527407511590288, 0.05510707850325167, 0.027553539251625837, 0.8266061775487751, 0.05510707850325167, 0.9620522133490417, 0.0942591693289572, 0.6210015861672474, 0.005544657019350423, 0.08871451230960677, 0.13861642548376057, 0.038812599135452965, 0.011089314038700846, 0.030113124011882066, 0.9636199683802261, 0.03576291835593196, 0.929835877254231, 0.028643175934182138, 0.11457270373672855, 0.8306521020912819, 0.9277988299648754, 0.9431681863155903, 0.9527397071398845, 0.9496125135607002, 0.9644128488282258, 0.939664022201586, 0.9307494436127742, 0.9577493305297392, 0.9265935799458823, 0.9210532127017357, 0.03411308195191614, 0.03411308195191614, 0.02952155580530712, 0.08856466741592137, 0.02952155580530712, 0.8561251183539065, 0.04275565886327267, 0.9406244949919987, 0.060638251874182, 0.2304253571218916, 0.090957377811273, 0.0424467763119274, 0.0242553007496728, 0.0848935526238548, 0.0424467763119274, 0.4305315883066922, 0.03620016335959232, 0.8507038389504196, 0.05430024503938848, 0.01810008167979616, 0.05430024503938848, 0.0150312120344146, 0.0450936361032438, 0.075156060172073, 0.1052184842409022, 0.0300624240688292, 0.7365293896863154, 0.9480152061991165, 0.9643004829519496, 0.9595201202256536, 0.0432349146961827, 0.864698293923654, 0.02161745734809135, 0.0432349146961827, 0.9419555663052378, 0.036192930976603546, 0.18820324107833844, 0.050670103367244965, 0.622518412797581, 0.021715758585962128, 0.043431517171924255, 0.036192930976603546, 0.9308084976432822, 0.9771138471119171, 0.9568021516112263, 0.9524782911196975, 0.9263068269388506, 0.038075626162494935, 0.9518906540623734, 0.05366289127870439, 0.9122691517379746, 0.026831445639352195, 0.08589021352388625, 0.8875322064134913, 0.13336563050449504, 0.11113802542041253, 0.022227605084082506, 0.7335109677747227, 0.04022862917715684, 0.08045725835431368, 0.8448012127202936, 0.021190956637295155, 0.9112111354036917, 0.021190956637295155, 0.9565974206489974, 0.9648382736309686, 0.9183431467411116, 0.923800560438033, 0.04619002802190165, 0.010623972053375973, 0.35059107776140713, 0.021247944106751945, 0.03187191616012792, 0.06374383232025584, 0.47807874240191883, 0.021247944106751945, 0.010623972053375973, 0.9603979435111203, 0.009053192987443719, 0.1539042807865432, 0.06337235091210602, 0.7242554389954974, 0.009053192987443719, 0.009053192987443719, 0.027159578962331152, 0.9764643871954769, 0.968673079645956, 0.028471979685435786, 0.26194221310600924, 0.17794987303397367, 0.03131917765397937, 0.10819352280465598, 0.10961712178892778, 0.09965192889902526, 0.18222066998678904, 0.9107208665320129, 0.06830406498990096, 0.17962474254015068, 0.1508079389240837, 0.049949126267849385, 0.3871057285758327, 0.012487281566962346, 0.06819976855802512, 0.10662217337944772, 0.04418576554463599, 0.03565119234983818, 0.9269310010957927, 0.03180134189026158, 0.010600447296753858, 0.7102299688825086, 0.021200894593507717, 0.0530022364837693, 0.03180134189026158, 0.1060044729675386, 0.0530022364837693, 0.9355540220324234, 0.2642559245133031, 0.010163689404357813, 0.5539210725375008, 0.0050818447021789065, 0.13720980695883048, 0.020327378808715626, 0.0050818447021789065, 0.0050818447021789065, 0.15132915428108795, 0.024212664684974072, 0.6053166171243518, 0.04237216319870463, 0.10290382491113981, 0.06053166171243518, 0.018159498513730554, 0.04796332335836295, 0.24581203221161013, 0.10192206213652127, 0.005995415419795369, 0.005995415419795369, 0.5995415419795369, 0.9593740779920965, 0.18993529962526937, 0.1948815313863441, 0.179053589750905, 0.11178483780028875, 0.09991388157370941, 0.10980634509585886, 0.08903217169934502, 0.026709651509803506, 0.1577070715043614, 0.18363152161466736, 0.32297544095756203, 0.020523523003992235, 0.17390985282330262, 0.05941019816945121, 0.04644797311429821, 0.03564611890167072, 0.09984095764617028, 0.17160164595435518, 0.16848161602791234, 0.11544110727838439, 0.3588034415409245, 0.04680044889664232, 0.009360089779328463, 0.031200299264428213, 0.1210375836725684, 0.8645541690897742, 0.2240033356683798, 0.17456115797580948, 0.14025434080137292, 0.2482199124973938, 0.04338803348531681, 0.0847580189015491, 0.0393519373471478, 0.04540608155440131, 0.02898094316299998, 0.9563711243789994, 0.25015298719594153, 0.09380737019847808, 0.16937441841391876, 0.08077856878202279, 0.28663363116201634, 0.04690368509923904, 0.05211520566582115, 0.02345184254961952, 0.06511866205435533, 0.12021906840804061, 0.5393160985527378, 0.006678837133780034, 0.16530121906105583, 0.0400730228026802, 0.028385057818565144, 0.03673360423579019, 0.13089367648159028, 0.22589715134726066, 0.22167477468656419, 0.1393384298029832, 0.03166782495522345, 0.0971146631960186, 0.14356080646367966, 0.008444753321392922, 0.20664197359011138, 0.13894891327610936, 0.34915367951432613, 0.028502341184842947, 0.13360472430395132, 0.07303724928616005, 0.033846530157001, 0.03562792648105369, 0.9591596652807483, 0.022769125902154727, 0.03502942446485342, 0.7583870396640766, 0.0122602985626987, 0.1401176978594137, 0.0017514712232426712, 0.021017654678912055, 0.008757356116213356, 0.07846029420212397, 0.14384387270389393, 0.7715262263208856, 0.1560892119066156, 0.11266589731605336, 0.12205472209239114, 0.24176223799069782, 0.1455267840332356, 0.11266589731605336, 0.024645665037886674, 0.08449942298704002, 0.020375021884214754, 0.8761259410212344, 0.10187510942107378, 0.19131822723861217, 0.1290285718585989, 0.18612742262361107, 0.03485254527215028, 0.16981346526217903, 0.12087159317788287, 0.10529917933287956, 0.06228965538001326, 0.9695765181536269, 0.9610784226726168, 0.045831112031120814, 0.9166222406224164, 0.9482303147591564, 0.25501608063654024, 0.06303768285397625, 0.191978397782564, 0.2564487552468579, 0.03438419064762341, 0.09312384967064673, 0.03581686525794105, 0.06876838129524682, 0.029654857471592272, 0.9489554390909527, 0.9749059979352519, 0.9571035583559487, 0.12235911933633283, 0.07744248059261571, 0.07279593175705877, 0.05266088680297869, 0.5792697548327655, 0.04646548835556943, 0.024781593789637027, 0.023232744177784714, 0.024034456473967937, 0.9613782589587175, 0.9634021524869992, 0.007368760101404062, 0.045686312628705185, 0.00589500808112325, 0.0014737520202808125, 0.9181475086349461, 0.0014737520202808125, 0.016211272223088935, 0.004421256060842437, 0.03255619638514485, 0.0846461106013766, 0.013022478554057939, 0.0065112392770289695, 0.7813487132434763, 0.019533717831086907, 0.03906743566217381, 0.026044957108115878, 0.026535237427534664, 0.9552685473912479, 0.897974956877319, 0.02806171740241622, 0.02806171740241622, 0.02806171740241622, 0.16730909477489664, 0.1801790251421964, 0.2158638320697093, 0.1093944081220478, 0.13162428784738373, 0.04211977211116279, 0.05791468665284884, 0.0959394809198708, 0.22660634371162822, 0.594431133504416, 0.016420749544320885, 0.06239884826841936, 0.013136599635456709, 0.013136599635456709, 0.006568299817728354, 0.06896714808614772, 0.9512542598639812, 0.15625068973321526, 0.09666356229258233, 0.2860182117150381, 0.10990514616827853, 0.12976752198182284, 0.07547702809146839, 0.05164217711521522, 0.09269108712987346, 0.20163686646900436, 0.01591869998439508, 0.04775609995318524, 0.06367479993758032, 0.04775609995318524, 0.5571544994538278, 0.042449866625053546, 0.026531166640658466, 0.15986105985657226, 0.206656260119156, 0.2737383969117616, 0.13984461581361735, 0.0716805090727439, 0.07276247902101174, 0.051123080055655086, 0.02461481632309319, 0.12746253456895182, 0.2234343253032214, 0.1724493114756407, 0.04648633613691183, 0.2519259506774577, 0.06448104689958739, 0.028491625374236287, 0.0839753168924859, 0.9721977446529666, 0.949526988851549, 0.9225964011075362, 0.014580880737322128, 0.029161761474644256, 0.04374264221196639, 0.8456910827646834, 0.029161761474644256, 0.029161761474644256, 0.18803574868667483, 0.35567757040136205, 0.08999521902317473, 0.14294458905136276, 0.07689820170171478, 0.037232949242436114, 0.0675431893292434, 0.04172335518122238, 0.9624044025674726, 0.029163769774771895, 0.1953918586683793, 0.015842583135273997, 0.08977463776655265, 0.6389841864560512, 0.015842583135273997, 0.036966027315639326, 0.010561722090182664, 0.041276654278693564, 0.59335190525622, 0.17026619889961095, 0.0051595817848366955, 0.11351079926640731, 0.051595817848366955, 0.030957490709020173, 0.958673212230824, 0.0058699221357076895, 0.02934961067853845, 0.023479688542830758, 0.8628785539490305, 0.03521953281424614, 0.011739844271415379, 0.023479688542830758, 0.9482820300249916, 0.02329922531250546, 0.2511138728125588, 0.3210115487500752, 0.007766408437501819, 0.29771232343756976, 0.07507528156251758, 0.02071042250000485, 0.002588802812500606, 0.22843702786161635, 0.01062497804007518, 0.06374986824045108, 0.5737488141640597, 0.01593746706011277, 0.07968733530056385, 0.00531248902003759, 0.02124995608015036, 0.9897961016114609, 0.4824084148174623, 0.02747896033770355, 0.11602227698141498, 0.08549009882841103, 0.06411757412130828, 0.2045655936251264, 0.012212871261201578, 0.006106435630600789, 0.9733344303673624, 0.9436618935469898, 0.9310615029235412, 0.9531315533206156, 0.06770076460867498, 0.006154614964424998, 0.2277207536837249, 0.06770076460867498, 0.03077307482212499, 0.043082304750974985, 0.44928689240302483, 0.10462845439522496, 0.9638065546511607, 0.7575927558787908, 0.10416900393333374, 0.13257873227878839, 0.9460639110074519, 0.016311446741507793, 0.016311446741507793, 0.2788926968257322, 0.012125769427205748, 0.12529961741445939, 0.5254500085122491, 0.008083846284803832, 0.03637730828161724, 0.008083846284803832, 0.9803991933830893, 0.05461562540245878, 0.9284656318417993, 0.44747080333518563, 0.04322161168578497, 0.19322602871292105, 0.10932525308757375, 0.07881588013290201, 0.08644322337156994, 0.030509372954671748, 0.010169790984890582, 0.9559062060580076, 0.9357241981702589, 0.024040679328065577, 0.581784439739187, 0.009616271731226231, 0.19232543462452462, 0.004808135865613116, 0.048081358656131154, 0.06731390211858362, 0.07212203798419674, 0.9086812220571073, 0.05104950685714086, 0.030629704114284517, 0.9539796915994113, 0.045208313514903946, 0.9493745838129829, 0.9602685104105977, 0.02732824956038093, 0.06832062390095232, 0.8608398611519993, 0.013664124780190466, 0.02732824956038093, 0.9332846683293807, 0.9493679702405353, 0.028768726370925313, 0.9605079224861619, 0.9627433134877391, 0.9144065782294875, 0.19505722776968773, 0.7802289110787509, 0.9423031210907413, 0.026922946316878325, 0.9614580564364922, 0.9616934920680651, 0.04506192803041953, 0.9463004886388101, 0.2781197938355602, 0.12216476925487223, 0.08317601310970024, 0.12996252048390664, 0.2963145467033071, 0.049385757783884515, 0.023393253687103193, 0.015595502458068795, 0.062050473645358824, 0.10341745607559803, 0.7859726661745451, 0.041366982430239216, 0.9661460705793359, 0.9789896732839682, 0.04623817363209472, 0.018495269452837887, 0.6380867961229071, 0.04623817363209472, 0.19420032925479783, 0.018495269452837887, 0.018495269452837887, 0.02774290417925683, 0.020741284209550934, 0.21778348420028482, 0.05185321052387734, 0.7052036631247318, 0.06629339364048108, 0.9281075109667352, 0.9699265197364461, 0.05018660126946505, 0.06691546835928674, 0.016728867089821686, 0.11710206962875179, 0.03345773417964337, 0.7193412848623324, 0.9777738854399912, 0.9646574107017554, 0.7839488932667169, 0.04260591811232157, 0.0596482853572502, 0.05112710173478588, 0.03408473448985726, 0.04260591811232157, 0.929779456232464, 0.04827569344253364, 0.09051692520475059, 0.06034461680316706, 0.6577563231545209, 0.01206892336063341, 0.07241354016380047, 0.06034461680316706, 0.9528754428734608, 0.04182749342319522, 0.08365498684639044, 0.05576999123092696, 0.05576999123092696, 0.7389523838097822, 0.02788499561546348, 0.9804498916893447, 0.9676850459466487, 0.02174573136958761, 0.9703710334513056, 0.36125209106894823, 0.05059304469515983, 0.26627918260610434, 0.07189537930364817, 0.09763570028890493, 0.12870160492628377, 0.012426361854951537, 0.011538764579597856, 0.13566953980133667, 0.20696526734999832, 0.16197281792608564, 0.14639850851011585, 0.15262823227650377, 0.04949169436630394, 0.10728968708779177, 0.03945491718712342, 0.01888848301602539, 0.9633126338172949, 0.16838478730724507, 0.15898259106166285, 0.14445192413667216, 0.2512950632910155, 0.1102621196072823, 0.058122667699962764, 0.06923435417201447, 0.040173020322033084, 0.017152030959164285, 0.9262096717948713, 0.05145609287749285, 0.939995816934073, 0.02523280748154459, 0.9336138768171498, 0.02523280748154459, 0.038734062204166614, 0.16550008396325736, 0.04577661896856055, 0.2605746002825754, 0.08451068117272717, 0.021127670293181793, 0.1831064758742422, 0.200712867785227, 0.07625374713026922, 0.7472867218766385, 0.061002997704215384, 0.04575224827816154, 0.061002997704215384, 0.2029427833469424, 0.14935913784785365, 0.2404935270431542, 0.0970412477542552, 0.12193443739556414, 0.0341753959482377, 0.061600096400527216, 0.09240014460079082, 0.38845416381521475, 0.0754279929738281, 0.10748488998770504, 0.05091389525733397, 0.260226575759707, 0.052799595081679675, 0.056570994730371076, 0.00754279929738281, 0.935812678813935, 0.9488912737212837, 0.9772967580425176, 0.9552198085002838, 0.2581861246597331, 0.254480103731603, 0.19765444950027417, 0.12353403093767136, 0.0642376960875891, 0.0642376960875891, 0.022236125568780844, 0.013588743403143849, 0.18472602491952766, 0.08466609475478351, 0.41306791683394384, 0.033353310054914716, 0.17189782874456047, 0.09492865169475728, 0.012828196174967199, 0.00256563923499344, 0.9411437413612371, 0.2594422763664975, 0.11609284740135102, 0.2291571857400581, 0.12013085948487628, 0.08277924771226769, 0.11912135646399497, 0.03836111479348991, 0.03533260573084596, 0.9811713671901936, 0.9554819077700129, 0.9521546393010655, 0.03744690833856112, 0.9361727084640279, 0.9790089099886944, 0.9474610285914512, 0.9614054000304871, 0.9819484544496926, 0.9549301133565522, 0.9095979482596491, 0.014349820825922677, 0.014349820825922677, 0.07174910412961338, 0.05739928330369071, 0.846639428729438, 0.014929154825816214, 0.15811332156432625, 0.4105517577099459, 0.007464577412908107, 0.35897831376621714, 0.0013571958932560193, 0.040715876797680586, 0.007464577412908107, 0.922462480875379, 0.010981696200897369, 0.03294508860269211, 0.010981696200897369, 0.9309907706433097, 0.1701175274325878, 0.18690042251562336, 0.19376615232231972, 0.09535735842633844, 0.07552302787366005, 0.11824312444865967, 0.10374880596785623, 0.05645155618839236, 0.024855760495803587, 0.5885489003113492, 0.1624501489547163, 0.003550822927971941, 0.11540174515908808, 0.06480251843548793, 0.030181994887761496, 0.008877057319929852, 0.9463362101277376, 0.014852866923476682, 0.8614662815616476, 0.014852866923476682, 0.07426433461738341, 0.014852866923476682, 0.3227871706539279, 0.15116441442595918, 0.18071535258441737, 0.07728706902981372, 0.12275005081205709, 0.05796530177236029, 0.028414363613902104, 0.06023845086147246, 0.9699346265593726, 0.03379301069604566, 0.9124112887932327, 0.04934339437702552, 0.04934339437702552, 0.03289559625135035, 0.855285502535109, 0.959875384948656, 0.025942577971585296, 0.14927739943404578, 0.15101318314839515, 0.14059848086229895, 0.29508323143939286, 0.020829404572192435, 0.09373232057486595, 0.079846050860071, 0.06943134857397479, 0.9816901965607788, 0.2755337890905071, 0.14039102586992502, 0.22042703127240565, 0.05904295480510866, 0.1889374553763477, 0.05641882348043716, 0.017056853610364724, 0.040674035532408184, 0.23569449264220535, 0.11348253349439517, 0.21037915824730183, 0.13530609762793272, 0.09165896936085764, 0.07594600318471062, 0.053249496485831584, 0.08380248627278412, 0.11315862447418437, 0.3190255196019174, 0.05453427685502861, 0.2767614550392702, 0.019086996899260016, 0.07634798759704006, 0.05862434761915576, 0.08180141528254292, 0.961203407798841, 0.021440401516586625, 0.9648180682463982, 0.9746791984517998, 0.04637473748593329, 0.8811200122327325, 0.24442266861017267, 0.06110566715254317, 0.48477162607684243, 0.008147422287005756, 0.1099902008745777, 0.08147422287005755, 0.004073711143502878, 0.004073711143502878, 0.1858447962894876, 0.1858447962894876, 0.13168431279940837, 0.12956037227038564, 0.1932785881410671, 0.05309851322556789, 0.09451535354151085, 0.026549256612783945, 0.17075394666693924, 0.24415972651297324, 0.19101288949183035, 0.08761335013881474, 0.10418884881372564, 0.11181884026725605, 0.04946339287116268, 0.04078098880335221, 0.9724418412058456, 0.04309482278839331, 0.014364940929464437, 0.028729881858928875, 0.8331665739089373, 0.08618964557678661, 0.9817476383055073, 0.9360196538355129, 0.919701737975422, 0.9391719668230514, 0.964071238076944, 0.7012003306866584, 0.03471288765775537, 0.006942577531551073, 0.02082773259465322, 0.2082773259465322, 0.013885155063102146, 0.006942577531551073, 0.0705173466300643, 0.9167255061908359, 0.02211930639166234, 0.9732494812331429, 0.9656705941750636, 0.974774005131942, 0.01839196236098004, 0.9609564546678188, 0.9788676098526287, 0.049699193363569656, 0.4627166278677175, 0.10968097845753304, 0.14738381480231003, 0.05141295865196861, 0.05484048922876652, 0.07883320326635188, 0.044557897498372794, 0.9474042472919226, 0.13311307997216634, 0.007395171109564797, 0.8504446775999517, 0.007395171109564797, 0.06533312359971404, 0.06533312359971404, 0.7404420674634258, 0.13066624719942807, 0.25646098552017416, 0.7227536864659454, 0.023314635047288562, 0.9443801504940967, 0.9350515531766265, 0.030162953328278272, 0.9633914316806917, 0.0452508284640513, 0.9502673977450773, 0.9398209684350041, 0.9186837320731926, 0.13307041873329792, 0.8250365961464471, 0.0473345380481621, 0.2366726902408105, 0.057299703953038336, 0.04982582952438116, 0.4633802145767448, 0.019930331809752466, 0.05979099542925739, 0.06726486985791456, 0.03968570849694531, 0.19842854248472655, 0.13228569498981768, 0.019842854248472656, 0.4497713629653802, 0.09259998649287239, 0.06614284749490884, 0.006614284749490885, 0.0419848913962166, 0.6402695937923031, 0.06822544851885197, 0.026240557122635375, 0.09971411706601442, 0.036736779971689525, 0.07347355994337905, 0.015744334273581226, 0.015161500984238171, 0.20847063853327485, 0.0795978801672504, 0.022742251476357257, 0.5154910334640979, 0.06822675442907176, 0.03411337721453588, 0.060646003936952686, 0.9665566306385869, 0.9620607904063363, 0.024668225395034264, 0.9536342662966333, 0.9469981636947816, 0.9590082910400503, 0.9588718428443292, 0.04571187073981741, 0.04571187073981741, 0.20570341832917835, 0.6856780610972611, 0.9593759796871472, 0.9517230013362533, 0.9407286052871316, 0.04241076847608858, 0.5994819435944413, 0.019486028759283944, 0.10660003968314156, 0.02292473971680464, 0.01719355478760348, 0.06533550819289322, 0.12723230542826575, 0.982051397578646, 0.9530325912067569, 0.0474941530718333, 0.5111275521063965, 0.01017731851539285, 0.2996654896199006, 0.011308131683769833, 0.03618602138806347, 0.032793581882932514, 0.04975577940858727, 0.9575832009183253, 0.9619566625383146, 0.9811094067922189, 0.07544426291374728, 0.49314786489961643, 0.03128176754960253, 0.1637692536420368, 0.016560935761554284, 0.07360415894024125, 0.0938453026488076, 0.05152291125816888, 0.05307349562038547, 0.902249425546553, 0.04446020570247658, 0.17784082280990632, 0.05928027426996877, 0.014820068567492193, 0.014820068567492193, 0.6965432226721331, 0.6639217391561566, 0.02205054085361631, 0.09100859588674368, 0.09181043373596609, 0.06655254148546014, 0.05131762235023432, 0.01002297311528014, 0.004009189246112057, 0.7440735294371955, 0.014807433421635732, 0.11475760901767693, 0.007403716710817866, 0.051826016975725066, 0.059229733686542926, 0.007403716710817866, 0.003701858355408933, 0.658990192061354, 0.016237951344427612, 0.07036445582585299, 0.09336822023045878, 0.05006701664531847, 0.09336822023045878, 0.004059487836106903, 0.013531626120356344, 0.19951903258161735, 0.16965471878755362, 0.1906232795365771, 0.1512278017656845, 0.1315300628802382, 0.0654473259742248, 0.051468285474875815, 0.04130171056625837, 0.038279058292709466, 0.9569764573177366, 0.9681622663855189, 0.2818143868869828, 0.16503513752628102, 0.13125601581037555, 0.20653520134867917, 0.08396524540810789, 0.051151241455514, 0.07141871448505728, 0.009651177633115848, 0.9537349909332342, 0.934169130292888, 0.9686261228947373, 0.06839877829231054, 0.8891841178000371, 0.9487989978454345, 0.26797049828518543, 0.7145879954271612, 0.9667238098502144, 0.9813978656862593, 0.928510703059948, 0.9542960531663675, 0.027265601519039073, 0.8027623194810336, 0.010425484668584851, 0.10425484668584852, 0.010425484668584851, 0.0625529080115091, 0.020850969337169702, 0.9658846889351655, 0.9611029982897007, 0.9446067715217058, 0.9526610930501562, 0.9719642495826486, 0.06648344386324931, 0.9086070661310738, 0.9671129161409047, 0.14590917604719145, 0.00810606533595508, 0.7538640762438226, 0.00810606533595508, 0.056742457351685566, 0.00810606533595508, 0.00810606533595508, 0.9375099803383004, 0.9776404905960585, 0.027894085801749357, 0.055788171603498714, 0.027894085801749357, 0.027894085801749357, 0.6136698876384858, 0.22315268641399486, 0.027894085801749357, 0.960205901578227, 0.9457684374204387, 0.9486967848636515, 0.9071027037074372, 0.049102459171435735, 0.9329467242572789, 0.047592233736810194, 0.04283301036312918, 0.05235145711049122, 0.00475922337368102, 0.06662912723153427, 0.014277670121043059, 0.7709941865363252, 0.08991190358578342, 0.022477975896445856, 0.022477975896445856, 0.8541630840649425, 0.9514996203116111, 0.13075346237911994, 0.11767811614120795, 0.2706596671247783, 0.07060686968472477, 0.24581650927274548, 0.06014659269439517, 0.027458227099615186, 0.07452947355609836, 0.9665096768419428, 0.933483479065751, 0.12214364003987861, 0.11901175183372788, 0.4509919016857057, 0.0093956646184522, 0.1503306338952352, 0.034450770267658075, 0.06263776412301468, 0.05011021129841174, 0.9464985891041507, 0.9465591318861006, 0.3296405391623711, 0.06679940441175802, 0.13795529171993504, 0.03485186317135201, 0.10165126758311004, 0.08277317503196104, 0.03339970220587901, 0.21346766192453107, 0.9816914793890921, 0.09456495826854856, 0.6818631201469029, 0.019908412267062855, 0.11447337053561142, 0.019908412267062855, 0.019908412267062855, 0.004977103066765714, 0.04977103066765714, 0.08383328093270544, 0.11058858335803695, 0.041024797052174995, 0.08026590727599456, 0.016053181455198913, 0.012485807798488043, 0.16588287503705543, 0.4869465041410337, 0.9561952120359835, 0.9292033851651812, 0.9810697919432431, 0.9764096061443808, 0.012076646741378722, 0.07245988044827233, 0.09661317393102978, 0.03622994022413616, 0.03622994022413616, 0.024153293482757444, 0.012076646741378722, 0.7125221577413446, 0.9369643849299875, 0.04764225686084682, 0.9283370774930156, 0.028131426590697443, 0.974033832579272, 0.016793686768608138, 0.15364715222974026, 0.7961716070086542, 0.013967922929976388, 0.013967922929976388, 0.013967922929976388, 0.9716517986652803, 0.9305085699559414, 0.0733817416733809, 0.19647369544808435, 0.24144960163499524, 0.01657007070044085, 0.08995181237382176, 0.028405835486470028, 0.0662802828017634, 0.2887926607791119, 0.9331199931116546, 0.042414545141438845, 0.06072765813681085, 0.2087513248452873, 0.045545743602608144, 0.2087513248452873, 0.09109148720521629, 0.1404327094413751, 0.2429106325472434, 0.9272443180303821, 0.9581649103087997, 0.03203184894346863, 0.20286837664196797, 0.17083652769849936, 0.08541826384924968, 0.01067728298115621, 0.01067728298115621, 0.01067728298115621, 0.49115501713318566, 0.9157507652900223, 0.024750020683514118, 0.049500041367028236, 0.12250866160445378, 0.13612073511605977, 0.04083622053481793, 0.4128995631853813, 0.015880752430206972, 0.08847847782543884, 0.15653884538346874, 0.024955468104610957, 0.05920125502894489, 0.08880188254341734, 0.799216942890756, 0.029600627514472445, 0.04426636050632346, 0.9148381171306849, 0.02951090700421564, 0.984458982456888, 0.0032837217674748544, 0.21344191488586553, 0.5713675875406247, 0.0032837217674748544, 0.14120003600141873, 0.02791163502353626, 0.02791163502353626, 0.009851165302424563, 0.003123907051355258, 0.31134940278507406, 0.5529315480898807, 0.0052065117522587636, 0.05518902457394289, 0.04685860577032887, 0.006247814102710516, 0.018743442308131547, 0.04216582794293122, 0.7642556314656285, 0.07203328940250751, 0.01932600447384348, 0.022839823469087746, 0.02811055196195415, 0.029867461459576285, 0.017569094976221344, 0.04347190678498552, 0.6466446134266596, 0.1575856620955725, 0.01630196504436957, 0.06520786017747827, 0.00543398834812319, 0.02173595339249276, 0.04347190678498552, 0.010438976098952333, 0.7516062791245679, 0.21921849807799898, 0.010438976098952333, 0.010438976098952333, 0.04300854935264574, 0.9461880857582063, 0.9759537434907807, 0.016265895724846345, 0.9631267554640685, 0.023965948852948393, 0.910706056412039, 0.04793189770589679, 0.023965948852948393, 0.9596369646695675, 0.035571954572790665, 0.9248708188925573, 0.9445284930751466, 0.9546349817531926, 0.9652289240482176, 0.970258597984424, 0.9608475671426601, 0.9113390177460996, 0.02336766712169486, 0.02336766712169486, 0.02336766712169486, 0.11126285213971072, 0.2285945871234057, 0.3236737516791585, 0.11530877403570021, 0.10317100834773177, 0.0374247775379027, 0.05563142606985536, 0.024275531375936885, 0.9674513271860771, 0.6448643340681002, 0.020995582969659077, 0.09597980786129863, 0.03899179694365257, 0.020995582969659077, 0.16196592576594143, 0.011997475982662329, 0.002999368995665582, 0.5752465651878809, 0.02085970808212678, 0.22544530657990866, 0.0064183717175774705, 0.08745031465199304, 0.06578831010516907, 0.01684822575864086, 0.0016045929293943676, 0.9265747318448846, 0.9759937709070207, 0.9673963268437203, 0.9562943017606923, 0.9270661251980762, 0.0705050506124357, 0.023501683537478564, 0.04700336707495713, 0.023501683537478564, 0.8225589238117498, 0.023501683537478564, 0.01933863945167726, 0.03867727890335452, 0.25140231287180437, 0.03867727890335452, 0.6381751019053495, 0.7591310023381739, 0.023357876995020736, 0.011678938497510368, 0.035036815492531105, 0.04671575399004147, 0.08175256948257258, 0.023357876995020736, 0.9653810075293556, 0.07351813966260703, 0.9189767457825879, 0.21855132409835817, 0.1098538401552594, 0.2890890530401563, 0.12488647091334754, 0.14223181409575691, 0.06359959166883439, 0.03353433015265813, 0.018501699394570005, 0.9141820517093319, 0.039359756225024994, 0.9052743931755749, 0.1398378716268005, 0.1922770734868507, 0.21521922430062265, 0.08412121965049718, 0.11744196249907074, 0.06445651895297835, 0.10924833720843789, 0.07702007773194872, 0.06124888095078195, 0.010208146825130326, 0.030624440475390976, 0.7247784245842531, 0.1531222023769549, 0.010208146825130326, 0.010208146825130326, 0.9691372294496635, 0.956083798001149, 0.06856969509590724, 0.01371393901918145, 0.0548557560767258, 0.6994108899782538, 0.006856969509590725, 0.07542666460549798, 0.0548557560767258, 0.0274278780383629, 0.9754825227558386, 0.9469601859598011, 0.0038413172281915827, 0.5569909980877795, 0.2727335232016024, 0.0076826344563831655, 0.0883502962484064, 0.053778441194682156, 0.0038413172281915827, 0.0076826344563831655, 0.023212255538921, 0.023212255538921, 0.023212255538921, 0.046424511077842, 0.835641199401156, 0.023212255538921, 0.044569855292636656, 0.9359669611453697, 0.020002919210679444, 0.8801284452698954, 0.020002919210679444, 0.06000875763203833, 0.9629531667300489, 0.12935686706960697, 0.1058374366933148, 0.4204098179762227, 0.061738504737766965, 0.11465722308442437, 0.10877736549035133, 0.0264593591733287, 0.03233921676740174, 0.927595935819211, 0.024410419363663446, 0.024410419363663446, 0.03703867057632525, 0.3657568719412118, 0.1250055131950977, 0.03240883675428459, 0.09722651026285377, 0.009259667644081312, 0.027779002932243935, 0.3101988660767239, 0.2089836584937957, 0.09261775774156854, 0.22798217290232256, 0.14486367236501746, 0.10449182924689784, 0.0593703575266465, 0.11517849360169422, 0.04868369317185013, 0.9713488343379952, 0.06614418167472572, 0.03307209083736286, 0.8929464526087971, 0.09656014520916363, 0.20755919063651995, 0.02526807538183721, 0.4530204943457957, 0.011731606427281561, 0.07038963856368938, 0.08843826383643023, 0.046926425709126245, 0.14526366112983263, 0.21573811058886036, 0.08198048202376694, 0.3077863711067741, 0.04314762211777207, 0.04890063840014168, 0.07478921167080492, 0.08198048202376694, 0.049870054613744386, 0.14486063483040035, 0.05224481911916078, 0.5580696587728539, 0.021372880548747593, 0.03799623208666239, 0.08311675768957397, 0.05224481911916078, 0.057518043836863514, 0.19172681278954506, 0.019172681278954506, 0.7093892073213167, 0.9176600826773162, 0.060593901740359175, 0.15626848343566313, 0.2072949270064919, 0.05102644357082878, 0.08291797080259676, 0.02232406906223759, 0.3986440903970998, 0.02232406906223759, 0.06802864808678473, 0.4864048338205108, 0.09183867491715939, 0.037415756447731596, 0.013605729617356946, 0.07143008049112397, 0.18027591742997953, 0.05442291846942778, 0.9240447210388245, 0.9647458820729495, 0.9693918752101509, 0.9808208375981536, 0.018019746584290508, 0.018019746584290508, 0.9009873292145254, 0.018019746584290508, 0.018019746584290508, 0.9134918420652851, 0.255687544905673, 0.1352765499210247, 0.2244698795392827, 0.13081688344011178, 0.0743277746818817, 0.10703199554190965, 0.029731109872752678, 0.04162355382185375, 0.9492695640861849, 0.016381449622432293, 0.22319725110564, 0.25186478794489653, 0.022524493230844406, 0.3276289924486459, 0.032762899244864585, 0.02661985563645248, 0.1003363789373978, 0.06829802596793912, 0.16894774844700727, 0.21567797674086037, 0.010783898837043018, 0.14019068488155922, 0.061108760076577104, 0.032351696511129055, 0.30554380038288553, 0.03813110178145489, 0.10591972717070802, 0.016947156347313284, 0.699070199326673, 0.025420734520969927, 0.012710367260484964, 0.025420734520969927, 0.08473578173656643, 0.26863642622502026, 0.11836470887309322, 0.25834384284475126, 0.13277432560546978, 0.05455069191542557, 0.06690179197174834, 0.06998956698582903, 0.030877750140806928, 0.04538365862007693, 0.022691829310038464, 0.8395976844714231, 0.09076731724015386, 0.08153244792300841, 0.016306489584601683, 0.8479374583992876, 0.016306489584601683, 0.03261297916920337, 0.016306489584601683, 0.08414189883027941, 0.16828379766055881, 0.06731351906422353, 0.6226500513440676, 0.033656759532111766, 0.033656759532111766, 0.9660531400533213, 0.2344603941952227, 0.1965130471578456, 0.15404815880649506, 0.20825865457417658, 0.10390345022138962, 0.031622789197814236, 0.05149997097929747, 0.019425427650085886, 0.019372788750349233, 0.019372788750349233, 0.07749115500139693, 0.09686394375174616, 0.7749115500139693, 0.9560074468122747, 0.9402067936255893, 0.98384609723236, 0.9657620488666809, 0.036097134526110866, 0.036097134526110866, 0.2526799416827761, 0.661780799645366, 0.9603950391955473, 0.9593884241223664, 0.9651071299107767, 0.4339575618117151, 0.10651685608105733, 0.16963795598094317, 0.06049105407072392, 0.11572201648312402, 0.03945068743742864, 0.04208073326659055, 0.03287557286452387, 0.09084673664349592, 0.1530050301364142, 0.028688443150577662, 0.2964472458893025, 0.009562814383525887, 0.03825125753410355, 0.31557287465635425, 0.07172110787644415, 0.14170876593084314, 0.23807072676381646, 0.0453468050978698, 0.39536745694705233, 0.012753788933775882, 0.029758840845477058, 0.09919613615159019, 0.036844279142019216, 0.37077674483085865, 0.08734644469573112, 0.2246051435033086, 0.11408515225564882, 0.07486838116776953, 0.08734644469573112, 0.01960838554393964, 0.01960838554393964, 0.16986867637200193, 0.28357109684680964, 0.21507566282584115, 0.061645890618871664, 0.07260516006222663, 0.07671488610348473, 0.060275981938452294, 0.060275981938452294, 0.21491603379937957, 0.17250593646296866, 0.13468071451427788, 0.18568745320266394, 0.11977986950418755, 0.046994972724131, 0.08252775697896175, 0.042983206759875915, 0.35858395314799923, 0.05924430530271292, 0.20267788656191263, 0.07171679062959985, 0.024944970653773862, 0.24944970653773862, 0.018708727990330395, 0.012472485326886931, 0.5627296516558735, 0.01828363489134607, 0.10767029436014909, 0.06703999460160226, 0.172678773973824, 0.056882419661965555, 0.010157574939636706, 0.006094544963782023, 0.9285494240914615, 0.21768610182010817, 0.19132948859525203, 0.1854724634341729, 0.1552111667685973, 0.06735578935241016, 0.06149876419133101, 0.043927688708093576, 0.07809366881438859, 0.957024001591535, 0.03155024181070994, 0.475702697994444, 0.05074162111940736, 0.20296648447762944, 0.031713513199629596, 0.09831189091885176, 0.08879783695896287, 0.04122756715951848, 0.01268540527985184, 0.040222132785147455, 0.9251090540583915, 0.9884138989494295], \"Term\": [\"acting\", \"acting\", \"acting\", \"acting\", \"acting\", \"acting\", \"acting\", \"actors\", \"actors\", \"actors\", \"actors\", \"actors\", \"actors\", \"actors\", \"adventures\", \"adventures\", \"adventures\", \"ah\", \"ah\", \"ah\", \"album\", \"album\", \"album\", \"album\", \"album\", \"album\", \"album\", \"album\", \"albums\", \"albums\", \"albums\", \"albums\", \"albums\", \"albums\", \"albums\", \"albums\", \"alert\", \"alex\", \"also\", \"also\", \"also\", \"also\", \"also\", \"also\", \"also\", \"also\", \"alternate\", \"amazing\", \"amazing\", \"amazing\", \"amazing\", \"amazing\", \"amazing\", \"amazing\", \"amazing\", \"amazon\", \"amazon\", \"amazon\", \"amazon\", \"amazon\", \"amazon\", \"amazon\", \"amazon\", \"american\", \"american\", \"american\", \"american\", \"american\", \"american\", \"american\", \"american\", \"animated\", \"annie\", \"annie\", \"annie\", \"anyone\", \"anyone\", \"anyone\", \"anyone\", \"anyone\", \"anyone\", \"anyone\", \"anyone\", \"application\", \"application\", \"application\", \"application\", \"attractive\", \"author\", \"author\", \"author\", \"author\", \"author\", \"author\", \"author\", \"author\", \"authority\", \"automatic\", \"automatic\", \"avant\", \"baby\", \"baby\", \"baby\", \"baby\", \"baby\", \"baby\", \"baby\", \"baby\", \"bach\", \"back\", \"back\", \"back\", \"back\", \"back\", \"back\", \"back\", \"back\", \"band\", \"band\", \"band\", \"band\", \"band\", \"band\", \"band\", \"band\", \"basketball\", \"bass\", \"bass\", \"bass\", \"bass\", \"bass\", \"bass\", \"bass\", \"battery\", \"battery\", \"battery\", \"battery\", \"battery\", \"battery\", \"battery\", \"becoming\", \"bedtime\", \"bell\", \"best\", \"best\", \"best\", \"best\", \"best\", \"best\", \"best\", \"best\", \"better\", \"better\", \"better\", \"better\", \"better\", \"better\", \"better\", \"better\", \"bible\", \"bible\", \"bible\", \"bible\", \"bible\", \"bible\", \"bible\", \"bike\", \"bike\", \"bike\", \"bike\", \"bike\", \"bit\", \"bit\", \"bit\", \"bit\", \"bit\", \"bit\", \"bit\", \"bit\", \"blade\", \"blade\", \"blade\", \"blade\", \"blades\", \"blades\", \"blender\", \"blowing\", \"blu\", \"blu\", \"blu\", \"boat\", \"bobby\", \"bobby\", \"book\", \"book\", \"book\", \"book\", \"book\", \"book\", \"book\", \"book\", \"books\", \"books\", \"books\", \"books\", \"books\", \"books\", \"books\", \"books\", \"boot\", \"boot\", \"boot\", \"bought\", \"bought\", \"bought\", \"bought\", \"bought\", \"bought\", \"bought\", \"bought\", \"box\", \"box\", \"box\", \"box\", \"box\", \"box\", \"box\", \"box\", \"bubble\", \"buried\", \"businessman\", \"buttons\", \"buttons\", \"buttons\", \"buttons\", \"buttons\", \"buy\", \"buy\", \"buy\", \"buy\", \"buy\", \"buy\", \"buy\", \"buy\", \"camera\", \"camera\", \"camera\", \"camera\", \"camera\", \"camera\", \"cameras\", \"cameras\", \"cameras\", \"cameras\", \"canada\", \"canned\", \"cap\", \"cardboard\", \"cardboard\", \"cartoons\", \"cat\", \"cat\", \"cat\", \"cat\", \"cat\", \"cat\", \"cat\", \"catchy\", \"catchy\", \"catchy\", \"catchy\", \"catchy\", \"cbs\", \"cd\", \"cd\", \"cd\", \"cd\", \"cd\", \"cd\", \"cd\", \"cd\", \"chances\", \"channel\", \"channel\", \"chapter\", \"chapter\", \"chapter\", \"chapter\", \"chapter\", \"chapter\", \"chapter\", \"characters\", \"characters\", \"characters\", \"characters\", \"characters\", \"characters\", \"characters\", \"characters\", \"chart\", \"charts\", \"chess\", \"chess\", \"chinese\", \"chinese\", \"chorus\", \"christ\", \"christ\", \"christ\", \"christ\", \"cities\", \"classic\", \"classic\", \"classic\", \"classic\", \"classic\", \"classic\", \"classic\", \"classic\", \"clear\", \"clear\", \"clear\", \"clear\", \"clear\", \"clear\", \"clear\", \"clear\", \"cliches\", \"click\", \"clients\", \"codes\", \"comic\", \"comic\", \"comic\", \"comic\", \"compositions\", \"concert\", \"concert\", \"concert\", \"concert\", \"concert\", \"concert\", \"concert\", \"confident\", \"confident\", \"cookware\", \"cookware\", \"cordless\", \"cordless\", \"cordless\", \"corelle\", \"corny\", \"couples\", \"courage\", \"cowboy\", \"creativity\", \"creek\", \"crowded\", \"cruise\", \"crying\", \"crying\", \"crying\", \"crystal\", \"crystal\", \"crystal\", \"crystal\", \"cultural\", \"cultural\", \"cut\", \"cut\", \"cut\", \"cut\", \"cut\", \"cut\", \"cut\", \"cut\", \"dave\", \"dave\", \"dave\", \"dave\", \"dave\", \"de\", \"de\", \"de\", \"de\", \"de\", \"de\", \"deadly\", \"deliver\", \"delivers\", \"delivery\", \"delivery\", \"delivery\", \"delivery\", \"depressed\", \"design\", \"design\", \"design\", \"design\", \"design\", \"design\", \"design\", \"detective\", \"diamond\", \"didnt\", \"dig\", \"dim\", \"ding\", \"ding\", \"directed\", \"directed\", \"directed\", \"discover\", \"discover\", \"doll\", \"doll\", \"doll\", \"doll\", \"dolls\", \"dolls\", \"dolls\", \"doors\", \"doors\", \"doors\", \"dozen\", \"dressed\", \"drill\", \"drinking\", \"drinking\", \"drive\", \"drive\", \"drive\", \"drive\", \"drive\", \"drive\", \"drive\", \"drive\", \"drummer\", \"dry\", \"dry\", \"dry\", \"dry\", \"dry\", \"dry\", \"dry\", \"dryer\", \"dts\", \"dvd\", \"dvd\", \"dvd\", \"dvd\", \"dvd\", \"dvd\", \"dvd\", \"dvd\", \"ear\", \"ear\", \"easy\", \"easy\", \"easy\", \"easy\", \"easy\", \"easy\", \"easy\", \"easy\", \"ed\", \"ed\", \"edge\", \"edge\", \"edge\", \"edge\", \"edge\", \"edge\", \"edge\", \"edge\", \"elderly\", \"ending\", \"ending\", \"ending\", \"ending\", \"ending\", \"ending\", \"ending\", \"ending\", \"enjoyable\", \"enjoyable\", \"enjoyable\", \"enjoyable\", \"enjoyable\", \"enjoyable\", \"enjoyable\", \"episodes\", \"episodes\", \"episodes\", \"episodes\", \"episodes\", \"episodes\", \"es\", \"even\", \"even\", \"even\", \"even\", \"even\", \"even\", \"even\", \"even\", \"ever\", \"ever\", \"ever\", \"ever\", \"ever\", \"ever\", \"ever\", \"ever\", \"everyone\", \"everyone\", \"everyone\", \"everyone\", \"everyone\", \"everyone\", \"everyone\", \"everyone\", \"exam\", \"exam\", \"excellent\", \"excellent\", \"excellent\", \"excellent\", \"excellent\", \"excellent\", \"excellent\", \"excellent\", \"exposure\", \"exposure\", \"family\", \"family\", \"family\", \"family\", \"family\", \"family\", \"family\", \"family\", \"fan\", \"fan\", \"fan\", \"fan\", \"fan\", \"fan\", \"fan\", \"fan\", \"far\", \"far\", \"far\", \"far\", \"far\", \"far\", \"far\", \"far\", \"favorite\", \"favorite\", \"favorite\", \"favorite\", \"favorite\", \"favorite\", \"favorite\", \"favorite\", \"files\", \"film\", \"film\", \"film\", \"film\", \"film\", \"film\", \"film\", \"film\", \"filter\", \"filter\", \"filter\", \"find\", \"find\", \"find\", \"find\", \"find\", \"find\", \"find\", \"find\", \"firm\", \"firm\", \"firm\", \"first\", \"first\", \"first\", \"first\", \"first\", \"first\", \"first\", \"first\", \"fishing\", \"fitness\", \"florida\", \"florida\", \"flu\", \"found\", \"found\", \"found\", \"found\", \"found\", \"found\", \"found\", \"found\", \"frankly\", \"frankly\", \"freeze\", \"frozen\", \"fun\", \"fun\", \"fun\", \"fun\", \"fun\", \"fun\", \"fun\", \"fun\", \"funk\", \"funk\", \"fur\", \"game\", \"game\", \"game\", \"game\", \"game\", \"game\", \"game\", \"game\", \"games\", \"games\", \"games\", \"games\", \"games\", \"games\", \"games\", \"games\", \"gauge\", \"gauge\", \"georgia\", \"georgia\", \"georgia\", \"georgia\", \"get\", \"get\", \"get\", \"get\", \"get\", \"get\", \"get\", \"get\", \"gift\", \"gift\", \"gift\", \"gift\", \"gift\", \"gift\", \"gift\", \"gift\", \"glasses\", \"go\", \"go\", \"go\", \"go\", \"go\", \"go\", \"go\", \"go\", \"god\", \"god\", \"god\", \"god\", \"god\", \"god\", \"god\", \"god\", \"good\", \"good\", \"good\", \"good\", \"good\", \"good\", \"good\", \"good\", \"got\", \"got\", \"got\", \"got\", \"got\", \"got\", \"got\", \"got\", \"government\", \"grammar\", \"grandmother\", \"graphics\", \"graphics\", \"graphics\", \"graphics\", \"graphics\", \"graphics\", \"great\", \"great\", \"great\", \"great\", \"great\", \"great\", \"great\", \"great\", \"growth\", \"growth\", \"guide\", \"guide\", \"guide\", \"guide\", \"guide\", \"guide\", \"guide\", \"guitar\", \"guitar\", \"guitar\", \"guitar\", \"guitar\", \"guitar\", \"guitar\", \"guns\", \"hair\", \"hair\", \"hair\", \"hair\", \"hair\", \"hair\", \"hair\", \"hates\", \"heard\", \"heard\", \"heard\", \"heard\", \"heard\", \"heard\", \"heard\", \"heard\", \"helpful\", \"helpful\", \"helpful\", \"helpful\", \"helpful\", \"helpful\", \"helpful\", \"helpful\", \"helping\", \"history\", \"history\", \"history\", \"history\", \"history\", \"history\", \"history\", \"history\", \"hitch\", \"hitler\", \"hoffman\", \"horns\", \"hot\", \"hot\", \"hot\", \"hot\", \"hot\", \"hot\", \"hot\", \"hot\", \"hunting\", \"ice\", \"ice\", \"ice\", \"illustrations\", \"illustrations\", \"illustrations\", \"information\", \"information\", \"information\", \"information\", \"information\", \"information\", \"information\", \"innovative\", \"insane\", \"insane\", \"interesting\", \"interesting\", \"interesting\", \"interesting\", \"interesting\", \"interesting\", \"interesting\", \"interesting\", \"intrigue\", \"ireland\", \"item\", \"item\", \"item\", \"item\", \"item\", \"item\", \"item\", \"item\", \"japanese\", \"japanese\", \"japanese\", \"jean\", \"jeff\", \"jeff\", \"jesse\", \"jesus\", \"jesus\", \"jesus\", \"jesus\", \"jesus\", \"jewel\", \"jimmy\", \"jimmy\", \"johnny\", \"joseph\", \"josh\", \"journal\", \"journal\", \"jump\", \"jump\", \"junkie\", \"kenny\", \"kerry\", \"kerry\", \"kids\", \"kids\", \"kids\", \"kids\", \"kids\", \"kids\", \"kids\", \"kids\", \"kill\", \"kill\", \"kill\", \"kill\", \"killed\", \"kinds\", \"king\", \"king\", \"king\", \"king\", \"king\", \"king\", \"king\", \"king\", \"knife\", \"knife\", \"knife\", \"knife\", \"knives\", \"knives\", \"koontz\", \"la\", \"la\", \"la\", \"la\", \"la\", \"la\", \"labels\", \"lamp\", \"language\", \"language\", \"language\", \"language\", \"language\", \"language\", \"laptops\", \"large\", \"large\", \"large\", \"large\", \"large\", \"large\", \"large\", \"lasting\", \"law\", \"law\", \"law\", \"law\", \"law\", \"law\", \"leather\", \"lens\", \"lens\", \"les\", \"life\", \"life\", \"life\", \"life\", \"life\", \"life\", \"life\", \"life\", \"like\", \"like\", \"like\", \"like\", \"like\", \"like\", \"like\", \"like\", \"listener\", \"listener\", \"little\", \"little\", \"little\", \"little\", \"little\", \"little\", \"little\", \"little\", \"lively\", \"lively\", \"lively\", \"lodge\", \"london\", \"london\", \"london\", \"looks\", \"looks\", \"looks\", \"looks\", \"looks\", \"looks\", \"looks\", \"looks\", \"lord\", \"lord\", \"lord\", \"lord\", \"lord\", \"love\", \"love\", \"love\", \"love\", \"love\", \"love\", \"love\", \"love\", \"loved\", \"loved\", \"loved\", \"loved\", \"loved\", \"loved\", \"loved\", \"loved\", \"lullaby\", \"lyrically\", \"mad\", \"mailed\", \"make\", \"make\", \"make\", \"make\", \"make\", \"make\", \"make\", \"make\", \"man\", \"man\", \"man\", \"man\", \"man\", \"man\", \"man\", \"man\", \"manilow\", \"many\", \"many\", \"many\", \"many\", \"many\", \"many\", \"many\", \"many\", \"mario\", \"mat\", \"mattress\", \"mb\", \"mb\", \"mills\", \"mon\", \"monsters\", \"moon\", \"mormon\", \"motivating\", \"mouse\", \"mouse\", \"mouse\", \"mouse\", \"mouse\", \"movie\", \"movie\", \"movie\", \"movie\", \"movie\", \"movie\", \"movie\", \"movie\", \"mp\", \"mp\", \"mp\", \"mp\", \"mrs\", \"much\", \"much\", \"much\", \"much\", \"much\", \"much\", \"much\", \"much\", \"music\", \"music\", \"music\", \"music\", \"music\", \"music\", \"music\", \"music\", \"musically\", \"musicians\", \"musicians\", \"musicians\", \"musicians\", \"musicians\", \"must\", \"must\", \"must\", \"must\", \"must\", \"must\", \"must\", \"must\", \"mysteries\", \"nancy\", \"nancy\", \"necessary\", \"necessary\", \"necessary\", \"necessary\", \"neck\", \"neck\", \"need\", \"need\", \"need\", \"need\", \"need\", \"need\", \"need\", \"need\", \"net\", \"never\", \"never\", \"never\", \"never\", \"never\", \"never\", \"never\", \"never\", \"new\", \"new\", \"new\", \"new\", \"new\", \"new\", \"new\", \"new\", \"nice\", \"nice\", \"nice\", \"nice\", \"nice\", \"nice\", \"nice\", \"nice\", \"nick\", \"nintendo\", \"nintendo\", \"norelco\", \"noticing\", \"noticing\", \"novel\", \"novel\", \"novel\", \"novel\", \"novel\", \"novel\", \"novel\", \"novel\", \"old\", \"old\", \"old\", \"old\", \"old\", \"old\", \"old\", \"old\", \"one\", \"one\", \"one\", \"one\", \"one\", \"one\", \"one\", \"one\", \"orchestra\", \"organized\", \"organized\", \"organized\", \"organized\", \"organized\", \"oscar\", \"outdoor\", \"outfit\", \"outlet\", \"owners\", \"pages\", \"pages\", \"pages\", \"pages\", \"pages\", \"pages\", \"pages\", \"painful\", \"painful\", \"pants\", \"pants\", \"par\", \"parenting\", \"parenting\", \"partner\", \"pedometer\", \"perfect\", \"perfect\", \"perfect\", \"perfect\", \"perfect\", \"perfect\", \"perfect\", \"perfect\", \"philosophical\", \"phone\", \"phone\", \"phone\", \"phone\", \"phones\", \"phones\", \"phones\", \"phones\", \"physical\", \"physical\", \"physical\", \"pilates\", \"pile\", \"pile\", \"pillow\", \"pilot\", \"pilot\", \"pirate\", \"plans\", \"plate\", \"plate\", \"play\", \"play\", \"play\", \"play\", \"play\", \"play\", \"play\", \"play\", \"played\", \"played\", \"played\", \"played\", \"played\", \"played\", \"played\", \"played\", \"player\", \"player\", \"player\", \"player\", \"player\", \"player\", \"player\", \"player\", \"playing\", \"playing\", \"playing\", \"playing\", \"playing\", \"playing\", \"playing\", \"playing\", \"plugged\", \"poker\", \"poker\", \"pool\", \"possibility\", \"posted\", \"poster\", \"potter\", \"potter\", \"potter\", \"potter\", \"powder\", \"premium\", \"preparing\", \"price\", \"price\", \"price\", \"price\", \"price\", \"price\", \"price\", \"price\", \"printer\", \"printing\", \"product\", \"product\", \"product\", \"product\", \"product\", \"product\", \"product\", \"product\", \"progress\", \"punks\", \"python\", \"quality\", \"quality\", \"quality\", \"quality\", \"quality\", \"quality\", \"quality\", \"quality\", \"que\", \"que\", \"ray\", \"ray\", \"ray\", \"ray\", \"ray\", \"ray\", \"read\", \"read\", \"read\", \"read\", \"read\", \"read\", \"read\", \"read\", \"reader\", \"reader\", \"reader\", \"reader\", \"reader\", \"reader\", \"reader\", \"reader\", \"reading\", \"reading\", \"reading\", \"reading\", \"reading\", \"reading\", \"reading\", \"reading\", \"really\", \"really\", \"really\", \"really\", \"really\", \"really\", \"really\", \"really\", \"recharge\", \"recharge\", \"recipient\", \"recommend\", \"recommend\", \"recommend\", \"recommend\", \"recommend\", \"recommend\", \"recommend\", \"recommend\", \"recommendations\", \"reed\", \"region\", \"reliable\", \"reliable\", \"remake\", \"remarkable\", \"remarkable\", \"remington\", \"repair\", \"repeats\", \"resolution\", \"resolution\", \"resource\", \"resource\", \"resource\", \"resource\", \"resource\", \"resource\", \"reveals\", \"rhino\", \"rick\", \"riff\", \"riot\", \"rise\", \"rise\", \"rockin\", \"romance\", \"romance\", \"romance\", \"romance\", \"romance\", \"romance\", \"romance\", \"rounded\", \"router\", \"rules\", \"rules\", \"rules\", \"rules\", \"rules\", \"rules\", \"rules\", \"saves\", \"scores\", \"scratches\", \"scream\", \"se\", \"se\", \"season\", \"season\", \"season\", \"season\", \"season\", \"season\", \"season\", \"seasons\", \"seasons\", \"seasons\", \"seasons\", \"seats\", \"see\", \"see\", \"see\", \"see\", \"see\", \"see\", \"see\", \"see\", \"seek\", \"seeks\", \"seen\", \"seen\", \"seen\", \"seen\", \"seen\", \"seen\", \"seen\", \"seen\", \"selections\", \"sentences\", \"series\", \"series\", \"series\", \"series\", \"series\", \"series\", \"series\", \"series\", \"serve\", \"service\", \"service\", \"service\", \"service\", \"service\", \"service\", \"service\", \"service\", \"set\", \"set\", \"set\", \"set\", \"set\", \"set\", \"set\", \"set\", \"sewing\", \"sexy\", \"shakespeare\", \"shampoo\", \"sharp\", \"sharp\", \"sharp\", \"sharp\", \"sharp\", \"sharp\", \"sharp\", \"sharp\", \"shaver\", \"shaver\", \"shiny\", \"shiny\", \"shirt\", \"shirt\", \"shoes\", \"shoes\", \"shoes\", \"shoes\", \"shoes\", \"shorts\", \"shoulder\", \"show\", \"show\", \"show\", \"show\", \"show\", \"show\", \"show\", \"show\", \"showcases\", \"showcases\", \"side\", \"side\", \"side\", \"side\", \"side\", \"side\", \"side\", \"sin\", \"singers\", \"skin\", \"skin\", \"skin\", \"skin\", \"skin\", \"skin\", \"skin\", \"skin\", \"slide\", \"slide\", \"slide\", \"small\", \"small\", \"small\", \"small\", \"small\", \"small\", \"small\", \"small\", \"soldier\", \"soldier\", \"soldier\", \"soldier\", \"solo\", \"solo\", \"solo\", \"somewhere\", \"song\", \"song\", \"song\", \"song\", \"song\", \"song\", \"song\", \"song\", \"songs\", \"songs\", \"songs\", \"songs\", \"songs\", \"songs\", \"songs\", \"songs\", \"sound\", \"sound\", \"sound\", \"sound\", \"sound\", \"sound\", \"sound\", \"sound\", \"sounds\", \"sounds\", \"sounds\", \"sounds\", \"sounds\", \"sounds\", \"sounds\", \"sounds\", \"soundtrack\", \"soundtrack\", \"soundtrack\", \"soundtrack\", \"soundtrack\", \"south\", \"south\", \"spanish\", \"spanish\", \"sparks\", \"speakers\", \"speakers\", \"speakers\", \"speakers\", \"spectacular\", \"spending\", \"spending\", \"spends\", \"splendid\", \"spoke\", \"sports\", \"spots\", \"stereo\", \"stereo\", \"stereo\", \"stereo\", \"still\", \"still\", \"still\", \"still\", \"still\", \"still\", \"still\", \"still\", \"stir\", \"stories\", \"stories\", \"stories\", \"stories\", \"stories\", \"stories\", \"stories\", \"stories\", \"story\", \"story\", \"story\", \"story\", \"story\", \"story\", \"story\", \"story\", \"sue\", \"suggestions\", \"suggests\", \"sung\", \"tab\", \"tales\", \"tales\", \"tales\", \"tales\", \"tales\", \"tales\", \"tea\", \"tea\", \"tea\", \"tea\", \"tea\", \"teach\", \"teach\", \"teach\", \"teach\", \"teach\", \"teach\", \"teach\", \"ted\", \"teenager\", \"teenager\", \"think\", \"think\", \"think\", \"think\", \"think\", \"think\", \"think\", \"think\", \"tighter\", \"tim\", \"tim\", \"time\", \"time\", \"time\", \"time\", \"time\", \"time\", \"time\", \"time\", \"tips\", \"tips\", \"tips\", \"tips\", \"tips\", \"tips\", \"tips\", \"toddlers\", \"toilet\", \"tool\", \"tool\", \"tool\", \"tool\", \"tool\", \"tool\", \"tool\", \"tool\", \"toto\", \"tower\", \"track\", \"track\", \"track\", \"track\", \"track\", \"track\", \"track\", \"track\", \"transfer\", \"transfer\", \"transfer\", \"transfer\", \"transfer\", \"transfer\", \"translated\", \"translated\", \"trilogy\", \"trilogy\", \"trilogy\", \"trilogy\", \"tripod\", \"true\", \"true\", \"true\", \"true\", \"true\", \"true\", \"true\", \"true\", \"tub\", \"tub\", \"tub\", \"tv\", \"tv\", \"tv\", \"tv\", \"tv\", \"tv\", \"tv\", \"tv\", \"two\", \"two\", \"two\", \"two\", \"two\", \"two\", \"two\", \"two\", \"update\", \"ur\", \"ur\", \"ur\", \"use\", \"use\", \"use\", \"use\", \"use\", \"use\", \"use\", \"use\", \"used\", \"used\", \"used\", \"used\", \"used\", \"used\", \"used\", \"used\", \"using\", \"using\", \"using\", \"using\", \"using\", \"using\", \"using\", \"using\", \"vacuum\", \"vacuum\", \"vacuum\", \"vacuum\", \"verse\", \"version\", \"version\", \"version\", \"version\", \"version\", \"version\", \"version\", \"version\", \"video\", \"video\", \"video\", \"video\", \"video\", \"video\", \"video\", \"video\", \"vin\", \"vincent\", \"volt\", \"vs\", \"walking\", \"walking\", \"walking\", \"walking\", \"walking\", \"wallet\", \"want\", \"want\", \"want\", \"want\", \"want\", \"want\", \"want\", \"want\", \"warmer\", \"watch\", \"watch\", \"watch\", \"watch\", \"watch\", \"watch\", \"watch\", \"watch\", \"watching\", \"watching\", \"watching\", \"watching\", \"watching\", \"watching\", \"watching\", \"watching\", \"water\", \"water\", \"water\", \"water\", \"water\", \"water\", \"water\", \"water\", \"way\", \"way\", \"way\", \"way\", \"way\", \"way\", \"way\", \"way\", \"wayne\", \"wayne\", \"wayne\", \"wayne\", \"weather\", \"weather\", \"weather\", \"weather\", \"weather\", \"weather\", \"web\", \"web\", \"web\", \"web\", \"web\", \"web\", \"weber\", \"well\", \"well\", \"well\", \"well\", \"well\", \"well\", \"well\", \"well\", \"wheel\", \"wheel\", \"wheel\", \"wheel\", \"wheel\", \"wider\", \"wii\", \"william\", \"winds\", \"wire\", \"wire\", \"wire\", \"wire\", \"witness\", \"wizard\", \"wondered\", \"wonderful\", \"wonderful\", \"wonderful\", \"wonderful\", \"wonderful\", \"wonderful\", \"wonderful\", \"wonderful\", \"worked\", \"worked\", \"worked\", \"worked\", \"worked\", \"worked\", \"worked\", \"worked\", \"works\", \"works\", \"works\", \"works\", \"works\", \"works\", \"works\", \"works\", \"world\", \"world\", \"world\", \"world\", \"world\", \"world\", \"world\", \"world\", \"worth\", \"worth\", \"worth\", \"worth\", \"worth\", \"worth\", \"worth\", \"worth\", \"would\", \"would\", \"would\", \"would\", \"would\", \"would\", \"would\", \"would\", \"writing\", \"writing\", \"writing\", \"writing\", \"writing\", \"writing\", \"writing\", \"writing\", \"written\", \"written\", \"written\", \"written\", \"written\", \"written\", \"written\", \"written\", \"ww\", \"years\", \"years\", \"years\", \"years\", \"years\", \"years\", \"years\", \"years\", \"yoga\", \"yoga\", \"young\", \"young\", \"young\", \"young\", \"young\", \"young\", \"young\", \"young\", \"youth\", \"youth\", \"zero\"]}, \"R\": 30, \"lambda.step\": 0.01, \"plot.opts\": {\"xlab\": \"PC1\", \"ylab\": \"PC2\"}, \"topic.order\": [6, 5, 3, 1, 7, 2, 8, 4]};\n",
              "\n",
              "function LDAvis_load_lib(url, callback){\n",
              "  var s = document.createElement('script');\n",
              "  s.src = url;\n",
              "  s.async = true;\n",
              "  s.onreadystatechange = s.onload = callback;\n",
              "  s.onerror = function(){console.warn(\"failed to load library \" + url);};\n",
              "  document.getElementsByTagName(\"head\")[0].appendChild(s);\n",
              "}\n",
              "\n",
              "if(typeof(LDAvis) !== \"undefined\"){\n",
              "   // already loaded: just create the visualization\n",
              "   !function(LDAvis){\n",
              "       new LDAvis(\"#\" + \"ldavis_el9901397267937594244707131711\", ldavis_el9901397267937594244707131711_data);\n",
              "   }(LDAvis);\n",
              "}else if(typeof define === \"function\" && define.amd){\n",
              "   // require.js is available: use it to load d3/LDAvis\n",
              "   require.config({paths: {d3: \"https://cdnjs.cloudflare.com/ajax/libs/d3/3.5.5/d3.min\"}});\n",
              "   require([\"d3\"], function(d3){\n",
              "      window.d3 = d3;\n",
              "      LDAvis_load_lib(\"https://cdn.rawgit.com/bmabey/pyLDAvis/files/ldavis.v1.0.0.js\", function(){\n",
              "        new LDAvis(\"#\" + \"ldavis_el9901397267937594244707131711\", ldavis_el9901397267937594244707131711_data);\n",
              "      });\n",
              "    });\n",
              "}else{\n",
              "    // require.js not available: dynamically load d3 & LDAvis\n",
              "    LDAvis_load_lib(\"https://cdnjs.cloudflare.com/ajax/libs/d3/3.5.5/d3.min.js\", function(){\n",
              "         LDAvis_load_lib(\"https://cdn.rawgit.com/bmabey/pyLDAvis/files/ldavis.v1.0.0.js\", function(){\n",
              "                 new LDAvis(\"#\" + \"ldavis_el9901397267937594244707131711\", ldavis_el9901397267937594244707131711_data);\n",
              "            })\n",
              "         });\n",
              "}\n",
              "</script>"
            ]
          },
          "metadata": {},
          "execution_count": 34
        }
      ]
    },
    {
      "cell_type": "code",
      "source": [
        "# Compute coherence score\n",
        "coherence_model_lda = CoherenceModel(model=lda_gensim_tf_idf1, texts=text1, dictionary=dictionary1, coherence='c_v')\n",
        "coherence_lda = coherence_model_lda.get_coherence()\n",
        "\n",
        "print('Coherence Score: ', coherence_lda)"
      ],
      "metadata": {
        "colab": {
          "base_uri": "https://localhost:8080/"
        },
        "id": "7IJDApNhtwTN",
        "outputId": "c529be3a-ff7c-4284-94d7-4e1bfc33ba03"
      },
      "execution_count": null,
      "outputs": [
        {
          "output_type": "stream",
          "name": "stdout",
          "text": [
            "Coherence Score:  0.38247133741505723\n"
          ]
        }
      ]
    },
    {
      "cell_type": "code",
      "source": [
        "#lda solo su unigram: cambiamo i connotati, ovvero usa 2 text representation, fai text classification con cui, dal modello migliore vai ad estrarre le etichette binarie predette e ci costruisci un dataset, su cui ci costruirai due modelli di topic modelling: il primo per le features classificate come positive e il secondo per quelle classificate come negative"
      ],
      "metadata": {
        "id": "SaJq3iD3JWBK"
      },
      "execution_count": null,
      "outputs": []
    },
    {
      "cell_type": "code",
      "source": [
        "#stampo per ogni topic identificato una coppia rappresentante parola e peso della parola nel topic\n",
        "topics_tfidf_1 = lda_gensim_tf_idf1.show_topics(num_topics=8, num_words=5, formatted=False)\n",
        "for topic in topics_tfidf_1:\n",
        "  print(topic)"
      ],
      "metadata": {
        "colab": {
          "base_uri": "https://localhost:8080/"
        },
        "outputId": "4a3b3361-cc79-4178-ab9e-f0c0aa1d169f",
        "id": "ftJJvW-bYA_w"
      },
      "execution_count": null,
      "outputs": [
        {
          "output_type": "stream",
          "name": "stdout",
          "text": [
            "(0, [('book', 0.014655346), ('great', 0.01401406), ('good', 0.00948391), ('use', 0.009209169), ('well', 0.008453784)])\n",
            "(1, [('one', 0.01437289), ('book', 0.01285081), ('good', 0.009091193), ('great', 0.0067436663), ('first', 0.0055009658)])\n",
            "(2, [('good', 0.015469583), ('cd', 0.013498616), ('one', 0.0110894665), ('movie', 0.009252334), ('album', 0.009245444)])\n",
            "(3, [('set', 0.014400235), ('great', 0.011744349), ('love', 0.011547716), ('get', 0.008662859), ('season', 0.008544095)])\n",
            "(4, [('great', 0.028739598), ('one', 0.0140310535), ('good', 0.011542756), ('music', 0.010027345), ('like', 0.009043245)])\n",
            "(5, [('book', 0.057214677), ('read', 0.02357927), ('great', 0.014305322), ('story', 0.010215464), ('one', 0.009243578)])\n",
            "(6, [('game', 0.016077274), ('movie', 0.013656638), ('like', 0.0113770235), ('great', 0.01061408), ('one', 0.010232161)])\n",
            "(7, [('great', 0.0147160115), ('like', 0.012648793), ('time', 0.008169534), ('good', 0.0077015725), ('one', 0.00767806)])\n"
          ]
        }
      ]
    },
    {
      "cell_type": "code",
      "source": [
        "num_topics = 8\n",
        "n_top_sentences = 3\n",
        "threshold = 0.7\n",
        "\n",
        "sentence_topic_distributions_tfidf1 = [lda_gensim_tf_idf1[c] for c in corpus1] #calcolo la distribuzione di probabilitàdi appartenenza per ogni frase del corpus ad un topic\n",
        "for topic_id in range(num_topics):\n",
        "    sentences = []\n",
        "    for i, dist in enumerate(sentence_topic_distributions_tfidf1):\n",
        "        if max([p for t, p in dist]) >= threshold and topic_id in [t for t, p in dist]: #per ogni topic, verifico quali frasi sono oltre il threshold e le inserisco nella lista\n",
        "            sentences.append(\" \".join(text1[i]))\n",
        "\n",
        "    # print the selected sentences for this topic\n",
        "    print(\"Topic\", topic_id)\n",
        "    for i, sentence in enumerate(sentences[:n_top_sentences]):\n",
        "        print(f\"\\t{i+1}. {sentence}\")"
      ],
      "metadata": {
        "colab": {
          "base_uri": "https://localhost:8080/"
        },
        "id": "WSZ6DCSrYa7Z",
        "outputId": "3c98629a-7479-472a-fd48-963571fa131f"
      },
      "execution_count": null,
      "outputs": [
        {
          "output_type": "stream",
          "name": "stdout",
          "text": [
            "Topic 0\n",
            "\t1. upgrade dead gamer loves play old games every year played xcom ufo defence game would possible since upgrade hardware rather frequently hope ea management react protest storm rethink drm policy\n",
            "\t2. smallville vol metroplis mix love cd nice variety artist cool tunes cruising hanging\n",
            "\t3. static shmatic yes hear static sound voice programming easy controls intuitive especially scrolling phone book even use extra mailboxes store memos problems range either excellent value features\n",
            "Topic 1\n",
            "\t1. aircraft profile volume relates concise detailed histories famous infamous airplanes ages nations stick string biplane scouts world war one supersonic jet fighter present era written illustrated authoritatively world renownedauthors artists volume contains photographs plus pages full color artwork detailing five view side view camouflageschemes squadron insignia pilot personal motifs excellent\n",
            "\t2. great book graduating students teachers witty fast paced story senior year high school students camping field trip turns rite passage participants characters well developed plot subplots keep reader riveted throughout students recent graduates teachers connect humorous adventure great summer read buy enjoy\n",
            "\t3. smallville vol metroplis mix love cd nice variety artist cool tunes cruising hanging\n",
            "Topic 2\n",
            "\t1. different good way opinion cd good shows ashanti way wished wouldve seen sooner cd gave chills first heard knew ashanti wanted prove album certainly best songs certainly breakup makeup living life although think overdid end breakup makeup vocals lyrics match perfectly beats make must album gave stars cause skits intros outros really werent workin corny brought level classiness cd\n",
            "\t2. still best though critics claim britney declining would say otherwise th album hands best yet music catchy song got boom boom many others way songs sound childish alot previous albums may bit racy go overboard listening album convinced britney going away still best buy album\n",
            "\t3. movie win oscars mean funny film well written cutting edge clerks ii still provides viewer lot laughs especially enjoyed wayans brothers work first two scary movies woefully short lived sitcom years back type comedy film go escape grounded reality present humor makes think something watch knowing full well laugh personally take raucous yet little promoted movie overhyped star studded comedies like break dupree day\n",
            "Topic 3\n",
            "\t1. smallville vol metroplis mix love cd nice variety artist cool tunes cruising hanging\n",
            "\t2. best collector box ever asside containing seasons set come one coolest boxes ever looks like box show markings hidden compartments held together magnets bonuses fun liked show really like set never seen show sure thinking getting box set great show worth watch\n",
            "\t3. sirius satellite home kit sirius satellite home kit easy hook use plugged connections sterio receiver business buy cables\n",
            "Topic 4\n",
            "\t1. great product great price fabulous product portable sound little overhyped really still adequate happy purchase\n",
            "\t2. smallville vol metroplis mix love cd nice variety artist cool tunes cruising hanging\n",
            "\t3. good price happy picture quality overall functionality look sound quality bad speakers buzz frequencies especially talk shows attached external speakers earphone plug back solved problem perhaps could use better external tuner future brief set good excellent monitor great stand alone tv system point time good value price\n",
            "Topic 5\n",
            "\t1. aircraft profile volume relates concise detailed histories famous infamous airplanes ages nations stick string biplane scouts world war one supersonic jet fighter present era written illustrated authoritatively world renownedauthors artists volume contains photographs plus pages full color artwork detailing five view side view camouflageschemes squadron insignia pilot personal motifs excellent\n",
            "\t2. great book graduating students teachers witty fast paced story senior year high school students camping field trip turns rite passage participants characters well developed plot subplots keep reader riveted throughout students recent graduates teachers connect humorous adventure great summer read buy enjoy\n",
            "\t3. beautiful daughter loved book since one pored illustrations still always new things see picture story wonderful highly recommended\n",
            "Topic 6\n",
            "\t1. gorgeous new orleans inflected r b although always loved doug sahm records never really thought voice blown away tunes cd warm delicious vocals surrounded wonderful horn sections one listen long time come\n",
            "\t2. amazing book book one time favourites gibbons writes passion shows book characters amazing well structured sad action packed book flawless nothing short stunning\n",
            "\t3. upgrade dead gamer loves play old games every year played xcom ufo defence game would possible since upgrade hardware rather frequently hope ea management react protest storm rethink drm policy\n",
            "Topic 7\n",
            "\t1. smallville vol metroplis mix love cd nice variety artist cool tunes cruising hanging\n",
            "\t2. everything pan bought pan versatility size perfect one person cookware cuisinart knew quality would good\n",
            "\t3. wanted working great think may stone age dvr recorder still meets needs upgrade\n"
          ]
        }
      ]
    },
    {
      "cell_type": "markdown",
      "source": [
        "#####d2v"
      ],
      "metadata": {
        "id": "nWKB78fouWbK"
      }
    },
    {
      "cell_type": "markdown",
      "source": [
        "######recensioni classificate come negative"
      ],
      "metadata": {
        "id": "ThHa8hXdyWOT"
      }
    },
    {
      "cell_type": "code",
      "source": [
        "d2v_0 = d2v_value_0['test_text']"
      ],
      "metadata": {
        "id": "JUEBZp2fuZVZ"
      },
      "execution_count": null,
      "outputs": []
    },
    {
      "cell_type": "code",
      "source": [
        "l_d2v_0 = d2v_0.tolist() "
      ],
      "metadata": {
        "id": "_swCoOAJu10m"
      },
      "execution_count": null,
      "outputs": []
    },
    {
      "cell_type": "code",
      "source": [
        "size2 = len(l_d2v_0)"
      ],
      "metadata": {
        "id": "CpMZDe3ivEf1"
      },
      "execution_count": null,
      "outputs": []
    },
    {
      "cell_type": "code",
      "source": [
        "text2=[]\n",
        "for x in range(0,size2):\n",
        "  text2.append(list(l_d2v_0[x].split()))"
      ],
      "metadata": {
        "id": "ihk5vQC_vKRp"
      },
      "execution_count": null,
      "outputs": []
    },
    {
      "cell_type": "code",
      "source": [
        "doc_id = 0\n",
        "l_d2v_0[doc_id]"
      ],
      "metadata": {
        "colab": {
          "base_uri": "https://localhost:8080/",
          "height": 53
        },
        "id": "B4yrRiHEvSZG",
        "outputId": "555bf6df-f038-4842-b76d-648e41025007"
      },
      "execution_count": null,
      "outputs": [
        {
          "output_type": "execute_result",
          "data": {
            "text/plain": [
              "'potential disappointment saw lucy lui antonio banderas going action film together excited actors high list quality artists imagine dismay watched movie realized horribly plotted poorly constructed bomb banderas ecks lui sever one dimensional robots screen dialogue forced action scenes thrown time time liven things plot weak best even bad guy miscast unconvincing unless diehard fan either lui banderas avoid wasting time sitting movie beginning end bad'"
            ],
            "application/vnd.google.colaboratory.intrinsic+json": {
              "type": "string"
            }
          },
          "metadata": {},
          "execution_count": 42
        }
      ]
    },
    {
      "cell_type": "code",
      "source": [
        "text2[doc_id][:5]"
      ],
      "metadata": {
        "colab": {
          "base_uri": "https://localhost:8080/"
        },
        "id": "DLMZHKFHvZ4i",
        "outputId": "80174d2e-b039-485a-a995-7812a41618c6"
      },
      "execution_count": null,
      "outputs": [
        {
          "output_type": "execute_result",
          "data": {
            "text/plain": [
              "['potential', 'disappointment', 'saw', 'lucy', 'lui']"
            ]
          },
          "metadata": {},
          "execution_count": 43
        }
      ]
    },
    {
      "cell_type": "code",
      "source": [
        "dictionary2 = Dictionary(text2)\n",
        "dictionary2.filter_extremes(no_below=5, no_above=0.5)"
      ],
      "metadata": {
        "id": "A70wOm98vhzg"
      },
      "execution_count": null,
      "outputs": []
    },
    {
      "cell_type": "code",
      "source": [
        "corpus2 = [dictionary2.doc2bow(i) for i in text2]"
      ],
      "metadata": {
        "id": "vCX3TxOwvnBp"
      },
      "execution_count": null,
      "outputs": []
    },
    {
      "cell_type": "code",
      "source": [
        "[(dictionary2[k], v) for k, v in corpus2[0][:5]]"
      ],
      "metadata": {
        "colab": {
          "base_uri": "https://localhost:8080/"
        },
        "id": "1KNBvG8TvwoR",
        "outputId": "f4cacc04-9765-485a-ca30-281622cc9a4a"
      },
      "execution_count": null,
      "outputs": [
        {
          "output_type": "execute_result",
          "data": {
            "text/plain": [
              "[('action', 2), ('actors', 1), ('artists', 1), ('avoid', 1), ('bad', 2)]"
            ]
          },
          "metadata": {},
          "execution_count": 46
        }
      ]
    },
    {
      "cell_type": "code",
      "source": [
        "lda_gensim_d2v_0 = LdaModel(corpus2, num_topics=8, id2word=dictionary2, random_state=28)"
      ],
      "metadata": {
        "colab": {
          "base_uri": "https://localhost:8080/"
        },
        "id": "8EeXdxwjv4ck",
        "outputId": "f2c85062-2875-4368-9209-a33786e58203"
      },
      "execution_count": null,
      "outputs": [
        {
          "output_type": "stream",
          "name": "stderr",
          "text": [
            "WARNING:gensim.models.ldamodel:too few updates, training might not converge; consider increasing the number of passes or iterations to improve accuracy\n"
          ]
        }
      ]
    },
    {
      "cell_type": "code",
      "source": [
        "pyLDAvis.gensim.prepare(lda_gensim_d2v_0, corpus2, dictionary2, mds='tsne')"
      ],
      "metadata": {
        "colab": {
          "base_uri": "https://localhost:8080/",
          "height": 862
        },
        "id": "M11JxiupwKX7",
        "outputId": "0b7dae55-fd77-49ff-9ff7-3afc026737b5"
      },
      "execution_count": null,
      "outputs": [
        {
          "output_type": "execute_result",
          "data": {
            "text/plain": [
              "PreparedData(topic_coordinates=                x           y  topics  cluster       Freq\n",
              "topic                                                    \n",
              "0     -108.958252 -208.941483       1        1  20.624536\n",
              "2      186.487061  -98.103249       2        1  15.375011\n",
              "4       19.245832  160.858780       3        1  14.527251\n",
              "6      170.658829   75.445076       4        1  13.578236\n",
              "7       -1.386411  -35.043739       5        1  12.706657\n",
              "1     -145.800095  106.944611       6        1   9.392306\n",
              "3       64.834541 -221.825272       7        1   8.090632\n",
              "5     -196.906036  -58.990913       8        1   5.705372, topic_info=        Term         Freq        Total Category  logprob  loglift\n",
              "54      book  5697.000000  5697.000000  Default  30.0000  30.0000\n",
              "29     movie  2115.000000  2115.000000  Default  29.0000  29.0000\n",
              "201  product  1768.000000  1768.000000  Default  28.0000  28.0000\n",
              "251    album   713.000000   713.000000  Default  27.0000  27.0000\n",
              "87      read  1911.000000  1911.000000  Default  26.0000  26.0000\n",
              "..       ...          ...          ...      ...      ...      ...\n",
              "215     used    80.338950   926.665620   Topic8  -5.6683   0.4184\n",
              "42      time    93.846960  2261.375857   Topic8  -5.5129  -0.3183\n",
              "187   little    78.160337   900.692103   Topic8  -5.6958   0.4194\n",
              "141      buy    83.069995  1766.935154   Topic8  -5.6349  -0.1936\n",
              "163     like    79.762130  3240.697120   Topic8  -5.6755  -0.8407\n",
              "\n",
              "[728 rows x 6 columns], token_table=      Topic      Freq        Term\n",
              "term                             \n",
              "2682      4  0.958303          ac\n",
              "4328      2  0.033708  acceptable\n",
              "4328      6  0.033708  acceptable\n",
              "4328      7  0.910123  acceptable\n",
              "1288      1  0.167659      acting\n",
              "...     ...       ...         ...\n",
              "318       7  0.222706     written\n",
              "318       8  0.005614     written\n",
              "5789      8  0.904659         zip\n",
              "4338      8  0.939440      zipper\n",
              "1730      2  0.972124      zombie\n",
              "\n",
              "[2199 rows x 3 columns], R=30, lambda_step=0.01, plot_opts={'xlab': 'PC1', 'ylab': 'PC2'}, topic_order=[1, 3, 5, 7, 8, 2, 4, 6])"
            ],
            "text/html": [
              "\n",
              "<link rel=\"stylesheet\" type=\"text/css\" href=\"https://cdn.rawgit.com/bmabey/pyLDAvis/files/ldavis.v1.0.0.css\">\n",
              "\n",
              "\n",
              "<div id=\"ldavis_el990139726793756960117415696\"></div>\n",
              "<script type=\"text/javascript\">\n",
              "\n",
              "var ldavis_el990139726793756960117415696_data = {\"mdsDat\": {\"x\": [-108.958251953125, 186.487060546875, 19.245832443237305, 170.65882873535156, -1.3864107131958008, -145.8000946044922, 64.83454132080078, -196.90603637695312], \"y\": [-208.9414825439453, -98.1032485961914, 160.85877990722656, 75.44507598876953, -35.043739318847656, 106.94461059570312, -221.8252716064453, -58.99091339111328], \"topics\": [1, 2, 3, 4, 5, 6, 7, 8], \"cluster\": [1, 1, 1, 1, 1, 1, 1, 1], \"Freq\": [20.624536490128044, 15.375010583583986, 14.527250545927481, 13.578235653037515, 12.706656895190815, 9.392306217946578, 8.090631980346021, 5.705371633839561]}, \"tinfo\": {\"Term\": [\"book\", \"movie\", \"product\", \"album\", \"read\", \"cd\", \"film\", \"dvd\", \"amazon\", \"songs\", \"author\", \"reading\", \"coffee\", \"use\", \"characters\", \"information\", \"story\", \"well\", \"books\", \"written\", \"one\", \"small\", \"service\", \"fit\", \"item\", \"plastic\", \"bag\", \"bought\", \"plot\", \"broke\", \"doll\", \"map\", \"dies\", \"faces\", \"kettle\", \"ruins\", \"johnny\", \"scale\", \"compelling\", \"vinyl\", \"dress\", \"surprises\", \"rail\", \"talentless\", \"spout\", \"closely\", \"thumbs\", \"harris\", \"thicker\", \"salon\", \"borrowed\", \"cream\", \"memorable\", \"snapped\", \"chords\", \"reception\", \"piano\", \"unplug\", \"coating\", \"cocoa\", \"milk\", \"gel\", \"formula\", \"leather\", \"dried\", \"stainless\", \"noticeable\", \"cleaning\", \"cant\", \"gas\", \"lid\", \"suction\", \"plastic\", \"hair\", \"cheap\", \"spring\", \"garbage\", \"flimsy\", \"magnet\", \"water\", \"game\", \"bass\", \"apart\", \"bought\", \"sound\", \"waste\", \"away\", \"would\", \"money\", \"battery\", \"time\", \"like\", \"used\", \"quality\", \"get\", \"first\", \"terrible\", \"junk\", \"inside\", \"even\", \"good\", \"stay\", \"set\", \"worth\", \"could\", \"one\", \"use\", \"back\", \"thing\", \"well\", \"buy\", \"product\", \"old\", \"got\", \"made\", \"great\", \"work\", \"way\", \"moments\", \"region\", \"messages\", \"manages\", \"cookbook\", \"disjointed\", \"nintendo\", \"cliched\", \"hillary\", \"tour\", \"challenging\", \"beer\", \"factual\", \"zombie\", \"vocabulary\", \"testament\", \"jvc\", \"describing\", \"inability\", \"reduced\", \"insane\", \"publication\", \"campaign\", \"prayer\", \"bell\", \"paced\", \"motivated\", \"suggests\", \"rhino\", \"agenda\", \"fascinating\", \"seek\", \"views\", \"clancy\", \"vampire\", \"sees\", \"vhs\", \"society\", \"score\", \"presents\", \"rules\", \"interview\", \"century\", \"edition\", \"novel\", \"law\", \"book\", \"chinese\", \"written\", \"tale\", \"church\", \"women\", \"ms\", \"dvd\", \"ray\", \"characters\", \"blu\", \"personal\", \"recipes\", \"read\", \"story\", \"author\", \"man\", \"character\", \"series\", \"books\", \"interesting\", \"published\", \"american\", \"history\", \"school\", \"fact\", \"life\", \"like\", \"boring\", \"new\", \"people\", \"find\", \"one\", \"two\", \"time\", \"much\", \"would\", \"never\", \"many\", \"know\", \"well\", \"good\", \"found\", \"get\", \"movie\", \"really\", \"could\", \"want\", \"even\", \"exam\", \"chicken\", \"hurts\", \"thermometer\", \"gaps\", \"opposed\", \"picks\", \"obscure\", \"involving\", \"reccomend\", \"teen\", \"avoided\", \"idiotic\", \"encourage\", \"pitt\", \"ram\", \"custom\", \"nonexistent\", \"official\", \"drag\", \"snake\", \"koontz\", \"gibson\", \"ought\", \"app\", \"oprah\", \"william\", \"winded\", \"vader\", \"honor\", \"disaster\", \"wing\", \"gary\", \"lens\", \"training\", \"collar\", \"animal\", \"gb\", \"consistently\", \"generic\", \"reading\", \"focus\", \"temperature\", \"porn\", \"errors\", \"south\", \"read\", \"soap\", \"book\", \"pages\", \"spell\", \"really\", \"first\", \"test\", \"found\", \"books\", \"one\", \"reviews\", \"work\", \"like\", \"another\", \"far\", \"much\", \"great\", \"going\", \"words\", \"story\", \"bad\", \"good\", \"many\", \"never\", \"would\", \"thought\", \"use\", \"something\", \"got\", \"better\", \"find\", \"time\", \"well\", \"buy\", \"even\", \"get\", \"dragon\", \"blender\", \"inspiring\", \"lloyd\", \"bias\", \"suffering\", \"pole\", \"orders\", \"downright\", \"ac\", \"smoothies\", \"crew\", \"hundred\", \"keith\", \"urge\", \"sooo\", \"es\", \"trees\", \"comfy\", \"surround\", \"drugs\", \"email\", \"threaded\", \"belkin\", \"pans\", \"adaptation\", \"li\", \"teenage\", \"bye\", \"barrel\", \"emailed\", \"overnight\", \"shoe\", \"service\", \"customer\", \"contacted\", \"seller\", \"refund\", \"shipping\", \"google\", \"camera\", \"amazon\", \"sent\", \"card\", \"warranty\", \"mp\", \"defective\", \"company\", \"send\", \"delivery\", \"item\", \"received\", \"ordered\", \"disk\", \"order\", \"watch\", \"video\", \"told\", \"return\", \"dvd\", \"player\", \"movie\", \"purchased\", \"replacement\", \"product\", \"get\", \"months\", \"would\", \"back\", \"never\", \"one\", \"got\", \"great\", \"buy\", \"new\", \"quality\", \"good\", \"time\", \"like\", \"money\", \"even\", \"use\", \"could\", \"dictionary\", \"mats\", \"teeth\", \"plane\", \"unacceptable\", \"hitch\", \"bratz\", \"sewing\", \"thier\", \"wouldnt\", \"hi\", \"slick\", \"boots\", \"hide\", \"horn\", \"rope\", \"bulbs\", \"researching\", \"stones\", \"decker\", \"financial\", \"waist\", \"cake\", \"stretched\", \"unlistenable\", \"valves\", \"korn\", \"bug\", \"gloves\", \"dolls\", \"bands\", \"toys\", \"album\", \"interface\", \"deluxe\", \"songs\", \"randomly\", \"radio\", \"listen\", \"band\", \"cd\", \"warner\", \"song\", \"soul\", \"lyrics\", \"musical\", \"signal\", \"laptop\", \"speaker\", \"singer\", \"music\", \"track\", \"pop\", \"phone\", \"voice\", \"sounds\", \"one\", \"drive\", \"buy\", \"hear\", \"filter\", \"hits\", \"bad\", \"fan\", \"sound\", \"audio\", \"good\", \"like\", \"really\", \"great\", \"recording\", \"even\", \"better\", \"would\", \"work\", \"another\", \"ever\", \"product\", \"get\", \"best\", \"much\", \"old\", \"bought\", \"think\", \"time\", \"first\", \"two\", \"groups\", \"legal\", \"chest\", \"stating\", \"sheets\", \"shaving\", \"laura\", \"discontinued\", \"candles\", \"scheme\", \"timer\", \"massage\", \"serving\", \"tap\", \"glasses\", \"visit\", \"cooker\", \"stolen\", \"hokey\", \"keyboard\", \"queen\", \"squeeze\", \"platform\", \"attack\", \"addresses\", \"rotate\", \"providing\", \"lit\", \"fuss\", \"terror\", \"truck\", \"airplane\", \"thriller\", \"mouse\", \"busy\", \"pants\", \"drama\", \"london\", \"critics\", \"fluid\", \"producer\", \"film\", \"rolling\", \"script\", \"hilarious\", \"acting\", \"reminds\", \"blues\", \"performances\", \"movie\", \"watching\", \"plot\", \"sense\", \"bible\", \"actors\", \"director\", \"wireless\", \"effects\", \"characters\", \"story\", \"scene\", \"horror\", \"funny\", \"good\", \"see\", \"like\", \"movies\", \"one\", \"could\", \"work\", \"bad\", \"character\", \"would\", \"someone\", \"think\", \"really\", \"many\", \"time\", \"even\", \"minutes\", \"much\", \"get\", \"make\", \"way\", \"use\", \"enough\", \"book\", \"better\", \"also\", \"first\", \"mic\", \"wind\", \"extraordinary\", \"locks\", \"jackson\", \"philosophical\", \"recommendations\", \"mixer\", \"immature\", \"apt\", \"staying\", \"whining\", \"oem\", \"spiritual\", \"excessive\", \"daddy\", \"grisham\", \"buggy\", \"ross\", \"advantage\", \"ho\", \"feed\", \"certification\", \"convenient\", \"deceptive\", \"repeating\", \"joseph\", \"disapointing\", \"victim\", \"similarly\", \"overview\", \"jeff\", \"que\", \"programming\", \"answers\", \"acceptable\", \"introduction\", \"win\", \"experts\", \"spanish\", \"printer\", \"max\", \"receipt\", \"de\", \"industry\", \"guide\", \"vs\", \"physics\", \"information\", \"web\", \"wasnt\", \"os\", \"beginners\", \"book\", \"college\", \"questions\", \"internet\", \"code\", \"kindle\", \"author\", \"page\", \"ink\", \"subject\", \"books\", \"want\", \"written\", \"read\", \"waste\", \"good\", \"much\", \"even\", \"money\", \"get\", \"time\", \"reader\", \"little\", \"content\", \"one\", \"better\", \"buy\", \"real\", \"think\", \"would\", \"nothing\", \"really\", \"like\", \"found\", \"many\", \"disappointed\", \"also\", \"jeans\", \"thread\", \"sims\", \"builds\", \"mon\", \"creativity\", \"shell\", \"krups\", \"zipper\", \"pot\", \"litter\", \"applies\", \"requiring\", \"dents\", \"pots\", \"polish\", \"promotional\", \"alex\", \"wrapping\", \"outer\", \"miles\", \"poster\", \"sleepy\", \"bmw\", \"evolve\", \"johnson\", \"purposes\", \"coffee\", \"elite\", \"dryer\", \"zip\", \"connections\", \"pumping\", \"carafe\", \"grind\", \"bag\", \"chair\", \"clay\", \"packaged\", \"diaper\", \"hose\", \"maker\", \"uncomfortable\", \"center\", \"larger\", \"clean\", \"small\", \"fit\", \"feet\", \"product\", \"hp\", \"size\", \"cup\", \"roll\", \"handle\", \"well\", \"use\", \"broke\", \"season\", \"made\", \"paper\", \"better\", \"good\", \"one\", \"love\", \"bought\", \"much\", \"design\", \"two\", \"would\", \"quality\", \"also\", \"pretty\", \"fine\", \"work\", \"even\", \"great\", \"used\", \"time\", \"little\", \"buy\", \"like\"], \"Freq\": [5697.0, 2115.0, 1768.0, 713.0, 1911.0, 1021.0, 715.0, 873.0, 733.0, 451.0, 705.0, 808.0, 176.0, 1309.0, 688.0, 363.0, 922.0, 1399.0, 770.0, 534.0, 4218.0, 359.0, 294.0, 375.0, 542.0, 357.0, 146.0, 1318.0, 455.0, 312.0, 64.98729112806984, 33.10530053828033, 30.061910057821024, 29.461950661260424, 38.37849120436679, 28.814778231702277, 28.624553172513693, 25.92038339062492, 24.620656950565145, 23.59634802727625, 23.2898426420538, 25.215105060047662, 22.80043937060537, 22.703172006076684, 24.60445592016686, 21.493650064423324, 36.14647377802349, 21.54390017879916, 25.972557071449856, 22.361873562066858, 19.698000784186874, 19.239775930755695, 19.05073046320638, 31.617820797446214, 18.84390057150233, 25.395976593831072, 18.705080745473268, 19.344742455651904, 21.722140880607018, 18.740461152794722, 49.368655957889274, 47.139443120796194, 41.92091991951894, 66.30826245406429, 25.429325754138844, 21.270176183634874, 23.050400222995133, 60.12650234061433, 77.25996811503254, 35.764775544011414, 59.91155235542667, 36.14866165131293, 245.01255845986884, 127.87883458427333, 254.13590197453811, 36.6514687057661, 168.81309217425215, 63.37173025023803, 34.267682865502906, 199.63048662588622, 376.76250934082043, 58.36282195163057, 115.46276624185802, 565.9796980232134, 332.2274724061145, 408.5015711121279, 269.3938464099421, 990.1101829048681, 569.1458590310081, 122.87805127372062, 770.0350727219899, 935.6618774120129, 367.0238399235678, 375.4078878383945, 681.3153718314393, 494.1463849570793, 218.29115648032658, 146.1794010524712, 129.58170482169567, 530.3074372151757, 660.7147093472275, 138.09299200728793, 207.47992990499617, 276.3305892236656, 397.7204755165956, 798.4082358273475, 366.04860641758654, 334.1447346476171, 265.2101628017126, 354.21760573910746, 397.28881350061806, 379.63178524292374, 276.8780567922786, 289.88725905183145, 281.77151194737104, 317.4951853304249, 309.32522595626915, 282.34793579871405, 58.65272288249957, 47.67868327945075, 39.619707551695534, 36.035989283251524, 32.749357093466756, 29.919566675896657, 32.23681510222048, 25.0084405444326, 29.30477169993702, 24.442595572627333, 23.8314584833782, 23.852418812763222, 32.836004311136904, 22.796351343984146, 27.292545415709185, 22.79321158187503, 20.51001707741567, 20.524717950788858, 21.07373664372581, 19.016154388670135, 20.572921782541933, 17.564163100369864, 17.498656825942266, 17.427471249105796, 20.227270644414567, 17.20459922206579, 18.000276239764215, 39.43687159640715, 20.051637350838433, 15.802003087225307, 46.47934523647589, 31.203550589049673, 27.209853459080623, 41.49567983643512, 34.248331701695, 22.802909998709463, 68.54762205256596, 38.1974409258263, 33.648788562593126, 31.993581143222407, 40.20407547800042, 34.88991590880528, 42.42296232726849, 115.86289930437981, 217.4096947811071, 61.709793034986276, 2406.9193170022554, 42.04478609972724, 299.859811278826, 70.39708606104439, 47.72466501344153, 112.66106440851233, 65.35685750909715, 405.0074048920191, 96.27413330958558, 332.73684595012213, 78.44486008086818, 63.99324112859913, 60.000375917004135, 620.6776605183819, 344.22604735754254, 279.5378843780086, 152.5492517228468, 165.077694320178, 189.42718618582424, 270.76823873044816, 160.12627670342644, 75.68267215310243, 106.8871714209997, 107.09801164611663, 104.89892299464526, 146.80799328769203, 177.666224776211, 522.7042390618949, 193.60538675659458, 261.9297919738471, 222.46626979935164, 220.68454875812228, 504.4395149445941, 230.29717583461138, 339.45822099039265, 284.12665855896614, 380.08006544276293, 240.03244519350787, 221.2312650804714, 214.9208577169863, 237.86132797298185, 277.4208418517964, 183.20198477791388, 244.6963547391963, 234.74958837751913, 222.17908281959075, 208.87990433634133, 187.65086531649666, 187.7238989927036, 73.51329456116221, 32.525450812730476, 28.451508637640572, 23.833226934101813, 23.81382742287991, 21.926817280665453, 20.198245673633036, 21.32149874835354, 19.838815170354092, 19.805273701600246, 28.07755004829639, 20.81629955239131, 19.109497665211517, 18.888733847664174, 17.564897342625294, 17.382248203648015, 17.060470403729656, 17.031719342092007, 16.944662871926756, 17.119696315100022, 16.168730689117336, 22.185025223213874, 17.094618645892965, 16.099484397550334, 28.64952362369729, 17.128080820394437, 18.04082661673326, 15.97320657685799, 17.02134730912398, 14.953239437217803, 32.40445123118523, 23.304089492863366, 36.531368862012776, 36.081060250361816, 26.26939976385513, 33.082234367437636, 25.85614397730767, 30.36209330584319, 21.791574038090655, 41.39218927431579, 481.42582756973, 44.81362938935556, 28.965721521551917, 28.83086268372232, 91.2466404764376, 34.844918017083366, 811.882514418228, 37.51809964339195, 1608.6618870627028, 176.31920981822515, 27.29882188119677, 470.0920173767873, 414.49138406370184, 71.54103275491804, 241.99673599685306, 234.16822820977518, 706.778162171572, 195.39896524364434, 311.8148977119691, 490.33254412481614, 218.3564440452918, 153.96376056120423, 312.67952223984594, 309.5554941800007, 176.1989031994941, 91.75366171641633, 213.94336724795428, 266.5240893021366, 386.52919680987986, 217.47513324865463, 230.08258840867214, 378.1888204906999, 179.47248711446747, 237.52922886662566, 183.52235486502164, 202.13355710559168, 221.47469396744233, 173.52872785962333, 233.8542229703775, 199.9414364705501, 202.1307576737253, 204.9317616348594, 208.28898374820548, 36.695491038435385, 30.831901534038984, 30.14343185898339, 24.451065569007284, 23.720276666403855, 23.260863475883138, 22.36164514324105, 25.81202041228446, 22.175618416191895, 21.057629365734847, 23.333052350865273, 20.52390859985031, 37.143888598150326, 27.352557266620863, 21.96207275186577, 18.208473595496443, 17.586817902287386, 36.29882521397157, 18.402614219976908, 17.821117163280064, 17.060286217089608, 52.01309866180664, 19.41805333842329, 34.87745276946785, 23.257737788628024, 19.43875215500393, 19.531475506308958, 15.023209774593534, 13.940737553956955, 14.109700284243786, 27.75721453891219, 17.34386499889924, 43.43773378675004, 254.32927072674565, 200.38248658989028, 59.62370244260362, 146.21026628770738, 185.50292631235416, 203.32915252423524, 30.207489113565238, 209.2105616683438, 515.0653625133943, 166.0178817623946, 171.80825284842948, 116.48821573900918, 49.83819068961306, 121.76369268574507, 219.19824738429625, 129.23908632507346, 48.962830695565664, 328.50815800168056, 272.12372448879637, 264.37271612544293, 73.32837166102867, 208.90887162342347, 228.85555117974124, 221.56907794494148, 121.19971558946685, 230.44577196082298, 370.61447791207223, 155.23316513053626, 696.0992907485597, 234.35802391307425, 95.29053947245528, 519.5142272978306, 631.6725477095775, 198.66196654092428, 497.25041455449565, 287.9899192266619, 274.4295665333993, 460.3249244918118, 257.2120179679025, 290.89777508131556, 294.8050001550947, 240.97633477290267, 233.44898383326353, 303.85843406228383, 281.13366945248555, 296.14980615128013, 253.13532264245234, 251.52981499504253, 224.99820820772413, 224.1283004434042, 36.31027176548257, 30.65362366290484, 30.939413234562657, 28.947076376528614, 29.52908016134785, 38.39339075613623, 40.027541515691944, 24.287830049330353, 22.41276663881588, 20.930588878351035, 19.896700857708954, 19.346370553373696, 25.40054518632331, 22.074760378619906, 19.731562112362738, 22.257051383402775, 18.085795582175873, 18.22955280580346, 17.810724664907575, 20.899694908954327, 18.069585671732536, 21.424952699033955, 22.04585966581385, 26.695990085790417, 19.49882603514914, 15.821232946954135, 19.144721438630633, 17.010181855868368, 17.76427665996687, 31.868255728222373, 74.46116069331772, 43.48251256994875, 587.9302402545449, 24.701216690199264, 25.701680722867398, 353.1418867559038, 26.167207156596607, 100.23963155095204, 157.59925379983545, 151.88568178702818, 622.9431402053388, 27.309759324355372, 213.2545481826917, 47.24088381385038, 87.29852320250949, 49.86412106126859, 74.50717144832552, 76.70916211039142, 43.735342543216525, 52.76746061570018, 300.097064937942, 91.7319721566017, 98.11527838386787, 158.54106000012635, 122.1788730977835, 124.05918049197594, 994.5196530010912, 88.82285487202232, 471.3860170644392, 107.62475879343673, 60.30737433443016, 52.58219329585684, 349.3507308135853, 156.85992145812656, 201.20643687996167, 82.99355938731966, 424.30053187674014, 448.507460134176, 307.2299442018972, 277.81734139163933, 75.68842777393756, 287.86424720148943, 216.48124763232562, 297.2602597457133, 222.6088983471025, 177.78493012267882, 178.642193294565, 228.5663291707612, 251.46671844250145, 155.92537662223853, 204.7984842804231, 168.9218800139039, 177.08618663680983, 165.89949991912047, 182.8412159742892, 173.56155412945068, 162.2997689819072, 28.018506425356456, 24.03286581026247, 23.914472257883943, 22.599504966455687, 51.75387488938785, 22.555665739326745, 21.42607899910283, 19.817893968728814, 19.58425861642042, 20.830212782448722, 33.61977011744482, 16.030831589597685, 16.4551680257094, 17.388438926530142, 19.042175026947227, 15.725554051059634, 14.545520325479009, 16.47167794818978, 13.824174685842198, 70.55394896586542, 19.907660960500415, 14.470219297916621, 13.705104643457894, 23.27294352308038, 15.332517815627101, 13.851097204902445, 15.125412685044468, 19.48686857417185, 13.739693677756598, 17.537646765844002, 37.188380834281915, 24.71065975888482, 55.6125560506463, 90.32989386734964, 19.774270950926265, 41.65953843797059, 36.23214047873452, 24.008266984220423, 34.06986666886715, 19.250230809877355, 25.774975801121304, 439.63510490847153, 36.40342284448073, 56.802126390690574, 28.60705718830723, 141.25978832696546, 34.36707870794587, 27.795467559003473, 30.61876906436812, 659.1854137194364, 124.91896382944844, 170.80199766012927, 89.37333031229372, 55.10078634611075, 65.8855304428314, 44.900855042852605, 46.515368096707356, 59.68774521922336, 180.86788363894772, 216.03380899971287, 74.85011743978941, 58.97761125908922, 99.1757797151555, 340.750784281143, 179.36306672724893, 346.38199853734216, 104.13918800202686, 379.68476120305155, 199.81609453843674, 194.96086224155022, 186.579714997384, 94.91092815912664, 245.24952887624974, 97.57542057081207, 134.9761746876656, 167.13610389122576, 130.6015155413744, 168.879669394354, 159.03682228188856, 95.43529595760833, 135.61157154765567, 149.7558341108939, 115.31049654264207, 115.70434523477017, 115.10900728214035, 101.62194082850179, 115.90603955978764, 106.03839747261291, 103.86448179355222, 103.07978905024423, 30.988342020830775, 26.229284925770227, 26.031513854188336, 25.07864026264922, 23.49700930443292, 22.593659602967993, 21.564133712760952, 18.658421753405133, 17.745594677404238, 16.614824468055883, 16.872462747504763, 18.81676840615659, 16.28966949529607, 14.995526898218968, 15.083158051748452, 18.863437179550274, 30.07618120272372, 13.761475195016436, 14.862499965484888, 15.669825968019861, 13.036889014643368, 16.466410242061826, 14.267121735278632, 21.22021983618907, 13.165879998983078, 12.312322994811758, 12.294823644827803, 12.328300703928663, 15.681292515979504, 19.648156494932394, 28.859655730227086, 24.52705168851155, 36.26443636207625, 47.23455498900518, 38.10133433605588, 26.88501133676107, 53.94476272655482, 37.55775621705679, 20.574604416751388, 36.0047148266769, 80.10458210667335, 30.41490325985775, 19.9865982245376, 55.80865662557004, 33.8379750340618, 74.49660301192483, 31.23823481225735, 27.124017435801314, 203.37458079659186, 83.53172823030312, 34.911579548098295, 25.911445349481657, 37.75959971801283, 1206.1357201767337, 52.563404667112536, 78.95965535711963, 57.07537992624097, 46.43316386586459, 53.370022170619194, 179.16322206671668, 100.01000247099901, 37.20048838183465, 58.93747281688611, 144.14075954060945, 155.3835830916355, 118.68721960919599, 208.47737128337695, 144.48125380534006, 242.04348237592808, 182.33858798822925, 191.33766999858705, 161.74078166833917, 198.43669969881506, 191.32682554733518, 70.39442051869236, 119.76979076405156, 65.94942433843602, 184.07655722525766, 116.96425749521724, 122.5233904780948, 86.36093957506483, 98.92415954827284, 130.22772795520916, 94.78148700759009, 107.2226761833897, 121.19706493667317, 90.62747848245428, 89.16133478590518, 80.91426785258447, 80.76972637060157, 35.937860468170896, 32.01286707969354, 25.05005297994304, 27.039982797837283, 20.769676005654375, 22.271423226428013, 19.651645895474452, 39.82004621450353, 22.35717526336981, 43.359199441309144, 20.35901862254821, 16.66080039727599, 16.982292343078296, 18.73468821979163, 16.566986723778975, 18.77205960550888, 15.635538682893952, 19.061091075198533, 14.159605217734217, 32.80621389752083, 43.38093905107242, 16.872520582842995, 15.467695788930627, 21.53799167215545, 14.591629864273008, 14.180452550290592, 15.444590006630534, 164.29466902591713, 13.824179395245697, 11.987745628698207, 14.43236582976784, 29.964640012299576, 18.06435108974421, 26.817666312693337, 24.590815909573763, 114.11136329393753, 21.297464066476124, 26.042016100471802, 31.416644471271816, 25.02121035617764, 40.706501278779584, 38.123297835402354, 46.42827828854361, 58.811764429348855, 41.090621877397055, 78.72372509150665, 134.92054592226708, 130.48641293119354, 49.44002121680475, 343.9198682224871, 50.08198420247006, 93.68116694682246, 35.975114057049, 42.908538522424706, 58.39026296710753, 205.0976526858945, 184.62357633920243, 85.78116390276165, 55.69592700690481, 137.18918847753872, 62.61146801651611, 134.02688223302968, 164.6335123107277, 190.34472239118435, 94.49838996535762, 115.08884417318403, 119.34223619340057, 68.49004480506974, 99.07311009899098, 119.27163391316289, 87.67178963126513, 88.85738367562463, 73.98015198986391, 67.5282430913102, 90.45178420333032, 94.12437552314728, 89.69565306275473, 80.33894993399554, 93.84695990498722, 78.16033665951488, 83.06999518044029, 79.76212995436727], \"Total\": [5697.0, 2115.0, 1768.0, 713.0, 1911.0, 1021.0, 715.0, 873.0, 733.0, 451.0, 705.0, 808.0, 176.0, 1309.0, 688.0, 363.0, 922.0, 1399.0, 770.0, 534.0, 4218.0, 359.0, 294.0, 375.0, 542.0, 357.0, 146.0, 1318.0, 455.0, 312.0, 66.33649550332026, 33.98208077644282, 30.935401594670818, 30.34937367248842, 39.53452536257559, 29.702167608148276, 29.529814760670543, 26.793442791458812, 25.49960244460455, 24.469618675152912, 24.163103760373875, 26.16380389101571, 23.673792989090536, 23.586623131271, 25.60569638151337, 22.372593829453223, 37.62545647911048, 22.434682055195463, 27.12647684337543, 23.355773801604087, 20.57364015157643, 20.111827241891138, 19.926964810389965, 33.07714834654518, 19.716967164436284, 26.576964510769358, 19.577557702433616, 20.252317559574557, 22.748159414521968, 19.63147729487801, 52.0799022783773, 49.78422599579888, 44.38980446176512, 71.57831889319743, 26.94768060171879, 22.359121390858856, 24.368064973098218, 69.17273477423089, 91.09736869680968, 39.52342056452706, 70.39926071195985, 40.20135417099249, 357.3190117535099, 171.2474027881509, 378.5529966637516, 41.1510679513561, 253.71644154132815, 79.10220551335352, 38.10712023385329, 327.2192423695884, 714.5714817370082, 73.17378522138532, 171.89107086470457, 1318.9700301567964, 680.8808689246267, 919.2996686825015, 546.6220781495146, 3037.6386338831617, 1472.8840526071856, 198.11369854045023, 2261.3758569562115, 3240.697120312563, 926.665620364646, 967.6882772128001, 2416.8774390386616, 1532.4818261642513, 482.020131688711, 270.36054583956087, 228.5533822107539, 1906.8560278428936, 2800.251492915727, 252.05307021125014, 474.09164512907375, 749.4984484842882, 1349.1315568366895, 4218.576531255911, 1309.0839487725093, 1133.4393453940686, 757.2612374258131, 1399.7288964108252, 1766.9351536905397, 1768.0172299445335, 898.0347153654817, 1051.6603917224365, 1031.7783040931317, 1607.638137134896, 1506.421526633162, 1085.5959287075032, 59.51638567925889, 48.54221867644266, 40.535975693245746, 36.90142632812461, 33.612658373220604, 30.80450872675945, 33.24236378328118, 25.872916424117612, 30.36370826208934, 25.32905804958834, 24.69618905324977, 24.72315797715777, 34.04058169075419, 23.65953737406575, 28.383665396950672, 23.731677341957166, 21.376874284800518, 21.412838321285747, 22.033330770497734, 19.91532626158841, 21.56622799541355, 18.426765275807334, 18.369173426341177, 18.296158399336772, 21.23751587634747, 18.068551902050928, 18.938527622823127, 41.53989097281785, 21.133454856451305, 16.66468876208898, 49.1786305641975, 32.9605113807681, 28.76822695271439, 44.929243862339504, 36.910872329809244, 24.171829776662303, 77.12102495270169, 41.90118237787442, 36.63475436772938, 34.811483564378115, 44.96226862196888, 38.690272102848034, 48.73754280600255, 155.00627797795664, 325.2829120900022, 76.04063581989753, 5697.078113536059, 48.611948453236145, 534.3359722762095, 91.29696440121191, 57.22403406952542, 169.45665539535645, 85.6176888075945, 873.7758042843722, 140.0850704297963, 688.0975239794222, 110.06069699557158, 84.74251907692462, 78.62264480745372, 1911.7088990376749, 922.3085411100501, 705.8671824582193, 298.2051124234935, 349.33839293580223, 451.2121408332597, 770.5956516655938, 361.97041325462953, 115.9691610002673, 204.41852623802043, 211.44126212288703, 204.62544016458935, 360.8429479103463, 501.1280335206113, 3240.697120312563, 623.974686435975, 1081.207051918384, 825.0460587112836, 820.9766685701312, 4218.576531255911, 1005.9893735457833, 2261.3758569562115, 1585.9480342064871, 3037.6386338831617, 1153.3817840705808, 1009.3417425176431, 975.1055427922602, 1399.7288964108252, 2800.251492915727, 773.4566059003403, 2416.8774390386616, 2115.3213179037402, 1696.108025792306, 1349.1315568366895, 897.3962872713594, 1906.8560278428936, 75.48764913574637, 33.53518131909687, 29.371432267750706, 24.71687864463686, 24.71472770403378, 22.799338788771518, 21.07926748760883, 22.256786987562034, 20.738498572370716, 20.705034166630597, 29.356759279268772, 21.771257622188088, 19.994361946366098, 19.76777253144704, 18.447482105555164, 18.2557361515975, 17.933289680174596, 17.906414897241447, 17.81954928422641, 18.004629282958795, 17.04204467801925, 23.384028902873975, 18.01959982033734, 16.980574621815357, 30.21784922931013, 18.067562849802897, 19.033482349262947, 16.8573657024216, 17.994105950164435, 15.82691576779306, 34.43867679932475, 24.79837427740845, 39.611254244934145, 39.110282943011995, 28.146367771873418, 36.07276899305849, 27.93726245652129, 33.42849103629067, 23.545198592854632, 48.60433515772194, 808.598554361366, 54.04920677893986, 32.77835655832841, 32.76904529531174, 125.48415746368974, 41.329335486349464, 1911.7088990376749, 45.766522554114374, 5697.078113536059, 347.0663333994704, 31.2091798524579, 1696.108025792306, 1532.4818261642513, 128.59273789215703, 773.4566059003403, 770.5956516655938, 4218.576531255911, 679.4982577021267, 1506.421526633162, 3240.697120312563, 868.0656367919005, 490.7103130477382, 1585.9480342064871, 1607.638137134896, 641.1548599029575, 213.42068496321306, 922.3085411100501, 1416.4727189951454, 2800.251492915727, 1009.3417425176431, 1153.3817840705808, 3037.6386338831617, 771.0973949787947, 1309.0839487725093, 825.8617086649235, 1051.6603917224365, 1362.5333360713632, 820.9766685701312, 2261.3758569562115, 1399.7288964108252, 1766.9351536905397, 1906.8560278428936, 2416.8774390386616, 37.57999749575019, 31.68870622252386, 31.00192174484672, 25.3090341060493, 24.580528096789564, 24.12254924637403, 23.21783027802853, 26.817908227893877, 23.073380158090874, 21.913746731272585, 24.28310542601357, 21.38631709825452, 38.734878844768694, 28.589582416936818, 22.959186601609954, 19.06630576340201, 18.442998449412176, 38.089778509359135, 19.310768609559016, 18.73526083578517, 17.98599938238239, 54.859517533053264, 20.493469853162207, 36.95847222654861, 24.647313007334734, 20.60132973792028, 20.718718928946224, 15.937504877336393, 14.796446295421648, 14.992456907199323, 29.650033118685318, 18.4723653569111, 47.5674817089904, 294.1920181415254, 231.1837388702269, 66.19243476670664, 171.38527246023085, 222.2765793682351, 253.40187112489278, 32.85609844725271, 271.1354656212082, 733.3265240779235, 219.27129425603053, 229.87737684454942, 149.92760529025412, 58.174869399939304, 160.9354002128745, 319.19665701136773, 175.0843294065457, 57.505208444698, 542.5406732605514, 442.9092369998102, 429.9403097112463, 95.50496609838899, 354.40091752445267, 405.7153240627156, 398.4260495791277, 194.0920202276597, 457.80999153689453, 873.7758042843722, 271.2493328083864, 2115.3213179037402, 525.8655008289362, 148.49042262921074, 1768.0172299445335, 2416.8774390386616, 507.833088455411, 3037.6386338831617, 1133.4393453940686, 1153.3817840705808, 4218.576531255911, 1051.6603917224365, 1607.638137134896, 1766.9351536905397, 1081.207051918384, 967.6882772128001, 2800.251492915727, 2261.3758569562115, 3240.697120312563, 1472.8840526071856, 1906.8560278428936, 1309.0839487725093, 1349.1315568366895, 37.308636768943515, 31.528666372585896, 31.82574647027712, 29.81581341579121, 30.562624191646815, 39.744805295458164, 41.44128453726704, 25.15616143962931, 23.279904871179074, 21.79785563903367, 20.763448027965563, 20.213719579355104, 26.551116123615195, 23.081651920935023, 20.653673518459044, 23.31406598668621, 18.952352322086945, 19.12464971634405, 18.71064732254169, 21.962101884021596, 19.010981671238675, 22.556229556063055, 23.21320190663908, 28.16899963702323, 20.58206781647532, 16.707539340536545, 20.28345816116423, 18.039626207776692, 18.84229267228072, 33.84264665538163, 81.1224850245504, 47.19973784252858, 713.8873103182119, 26.479179230415127, 27.6364334793423, 451.7540333817109, 28.41990085956066, 125.52365284953612, 209.27004608648696, 202.0619166378586, 1021.3602711560876, 29.852114401708832, 326.7511737732002, 56.9471809828711, 120.574659292917, 61.609140736133924, 101.35128797781539, 106.68631540611939, 53.913186985858296, 68.78772741367942, 629.2730482061838, 139.41384914215433, 153.2636448293994, 303.1808088422558, 216.6753300022099, 225.44447829082793, 4218.576531255911, 144.26434718547048, 1766.9351536905397, 206.1767318304813, 87.99938655978745, 71.45946469273368, 1416.4727189951454, 436.60457467366825, 680.8808689246267, 152.65155886424782, 2800.251492915727, 3240.697120312563, 1696.108025792306, 1607.638137134896, 135.92043788906184, 1906.8560278428936, 1362.5333360713632, 3037.6386338831617, 1506.421526633162, 868.0656367919005, 888.0568114433495, 1768.0172299445335, 2416.8774390386616, 654.7647572915596, 1585.9480342064871, 898.0347153654817, 1318.9700301567964, 965.3452558893117, 2261.3758569562115, 1532.4818261642513, 1005.9893735457833, 28.938325746480285, 24.892228347299767, 24.773810533525136, 23.461953448918813, 53.866331120124215, 23.52098519834442, 22.349478341601788, 20.701312448263103, 20.465338170695308, 21.90161071124357, 35.41218570368953, 16.89077355899166, 17.338711532979556, 18.348051245579676, 20.10620233783826, 16.635033487544547, 15.404725623950373, 17.47834265140028, 14.684168447874958, 74.96491283484306, 21.154591166464762, 15.379152908724803, 14.577835054244437, 24.7573160717161, 16.31637991214161, 14.75735609886149, 16.119245707064685, 20.772562432616056, 14.659648608991764, 18.78115300636479, 39.84434061770923, 26.473773891609213, 60.669283100061286, 101.43416354497111, 21.27957226055085, 46.280156722532816, 40.56550838388073, 26.222423474179443, 38.305609273220576, 20.807447231202712, 28.817294082917613, 715.3619626528953, 42.82173154652925, 72.77008434896624, 33.076767145157525, 232.61504309125576, 41.59337052140049, 32.228137109587514, 37.002098283453584, 2115.3213179037402, 271.96643019146643, 455.100257528189, 180.57980558134162, 89.05882230210307, 117.29559386741488, 68.22358235618239, 72.30490555503965, 107.84703055673432, 688.0975239794222, 922.3085411100501, 171.10160040550505, 114.27341748907, 280.2936909453449, 2800.251492915727, 877.1411067867557, 3240.697120312563, 336.38109901614746, 4218.576531255911, 1349.1315568366895, 1506.421526633162, 1416.4727189951454, 349.33839293580223, 3037.6386338831617, 397.38013267426817, 965.3452558893117, 1696.108025792306, 1009.3417425176431, 2261.3758569562115, 1906.8560278428936, 428.46211706798846, 1585.9480342064871, 2416.8774390386616, 1011.44206962331, 1085.5959287075032, 1309.0839487725093, 587.4807797843596, 5697.078113536059, 1362.5333360713632, 1056.9200357324523, 1532.4818261642513, 31.856386785597117, 27.096845575104847, 26.913506796254108, 25.94701889765701, 24.36902412531835, 23.46649724458204, 22.44716235437417, 19.554978413324076, 18.679111350967222, 17.51103480176117, 17.78844428125502, 19.862631313604226, 17.20958206026417, 15.870494578608712, 15.990397980949053, 20.000231533370776, 31.90550394662179, 14.629578635284208, 15.829229437676641, 16.71579235864523, 13.910052589013013, 17.57028626964761, 15.240002673797138, 22.674472089218646, 14.081631595730995, 13.180004666655371, 13.16200028262212, 13.19863603985773, 16.79842630930354, 21.053966001387597, 31.066048242584422, 26.3765830101921, 39.21363221840905, 52.00919661859822, 42.7325645751448, 29.66632043129061, 63.06681675387758, 42.860427018197676, 22.47771880575616, 41.73326948497542, 102.97518927596896, 34.99988760033399, 21.8862299664077, 71.18829737897192, 40.09376095804927, 101.34450196487893, 36.90009382762581, 31.20772446150539, 363.38477718515395, 124.70229578918372, 43.43104845106406, 29.80127316633425, 50.66581613620619, 5697.078113536059, 79.82746428249986, 146.62362672441964, 93.73484859942126, 72.8665352088069, 91.42004848944413, 705.8671824582193, 296.5133780294717, 53.48735478067905, 125.60328244435435, 770.5956516655938, 897.3962872713594, 534.3359722762095, 1911.7088990376749, 919.2996686825015, 2800.251492915727, 1585.9480342064871, 1906.8560278428936, 1472.8840526071856, 2416.8774390386616, 2261.3758569562115, 221.9144281346457, 900.6921034379083, 195.06435964168506, 4218.576531255911, 1362.5333360713632, 1766.9351536905397, 549.9954862131125, 965.3452558893117, 3037.6386338831617, 856.7132419377726, 1696.108025792306, 3240.697120312563, 773.4566059003403, 1009.3417425176431, 906.0638467279036, 1056.9200357324523, 36.98952367522729, 33.04876154963642, 25.970732440137713, 28.098020841043805, 21.637422978236394, 23.220534212978762, 20.518854698433724, 41.61521160304692, 23.41820069948739, 45.443620972095275, 21.3546094380799, 17.528974199035105, 17.868606731463966, 19.747918074208798, 17.464224154946912, 19.790925117269836, 16.502415245266743, 20.17388549084128, 15.025937434620118, 34.83172710929026, 46.101449330068434, 17.95141861071723, 16.464672093590792, 22.92994528901879, 15.58255497593644, 15.16403989836597, 16.546514529656662, 176.05199593618255, 14.818564204268952, 12.854002974701876, 15.475439453020963, 32.43885642113845, 19.428328806167144, 29.389478450433426, 27.00124560265457, 146.38098945592245, 23.59169996214887, 29.789559970131325, 37.575618055206306, 29.061863766231014, 53.0726541611416, 48.98759281781634, 65.67428964232593, 94.14676714398038, 59.394193424845795, 154.0180517705025, 359.1038475997135, 375.2900346984203, 84.80712716416689, 1768.0172299445335, 87.40220164777779, 255.15332298171444, 55.23068335587935, 75.66365005866652, 135.14731242902633, 1399.7288964108252, 1309.0839487725093, 312.75878270927024, 137.27604852469773, 1031.7783040931317, 189.24594791716027, 1362.5333360713632, 2800.251492915727, 4218.576531255911, 708.0353471144999, 1318.9700301567964, 1585.9480342064871, 295.43506850384716, 1005.9893735457833, 3037.6386338831617, 967.6882772128001, 1056.9200357324523, 494.86586243801963, 357.172740923379, 1506.421526633162, 1906.8560278428936, 1607.638137134896, 926.665620364646, 2261.3758569562115, 900.6921034379083, 1766.9351536905397, 3240.697120312563], \"Category\": [\"Default\", \"Default\", \"Default\", \"Default\", \"Default\", \"Default\", \"Default\", \"Default\", \"Default\", \"Default\", \"Default\", \"Default\", \"Default\", \"Default\", \"Default\", \"Default\", \"Default\", \"Default\", \"Default\", \"Default\", \"Default\", \"Default\", \"Default\", \"Default\", \"Default\", \"Default\", \"Default\", \"Default\", \"Default\", \"Default\", \"Topic1\", \"Topic1\", \"Topic1\", \"Topic1\", \"Topic1\", \"Topic1\", \"Topic1\", \"Topic1\", \"Topic1\", \"Topic1\", \"Topic1\", \"Topic1\", \"Topic1\", \"Topic1\", \"Topic1\", \"Topic1\", \"Topic1\", \"Topic1\", \"Topic1\", \"Topic1\", \"Topic1\", \"Topic1\", \"Topic1\", \"Topic1\", \"Topic1\", \"Topic1\", \"Topic1\", \"Topic1\", \"Topic1\", \"Topic1\", \"Topic1\", \"Topic1\", \"Topic1\", \"Topic1\", \"Topic1\", \"Topic1\", \"Topic1\", \"Topic1\", \"Topic1\", \"Topic1\", \"Topic1\", \"Topic1\", \"Topic1\", \"Topic1\", \"Topic1\", \"Topic1\", \"Topic1\", \"Topic1\", \"Topic1\", \"Topic1\", \"Topic1\", \"Topic1\", \"Topic1\", \"Topic1\", \"Topic1\", \"Topic1\", \"Topic1\", \"Topic1\", \"Topic1\", \"Topic1\", \"Topic1\", \"Topic1\", \"Topic1\", \"Topic1\", \"Topic1\", \"Topic1\", \"Topic1\", \"Topic1\", \"Topic1\", \"Topic1\", \"Topic1\", \"Topic1\", \"Topic1\", \"Topic1\", \"Topic1\", \"Topic1\", \"Topic1\", \"Topic1\", \"Topic1\", \"Topic1\", \"Topic1\", \"Topic1\", \"Topic1\", \"Topic1\", \"Topic1\", \"Topic1\", \"Topic1\", \"Topic1\", \"Topic2\", \"Topic2\", \"Topic2\", \"Topic2\", \"Topic2\", \"Topic2\", \"Topic2\", \"Topic2\", \"Topic2\", \"Topic2\", \"Topic2\", \"Topic2\", \"Topic2\", \"Topic2\", \"Topic2\", \"Topic2\", \"Topic2\", \"Topic2\", \"Topic2\", \"Topic2\", \"Topic2\", \"Topic2\", \"Topic2\", \"Topic2\", \"Topic2\", \"Topic2\", \"Topic2\", \"Topic2\", \"Topic2\", \"Topic2\", \"Topic2\", \"Topic2\", \"Topic2\", \"Topic2\", \"Topic2\", \"Topic2\", \"Topic2\", \"Topic2\", \"Topic2\", \"Topic2\", \"Topic2\", \"Topic2\", \"Topic2\", \"Topic2\", \"Topic2\", \"Topic2\", \"Topic2\", \"Topic2\", \"Topic2\", \"Topic2\", \"Topic2\", \"Topic2\", \"Topic2\", \"Topic2\", \"Topic2\", \"Topic2\", \"Topic2\", \"Topic2\", \"Topic2\", \"Topic2\", \"Topic2\", \"Topic2\", \"Topic2\", \"Topic2\", \"Topic2\", \"Topic2\", \"Topic2\", \"Topic2\", \"Topic2\", \"Topic2\", \"Topic2\", \"Topic2\", \"Topic2\", \"Topic2\", \"Topic2\", \"Topic2\", \"Topic2\", \"Topic2\", \"Topic2\", \"Topic2\", \"Topic2\", \"Topic2\", \"Topic2\", \"Topic2\", \"Topic2\", \"Topic2\", \"Topic2\", \"Topic2\", \"Topic2\", \"Topic2\", \"Topic2\", \"Topic2\", \"Topic2\", \"Topic2\", \"Topic2\", \"Topic3\", \"Topic3\", \"Topic3\", \"Topic3\", \"Topic3\", \"Topic3\", \"Topic3\", \"Topic3\", \"Topic3\", \"Topic3\", \"Topic3\", \"Topic3\", \"Topic3\", \"Topic3\", \"Topic3\", \"Topic3\", \"Topic3\", \"Topic3\", \"Topic3\", \"Topic3\", \"Topic3\", \"Topic3\", \"Topic3\", \"Topic3\", \"Topic3\", \"Topic3\", \"Topic3\", \"Topic3\", \"Topic3\", \"Topic3\", \"Topic3\", \"Topic3\", \"Topic3\", \"Topic3\", \"Topic3\", \"Topic3\", \"Topic3\", \"Topic3\", \"Topic3\", \"Topic3\", \"Topic3\", \"Topic3\", \"Topic3\", \"Topic3\", \"Topic3\", \"Topic3\", \"Topic3\", \"Topic3\", \"Topic3\", \"Topic3\", \"Topic3\", \"Topic3\", \"Topic3\", \"Topic3\", \"Topic3\", \"Topic3\", \"Topic3\", \"Topic3\", \"Topic3\", \"Topic3\", \"Topic3\", \"Topic3\", \"Topic3\", \"Topic3\", \"Topic3\", \"Topic3\", \"Topic3\", \"Topic3\", \"Topic3\", \"Topic3\", \"Topic3\", \"Topic3\", \"Topic3\", \"Topic3\", \"Topic3\", \"Topic3\", \"Topic3\", \"Topic3\", \"Topic3\", \"Topic3\", \"Topic3\", \"Topic3\", \"Topic3\", \"Topic4\", \"Topic4\", \"Topic4\", \"Topic4\", \"Topic4\", \"Topic4\", \"Topic4\", \"Topic4\", \"Topic4\", \"Topic4\", \"Topic4\", \"Topic4\", \"Topic4\", \"Topic4\", \"Topic4\", \"Topic4\", \"Topic4\", \"Topic4\", \"Topic4\", \"Topic4\", \"Topic4\", \"Topic4\", \"Topic4\", \"Topic4\", \"Topic4\", \"Topic4\", \"Topic4\", \"Topic4\", \"Topic4\", \"Topic4\", \"Topic4\", \"Topic4\", \"Topic4\", \"Topic4\", \"Topic4\", \"Topic4\", \"Topic4\", \"Topic4\", \"Topic4\", \"Topic4\", \"Topic4\", \"Topic4\", \"Topic4\", \"Topic4\", \"Topic4\", \"Topic4\", \"Topic4\", \"Topic4\", \"Topic4\", \"Topic4\", \"Topic4\", \"Topic4\", \"Topic4\", \"Topic4\", \"Topic4\", \"Topic4\", \"Topic4\", \"Topic4\", \"Topic4\", \"Topic4\", \"Topic4\", \"Topic4\", \"Topic4\", \"Topic4\", \"Topic4\", \"Topic4\", \"Topic4\", \"Topic4\", \"Topic4\", \"Topic4\", \"Topic4\", \"Topic4\", \"Topic4\", \"Topic4\", \"Topic4\", \"Topic4\", \"Topic4\", \"Topic4\", \"Topic4\", \"Topic4\", \"Topic4\", \"Topic4\", \"Topic4\", \"Topic5\", \"Topic5\", \"Topic5\", \"Topic5\", \"Topic5\", \"Topic5\", \"Topic5\", \"Topic5\", \"Topic5\", \"Topic5\", \"Topic5\", \"Topic5\", \"Topic5\", \"Topic5\", \"Topic5\", \"Topic5\", \"Topic5\", \"Topic5\", \"Topic5\", \"Topic5\", \"Topic5\", \"Topic5\", \"Topic5\", \"Topic5\", \"Topic5\", \"Topic5\", \"Topic5\", \"Topic5\", \"Topic5\", \"Topic5\", \"Topic5\", \"Topic5\", \"Topic5\", \"Topic5\", \"Topic5\", \"Topic5\", \"Topic5\", \"Topic5\", \"Topic5\", \"Topic5\", \"Topic5\", \"Topic5\", \"Topic5\", \"Topic5\", \"Topic5\", \"Topic5\", \"Topic5\", \"Topic5\", \"Topic5\", \"Topic5\", \"Topic5\", \"Topic5\", \"Topic5\", \"Topic5\", \"Topic5\", \"Topic5\", \"Topic5\", \"Topic5\", \"Topic5\", \"Topic5\", \"Topic5\", \"Topic5\", \"Topic5\", \"Topic5\", \"Topic5\", \"Topic5\", \"Topic5\", \"Topic5\", \"Topic5\", \"Topic5\", \"Topic5\", \"Topic5\", \"Topic5\", \"Topic5\", \"Topic5\", \"Topic5\", \"Topic5\", \"Topic5\", \"Topic5\", \"Topic5\", \"Topic5\", \"Topic5\", \"Topic5\", \"Topic5\", \"Topic5\", \"Topic5\", \"Topic5\", \"Topic6\", \"Topic6\", \"Topic6\", \"Topic6\", \"Topic6\", \"Topic6\", \"Topic6\", \"Topic6\", \"Topic6\", \"Topic6\", \"Topic6\", \"Topic6\", \"Topic6\", \"Topic6\", \"Topic6\", \"Topic6\", \"Topic6\", \"Topic6\", \"Topic6\", \"Topic6\", \"Topic6\", \"Topic6\", \"Topic6\", \"Topic6\", \"Topic6\", \"Topic6\", \"Topic6\", \"Topic6\", \"Topic6\", \"Topic6\", \"Topic6\", \"Topic6\", \"Topic6\", \"Topic6\", \"Topic6\", \"Topic6\", \"Topic6\", \"Topic6\", \"Topic6\", \"Topic6\", \"Topic6\", \"Topic6\", \"Topic6\", \"Topic6\", \"Topic6\", \"Topic6\", \"Topic6\", \"Topic6\", \"Topic6\", \"Topic6\", \"Topic6\", \"Topic6\", \"Topic6\", \"Topic6\", \"Topic6\", \"Topic6\", \"Topic6\", \"Topic6\", \"Topic6\", \"Topic6\", \"Topic6\", \"Topic6\", \"Topic6\", \"Topic6\", \"Topic6\", \"Topic6\", \"Topic6\", \"Topic6\", \"Topic6\", \"Topic6\", \"Topic6\", \"Topic6\", \"Topic6\", \"Topic6\", \"Topic6\", \"Topic6\", \"Topic6\", \"Topic6\", \"Topic6\", \"Topic6\", \"Topic6\", \"Topic6\", \"Topic6\", \"Topic6\", \"Topic6\", \"Topic6\", \"Topic6\", \"Topic6\", \"Topic6\", \"Topic6\", \"Topic7\", \"Topic7\", \"Topic7\", \"Topic7\", \"Topic7\", \"Topic7\", \"Topic7\", \"Topic7\", \"Topic7\", \"Topic7\", \"Topic7\", \"Topic7\", \"Topic7\", \"Topic7\", \"Topic7\", \"Topic7\", \"Topic7\", \"Topic7\", \"Topic7\", \"Topic7\", \"Topic7\", \"Topic7\", \"Topic7\", \"Topic7\", \"Topic7\", \"Topic7\", \"Topic7\", \"Topic7\", \"Topic7\", \"Topic7\", \"Topic7\", \"Topic7\", \"Topic7\", \"Topic7\", \"Topic7\", \"Topic7\", \"Topic7\", \"Topic7\", \"Topic7\", \"Topic7\", \"Topic7\", \"Topic7\", \"Topic7\", \"Topic7\", \"Topic7\", \"Topic7\", \"Topic7\", \"Topic7\", \"Topic7\", \"Topic7\", \"Topic7\", \"Topic7\", \"Topic7\", \"Topic7\", \"Topic7\", \"Topic7\", \"Topic7\", \"Topic7\", \"Topic7\", \"Topic7\", \"Topic7\", \"Topic7\", \"Topic7\", \"Topic7\", \"Topic7\", \"Topic7\", \"Topic7\", \"Topic7\", \"Topic7\", \"Topic7\", \"Topic7\", \"Topic7\", \"Topic7\", \"Topic7\", \"Topic7\", \"Topic7\", \"Topic7\", \"Topic7\", \"Topic7\", \"Topic7\", \"Topic7\", \"Topic7\", \"Topic7\", \"Topic7\", \"Topic7\", \"Topic7\", \"Topic7\", \"Topic7\", \"Topic7\", \"Topic7\", \"Topic8\", \"Topic8\", \"Topic8\", \"Topic8\", \"Topic8\", \"Topic8\", \"Topic8\", \"Topic8\", \"Topic8\", \"Topic8\", \"Topic8\", \"Topic8\", \"Topic8\", \"Topic8\", \"Topic8\", \"Topic8\", \"Topic8\", \"Topic8\", \"Topic8\", \"Topic8\", \"Topic8\", \"Topic8\", \"Topic8\", \"Topic8\", \"Topic8\", \"Topic8\", \"Topic8\", \"Topic8\", \"Topic8\", \"Topic8\", \"Topic8\", \"Topic8\", \"Topic8\", \"Topic8\", \"Topic8\", \"Topic8\", \"Topic8\", \"Topic8\", \"Topic8\", \"Topic8\", \"Topic8\", \"Topic8\", \"Topic8\", \"Topic8\", \"Topic8\", \"Topic8\", \"Topic8\", \"Topic8\", \"Topic8\", \"Topic8\", \"Topic8\", \"Topic8\", \"Topic8\", \"Topic8\", \"Topic8\", \"Topic8\", \"Topic8\", \"Topic8\", \"Topic8\", \"Topic8\", \"Topic8\", \"Topic8\", \"Topic8\", \"Topic8\", \"Topic8\", \"Topic8\", \"Topic8\", \"Topic8\", \"Topic8\", \"Topic8\", \"Topic8\", \"Topic8\", \"Topic8\", \"Topic8\", \"Topic8\", \"Topic8\", \"Topic8\", \"Topic8\", \"Topic8\", \"Topic8\", \"Topic8\", \"Topic8\"], \"logprob\": [30.0, 29.0, 28.0, 27.0, 26.0, 25.0, 24.0, 23.0, 22.0, 21.0, 20.0, 19.0, 18.0, 17.0, 16.0, 15.0, 14.0, 13.0, 12.0, 11.0, 10.0, 9.0, 8.0, 7.0, 6.0, 5.0, 4.0, 3.0, 2.0, 1.0, -7.16540002822876, -7.839900016784668, -7.936399936676025, -7.956500053405762, -7.6921000480651855, -7.978700160980225, -7.985400199890137, -8.084600448608398, -8.13599967956543, -8.178500175476074, -8.19159984588623, -8.112199783325195, -8.212800025939941, -8.217100143432617, -8.136699676513672, -8.271900177001953, -7.751999855041504, -8.269499778747559, -8.082599639892578, -8.2322998046875, -8.359100341796875, -8.382599830627441, -8.392499923706055, -7.885900020599365, -8.403400421142578, -8.104999542236328, -8.410799980163574, -8.37720012664795, -8.261300086975098, -8.408900260925293, -7.440299987792969, -7.486499786376953, -7.603799819946289, -7.145299911499023, -8.103699684143066, -8.282299995422363, -8.201899528503418, -7.243199825286865, -6.992400169372559, -7.762700080871582, -7.246799945831299, -7.751999855041504, -5.8383002281188965, -6.488500118255615, -5.801799774169922, -7.7382001876831055, -6.2108001708984375, -7.1905999183654785, -7.8053998947143555, -6.0432000160217285, -5.4079999923706055, -7.272900104522705, -6.590700149536133, -5.001100063323975, -5.53380012512207, -5.327099800109863, -5.7434000968933105, -4.441800117492676, -4.995500087738037, -6.52839994430542, -4.69320011138916, -4.4984002113342285, -5.434199810028076, -5.411600112915039, -4.8155999183654785, -5.1367998123168945, -5.953800201416016, -6.354800224304199, -6.475299835205078, -5.066199779510498, -4.84630012512207, -6.4116997718811035, -6.0046000480651855, -5.7179999351501465, -5.353899955749512, -4.6570000648498535, -5.4369001388549805, -5.5279998779296875, -5.759099960327148, -5.469699859619141, -5.355000019073486, -5.400400161743164, -5.716000080108643, -5.670100212097168, -5.698500156402588, -5.57919979095459, -5.605199813842773, -5.696499824523926, -6.9741997718811035, -7.181399822235107, -7.366600036621094, -7.461400032043457, -7.557000160217285, -7.64739990234375, -7.572800159454346, -7.826700210571289, -7.668099880218506, -7.849599838256836, -7.874899864196777, -7.874000072479248, -7.5543999671936035, -7.919300079345703, -7.739299774169922, -7.919400215148926, -8.024999618530273, -8.024299621582031, -7.997900009155273, -8.100600242614746, -8.021900177001953, -8.180000305175781, -8.183799743652344, -8.187800407409668, -8.038900375366211, -8.200699806213379, -8.155500411987305, -7.371200084686279, -8.047599792480469, -8.285699844360352, -7.206900119781494, -7.605400085449219, -7.742300033569336, -7.320300102233887, -7.512199878692627, -7.919000148773193, -6.818399906158447, -7.40310001373291, -7.529900074005127, -7.5802998542785645, -7.351900100708008, -7.49370002746582, -7.2982001304626465, -6.293499946594238, -5.664100170135498, -6.923399925231934, -3.2597999572753906, -7.30709981918335, -5.342599868774414, -6.7916998863220215, -7.1803998947143555, -6.321499824523926, -6.866000175476074, -5.041999816894531, -6.478700160980225, -5.238500118255615, -6.683499813079834, -6.8871002197265625, -6.951499938964844, -4.615099906921387, -5.204599857330322, -5.412700176239014, -6.018400192260742, -5.939499855041504, -5.8018999099731445, -5.4446001052856445, -5.969900131225586, -6.719299793243408, -6.374100208282471, -6.372099876403809, -6.392899990081787, -6.05679988861084, -5.866000175476074, -4.786900043487549, -5.780099868774414, -5.477799892425537, -5.64109992980957, -5.649099826812744, -4.822400093078613, -5.606500148773193, -5.218500137329102, -5.396500110626221, -5.105500221252441, -5.565100193023682, -5.646699905395508, -5.675600051879883, -5.57420015335083, -5.420300006866455, -5.835299968719482, -5.545899868011475, -5.587399959564209, -5.642399787902832, -5.704100131988525, -5.811299800872803, -5.8109002113342285, -6.691699981689453, -7.5071001052856445, -7.640999794006348, -7.8180999755859375, -7.818900108337402, -7.901500225067139, -7.98360013961792, -7.9293999671936035, -8.001500129699707, -8.003199577331543, -7.654200077056885, -7.953400135040283, -8.038999557495117, -8.050600051879883, -8.123299598693848, -8.133700370788574, -8.152400016784668, -8.15410041809082, -8.159199714660645, -8.148900032043457, -8.206100463867188, -7.889699935913086, -8.150400161743164, -8.210399627685547, -7.633999824523926, -8.14840030670166, -8.096500396728516, -8.218299865722656, -8.15470027923584, -8.284199714660645, -7.510900020599365, -7.8404998779296875, -7.390999794006348, -7.40339994430542, -7.720799922943115, -7.490200042724609, -7.736599922180176, -7.576000213623047, -7.907599925994873, -7.26609992980957, -4.812399864196777, -7.186699867248535, -7.6230998039245605, -7.627699851989746, -6.475599765777588, -7.438300132751465, -4.28980016708374, -7.364299774169922, -3.6059999465942383, -5.81689977645874, -7.682300090789795, -4.83620023727417, -4.962100028991699, -6.718900203704834, -5.500199794769287, -5.533100128173828, -4.428400039672852, -5.714099884033203, -5.246799945831299, -4.794099807739258, -5.603000164031982, -5.952400207519531, -5.24399995803833, -5.254000186920166, -5.817599773406982, -6.470099925994873, -5.623499870300293, -5.40369987487793, -5.0320000648498535, -5.607100009918213, -5.5507001876831055, -5.053800106048584, -5.799099922180176, -5.518899917602539, -5.776800155639648, -5.680200099945068, -5.588900089263916, -5.832799911499023, -5.5345001220703125, -5.691100120544434, -5.680200099945068, -5.666500091552734, -5.650199890136719, -7.318999767303467, -7.493100166320801, -7.515600204467773, -7.724899768829346, -7.755300045013428, -7.774799823760986, -7.814300060272217, -7.67080020904541, -7.8225998878479, -7.874300003051758, -7.771699905395508, -7.900000095367432, -7.30679988861084, -7.612800121307373, -7.832300186157227, -8.019700050354004, -8.054499626159668, -7.329800128936768, -8.009099960327148, -8.041199684143066, -8.08489990234375, -6.970099925994873, -7.955399990081787, -7.369800090789795, -7.775000095367432, -7.9542999267578125, -7.9496002197265625, -8.211999893188477, -8.286800384521484, -8.274700164794922, -7.598100185394287, -8.068400382995605, -7.150300025939941, -5.382999897003174, -5.621399879455566, -6.833600044250488, -5.936600208282471, -5.698500156402588, -5.606800079345703, -7.513500213623047, -5.5782999992370605, -4.677299976348877, -5.809500217437744, -5.775199890136719, -6.16379976272583, -7.012800216674805, -6.119500160217285, -5.531599998474121, -6.059899806976318, -7.0304999351501465, -5.126999855041504, -5.315400123596191, -5.344200134277344, -6.626699924468994, -5.579699993133545, -5.488500118255615, -5.520899772644043, -6.124199867248535, -5.481599807739258, -5.006400108337402, -5.876699924468994, -4.376100063323975, -5.464799880981445, -6.364699840545654, -4.668700218200684, -4.473199844360352, -5.630000114440918, -4.712500095367432, -5.258699893951416, -5.3069000244140625, -4.789700031280518, -5.371699810028076, -5.248600006103516, -5.235300064086914, -5.4369001388549805, -5.468599796295166, -5.204999923706055, -5.282800197601318, -5.2307000160217285, -5.387700080871582, -5.394000053405762, -5.505499839782715, -5.509399890899658, -7.263199806213379, -7.432499885559082, -7.4232001304626465, -7.489799976348877, -7.469900131225586, -7.207399845123291, -7.1656999588012695, -7.665299892425537, -7.74560022354126, -7.8140997886657715, -7.864699840545654, -7.8927998542785645, -7.620500087738037, -7.760799884796143, -7.873000144958496, -7.752600193023682, -7.960100173950195, -7.952199935913086, -7.975500106811523, -7.815499782562256, -7.960999965667725, -7.7906999588012695, -7.7621002197265625, -7.570799827575684, -7.884900093078613, -8.093899726867676, -7.903200149536133, -8.021499633789062, -7.978099822998047, -7.393700122833252, -6.545000076293945, -7.082900047302246, -4.478700160980225, -7.648399829864502, -7.608699798583984, -4.988399982452393, -7.590799808502197, -6.247700214385986, -5.795199871063232, -5.832099914550781, -4.42080020904541, -7.547999858856201, -5.492800235748291, -7.0, -6.385900020599365, -6.946000099182129, -6.544400215148926, -6.515200138092041, -7.077099800109863, -6.889400005340576, -5.151199817657471, -6.336400032043457, -6.269100189208984, -5.789299964904785, -6.049799919128418, -6.0345001220703125, -3.953000068664551, -6.368599891662598, -4.6996002197265625, -6.176599979400635, -6.755799770355225, -6.892899990081787, -4.999199867248535, -5.799900054931641, -5.550899982452393, -6.436500072479248, -4.804800033569336, -4.749300003051758, -5.127699851989746, -5.228300094604492, -6.528600215911865, -5.192800045013428, -5.477799892425537, -5.160699844360352, -5.44980001449585, -5.674699783325195, -5.669899940490723, -5.423399925231934, -5.328000068664551, -5.8059000968933105, -5.533199787139893, -5.725800037384033, -5.678599834442139, -5.743899822235107, -5.646599769592285, -5.698699951171875, -5.7657999992370605, -7.220200061798096, -7.373600006103516, -7.378499984741211, -7.435100078582764, -6.606500148773193, -7.436999797821045, -7.488399982452393, -7.566400051116943, -7.5782999992370605, -7.516600131988525, -7.037899971008301, -7.778500080108643, -7.752399921417236, -7.697199821472168, -7.606400012969971, -7.797699928283691, -7.875699996948242, -7.751399993896484, -7.926599979400635, -6.2967000007629395, -7.5619001388549805, -7.880899906158447, -7.935299873352051, -7.405700206756592, -7.8231000900268555, -7.924699783325195, -7.836699962615967, -7.5833001136779785, -7.932700157165527, -7.688700199127197, -6.936999797821045, -7.345799922943115, -6.534599781036377, -6.049600124359131, -7.568600177764893, -6.823500156402588, -6.963099956512451, -7.374599933624268, -7.024600028991699, -7.5954999923706055, -7.303599834442139, -4.467100143432617, -6.958399772644043, -6.513500213623047, -7.199399948120117, -5.602399826049805, -7.015900135040283, -7.2281999588012695, -7.131400108337402, -4.061999797821045, -5.725399971008301, -5.412499904632568, -6.060200214385986, -6.543900012969971, -6.365099906921387, -6.748600006103516, -6.713200092315674, -6.463900089263916, -5.355299949645996, -5.177599906921387, -6.237500190734863, -6.475900173187256, -5.956099987030029, -4.72189998626709, -5.36359977722168, -4.70550012588501, -5.907299995422363, -4.613699913024902, -5.2555999755859375, -5.280200004577637, -5.32420015335083, -6.000100135803223, -5.05079984664917, -5.972400188446045, -5.647900104522705, -5.434199810028076, -5.6809000968933105, -5.423799991607666, -5.48390007019043, -5.99459981918335, -5.643199920654297, -5.544000148773193, -5.8053998947143555, -5.802000045776367, -5.807199954986572, -5.93179988861084, -5.80019998550415, -5.889200210571289, -5.909900188446045, -5.917500019073486, -6.970200061798096, -7.13700008392334, -7.144499778747559, -7.18179988861084, -7.247000217437744, -7.286200046539307, -7.332799911499023, -7.477499961853027, -7.527699947357178, -7.593599796295166, -7.578199863433838, -7.469099998474121, -7.61329984664917, -7.696100234985352, -7.690299987792969, -7.466599941253662, -7.000100135803223, -7.7820000648498535, -7.704999923706055, -7.652100086212158, -7.836100101470947, -7.602499961853027, -7.7459001541137695, -7.348899841308594, -7.826200008392334, -7.893199920654297, -7.894700050354004, -7.891900062561035, -7.651400089263916, -7.425899982452393, -7.041399955749512, -7.204100131988525, -6.813000202178955, -6.548699855804443, -6.763599872589111, -7.112299919128418, -6.415900230407715, -6.7779998779296875, -7.379799842834473, -6.820199966430664, -6.020500183105469, -6.988900184631348, -7.40880012512207, -6.381899833679199, -6.882299900054932, -6.093100070953369, -6.962200164794922, -7.103400230407715, -5.088799953460693, -5.978600025177002, -6.85099983215332, -7.149199962615967, -6.772600173950195, -3.3087000846862793, -6.441800117492676, -6.034900188446045, -6.359499931335449, -6.565800189971924, -6.426599979400635, -5.2154998779296875, -5.798600196838379, -6.787499904632568, -6.327400207519531, -5.43310022354126, -5.357900142669678, -5.627399921417236, -5.064000129699707, -5.430699825286865, -4.914700031280518, -5.197999954223633, -5.149799823760986, -5.31790018081665, -5.113399982452393, -5.149899959564209, -6.149700164794922, -5.618299961090088, -6.215000152587891, -5.188499927520752, -5.642000198364258, -5.5954999923706055, -5.945300102233887, -5.809500217437744, -5.534599781036377, -5.85230016708374, -5.728899955749512, -5.606400012969971, -5.89709997177124, -5.913400173187256, -6.010499954223633, -6.012199878692627, -6.472799777984619, -6.588399887084961, -6.833700180053711, -6.757199764251709, -7.021100044250488, -6.951200008392334, -7.076399803161621, -6.370200157165527, -6.947400093078613, -6.284999847412109, -7.040999889373779, -7.241499900817871, -7.222400188446045, -7.124199867248535, -7.247099876403809, -7.122200012207031, -7.304999828338623, -7.106900215148926, -7.404200077056885, -6.563899993896484, -6.2845001220703125, -7.228899955749512, -7.315800189971924, -6.9847002029418945, -7.374100208282471, -7.402699947357178, -7.317299842834473, -4.952899932861328, -7.428100109100342, -7.570700168609619, -7.3850998878479, -6.6545000076293945, -7.160600185394287, -6.765500068664551, -6.852200031280518, -5.317399978637695, -6.995999813079834, -6.7947998046875, -6.6072001457214355, -6.834799766540527, -6.348199844360352, -6.413700103759766, -6.216599941253662, -5.980199813842773, -6.338799953460693, -5.688600063323975, -5.149899959564209, -5.183300018310547, -6.153800010681152, -4.214099884033203, -6.140900135040283, -5.514599800109863, -6.471700191497803, -6.295499801635742, -5.987400054931641, -4.731100082397461, -4.83620023727417, -5.602700233459473, -6.034599781036377, -5.133200168609619, -5.917600154876709, -5.156499862670898, -4.950799942016602, -4.805699825286865, -5.50600004196167, -5.308800220489502, -5.272600173950195, -5.827899932861328, -5.458700180053711, -5.273099899291992, -5.580900192260742, -5.567500114440918, -5.750800132751465, -5.8420000076293945, -5.549699783325195, -5.509900093078613, -5.55810022354126, -5.668300151824951, -5.512899875640869, -5.695799827575684, -5.634900093078613, -5.67549991607666], \"loglift\": [30.0, 29.0, 28.0, 27.0, 26.0, 25.0, 24.0, 23.0, 22.0, 21.0, 20.0, 19.0, 18.0, 17.0, 16.0, 15.0, 14.0, 13.0, 12.0, 11.0, 10.0, 9.0, 8.0, 7.0, 6.0, 5.0, 4.0, 3.0, 2.0, 1.0, 1.5581, 1.5525, 1.55, 1.549, 1.549, 1.5484, 1.5476, 1.5456, 1.5436, 1.5423, 1.5419, 1.5418, 1.5411, 1.5405, 1.5388, 1.5386, 1.5386, 1.5382, 1.5352, 1.5352, 1.5352, 1.5344, 1.5337, 1.5336, 1.5334, 1.5332, 1.5331, 1.5328, 1.5325, 1.5322, 1.5252, 1.5241, 1.5215, 1.5022, 1.5207, 1.5288, 1.5231, 1.4385, 1.4139, 1.4788, 1.4174, 1.4724, 1.2014, 1.2867, 1.1802, 1.4629, 1.1713, 1.357, 1.4725, 1.0845, 0.9386, 1.3525, 1.1808, 0.7326, 0.8611, 0.7676, 0.8711, 0.4577, 0.6278, 1.101, 0.5014, 0.3364, 0.6525, 0.6318, 0.3125, 0.4469, 0.7865, 0.9638, 1.0112, 0.2989, 0.1345, 0.977, 0.7523, 0.5809, 0.3572, -0.0859, 0.3044, 0.3573, 0.5295, 0.2046, 0.0864, 0.0403, 0.4021, 0.2901, 0.2807, -0.0434, -0.0044, 0.2319, 1.8578, 1.8545, 1.8496, 1.8487, 1.8464, 1.8433, 1.8417, 1.8384, 1.8369, 1.8368, 1.8368, 1.8366, 1.8364, 1.8353, 1.8332, 1.8321, 1.831, 1.8301, 1.8279, 1.8262, 1.8253, 1.8245, 1.8239, 1.8238, 1.8237, 1.8234, 1.8216, 1.8205, 1.8199, 1.8193, 1.816, 1.8176, 1.8167, 1.7929, 1.7976, 1.8141, 1.7546, 1.7799, 1.7874, 1.788, 1.7606, 1.769, 1.7337, 1.5814, 1.4695, 1.6636, 1.0108, 1.7273, 1.2947, 1.6125, 1.6909, 1.4642, 1.6024, 1.1035, 1.4974, 1.1458, 1.5338, 1.5916, 1.6021, 0.7475, 0.8868, 0.9461, 1.2021, 1.1228, 1.0045, 0.8265, 1.0568, 1.4457, 1.224, 1.1922, 1.2042, 0.9731, 0.8355, 0.0479, 0.7021, 0.4547, 0.5618, 0.5587, -0.2514, 0.3981, -0.024, 0.1529, -0.206, 0.3027, 0.3546, 0.3602, 0.1001, -0.4395, 0.4321, -0.4178, -0.326, -0.1602, 0.007, 0.3075, -0.4458, 1.9026, 1.8986, 1.8973, 1.8927, 1.892, 1.8901, 1.8864, 1.8862, 1.8848, 1.8847, 1.8846, 1.8843, 1.8839, 1.8837, 1.8801, 1.8801, 1.8792, 1.8791, 1.8788, 1.8787, 1.8765, 1.8765, 1.8764, 1.8759, 1.8758, 1.8757, 1.8756, 1.8753, 1.8736, 1.8724, 1.8683, 1.867, 1.8482, 1.8485, 1.8601, 1.8426, 1.8517, 1.8329, 1.8517, 1.7685, 1.4106, 1.7418, 1.8055, 1.8011, 1.6105, 1.7585, 1.0727, 1.7304, 0.6646, 1.2519, 1.7953, 0.646, 0.6216, 1.3428, 0.7672, 0.738, 0.1426, 0.6828, 0.3541, 0.0407, 0.549, 0.77, 0.3054, 0.2818, 0.6375, 1.085, 0.468, 0.2587, -0.0511, 0.3942, 0.3171, -0.1543, 0.4714, 0.2224, 0.4251, 0.2799, 0.1124, 0.375, -0.3399, -0.0169, -0.2389, -0.3014, -0.5222, 1.9729, 1.9693, 1.9686, 1.9622, 1.9611, 1.9603, 1.9591, 1.9585, 1.957, 1.9569, 1.9568, 1.9555, 1.9548, 1.9525, 1.9523, 1.9507, 1.9492, 1.9485, 1.9485, 1.9467, 1.9439, 1.9434, 1.9428, 1.9387, 1.9387, 1.9386, 1.9377, 1.9376, 1.9371, 1.936, 1.9307, 1.9337, 1.9059, 1.8511, 1.8537, 1.8922, 1.8378, 1.8159, 1.7766, 1.9127, 1.7374, 1.6434, 1.7185, 1.7055, 1.7443, 1.842, 1.7178, 1.6209, 1.6931, 1.8359, 1.495, 1.5096, 1.5104, 1.7325, 1.4682, 1.4241, 1.4099, 1.5258, 1.3103, 1.139, 1.4386, 0.8852, 1.1885, 1.5531, 0.772, 0.6548, 1.0582, 0.187, 0.6266, 0.5609, -0.2186, 0.5885, 0.2872, 0.206, 0.4956, 0.5748, -0.2242, -0.0882, -0.396, 0.2356, -0.0289, 0.2357, 0.2017, 2.0359, 2.0349, 2.0348, 2.0335, 2.0286, 2.0285, 2.0283, 2.0279, 2.0251, 2.0224, 2.0204, 2.0192, 2.0187, 2.0184, 2.0174, 2.0166, 2.0162, 2.0151, 2.0138, 2.0135, 2.0123, 2.0116, 2.0114, 2.0093, 2.009, 2.0085, 2.0053, 2.0043, 2.0041, 2.0029, 1.9774, 1.981, 1.8689, 1.9935, 1.9905, 1.8168, 1.9805, 1.8381, 1.7795, 1.7776, 1.5686, 1.974, 1.6363, 1.8762, 1.7401, 1.8515, 1.7553, 1.7332, 1.8538, 1.7979, 1.3226, 1.6445, 1.617, 1.4147, 1.4901, 1.4657, 0.6181, 1.578, 0.7417, 1.413, 1.6852, 1.7563, 0.6632, 1.0394, 0.844, 1.4536, 0.176, 0.0854, 0.3545, 0.3075, 1.4776, 0.1723, 0.2234, -0.2612, 0.151, 0.4774, 0.4594, 0.0173, -0.1999, 0.6281, 0.0161, 0.3923, 0.0551, 0.3019, -0.4521, -0.1151, 0.2388, 2.333, 2.3301, 2.33, 2.3278, 2.3253, 2.3234, 2.3231, 2.3217, 2.3213, 2.3151, 2.3133, 2.313, 2.313, 2.3116, 2.3109, 2.3091, 2.3079, 2.306, 2.3049, 2.3046, 2.3045, 2.3044, 2.3035, 2.3034, 2.3031, 2.3019, 2.3016, 2.3014, 2.3005, 2.2968, 2.2963, 2.2964, 2.2783, 2.2493, 2.2919, 2.2601, 2.2523, 2.2771, 2.2481, 2.2875, 2.2537, 1.8784, 2.2029, 2.1175, 2.2201, 1.8665, 2.1744, 2.2173, 2.1759, 1.1993, 1.5873, 1.3853, 1.6619, 1.8851, 1.7885, 1.9469, 1.9242, 1.7737, 1.0291, 0.9138, 1.5385, 1.7038, 1.3263, 0.259, 0.778, 0.1293, 1.1928, -0.0426, 0.4555, 0.3206, 0.3382, 1.0622, -0.1513, 0.961, 0.3979, 0.048, 0.3204, -0.2293, -0.1188, 0.8635, -0.0939, -0.4159, 0.1938, 0.1264, -0.0659, 0.6107, -1.5296, -0.188, 0.0453, -0.3339, 2.4868, 2.4819, 2.4811, 2.4804, 2.478, 2.4766, 2.4743, 2.4675, 2.4632, 2.4619, 2.4616, 2.4604, 2.4595, 2.4578, 2.4561, 2.4559, 2.4554, 2.4533, 2.4514, 2.4498, 2.4496, 2.4496, 2.4485, 2.4482, 2.4472, 2.4464, 2.4463, 2.4462, 2.4456, 2.4454, 2.4408, 2.4418, 2.4363, 2.4182, 2.3998, 2.416, 2.3582, 2.3824, 2.426, 2.3668, 2.2633, 2.3741, 2.4237, 2.2711, 2.3448, 2.2067, 2.3479, 2.3742, 1.9341, 2.1138, 2.2961, 2.3746, 2.2205, 0.9619, 2.0966, 1.8955, 2.0184, 2.0638, 1.9762, 1.1433, 1.4276, 2.1513, 1.7578, 0.8381, 0.7609, 1.0099, 0.2985, 0.664, 0.0661, 0.3514, 0.2153, 0.3055, 0.0147, 0.0447, 1.3663, 0.4969, 1.43, -0.6174, 0.0592, -0.1542, 0.6631, 0.2363, -0.6351, 0.3129, -0.2467, -0.7717, 0.3704, 0.0879, 0.0987, -0.057, 2.8349, 2.8319, 2.8277, 2.8254, 2.8228, 2.822, 2.8206, 2.8197, 2.8174, 2.8168, 2.816, 2.813, 2.8129, 2.8111, 2.811, 2.8109, 2.8098, 2.807, 2.8044, 2.8039, 2.8029, 2.8018, 2.8013, 2.8011, 2.7981, 2.7967, 2.7948, 2.7946, 2.7943, 2.794, 2.794, 2.7844, 2.791, 2.7722, 2.7703, 2.6147, 2.7615, 2.7293, 2.6847, 2.7141, 2.5985, 2.613, 2.517, 2.3932, 2.4953, 2.1926, 1.8848, 1.8073, 2.3241, 1.2266, 2.3069, 1.8618, 2.4351, 2.2965, 2.0245, 0.9432, 0.905, 1.5701, 1.9617, 0.8461, 1.7577, 0.5447, 0.03, -0.2347, 0.8499, 0.4249, 0.2768, 1.402, 0.5459, -0.3737, 0.4625, 0.3877, 0.9633, 1.1981, 0.0511, -0.1448, -0.0223, 0.4184, -0.3183, 0.4194, -0.1936, -0.8407]}, \"token.table\": {\"Topic\": [4, 2, 6, 7, 1, 2, 3, 4, 5, 6, 7, 8, 1, 2, 3, 4, 5, 6, 7, 8, 4, 6, 7, 2, 6, 7, 1, 2, 3, 4, 5, 6, 7, 8, 8, 1, 2, 3, 4, 5, 6, 7, 8, 1, 2, 3, 4, 5, 6, 7, 8, 1, 2, 3, 4, 5, 6, 7, 8, 2, 3, 1, 2, 3, 4, 5, 6, 7, 8, 1, 2, 7, 1, 2, 3, 4, 5, 6, 7, 1, 3, 8, 7, 2, 6, 1, 2, 3, 4, 5, 8, 1, 2, 3, 4, 5, 6, 7, 8, 3, 1, 2, 3, 4, 5, 6, 7, 8, 1, 2, 3, 4, 5, 6, 7, 8, 1, 2, 3, 4, 5, 6, 7, 8, 1, 2, 3, 4, 5, 6, 8, 1, 2, 3, 4, 5, 6, 7, 8, 1, 3, 5, 6, 7, 4, 1, 4, 7, 1, 2, 3, 4, 5, 6, 7, 8, 2, 1, 2, 3, 6, 7, 1, 4, 2, 1, 2, 3, 4, 5, 6, 7, 8, 1, 2, 3, 4, 5, 6, 7, 8, 4, 1, 3, 4, 6, 7, 4, 1, 2, 3, 5, 7, 1, 6, 8, 1, 2, 3, 4, 5, 6, 7, 8, 1, 2, 3, 4, 5, 6, 7, 8, 5, 1, 2, 3, 4, 5, 6, 7, 8, 1, 1, 2, 3, 4, 5, 6, 7, 8, 5, 8, 1, 2, 3, 4, 5, 6, 7, 8, 5, 7, 8, 5, 3, 6, 1, 2, 3, 4, 5, 6, 7, 8, 4, 5, 1, 2, 3, 4, 5, 6, 7, 8, 2, 6, 1, 2, 3, 4, 7, 1, 3, 8, 1, 2, 3, 4, 5, 6, 7, 8, 1, 2, 3, 4, 5, 6, 7, 8, 1, 2, 4, 6, 8, 1, 2, 3, 5, 7, 7, 3, 8, 2, 1, 2, 3, 4, 5, 6, 7, 8, 1, 2, 3, 4, 5, 6, 7, 8, 1, 2, 3, 4, 5, 6, 7, 8, 6, 3, 1, 2, 5, 1, 1, 2, 3, 5, 8, 2, 5, 6, 4, 7, 8, 1, 2, 3, 4, 5, 6, 7, 8, 1, 3, 5, 6, 7, 2, 1, 1, 1, 1, 2, 3, 4, 5, 7, 8, 1, 3, 4, 5, 6, 7, 8, 1, 3, 1, 2, 3, 4, 5, 6, 7, 8, 4, 1, 2, 3, 4, 5, 6, 7, 8, 1, 4, 6, 8, 3, 4, 1, 4, 5, 6, 7, 1, 2, 3, 4, 5, 6, 7, 8, 4, 7, 2, 6, 1, 2, 3, 4, 5, 6, 7, 8, 1, 8, 4, 3, 6, 1, 2, 3, 4, 5, 7, 8, 3, 1, 2, 3, 4, 5, 6, 7, 7, 1, 2, 4, 5, 7, 7, 5, 1, 2, 3, 4, 5, 6, 7, 8, 2, 3, 4, 7, 4, 5, 8, 2, 1, 2, 3, 4, 5, 6, 7, 8, 1, 3, 4, 8, 5, 1, 1, 2, 3, 4, 5, 6, 8, 7, 1, 2, 3, 4, 5, 6, 7, 8, 1, 3, 6, 2, 1, 2, 3, 4, 5, 7, 8, 1, 2, 5, 8, 4, 3, 4, 1, 6, 1, 1, 4, 1, 2, 3, 4, 5, 6, 7, 8, 4, 8, 1, 2, 3, 4, 5, 6, 7, 8, 1, 2, 3, 4, 5, 6, 7, 8, 1, 2, 3, 4, 5, 6, 7, 8, 8, 3, 4, 4, 5, 3, 1, 2, 3, 4, 5, 6, 7, 8, 1, 2, 3, 4, 5, 6, 7, 8, 4, 1, 2, 3, 4, 5, 6, 7, 8, 1, 2, 3, 4, 5, 6, 7, 8, 8, 3, 8, 7, 2, 7, 7, 1, 1, 2, 3, 4, 5, 6, 7, 8, 2, 1, 2, 3, 4, 5, 6, 7, 8, 1, 2, 3, 4, 5, 6, 7, 8, 2, 7, 7, 1, 2, 3, 4, 5, 7, 8, 1, 2, 3, 4, 5, 6, 7, 8, 1, 2, 3, 4, 5, 7, 8, 5, 1, 2, 3, 4, 5, 6, 7, 8, 1, 2, 3, 4, 5, 6, 7, 8, 1, 2, 3, 4, 5, 6, 7, 8, 1, 2, 3, 4, 5, 6, 7, 8, 1, 2, 4, 5, 7, 8, 1, 6, 1, 3, 4, 6, 7, 1, 5, 1, 2, 3, 4, 5, 6, 7, 8, 1, 2, 3, 4, 5, 6, 7, 8, 6, 1, 2, 3, 4, 5, 6, 7, 8, 3, 1, 2, 3, 4, 5, 6, 7, 8, 3, 6, 1, 2, 4, 1, 3, 6, 1, 6, 1, 2, 3, 4, 5, 7, 1, 2, 3, 4, 5, 6, 7, 8, 3, 6, 5, 1, 2, 3, 4, 5, 6, 7, 8, 1, 2, 3, 4, 5, 6, 7, 8, 3, 4, 5, 1, 2, 3, 4, 5, 6, 7, 8, 1, 2, 3, 4, 5, 6, 7, 8, 7, 8, 6, 7, 6, 1, 2, 3, 4, 5, 7, 8, 1, 2, 3, 4, 5, 6, 7, 8, 1, 2, 3, 4, 5, 6, 7, 8, 1, 1, 2, 3, 4, 5, 6, 7, 8, 5, 5, 3, 6, 7, 2, 1, 2, 3, 4, 5, 6, 7, 8, 1, 5, 1, 2, 3, 4, 5, 7, 7, 6, 3, 5, 1, 2, 3, 4, 5, 6, 7, 8, 1, 6, 8, 1, 3, 4, 5, 7, 8, 4, 5, 3, 3, 7, 2, 2, 3, 5, 7, 8, 1, 2, 3, 4, 5, 6, 7, 8, 1, 3, 4, 5, 7, 8, 2, 1, 2, 3, 4, 5, 6, 7, 8, 4, 1, 2, 3, 4, 5, 6, 7, 8, 1, 5, 1, 2, 3, 4, 5, 6, 7, 8, 1, 2, 4, 5, 6, 1, 2, 3, 5, 7, 3, 1, 2, 3, 4, 5, 6, 7, 8, 7, 8, 1, 7, 1, 8, 7, 1, 2, 3, 4, 5, 6, 7, 8, 2, 4, 1, 1, 6, 8, 2, 3, 4, 5, 6, 7, 1, 2, 3, 4, 5, 6, 7, 8, 3, 5, 1, 8, 1, 2, 3, 5, 6, 2, 3, 4, 5, 7, 8, 6, 1, 2, 6, 1, 3, 4, 5, 6, 1, 3, 8, 4, 1, 2, 6, 8, 1, 2, 3, 4, 5, 6, 7, 8, 1, 2, 3, 4, 5, 6, 7, 8, 1, 2, 3, 4, 5, 6, 8, 1, 6, 8, 1, 2, 3, 4, 5, 6, 7, 8, 4, 7, 1, 3, 6, 1, 2, 3, 4, 5, 6, 7, 8, 1, 3, 4, 5, 6, 8, 1, 2, 3, 4, 5, 6, 7, 8, 1, 6, 1, 2, 3, 4, 5, 6, 7, 8, 1, 3, 4, 6, 7, 8, 1, 2, 3, 4, 5, 6, 7, 8, 2, 1, 2, 3, 4, 5, 6, 7, 8, 1, 6, 5, 1, 4, 5, 7, 1, 2, 7, 5, 8, 1, 5, 1, 2, 3, 4, 5, 6, 7, 8, 7, 2, 8, 1, 2, 3, 4, 5, 6, 7, 8, 1, 2, 3, 4, 5, 6, 7, 8, 2, 2, 3, 4, 5, 6, 8, 1, 2, 3, 4, 5, 6, 7, 8, 1, 2, 3, 4, 5, 6, 7, 8, 1, 3, 4, 5, 6, 7, 1, 2, 3, 4, 5, 6, 8, 1, 2, 3, 4, 5, 6, 7, 8, 1, 2, 3, 4, 5, 6, 7, 8, 3, 4, 5, 6, 1, 2, 3, 4, 5, 6, 7, 8, 1, 2, 3, 4, 5, 6, 7, 8, 2, 3, 1, 2, 3, 4, 5, 6, 7, 8, 1, 2, 1, 2, 3, 4, 5, 6, 7, 8, 3, 7, 3, 1, 2, 3, 4, 5, 6, 7, 8, 1, 2, 3, 4, 5, 6, 7, 8, 3, 3, 1, 2, 3, 4, 5, 6, 7, 8, 1, 2, 3, 4, 5, 6, 7, 8, 4, 1, 4, 7, 3, 6, 8, 4, 3, 7, 2, 1, 4, 7, 8, 1, 2, 3, 4, 5, 6, 7, 8, 1, 2, 3, 4, 5, 6, 7, 8, 1, 4, 3, 6, 1, 2, 3, 4, 5, 6, 7, 8, 1, 2, 3, 4, 5, 6, 7, 8, 2, 6, 1, 2, 3, 6, 8, 7, 1, 2, 3, 4, 5, 6, 7, 8, 1, 2, 7, 8, 1, 3, 3, 5, 1, 2, 3, 4, 5, 6, 7, 8, 6, 1, 2, 3, 4, 5, 6, 7, 8, 1, 2, 3, 4, 5, 6, 7, 8, 4, 8, 1, 2, 3, 4, 5, 6, 7, 8, 3, 4, 8, 5, 8, 8, 2, 2, 3, 4, 1, 2, 3, 4, 5, 6, 7, 8, 1, 3, 4, 5, 7, 3, 6, 1, 2, 3, 4, 5, 6, 7, 8, 1, 2, 3, 7, 8, 6, 2, 1, 2, 3, 4, 5, 6, 7, 8, 2, 8, 1, 2, 3, 4, 5, 6, 7, 8, 8, 1, 2, 3, 4, 5, 6, 7, 8, 4, 7, 6, 1, 2, 3, 4, 5, 7, 8, 1, 2, 3, 4, 5, 6, 7, 1, 3, 1, 5, 1, 2, 3, 4, 5, 6, 7, 1, 2, 3, 4, 5, 6, 7, 8, 1, 2, 3, 4, 5, 6, 7, 8, 1, 2, 3, 4, 5, 6, 7, 8, 1, 2, 3, 4, 5, 6, 7, 8, 1, 2, 3, 4, 5, 6, 7, 8, 3, 5, 7, 1, 2, 3, 4, 5, 6, 7, 8, 1, 2, 6, 7, 8, 7, 1, 2, 3, 4, 5, 6, 7, 2, 1, 2, 3, 4, 5, 6, 7, 8, 2, 1, 6, 7, 7, 1, 2, 3, 4, 5, 6, 7, 8, 8, 5, 1, 2, 3, 4, 5, 6, 7, 8, 1, 2, 3, 4, 5, 6, 7, 8, 2, 1, 2, 5, 6, 8, 2, 4, 6, 5, 7, 6, 1, 1, 2, 4, 5, 7, 1, 1, 1, 2, 3, 4, 5, 6, 7, 8, 6, 1, 2, 3, 4, 5, 6, 7, 8, 1, 2, 3, 5, 1, 2, 3, 4, 5, 6, 7, 8, 1, 2, 4, 5, 6, 7, 8, 1, 2, 3, 4, 5, 6, 7, 8, 1, 2, 2, 8, 1, 2, 3, 4, 5, 6, 7, 8, 1, 2, 3, 4, 5, 6, 7, 1, 2, 3, 4, 5, 6, 7, 1, 2, 3, 4, 5, 6, 7, 8, 1, 2, 3, 4, 5, 6, 7, 8, 1, 2, 3, 4, 5, 6, 7, 8, 6, 1, 2, 3, 4, 5, 6, 7, 8, 5, 6, 2, 5, 6, 8, 1, 2, 3, 4, 5, 6, 7, 8, 1, 3, 4, 1, 2, 3, 4, 5, 7, 3, 7, 8, 1, 3, 4, 5, 6, 1, 2, 3, 4, 5, 6, 7, 8, 8, 5, 1, 2, 3, 4, 5, 6, 7, 8, 4, 3, 1, 1, 3, 7, 1, 2, 6, 7, 1, 2, 3, 4, 5, 6, 7, 8, 1, 2, 3, 4, 5, 6, 7, 8, 1, 2, 3, 4, 5, 6, 7, 8, 1, 2, 3, 4, 5, 6, 7, 8, 4, 2, 3, 4, 5, 1, 2, 3, 4, 5, 6, 7, 8, 1, 2, 3, 4, 5, 6, 7, 8, 1, 3, 8, 1, 4, 7, 1, 3, 5, 7, 8, 3, 4, 8, 7, 1, 1, 4, 5, 7, 6, 1, 6, 1, 2, 3, 4, 5, 6, 7, 8, 7, 6, 5, 1, 2, 3, 4, 5, 6, 7, 8, 5, 6, 1, 2, 3, 5, 6, 7, 8, 1, 3, 4, 2, 3, 1, 4, 1, 2, 3, 5, 6, 7, 1, 6, 3, 4, 5, 3, 5, 6, 1, 2, 3, 4, 5, 6, 7, 8, 6, 1, 2, 3, 4, 5, 6, 7, 8, 2, 3, 1, 5, 1, 2, 3, 4, 5, 6, 7, 8, 1, 2, 3, 4, 5, 6, 7, 8, 1, 2, 3, 4, 5, 6, 7, 8, 8, 4, 1, 2, 5, 6, 1, 3, 1, 2, 3, 4, 5, 6, 7, 8, 6, 8, 1, 2, 3, 4, 5, 6, 7, 8, 2, 1, 3, 5, 1, 2, 3, 4, 5, 6, 7, 8, 2, 3, 1, 4, 2, 6, 1, 2, 3, 4, 5, 6, 7, 8, 5, 1, 2, 3, 4, 5, 7, 8, 5, 1, 4, 1, 2, 3, 4, 5, 6, 7, 8, 1, 2, 3, 4, 5, 6, 7, 8, 3, 5, 1, 2, 5, 1, 2, 3, 4, 5, 6, 8, 7, 1, 2, 3, 4, 5, 6, 7, 8, 2, 8, 1, 6, 2, 1, 2, 3, 4, 5, 6, 7, 4, 5, 7, 5, 1, 2, 3, 4, 5, 6, 7, 8, 2, 5, 1, 2, 3, 4, 5, 7, 8, 5, 7, 1, 2, 3, 4, 5, 6, 7, 8, 1, 2, 3, 4, 5, 6, 7, 8, 1, 2, 3, 4, 5, 6, 7, 8, 1, 2, 3, 4, 5, 6, 7, 8, 1, 2, 3, 4, 5, 6, 7, 8, 1, 2, 3, 4, 5, 6, 7, 8, 1, 2, 3, 4, 5, 6, 7, 8, 7, 3, 4, 7, 8, 7, 3, 3, 6, 2, 3, 4, 5, 6, 1, 2, 3, 4, 5, 6, 7, 1, 2, 3, 4, 5, 6, 7, 8, 1, 2, 3, 4, 5, 6, 7, 8, 1, 2, 3, 4, 5, 6, 7, 8, 1, 2, 3, 4, 5, 6, 7, 8, 5, 8, 1, 2, 3, 4, 5, 6, 7, 8, 8, 8, 2], \"Freq\": [0.958302578628939, 0.03370825857274999, 0.03370825857274999, 0.9101229814642499, 0.16765897631435708, 0.00859789622124908, 0.030092636774371784, 0.08168001410186627, 0.07738106599124173, 0.6061516835980602, 0.01719579244249816, 0.00859789622124908, 0.06820375545429953, 0.03410187772714977, 0.04262734715893721, 0.16198391920396138, 0.09378016374966185, 0.5626809824979712, 0.025576408295362323, 0.008525469431787442, 0.9222705641678673, 0.9193215701503712, 0.9571786761113342, 0.9601139408255197, 0.9443307970505739, 0.03777323188202295, 0.13167344291089855, 0.005603125230251003, 0.0070039065378137534, 0.015408594383190257, 0.8236594088468974, 0.008404687845376504, 0.0028015626151255014, 0.0070039065378137534, 0.9418116311122015, 0.2242364530782667, 0.15138325946212097, 0.14381409648901491, 0.10880671773839945, 0.11259129922495248, 0.09839911865037863, 0.07663777510269874, 0.08420693807580479, 0.03272757661422015, 0.04090947076777519, 0.061364206151662784, 0.7022792481801408, 0.03681852369099767, 0.023182033435072608, 0.06954610030521782, 0.03272757661422015, 0.02935154709516755, 0.5234359231971546, 0.1271900374123927, 0.02445962257930629, 0.0929465658013639, 0.06848694322205762, 0.1174061883806702, 0.014675773547583775, 0.035794487794081405, 0.9306566826461166, 0.19698971224337666, 0.10713475578148556, 0.2511330834447726, 0.15551819387635, 0.20505361859252075, 0.024191719047432222, 0.047231451473558145, 0.013823839455675556, 0.023401357019925864, 0.07020407105977759, 0.8892515667571828, 0.6690283527904511, 0.011635275700703497, 0.22107023831336645, 0.005817637850351749, 0.029088189251758743, 0.04072346495246224, 0.011635275700703497, 0.03309302367655072, 0.9596976866199708, 0.9698228662425539, 0.9708164133332787, 0.040392100545278656, 0.9290183125414091, 0.07861039932564025, 0.26858553102927085, 0.013101733220940041, 0.08516126593611027, 0.5437219286690117, 0.006550866610470021, 0.02408385093183765, 0.3966751918185024, 0.21675465838653882, 0.005666788454550035, 0.00991687979546256, 0.08641852393188804, 0.25358878334111407, 0.008500182681825052, 0.9645745029721176, 0.4921133096391725, 0.09512971041352034, 0.09878854542942496, 0.064029612778331, 0.13903573060437588, 0.0658590302862833, 0.03658835015904628, 0.00914708753976157, 0.29467831812727174, 0.08734477094191588, 0.09704974549101765, 0.2540938791037553, 0.11116607210789294, 0.06440574018949353, 0.038819898196407056, 0.052053954399727646, 0.153903422972135, 0.1051908716644409, 0.1884963941906424, 0.1334300318428143, 0.2463866725563079, 0.13201807383389563, 0.02047339112932071, 0.02047339112932071, 0.08880934640706536, 0.0068314881851588745, 0.061483393666429874, 0.04098892911095325, 0.013662976370317749, 0.0068314881851588745, 0.7787896531081118, 0.07423467147885887, 0.009897956197181182, 0.009897956197181182, 0.03959182478872473, 0.7522446709857699, 0.0544387590844965, 0.009897956197181182, 0.049489780985905917, 0.03698111564373427, 0.012327038547911425, 0.9122008525454454, 0.012327038547911425, 0.012327038547911425, 0.9338029174709351, 0.7926335889898625, 0.1366609636189418, 0.05466438544757672, 0.6208556041614974, 0.010095213075796706, 0.025238032689491766, 0.2675231465086127, 0.03028563922739012, 0.020190426151593412, 0.005047606537898353, 0.01514281961369506, 0.97074977323585, 0.059211520286873986, 0.09868586714478997, 0.03947434685791599, 0.03947434685791599, 0.7500125903004038, 0.02705739549703745, 0.9470088423963108, 0.9417297256631738, 0.21687178245112687, 0.2122899842303284, 0.10843589122556344, 0.07636330367997425, 0.23825350748151966, 0.08247236797437218, 0.029018055398390214, 0.03665438576638764, 0.17761033333523163, 0.13357471350005024, 0.16219786639291814, 0.10568548760443534, 0.158528231406653, 0.07779626170882047, 0.08586945867860372, 0.09834621763190511, 0.976382602745407, 0.08982827072272082, 0.033685601521020306, 0.011228533840340102, 0.6175693612187055, 0.224570676806802, 0.9782665086517689, 0.027257686730084114, 0.708699854982187, 0.009085895576694706, 0.23623328499406232, 0.009085895576694706, 0.12411514777905187, 0.8688060344533631, 0.959444068561989, 0.0387918149612363, 0.4224972787859538, 0.28242547634673854, 0.012111471639481017, 0.007196671553894518, 0.02036131464028693, 0.21168746082918996, 0.005265857234556964, 0.06488487171180912, 0.3516760046780054, 0.3036611996112667, 0.011679276908125641, 0.029847040987432197, 0.046717107632502565, 0.18686843053001026, 0.0051907897369447295, 0.9415800030253495, 0.11218403810549868, 0.3109100484638106, 0.19071286477934773, 0.040065727894820956, 0.1217998128002557, 0.11859455456867003, 0.09134985960019178, 0.016026291157928384, 0.972117712405285, 0.429122714738799, 0.034875697664284014, 0.11751593778182658, 0.15011713342452684, 0.13419561927344067, 0.025777689577949053, 0.021986852875309486, 0.08718924416071004, 0.9652210457914033, 0.024130526144785083, 0.42844520252709184, 0.003197352257664865, 0.03517087483431351, 0.12469673804892972, 0.12149938579126486, 0.00639470451532973, 0.00639470451532973, 0.27497229415917834, 0.9423698586765329, 0.9569653610005031, 0.9609217728445881, 0.9497501784526726, 0.04699342579614961, 0.9398685159229923, 0.22468283523070956, 0.09847560032781728, 0.11432224865643156, 0.16695575917647185, 0.266563262956333, 0.012450937972482645, 0.06961206230069843, 0.04697399325982089, 0.9461731364734459, 0.9477365547623098, 0.10326941160518487, 0.003688193271613745, 0.07745205870388865, 0.7708323937672727, 0.022129159629682472, 0.011064579814841236, 0.00737638654322749, 0.003688193271613745, 0.9254635255183666, 0.9772621313748123, 0.8452494413562202, 0.010977265472158703, 0.010977265472158703, 0.12074992019374574, 0.010977265472158703, 0.03402578244750214, 0.03402578244750214, 0.9186961260825577, 0.004350145341514979, 0.017400581366059917, 0.13050436024544937, 0.7482249987405765, 0.017400581366059917, 0.06090203478120971, 0.013050436024544938, 0.008700290683029958, 0.09595047190260578, 0.011749037375829278, 0.019581728959715463, 0.1791728199813965, 0.6099708570951368, 0.022518988303672785, 0.056787013983174844, 0.003916345791943093, 0.06373028179315057, 0.13808227721849292, 0.1168388499541094, 0.05310856816095882, 0.626681104299314, 0.02051806353841949, 0.8617586686136185, 0.02051806353841949, 0.02051806353841949, 0.061554190615258464, 0.9186350094328308, 0.04238778899377432, 0.8901435688692608, 0.9718098589321351, 0.03721320147708186, 0.47232140336296213, 0.11450215839102111, 0.008587661879326584, 0.04007575543685739, 0.27194262617867515, 0.048663417316183975, 0.005725107919551056, 0.042145188711458365, 0.4839430289970909, 0.130795413242457, 0.0087196942161638, 0.01598610606296697, 0.26304410885427465, 0.049411600558261534, 0.007266411846803167, 0.6709760647479819, 0.007924914150566715, 0.07132422735510044, 0.06339931320453372, 0.0528327610037781, 0.018491466351322337, 0.01056655220075562, 0.10302388395736731, 0.968764977334513, 0.9840411979883315, 0.06171322268404748, 0.8639851175766649, 0.06171322268404748, 0.9636370462831888, 0.017475174832746517, 0.8388083919718329, 0.034950349665493034, 0.08737587416373259, 0.017475174832746517, 0.9125459606135712, 0.022257218551550516, 0.022257218551550516, 0.06713761472157734, 0.03356880736078867, 0.8727889913805055, 0.2662025621587061, 0.012985490837010052, 0.07142019960355529, 0.006492745418505026, 0.07142019960355529, 0.05194196334804021, 0.012985490837010052, 0.512926888061897, 0.867393781608183, 0.028913126053606103, 0.057826252107212206, 0.014456563026803051, 0.014456563026803051, 0.9662613827599305, 0.9386484267351146, 0.9671112110264025, 0.9678334296806707, 0.0411711630229594, 0.19213209410714388, 0.0823423260459188, 0.013723721007653135, 0.02744744201530627, 0.6312911663520442, 0.013723721007653135, 0.01704042026929065, 0.022720560359054197, 0.005680140089763549, 0.005680140089763549, 0.005680140089763549, 0.011360280179527098, 0.9315429747212222, 0.055443484263291834, 0.9148174903443153, 0.02505403394654049, 0.12527016973270244, 0.07516210183962146, 0.012527016973270246, 0.012527016973270246, 0.05010806789308098, 0.663931899583323, 0.05010806789308098, 0.9321224009224484, 0.10338454139519623, 0.012531459563054088, 0.053258703142979875, 0.6860974110772113, 0.07518875737832453, 0.021930054235344654, 0.009398594672290567, 0.040727243579925784, 0.9804074418144404, 0.0308272272924011, 0.0308272272924011, 0.924816818772033, 0.934373091534528, 0.04247150416066036, 0.030214933278235545, 0.9064479983470664, 0.030214933278235545, 0.015107466639117773, 0.030214933278235545, 0.07689769688093506, 0.3127173006491359, 0.08715072313172641, 0.09227723625712207, 0.03588559187776969, 0.05126513125395671, 0.33834986627611424, 0.0051265131253956705, 0.044102460073391705, 0.9261516615412259, 0.9817729866403928, 0.9737271773720443, 0.2950045886801367, 0.15491446993504665, 0.12378333243613775, 0.16603273332751411, 0.032613572617904554, 0.14824351189956617, 0.05559131696233731, 0.023718961903930587, 0.9447177410327341, 0.9474372896943705, 0.9819362494028461, 0.0783175116365346, 0.8875984652140587, 0.09052938866938257, 0.03621175546775302, 0.09052938866938257, 0.01810587773387651, 0.12674114413713558, 0.01810587773387651, 0.6518115984195544, 0.9479576978446762, 0.017302254992274207, 0.017302254992274207, 0.017302254992274207, 0.8651127496137103, 0.03893007373261696, 0.008651127496137103, 0.034604509984548414, 0.949989002292205, 0.056189010655865845, 0.014047252663966461, 0.11237802131173169, 0.014047252663966461, 0.7866461491821218, 0.9231884751154189, 0.9561926317844118, 0.06835040634596205, 0.012427346608356737, 0.0062136733041783685, 0.758068143109761, 0.031068366520891844, 0.0062136733041783685, 0.018641019912535105, 0.0994187728668539, 0.03477945831503895, 0.0695589166300779, 0.8520967287184543, 0.03477945831503895, 0.03618411908133807, 0.9407870961147898, 0.9621267380491316, 0.9807200561134691, 0.16924192599481094, 0.0067696770397924376, 0.02369386963927353, 0.13877837931574497, 0.1286238637560563, 0.07446644743771681, 0.22678418083304666, 0.23016901935294287, 0.0344093554372094, 0.0344093554372094, 0.0344093554372094, 0.860233885930235, 0.9649240261163107, 0.9697627460303616, 0.014657688228378122, 0.16123457051215934, 0.05863075291351249, 0.05863075291351249, 0.014657688228378122, 0.6595959702770156, 0.043973064685134365, 0.9091848554473323, 0.22846072133607967, 0.17106962225648478, 0.11367852317688988, 0.15230714755738645, 0.08829399858399214, 0.07615357377869322, 0.08939767356629205, 0.07946459872559293, 0.029037120265306107, 0.9291878484897954, 0.9661223195381535, 0.9738834099288659, 0.03141197911016907, 0.05235329851694845, 0.05235329851694845, 0.7643581583474474, 0.07329461792372782, 0.010470659703389689, 0.010470659703389689, 0.979852787018974, 0.01507465826183037, 0.945552525068585, 0.02954851640839328, 0.9534797177207482, 0.9442016124203308, 0.9845663242575846, 0.07395445341422349, 0.8874534409706819, 0.951864471886211, 0.9277236274800377, 0.037108945099201505, 0.034658597897177276, 0.020795158738306365, 0.07624891537379001, 0.06931719579435455, 0.6169230425697555, 0.027726878317741822, 0.006931719579435456, 0.15249783074758003, 0.9451796165773144, 0.9335613212177832, 0.050356166632510815, 0.4635056246856109, 0.016022416655798895, 0.42459404137867074, 0.02060024998602715, 0.006866749995342383, 0.006866749995342383, 0.012589041658127704, 0.01935405481077759, 0.7483567860167334, 0.07096486763951783, 0.025805406414370118, 0.006451351603592529, 0.03225675801796265, 0.07096486763951783, 0.01935405481077759, 0.12981349535289355, 0.07417914020165346, 0.07417914020165346, 0.027817177575620047, 0.09272392525206682, 0.5563435515124009, 0.009272392525206683, 0.04636196262603341, 0.944760896333456, 0.018228377590041558, 0.947875634682161, 0.944349704026284, 0.03372677514379586, 0.9611603922381416, 0.21958165175608074, 0.11064191755151355, 0.18724016816409986, 0.09702445077594266, 0.0680873338778545, 0.17362270138852895, 0.05106550040839087, 0.09532226742899629, 0.07172220128747529, 0.015938266952772288, 0.725191146351139, 0.007969133476386144, 0.02390740042915843, 0.11953700214579215, 0.031876533905544575, 0.015938266952772288, 0.9759801286852955, 0.27794442383757506, 0.09859160694615869, 0.10750680544660922, 0.1321547071831489, 0.15103395106645587, 0.08338332715127252, 0.10016487726976761, 0.049295803473079346, 0.22858897920062818, 0.11035330030375154, 0.1542694096083057, 0.14526097693044845, 0.2015636811670564, 0.0788237859312511, 0.0596808664908044, 0.02139502760991101, 0.9626149256757921, 0.9802928140857694, 0.013247200190348234, 0.9380629561484953, 0.04448850030742074, 0.9342585064558356, 0.9660576823685699, 0.9555386649144717, 0.13579314847016036, 0.4073794454104811, 0.07759608484009164, 0.07759608484009164, 0.13856443721444936, 0.05542577488577974, 0.05819706363006873, 0.04711190865291278, 0.9694311425049231, 0.17178015153885484, 0.24278261417491484, 0.08703527677968646, 0.03435603030777097, 0.35959311722133613, 0.045808040410361295, 0.027484824246216774, 0.03206562828725291, 0.17321828732735614, 0.10189311019256243, 0.3138307793930923, 0.09985524798871119, 0.09374166137715745, 0.052984417300132466, 0.11615814561952117, 0.04890869289242997, 0.9353656145417036, 0.04066807019746537, 0.9106283047669943, 0.16508046514651126, 0.02358292359235875, 0.035374385388538127, 0.02358292359235875, 0.15328900335033188, 0.011791461796179376, 0.5777816280127894, 0.0615073239801953, 0.16774724721871445, 0.015376830995048826, 0.07269047379477626, 0.047528386711969094, 0.615073239801953, 0.0041936811804678615, 0.016774724721871446, 0.13636458694910455, 0.011363715579092047, 0.022727431158184094, 0.011363715579092047, 0.6818229347455228, 0.03409114673727614, 0.11363715579092047, 0.9468211747966614, 0.13155063247789994, 0.2691915720149619, 0.2119426856588388, 0.11815195694774347, 0.07551980753360922, 0.0706475618862796, 0.09622685153476014, 0.026797351060312953, 0.15118734946120685, 0.03359718876915708, 0.06999414326907724, 0.07839344046136651, 0.27437704161478277, 0.07839344046136651, 0.12598945788433905, 0.1903840696918901, 0.3223529255393944, 0.06982138265731822, 0.27015002261803495, 0.10179566069665086, 0.11354131385395672, 0.06721123751125024, 0.025448915174162715, 0.029364132893264668, 0.22116228070563626, 0.010658423166536687, 0.10924883745700104, 0.04263369266614675, 0.0852673853322935, 0.09859041429046435, 0.0852673853322935, 0.3463987529124423, 0.7964379702328874, 0.025283745086758333, 0.012641872543379166, 0.0379256176301375, 0.012641872543379166, 0.11377685289041249, 0.04805971577812806, 0.9131345997844331, 0.018501659128689518, 0.8325746607910283, 0.018501659128689518, 0.018501659128689518, 0.1110099547721371, 0.9461632126849407, 0.02252769554011764, 0.10472468575753148, 0.23660021597071926, 0.31288115991756316, 0.10731048046759398, 0.05559458626634387, 0.042665612716031344, 0.11765365930784401, 0.021979255035531296, 0.07848910164834866, 0.21762887275223947, 0.17481663548950382, 0.06065066945554214, 0.06065066945554214, 0.35320095741756896, 0.01783843219280651, 0.03567686438561302, 0.9550024269621881, 0.5275889251605363, 0.2379048203641676, 0.012594961078102991, 0.050379844312411964, 0.050379844312411964, 0.009796080838524549, 0.08256696706756404, 0.029388242515573645, 0.9710808991062796, 0.6660979437253829, 0.05123830336349099, 0.027589855657264382, 0.019707039755188845, 0.14583209418839743, 0.011824223853113306, 0.07094534311867984, 0.003941407951037769, 0.9340779711546726, 0.05049070114349582, 0.910852337317955, 0.02530145381438764, 0.02530145381438764, 0.029914601856074776, 0.8974380556822433, 0.029914601856074776, 0.9440741331193172, 0.040173367366779456, 0.04114859288806161, 0.04114859288806161, 0.843546154205263, 0.020574296444030804, 0.020574296444030804, 0.020574296444030804, 0.2817685286809061, 0.10137046920238178, 0.08606145956773636, 0.2614944348404297, 0.10385301130529725, 0.06206355257288681, 0.08192388939621058, 0.021101607874781513, 0.9434171773789007, 0.9449820349337441, 0.955297760897227, 0.31193711926362244, 0.07018585183431506, 0.2745046649519878, 0.12945390449440333, 0.10917799174226786, 0.05614868146745204, 0.02651465513740791, 0.021835598348453573, 0.23605022680007287, 0.09891968657128622, 0.13820187257432406, 0.10856167768112278, 0.1514149715026186, 0.12177477660941732, 0.08642080920668327, 0.05892327900455677, 0.030435750051254665, 0.9130725015376399, 0.030435750051254665, 0.2757544187102364, 0.04374035607127888, 0.1920772157912681, 0.2443754676156233, 0.11410527670768403, 0.048494742600765715, 0.05420000643614992, 0.026624564565126272, 0.1971836775189669, 0.11569767829188594, 0.1928294638198099, 0.1810108837792409, 0.1729244869093779, 0.062203052845099964, 0.022393099024235988, 0.05598274756058997, 0.03703532847024239, 0.9258832117560598, 0.03134255461606278, 0.9402766384818834, 0.9675749815417566, 0.03946933402846269, 0.059204001042694035, 0.11840800208538807, 0.029602000521347017, 0.009867333507115673, 0.7301826795265598, 0.009867333507115673, 0.7474565915510438, 0.00583950462149253, 0.04671603697194024, 0.00583950462149253, 0.01751851386447759, 0.0583950462149253, 0.03503702772895518, 0.08175306470089543, 0.17758399755528834, 0.02959733292588139, 0.03699666615735173, 0.08139266554617382, 0.08139266554617382, 0.11838933170352556, 0.044395999388822084, 0.4291613274252801, 0.9806245502331602, 0.23280997605232023, 0.019400831337693353, 0.019400831337693353, 0.07275311751635008, 0.5238224461177206, 0.08245353318519676, 0.038801662675386706, 0.014550623503270015, 0.9632311537593707, 0.9531380195559588, 0.030232700663021146, 0.8767483192276132, 0.09069810198906345, 0.9550875587949184, 0.009458891703160686, 0.5060507061190967, 0.1749894965084727, 0.009458891703160686, 0.05675335021896412, 0.12769503799266926, 0.10877725458634789, 0.004729445851580343, 0.025160520791739166, 0.9560997900860883, 0.1119515803035882, 0.0559757901517941, 0.02798789507589705, 0.0559757901517941, 0.7416792195112718, 0.013993947537948526, 0.9345759059364142, 0.9534077499653058, 0.9477525640544704, 0.9683507382899789, 0.0700075325984294, 0.1400150651968588, 0.0700075325984294, 0.1400150651968588, 0.026252824724411025, 0.5163055529134168, 0.0350037662992147, 0.008750941574803675, 0.18842095158153474, 0.018842095158153476, 0.7725259014842925, 0.011441359383942076, 0.08008951568759454, 0.045765437535768304, 0.20594446891095738, 0.08008951568759454, 0.5720679691971038, 0.9552114555018675, 0.025816525824374797, 0.9533072730247305, 0.9502678830645647, 0.96364327305474, 0.9531014724346013, 0.07482460932360391, 0.0249415364412013, 0.0249415364412013, 0.8480122390008443, 0.0249415364412013, 0.0165114236388137, 0.17612185214734613, 0.13484329305031187, 0.0660456945552548, 0.027519039398022832, 0.0165114236388137, 0.5586364997798635, 0.0027519039398022833, 0.22435209311070092, 0.018696007759225076, 0.018696007759225076, 0.018696007759225076, 0.6917522870913279, 0.03739201551845015, 0.973744690284552, 0.5687949079665084, 0.039378109013065966, 0.20564123595712228, 0.0043753454458962185, 0.061254836242547066, 0.05250414535075463, 0.021876727229481096, 0.04375345445896219, 0.9676819471678957, 0.03591453755325328, 0.44202507757850185, 0.2403511359333104, 0.02486391061379073, 0.038677194288118916, 0.09669298572029729, 0.11603158286435673, 0.005525313469731273, 0.037765521026851046, 0.9441380256712761, 0.05334195419003292, 0.0640103450280395, 0.021336781676013168, 0.08534712670405267, 0.1386890808940856, 0.010668390838006584, 0.6080982777663753, 0.021336781676013168, 0.025846290182239086, 0.904620156378368, 0.025846290182239086, 0.025846290182239086, 0.025846290182239086, 0.015856199051595802, 0.015856199051595802, 0.09513719430957482, 0.015856199051595802, 0.8562347487861733, 0.9643899692259016, 0.17325889953112722, 0.023961337169198446, 0.02211815738695241, 0.6064061483589452, 0.05529539346738103, 0.03502041586267465, 0.020274977604706375, 0.06635447216085723, 0.9438211346388715, 0.9732485423733641, 0.037912416464770775, 0.9478104116192694, 0.9820583107288509, 0.9232368217066348, 0.9117155251731519, 0.540019622858138, 0.0221925872407454, 0.04808393902161503, 0.08507158442285737, 0.15164934614509357, 0.0887703489629816, 0.03698764540124233, 0.025891351780869633, 0.982370000413555, 0.9443999428268973, 0.9611851831152066, 0.026679147942267955, 0.9471097519505125, 0.013339573971133977, 0.07656963779458353, 0.2406474330686911, 0.04375407873976202, 0.02187703936988101, 0.02187703936988101, 0.5797415433018467, 0.13947208177133077, 0.2204889528002656, 0.18049328229231043, 0.18767199238348187, 0.10973171139362055, 0.04512332057307761, 0.07076157089868988, 0.04512332057307761, 0.9408130690984617, 0.9367238983132765, 0.02402967476264817, 0.9611869905059268, 0.009373273378064768, 0.018746546756129537, 0.10310600715871245, 0.7217420501109871, 0.1499723740490363, 0.06734665073045203, 0.08418331341306504, 0.06734665073045203, 0.050509988047839016, 0.03367332536522601, 0.6903031699871333, 0.9396192465445674, 0.10520690567275139, 0.8153535189638232, 0.07890517925456354, 0.9220669194323928, 0.0279414218009816, 0.0139707109004908, 0.0139707109004908, 0.9641563489274132, 0.02556872322956882, 0.9204740362644775, 0.02556872322956882, 0.965310648239834, 0.852281677296177, 0.01420469462160295, 0.09943286235122065, 0.0284093892432059, 0.1596398418144165, 0.3551986480370767, 0.12172537938349258, 0.06784693277112701, 0.07782442288452804, 0.14766685367833526, 0.053878446612365564, 0.01596398418144165, 0.28882674475599357, 0.16138502938823143, 0.15120203518209063, 0.09133837227326291, 0.1385504363199157, 0.10676715137347625, 0.03733764542251626, 0.02468604656034133, 0.10990583903486396, 0.033449603184523814, 0.028671088443877557, 0.04778514740646259, 0.755005329022109, 0.00477851474064626, 0.01911405896258504, 0.048140425777700356, 0.9146680897763068, 0.9365659464759707, 0.22871300771229774, 0.10991547458018193, 0.14211293683094228, 0.10325393066623151, 0.0910411001573224, 0.10547444530421499, 0.1332308782790084, 0.08660007088135546, 0.948277990358533, 0.9635018226412698, 0.03813530053714046, 0.03813530053714046, 0.9152472128913711, 0.199142600118237, 0.10168983835824869, 0.19208080578780307, 0.10875163268868263, 0.1680707050643277, 0.07626737876868651, 0.02118538299130181, 0.13276173341215802, 0.1658723326881909, 0.008293616634409546, 0.07464254970968591, 0.7215446471936305, 0.008293616634409546, 0.008293616634409546, 0.2733145278218079, 0.13471886300436628, 0.09692004532688223, 0.1269652593782157, 0.1046736489530328, 0.0785052367147746, 0.0523368244765164, 0.13278046209782865, 0.8922217105714371, 0.07872544505042092, 0.22443203305211668, 0.12160854654365794, 0.17697503927898187, 0.15126916765186718, 0.09194792543544868, 0.1136990475814688, 0.060309929586692144, 0.060309929586692144, 0.06123999624061804, 0.06123999624061804, 0.08165332832082405, 0.02041333208020601, 0.02041333208020601, 0.7757066190478284, 0.10730869011580012, 0.5130696746161693, 0.04694755192566255, 0.06706793132237507, 0.09054170728520634, 0.11401548324803762, 0.04359415535954379, 0.016766982830593767, 0.975572046453999, 0.12681532389686398, 0.21895458266567924, 0.21499160379390223, 0.087185535179094, 0.10204670594825774, 0.12978755805069675, 0.08817627989703825, 0.031703830974215995, 0.9711000399621313, 0.9472627138194352, 0.9832321999814883, 0.05714304065310526, 0.05714304065310526, 0.02857152032655263, 0.8571456097965789, 0.9534818865185809, 0.9867777774167392, 0.9731172655781444, 0.04338258404157272, 0.9327255568938134, 0.9408619804638916, 0.01920126490742636, 0.35942500833874946, 0.05834821563940738, 0.12136428852996735, 0.11669643127881477, 0.0980250022742044, 0.22172321942974804, 0.00466785725115259, 0.01867142900461036, 0.9716195844560006, 0.9913236384675347, 0.9705407164763783, 0.3863168991427398, 0.10863041100674582, 0.08215174832385153, 0.17177183740441682, 0.06789400687921614, 0.03462594350840023, 0.10998829114433015, 0.0386995839211532, 0.22448320637541422, 0.02559896213052969, 0.12011820692017777, 0.391861035690416, 0.10830330132147177, 0.0019691509331176684, 0.01378405653182368, 0.11617990505394245, 0.9504434747243977, 0.009858611389412674, 0.009858611389412674, 0.019717222778825347, 0.06901027972588872, 0.8872750250471406, 0.009858611389412674, 0.11014875046543775, 0.11109423330205095, 0.06618379856292397, 0.32902802714139345, 0.052001556013725976, 0.31153659466404926, 0.010873052621051794, 0.008982086947825397, 0.03270100499752503, 0.07432046590346597, 0.03270100499752503, 0.4251130649678254, 0.08026610317574326, 0.30917313815841846, 0.02972818636138639, 0.014864093180693195, 0.051568658957799565, 0.01718955298593319, 0.8594776492966595, 0.03437910597186638, 0.01718955298593319, 0.01718955298593319, 0.01167982941290629, 0.7591889118389089, 0.09343863530325032, 0.01167982941290629, 0.02335965882581258, 0.03503948823871887, 0.058399147064531455, 0.16646194850393675, 0.17907270217847743, 0.19735829500656138, 0.052334627749343755, 0.12926022516404181, 0.08575312498687651, 0.11475785843832004, 0.07503398436351695, 0.1191851458024402, 0.07310022275882999, 0.058798005262537166, 0.14143303968556237, 0.4767405832097608, 0.05403059943043956, 0.05403059943043956, 0.02542616443785391, 0.04869407305725483, 0.01623135768575161, 0.8115678842875805, 0.11361950380026127, 0.17947222928165538, 0.2080837440946729, 0.19941358809072818, 0.23756227450808487, 0.09016962244102492, 0.02427643681104517, 0.03381360841538435, 0.026010468011834112, 0.19607715249715468, 0.24232176393516286, 0.06474245601321145, 0.2228990271311994, 0.13873383431402453, 0.05086907258180899, 0.03792058137916671, 0.04716950366676834, 0.9626270926044673, 0.9493804369862399, 0.17275325366191782, 0.17625500880371345, 0.15991348480866716, 0.13890295395789337, 0.16691699509225844, 0.06186434083838949, 0.11088891282352832, 0.012839768853250649, 0.943858284414108, 0.04103731671365687, 0.027668222539491406, 0.6671115878966262, 0.18752906387877508, 0.006148493897664757, 0.012296987795329515, 0.06455918592547995, 0.01844548169299427, 0.012296987795329515, 0.9435324160551846, 0.9297146173551175, 0.9540084167587861, 0.30845132739358155, 0.1269438675915823, 0.08017507426836776, 0.13362512378061295, 0.18818871599102988, 0.04454170792687098, 0.04120107983235566, 0.07683444617385243, 0.18916333367132912, 0.11947157916083945, 0.16759207632284423, 0.10904152066267092, 0.2358615501290382, 0.09007777793872815, 0.04361660826506837, 0.045038888969364074, 0.9649402644446344, 0.9409127363398355, 0.08182823058859344, 0.04514660997991363, 0.03950328373242442, 0.5897275928626217, 0.09593654620731645, 0.05643326247489203, 0.09029321995982725, 0.0028216631237446017, 0.12327292603849012, 0.03721446823803475, 0.03488856397315758, 0.6140387259275735, 0.05116989382729779, 0.04651808529754344, 0.04419218103266627, 0.048843989562420614, 0.9695014159589392, 0.06711122671964732, 0.03355561335982366, 0.8724459473554153, 0.9422531543452252, 0.028709457813054628, 0.9474121078308027, 0.920293620851309, 0.03218948197695867, 0.9334949773318016, 0.9408612318328821, 0.10645200816452781, 0.026613002041131952, 0.026613002041131952, 0.8250030632750904, 0.03035276202312009, 0.34062544048168103, 0.2023517468208006, 0.016862645568400052, 0.026980232909440082, 0.026980232909440082, 0.337252911368001, 0.016862645568400052, 0.0345755230202294, 0.26796030340677784, 0.5071076709633645, 0.005762587170038233, 0.005762587170038233, 0.023050348680152932, 0.15270856000601318, 0.0028812935850191165, 0.0405723739420363, 0.9331646006668348, 0.08643013082219071, 0.9075163736330024, 0.21664928867035593, 0.12681909580703762, 0.07397780588743862, 0.026420644959799504, 0.06340954790351881, 0.010568257983919803, 0.15323974076683713, 0.3329001264934738, 0.18180803170467716, 0.2690758869229222, 0.12362946155918048, 0.11514508674629555, 0.12726562219327403, 0.08605580167354719, 0.08484374812884934, 0.01090848190228063, 0.16215296640847662, 0.8377903264437959, 0.04720180664406517, 0.7552289063050427, 0.1298049682711792, 0.04720180664406517, 0.011800451661016292, 0.9801207125324277, 0.17151481387812864, 0.023088532637440394, 0.013193447221394511, 0.1550230048513855, 0.5244395270504318, 0.0032983618053486277, 0.009895085416045883, 0.10224921596580747, 0.0640866975888291, 0.03204334879441455, 0.8651704174491927, 0.03204334879441455, 0.9704989911810183, 0.9487995734081716, 0.9757429169468926, 0.9726382304445488, 0.685661809030774, 0.0055972392573940735, 0.019590337400879256, 0.011194478514788147, 0.07836134960351702, 0.019590337400879256, 0.0027986196286970367, 0.1819102758653074, 0.9603620803710359, 0.02949316010171089, 0.12903257544498514, 0.044239740152566334, 0.5714299769706485, 0.18433225063569306, 0.025806515088997027, 0.0036866450127138613, 0.007373290025427723, 0.06591954081270059, 0.2043505765193718, 0.1911666683568317, 0.008789272108360079, 0.015381226189630136, 0.3757413826323933, 0.13403639965249117, 0.006591954081270058, 0.9475476276876317, 0.960035970396368, 0.16964231816972042, 0.04567293181492473, 0.006524704544989247, 0.013049409089978495, 0.6394210454089463, 0.02609881817995699, 0.06524704544989247, 0.03262352272494624, 0.8849815348190514, 0.09154981394679843, 0.9470003663025706, 0.022005288720589662, 0.9462274149853555, 0.9734185640983418, 0.929156800512628, 0.9192368932171839, 0.028726152913036998, 0.028726152913036998, 0.1980334620723089, 0.10507897987510269, 0.11518272794001641, 0.022228245742810186, 0.23238620549301556, 0.07678848529334427, 0.09901673103615445, 0.14953547136072307, 0.019422154152492873, 0.11653292491495723, 0.029133231228739308, 0.038844308304985746, 0.776886166099715, 0.06940276884586347, 0.902235994996225, 0.2149300321082965, 0.013008922996028472, 0.08710322353862542, 0.29411478077977415, 0.1295236246126313, 0.04242040107400589, 0.024886635296750118, 0.19456823959277367, 0.019227368715832176, 0.03845473743166435, 0.03845473743166435, 0.9036863296441123, 0.9695550476824387, 0.9305646351321423, 0.9768399244566469, 0.034491928418717975, 0.6553466399556415, 0.25006648103570533, 0.017245964209358988, 0.008622982104679494, 0.008622982104679494, 0.017245964209358988, 0.017245964209358988, 0.05147123100379944, 0.9264821580683898, 0.20537570886425643, 0.041835792546422605, 0.0931797197624867, 0.4449807025392223, 0.058950434951777306, 0.0646553157535622, 0.06085206188570561, 0.030426030942852806, 0.9065353294263386, 0.3875214868574205, 0.052702922212609186, 0.07543751610824452, 0.2407800171674106, 0.11057279758331731, 0.020667812632395758, 0.021701203264015548, 0.09093837558254134, 0.05100267143988486, 0.9180480859179274, 0.9454212488731489, 0.09548256520971972, 0.16368439750237665, 0.08184219875118832, 0.04774128260485986, 0.04092109937559416, 0.5387944751119899, 0.03410091614632847, 0.09559951234357618, 0.03186650411452539, 0.007966626028631348, 0.039833130143156745, 0.7966626028631348, 0.007966626028631348, 0.015933252057262696, 0.9715384438226254, 0.9312141596937128, 0.03518661113357096, 0.914851889472845, 0.06424667505528617, 0.6852978672563858, 0.014277038901174703, 0.007138519450587352, 0.2070170640670332, 0.007138519450587352, 0.014277038901174703, 0.0507399427019607, 0.32484025173110925, 0.4247508605566195, 0.01883131894093387, 0.01883131894093387, 0.03975500665308261, 0.10880317610317346, 0.013077304820092964, 0.013518724425523886, 0.28839945441117626, 0.2748807299856524, 0.018024965900698516, 0.009012482950349258, 0.06759362212761943, 0.315436903262224, 0.009012482950349258, 0.07296575003970716, 0.14593150007941433, 0.5948563689677822, 0.013603783905708116, 0.016077199161291408, 0.05565184325062411, 0.0791492881786654, 0.021024029672457995, 0.11636459135448478, 0.1490921326729336, 0.12363737831414008, 0.08909164025577741, 0.19454705117077922, 0.1545467228926751, 0.15636491963258892, 0.014545573919310597, 0.13501498520002983, 0.13088788958256165, 0.2771049914585765, 0.08254191234936321, 0.1810026220803893, 0.09846070973102611, 0.06308560443844188, 0.03183759476332581, 0.9659486595889385, 0.04569082941807977, 0.9138165883615954, 0.09934315278238114, 0.06547616887929665, 0.06321836995242436, 0.6141213081092651, 0.04289817961057367, 0.07902296244053045, 0.01806239141497839, 0.020320190341850685, 0.9406642353708096, 0.7631389168723535, 0.20350371116596092, 0.025437963895745114, 0.012718981947872557, 0.980079337097723, 0.2280746036538094, 0.12507316974563742, 0.03678622639577571, 0.007357245279155143, 0.5591506412157908, 0.02942898111662057, 0.022071735837465425, 0.9540391028715486, 0.0629845935176412, 0.013496698610923114, 0.022494497684871856, 0.836795313877233, 0.026993397221846228, 0.008997799073948742, 0.0314922967588206, 0.004498899536974371, 0.9888299568658613, 0.048084585955133555, 0.8174379612372705, 0.1202114648878339, 0.9104700873406583, 0.13468882131166915, 0.020203323196750375, 0.03367220532791729, 0.6397719012304285, 0.04040664639350075, 0.013468882131166916, 0.047141087459084206, 0.07407885172141804, 0.9513892300324412, 0.9411937090077568, 0.18129792170189257, 0.05897643236085662, 0.02184312309661356, 0.502391831222112, 0.10266267855408374, 0.04368624619322712, 0.02839606002559763, 0.06116074467051797, 0.3090515650623761, 0.047093571819028734, 0.2869764532722064, 0.12656397426363972, 0.09713049187674677, 0.06916868360919846, 0.0367918529836162, 0.026490134148203663, 0.946366797849652, 0.052865543717472825, 0.013216385929368206, 0.31719326230483696, 0.052865543717472825, 0.5683045949628328, 0.02335262876778861, 0.09341051507115444, 0.8406946356403899, 0.9436363443666744, 0.947614036365983, 0.9486794183329412, 0.9763597183407029, 0.022240870637728297, 0.8896348255091319, 0.022240870637728297, 0.04448174127545659, 0.022240870637728297, 0.9419512359932612, 0.9703866801428093, 0.1519564980010758, 0.0759782490005379, 0.05260032623114162, 0.058444806923490696, 0.16364545938577393, 0.4383360519261802, 0.01753344207704721, 0.04091136484644348, 0.9588335888565167, 0.13194840279039938, 0.5131326775182198, 0.13194840279039938, 0.024434889405629514, 0.024434889405629514, 0.05864373457351083, 0.10262653550364395, 0.014660933643377708, 0.027296484370067854, 0.928080468582307, 0.027296484370067854, 0.027296484370067854, 0.013741910689625384, 0.041225732068876156, 0.027483821379250768, 0.041225732068876156, 0.041225732068876156, 0.7832889093086469, 0.041225732068876156, 0.013741910689625384, 0.06556132768041312, 0.07284591964490347, 0.3933679660824787, 0.02185377589347104, 0.036422959822451736, 0.007284591964490347, 0.4079371500114594, 0.20065186620285472, 0.10032593310142736, 0.18925119198678342, 0.12426734895517706, 0.1174269444255343, 0.2040720684676761, 0.030781820383392482, 0.033061955226606744, 0.030339335104596805, 0.9405193882425009, 0.9515208493734432, 0.04137047171188883, 0.04084364951267512, 0.02333922829295721, 0.02917403536619651, 0.8518818326929382, 0.011669614146478605, 0.017504421219717906, 0.017504421219717906, 0.011669614146478605, 0.09709606826391648, 0.028557667136446023, 0.022846133709156818, 0.7367878121203074, 0.039980733991024434, 0.06282686770018125, 0.005711533427289204, 0.12182979115065094, 0.2215087111830017, 0.04983946001617538, 0.027688588897875212, 0.03322630667745025, 0.4928568823821788, 0.04983946001617538, 0.04104504436176318, 0.018242241938561412, 0.022802802423201762, 0.7570530404502985, 0.077529528238886, 0.03192392339248247, 0.04104504436176318, 0.009121120969280706, 0.031027533909318145, 0.41887170777579497, 0.1662189316570615, 0.011081262110470766, 0.12854264048146088, 0.1706514365012498, 0.04654130086397722, 0.024378776643035685, 0.013596561950486846, 0.016995702438108558, 0.020394842925730267, 0.8633816838559146, 0.05438624780194738, 0.006798280975243423, 0.020394842925730267, 0.0033991404876217114, 0.922790598918886, 0.4366244419760725, 0.11812062198386501, 0.04640453006508983, 0.17507163615465707, 0.06960679509763475, 0.07593468556105608, 0.01898367139026402, 0.059060310991932506, 0.954040625697052, 0.9778501965818553, 0.018564472077557265, 0.018564472077557265, 0.9653525480329779, 0.9747132719608698, 0.05919451160093065, 0.015785203093581508, 0.015785203093581508, 0.8010990569992615, 0.04340930850734915, 0.003946300773395377, 0.027624105413767638, 0.031570406187163016, 0.02102276521842856, 0.04204553043685712, 0.903978904392428, 0.13813341970616533, 0.01973334567230933, 0.009866672836154665, 0.06906670985308266, 0.7400004627115999, 0.029600018508463995, 0.0474969894001963, 0.9499397880039261, 0.9626220614926729, 0.08722486155003886, 0.04361243077501943, 0.07268738462503238, 0.7704862770253432, 0.014537476925006476, 0.2821832738002784, 0.04703054563337974, 0.054868969905609695, 0.058788182041724674, 0.12933400049179428, 0.054868969905609695, 0.007838424272229956, 0.36840594079480793, 0.9110415266538503, 0.9399556536544262, 0.23113091256131174, 0.06961774474738305, 0.1002495524362316, 0.04734006642822048, 0.10581897201602225, 0.033416517478743864, 0.03898593705853451, 0.3759358216358685, 0.9471605709606223, 0.9388544803333797, 0.9674352717695, 0.08740012954382533, 0.8303012306663407, 0.08740012954382533, 0.023865674982194343, 0.9068956493233851, 0.023865674982194343, 0.023865674982194343, 0.21138449835098994, 0.10569224917549497, 0.1711207843793728, 0.10569224917549497, 0.08052742794323425, 0.24661524807615492, 0.06542853520387784, 0.012582410616130354, 0.12592907372848772, 0.13803763851007309, 0.22279759198117058, 0.16467648102956087, 0.16104391159508524, 0.07022967573319508, 0.09081423586189018, 0.026638842519487786, 0.16832380237500172, 0.009181298311363731, 0.033664760475000347, 0.09181298311363731, 0.6518721801068249, 0.012241731081818308, 0.03060432770454577, 0.003060432770454577, 0.14831079536458316, 0.013281563763992523, 0.011067969803327103, 0.026563127527985047, 0.7813986681148934, 0.008854375842661683, 0.006640781881996262, 0.0044271879213308414, 0.94407381395043, 0.017560131735068426, 0.10536079041041055, 0.03512026347013685, 0.825326191548216, 0.4876036545487846, 0.017624228477666915, 0.033779771248861584, 0.11749485651777943, 0.2952058270009208, 0.02496765701002813, 0.011749485651777943, 0.008812114238833458, 0.2883193258614597, 0.062099547108622095, 0.01330704580899045, 0.004435681936330149, 0.5500245601049385, 0.057663865172291946, 0.004435681936330149, 0.017742727745320597, 0.09678355465746957, 0.8468561032528588, 0.048391777328734786, 0.07188509400347948, 0.023961698001159826, 0.8626211280417537, 0.11129002634501704, 0.037096675448339014, 0.8161268598634583, 0.018548337724169507, 0.018548337724169507, 0.8651300715892922, 0.06408370900661424, 0.03204185450330712, 0.9451501291092704, 0.976345248631837, 0.8991261185186494, 0.024300705905909444, 0.07290211771772834, 0.024300705905909444, 0.9103232202117978, 0.9392140072456286, 0.9803105291328544, 0.5475037454784413, 0.019837092227479758, 0.1071202980283907, 0.07934836890991903, 0.13489222714686236, 0.04760902134595142, 0.04760902134595142, 0.011902255336487855, 0.9556766028108561, 0.9154186022733773, 0.9620190947811017, 0.04445367051535075, 0.3729771379824551, 0.23202647537280635, 0.040116727050438485, 0.03794825531798235, 0.23419494710526248, 0.023853189057017474, 0.014095066260964873, 0.9585004916011719, 0.035500018207450815, 0.015923150741590324, 0.30253986409021616, 0.17515465815749356, 0.015923150741590324, 0.015923150741590324, 0.4697329468769146, 0.007961575370795162, 0.8954922226469675, 0.0746243518872473, 0.9534647339752963, 0.9388565806665246, 0.024073245658116017, 0.955518551665366, 0.9607552388926025, 0.021906533400287417, 0.7667286690100596, 0.1314392004017245, 0.021906533400287417, 0.03285980010043112, 0.010953266700143708, 0.97512899036008, 0.9265289142952202, 0.9537837515932186, 0.9411761825610763, 0.974054136607658, 0.8847301404021003, 0.03050793587593449, 0.06101587175186898, 0.45226326800139666, 0.0809094837250205, 0.10580470948656527, 0.11617772022054226, 0.1701173760372226, 0.014522215027567783, 0.04149204293590795, 0.020746021467953974, 0.9584076118170134, 0.10887084472640247, 0.06998840018125874, 0.5599072014500699, 0.13997680036251747, 0.015552977818057496, 0.015552977818057496, 0.04665893345417249, 0.04665893345417249, 0.9691687472649236, 0.9709963925888996, 0.9584731607469871, 0.945021043760208, 0.34994528559368043, 0.0765917983563527, 0.17299182042555522, 0.10696440804938911, 0.13997811423747217, 0.10564385980186579, 0.018487675465326512, 0.030372609693036415, 0.1688515057235542, 0.14088223790431514, 0.11705656531755597, 0.11809246412567594, 0.17195920214791408, 0.13984633909619518, 0.10255398200387647, 0.04040005351667861, 0.22694928181518825, 0.10115453703762677, 0.23213669397096398, 0.134872716050169, 0.11282621438812215, 0.07521747625874811, 0.09207656576501923, 0.022046501662046858, 0.9682662375090435, 0.9271245980371763, 0.016482805612697108, 0.016482805612697108, 0.04944841683809133, 0.9230371143110381, 0.9567990230228056, 0.026577750639522377, 0.34050067246955223, 0.14990873761971196, 0.10347682773750029, 0.12426063501810933, 0.08092418579471176, 0.07473326447708355, 0.08446185511907076, 0.04156761456121807, 0.9601214758245663, 0.028238866936016654, 0.08758732059185069, 0.06182634394718872, 0.14426146921010702, 0.6234156348008196, 0.01545658598679718, 0.010304390657864787, 0.051521953289323935, 0.0051521953289323935, 0.9475283270705781, 0.02118655835200351, 0.02118655835200351, 0.911022009136151, 0.09324755094269334, 0.050210219738373335, 0.043037331204320003, 0.07890177387458668, 0.6599057451329067, 0.043037331204320003, 0.021518665602160002, 0.014345777068106667, 0.03552856297853455, 0.9237426374418983, 0.026253762535119164, 0.94513545126429, 0.05019533436854215, 0.9286136858180297, 0.1749521462435111, 0.22863064565913382, 0.10338081368934747, 0.16401763710329165, 0.16103549824686816, 0.03180948113518384, 0.03677971256255631, 0.098410582261975, 0.9815911032992845, 0.03045331759037459, 0.03045331759037459, 0.15226658795187295, 0.03045331759037459, 0.03045331759037459, 0.015226658795187295, 0.7004263045786155, 0.9231336797360602, 0.9381642344936219, 0.9582221000136524, 0.2795848198606268, 0.03131961096799371, 0.1818065222044513, 0.17187591384874598, 0.06569479373774291, 0.08784768930047017, 0.04125021932369904, 0.14132019583119113, 0.39604361264161747, 0.08848930854662843, 0.14784189354741578, 0.11007206672873292, 0.06258999872810303, 0.04316551636420899, 0.06474827454631349, 0.08633103272841798, 0.9447538014437805, 0.9576514933698296, 0.02709228844728222, 0.9211378072075955, 0.02709228844728222, 0.012966632648013947, 0.8946976527129623, 0.012966632648013947, 0.012966632648013947, 0.03889989794404184, 0.012966632648013947, 0.025933265296027894, 0.9524701722290888, 0.11294442230254567, 0.23843822486092975, 0.0025098760511676815, 0.5571924833592253, 0.03513826471634754, 0.015059256307006089, 0.025098760511676817, 0.012549380255838408, 0.9385354211915534, 0.03476057115524272, 0.9808080918061148, 0.96182553596781, 0.951251349055879, 0.1753776029768245, 0.04153680070503738, 0.1430712024284621, 0.05538240094004984, 0.5630544095571735, 0.01846080031334995, 0.004615200078337487, 0.10840080837424158, 0.027100202093560396, 0.8401062649003722, 0.931006662607548, 0.18163658833002416, 0.2094949607732794, 0.1281485132389741, 0.07911777773884487, 0.15377821588676893, 0.05125940529558964, 0.17272190914818247, 0.0234010328523344, 0.06699692936609922, 0.9044585464423395, 0.04668920034071289, 0.006669885762958984, 0.026679543051835935, 0.7737067485032422, 0.09337840068142578, 0.03334942881479492, 0.013339771525917967, 0.18420002015410708, 0.8058750881742184, 0.44490389144397297, 0.1131295958683941, 0.05874036708551233, 0.043511383026305424, 0.04024802929933252, 0.10769067299010593, 0.15664097889469955, 0.034809106421044345, 0.12570390363691664, 0.07640825515185128, 0.022183041818279403, 0.5644351751539982, 0.05176043090931861, 0.12816868606116988, 0.009859129697013068, 0.022183041818279403, 0.05883079021457126, 0.2095846901394101, 0.05883079021457126, 0.14340005114801743, 0.04044616827251774, 0.45961554855133796, 0.007353848776821407, 0.01838462194205352, 0.6112109989366197, 0.015280274973415492, 0.012224219978732393, 0.009168164984049295, 0.06417715488834506, 0.09473770483517605, 0.0030560549946830984, 0.186419354675669, 0.2597651598930973, 0.13264603909434755, 0.15751717142453772, 0.17778253850839637, 0.09672107017296175, 0.10685375371489109, 0.052505723808179236, 0.01565960183752714, 0.0481145913315288, 0.0481145913315288, 0.040095492776274, 0.0962291826630576, 0.0240572956657644, 0.0481145913315288, 0.6736042786414033, 0.0240572956657644, 0.25290611696859605, 0.17003292609753068, 0.14288481184666443, 0.10859245700346497, 0.0743001021602655, 0.06929913374563225, 0.03572120296166611, 0.14645693214283104, 0.9565701391731821, 0.945701877864564, 0.023331545427100392, 0.8865987262298148, 0.06999463628130118, 0.9595212818383343, 0.9491399950884118, 0.9274801542516122, 0.040325224097896184, 0.01383032025729961, 0.11064256205839688, 0.12447288231569649, 0.11064256205839688, 0.6500250520930817, 0.029506070377316163, 0.6668371905273452, 0.07671578298102202, 0.04720971260370586, 0.017703642226389697, 0.14162913781111758, 0.011802428150926464, 0.042170232944155873, 0.2577069791031748, 0.4310734923180378, 0.018742325752958165, 0.08434046588831175, 0.09839721020303038, 0.060912558697114046, 0.009371162876479083, 0.20512186963406723, 0.06107188351564461, 0.2071133440965339, 0.14471381093924485, 0.14803293504335596, 0.1294458400603337, 0.04514008781591123, 0.059744233874000165, 0.36824625929267124, 0.14009368560047275, 0.08939311366887309, 0.11074072290323084, 0.09473001597746253, 0.09473001597746253, 0.06537705328022062, 0.03735831616012607, 0.3259110510898509, 0.1250971711253973, 0.12443876496157943, 0.16361393170874333, 0.09777331532695527, 0.08065475506769038, 0.04279640064816224, 0.0391751667471639, 0.9633975170656264, 0.9317222343641379, 0.03742963423331263, 0.5614445134996894, 0.05988741477330021, 0.003742963423331263, 0.04117259765664389, 0.06737334161996274, 0.22270632368821014, 0.005614445134996894, 0.9046592856054281, 0.9394402363492241, 0.9721238262761344], \"Term\": [\"ac\", \"acceptable\", \"acceptable\", \"acceptable\", \"acting\", \"acting\", \"acting\", \"acting\", \"acting\", \"acting\", \"acting\", \"acting\", \"actors\", \"actors\", \"actors\", \"actors\", \"actors\", \"actors\", \"actors\", \"actors\", \"adaptation\", \"addresses\", \"advantage\", \"agenda\", \"airplane\", \"airplane\", \"album\", \"album\", \"album\", \"album\", \"album\", \"album\", \"album\", \"album\", \"alex\", \"also\", \"also\", \"also\", \"also\", \"also\", \"also\", \"also\", \"also\", \"amazon\", \"amazon\", \"amazon\", \"amazon\", \"amazon\", \"amazon\", \"amazon\", \"amazon\", \"american\", \"american\", \"american\", \"american\", \"american\", \"american\", \"american\", \"american\", \"animal\", \"animal\", \"another\", \"another\", \"another\", \"another\", \"another\", \"another\", \"another\", \"another\", \"answers\", \"answers\", \"answers\", \"apart\", \"apart\", \"apart\", \"apart\", \"apart\", \"apart\", \"apart\", \"app\", \"app\", \"applies\", \"apt\", \"attack\", \"attack\", \"audio\", \"audio\", \"audio\", \"audio\", \"audio\", \"audio\", \"author\", \"author\", \"author\", \"author\", \"author\", \"author\", \"author\", \"author\", \"avoided\", \"away\", \"away\", \"away\", \"away\", \"away\", \"away\", \"away\", \"away\", \"back\", \"back\", \"back\", \"back\", \"back\", \"back\", \"back\", \"back\", \"bad\", \"bad\", \"bad\", \"bad\", \"bad\", \"bad\", \"bad\", \"bad\", \"bag\", \"bag\", \"bag\", \"bag\", \"bag\", \"bag\", \"bag\", \"band\", \"band\", \"band\", \"band\", \"band\", \"band\", \"band\", \"band\", \"bands\", \"bands\", \"bands\", \"bands\", \"bands\", \"barrel\", \"bass\", \"bass\", \"bass\", \"battery\", \"battery\", \"battery\", \"battery\", \"battery\", \"battery\", \"battery\", \"battery\", \"beer\", \"beginners\", \"beginners\", \"beginners\", \"beginners\", \"beginners\", \"belkin\", \"belkin\", \"bell\", \"best\", \"best\", \"best\", \"best\", \"best\", \"best\", \"best\", \"best\", \"better\", \"better\", \"better\", \"better\", \"better\", \"better\", \"better\", \"better\", \"bias\", \"bible\", \"bible\", \"bible\", \"bible\", \"bible\", \"blender\", \"blu\", \"blu\", \"blu\", \"blu\", \"blu\", \"blues\", \"blues\", \"bmw\", \"book\", \"book\", \"book\", \"book\", \"book\", \"book\", \"book\", \"book\", \"books\", \"books\", \"books\", \"books\", \"books\", \"books\", \"books\", \"books\", \"boots\", \"boring\", \"boring\", \"boring\", \"boring\", \"boring\", \"boring\", \"boring\", \"boring\", \"borrowed\", \"bought\", \"bought\", \"bought\", \"bought\", \"bought\", \"bought\", \"bought\", \"bought\", \"bratz\", \"bratz\", \"broke\", \"broke\", \"broke\", \"broke\", \"broke\", \"broke\", \"broke\", \"broke\", \"bug\", \"buggy\", \"builds\", \"bulbs\", \"busy\", \"busy\", \"buy\", \"buy\", \"buy\", \"buy\", \"buy\", \"buy\", \"buy\", \"buy\", \"bye\", \"cake\", \"camera\", \"camera\", \"camera\", \"camera\", \"camera\", \"camera\", \"camera\", \"camera\", \"campaign\", \"candles\", \"cant\", \"cant\", \"cant\", \"cant\", \"cant\", \"carafe\", \"carafe\", \"carafe\", \"card\", \"card\", \"card\", \"card\", \"card\", \"card\", \"card\", \"card\", \"cd\", \"cd\", \"cd\", \"cd\", \"cd\", \"cd\", \"cd\", \"cd\", \"center\", \"center\", \"center\", \"center\", \"center\", \"century\", \"century\", \"century\", \"century\", \"century\", \"certification\", \"chair\", \"chair\", \"challenging\", \"character\", \"character\", \"character\", \"character\", \"character\", \"character\", \"character\", \"character\", \"characters\", \"characters\", \"characters\", \"characters\", \"characters\", \"characters\", \"characters\", \"characters\", \"cheap\", \"cheap\", \"cheap\", \"cheap\", \"cheap\", \"cheap\", \"cheap\", \"cheap\", \"chest\", \"chicken\", \"chinese\", \"chinese\", \"chinese\", \"chords\", \"church\", \"church\", \"church\", \"church\", \"church\", \"clancy\", \"clancy\", \"clancy\", \"clay\", \"clay\", \"clay\", \"clean\", \"clean\", \"clean\", \"clean\", \"clean\", \"clean\", \"clean\", \"clean\", \"cleaning\", \"cleaning\", \"cleaning\", \"cleaning\", \"cleaning\", \"cliched\", \"closely\", \"coating\", \"cocoa\", \"code\", \"code\", \"code\", \"code\", \"code\", \"code\", \"code\", \"coffee\", \"coffee\", \"coffee\", \"coffee\", \"coffee\", \"coffee\", \"coffee\", \"collar\", \"collar\", \"college\", \"college\", \"college\", \"college\", \"college\", \"college\", \"college\", \"college\", \"comfy\", \"company\", \"company\", \"company\", \"company\", \"company\", \"company\", \"company\", \"company\", \"compelling\", \"connections\", \"connections\", \"connections\", \"consistently\", \"consistently\", \"contacted\", \"contacted\", \"contacted\", \"contacted\", \"contacted\", \"content\", \"content\", \"content\", \"content\", \"content\", \"content\", \"content\", \"content\", \"convenient\", \"convenient\", \"cookbook\", \"cooker\", \"could\", \"could\", \"could\", \"could\", \"could\", \"could\", \"could\", \"could\", \"cream\", \"creativity\", \"crew\", \"critics\", \"critics\", \"cup\", \"cup\", \"cup\", \"cup\", \"cup\", \"cup\", \"cup\", \"custom\", \"customer\", \"customer\", \"customer\", \"customer\", \"customer\", \"customer\", \"customer\", \"daddy\", \"de\", \"de\", \"de\", \"de\", \"de\", \"deceptive\", \"decker\", \"defective\", \"defective\", \"defective\", \"defective\", \"defective\", \"defective\", \"defective\", \"defective\", \"delivery\", \"delivery\", \"delivery\", \"delivery\", \"deluxe\", \"deluxe\", \"dents\", \"describing\", \"design\", \"design\", \"design\", \"design\", \"design\", \"design\", \"design\", \"design\", \"diaper\", \"diaper\", \"diaper\", \"diaper\", \"dictionary\", \"dies\", \"director\", \"director\", \"director\", \"director\", \"director\", \"director\", \"director\", \"disapointing\", \"disappointed\", \"disappointed\", \"disappointed\", \"disappointed\", \"disappointed\", \"disappointed\", \"disappointed\", \"disappointed\", \"disaster\", \"disaster\", \"discontinued\", \"disjointed\", \"disk\", \"disk\", \"disk\", \"disk\", \"disk\", \"disk\", \"disk\", \"doll\", \"doll\", \"dolls\", \"dolls\", \"downright\", \"drag\", \"dragon\", \"drama\", \"drama\", \"dress\", \"dried\", \"dried\", \"drive\", \"drive\", \"drive\", \"drive\", \"drive\", \"drive\", \"drive\", \"drive\", \"drugs\", \"dryer\", \"dvd\", \"dvd\", \"dvd\", \"dvd\", \"dvd\", \"dvd\", \"dvd\", \"dvd\", \"edition\", \"edition\", \"edition\", \"edition\", \"edition\", \"edition\", \"edition\", \"edition\", \"effects\", \"effects\", \"effects\", \"effects\", \"effects\", \"effects\", \"effects\", \"effects\", \"elite\", \"email\", \"email\", \"emailed\", \"emailed\", \"encourage\", \"enough\", \"enough\", \"enough\", \"enough\", \"enough\", \"enough\", \"enough\", \"enough\", \"errors\", \"errors\", \"errors\", \"errors\", \"errors\", \"errors\", \"errors\", \"errors\", \"es\", \"even\", \"even\", \"even\", \"even\", \"even\", \"even\", \"even\", \"even\", \"ever\", \"ever\", \"ever\", \"ever\", \"ever\", \"ever\", \"ever\", \"ever\", \"evolve\", \"exam\", \"exam\", \"excessive\", \"experts\", \"experts\", \"extraordinary\", \"faces\", \"fact\", \"fact\", \"fact\", \"fact\", \"fact\", \"fact\", \"fact\", \"fact\", \"factual\", \"fan\", \"fan\", \"fan\", \"fan\", \"fan\", \"fan\", \"fan\", \"fan\", \"far\", \"far\", \"far\", \"far\", \"far\", \"far\", \"far\", \"far\", \"fascinating\", \"fascinating\", \"feed\", \"feet\", \"feet\", \"feet\", \"feet\", \"feet\", \"feet\", \"feet\", \"film\", \"film\", \"film\", \"film\", \"film\", \"film\", \"film\", \"film\", \"filter\", \"filter\", \"filter\", \"filter\", \"filter\", \"filter\", \"filter\", \"financial\", \"find\", \"find\", \"find\", \"find\", \"find\", \"find\", \"find\", \"find\", \"fine\", \"fine\", \"fine\", \"fine\", \"fine\", \"fine\", \"fine\", \"fine\", \"first\", \"first\", \"first\", \"first\", \"first\", \"first\", \"first\", \"first\", \"fit\", \"fit\", \"fit\", \"fit\", \"fit\", \"fit\", \"fit\", \"fit\", \"flimsy\", \"flimsy\", \"flimsy\", \"flimsy\", \"flimsy\", \"flimsy\", \"fluid\", \"fluid\", \"focus\", \"focus\", \"focus\", \"focus\", \"focus\", \"formula\", \"formula\", \"found\", \"found\", \"found\", \"found\", \"found\", \"found\", \"found\", \"found\", \"funny\", \"funny\", \"funny\", \"funny\", \"funny\", \"funny\", \"funny\", \"funny\", \"fuss\", \"game\", \"game\", \"game\", \"game\", \"game\", \"game\", \"game\", \"game\", \"gaps\", \"garbage\", \"garbage\", \"garbage\", \"garbage\", \"garbage\", \"garbage\", \"garbage\", \"garbage\", \"gary\", \"gary\", \"gas\", \"gas\", \"gas\", \"gb\", \"gb\", \"gb\", \"gel\", \"gel\", \"generic\", \"generic\", \"generic\", \"generic\", \"generic\", \"generic\", \"get\", \"get\", \"get\", \"get\", \"get\", \"get\", \"get\", \"get\", \"gibson\", \"glasses\", \"gloves\", \"going\", \"going\", \"going\", \"going\", \"going\", \"going\", \"going\", \"going\", \"good\", \"good\", \"good\", \"good\", \"good\", \"good\", \"good\", \"good\", \"google\", \"google\", \"google\", \"got\", \"got\", \"got\", \"got\", \"got\", \"got\", \"got\", \"got\", \"great\", \"great\", \"great\", \"great\", \"great\", \"great\", \"great\", \"great\", \"grind\", \"grind\", \"grisham\", \"grisham\", \"groups\", \"guide\", \"guide\", \"guide\", \"guide\", \"guide\", \"guide\", \"guide\", \"hair\", \"hair\", \"hair\", \"hair\", \"hair\", \"hair\", \"hair\", \"hair\", \"handle\", \"handle\", \"handle\", \"handle\", \"handle\", \"handle\", \"handle\", \"handle\", \"harris\", \"hear\", \"hear\", \"hear\", \"hear\", \"hear\", \"hear\", \"hear\", \"hear\", \"hi\", \"hide\", \"hilarious\", \"hilarious\", \"hilarious\", \"hillary\", \"history\", \"history\", \"history\", \"history\", \"history\", \"history\", \"history\", \"history\", \"hitch\", \"hitch\", \"hits\", \"hits\", \"hits\", \"hits\", \"hits\", \"hits\", \"ho\", \"hokey\", \"honor\", \"horn\", \"horror\", \"horror\", \"horror\", \"horror\", \"horror\", \"horror\", \"horror\", \"horror\", \"hose\", \"hose\", \"hose\", \"hp\", \"hp\", \"hp\", \"hp\", \"hp\", \"hp\", \"hundred\", \"hundred\", \"hurts\", \"idiotic\", \"immature\", \"inability\", \"industry\", \"industry\", \"industry\", \"industry\", \"industry\", \"information\", \"information\", \"information\", \"information\", \"information\", \"information\", \"information\", \"information\", \"ink\", \"ink\", \"ink\", \"ink\", \"ink\", \"ink\", \"insane\", \"inside\", \"inside\", \"inside\", \"inside\", \"inside\", \"inside\", \"inside\", \"inside\", \"inspiring\", \"interesting\", \"interesting\", \"interesting\", \"interesting\", \"interesting\", \"interesting\", \"interesting\", \"interesting\", \"interface\", \"interface\", \"internet\", \"internet\", \"internet\", \"internet\", \"internet\", \"internet\", \"internet\", \"internet\", \"interview\", \"interview\", \"interview\", \"interview\", \"interview\", \"introduction\", \"introduction\", \"introduction\", \"introduction\", \"introduction\", \"involving\", \"item\", \"item\", \"item\", \"item\", \"item\", \"item\", \"item\", \"item\", \"jackson\", \"jeans\", \"jeff\", \"jeff\", \"johnny\", \"johnson\", \"joseph\", \"junk\", \"junk\", \"junk\", \"junk\", \"junk\", \"junk\", \"junk\", \"junk\", \"jvc\", \"keith\", \"kettle\", \"keyboard\", \"keyboard\", \"keyboard\", \"kindle\", \"kindle\", \"kindle\", \"kindle\", \"kindle\", \"kindle\", \"know\", \"know\", \"know\", \"know\", \"know\", \"know\", \"know\", \"know\", \"koontz\", \"korn\", \"krups\", \"krups\", \"laptop\", \"laptop\", \"laptop\", \"laptop\", \"laptop\", \"larger\", \"larger\", \"larger\", \"larger\", \"larger\", \"larger\", \"laura\", \"law\", \"law\", \"law\", \"leather\", \"leather\", \"leather\", \"leather\", \"legal\", \"lens\", \"lens\", \"lens\", \"li\", \"lid\", \"lid\", \"lid\", \"lid\", \"life\", \"life\", \"life\", \"life\", \"life\", \"life\", \"life\", \"life\", \"like\", \"like\", \"like\", \"like\", \"like\", \"like\", \"like\", \"like\", \"listen\", \"listen\", \"listen\", \"listen\", \"listen\", \"listen\", \"listen\", \"lit\", \"lit\", \"litter\", \"little\", \"little\", \"little\", \"little\", \"little\", \"little\", \"little\", \"little\", \"lloyd\", \"locks\", \"london\", \"london\", \"london\", \"love\", \"love\", \"love\", \"love\", \"love\", \"love\", \"love\", \"love\", \"lyrics\", \"lyrics\", \"lyrics\", \"lyrics\", \"lyrics\", \"lyrics\", \"made\", \"made\", \"made\", \"made\", \"made\", \"made\", \"made\", \"made\", \"magnet\", \"magnet\", \"make\", \"make\", \"make\", \"make\", \"make\", \"make\", \"make\", \"make\", \"maker\", \"maker\", \"maker\", \"maker\", \"maker\", \"maker\", \"man\", \"man\", \"man\", \"man\", \"man\", \"man\", \"man\", \"man\", \"manages\", \"many\", \"many\", \"many\", \"many\", \"many\", \"many\", \"many\", \"many\", \"map\", \"massage\", \"mats\", \"max\", \"max\", \"max\", \"max\", \"memorable\", \"messages\", \"mic\", \"miles\", \"miles\", \"milk\", \"milk\", \"minutes\", \"minutes\", \"minutes\", \"minutes\", \"minutes\", \"minutes\", \"minutes\", \"minutes\", \"mixer\", \"moments\", \"mon\", \"money\", \"money\", \"money\", \"money\", \"money\", \"money\", \"money\", \"money\", \"months\", \"months\", \"months\", \"months\", \"months\", \"months\", \"months\", \"months\", \"motivated\", \"mouse\", \"mouse\", \"mouse\", \"mouse\", \"mouse\", \"mouse\", \"movie\", \"movie\", \"movie\", \"movie\", \"movie\", \"movie\", \"movie\", \"movie\", \"movies\", \"movies\", \"movies\", \"movies\", \"movies\", \"movies\", \"movies\", \"movies\", \"mp\", \"mp\", \"mp\", \"mp\", \"mp\", \"mp\", \"ms\", \"ms\", \"ms\", \"ms\", \"ms\", \"ms\", \"ms\", \"much\", \"much\", \"much\", \"much\", \"much\", \"much\", \"much\", \"much\", \"music\", \"music\", \"music\", \"music\", \"music\", \"music\", \"music\", \"music\", \"musical\", \"musical\", \"musical\", \"musical\", \"never\", \"never\", \"never\", \"never\", \"never\", \"never\", \"never\", \"never\", \"new\", \"new\", \"new\", \"new\", \"new\", \"new\", \"new\", \"new\", \"nintendo\", \"nonexistent\", \"nothing\", \"nothing\", \"nothing\", \"nothing\", \"nothing\", \"nothing\", \"nothing\", \"nothing\", \"noticeable\", \"noticeable\", \"novel\", \"novel\", \"novel\", \"novel\", \"novel\", \"novel\", \"novel\", \"novel\", \"obscure\", \"oem\", \"official\", \"old\", \"old\", \"old\", \"old\", \"old\", \"old\", \"old\", \"old\", \"one\", \"one\", \"one\", \"one\", \"one\", \"one\", \"one\", \"one\", \"opposed\", \"oprah\", \"order\", \"order\", \"order\", \"order\", \"order\", \"order\", \"order\", \"order\", \"ordered\", \"ordered\", \"ordered\", \"ordered\", \"ordered\", \"ordered\", \"ordered\", \"ordered\", \"orders\", \"os\", \"os\", \"os\", \"ought\", \"outer\", \"outer\", \"overnight\", \"overview\", \"overview\", \"paced\", \"packaged\", \"packaged\", \"packaged\", \"packaged\", \"page\", \"page\", \"page\", \"page\", \"page\", \"page\", \"page\", \"page\", \"pages\", \"pages\", \"pages\", \"pages\", \"pages\", \"pages\", \"pages\", \"pages\", \"pans\", \"pans\", \"pants\", \"pants\", \"paper\", \"paper\", \"paper\", \"paper\", \"paper\", \"paper\", \"paper\", \"paper\", \"people\", \"people\", \"people\", \"people\", \"people\", \"people\", \"people\", \"people\", \"performances\", \"performances\", \"personal\", \"personal\", \"personal\", \"personal\", \"personal\", \"philosophical\", \"phone\", \"phone\", \"phone\", \"phone\", \"phone\", \"phone\", \"phone\", \"phone\", \"physics\", \"physics\", \"physics\", \"physics\", \"piano\", \"picks\", \"pitt\", \"plane\", \"plastic\", \"plastic\", \"plastic\", \"plastic\", \"plastic\", \"plastic\", \"plastic\", \"plastic\", \"platform\", \"player\", \"player\", \"player\", \"player\", \"player\", \"player\", \"player\", \"player\", \"plot\", \"plot\", \"plot\", \"plot\", \"plot\", \"plot\", \"plot\", \"plot\", \"pole\", \"polish\", \"pop\", \"pop\", \"pop\", \"pop\", \"pop\", \"pop\", \"pop\", \"pop\", \"porn\", \"porn\", \"poster\", \"pot\", \"pot\", \"pots\", \"prayer\", \"presents\", \"presents\", \"presents\", \"pretty\", \"pretty\", \"pretty\", \"pretty\", \"pretty\", \"pretty\", \"pretty\", \"pretty\", \"printer\", \"printer\", \"printer\", \"printer\", \"printer\", \"producer\", \"producer\", \"product\", \"product\", \"product\", \"product\", \"product\", \"product\", \"product\", \"product\", \"programming\", \"programming\", \"programming\", \"programming\", \"promotional\", \"providing\", \"publication\", \"published\", \"published\", \"published\", \"published\", \"published\", \"published\", \"published\", \"published\", \"pumping\", \"pumping\", \"purchased\", \"purchased\", \"purchased\", \"purchased\", \"purchased\", \"purchased\", \"purchased\", \"purchased\", \"purposes\", \"quality\", \"quality\", \"quality\", \"quality\", \"quality\", \"quality\", \"quality\", \"quality\", \"que\", \"que\", \"queen\", \"questions\", \"questions\", \"questions\", \"questions\", \"questions\", \"questions\", \"questions\", \"radio\", \"radio\", \"radio\", \"radio\", \"radio\", \"radio\", \"radio\", \"rail\", \"ram\", \"randomly\", \"randomly\", \"ray\", \"ray\", \"ray\", \"ray\", \"ray\", \"ray\", \"ray\", \"read\", \"read\", \"read\", \"read\", \"read\", \"read\", \"read\", \"read\", \"reader\", \"reader\", \"reader\", \"reader\", \"reader\", \"reader\", \"reader\", \"reader\", \"reading\", \"reading\", \"reading\", \"reading\", \"reading\", \"reading\", \"reading\", \"reading\", \"real\", \"real\", \"real\", \"real\", \"real\", \"real\", \"real\", \"real\", \"really\", \"really\", \"really\", \"really\", \"really\", \"really\", \"really\", \"really\", \"reccomend\", \"receipt\", \"receipt\", \"received\", \"received\", \"received\", \"received\", \"received\", \"received\", \"received\", \"received\", \"reception\", \"recipes\", \"recipes\", \"recipes\", \"recipes\", \"recommendations\", \"recording\", \"recording\", \"recording\", \"recording\", \"recording\", \"recording\", \"recording\", \"reduced\", \"refund\", \"refund\", \"refund\", \"refund\", \"refund\", \"refund\", \"refund\", \"refund\", \"region\", \"reminds\", \"reminds\", \"reminds\", \"repeating\", \"replacement\", \"replacement\", \"replacement\", \"replacement\", \"replacement\", \"replacement\", \"replacement\", \"replacement\", \"requiring\", \"researching\", \"return\", \"return\", \"return\", \"return\", \"return\", \"return\", \"return\", \"return\", \"reviews\", \"reviews\", \"reviews\", \"reviews\", \"reviews\", \"reviews\", \"reviews\", \"reviews\", \"rhino\", \"roll\", \"roll\", \"roll\", \"roll\", \"roll\", \"rolling\", \"rolling\", \"rolling\", \"rope\", \"ross\", \"rotate\", \"ruins\", \"rules\", \"rules\", \"rules\", \"rules\", \"rules\", \"salon\", \"scale\", \"scene\", \"scene\", \"scene\", \"scene\", \"scene\", \"scene\", \"scene\", \"scene\", \"scheme\", \"school\", \"school\", \"school\", \"school\", \"school\", \"school\", \"school\", \"school\", \"score\", \"score\", \"score\", \"score\", \"script\", \"script\", \"script\", \"script\", \"script\", \"script\", \"script\", \"script\", \"season\", \"season\", \"season\", \"season\", \"season\", \"season\", \"season\", \"see\", \"see\", \"see\", \"see\", \"see\", \"see\", \"see\", \"see\", \"seek\", \"seek\", \"sees\", \"sees\", \"seller\", \"seller\", \"seller\", \"seller\", \"seller\", \"seller\", \"seller\", \"seller\", \"send\", \"send\", \"send\", \"send\", \"send\", \"send\", \"send\", \"sense\", \"sense\", \"sense\", \"sense\", \"sense\", \"sense\", \"sense\", \"sent\", \"sent\", \"sent\", \"sent\", \"sent\", \"sent\", \"sent\", \"sent\", \"series\", \"series\", \"series\", \"series\", \"series\", \"series\", \"series\", \"series\", \"service\", \"service\", \"service\", \"service\", \"service\", \"service\", \"service\", \"service\", \"serving\", \"set\", \"set\", \"set\", \"set\", \"set\", \"set\", \"set\", \"set\", \"sewing\", \"shaving\", \"sheets\", \"sheets\", \"sheets\", \"shell\", \"shipping\", \"shipping\", \"shipping\", \"shipping\", \"shipping\", \"shipping\", \"shipping\", \"shipping\", \"shoe\", \"shoe\", \"shoe\", \"signal\", \"signal\", \"signal\", \"signal\", \"signal\", \"signal\", \"similarly\", \"similarly\", \"sims\", \"singer\", \"singer\", \"singer\", \"singer\", \"singer\", \"size\", \"size\", \"size\", \"size\", \"size\", \"size\", \"size\", \"size\", \"sleepy\", \"slick\", \"small\", \"small\", \"small\", \"small\", \"small\", \"small\", \"small\", \"small\", \"smoothies\", \"snake\", \"snapped\", \"soap\", \"soap\", \"soap\", \"society\", \"society\", \"society\", \"society\", \"someone\", \"someone\", \"someone\", \"someone\", \"someone\", \"someone\", \"someone\", \"someone\", \"something\", \"something\", \"something\", \"something\", \"something\", \"something\", \"something\", \"something\", \"song\", \"song\", \"song\", \"song\", \"song\", \"song\", \"song\", \"song\", \"songs\", \"songs\", \"songs\", \"songs\", \"songs\", \"songs\", \"songs\", \"songs\", \"sooo\", \"soul\", \"soul\", \"soul\", \"soul\", \"sound\", \"sound\", \"sound\", \"sound\", \"sound\", \"sound\", \"sound\", \"sound\", \"sounds\", \"sounds\", \"sounds\", \"sounds\", \"sounds\", \"sounds\", \"sounds\", \"sounds\", \"south\", \"south\", \"south\", \"spanish\", \"spanish\", \"spanish\", \"speaker\", \"speaker\", \"speaker\", \"speaker\", \"speaker\", \"spell\", \"spell\", \"spell\", \"spiritual\", \"spout\", \"spring\", \"spring\", \"spring\", \"spring\", \"squeeze\", \"stainless\", \"stating\", \"stay\", \"stay\", \"stay\", \"stay\", \"stay\", \"stay\", \"stay\", \"stay\", \"staying\", \"stolen\", \"stones\", \"story\", \"story\", \"story\", \"story\", \"story\", \"story\", \"story\", \"story\", \"stretched\", \"stretched\", \"subject\", \"subject\", \"subject\", \"subject\", \"subject\", \"subject\", \"subject\", \"suction\", \"suction\", \"suffering\", \"suggests\", \"suggests\", \"surprises\", \"surround\", \"tale\", \"tale\", \"tale\", \"tale\", \"tale\", \"tale\", \"talentless\", \"tap\", \"teen\", \"teenage\", \"teeth\", \"temperature\", \"temperature\", \"temperature\", \"terrible\", \"terrible\", \"terrible\", \"terrible\", \"terrible\", \"terrible\", \"terrible\", \"terrible\", \"terror\", \"test\", \"test\", \"test\", \"test\", \"test\", \"test\", \"test\", \"test\", \"testament\", \"thermometer\", \"thicker\", \"thier\", \"thing\", \"thing\", \"thing\", \"thing\", \"thing\", \"thing\", \"thing\", \"thing\", \"think\", \"think\", \"think\", \"think\", \"think\", \"think\", \"think\", \"think\", \"thought\", \"thought\", \"thought\", \"thought\", \"thought\", \"thought\", \"thought\", \"thought\", \"thread\", \"threaded\", \"thriller\", \"thriller\", \"thriller\", \"thriller\", \"thumbs\", \"thumbs\", \"time\", \"time\", \"time\", \"time\", \"time\", \"time\", \"time\", \"time\", \"timer\", \"timer\", \"told\", \"told\", \"told\", \"told\", \"told\", \"told\", \"told\", \"told\", \"tour\", \"toys\", \"toys\", \"toys\", \"track\", \"track\", \"track\", \"track\", \"track\", \"track\", \"track\", \"track\", \"training\", \"training\", \"trees\", \"trees\", \"truck\", \"truck\", \"two\", \"two\", \"two\", \"two\", \"two\", \"two\", \"two\", \"two\", \"unacceptable\", \"uncomfortable\", \"uncomfortable\", \"uncomfortable\", \"uncomfortable\", \"uncomfortable\", \"uncomfortable\", \"uncomfortable\", \"unlistenable\", \"unplug\", \"urge\", \"use\", \"use\", \"use\", \"use\", \"use\", \"use\", \"use\", \"use\", \"used\", \"used\", \"used\", \"used\", \"used\", \"used\", \"used\", \"used\", \"vader\", \"valves\", \"vampire\", \"vampire\", \"vampire\", \"vhs\", \"vhs\", \"vhs\", \"vhs\", \"vhs\", \"vhs\", \"vhs\", \"victim\", \"video\", \"video\", \"video\", \"video\", \"video\", \"video\", \"video\", \"video\", \"views\", \"views\", \"vinyl\", \"visit\", \"vocabulary\", \"voice\", \"voice\", \"voice\", \"voice\", \"voice\", \"voice\", \"voice\", \"vs\", \"vs\", \"vs\", \"waist\", \"want\", \"want\", \"want\", \"want\", \"want\", \"want\", \"want\", \"want\", \"warner\", \"warner\", \"warranty\", \"warranty\", \"warranty\", \"warranty\", \"warranty\", \"warranty\", \"warranty\", \"wasnt\", \"wasnt\", \"waste\", \"waste\", \"waste\", \"waste\", \"waste\", \"waste\", \"waste\", \"waste\", \"watch\", \"watch\", \"watch\", \"watch\", \"watch\", \"watch\", \"watch\", \"watch\", \"watching\", \"watching\", \"watching\", \"watching\", \"watching\", \"watching\", \"watching\", \"watching\", \"water\", \"water\", \"water\", \"water\", \"water\", \"water\", \"water\", \"water\", \"way\", \"way\", \"way\", \"way\", \"way\", \"way\", \"way\", \"way\", \"web\", \"web\", \"web\", \"web\", \"web\", \"web\", \"web\", \"web\", \"well\", \"well\", \"well\", \"well\", \"well\", \"well\", \"well\", \"well\", \"whining\", \"william\", \"win\", \"win\", \"win\", \"wind\", \"winded\", \"wing\", \"wing\", \"wireless\", \"wireless\", \"wireless\", \"wireless\", \"wireless\", \"women\", \"women\", \"women\", \"women\", \"women\", \"women\", \"women\", \"words\", \"words\", \"words\", \"words\", \"words\", \"words\", \"words\", \"words\", \"work\", \"work\", \"work\", \"work\", \"work\", \"work\", \"work\", \"work\", \"worth\", \"worth\", \"worth\", \"worth\", \"worth\", \"worth\", \"worth\", \"worth\", \"would\", \"would\", \"would\", \"would\", \"would\", \"would\", \"would\", \"would\", \"wouldnt\", \"wrapping\", \"written\", \"written\", \"written\", \"written\", \"written\", \"written\", \"written\", \"written\", \"zip\", \"zipper\", \"zombie\"]}, \"R\": 30, \"lambda.step\": 0.01, \"plot.opts\": {\"xlab\": \"PC1\", \"ylab\": \"PC2\"}, \"topic.order\": [1, 3, 5, 7, 8, 2, 4, 6]};\n",
              "\n",
              "function LDAvis_load_lib(url, callback){\n",
              "  var s = document.createElement('script');\n",
              "  s.src = url;\n",
              "  s.async = true;\n",
              "  s.onreadystatechange = s.onload = callback;\n",
              "  s.onerror = function(){console.warn(\"failed to load library \" + url);};\n",
              "  document.getElementsByTagName(\"head\")[0].appendChild(s);\n",
              "}\n",
              "\n",
              "if(typeof(LDAvis) !== \"undefined\"){\n",
              "   // already loaded: just create the visualization\n",
              "   !function(LDAvis){\n",
              "       new LDAvis(\"#\" + \"ldavis_el990139726793756960117415696\", ldavis_el990139726793756960117415696_data);\n",
              "   }(LDAvis);\n",
              "}else if(typeof define === \"function\" && define.amd){\n",
              "   // require.js is available: use it to load d3/LDAvis\n",
              "   require.config({paths: {d3: \"https://cdnjs.cloudflare.com/ajax/libs/d3/3.5.5/d3.min\"}});\n",
              "   require([\"d3\"], function(d3){\n",
              "      window.d3 = d3;\n",
              "      LDAvis_load_lib(\"https://cdn.rawgit.com/bmabey/pyLDAvis/files/ldavis.v1.0.0.js\", function(){\n",
              "        new LDAvis(\"#\" + \"ldavis_el990139726793756960117415696\", ldavis_el990139726793756960117415696_data);\n",
              "      });\n",
              "    });\n",
              "}else{\n",
              "    // require.js not available: dynamically load d3 & LDAvis\n",
              "    LDAvis_load_lib(\"https://cdnjs.cloudflare.com/ajax/libs/d3/3.5.5/d3.min.js\", function(){\n",
              "         LDAvis_load_lib(\"https://cdn.rawgit.com/bmabey/pyLDAvis/files/ldavis.v1.0.0.js\", function(){\n",
              "                 new LDAvis(\"#\" + \"ldavis_el990139726793756960117415696\", ldavis_el990139726793756960117415696_data);\n",
              "            })\n",
              "         });\n",
              "}\n",
              "</script>"
            ]
          },
          "metadata": {},
          "execution_count": 48
        }
      ]
    },
    {
      "cell_type": "code",
      "source": [
        "# Compute coherence score\n",
        "coherence_model_lda = CoherenceModel(model=lda_gensim_d2v_0, texts=text2, dictionary=dictionary2, coherence='c_v')\n",
        "coherence_lda = coherence_model_lda.get_coherence()\n",
        "\n",
        "print('Coherence Score: ', coherence_lda)"
      ],
      "metadata": {
        "colab": {
          "base_uri": "https://localhost:8080/"
        },
        "id": "qV1zz9TPwX5I",
        "outputId": "4718ac44-c5ec-4250-ef68-086bfd4ccff4"
      },
      "execution_count": null,
      "outputs": [
        {
          "output_type": "stream",
          "name": "stdout",
          "text": [
            "Coherence Score:  0.4087185789750232\n"
          ]
        }
      ]
    },
    {
      "cell_type": "code",
      "source": [
        "#stampo per ogni topic identificato una coppia rappresentante parola e peso della parola nel topic\n",
        "topics_d2v_0 = lda_gensim_d2v_0.show_topics(num_topics=8, num_words=5, formatted=False)\n",
        "for topic in topics_d2v_0:\n",
        "  print(topic)"
      ],
      "metadata": {
        "colab": {
          "base_uri": "https://localhost:8080/"
        },
        "outputId": "c9244e81-6769-4968-df2b-eab1edf61137",
        "id": "uF24eBkiZR_z"
      },
      "execution_count": null,
      "outputs": [
        {
          "output_type": "stream",
          "name": "stdout",
          "text": [
            "(0, [('would', 0.011774678), ('like', 0.011127163), ('one', 0.009494903), ('time', 0.009157481), ('get', 0.0081024)])\n",
            "(1, [('movie', 0.017214129), ('film', 0.011480738), ('one', 0.0099151805), ('like', 0.009045504), ('good', 0.008898449)])\n",
            "(2, [('book', 0.03839687), ('read', 0.009901486), ('like', 0.008338545), ('one', 0.008047174), ('dvd', 0.006460963)])\n",
            "(3, [('book', 0.03656482), ('good', 0.0073377118), ('read', 0.0063201324), ('information', 0.006165438), ('get', 0.0060157427)])\n",
            "(4, [('book', 0.02716008), ('read', 0.013707538), ('one', 0.011932993), ('like', 0.008278602), ('reading', 0.008128224)])\n",
            "(5, [('product', 0.014785058), ('well', 0.008817114), ('one', 0.008182888), ('use', 0.007936937), ('good', 0.0070775673)])\n",
            "(6, [('movie', 0.012574119), ('get', 0.011410334), ('product', 0.009384342), ('amazon', 0.009303979), ('would', 0.008982175)])\n",
            "(7, [('one', 0.01919693), ('cd', 0.012024494), ('album', 0.01134865), ('buy', 0.00909903), ('like', 0.008657412)])\n"
          ]
        }
      ]
    },
    {
      "cell_type": "code",
      "source": [
        "num_topics = 8\n",
        "n_top_sentences = 3\n",
        "threshold = 0.7\n",
        "\n",
        "sentence_topic_distributions_d2v_0 = [lda_gensim_d2v_0[c] for c in corpus2] #calcolo la distribuzione di probabilitàdi appartenenza per ogni frase del corpus ad un topic\n",
        "for topic_id in range(num_topics):\n",
        "    sentences = []\n",
        "    for i, dist in enumerate(sentence_topic_distributions_d2v_0):\n",
        "        if max([p for t, p in dist]) >= threshold and topic_id in [t for t, p in dist]: #per ogni topic, verifico quali frasi sono oltre il threshold e le inserisco nella lista\n",
        "            sentences.append(\" \".join(text2[i]))\n",
        "\n",
        "    # print the selected sentences for this topic\n",
        "    print(\"Topic\", topic_id)\n",
        "    for i, sentence in enumerate(sentences[:n_top_sentences]):\n",
        "        print(f\"\\t{i+1}. {sentence}\")"
      ],
      "metadata": {
        "colab": {
          "base_uri": "https://localhost:8080/"
        },
        "outputId": "d6c7794d-07a5-4148-a05f-46eea068441c",
        "id": "z4lnIlg9Zv07"
      },
      "execution_count": null,
      "outputs": [
        {
          "output_type": "stream",
          "name": "stdout",
          "text": [
            "Topic 0\n",
            "\t1. cheap medias vs quality ones real problem cheap blu ray sets verbatim memorex ridata cost little last little thing came people started buying cheap medias received used times would write stars review months passed lose data video stars reviews begin emerge notice selecting see reviews organizing newest first go last page see first reviews star ones first person take risk star review gets hammered others months later see stars reviews common people begin accept whole idea review advice inaccuracy product ratings reviews fooled get paid\n",
            "\t2. junk bought unit print cd figured ability print photos would bonus photo photo part died yellow print properly matter many times calibrate cd tray wont move never buy epson\n",
            "\t3. terrible dont get movie sucked stupid story one killing characters throughout mess filmed room talk talk stab please dont waste money crap dont believe reviews great horror slasher film seeing threw garbage would fool give anyone would think crazy seeing trash stay away save yourmoney\n",
            "Topic 1\n",
            "\t1. frankly pretty boring album serves nice background music music fall asleep however lucksmiths certainly likeable band planet peg band nobody hates nobody really thrilled either main qualm music lead singer one tone voice sings exact volume exact way every track matter type song belting whatsoever falsetto interesting fluctuations wide variation range basic simple croon boring\n",
            "\t2. mariel hemming way breathe space ok begin story weak stupid villian laughably ridiculous could feel budget cut bad fight moon scene black curtains used wires sticking make hero villian fly exposed superman rebiulds wall china eyes simple camera work budget costs fav part nuclear man takes mariel hemmingway character space yup past thin air intensly hot atmosphere ok mind good bad movies bad bad even worth watching free avoid clunker\n",
            "\t3. gus van sant opus someone stolelove story screenplay stupid enough believe one would notice already forgotten\n",
            "Topic 2\n",
            "\t1. cheap medias vs quality ones real problem cheap blu ray sets verbatim memorex ridata cost little last little thing came people started buying cheap medias received used times would write stars review months passed lose data video stars reviews begin emerge notice selecting see reviews organizing newest first go last page see first reviews star ones first person take risk star review gets hammered others months later see stars reviews common people begin accept whole idea review advice inaccuracy product ratings reviews fooled get paid\n",
            "\t2. frankly pretty boring album serves nice background music music fall asleep however lucksmiths certainly likeable band planet peg band nobody hates nobody really thrilled either main qualm music lead singer one tone voice sings exact volume exact way every track matter type song belting whatsoever falsetto interesting fluctuations wide variation range basic simple croon boring\n",
            "\t3. cheese taste like cheese ever made swiss cheese book taste anything like swiss cheese however kids liked ate crackers made another kind recall one remember one liked though taste like cheese want real cheese flavor think find among recipes sorry\n",
            "Topic 3\n",
            "\t1. cheap medias vs quality ones real problem cheap blu ray sets verbatim memorex ridata cost little last little thing came people started buying cheap medias received used times would write stars review months passed lose data video stars reviews begin emerge notice selecting see reviews organizing newest first go last page see first reviews star ones first person take risk star review gets hammered others months later see stars reviews common people begin accept whole idea review advice inaccuracy product ratings reviews fooled get paid\n",
            "\t2. much code even programmer book might seem overwhelming author delves right programming without explaining basic structure vb e data types available functions also reader expected understand code written book without help author author provides overview code little explanation regarding functionality functions used vb library recommend book non programmer beginner programming\n",
            "\t3. read like college essay must disagree posts thought movie offered little insight read like college level book report book simply justice rich material found books\n",
            "Topic 4\n",
            "\t1. rich dad poor dad new cover everything rich dad poor dad book found first book far engaging unique cashflow quadrant creative hashing first series read first book find kiyosaki second text interesting\n",
            "\t2. dying get published book started little slow dug deeper became interesting overall good book funny times surprised ending reading books future\n",
            "\t3. disappointing found book rather pie sky examples interactions parent child expect heard leave beaver appreciate concept letting kids experience ramifications decisions enough pertinent information rubber meets road approaches make book worth money spent time reading disappointed\n",
            "Topic 5\n",
            "\t1. upgrade dead gamer loves play old games every year played xcom ufo defence game would possible since upgrade hardware rather frequently hope ea management react protest storm rethink drm policy\n",
            "\t2. issues definitely good choice winter white dwarf even though bars narrow enough escape got wheel find way short small mos old syrian using wheel liking cage large enough question quality crack fly wheel occurred installation unfortunately return cage using days suggest dwarf get habitrail dwarf habitat hamster took loved right away perhaps might good choice younger syrian may work okay dwarf grow honest impressed crittertrail products seeing much better made habitrail\n",
            "\t3. best movie ever dvd lacking vanilla sky favourite ever movie pipping jacob ladder top spot jacob ladder dvd brilliant series extras best part deconstruction film form making featurette vanilla sky two similar featurettes awful one press tour thing probably worst documentary ever seen original music video africa shox leftfield awesome directed great coming director called chris cunningham doubt making waves movie arena soon dvd version music video awful clips fom film dodgy editing effects good things dvd thefilm cameron crowe directors commentary insightful mixed bag really could lot better\n",
            "Topic 6\n",
            "\t1. cheap medias vs quality ones real problem cheap blu ray sets verbatim memorex ridata cost little last little thing came people started buying cheap medias received used times would write stars review months passed lose data video stars reviews begin emerge notice selecting see reviews organizing newest first go last page see first reviews star ones first person take risk star review gets hammered others months later see stars reviews common people begin accept whole idea review advice inaccuracy product ratings reviews fooled get paid\n",
            "\t2. beware used aerobed three times really loved sprang leak faulty seam christmas since warranty guest room closet advertise handy one aerobed nothing help wanted advice fix unresponsive turned would cheaper long run put guests nearby hotel aerobed buy fine like problem look aerobed customer service give much help\n",
            "\t3. poor service able buy wanted even emails phone calls still need buy items\n",
            "Topic 7\n",
            "\t1. like dance hits one keeper unfortunately many house r b songs mixed liking plan buying cds series pure dance\n",
            "\t2. beware used aerobed three times really loved sprang leak faulty seam christmas since warranty guest room closet advertise handy one aerobed nothing help wanted advice fix unresponsive turned would cheaper long run put guests nearby hotel aerobed buy fine like problem look aerobed customer service give much help\n",
            "\t3. frankly pretty boring album serves nice background music music fall asleep however lucksmiths certainly likeable band planet peg band nobody hates nobody really thrilled either main qualm music lead singer one tone voice sings exact volume exact way every track matter type song belting whatsoever falsetto interesting fluctuations wide variation range basic simple croon boring\n"
          ]
        }
      ]
    },
    {
      "cell_type": "markdown",
      "source": [
        "######recensioni classificate come positiva"
      ],
      "metadata": {
        "id": "zBdFv76Lyh-s"
      }
    },
    {
      "cell_type": "code",
      "source": [
        "d2v_1 = d2v_value_1['test_text']"
      ],
      "metadata": {
        "id": "lX1zz0RXxCDl"
      },
      "execution_count": null,
      "outputs": []
    },
    {
      "cell_type": "code",
      "source": [
        "l_d2v_1 = d2v_1.tolist() "
      ],
      "metadata": {
        "id": "8oSfW-vBxJkb"
      },
      "execution_count": null,
      "outputs": []
    },
    {
      "cell_type": "code",
      "source": [
        "size3 = len(l_d2v_1)"
      ],
      "metadata": {
        "id": "OSvhNL5fxM9x"
      },
      "execution_count": null,
      "outputs": []
    },
    {
      "cell_type": "code",
      "source": [
        "text3=[]\n",
        "for x in range(0,size3):\n",
        "  text3.append(list(l_d2v_1[x].split()))"
      ],
      "metadata": {
        "id": "zQcegic6xUtR"
      },
      "execution_count": null,
      "outputs": []
    },
    {
      "cell_type": "code",
      "source": [
        "doc_id = 0\n",
        "l_d2v_1[doc_id]"
      ],
      "metadata": {
        "colab": {
          "base_uri": "https://localhost:8080/",
          "height": 53
        },
        "id": "12sxIMCcxcKP",
        "outputId": "158f8020-4883-47aa-dde8-04edb5305984"
      },
      "execution_count": null,
      "outputs": [
        {
          "output_type": "execute_result",
          "data": {
            "text/plain": [
              "'end metaphysics indeed heidegger bends neitzche purpose book great philosophers often quilty mis interpreting mis reading maligning came order introduce distance highlight difference heidegger gives perhaps worst reading nietzsche possible good book understanding heidegger poor book understanding nietzsche'"
            ],
            "application/vnd.google.colaboratory.intrinsic+json": {
              "type": "string"
            }
          },
          "metadata": {},
          "execution_count": 57
        }
      ]
    },
    {
      "cell_type": "code",
      "source": [
        "text3[doc_id][:5]"
      ],
      "metadata": {
        "colab": {
          "base_uri": "https://localhost:8080/"
        },
        "id": "fqNNEGDtxjow",
        "outputId": "bb760ffc-3d93-4b6e-b92e-dc02991a7139"
      },
      "execution_count": null,
      "outputs": [
        {
          "output_type": "execute_result",
          "data": {
            "text/plain": [
              "['end', 'metaphysics', 'indeed', 'heidegger', 'bends']"
            ]
          },
          "metadata": {},
          "execution_count": 58
        }
      ]
    },
    {
      "cell_type": "code",
      "source": [
        "dictionary3 = Dictionary(text3)\n",
        "dictionary3.filter_extremes(no_below=5, no_above=0.5)"
      ],
      "metadata": {
        "id": "7iyW--PAxqUl"
      },
      "execution_count": null,
      "outputs": []
    },
    {
      "cell_type": "code",
      "source": [
        "corpus3 = [dictionary3.doc2bow(i) for i in text3]"
      ],
      "metadata": {
        "id": "0-SP9aK-xwmQ"
      },
      "execution_count": null,
      "outputs": []
    },
    {
      "cell_type": "code",
      "source": [
        "[(dictionary3[k], v) for k, v in corpus3[0][:5]]"
      ],
      "metadata": {
        "colab": {
          "base_uri": "https://localhost:8080/"
        },
        "id": "1Xo1G-pEx3L7",
        "outputId": "88473494-d0af-4dd3-d25f-4b4cee32e77c"
      },
      "execution_count": null,
      "outputs": [
        {
          "output_type": "execute_result",
          "data": {
            "text/plain": [
              "[('book', 3), ('came', 1), ('difference', 1), ('distance', 1), ('end', 1)]"
            ]
          },
          "metadata": {},
          "execution_count": 61
        }
      ]
    },
    {
      "cell_type": "code",
      "source": [
        "lda_gensim_d2v_1 = LdaModel(corpus3, num_topics=8, id2word=dictionary3, random_state=28)"
      ],
      "metadata": {
        "colab": {
          "base_uri": "https://localhost:8080/"
        },
        "id": "eLizor-jx6hY",
        "outputId": "cbbbf628-32cf-4cb3-93d3-542a556f826f"
      },
      "execution_count": null,
      "outputs": [
        {
          "output_type": "stream",
          "name": "stderr",
          "text": [
            "WARNING:gensim.models.ldamodel:too few updates, training might not converge; consider increasing the number of passes or iterations to improve accuracy\n"
          ]
        }
      ]
    },
    {
      "cell_type": "code",
      "source": [
        "pyLDAvis.gensim.prepare(lda_gensim_d2v_1, corpus3, dictionary3, mds='tsne')"
      ],
      "metadata": {
        "colab": {
          "base_uri": "https://localhost:8080/",
          "height": 862
        },
        "id": "k3gB7MRyx9Zb",
        "outputId": "251dd428-8df4-438c-e2fc-456567ae78a7"
      },
      "execution_count": null,
      "outputs": [
        {
          "output_type": "execute_result",
          "data": {
            "text/plain": [
              "PreparedData(topic_coordinates=                x           y  topics  cluster       Freq\n",
              "topic                                                    \n",
              "2     -108.958252 -208.941483       1        1  17.777507\n",
              "5      186.487061  -98.103249       2        1  14.824497\n",
              "3       19.245832  160.858780       3        1  13.804119\n",
              "7      170.658829   75.445076       4        1  12.291753\n",
              "4       -1.386411  -35.043739       5        1  12.231315\n",
              "6     -145.800095  106.944611       6        1  11.028814\n",
              "0       64.834541 -221.825272       7        1   9.450553\n",
              "1     -196.906036  -58.990913       8        1   8.591441, topic_info=      Term         Freq        Total Category  logprob  loglift\n",
              "0     book  5434.000000  5434.000000  Default  30.0000  30.0000\n",
              "28      cd  1437.000000  1437.000000  Default  29.0000  29.0000\n",
              "582   game   686.000000   686.000000  Default  28.0000  28.0000\n",
              "217   read  2234.000000  2234.000000  Default  27.0000  27.0000\n",
              "22   album  1409.000000  1409.000000  Default  26.0000  26.0000\n",
              "..     ...          ...          ...      ...      ...      ...\n",
              "421   time    90.909196  1702.658903   Topic8  -5.8257  -0.4757\n",
              "126   many    83.002667  1048.160158   Topic8  -5.9167  -0.0815\n",
              "463    two    80.696166   832.987614   Topic8  -5.9449   0.1201\n",
              "196    get    84.515447  1738.603044   Topic8  -5.8987  -0.5695\n",
              "33   first    80.478557  1317.767588   Topic8  -5.9476  -0.3413\n",
              "\n",
              "[696 rows x 6 columns], token_table=      Topic      Freq        Term\n",
              "term                             \n",
              "6648      6  0.951556     absence\n",
              "6648      8  0.031719     absence\n",
              "4310      2  0.973873      absorb\n",
              "3586      2  0.967066    academic\n",
              "5221      1  0.950336  adjustment\n",
              "...     ...       ...         ...\n",
              "3031      3  0.973632       youth\n",
              "4761      7  0.969958       zelda\n",
              "7638      5  0.960357         zip\n",
              "1210      8  0.955925         zoo\n",
              "5811      5  0.952912        zoom\n",
              "\n",
              "[2026 rows x 3 columns], R=30, lambda_step=0.01, plot_opts={'xlab': 'PC1', 'ylab': 'PC2'}, topic_order=[3, 6, 4, 8, 5, 7, 1, 2])"
            ],
            "text/html": [
              "\n",
              "<link rel=\"stylesheet\" type=\"text/css\" href=\"https://cdn.rawgit.com/bmabey/pyLDAvis/files/ldavis.v1.0.0.css\">\n",
              "\n",
              "\n",
              "<div id=\"ldavis_el9901397266531527206810517959\"></div>\n",
              "<script type=\"text/javascript\">\n",
              "\n",
              "var ldavis_el9901397266531527206810517959_data = {\"mdsDat\": {\"x\": [-108.958251953125, 186.487060546875, 19.245832443237305, 170.65882873535156, -1.3864107131958008, -145.8000946044922, 64.83454132080078, -196.90603637695312], \"y\": [-208.9414825439453, -98.1032485961914, 160.85877990722656, 75.44507598876953, -35.043739318847656, 106.94461059570312, -221.8252716064453, -58.99091339111328], \"topics\": [1, 2, 3, 4, 5, 6, 7, 8], \"cluster\": [1, 1, 1, 1, 1, 1, 1, 1], \"Freq\": [17.77750689981115, 14.82449730805574, 13.804119396265014, 12.291753263651604, 12.231315011456498, 11.02881364226714, 9.45055331179969, 8.591441166693158]}, \"tinfo\": {\"Term\": [\"book\", \"cd\", \"game\", \"read\", \"album\", \"songs\", \"movie\", \"use\", \"music\", \"song\", \"price\", \"fun\", \"good\", \"dvd\", \"great\", \"story\", \"product\", \"books\", \"characters\", \"life\", \"episodes\", \"reading\", \"games\", \"really\", \"works\", \"heard\", \"world\", \"easy\", \"season\", \"water\", \"stir\", \"becoming\", \"stops\", \"wider\", \"saves\", \"pt\", \"nick\", \"buried\", \"hardy\", \"floyd\", \"marvel\", \"voltage\", \"alert\", \"strings\", \"riff\", \"lullaby\", \"bubble\", \"harmonica\", \"benjamin\", \"folk\", \"adjustment\", \"component\", \"importantly\", \"avant\", \"stomach\", \"que\", \"drill\", \"caribbean\", \"tame\", \"sounded\", \"cd\", \"extraordinary\", \"listener\", \"songwriting\", \"solve\", \"songs\", \"song\", \"guitar\", \"singing\", \"heard\", \"tracks\", \"album\", \"radio\", \"music\", \"listen\", \"razor\", \"singer\", \"recording\", \"concert\", \"rock\", \"record\", \"jazz\", \"track\", \"soul\", \"albums\", \"bands\", \"lyrics\", \"voice\", \"recordings\", \"blues\", \"listening\", \"band\", \"sound\", \"one\", \"best\", \"like\", \"fan\", \"sounds\", \"love\", \"good\", \"great\", \"much\", \"better\", \"first\", \"ever\", \"live\", \"time\", \"get\", \"buy\", \"would\", \"well\", \"new\", \"think\", \"years\", \"earrings\", \"orchestra\", \"spectacular\", \"germans\", \"believer\", \"roman\", \"martha\", \"cartoons\", \"los\", \"foods\", \"academic\", \"backpack\", \"les\", \"absorb\", \"jail\", \"tongue\", \"bradley\", \"factual\", \"weaknesses\", \"prospective\", \"baker\", \"paradise\", \"soundtracks\", \"trials\", \"roads\", \"angeles\", \"views\", \"endless\", \"leaders\", \"management\", \"recipe\", \"informative\", \"bird\", \"brains\", \"disappoints\", \"edition\", \"comedy\", \"conflict\", \"spends\", \"war\", \"book\", \"texas\", \"laughing\", \"read\", \"movie\", \"characters\", \"laugh\", \"information\", \"history\", \"humor\", \"america\", \"enjoyed\", \"reading\", \"books\", \"interesting\", \"funny\", \"plot\", \"life\", \"reader\", \"story\", \"film\", \"wonderful\", \"scenes\", \"many\", \"author\", \"good\", \"one\", \"highly\", \"like\", \"great\", \"best\", \"recommend\", \"enjoy\", \"way\", \"find\", \"well\", \"also\", \"make\", \"time\", \"would\", \"must\", \"ever\", \"poker\", \"godzilla\", \"fitness\", \"ease\", \"sung\", \"labels\", \"california\", \"files\", \"davis\", \"atlas\", \"clients\", \"directed\", \"aunt\", \"youth\", \"laptops\", \"cardio\", \"retriever\", \"celebrate\", \"newest\", \"loaded\", \"para\", \"wallet\", \"typically\", \"guidance\", \"teenager\", \"freezer\", \"designing\", \"suction\", \"grandfather\", \"temperature\", \"struggling\", \"parenting\", \"chances\", \"pilates\", \"castle\", \"talks\", \"bible\", \"latin\", \"college\", \"bottles\", \"teach\", \"text\", \"suggestions\", \"law\", \"book\", \"parents\", \"practical\", \"concise\", \"resource\", \"help\", \"detail\", \"class\", \"read\", \"god\", \"young\", \"life\", \"women\", \"series\", \"children\", \"tips\", \"teacher\", \"friends\", \"books\", \"anyone\", \"written\", \"reading\", \"would\", \"story\", \"recommend\", \"great\", \"well\", \"love\", \"easy\", \"years\", \"get\", \"author\", \"also\", \"time\", \"many\", \"little\", \"first\", \"much\", \"one\", \"really\", \"even\", \"best\", \"new\", \"think\", \"good\", \"like\", \"cameras\", \"dallas\", \"dressed\", \"lil\", \"cbs\", \"reports\", \"definitly\", \"towel\", \"shrek\", \"initial\", \"overwhelming\", \"bracelet\", \"admire\", \"shoulder\", \"grandchildren\", \"patients\", \"tile\", \"funk\", \"wizard\", \"sticky\", \"eve\", \"manilow\", \"orders\", \"outfits\", \"compilations\", \"shoe\", \"mop\", \"roast\", \"mega\", \"vice\", \"response\", \"region\", \"shower\", \"dryer\", \"shipped\", \"cream\", \"contacted\", \"disk\", \"dvd\", \"workout\", \"dvds\", \"christmas\", \"yoga\", \"service\", \"condition\", \"really\", \"annoying\", \"wayne\", \"gift\", \"received\", \"dance\", \"get\", \"wear\", \"bag\", \"seen\", \"video\", \"would\", \"great\", \"show\", \"product\", \"got\", \"even\", \"love\", \"good\", \"time\", \"movie\", \"buy\", \"like\", \"well\", \"one\", \"little\", \"son\", \"also\", \"watch\", \"look\", \"use\", \"quality\", \"old\", \"find\", \"still\", \"years\", \"best\", \"bought\", \"nice\", \"ah\", \"sec\", \"computers\", \"gb\", \"helmet\", \"drinking\", \"deluxe\", \"figures\", \"ted\", \"jewel\", \"zoom\", \"crocker\", \"cooling\", \"truck\", \"alaska\", \"authority\", \"import\", \"bells\", \"tastes\", \"cage\", \"repair\", \"braun\", \"laptop\", \"whistles\", \"refer\", \"lane\", \"gauge\", \"target\", \"zip\", \"external\", \"usb\", \"diamond\", \"cake\", \"blu\", \"flimsy\", \"supply\", \"bend\", \"drives\", \"remote\", \"sony\", \"mini\", \"lens\", \"button\", \"topics\", \"stays\", \"sturdy\", \"use\", \"coffee\", \"water\", \"price\", \"computer\", \"fits\", \"size\", \"works\", \"clean\", \"small\", \"product\", \"toy\", \"great\", \"unit\", \"easy\", \"using\", \"fit\", \"good\", \"kitchen\", \"bought\", \"well\", \"nice\", \"purchased\", \"one\", \"need\", \"quality\", \"used\", \"love\", \"set\", \"buy\", \"would\", \"like\", \"work\", \"made\", \"excellent\", \"make\", \"little\", \"get\", \"scope\", \"gate\", \"cups\", \"mat\", \"washed\", \"bedtime\", \"arrive\", \"sponge\", \"splendid\", \"dropped\", \"repeat\", \"upside\", \"sheet\", \"absence\", \"popcorn\", \"matters\", \"shes\", \"chest\", \"drumming\", \"speeds\", \"esp\", \"dishes\", \"trek\", \"charts\", \"corelle\", \"damaged\", \"recommendations\", \"bookshelf\", \"tropical\", \"wii\", \"episodes\", \"ice\", \"astounding\", \"potter\", \"crowded\", \"filter\", \"singers\", \"season\", \"atmosphere\", \"episode\", \"sinus\", \"fox\", \"cat\", \"leg\", \"harry\", \"hair\", \"avid\", \"stopped\", \"see\", \"oil\", \"one\", \"watching\", \"first\", \"series\", \"best\", \"time\", \"show\", \"came\", \"like\", \"great\", \"two\", \"wait\", \"must\", \"years\", \"fans\", \"really\", \"get\", \"album\", \"love\", \"bought\", \"got\", \"even\", \"since\", \"back\", \"well\", \"would\", \"better\", \"could\", \"also\", \"still\", \"product\", \"good\", \"mario\", \"duke\", \"zelda\", \"powder\", \"asking\", \"separate\", \"rounded\", \"italy\", \"pirate\", \"guns\", \"pedometer\", \"twins\", \"flip\", \"russian\", \"waking\", \"mb\", \"questionable\", \"eco\", \"graphics\", \"imaginative\", \"bo\", \"heavenly\", \"oscar\", \"wash\", \"notorious\", \"misses\", \"isnt\", \"rally\", \"dc\", \"nintendo\", \"meals\", \"game\", \"wire\", \"games\", \"attack\", \"ps\", \"gameplay\", \"puzzles\", \"chorus\", \"paris\", \"scary\", \"fun\", \"toaster\", \"dig\", \"thomas\", \"moon\", \"phone\", \"good\", \"play\", \"watch\", \"great\", \"little\", \"larger\", \"much\", \"well\", \"love\", \"pretty\", \"playing\", \"like\", \"easy\", \"time\", \"get\", \"one\", \"would\", \"way\", \"collection\", \"movie\", \"kids\", \"must\", \"better\", \"best\", \"still\", \"first\", \"book\", \"really\", \"go\", \"recommend\", \"characters\", \"see\", \"read\", \"shirt\", \"shakespeare\", \"cases\", \"tripod\", \"fishing\", \"lamp\", \"blades\", \"russia\", \"zoo\", \"robin\", \"nancy\", \"government\", \"amazingly\", \"franklin\", \"jobs\", \"detective\", \"floating\", \"rocker\", \"selections\", \"root\", \"hunt\", \"vs\", \"difficulties\", \"moore\", \"francisco\", \"studying\", \"howard\", \"racing\", \"greedy\", \"nyc\", \"aids\", \"jean\", \"mouth\", \"humans\", \"electricity\", \"anne\", \"survival\", \"gum\", \"growth\", \"cultures\", \"hero\", \"doctor\", \"companion\", \"disappointing\", \"count\", \"unusual\", \"world\", \"story\", \"novel\", \"michael\", \"american\", \"new\", \"read\", \"great\", \"like\", \"stories\", \"book\", \"one\", \"people\", \"life\", \"well\", \"good\", \"really\", \"real\", \"excellent\", \"much\", \"want\", \"would\", \"different\", \"make\", \"back\", \"love\", \"feel\", \"know\", \"still\", \"time\", \"many\", \"two\", \"get\", \"first\"], \"Freq\": [5434.0, 1437.0, 686.0, 2234.0, 1409.0, 914.0, 1358.0, 1182.0, 1010.0, 560.0, 937.0, 569.0, 3380.0, 723.0, 4963.0, 1152.0, 1010.0, 815.0, 577.0, 1010.0, 200.0, 646.0, 173.0, 1513.0, 682.0, 376.0, 556.0, 967.0, 193.0, 292.0, 51.57360574888243, 45.93961256257085, 36.713564458253984, 32.2822641060541, 28.459251373894965, 34.22834660622181, 30.988491407702046, 28.241266799856206, 27.59750872339671, 27.31999976203936, 28.344026662169274, 26.528750863213286, 38.44101669108201, 35.538372963528104, 27.955512260828456, 26.30068753627048, 30.208753661861373, 26.743690659358908, 28.65193516100451, 23.552897019066073, 22.274904842335687, 22.39233752828005, 27.22393989544361, 33.32494003884943, 19.80838983074401, 24.655446161997737, 20.82744415028062, 18.04194180450945, 18.759685571699556, 17.721364357804404, 1328.293421564517, 44.49856983927409, 59.3692428040815, 41.988585567182426, 32.10537382864986, 780.6518694324886, 483.6042733198143, 180.16839549715857, 106.4682125319815, 303.74469734278625, 163.10245437036218, 1013.1431977542493, 173.99754172905992, 734.7618082644419, 261.30902111705007, 74.26216621160344, 74.83280323261458, 108.29919092405731, 158.55174157718324, 250.0032431319178, 143.09274553232908, 101.60161470117228, 209.47282229314968, 106.57787648846907, 121.96039127509336, 96.59594789251628, 105.03986473272182, 184.2701065280483, 63.92619729916938, 80.44205968591498, 131.34712423931376, 229.26936328073367, 299.4615093855271, 1046.2181320265677, 665.1884886818423, 777.60027836176, 236.93739426961784, 128.45247374951953, 530.2265358475821, 682.507081433351, 769.769013137698, 335.2379353677571, 285.0592238255607, 313.5749696524053, 264.6892478126616, 172.39798872214894, 312.722506059947, 294.5766540200022, 230.11391527481516, 267.893905304519, 258.50142789644906, 218.92955731730447, 209.32468392204166, 202.98197183122872, 54.091914210817386, 46.8481271676518, 41.21883296648595, 40.563944279435844, 36.04216057335217, 30.945288349671248, 39.21030590014622, 29.39452919349637, 33.85740658556948, 24.214872184904344, 30.96098968594408, 22.701184768687792, 22.447012812024443, 21.70109103264596, 23.43772411771956, 18.55011227324914, 17.995512235640554, 21.355612123137846, 19.30815663537276, 20.045697045162168, 16.1384625267883, 15.689812469861105, 15.6066455180147, 15.653769640882425, 15.372969777512784, 17.340078922026787, 17.380778927018596, 14.686984770359075, 37.2317147279932, 18.276737588513054, 79.86283245237396, 123.15843481252026, 61.8249553873595, 22.764291824517517, 20.01440732073908, 82.8866734010815, 77.53286431258591, 30.518731254967133, 22.542440050491457, 127.3663558000102, 2740.418275208178, 62.10075304141006, 47.21903332985087, 1139.9474629837441, 718.685252487299, 344.76817184253787, 105.69979904265095, 172.56026023673698, 192.9670957523471, 95.45588706205002, 90.18611137675212, 222.5757560194358, 329.699790659691, 383.2698288437562, 224.10684982440574, 135.210216104381, 127.64198635272872, 376.7967193328628, 157.08234463376957, 383.92135074841275, 207.21890842599504, 249.4396593180642, 92.97837463501547, 286.81309763690473, 153.29561802601316, 538.0001417729712, 491.20676814178205, 185.53779528593432, 369.513923412075, 421.3482614935037, 282.022537627185, 208.51188902175687, 154.0582313717802, 201.45399911600836, 185.17990136635, 236.28957667119775, 201.68003151780434, 178.4305052752864, 198.77988268843023, 187.95557827017458, 163.7212434217921, 164.6448558065034, 48.18345746961505, 41.68754914392631, 39.109147521125074, 32.16155355320414, 31.30623951183344, 39.88424705636545, 29.442103720219723, 56.83314459078684, 25.761163248339972, 25.273793417447752, 25.232063893854843, 22.819309634869764, 22.285386690929133, 26.657486444507967, 20.486006291091655, 21.817527328497594, 19.478773674411794, 25.437380526508424, 30.68022462106023, 19.068908322240762, 19.78914024779364, 18.390018361868748, 29.751542458592805, 17.748195698244366, 33.81349463090366, 17.26485128818209, 22.25165470170524, 17.176339574263764, 16.72443926213048, 22.294803351825532, 26.326269516705576, 59.703773900696106, 23.04051184020445, 25.694445571964458, 32.37939883995122, 36.673442312311415, 118.18251744230578, 48.18758662355157, 68.60764747361661, 41.72075814540458, 75.0700471244081, 57.67234542293703, 35.703338944095606, 57.72013757031391, 1938.6290250360921, 89.42109019707122, 67.70204016441062, 42.81520869364583, 61.512671813061374, 189.95280292082583, 77.99226636598479, 94.8687898882474, 571.8157026467413, 106.91847365100557, 131.6587734643149, 303.37920353050635, 84.30474862598136, 229.23412146558024, 126.75163275442462, 73.18815568271985, 59.73951571885979, 124.94765640167105, 230.86482895265993, 163.77549990810493, 148.70706748515647, 181.90412813026873, 316.33035104115805, 243.61648617347709, 218.63522587950672, 502.680952680941, 294.96573398184523, 290.5107428316915, 196.08602284676897, 181.1541608215701, 237.7961368228494, 121.83897113808469, 194.0563347800201, 213.10871784208925, 178.01921955612082, 180.77992635076822, 185.24892147030883, 182.43860719891958, 248.87423325767276, 187.3927735837882, 165.64640716639752, 192.97435237489353, 161.7695782486613, 152.98598897575894, 176.5887400165224, 170.6105549812983, 65.08090897630568, 28.932442012768206, 27.66225088393463, 27.56947984940229, 25.620967401283814, 28.42016280783809, 23.873745801441775, 43.20909266996993, 24.053640580991132, 22.168918642609167, 25.003560348415714, 24.511894648240773, 21.5826217148539, 20.51374196056488, 20.96693758561576, 20.04292196855317, 38.20892967795888, 45.345086919490015, 19.19087144750416, 28.705778131317267, 23.930598432555186, 18.2979300345852, 17.613810044557617, 18.183919444120153, 17.59350828249945, 44.879058528191564, 17.660517567654853, 18.445561369331973, 17.84719243014117, 14.208308447510554, 30.347753857179658, 36.03613952705791, 57.52117166593931, 35.00236225703022, 65.57332901683387, 56.14117526582089, 20.544137514968934, 56.17681913040377, 422.63848786422096, 96.40818661109975, 77.05206459345503, 156.11585740925779, 90.71881824613547, 132.11045868990556, 73.07997000315198, 507.4603350696701, 45.841099056938454, 38.523027764232076, 130.6791414879309, 97.30677531353405, 74.63318757989865, 424.7823744638315, 70.37286313271521, 66.91517221609226, 136.85258083386734, 145.04663627624558, 390.01120469615523, 725.6938113640119, 155.58492495817757, 252.63055482560983, 196.14407128284583, 227.76989835581549, 340.77854009532854, 410.26213345133397, 286.3994679737335, 251.23140228577245, 186.2342148255436, 317.0726914697225, 252.95246828846808, 328.43359087265856, 196.30694722034377, 120.10919103743049, 187.50370292969424, 137.5153021893843, 136.9384730027974, 183.39303037177518, 142.801432017216, 160.30582294090772, 154.84050905556015, 161.80319367367863, 152.27051765613612, 162.73949939377547, 148.5917588319073, 141.67015753942235, 78.42749825385911, 65.9460064353649, 51.022879571899985, 42.88155313371555, 35.57548526949828, 29.49245107725987, 40.40643074225077, 32.39818561305212, 26.93425627096755, 26.362954378148924, 26.362142470846003, 32.36360295764938, 26.411566689619445, 23.55461808069582, 21.969093329638703, 20.541333912110282, 24.021538821736648, 24.30973527626235, 29.050643292921986, 18.268043250698643, 18.14349718106401, 32.263138364999506, 58.4689069786693, 18.733452516508873, 17.395551833339955, 23.70115202986744, 46.077746230544165, 19.175654765243927, 20.764116935646992, 41.416915763094686, 118.96881794777009, 50.78827921203758, 65.3148378682101, 69.99726558055082, 35.776205095053236, 36.695322459474674, 40.25187474041947, 45.39573898975486, 65.94593494667156, 58.06466905584869, 60.60976355908664, 104.79129262415476, 53.07448762501882, 45.75048120510869, 48.360380208858444, 64.81678635438776, 615.7432271142901, 94.53269576801962, 188.66438081708938, 484.5059179098293, 86.27297384099533, 107.23856506322876, 197.0837267836692, 333.70625883201586, 126.80826805932489, 231.22037444133912, 375.7698179112056, 101.80810008912971, 1078.3236853290937, 98.62866087821861, 314.85691676068546, 183.29645823699147, 146.1817958682283, 673.0950517708442, 81.63910737677276, 245.57409896869413, 365.4763447853915, 201.73433181480357, 149.727512505797, 453.4409351515267, 172.77279151862578, 173.47378922016708, 164.93878476043523, 274.6917501457833, 155.7543872230824, 182.90083980805343, 233.6276029994728, 261.1271178155042, 165.1504321434006, 149.65801528320102, 154.16987097323488, 152.667668847432, 157.28307080343214, 165.2466048612825, 35.9276309561093, 30.74363107999711, 30.37093715369371, 27.229348983629293, 30.916562222089116, 26.734235546271346, 25.94776339634471, 29.32830857688244, 33.88371594141254, 24.618251500553775, 22.820174644189173, 22.550228295700492, 21.44073816744576, 30.171719980737766, 51.12294585928345, 18.781150347350874, 18.69506578332081, 22.22071132760809, 19.604176149235617, 19.66568978951276, 19.894933998776146, 17.239880277278782, 29.82777769565522, 14.925607979033853, 14.578927277966665, 14.94879185307618, 13.964307709485707, 13.946226566868315, 13.815099146219893, 27.182541523520204, 187.06629518916324, 118.25764364973084, 20.72126109407995, 43.47663461751609, 19.95495814334748, 49.31829864628146, 31.440777228561714, 155.38618109419087, 24.631300127540708, 111.42011706543376, 36.911782437984954, 26.861892464946795, 106.14205334845016, 22.998449093133097, 53.901032616728095, 96.63063564139944, 34.50695133319953, 47.15195491190137, 241.3862099120181, 34.33189530001562, 612.5923533145608, 100.21446820881565, 297.4341238261913, 183.4979147008466, 337.195748959263, 310.59909262918194, 138.2092797802445, 112.77179643286499, 378.473574821621, 516.583115943506, 189.05209915191853, 86.20140311207582, 168.18127611344318, 165.71141137002795, 87.34580545420792, 192.6292830893527, 205.13001508089553, 184.0221803547775, 215.476333116648, 145.38422894044504, 126.86831933227423, 144.59202902341474, 115.5278469416295, 124.35312050935532, 168.70250291987537, 146.35784805314898, 128.5179899271558, 121.48782803732615, 125.17942918740155, 123.38940067259418, 123.44444985546495, 128.3727053908306, 36.624333947700954, 34.27674501970572, 34.131143184126955, 30.25846340588606, 25.951128375634383, 31.070042529593678, 23.67481940543462, 33.20385076552524, 21.473911385802428, 21.469569449425492, 20.393877891391078, 20.063318640624335, 19.48431619707646, 23.776258165288507, 18.663694167257134, 40.161238627932654, 20.259021411307618, 17.647371339465284, 68.77933385775633, 16.62232715741517, 18.253362438884515, 16.579337844590917, 16.439518024241956, 41.86435084234344, 19.70844178435169, 15.996879211796156, 15.902463302238447, 42.41568799023019, 27.70223861548234, 20.379603356350867, 21.84547934779304, 624.3213541780195, 59.91924674277362, 155.14055492138758, 25.72904454399301, 43.19934339316746, 27.765748065604587, 60.63281567792363, 42.55184054128123, 26.63656448267377, 54.54682544751906, 337.80307623111827, 29.828440078733543, 29.266268803367407, 40.04288387333446, 49.911799487941835, 79.1127873469269, 588.1293397927926, 138.43934892433964, 165.2844387976195, 598.8856319965374, 234.44739388009384, 52.027160905581376, 219.66827099152295, 250.15227047287576, 246.16879931308034, 114.26095367116456, 80.36080308045918, 251.12295463729623, 149.44829014020024, 187.82753574137857, 187.05814698263848, 254.89615061204375, 184.32513771771448, 129.9719614489803, 83.696546499342, 140.94565426902852, 84.27264905807658, 106.94078430047978, 110.49201875165289, 134.25674444985393, 110.10265299320943, 116.16373577759165, 158.04186008644294, 115.4910650818631, 100.64270004570908, 97.73146820012272, 90.38686088857584, 91.11386792940495, 91.69040448450613, 61.23230258639683, 38.30252912871177, 37.863585153254945, 36.47641329680919, 38.44599231381969, 30.48220736638532, 53.777181035193514, 33.900578758871376, 28.305715398164626, 33.64342966158833, 34.05982009666917, 23.47332705175444, 21.081670793323074, 41.77941132020441, 20.685151002911915, 19.947548368662627, 18.699205604741177, 26.33133191751965, 18.143794185531373, 17.548849509002213, 25.372671948079134, 65.5775104294007, 20.68024969678536, 16.16882426979551, 15.993143022278675, 15.770362249404455, 15.94609371154681, 15.37428901048452, 18.626907304270645, 22.88358496910495, 20.827529193432724, 19.900664048843183, 46.54448158096786, 25.655968518221734, 18.459800204061185, 32.011630083408605, 31.906814226155525, 32.18958712948914, 33.44704743470127, 26.711230666884, 34.973349671424444, 32.120943736404605, 37.801265216226845, 48.52284098392626, 50.55917317204639, 36.09563579149825, 169.76356867570314, 246.55800063299486, 85.4440948879318, 47.82436988999217, 74.85207285407152, 172.43266253350671, 247.9374681311824, 350.14804714197584, 256.83538499687074, 86.67637614520508, 320.47157648315124, 220.13711631100045, 105.2681332116124, 122.74728482039417, 157.10279732619122, 183.74719411988886, 124.8559404162976, 81.29701961019022, 101.74201199303936, 113.73481404686105, 90.608023505952, 114.80901966300038, 75.1189277211156, 89.39217677825931, 86.53947672900429, 111.727498738773, 73.21846913613207, 81.32103654822419, 84.2329037733765, 90.9091964827794, 83.00266696871364, 80.69616574826516, 84.51544712413633, 80.4785570818194], \"Total\": [5434.0, 1437.0, 686.0, 2234.0, 1409.0, 914.0, 1358.0, 1182.0, 1010.0, 560.0, 937.0, 569.0, 3380.0, 723.0, 4963.0, 1152.0, 1010.0, 815.0, 577.0, 1010.0, 200.0, 646.0, 173.0, 1513.0, 682.0, 376.0, 556.0, 967.0, 193.0, 292.0, 52.44746428460876, 46.88757482625721, 37.594082468185256, 33.15750781062479, 29.33699621369537, 35.29035685618127, 31.951515906605707, 29.1247253672338, 28.475804846052796, 28.19037566916668, 29.274746485078, 27.400632290100848, 39.72617225006925, 36.736085585740916, 28.907683570509498, 27.266136034962905, 31.325124615839663, 27.743669718870375, 29.730371024654872, 24.46659010855319, 23.14970684078616, 23.28556339759238, 28.327790542952258, 34.79192533104104, 20.682692015965163, 25.800553153479342, 21.80602335694842, 18.915400152449187, 19.678317400967412, 18.591766288531964, 1437.2056513045384, 46.947275222843786, 62.894457377926535, 44.49489227826391, 33.95780938678399, 914.01654060484, 560.8522748148396, 207.66024282649988, 119.65824543594145, 376.54017939806675, 193.28909198655845, 1409.7432184236459, 208.12248449461185, 1010.7009387567446, 329.6474617716197, 83.83940023820183, 84.68013223051818, 127.56740961971227, 197.30682404427873, 329.10867389996025, 178.1041338961918, 121.5220443080674, 278.6026322996531, 132.21583436271058, 155.2456433897654, 118.86948320738524, 132.3599493757155, 260.16447496609595, 73.56745172387627, 97.4221467321558, 177.96743228509092, 369.85535058077204, 537.0748429869874, 3655.799279687813, 1956.0040753774124, 2782.356480496148, 534.7879621203336, 201.16270939009044, 2143.992241208469, 3380.7023877485344, 4963.432519087268, 1297.3543929354032, 981.2795538393682, 1317.7675876295084, 939.5131941991551, 364.7170892413004, 1702.6589033015289, 1738.6030443036777, 897.3847959674692, 1841.3106477453437, 1984.1431223422942, 1047.3704428273018, 838.6174984081927, 878.630252652324, 54.949431994134514, 47.70284779245301, 42.0718350108887, 41.462843039152816, 36.89710266448257, 31.79914602147329, 40.31109508640368, 30.247789960036894, 34.945074009496324, 25.06819400162271, 32.05573495389663, 23.554637932857688, 23.302204189793876, 22.59022251910488, 24.423472578333406, 19.403514313088788, 18.86320899985259, 22.40419916868654, 20.31591202818684, 21.10171263835546, 16.991954660733416, 16.54357280856974, 16.460428361532667, 16.522705590838385, 16.227062539754254, 18.311191055697943, 18.40541050094824, 15.556660556098379, 39.448659489044154, 19.371444775145104, 84.64652521351839, 134.12663434016983, 68.06785909011619, 24.376022245006446, 21.345866953590434, 98.13772744928798, 93.18300753179608, 33.96683401194337, 24.405413346979273, 168.94871039330346, 5434.143465117271, 76.63438751315564, 56.53101889767934, 2234.600313940638, 1358.4185947018127, 577.4334710498737, 149.71660393429823, 272.1390228870539, 312.6012189700921, 135.12193020614438, 128.55438398381094, 393.82974031975095, 646.1397101858196, 815.3546567474452, 431.25726823162665, 237.78436508586913, 222.41752498376522, 1010.2350681235553, 297.20034598915186, 1152.6808195217527, 512.1891477363426, 706.6439309890255, 153.21814627341362, 1048.160157756327, 365.42713356441146, 3380.7023877485344, 3655.799279687813, 611.0983781175017, 2782.356480496148, 4963.432519087268, 1956.0040753774124, 982.3584635063485, 467.7095778916978, 955.9750787769088, 811.8985058685378, 1984.1431223422942, 1151.8612466670402, 833.2949330203041, 1702.6589033015289, 1841.3106477453437, 793.4451321173676, 939.5131941991551, 49.06806252362997, 42.5536217674955, 40.149904232851235, 33.04169963969019, 32.16714883367162, 41.020087944122, 30.301480698894615, 58.640614977129374, 26.623254454323394, 26.134365374050873, 26.111000389382813, 23.679230631246195, 23.144867257020568, 27.731206174881386, 21.354688084448608, 22.777408085370872, 20.342111653742695, 26.579370197570825, 32.06424139860506, 19.929469936158675, 20.7129567303377, 19.253465514733556, 31.154101881375226, 18.606385529074057, 35.49333685746945, 18.126111130661602, 23.365904245446877, 18.037365594551964, 17.58354559183479, 23.475632576379752, 27.898575353297066, 65.03049612843886, 24.368579409182964, 27.383780886466592, 34.96329849683943, 40.09119272118765, 147.63132939765472, 55.57340744999017, 83.23010042975181, 48.63991095095326, 96.5614685785909, 71.25384198866674, 40.84632846231224, 72.67621788343574, 5434.143465117271, 127.6852297187848, 90.59553038581117, 52.078144073669264, 83.76452277720583, 388.6848943001918, 117.4992803041482, 158.94270691987455, 2234.600313940638, 201.5923151068365, 282.86364117375365, 1010.2350681235553, 148.28529958840397, 688.3314165432455, 280.79821971522364, 119.96338946899533, 88.00655985681709, 290.15586622732224, 815.3546567474452, 468.02134635939876, 424.37034601844806, 646.1397101858196, 1841.3106477453437, 1152.6808195217527, 982.3584635063485, 4963.432519087268, 1984.1431223422942, 2143.992241208469, 967.241508190247, 878.630252652324, 1738.6030443036777, 365.42713356441146, 1151.8612466670402, 1702.6589033015289, 1048.160157756327, 1151.151376952401, 1317.7675876295084, 1297.3543929354032, 3655.799279687813, 1513.271180981543, 975.8061079258339, 1956.0040753774124, 1047.3704428273018, 838.6174984081927, 3380.7023877485344, 2782.356480496148, 65.95344150554162, 29.81199900918565, 28.533990284540376, 28.44144280728988, 26.538485872686557, 29.451699417238775, 24.74568694470828, 44.81775619253553, 24.983213148209526, 23.04306811662459, 25.997801606686064, 25.500985734750213, 22.4564282683606, 21.384628853660477, 21.874776358001917, 20.91482054016647, 39.89568539445804, 47.355548851553536, 20.07193472573564, 30.031046922348747, 25.04514610291307, 19.17070763490959, 18.48803255099352, 19.138950406721772, 18.522729674036597, 47.266927365518384, 18.608824718124946, 19.460560152537106, 18.938988344726777, 15.096965746537354, 32.31944323611516, 38.49386526199997, 64.53733288470366, 38.269419391384886, 75.40874417771757, 63.84362271848568, 21.879204329798647, 69.23658581017315, 723.5659075625734, 133.67294925111585, 103.3140606446707, 241.91363281242832, 132.94370969255385, 215.54320414206012, 109.8189288826383, 1513.271180981543, 60.41313535553037, 47.94481346782382, 261.86282902769733, 175.2071600432979, 120.74048273412748, 1738.6030443036777, 118.82319085520305, 110.18307862416148, 335.13532037076396, 375.410699994058, 1841.3106477453437, 4963.432519087268, 444.25605291791686, 1010.7623238183828, 663.0136098013932, 975.8061079258339, 2143.992241208469, 3380.7023877485344, 1702.6589033015289, 1358.4185947018127, 897.3847959674692, 2782.356480496148, 1984.1431223422942, 3655.799279687813, 1151.151376952401, 366.86865014265254, 1151.8612466670402, 519.2040942129083, 517.2603074762565, 1182.0864037477254, 585.3817289878045, 845.8929976390411, 811.8985058685378, 973.5442034691989, 878.630252652324, 1956.0040753774124, 920.7357427583681, 696.2516772053789, 79.33327492545189, 67.03941643005793, 51.89140603458532, 43.95104155117977, 36.4845149200062, 30.33097405416736, 41.576894491542696, 33.338699972689156, 27.77455447733603, 27.19950773371383, 27.284774861264577, 33.49839600989039, 27.341517065026565, 24.388157633910335, 22.808015500021348, 21.377822953394933, 25.046868030157636, 25.368948317414354, 30.333542483860604, 19.101167569027755, 18.98966765107793, 33.795315446123944, 61.25403254525449, 19.628139022327996, 18.230471066685578, 24.86031387237478, 48.37714946858531, 20.159166153920957, 21.866859104552546, 43.62976497254415, 125.78141756864831, 53.685465988472004, 69.28944717125995, 74.74791845101626, 37.772851390701206, 38.87853833585765, 42.820141431821746, 49.17574137331181, 73.69798262551728, 64.55821625443927, 68.39078995903748, 125.16728530212562, 59.503361204754114, 51.36862906294745, 54.99990023191286, 78.60261344276512, 1182.0864037477254, 125.46360151333919, 292.66077185553894, 937.8458126026469, 113.39897460633122, 154.10639514522973, 337.89651576182, 682.9014565979368, 206.38645007558955, 481.22154922005694, 1010.7623238183828, 158.12265447613805, 4963.432519087268, 155.1712649425795, 967.241508190247, 423.784645354838, 296.4429735369268, 3380.7023877485344, 118.76646208414327, 920.7357427583681, 1984.1431223422942, 696.2516772053789, 395.55054436129615, 3655.799279687813, 540.1546597065217, 585.3817289878045, 604.9452753683872, 2143.992241208469, 533.9635845142413, 897.3847959674692, 1841.3106477453437, 2782.356480496148, 765.21111795456, 704.3817489499284, 861.3818964046625, 833.2949330203041, 1151.151376952401, 1738.6030443036777, 36.89475558870191, 31.609392635274293, 31.24017190445176, 28.095312477320206, 31.90427379475178, 27.613111163131276, 26.817160259347578, 30.313895650176924, 35.07774592746464, 25.516277919979082, 23.693182621981705, 23.456934554925983, 22.307759962217006, 31.527304120775042, 53.48509631297409, 19.65203428428766, 19.56271077189636, 23.263450369027055, 20.58040408665938, 20.667813242687224, 20.947434895794384, 18.17827168640921, 31.486219617118532, 15.802657900174609, 15.446137042048939, 15.872392294234517, 14.830567776466872, 14.818175426303084, 14.694757781763702, 28.91612147179016, 200.06776167715225, 129.47396701605896, 22.153724963493236, 47.5806086222445, 21.34526438605589, 54.928913704094576, 34.58672117730714, 193.87888246254778, 26.709279176031792, 138.66836577856424, 42.76866035457803, 29.718550146735094, 156.35750776502854, 24.970598175522678, 70.68147119992443, 147.59450581414066, 42.177387887081125, 69.16634202035094, 772.582265377488, 43.92213219384867, 3655.799279687813, 234.36718319659553, 1317.7675876295084, 688.3314165432455, 1956.0040753774124, 1702.6589033015289, 444.25605291791686, 315.8585912568663, 2782.356480496148, 4963.432519087268, 832.9876142210801, 220.0451053302547, 793.4451321173676, 878.630252652324, 272.00936329469596, 1513.271180981543, 1738.6030443036777, 1409.7432184236459, 2143.992241208469, 920.7357427583681, 663.0136098013932, 975.8061079258339, 568.9901854309633, 766.9148476746793, 1984.1431223422942, 1841.3106477453437, 981.2795538393682, 739.7093494957178, 1151.8612466670402, 973.5442034691989, 1010.7623238183828, 3380.7023877485344, 37.49326662318398, 35.17419722848587, 35.05308200644486, 31.1348019480947, 26.822765022556755, 32.156138513066445, 24.561606820998364, 34.5093213883035, 22.34261770003202, 22.33888051959453, 21.26457832618319, 20.933077856745278, 20.353106630255766, 24.852350103833402, 19.558968387122192, 42.127907047006616, 21.2742236748201, 18.543354573953756, 72.27473601509666, 17.491464256962807, 19.21297938164368, 17.451200709839277, 17.308252627575637, 44.08048392040699, 20.772877904556488, 16.871076412676526, 16.77269897527799, 44.75679875588239, 29.25240732824735, 21.556932369906296, 23.10797959050003, 686.2991398099477, 64.60298963448037, 173.45788443924658, 27.587926327252553, 47.65521602502144, 30.13930351215354, 69.96120438577799, 48.284132868372154, 29.21589452062122, 66.83500340738198, 569.3319441269036, 33.637436030657824, 33.50268921528133, 52.07955145740211, 71.02578261865351, 137.81857148149643, 3380.7023877485344, 382.36609910802895, 519.2040942129083, 4963.432519087268, 1151.151376952401, 91.44311510891241, 1297.3543929354032, 1984.1431223422942, 2143.992241208469, 470.2949459000524, 241.31404387575415, 2782.356480496148, 967.241508190247, 1702.6589033015289, 1738.6030443036777, 3655.799279687813, 1841.3106477453437, 955.9750787769088, 314.8499138573319, 1358.4185947018127, 329.07204631952845, 793.4451321173676, 981.2795538393682, 1956.0040753774124, 973.5442034691989, 1317.7675876295084, 5434.143465117271, 1513.271180981543, 774.357531184183, 982.3584635063485, 577.4334710498737, 772.582265377488, 2234.600313940638, 62.596111536325964, 39.17325742144957, 38.73481331812733, 37.34789628149594, 39.380944747776276, 31.379827814980246, 55.38894151146395, 34.96172992986908, 29.29099091018836, 34.85609494794655, 35.29774073886937, 24.34409704911661, 21.952049031203376, 43.53127493910147, 21.63393532728985, 20.86923617964671, 19.575299590385576, 27.585698129083394, 19.01437758391246, 18.429000512909866, 26.691621179310665, 69.01568559112114, 21.790080583440695, 17.049797687583144, 16.86581484178483, 16.649025656677924, 16.839466163637336, 16.24586127414346, 19.74755112462299, 24.268400427553576, 22.208225415446943, 21.197248046746946, 51.6956256135007, 27.807449424063226, 19.667235469092923, 36.18313883152439, 37.24515506901861, 37.91143261532855, 39.84953184812421, 30.481752933962365, 44.20077544611651, 40.128234683401004, 50.522996876254595, 74.72668249300473, 80.48833663637576, 49.201057890742085, 556.3729895851004, 1152.6808195217527, 224.63338636827416, 85.48042588164847, 197.63778228356767, 1047.3704428273018, 2234.600313940638, 4963.432519087268, 2782.356480496148, 312.84381913110235, 5434.143465117271, 3655.799279687813, 662.5126960698237, 1010.2350681235553, 1984.1431223422942, 3380.7023877485344, 1513.271180981543, 441.8232588585154, 861.3818964046625, 1297.3543929354032, 707.5259788380251, 1841.3106477453437, 417.5887431967822, 833.2949330203041, 766.9148476746793, 2143.992241208469, 451.47411847367005, 812.802719815444, 973.5442034691989, 1702.6589033015289, 1048.160157756327, 832.9876142210801, 1738.6030443036777, 1317.7675876295084], \"Category\": [\"Default\", \"Default\", \"Default\", \"Default\", \"Default\", \"Default\", \"Default\", \"Default\", \"Default\", \"Default\", \"Default\", \"Default\", \"Default\", \"Default\", \"Default\", \"Default\", \"Default\", \"Default\", \"Default\", \"Default\", \"Default\", \"Default\", \"Default\", \"Default\", \"Default\", \"Default\", \"Default\", \"Default\", \"Default\", \"Default\", \"Topic1\", \"Topic1\", \"Topic1\", \"Topic1\", \"Topic1\", \"Topic1\", \"Topic1\", \"Topic1\", \"Topic1\", \"Topic1\", \"Topic1\", \"Topic1\", \"Topic1\", \"Topic1\", \"Topic1\", \"Topic1\", \"Topic1\", \"Topic1\", \"Topic1\", \"Topic1\", \"Topic1\", \"Topic1\", \"Topic1\", \"Topic1\", \"Topic1\", \"Topic1\", \"Topic1\", \"Topic1\", \"Topic1\", \"Topic1\", \"Topic1\", \"Topic1\", \"Topic1\", \"Topic1\", \"Topic1\", \"Topic1\", \"Topic1\", \"Topic1\", \"Topic1\", \"Topic1\", \"Topic1\", \"Topic1\", \"Topic1\", \"Topic1\", \"Topic1\", \"Topic1\", \"Topic1\", \"Topic1\", \"Topic1\", \"Topic1\", \"Topic1\", \"Topic1\", \"Topic1\", \"Topic1\", \"Topic1\", \"Topic1\", \"Topic1\", \"Topic1\", \"Topic1\", \"Topic1\", \"Topic1\", \"Topic1\", \"Topic1\", \"Topic1\", \"Topic1\", \"Topic1\", \"Topic1\", \"Topic1\", \"Topic1\", \"Topic1\", \"Topic1\", \"Topic1\", \"Topic1\", \"Topic1\", \"Topic1\", \"Topic1\", \"Topic1\", \"Topic1\", \"Topic1\", \"Topic1\", \"Topic1\", \"Topic1\", \"Topic1\", \"Topic1\", \"Topic2\", \"Topic2\", \"Topic2\", \"Topic2\", \"Topic2\", \"Topic2\", \"Topic2\", \"Topic2\", \"Topic2\", \"Topic2\", \"Topic2\", \"Topic2\", \"Topic2\", \"Topic2\", \"Topic2\", \"Topic2\", \"Topic2\", \"Topic2\", \"Topic2\", \"Topic2\", \"Topic2\", \"Topic2\", \"Topic2\", \"Topic2\", \"Topic2\", \"Topic2\", \"Topic2\", \"Topic2\", \"Topic2\", \"Topic2\", \"Topic2\", \"Topic2\", \"Topic2\", \"Topic2\", \"Topic2\", \"Topic2\", \"Topic2\", \"Topic2\", \"Topic2\", \"Topic2\", \"Topic2\", \"Topic2\", \"Topic2\", \"Topic2\", \"Topic2\", \"Topic2\", \"Topic2\", \"Topic2\", \"Topic2\", \"Topic2\", \"Topic2\", \"Topic2\", \"Topic2\", \"Topic2\", \"Topic2\", \"Topic2\", \"Topic2\", \"Topic2\", \"Topic2\", \"Topic2\", \"Topic2\", \"Topic2\", \"Topic2\", \"Topic2\", \"Topic2\", \"Topic2\", \"Topic2\", \"Topic2\", \"Topic2\", \"Topic2\", \"Topic2\", \"Topic2\", \"Topic2\", \"Topic2\", \"Topic2\", \"Topic2\", \"Topic2\", \"Topic2\", \"Topic2\", \"Topic2\", \"Topic2\", \"Topic2\", \"Topic3\", \"Topic3\", \"Topic3\", \"Topic3\", \"Topic3\", \"Topic3\", \"Topic3\", \"Topic3\", \"Topic3\", \"Topic3\", \"Topic3\", \"Topic3\", \"Topic3\", \"Topic3\", \"Topic3\", \"Topic3\", \"Topic3\", \"Topic3\", \"Topic3\", \"Topic3\", \"Topic3\", \"Topic3\", \"Topic3\", \"Topic3\", \"Topic3\", \"Topic3\", \"Topic3\", \"Topic3\", \"Topic3\", \"Topic3\", \"Topic3\", \"Topic3\", \"Topic3\", \"Topic3\", \"Topic3\", \"Topic3\", \"Topic3\", \"Topic3\", \"Topic3\", \"Topic3\", \"Topic3\", \"Topic3\", \"Topic3\", \"Topic3\", \"Topic3\", \"Topic3\", \"Topic3\", \"Topic3\", \"Topic3\", \"Topic3\", \"Topic3\", \"Topic3\", \"Topic3\", \"Topic3\", \"Topic3\", \"Topic3\", \"Topic3\", \"Topic3\", \"Topic3\", \"Topic3\", \"Topic3\", \"Topic3\", \"Topic3\", \"Topic3\", \"Topic3\", \"Topic3\", \"Topic3\", \"Topic3\", \"Topic3\", \"Topic3\", \"Topic3\", \"Topic3\", \"Topic3\", \"Topic3\", \"Topic3\", \"Topic3\", \"Topic3\", \"Topic3\", \"Topic3\", \"Topic3\", \"Topic3\", \"Topic3\", \"Topic3\", \"Topic3\", \"Topic3\", \"Topic3\", \"Topic3\", \"Topic3\", \"Topic3\", \"Topic3\", \"Topic4\", \"Topic4\", \"Topic4\", \"Topic4\", \"Topic4\", \"Topic4\", \"Topic4\", \"Topic4\", \"Topic4\", \"Topic4\", \"Topic4\", \"Topic4\", \"Topic4\", \"Topic4\", \"Topic4\", \"Topic4\", \"Topic4\", \"Topic4\", \"Topic4\", \"Topic4\", \"Topic4\", \"Topic4\", \"Topic4\", \"Topic4\", \"Topic4\", \"Topic4\", \"Topic4\", \"Topic4\", \"Topic4\", \"Topic4\", \"Topic4\", \"Topic4\", \"Topic4\", \"Topic4\", \"Topic4\", \"Topic4\", \"Topic4\", \"Topic4\", \"Topic4\", \"Topic4\", \"Topic4\", \"Topic4\", \"Topic4\", \"Topic4\", \"Topic4\", \"Topic4\", \"Topic4\", \"Topic4\", \"Topic4\", \"Topic4\", \"Topic4\", \"Topic4\", \"Topic4\", \"Topic4\", \"Topic4\", \"Topic4\", \"Topic4\", \"Topic4\", \"Topic4\", \"Topic4\", \"Topic4\", \"Topic4\", \"Topic4\", \"Topic4\", \"Topic4\", \"Topic4\", \"Topic4\", \"Topic4\", \"Topic4\", \"Topic4\", \"Topic4\", \"Topic4\", \"Topic4\", \"Topic4\", \"Topic4\", \"Topic4\", \"Topic4\", \"Topic4\", \"Topic4\", \"Topic4\", \"Topic4\", \"Topic4\", \"Topic4\", \"Topic4\", \"Topic5\", \"Topic5\", \"Topic5\", \"Topic5\", \"Topic5\", \"Topic5\", \"Topic5\", \"Topic5\", \"Topic5\", \"Topic5\", \"Topic5\", \"Topic5\", \"Topic5\", \"Topic5\", \"Topic5\", \"Topic5\", \"Topic5\", \"Topic5\", \"Topic5\", \"Topic5\", \"Topic5\", \"Topic5\", \"Topic5\", \"Topic5\", \"Topic5\", \"Topic5\", \"Topic5\", \"Topic5\", \"Topic5\", \"Topic5\", \"Topic5\", \"Topic5\", \"Topic5\", \"Topic5\", \"Topic5\", \"Topic5\", \"Topic5\", \"Topic5\", \"Topic5\", \"Topic5\", \"Topic5\", \"Topic5\", \"Topic5\", \"Topic5\", \"Topic5\", \"Topic5\", \"Topic5\", \"Topic5\", \"Topic5\", \"Topic5\", \"Topic5\", \"Topic5\", \"Topic5\", \"Topic5\", \"Topic5\", \"Topic5\", \"Topic5\", \"Topic5\", \"Topic5\", \"Topic5\", \"Topic5\", \"Topic5\", \"Topic5\", \"Topic5\", \"Topic5\", \"Topic5\", \"Topic5\", \"Topic5\", \"Topic5\", \"Topic5\", \"Topic5\", \"Topic5\", \"Topic5\", \"Topic5\", \"Topic5\", \"Topic5\", \"Topic5\", \"Topic5\", \"Topic5\", \"Topic5\", \"Topic5\", \"Topic5\", \"Topic5\", \"Topic5\", \"Topic6\", \"Topic6\", \"Topic6\", \"Topic6\", \"Topic6\", \"Topic6\", \"Topic6\", \"Topic6\", \"Topic6\", \"Topic6\", \"Topic6\", \"Topic6\", \"Topic6\", \"Topic6\", \"Topic6\", \"Topic6\", \"Topic6\", \"Topic6\", \"Topic6\", \"Topic6\", \"Topic6\", \"Topic6\", \"Topic6\", \"Topic6\", \"Topic6\", \"Topic6\", \"Topic6\", \"Topic6\", \"Topic6\", \"Topic6\", \"Topic6\", \"Topic6\", \"Topic6\", \"Topic6\", \"Topic6\", \"Topic6\", \"Topic6\", \"Topic6\", \"Topic6\", \"Topic6\", \"Topic6\", \"Topic6\", \"Topic6\", \"Topic6\", \"Topic6\", \"Topic6\", \"Topic6\", \"Topic6\", \"Topic6\", \"Topic6\", \"Topic6\", \"Topic6\", \"Topic6\", \"Topic6\", \"Topic6\", \"Topic6\", \"Topic6\", \"Topic6\", \"Topic6\", \"Topic6\", \"Topic6\", \"Topic6\", \"Topic6\", \"Topic6\", \"Topic6\", \"Topic6\", \"Topic6\", \"Topic6\", \"Topic6\", \"Topic6\", \"Topic6\", \"Topic6\", \"Topic6\", \"Topic6\", \"Topic6\", \"Topic6\", \"Topic6\", \"Topic6\", \"Topic6\", \"Topic6\", \"Topic6\", \"Topic6\", \"Topic7\", \"Topic7\", \"Topic7\", \"Topic7\", \"Topic7\", \"Topic7\", \"Topic7\", \"Topic7\", \"Topic7\", \"Topic7\", \"Topic7\", \"Topic7\", \"Topic7\", \"Topic7\", \"Topic7\", \"Topic7\", \"Topic7\", \"Topic7\", \"Topic7\", \"Topic7\", \"Topic7\", \"Topic7\", \"Topic7\", \"Topic7\", \"Topic7\", \"Topic7\", \"Topic7\", \"Topic7\", \"Topic7\", \"Topic7\", \"Topic7\", \"Topic7\", \"Topic7\", \"Topic7\", \"Topic7\", \"Topic7\", \"Topic7\", \"Topic7\", \"Topic7\", \"Topic7\", \"Topic7\", \"Topic7\", \"Topic7\", \"Topic7\", \"Topic7\", \"Topic7\", \"Topic7\", \"Topic7\", \"Topic7\", \"Topic7\", \"Topic7\", \"Topic7\", \"Topic7\", \"Topic7\", \"Topic7\", \"Topic7\", \"Topic7\", \"Topic7\", \"Topic7\", \"Topic7\", \"Topic7\", \"Topic7\", \"Topic7\", \"Topic7\", \"Topic7\", \"Topic7\", \"Topic7\", \"Topic7\", \"Topic7\", \"Topic7\", \"Topic7\", \"Topic7\", \"Topic7\", \"Topic7\", \"Topic7\", \"Topic7\", \"Topic7\", \"Topic7\", \"Topic7\", \"Topic7\", \"Topic8\", \"Topic8\", \"Topic8\", \"Topic8\", \"Topic8\", \"Topic8\", \"Topic8\", \"Topic8\", \"Topic8\", \"Topic8\", \"Topic8\", \"Topic8\", \"Topic8\", \"Topic8\", \"Topic8\", \"Topic8\", \"Topic8\", \"Topic8\", \"Topic8\", \"Topic8\", \"Topic8\", \"Topic8\", \"Topic8\", \"Topic8\", \"Topic8\", \"Topic8\", \"Topic8\", \"Topic8\", \"Topic8\", \"Topic8\", \"Topic8\", \"Topic8\", \"Topic8\", \"Topic8\", \"Topic8\", \"Topic8\", \"Topic8\", \"Topic8\", \"Topic8\", \"Topic8\", \"Topic8\", \"Topic8\", \"Topic8\", \"Topic8\", \"Topic8\", \"Topic8\", \"Topic8\", \"Topic8\", \"Topic8\", \"Topic8\", \"Topic8\", \"Topic8\", \"Topic8\", \"Topic8\", \"Topic8\", \"Topic8\", \"Topic8\", \"Topic8\", \"Topic8\", \"Topic8\", \"Topic8\", \"Topic8\", \"Topic8\", \"Topic8\", \"Topic8\", \"Topic8\", \"Topic8\", \"Topic8\", \"Topic8\", \"Topic8\", \"Topic8\", \"Topic8\", \"Topic8\", \"Topic8\", \"Topic8\", \"Topic8\", \"Topic8\", \"Topic8\", \"Topic8\", \"Topic8\"], \"logprob\": [30.0, 29.0, 28.0, 27.0, 26.0, 25.0, 24.0, 23.0, 22.0, 21.0, 20.0, 19.0, 18.0, 17.0, 16.0, 15.0, 14.0, 13.0, 12.0, 11.0, 10.0, 9.0, 8.0, 7.0, 6.0, 5.0, 4.0, 3.0, 2.0, 1.0, -7.119800090789795, -7.235400199890137, -7.45959997177124, -7.588200092315674, -7.714300155639648, -7.529699802398682, -7.6290998458862305, -7.7220001220703125, -7.744999885559082, -7.755099773406982, -7.718299865722656, -7.7845001220703125, -7.413599967956543, -7.492199897766113, -7.732100009918213, -7.7932000160217285, -7.654600143432617, -7.776500225067139, -7.707499980926514, -7.903500080108643, -7.9593000411987305, -7.953999996185303, -7.758699893951416, -7.55649995803833, -8.076700210571289, -7.857800006866455, -8.02649974822998, -8.170100212097168, -8.131099700927734, -8.187999725341797, -3.8710999488830566, -7.267300128936768, -6.979000091552734, -7.325399875640869, -7.593699932098389, -4.402599811553955, -4.881499767303467, -5.868899822235107, -6.394899845123291, -5.34660005569458, -5.968400001525879, -4.142000198364258, -5.90369987487793, -4.463200092315674, -5.497099876403809, -6.755199909210205, -6.747499942779541, -6.377900123596191, -5.996699810028076, -5.541299819946289, -6.099299907684326, -6.441699981689453, -5.718200206756592, -6.393899917602539, -6.259099960327148, -6.492199897766113, -6.408400058746338, -5.846399784088135, -6.90500020980835, -6.67519998550415, -6.184899806976318, -5.627900123596191, -5.360799789428711, -4.109799861907959, -4.562699794769287, -4.406599998474121, -5.59499979019165, -6.207200050354004, -4.7895002365112305, -4.5370001792907715, -4.4166998863220215, -5.247900009155273, -5.410099983215332, -5.314700126647949, -5.4842000007629395, -5.913000106811523, -5.317399978637695, -5.377200126647949, -5.624199867248535, -5.4721999168396, -5.507900238037109, -5.673999786376953, -5.718900203704834, -5.749599933624268, -6.890399932861328, -7.034200191497803, -7.162199974060059, -7.178199768066406, -7.29640007019043, -7.44890022277832, -7.212200164794922, -7.50029993057251, -7.359000205993652, -7.6940999031066895, -7.448400020599365, -7.758699893951416, -7.769999980926514, -7.803699970245361, -7.726799964904785, -7.960599899291992, -7.991000175476074, -7.819799900054932, -7.920599937438965, -7.8831000328063965, -8.099900245666504, -8.128100395202637, -8.133399963378906, -8.130399703979492, -8.148500442504883, -8.02810001373291, -8.025699615478516, -8.194100379943848, -7.263899803161621, -7.975500106811523, -6.500800132751465, -6.067599773406982, -6.756800174713135, -7.755899906158447, -7.884699821472168, -6.463600158691406, -6.530399799346924, -7.462800025939941, -7.765699863433838, -6.033999919891357, -2.9651999473571777, -6.752399921417236, -7.026299953460693, -3.842400074005127, -4.303699970245361, -5.0381999015808105, -6.2204999923706055, -5.730400085449219, -5.618599891662598, -6.322400093078613, -6.379199981689453, -5.475800037384033, -5.082900047302246, -4.932400226593018, -5.468999862670898, -5.974299907684326, -6.031899929046631, -4.949399948120117, -5.8242998123168945, -4.930699825286865, -5.547299861907959, -5.3618998527526855, -6.348700046539307, -5.222300052642822, -5.848700046539307, -4.593299865722656, -4.684199810028076, -5.657899856567383, -4.968900203704834, -4.837699890136719, -5.239099979400635, -5.541100025177002, -5.843800067901611, -5.575500011444092, -5.659800052642822, -5.416100025177002, -5.574399948120117, -5.696899890899658, -5.588900089263916, -5.644899845123291, -5.782899856567383, -5.777299880981445, -6.934800148010254, -7.079599857330322, -7.143400192260742, -7.339000225067139, -7.366000175476074, -7.123799800872803, -7.4274001121521, -6.769700050354004, -7.5609002113342285, -7.579999923706055, -7.581699848175049, -7.682199954986572, -7.705900192260742, -7.526700019836426, -7.79010009765625, -7.727099895477295, -7.8404998779296875, -7.573599815368652, -7.386199951171875, -7.861700057983398, -7.824699878692627, -7.8979997634887695, -7.416900157928467, -7.933499813079834, -7.288899898529053, -7.961100101470947, -7.707399845123291, -7.966300010681152, -7.9928998947143555, -7.705399990081787, -7.5391998291015625, -6.720399856567383, -7.672500133514404, -7.563499927520752, -7.332300186157227, -7.207699775695801, -6.037600040435791, -6.934700012207031, -6.581399917602539, -7.078800201416016, -6.491399765014648, -6.755000114440918, -7.234600067138672, -6.754199981689453, -3.2400999069213867, -6.316400051116943, -6.594699859619141, -7.0528998374938965, -6.6905999183654785, -5.563000202178955, -6.453199863433838, -6.257299900054932, -4.460999965667725, -6.137700080871582, -5.929599761962891, -5.094799995422363, -6.375400066375732, -5.375100135803223, -5.967599868774414, -6.5167999267578125, -6.719799995422363, -5.981900215148926, -5.368000030517578, -5.711299896240234, -5.807799816131592, -5.606299877166748, -5.052999973297119, -5.314199924468994, -5.422399997711182, -4.589799880981445, -5.122900009155273, -5.138199806213379, -5.531199932098389, -5.610400199890137, -5.338399887084961, -6.0071001052856445, -5.541600227355957, -5.447999954223633, -5.627900123596191, -5.612500190734863, -5.588099956512451, -5.603400230407715, -5.292799949645996, -5.576600074768066, -5.699900150299072, -5.5472002029418945, -5.723599910736084, -5.779399871826172, -5.636000156402588, -5.670400142669678, -6.518099784851074, -7.328800201416016, -7.373700141906738, -7.376999855041504, -7.450300216674805, -7.346700191497803, -7.520999908447266, -6.927700042724609, -7.513500213623047, -7.595099925994873, -7.474699974060059, -7.49459981918335, -7.6219000816345215, -7.672699928283691, -7.6508002281188965, -7.695899963378906, -7.0507001876831055, -6.879499912261963, -7.739299774169922, -7.336699962615967, -7.518599987030029, -7.7870001792907715, -7.825099945068359, -7.7932000160217285, -7.826200008392334, -6.889800071716309, -7.822400093078613, -7.778900146484375, -7.8119001388549805, -8.039899826049805, -7.281000137329102, -7.1092000007629395, -6.641600131988525, -7.138299942016602, -6.5106000900268555, -6.665900230407715, -7.671199798583984, -6.665299892425537, -4.647200107574463, -6.125199794769287, -6.349299907684326, -5.643199920654297, -6.185999870300293, -5.810100078582764, -6.402200222015381, -4.464300155639648, -6.868599891662598, -7.042500019073486, -5.821000099182129, -6.115900039672852, -6.381199836730957, -4.642199993133545, -6.440000057220459, -6.490300178527832, -5.774899959564209, -5.716700077056885, -4.72760009765625, -4.106599807739258, -5.646599769592285, -5.161799907684326, -5.414899826049805, -5.265399932861328, -4.862500190734863, -4.677000045776367, -5.036399841308594, -5.167399883270264, -5.466800212860107, -4.934599876403809, -5.160600185394287, -4.899400234222412, -5.414100170135498, -5.905399799346924, -5.460000038146973, -5.769999980926514, -5.774199962615967, -5.482100009918213, -5.7322998046875, -5.616700172424316, -5.651400089263916, -5.607399940490723, -5.668099880218506, -5.601600170135498, -5.692599773406982, -5.740300178527832, -6.326700210571289, -6.5, -6.7565999031066895, -6.9303998947143555, -7.117199897766113, -7.304699897766113, -6.989799976348877, -7.210700035095215, -7.395400047302246, -7.416900157928467, -7.416900157928467, -7.2118000984191895, -7.414999961853027, -7.5295000076293945, -7.5991997718811035, -7.666399955749512, -7.509900093078613, -7.498000144958496, -7.319799900054932, -7.783699989318848, -7.790500164031982, -7.214900016784668, -6.620299816131592, -7.758500099182129, -7.832600116729736, -7.5233001708984375, -6.858500003814697, -7.735199928283691, -7.655600070953369, -6.965099811553955, -5.909999847412109, -6.761199951171875, -6.5096001625061035, -6.440400123596191, -7.111499786376953, -7.08620023727417, -6.99370002746582, -6.8734002113342285, -6.5, -6.627299785614014, -6.584400177001953, -6.036900043487549, -6.717100143432617, -6.865600109100342, -6.810100078582764, -6.517300128936768, -4.265999794006348, -6.139900207519531, -5.44890022277832, -4.50570011138916, -6.231299877166748, -6.013800144195557, -5.405200004577637, -4.878600120544434, -5.846199989318848, -5.245500087738037, -4.759900093078613, -6.065700054168701, -3.705699920654297, -6.097499847412109, -4.936699867248535, -5.477700233459473, -5.703999996185303, -4.1768999099731445, -6.286499977111816, -5.185200214385986, -4.787600040435791, -5.381899833679199, -5.679999828338623, -4.572000026702881, -5.536900043487549, -5.532800197601318, -5.5833001136779785, -5.073200225830078, -5.640500068664551, -5.479899883270264, -5.235099792480469, -5.123799800872803, -5.581999778747559, -5.680500030517578, -5.6508002281188965, -5.660600185394287, -5.630799770355225, -5.581399917602539, -7.003799915313721, -7.1596999168396, -7.171899795532227, -7.281000137329102, -7.1539998054504395, -7.2993998527526855, -7.3292999267578125, -7.2067999839782715, -7.062399864196777, -7.381899833679199, -7.457699775695801, -7.469600200653076, -7.519999980926514, -7.178400039672852, -6.651100158691406, -7.652500152587891, -7.657100200653076, -7.484300136566162, -7.609600067138672, -7.606500148773193, -7.594900131225586, -7.738100051879883, -7.189899921417236, -7.882299900054932, -7.905799865722656, -7.88070011138916, -7.948800086975098, -7.950099945068359, -7.95959997177124, -7.282800197601318, -5.353899955749512, -5.8125, -7.554200172424316, -6.8130998611450195, -7.591899871826172, -6.686999797821045, -7.137199878692627, -5.539400100708008, -7.38129997253418, -5.872000217437744, -6.976799964904785, -7.294600009918213, -5.920599937438965, -7.449900150299072, -6.598199844360352, -6.014400005340576, -7.0441999435424805, -6.73199987411499, -5.098899841308594, -7.049300193786621, -4.167600154876709, -5.978000164031982, -4.890100002288818, -5.3730998039245605, -4.764699935913086, -4.846799850463867, -5.656599998474121, -5.860000133514404, -4.649199962615967, -4.338099956512451, -5.343299865722656, -6.128699779510498, -5.460299968719482, -5.475100040435791, -6.115499973297119, -5.3246002197265625, -5.26170015335083, -5.370299816131592, -5.212500095367432, -5.605999946594238, -5.742199897766113, -5.611400127410889, -5.8358001708984375, -5.762199878692627, -5.457200050354004, -5.599299907684326, -5.729300022125244, -5.7855000495910645, -5.7555999755859375, -5.769999980926514, -5.769499778747559, -5.730400085449219, -6.8302001953125, -6.896399974822998, -6.900700092315674, -7.021100044250488, -7.174699783325195, -6.994699954986572, -7.266499996185303, -6.928199768066406, -7.364099979400635, -7.364299774169922, -7.4156999588012695, -7.432000160217285, -7.461299896240234, -7.262199878692627, -7.504300117492676, -6.73799991607666, -7.422299861907959, -7.560299873352051, -6.199999809265137, -7.620200157165527, -7.526599884033203, -7.622700214385986, -7.631199836730957, -6.696499824523926, -7.449900150299072, -7.6585001945495605, -7.664400100708008, -6.6834001541137695, -7.109399795532227, -7.416399955749512, -7.34689998626709, -3.9941999912261963, -6.337900161743164, -5.386600017547607, -7.183300018310547, -6.66510009765625, -7.107100009918213, -6.326099872589111, -6.680200099945068, -7.148600101470947, -6.43179988861084, -4.608399868011475, -7.035399913787842, -7.054500102996826, -6.741000175476074, -6.520599842071533, -6.059999942779541, -4.053999900817871, -5.500500202178955, -5.323200225830078, -4.035799980163574, -4.973700046539307, -6.479100227355957, -5.03879976272583, -4.90880012512207, -4.924900054931641, -5.692399978637695, -6.044400215148926, -4.90500020980835, -5.423999786376953, -5.195400238037109, -5.19950008392334, -4.889999866485596, -5.214200019836426, -5.563600063323975, -6.003699779510498, -5.482500076293945, -5.996799945831299, -5.758600234985352, -5.72599983215332, -5.531099796295166, -5.729499816894531, -5.675899982452393, -5.368000030517578, -5.681700229644775, -5.819300174713135, -5.848700046539307, -5.926799774169922, -5.918799877166748, -5.912499904632568, -6.220900058746338, -6.690100193023682, -6.701600074768066, -6.738900184631348, -6.686299800872803, -6.918499946594238, -6.3506999015808105, -6.81220006942749, -6.992499828338623, -6.819799900054932, -6.807499885559082, -7.179699897766113, -7.287199974060059, -6.6031999588012695, -7.30620002746582, -7.34250020980835, -7.407100200653076, -7.064799785614014, -7.437300205230713, -7.470600128173828, -7.101900100708008, -6.152400016784668, -7.306399822235107, -7.552499771118164, -7.563399791717529, -7.577499866485596, -7.566400051116943, -7.60290002822876, -7.410999774932861, -7.2052001953125, -7.299300193786621, -7.344799995422363, -6.495200157165527, -7.090799808502197, -7.420000076293945, -6.869500160217285, -6.872799873352051, -6.863999843597412, -6.8256001472473145, -7.05049991607666, -6.781000137329102, -6.866099834442139, -6.7032999992370605, -6.45359992980957, -6.412499904632568, -6.7494001388549805, -5.201200008392334, -4.828000068664551, -5.887700080871582, -6.468100070953369, -6.020100116729736, -5.1855998039245605, -4.822400093078613, -4.477200031280518, -4.787199974060059, -5.8734002113342285, -4.565800189971924, -4.941299915313721, -5.679100036621094, -5.5254998207092285, -5.27869987487793, -5.122000217437744, -5.508399963378906, -5.9375, -5.713200092315674, -5.6016998291015625, -5.829100131988525, -5.592299938201904, -6.016499996185303, -5.842599868774414, -5.875, -5.619500160217285, -6.042099952697754, -5.93720006942749, -5.9019999504089355, -5.825699806213379, -5.9166998863220215, -5.944900035858154, -5.89870023727417, -5.9475998878479], \"loglift\": [30.0, 29.0, 28.0, 27.0, 26.0, 25.0, 24.0, 23.0, 22.0, 21.0, 20.0, 19.0, 18.0, 17.0, 16.0, 15.0, 14.0, 13.0, 12.0, 11.0, 10.0, 9.0, 8.0, 7.0, 6.0, 5.0, 4.0, 3.0, 2.0, 1.0, 1.7104, 1.7068, 1.7035, 1.7005, 1.6969, 1.6967, 1.6966, 1.6964, 1.6959, 1.6959, 1.6949, 1.6949, 1.6944, 1.6941, 1.6937, 1.6912, 1.6909, 1.6905, 1.6903, 1.6892, 1.6887, 1.6881, 1.6875, 1.6842, 1.684, 1.6818, 1.6813, 1.68, 1.6794, 1.6793, 1.6484, 1.6737, 1.6696, 1.6693, 1.6711, 1.5695, 1.579, 1.5852, 1.6104, 1.5124, 1.5574, 1.3969, 1.5482, 1.4084, 1.4949, 1.6059, 1.6036, 1.5635, 1.5086, 1.4523, 1.5084, 1.5482, 1.442, 1.5117, 1.4859, 1.5197, 1.4961, 1.3823, 1.5868, 1.5357, 1.4235, 1.249, 1.1431, 0.4761, 0.6486, 0.4524, 0.9132, 1.2787, 0.3301, 0.1272, -0.1365, 0.374, 0.4911, 0.2916, 0.4604, 0.9779, 0.0326, -0.0481, 0.3663, -0.2004, -0.3108, 0.1619, 0.3394, 0.262, 1.8932, 1.8908, 1.8884, 1.887, 1.8854, 1.8817, 1.8812, 1.8803, 1.8773, 1.8743, 1.8741, 1.872, 1.8715, 1.8687, 1.8677, 1.8639, 1.8618, 1.861, 1.858, 1.8575, 1.8574, 1.8559, 1.8556, 1.8549, 1.8548, 1.8544, 1.8516, 1.8514, 1.8511, 1.8507, 1.8507, 1.8236, 1.8127, 1.8405, 1.8445, 1.74, 1.725, 1.8018, 1.8295, 1.6264, 1.2243, 1.6986, 1.7289, 1.2358, 1.2722, 1.3932, 1.5607, 1.4533, 1.4265, 1.5614, 1.5544, 1.3382, 1.2361, 1.154, 1.2543, 1.3444, 1.3536, 0.9227, 1.2713, 0.8095, 1.004, 0.8676, 1.4094, 0.6129, 1.0402, 0.0709, -0.0983, 0.7169, -0.11, -0.5575, -0.0278, 0.3589, 0.7984, 0.3517, 0.4308, -0.219, 0.1664, 0.3677, -0.2389, -0.3731, 0.3307, 0.1673, 1.962, 1.9596, 1.9539, 1.9532, 1.9531, 1.9521, 1.9514, 1.9489, 1.9473, 1.9467, 1.946, 1.9432, 1.9424, 1.9407, 1.9387, 1.9371, 1.9368, 1.9363, 1.9361, 1.9361, 1.9346, 1.9343, 1.9341, 1.933, 1.9317, 1.9315, 1.9313, 1.9313, 1.9301, 1.9286, 1.9222, 1.8947, 1.9242, 1.9165, 1.9034, 1.8911, 1.7577, 1.8376, 1.787, 1.8268, 1.7284, 1.7687, 1.8456, 1.7498, 0.9495, 1.624, 1.6889, 1.7844, 1.6714, 1.2642, 1.5704, 1.4642, 0.6172, 1.346, 1.2155, 0.7772, 1.4155, 0.8807, 1.1848, 1.4861, 1.5928, 1.1377, 0.7184, 0.9302, 0.9316, 0.7127, 0.2188, 0.426, 0.4777, -0.3097, 0.0741, -0.0186, 0.3843, 0.4012, -0.0092, 0.8818, 0.1992, -0.0979, 0.2073, 0.129, 0.0182, 0.0185, -0.7069, -0.1086, 0.2068, -0.3359, 0.1123, 0.2788, -0.9718, -0.8115, 2.0829, 2.0663, 2.0652, 2.0651, 2.0611, 2.0606, 2.0604, 2.0597, 2.0583, 2.0576, 2.0572, 2.0567, 2.0566, 2.0547, 2.0539, 2.0537, 2.053, 2.0529, 2.0514, 2.0511, 2.0507, 2.0496, 2.0478, 2.0451, 2.0448, 2.0444, 2.0439, 2.0427, 2.0369, 2.0356, 2.0333, 2.0303, 1.9812, 2.007, 1.9565, 1.9677, 2.0333, 1.8872, 1.5586, 1.7694, 1.8029, 1.6583, 1.7141, 1.6067, 1.689, 1.0036, 1.8202, 1.8774, 1.4012, 1.5081, 1.6152, 0.687, 1.5724, 1.5975, 1.2006, 1.1453, 0.5442, 0.1735, 1.047, 0.7097, 0.8783, 0.6413, 0.257, -0.0128, 0.3137, 0.4085, 0.5238, -0.0757, 0.0365, -0.3135, 0.3274, 0.9796, 0.2809, 0.7677, 0.7672, 0.2328, 0.6854, 0.4329, 0.4393, 0.3017, 0.3435, -0.3903, 0.2723, 0.504, 2.0897, 2.0847, 2.0843, 2.0765, 2.0759, 2.0731, 2.0726, 2.0726, 2.0704, 2.0699, 2.0668, 2.0667, 2.0666, 2.0664, 2.0637, 2.0613, 2.0594, 2.0585, 2.058, 2.0566, 2.0556, 2.0548, 2.0546, 2.0545, 2.0543, 2.0534, 2.0525, 2.0512, 2.0494, 2.0491, 2.0455, 2.0457, 2.0421, 2.0355, 2.0469, 2.0434, 2.0393, 2.0212, 1.99, 1.9952, 1.9804, 1.9235, 1.9868, 1.9853, 1.9725, 1.9083, 1.449, 1.8181, 1.6621, 1.4407, 1.8278, 1.7386, 1.5621, 1.3851, 1.6141, 1.3682, 1.1117, 1.6609, 0.5745, 1.648, 0.9788, 1.2631, 1.3942, 0.4872, 1.7263, 0.7796, 0.4094, 0.8624, 1.1297, 0.014, 0.9613, 0.8849, 0.8016, 0.0464, 0.8691, 0.5106, 0.0367, -0.2649, 0.5679, 0.5522, 0.3807, 0.404, 0.1107, -0.2522, 2.1781, 2.1769, 2.1764, 2.1734, 2.1732, 2.1723, 2.1717, 2.1716, 2.17, 2.1688, 2.1671, 2.1652, 2.165, 2.1607, 2.1595, 2.1593, 2.1593, 2.1588, 2.1561, 2.155, 2.1531, 2.1517, 2.1505, 2.1476, 2.1469, 2.1447, 2.1445, 2.144, 2.1429, 2.1428, 2.1375, 2.114, 2.1378, 2.1145, 2.1373, 2.0969, 2.1093, 1.9833, 2.1237, 1.9859, 2.0574, 2.1036, 1.8173, 2.1224, 1.9336, 1.7811, 2.0039, 1.8215, 1.0413, 1.9583, 0.4183, 1.3551, 0.7162, 0.8826, 0.4467, 0.5032, 1.037, 1.1747, 0.2098, -0.058, 0.7217, 1.2675, 0.6533, 0.5365, 1.0687, 0.1434, 0.0675, 0.1686, -0.0929, 0.3589, 0.551, 0.2953, 0.6103, 0.3854, -0.2601, -0.3275, 0.1719, 0.3982, -0.0147, 0.1391, 0.102, -1.0662, 2.3356, 2.3333, 2.3324, 2.3305, 2.3261, 2.3247, 2.3223, 2.3205, 2.3194, 2.3194, 2.3173, 2.3167, 2.3155, 2.3148, 2.3122, 2.3113, 2.3102, 2.3096, 2.3095, 2.3081, 2.3079, 2.3078, 2.3076, 2.3075, 2.3065, 2.3059, 2.3058, 2.3054, 2.3046, 2.3029, 2.3029, 2.2644, 2.2838, 2.2475, 2.2893, 2.2609, 2.2771, 2.216, 2.2327, 2.2667, 2.1559, 1.8371, 2.2389, 2.2239, 2.0963, 2.0063, 1.804, 0.6102, 1.3432, 1.2145, 0.2443, 0.7678, 1.7951, 0.5831, 0.2882, 0.1947, 0.9442, 1.2595, -0.046, 0.4916, 0.1547, 0.1297, -0.3041, 0.0576, 0.3637, 1.0342, 0.0934, 0.9969, 0.355, 0.1752, -0.3198, 0.1796, -0.0696, -1.1785, -0.2137, 0.3186, 0.0514, 0.5046, 0.2215, -0.8343, 2.4324, 2.4319, 2.4317, 2.4308, 2.4304, 2.4254, 2.4249, 2.4236, 2.4202, 2.419, 2.4187, 2.418, 2.4139, 2.4133, 2.4096, 2.4092, 2.4086, 2.4079, 2.4075, 2.4055, 2.4037, 2.4033, 2.4021, 2.4014, 2.4013, 2.4002, 2.3999, 2.3993, 2.396, 2.3956, 2.3902, 2.3913, 2.3494, 2.3739, 2.391, 2.3319, 2.2997, 2.2908, 2.2793, 2.3224, 2.2202, 2.2318, 2.1643, 2.0226, 1.9894, 2.1447, 1.2674, 0.9122, 1.4878, 1.8737, 1.4835, 0.6504, 0.2558, -0.1971, 0.0718, 1.1709, -0.3763, -0.3554, 0.6149, 0.3466, -0.0816, -0.4579, -0.0405, 0.7616, 0.3183, 0.0202, 0.3992, -0.3206, 0.739, 0.222, 0.2726, -0.5, 0.6353, 0.1523, 0.007, -0.4757, -0.0815, 0.1201, -0.5695, -0.3413]}, \"token.table\": {\"Topic\": [6, 8, 2, 2, 1, 4, 5, 6, 8, 5, 1, 2, 3, 4, 5, 6, 7, 8, 1, 2, 3, 4, 6, 7, 8, 1, 1, 2, 3, 4, 5, 6, 7, 8, 8, 1, 2, 3, 4, 6, 7, 8, 1, 2, 3, 4, 5, 6, 7, 8, 2, 1, 5, 8, 1, 2, 4, 5, 6, 7, 8, 1, 2, 3, 4, 5, 6, 7, 8, 6, 7, 6, 3, 3, 6, 2, 4, 7, 3, 1, 2, 3, 4, 5, 6, 7, 8, 5, 1, 7, 1, 2, 6, 8, 1, 2, 3, 4, 5, 6, 7, 8, 2, 1, 2, 3, 4, 5, 6, 7, 2, 1, 2, 3, 4, 6, 7, 8, 1, 3, 4, 6, 7, 8, 1, 6, 2, 5, 1, 5, 7, 1, 1, 2, 3, 4, 5, 6, 7, 8, 1, 2, 3, 4, 5, 6, 7, 8, 1, 2, 3, 4, 5, 6, 7, 8, 2, 4, 6, 8, 3, 8, 4, 5, 6, 8, 1, 3, 4, 6, 7, 8, 7, 1, 2, 3, 4, 5, 6, 7, 8, 1, 2, 3, 4, 5, 6, 7, 8, 6, 1, 3, 7, 1, 2, 3, 4, 5, 6, 7, 8, 4, 2, 2, 5, 6, 1, 1, 1, 3, 4, 5, 6, 1, 2, 3, 4, 5, 6, 7, 8, 5, 4, 5, 8, 3, 1, 2, 3, 4, 5, 6, 7, 8, 4, 3, 1, 2, 8, 3, 6, 1, 2, 3, 4, 6, 8, 4, 1, 2, 3, 4, 5, 6, 7, 8, 3, 3, 1, 2, 3, 4, 5, 6, 7, 8, 6, 6, 1, 2, 3, 4, 5, 6, 7, 8, 1, 6, 7, 1, 2, 3, 4, 5, 6, 7, 8, 1, 2, 3, 4, 5, 6, 7, 8, 1, 2, 3, 4, 5, 6, 7, 8, 3, 1, 2, 5, 6, 7, 8, 1, 2, 3, 4, 5, 6, 7, 8, 1, 2, 3, 4, 6, 7, 8, 2, 4, 5, 6, 7, 8, 2, 7, 8, 4, 1, 1, 2, 3, 4, 5, 6, 7, 8, 5, 1, 2, 3, 4, 5, 6, 7, 2, 3, 7, 8, 1, 2, 3, 4, 5, 6, 7, 1, 2, 7, 8, 4, 5, 6, 1, 2, 3, 4, 5, 6, 7, 8, 2, 5, 8, 2, 3, 4, 7, 8, 5, 1, 6, 7, 8, 6, 4, 6, 1, 3, 4, 6, 7, 8, 3, 3, 7, 4, 5, 3, 1, 2, 3, 4, 6, 7, 8, 8, 4, 5, 1, 2, 3, 4, 5, 6, 7, 8, 8, 4, 7, 3, 1, 6, 8, 2, 6, 1, 4, 6, 8, 3, 4, 6, 8, 4, 1, 5, 2, 5, 6, 6, 4, 8, 7, 1, 2, 3, 4, 5, 6, 7, 8, 1, 2, 3, 4, 6, 7, 2, 3, 1, 2, 3, 4, 5, 6, 7, 8, 7, 1, 2, 4, 5, 7, 8, 2, 1, 2, 3, 4, 5, 6, 7, 8, 1, 2, 3, 4, 5, 6, 7, 8, 1, 3, 4, 5, 6, 7, 1, 2, 4, 5, 6, 8, 6, 4, 1, 2, 3, 4, 5, 6, 7, 8, 1, 2, 3, 4, 5, 6, 7, 8, 1, 2, 3, 4, 5, 6, 7, 8, 1, 5, 1, 2, 7, 2, 1, 2, 3, 4, 5, 6, 7, 8, 1, 2, 3, 4, 5, 6, 7, 8, 1, 2, 3, 4, 5, 6, 7, 8, 5, 3, 6, 1, 2, 3, 4, 5, 6, 7, 8, 4, 6, 8, 1, 2, 3, 4, 5, 6, 7, 8, 1, 2, 3, 4, 5, 6, 7, 8, 8, 1, 2, 3, 4, 5, 6, 7, 8, 3, 1, 2, 3, 4, 5, 6, 7, 8, 1, 5, 7, 8, 1, 1, 2, 6, 7, 8, 8, 3, 8, 3, 1, 2, 3, 4, 5, 6, 7, 8, 1, 2, 3, 4, 5, 6, 7, 8, 4, 7, 1, 2, 3, 4, 5, 6, 7, 8, 1, 2, 3, 4, 5, 6, 7, 8, 6, 7, 8, 2, 3, 4, 5, 6, 7, 8, 6, 5, 6, 5, 2, 1, 2, 3, 4, 5, 6, 7, 8, 1, 2, 3, 4, 5, 6, 7, 8, 1, 2, 3, 4, 5, 6, 7, 8, 1, 2, 3, 4, 6, 7, 8, 3, 1, 2, 3, 4, 5, 6, 7, 8, 1, 2, 3, 4, 5, 6, 7, 8, 8, 4, 3, 7, 8, 1, 2, 3, 4, 5, 6, 7, 8, 8, 4, 5, 8, 3, 1, 2, 4, 6, 7, 8, 1, 7, 8, 7, 1, 3, 4, 5, 6, 7, 1, 1, 1, 2, 4, 5, 6, 7, 8, 1, 2, 3, 4, 5, 6, 7, 8, 7, 5, 1, 2, 3, 4, 5, 6, 7, 8, 1, 2, 6, 7, 8, 1, 2, 3, 4, 5, 6, 7, 8, 1, 2, 3, 4, 5, 6, 7, 8, 8, 3, 5, 8, 1, 2, 3, 4, 5, 6, 7, 8, 8, 1, 2, 4, 6, 7, 5, 1, 1, 2, 3, 4, 5, 6, 7, 8, 2, 3, 4, 5, 8, 4, 1, 2, 3, 4, 5, 6, 7, 8, 7, 7, 2, 1, 4, 6, 7, 8, 2, 8, 5, 8, 1, 2, 3, 4, 5, 6, 7, 8, 1, 2, 3, 4, 5, 6, 7, 8, 1, 2, 3, 4, 5, 6, 7, 8, 3, 8, 5, 1, 5, 6, 3, 1, 2, 3, 4, 6, 7, 8, 1, 3, 8, 1, 2, 3, 4, 5, 6, 7, 8, 1, 2, 6, 1, 2, 3, 4, 5, 6, 8, 2, 8, 1, 6, 1, 2, 4, 5, 8, 2, 1, 2, 3, 4, 5, 6, 7, 8, 1, 2, 3, 4, 5, 6, 7, 8, 4, 1, 2, 3, 4, 5, 6, 7, 8, 1, 3, 6, 1, 2, 3, 4, 5, 6, 7, 8, 1, 2, 3, 4, 5, 6, 7, 8, 1, 2, 3, 4, 5, 6, 7, 8, 3, 1, 2, 3, 4, 5, 6, 7, 8, 2, 1, 2, 3, 4, 5, 6, 7, 8, 1, 1, 2, 3, 4, 6, 7, 8, 1, 2, 3, 4, 5, 6, 7, 8, 1, 2, 3, 4, 5, 6, 7, 8, 2, 4, 1, 2, 3, 4, 5, 6, 7, 8, 7, 2, 1, 6, 6, 3, 7, 6, 7, 4, 1, 2, 3, 4, 6, 7, 8, 1, 5, 6, 7, 7, 1, 2, 3, 7, 8, 8, 4, 2, 8, 1, 2, 3, 4, 5, 6, 7, 8, 1, 2, 3, 4, 5, 6, 7, 8, 1, 2, 3, 4, 5, 6, 7, 8, 1, 2, 3, 4, 5, 6, 7, 8, 8, 1, 2, 3, 4, 5, 6, 7, 8, 1, 2, 3, 4, 5, 6, 7, 8, 3, 1, 2, 3, 4, 5, 6, 7, 8, 1, 7, 7, 1, 2, 3, 4, 5, 6, 7, 8, 3, 8, 1, 2, 3, 4, 6, 1, 2, 3, 4, 5, 6, 7, 8, 1, 2, 3, 4, 5, 6, 7, 8, 2, 4, 7, 4, 4, 3, 2, 3, 7, 8, 1, 2, 3, 4, 5, 6, 7, 3, 7, 4, 7, 1, 2, 3, 4, 5, 6, 7, 8, 1, 3, 4, 6, 7, 3, 4, 7, 1, 2, 3, 4, 5, 6, 7, 8, 1, 2, 3, 4, 5, 6, 7, 8, 1, 2, 3, 4, 5, 6, 7, 8, 3, 3, 6, 1, 5, 6, 7, 7, 1, 2, 3, 5, 6, 7, 8, 1, 2, 3, 4, 5, 6, 7, 8, 1, 2, 3, 4, 5, 6, 7, 8, 1, 2, 3, 4, 5, 6, 7, 8, 2, 2, 6, 7, 1, 1, 2, 3, 4, 5, 6, 7, 8, 3, 7, 1, 2, 3, 4, 5, 6, 7, 8, 1, 7, 8, 1, 2, 3, 4, 5, 6, 7, 8, 6, 7, 1, 2, 3, 7, 8, 1, 2, 3, 4, 5, 6, 7, 8, 1, 2, 3, 4, 5, 6, 7, 8, 1, 2, 3, 4, 5, 6, 7, 8, 1, 2, 3, 4, 5, 6, 7, 8, 1, 2, 3, 4, 5, 6, 7, 8, 1, 2, 3, 4, 5, 6, 7, 8, 1, 2, 4, 1, 2, 3, 4, 5, 6, 7, 8, 6, 1, 2, 3, 4, 5, 6, 7, 8, 1, 2, 3, 5, 6, 7, 8, 1, 3, 4, 6, 7, 8, 5, 4, 7, 8, 1, 2, 4, 5, 8, 5, 6, 4, 1, 2, 3, 4, 5, 6, 7, 8, 3, 4, 3, 1, 2, 4, 8, 1, 2, 3, 4, 5, 6, 7, 8, 8, 2, 8, 7, 8, 7, 1, 1, 2, 3, 6, 7, 1, 2, 3, 4, 5, 6, 7, 8, 6, 1, 2, 3, 4, 5, 6, 7, 5, 1, 2, 3, 4, 5, 6, 7, 8, 1, 2, 3, 4, 5, 6, 7, 8, 8, 7, 1, 2, 3, 4, 5, 6, 7, 8, 1, 2, 3, 4, 5, 6, 7, 8, 1, 2, 3, 4, 5, 6, 7, 8, 8, 6, 6, 1, 3, 4, 6, 1, 8, 4, 6, 8, 4, 1, 2, 3, 4, 5, 6, 7, 8, 1, 3, 4, 7, 4, 1, 2, 3, 4, 5, 6, 7, 8, 1, 2, 3, 4, 7, 8, 2, 6, 1, 2, 3, 4, 6, 7, 8, 4, 6, 7, 1, 2, 3, 4, 5, 6, 7, 8, 1, 2, 3, 4, 5, 6, 7, 8, 1, 3, 1, 2, 3, 4, 5, 6, 7, 8, 1, 2, 3, 4, 5, 6, 7, 8, 1, 2, 3, 4, 5, 6, 7, 8, 1, 8, 1, 5, 6, 1, 2, 3, 4, 6, 8, 1, 2, 3, 4, 5, 6, 7, 8, 1, 1, 2, 3, 4, 5, 6, 7, 8, 2, 2, 6, 2, 7, 6, 6, 2, 4, 5, 6, 7, 4, 1, 2, 3, 4, 5, 6, 7, 8, 1, 1, 1, 3, 4, 5, 6, 7, 8, 1, 1, 2, 3, 4, 5, 6, 7, 8, 1, 2, 3, 4, 5, 6, 7, 8, 1, 3, 6, 8, 1, 2, 3, 4, 5, 6, 7, 8, 3, 2, 3, 4, 6, 3, 3, 5, 4, 8, 3, 7, 1, 5, 5, 1, 2, 3, 4, 6, 7, 8, 1, 2, 3, 6, 7, 8, 5, 3, 8, 3, 1, 2, 4, 6, 7, 8, 1, 2, 3, 5, 8, 1, 2, 3, 4, 5, 6, 7, 8, 4, 5, 6, 7, 8, 1, 4, 1, 2, 3, 4, 5, 6, 7, 8, 2, 3, 5, 6, 7, 3, 6, 7, 2, 1, 5, 4, 6, 1, 2, 3, 4, 5, 6, 7, 1, 2, 3, 4, 5, 6, 7, 8, 1, 2, 3, 4, 5, 6, 7, 8, 6, 2, 8, 6, 5, 7, 1, 2, 3, 4, 5, 6, 7, 8, 2, 3, 1, 2, 3, 4, 5, 6, 7, 8, 1, 3, 4, 6, 7, 8, 6, 1, 2, 3, 4, 5, 8, 1, 2, 3, 4, 5, 6, 7, 8, 1, 2, 3, 4, 5, 6, 7, 8, 1, 2, 3, 4, 5, 6, 7, 8, 4, 1, 2, 3, 4, 5, 6, 7, 8, 2, 1, 2, 3, 4, 5, 6, 7, 8, 1, 7, 8, 1, 2, 3, 4, 5, 6, 7, 8, 7, 3, 1, 2, 3, 4, 5, 6, 7, 8, 1, 2, 3, 4, 5, 6, 7, 8, 4, 7, 6, 1, 2, 3, 4, 5, 6, 7, 8, 1, 2, 3, 4, 5, 6, 7, 8, 1, 3, 4, 5, 6, 7, 8, 1, 2, 3, 4, 5, 6, 7, 8, 1, 2, 4, 5, 2, 1, 2, 3, 4, 5, 6, 7, 8, 1, 2, 3, 4, 5, 6, 7, 8, 5, 1, 1, 6, 1, 6, 7, 8, 4, 1, 2, 3, 4, 6, 7, 8, 1, 2, 3, 4, 5, 6, 7, 8, 1, 2, 3, 4, 5, 6, 7, 8, 1, 3, 4, 6, 8, 1, 2, 3, 4, 5, 6, 7, 8, 1, 2, 3, 4, 5, 6, 7, 8, 1, 2, 3, 4, 5, 6, 7, 8, 1, 2, 3, 4, 5, 6, 7, 8, 1, 2, 3, 4, 5, 6, 7, 8, 1, 2, 3, 4, 1, 2, 3, 4, 5, 6, 7, 8, 3, 7, 5, 8, 5], \"Freq\": [0.9515561459069182, 0.031718538196897274, 0.9738726558091351, 0.9670656450268567, 0.9503360086288196, 0.9796749392687851, 0.9831940011715797, 0.04502836139732486, 0.945595589343822, 0.9645731782311096, 0.7185705785006163, 0.002128047122904096, 0.004965443286776223, 0.07944709258841957, 0.000709349040968032, 0.13052022353811787, 0.008512188491616383, 0.05461987615453846, 0.7858513600520327, 0.006441404590590432, 0.006441404590590432, 0.06441404590590431, 0.06441404590590431, 0.019324213771771296, 0.04508983213413302, 0.9565482362810266, 0.15279618140575832, 0.17536834456797262, 0.1684230635949836, 0.16321410286524185, 0.10852001520295335, 0.10852001520295335, 0.07552993058125554, 0.047748806689299476, 0.9566305163654608, 0.031115236027296638, 0.7000928106141744, 0.07000928106141743, 0.05445166304776912, 0.046672854040944955, 0.0388940450341208, 0.046672854040944955, 0.06071713546543739, 0.2529880644393225, 0.14167331608602057, 0.05059761288786449, 0.020239045155145796, 0.08601594190936963, 0.010119522577572898, 0.3794820966589837, 0.9283940049716244, 0.05527436437486483, 0.027637182187432417, 0.8843898299978373, 0.033105383261935184, 0.033105383261935184, 0.7614238150245093, 0.033105383261935184, 0.08276345815483796, 0.033105383261935184, 0.016552691630967592, 0.08332953251677429, 0.2243487413913154, 0.3504113675064355, 0.1217893167552855, 0.049143057638097655, 0.049143057638097655, 0.03632312955859392, 0.08973949655652616, 0.9695284567252888, 0.9693258684604348, 0.9479218521763523, 0.9565948758343603, 0.03744017176238039, 0.9360042940595097, 0.036247740701415336, 0.036247740701415336, 0.9424412582367987, 0.9505347235606506, 0.01915566567737137, 0.41868812123397425, 0.33385588751990103, 0.01641914200917546, 0.00820957100458773, 0.02189218934556728, 0.03557480768654683, 0.14777227808257914, 0.9823264064718558, 0.9484959422627208, 0.028742301280688512, 0.023709386713971888, 0.047418773427943775, 0.829828534989016, 0.09483754685588755, 0.22949092788285427, 0.08997087513589173, 0.103010132401963, 0.103010132401963, 0.13430434984053402, 0.1616867900992837, 0.0638923606037492, 0.11344153821482, 0.9764531327359529, 0.027227411299997433, 0.009075803766665811, 0.06353062636666068, 0.6080788523666093, 0.027227411299997433, 0.054454822599994866, 0.21781929039997946, 0.9416220981906386, 0.6191609764206699, 0.008111279167083011, 0.01351879861180502, 0.2054857388994363, 0.056778954169581085, 0.02703759722361004, 0.0702977527813861, 0.8160210457949857, 0.008412588100979234, 0.10095105721175081, 0.042062940504896174, 0.008412588100979234, 0.025237764302937702, 0.9810701485511645, 0.9777963750803316, 0.9756863656032775, 0.9460384285431869, 0.023353495961525503, 0.9341398384610201, 0.023353495961525503, 0.9754335045449252, 0.33997884174739657, 0.14417147875603883, 0.09867055106353012, 0.08333315970650472, 0.0639057973209392, 0.1722900295772521, 0.06850701472804682, 0.029141043578348277, 0.29043711232431674, 0.07031635351009774, 0.10394591388449231, 0.1426708621944012, 0.1131176121684181, 0.13146100873626967, 0.11209853458131523, 0.0356677155486003, 0.02032088996448242, 0.04741540991712564, 0.7992883386029751, 0.0067736299881608055, 0.0067736299881608055, 0.013547259976321611, 0.06773629988160806, 0.03386814994080403, 0.9108557376237904, 0.014691221574577263, 0.029382443149154527, 0.014691221574577263, 0.018054145335003886, 0.9749238480902099, 0.02675659792868531, 0.9364809275039858, 0.013378298964342655, 0.013378298964342655, 0.8211685195148207, 0.07185224545754682, 0.010264606493935258, 0.010264606493935258, 0.06158763896361155, 0.020529212987870516, 0.936866669268246, 0.01048923355923396, 0.5042192974087903, 0.3568179626553447, 0.015089774593985698, 0.005520649241702084, 0.019874337270127503, 0.029075419339630978, 0.05888692524482223, 0.013491061722613343, 0.4697342399782646, 0.28331229617488024, 0.006132300783006066, 0.013491061722613343, 0.10056973284129947, 0.06377592814326308, 0.049058406264048525, 0.9447856836104952, 0.020559248165737065, 0.8634884229609567, 0.10279624082868533, 0.21070106328098973, 0.03909916638203933, 0.09448965208992838, 0.16182710530344055, 0.2671776369439354, 0.15748275348321397, 0.06082092548317229, 0.008688703640453184, 0.9803542600289556, 0.95423848615263, 0.9435501727404138, 0.9468767957208148, 0.029589899866275464, 0.9576977064867092, 0.9613824558668921, 0.01680577331688791, 0.01680577331688791, 0.06722309326755165, 0.8907059857950593, 0.01680577331688791, 0.25630030844464813, 0.034544824181669966, 0.08023314003484637, 0.2072689450900198, 0.20392589758856786, 0.11812101171796827, 0.05906050585898413, 0.040116570017423185, 0.9423507717500327, 0.014432212130778587, 0.9380937885006082, 0.028864424261557175, 0.957048940550879, 0.0633194744534758, 0.02216181605871653, 0.053821553285454425, 0.2501119240912294, 0.1614646598563633, 0.35775503066213826, 0.0316597372267379, 0.0633194744534758, 0.9855437186630889, 0.965869334980648, 0.9516055623951122, 0.9587477312661368, 0.9810296409048795, 0.91524545382618, 0.05720284086413625, 0.06395599509700445, 0.16628558725221157, 0.025582398038801777, 0.04476919656790311, 0.6779335480282471, 0.019186798529101334, 0.9797092465911641, 0.9240152923101761, 0.0013915892956478555, 0.013220098308654627, 0.02435281267383747, 0.004174767886943567, 0.01530748225212641, 0.00626215183041535, 0.011828509013006772, 0.9405790962753825, 0.9438383589702717, 0.013854409903628585, 0.5974714270939827, 0.03983142847293218, 0.01039080742772144, 0.0069272049518142925, 0.05368583837656077, 0.1558621114158216, 0.12122608665675012, 0.9492074114845112, 0.9456894678568742, 0.02849020911925061, 0.0961544557774708, 0.45228206976810337, 0.06410297051831386, 0.01780638069953163, 0.1495735978760657, 0.153134874015972, 0.039174037538969586, 0.02071073747407062, 0.08284294989628248, 0.8905617113850366, 0.008267413360497682, 0.1529471471692071, 0.045470773482737245, 0.6448582421188191, 0.01240112004074652, 0.11161008036671868, 0.016534826720995363, 0.004133706680248841, 0.10695677914036006, 0.13212308011456242, 0.5976996481373061, 0.03774945146130355, 0.012583150487101182, 0.018874725730651774, 0.05033260194840473, 0.04404102670485414, 0.1017508658747156, 0.009690558654734819, 0.0532980726010415, 0.06298863125577632, 0.615350474575661, 0.09206030721998078, 0.019381117309469637, 0.0484527932736741, 0.9574508684916352, 0.0079704391388261, 0.0637635131106088, 0.7571917181884794, 0.10361570880473929, 0.0637635131106088, 0.0079704391388261, 0.37478174459170854, 0.028585048316316752, 0.063522329591815, 0.063522329591815, 0.038113397755089005, 0.14292524158158376, 0.266793784285623, 0.019056698877544503, 0.012014883976308833, 0.012014883976308833, 0.8290269943653095, 0.024029767952617666, 0.08410418783416183, 0.024029767952617666, 0.024029767952617666, 0.8370624866704875, 0.04292628136771731, 0.032194711025787984, 0.04292628136771731, 0.010731570341929328, 0.04292628136771731, 0.1583437344303686, 0.0791718672151843, 0.7521327385442509, 0.9717790151216583, 0.9447913981877156, 0.03527368756098677, 0.008818421890246692, 0.03527368756098677, 0.03527368756098677, 0.7583842825612155, 0.026455265670740077, 0.09700264079271362, 0.008818421890246692, 0.9828217020369191, 0.8058514994104711, 0.03040949054379136, 0.01520474527189568, 0.1317744590230959, 0.005068248423965227, 0.005068248423965227, 0.010136496847930453, 0.07680765263719146, 0.8256822658498082, 0.019201913159297864, 0.057605739477893596, 0.0091058983198487, 0.0728471865587896, 0.0546353899190922, 0.6647305773489551, 0.1365884747977305, 0.0182117966396974, 0.0364235932793948, 0.029440483020830892, 0.9126549736457577, 0.029440483020830892, 0.029440483020830892, 0.959815525439323, 0.9509347977350334, 0.9711165943410691, 0.1757447030899703, 0.16357776210681851, 0.15005893879220542, 0.12978070382028575, 0.06489035191014288, 0.16357776210681851, 0.06083470491575895, 0.09057611620790777, 0.0124241603416123, 0.3478764895651444, 0.6336321774222272, 0.06265308623913371, 0.015663271559783427, 0.877143207347872, 0.015663271559783427, 0.031326543119566855, 0.9552696191946626, 0.04684879896138765, 0.936975979227753, 0.09841953664867613, 0.8857758298380851, 0.960302014078385, 0.9727626782445733, 0.9450371262212688, 0.2815956937564061, 0.016564452573906242, 0.621166971521484, 0.033128905147812485, 0.008282226286953121, 0.0414111314347656, 0.9765898472182396, 0.03418522068214051, 0.9571861790999343, 0.9698659832570241, 0.962072816865544, 0.9415428467437531, 0.025532071279368407, 0.10212828511747363, 0.6638338532635786, 0.01702138085291227, 0.01702138085291227, 0.10212828511747363, 0.05957483298519294, 0.9583484430304903, 0.03725403073579476, 0.9499777837627663, 0.1412873334380021, 0.11255092663705252, 0.1269191300375273, 0.12452442947078152, 0.06944631643562815, 0.05268341246840756, 0.19157604533966385, 0.17960254250593488, 0.9637412729881727, 0.08954505056960121, 0.8656021555061452, 0.9713153420470549, 0.24087781498509592, 0.0936747058275373, 0.6557229407927612, 0.9369495295498385, 0.9351824141076001, 0.1299890786740325, 0.8088209339717578, 0.028886461927562775, 0.014443230963781388, 0.024920109441386635, 0.024920109441386635, 0.12460054720693317, 0.7974435021243723, 0.981285818099206, 0.9630366645144594, 0.9561183214297567, 0.061005689313880514, 0.9150853397082077, 0.9797667229680533, 0.9717982171673873, 0.9145683565787024, 0.07839157342103163, 0.9666176538199727, 0.11194557282675066, 0.05113563203197252, 0.03316905861533353, 0.5846046580952534, 0.017966573416638994, 0.1312941903523619, 0.04422541148711137, 0.026258838070472378, 0.06775457238173209, 0.019358449251923454, 0.02903767387788518, 0.745300296199053, 0.12582992013750247, 0.009679224625961727, 0.9827217141346273, 0.9684731823408115, 0.08787877616939628, 0.0909803800341985, 0.2026381191670785, 0.04549019001709925, 0.3256684058042333, 0.04135471819736296, 0.154046325285177, 0.050659529791769624, 0.9706981510930628, 0.010189761124402879, 0.845750173325439, 0.010189761124402879, 0.061138566746417274, 0.061138566746417274, 0.9152277669267251, 0.96421722039309, 0.21166981537188942, 0.3292641572451613, 0.08338507878286552, 0.05131389463560956, 0.04276157886300796, 0.04276157886300796, 0.16463207862258064, 0.07483276301026394, 0.0736358812730975, 0.5662345353069221, 0.033009188156905775, 0.05586170303476362, 0.007617504959285948, 0.07109671295333551, 0.13965425758690905, 0.05332253471500164, 0.036057250490601184, 0.007211450098120237, 0.036057250490601184, 0.021634350294360713, 0.8004709608913463, 0.09374885127556308, 0.00499830653183241, 0.03498814572282687, 0.00499830653183241, 0.01499491959549723, 0.9346833214526606, 0.00499830653183241, 0.9547708394604153, 0.9582695146349534, 0.13527277491691275, 0.10145458118768456, 0.1701157623955115, 0.23365297485648567, 0.11067772493201952, 0.14859509365872992, 0.06251241871160362, 0.03894216247608094, 0.28206096693073807, 0.17562286620215767, 0.07024914648086307, 0.14475581699086937, 0.07024914648086307, 0.12559695885972488, 0.08302171856829271, 0.05002590734243279, 0.19387451802393843, 0.16136861081034395, 0.16020768555271558, 0.11841437627809413, 0.17878248967476956, 0.03366683247122284, 0.034827757728851216, 0.11841437627809413, 0.022920132634894817, 0.9397254380306875, 0.9372215914799313, 0.021300490715452983, 0.021300490715452983, 0.9373242864824585, 0.44316629540489205, 0.07666589920506571, 0.020568899786724947, 0.10097459895301338, 0.024308699747947665, 0.19446959798358132, 0.11593379879790425, 0.022438799767336308, 0.3014602108059085, 0.08087956875280472, 0.01838172017109198, 0.09190860085545992, 0.02205806420531038, 0.31984193097700053, 0.1139666650607703, 0.05146881647905755, 0.2613660344449662, 0.2502912024769592, 0.09302858853125916, 0.08195375656325211, 0.026579596723216904, 0.08416872295685353, 0.03986939508482536, 0.16169254673290281, 0.9598454656664533, 0.9720225482326671, 0.017053027161976618, 0.04490528567746931, 0.40414757109722377, 0.14447787565794473, 0.06833413037875764, 0.03123845960171778, 0.11519181978133432, 0.08004855272940181, 0.1112870123311196, 0.03641069639159665, 0.8920620615941178, 0.05461604458739497, 0.12809482866179783, 0.22786099329262113, 0.13917995806522263, 0.19091056194787176, 0.08129094895844861, 0.10346120776529824, 0.036950431344749374, 0.09114439731704845, 0.23828177513824342, 0.12141746503859538, 0.1403889439508759, 0.06981504239719234, 0.05539671842385914, 0.22538116947789266, 0.08802766215298165, 0.06070873251929769, 0.9649336815909106, 0.08433325203063329, 0.010119990243675995, 0.02023998048735199, 0.1720398341424919, 0.4925061918588984, 0.13493320324901326, 0.05734661138083064, 0.03035997073102798, 0.971359726633909, 0.038934140236981114, 0.012978046745660372, 0.038934140236981114, 0.1427585142022641, 0.6943255008928298, 0.019467070118490557, 0.038934140236981114, 0.006489023372830186, 0.026474040565711083, 0.9530654603655989, 0.9335184227726535, 0.9706109432589152, 0.9577736854898086, 0.9809294999228324, 0.9573884739541443, 0.9085234598150894, 0.033649017030188494, 0.033649017030188494, 0.9486645116226591, 0.02297198971082194, 0.9648235678545215, 0.9378735393077942, 0.07582131730110922, 0.1378569405474713, 0.43080293921084784, 0.027571388109494263, 0.05169635270530174, 0.1413033640611581, 0.09649985838322991, 0.034464235136867825, 0.07025778267429174, 0.06323200440686257, 0.07201422724114903, 0.04742400330514692, 0.08782222834286467, 0.049180447872004214, 0.5936782635977652, 0.01580800110171564, 0.9502582293167475, 0.021116849540372167, 0.0336439277540852, 0.5677412808501877, 0.03784941872334585, 0.05467138260038845, 0.06308236453890975, 0.13878120198560145, 0.0756988374466917, 0.02102745484630325, 0.0014570905629823802, 0.0072854528149119005, 0.0029141811259647604, 0.04516980745245378, 0.01894217731877094, 0.005828362251929521, 0.9092245113010052, 0.00874254337789428, 0.033179267052297824, 0.9290194774643391, 0.033179267052297824, 0.005765088183986521, 0.017295264551959566, 0.03459052910391913, 0.017295264551959566, 0.017295264551959566, 0.8935886685179109, 0.011530176367973042, 0.9807211532880183, 0.9508621426707053, 0.020670916145015334, 0.9783613421294622, 0.9888371610524691, 0.16967645430423683, 0.07994924457047091, 0.13689151228613006, 0.2444491290823751, 0.09490377952609856, 0.11791075638091034, 0.10755761679624504, 0.04888982581647502, 0.01909396617521133, 0.045825518820507186, 0.2596779399828741, 0.5002619137905367, 0.022912759410253593, 0.11838259028631024, 0.007637586470084531, 0.02673155264529586, 0.10589423709045852, 0.08652334006171611, 0.11751677530770396, 0.18208643207017866, 0.14334463801269384, 0.1343048860659474, 0.1304307066601989, 0.10072866454946054, 0.12897317036227773, 0.2033807686482072, 0.5307742011062968, 0.039684052419162376, 0.009921013104790594, 0.004960506552395297, 0.07936810483832475, 0.9869900200147386, 0.20202902286671304, 0.15913852752897747, 0.05235598396399445, 0.12127657302394193, 0.19907105767100713, 0.03786195450503553, 0.17392835350750696, 0.05442655960098858, 0.16892564246690167, 0.05882232193043898, 0.12367770252041016, 0.2956198743170779, 0.057314057265555926, 0.19154961244014745, 0.07692149790903559, 0.027148763967894913, 0.9447875578870409, 0.960009814789173, 0.9668129735958505, 0.9546904465425838, 0.027672186856306777, 0.15513457613030998, 0.08482033318293572, 0.10134115817343627, 0.146269743208578, 0.21718840658243396, 0.10416178683035099, 0.12068261182085153, 0.07051571642286818, 0.962144616316963, 0.05018879538215061, 0.10037759076430122, 0.8281151238054851, 0.967409815940526, 0.866800488865796, 0.014446674814429933, 0.02407779135738322, 0.038524466171813154, 0.009631116542953289, 0.0433400244432898, 0.10550907006301574, 0.026377267515753935, 0.8440725605041259, 0.9400650127288102, 0.088079159371761, 0.14905703893682629, 0.02032595985502177, 0.013550639903347846, 0.6572060353123705, 0.07452851946841314, 0.9832909078909231, 0.973194976497123, 0.014147979421247094, 0.014147979421247094, 0.09903585594872966, 0.014147979421247094, 0.7639908887473431, 0.04244393826374128, 0.04244393826374128, 0.8073507599799078, 0.031869108946575304, 0.013278795394406377, 0.04514790434098168, 0.010623036315525101, 0.06108245881426934, 0.0026557590788812754, 0.031869108946575304, 0.974145004842854, 0.9867199845998085, 0.10033834751982734, 0.12349335079363365, 0.4888278468914665, 0.05145556283068069, 0.03087333769840841, 0.046310006547612616, 0.06174667539681682, 0.09776556937829331, 0.06787211241705898, 0.022624037472352993, 0.045248074944705986, 0.045248074944705986, 0.7918413115323548, 0.1178206367063142, 0.30436997815797834, 0.1456393981508606, 0.07200150020941423, 0.11291144351021777, 0.04090994330080354, 0.08836547752973566, 0.1178206367063142, 0.04798445780032328, 0.6174000236974928, 0.2335243612949066, 0.0031989638533548854, 0.006397927706709771, 0.012795855413419542, 0.03838756624025862, 0.03838756624025862, 0.9501488850371008, 0.035961586578834095, 0.035961586578834095, 0.9350012510496865, 0.007400723172577409, 0.7030687013948538, 0.022202169517732226, 0.014801446345154817, 0.029602892690309635, 0.0814079548983515, 0.04440433903546445, 0.09620940124350631, 0.9366235131262135, 0.007723560365428269, 0.03861780182714134, 0.03861780182714134, 0.9113801231205357, 0.9719026234886442, 0.9582036353248974, 0.9531276348242202, 0.003674592454221572, 0.635704494580332, 0.18005503025685704, 0.03307133208799415, 0.011023777362664716, 0.022047554725329432, 0.058793479267545155, 0.051444294359102014, 0.9170438116567464, 0.052189485216237605, 0.0074556407451768, 0.0074556407451768, 0.0074556407451768, 0.9547339741676127, 0.0765204494646936, 0.5194115357603445, 0.2249237453962206, 0.03246322098502153, 0.011594007494650546, 0.0255068164882312, 0.037100823982881746, 0.07420164796576349, 0.9539311486829338, 0.9562633709506944, 0.9417170275943397, 0.8393538849743379, 0.04937375793966694, 0.02468687896983347, 0.016457919313222314, 0.0740606369095004, 0.04717593518718416, 0.9435187037436833, 0.9558996528372079, 0.9706971793296348, 0.07901005354539911, 0.05773811605240704, 0.1489035624509445, 0.1276316249579524, 0.21575822314320528, 0.09420429461182202, 0.2552632499159048, 0.02127193749299207, 0.04209942699528775, 0.025259656197172648, 0.00841988539905755, 0.025259656197172648, 0.6904306027227191, 0.0336795415962302, 0.1515579371830359, 0.025259656197172648, 0.21776501933973577, 0.14886761209100582, 0.1833163157153708, 0.1316432602788233, 0.044291190374183546, 0.09719455665445834, 0.0775095831548212, 0.09965517834191298, 0.975131990318705, 0.9560281903675221, 0.9653940864628111, 0.01632545578548155, 0.9468764355579299, 0.01632545578548155, 0.9365624972328606, 0.054678802160718167, 0.0328072812964309, 0.14216488561786725, 0.04374304172857454, 0.07655032302500543, 0.568659542471469, 0.07655032302500543, 0.01799421784420701, 0.8637224565219366, 0.08997108922103506, 0.02003785766685252, 0.708004304228789, 0.1469442895569185, 0.0333964294447542, 0.02671714355580336, 0.0333964294447542, 0.02003785766685252, 0.02003785766685252, 0.12382582406076813, 0.8314019615508718, 0.01768940343725259, 0.055038637349229404, 0.013759659337307351, 0.7980602415638263, 0.09631761536115145, 0.027519318674614702, 0.013759659337307351, 0.013759659337307351, 0.9379279417663303, 0.02534940383152244, 0.04004709831021372, 0.9210832611349156, 0.0079893080495133, 0.1198396207426995, 0.0079893080495133, 0.8388773451988966, 0.0239679241485399, 0.9441166947475197, 0.08116922742774073, 0.37318047244217384, 0.2999301940317736, 0.05345290586704877, 0.013858160780345977, 0.025736584306356815, 0.03167579606936223, 0.12175384114161109, 0.2796190946248798, 0.13298080335630533, 0.061458695605211375, 0.11393220179445618, 0.09380537750269105, 0.13585606396941463, 0.09021130173630441, 0.0923677471961364, 0.9844788884206418, 0.7917549208397098, 0.009100631274019652, 0.05157024388611136, 0.03943606885408516, 0.009100631274019652, 0.04550315637009826, 0.012134175032026203, 0.04246961261209171, 0.9380794820356724, 0.03179930447578551, 0.015899652237892754, 0.7360897346102488, 0.0056190056077118225, 0.02247602243084729, 0.09552309533110098, 0.0056190056077118225, 0.06180906168483005, 0.011238011215423645, 0.05619005607711823, 0.09555650299547735, 0.07470781143282776, 0.1572338822016491, 0.1702643144283051, 0.1363851906389995, 0.10250606684969389, 0.20327474273583365, 0.05907129276084055, 0.4715984116834271, 0.03838591723004639, 0.043869619691481586, 0.15080181768946796, 0.027418512307175992, 0.12612515661300958, 0.06032072707578718, 0.08499738815224557, 0.9533620342570021, 0.15659426951819244, 0.14306143141168198, 0.0753972408791297, 0.2648569743702761, 0.0792637660524184, 0.10246291709215062, 0.08893007898564016, 0.08893007898564016, 0.9729554440422847, 0.2472023871230353, 0.06250022617827684, 0.13572810311849673, 0.15904908303576423, 0.12826538954497116, 0.10028021364425017, 0.11473922119295601, 0.05223899501467916, 0.9535637894075142, 0.7932913278921568, 0.015110311007469653, 0.015110311007469653, 0.02266546651120448, 0.030220622014939306, 0.02266546651120448, 0.10577217705228757, 0.14338815585521322, 0.19165743604409688, 0.10647635335783161, 0.16184405710390404, 0.21295270671566321, 0.062466127303261204, 0.08802045210914079, 0.034072433074506116, 0.13560624878688254, 0.213609843221815, 0.07800359443493245, 0.11040508750790438, 0.18360846074684098, 0.11160514280690334, 0.058802709650949074, 0.1068049216109075, 0.9292027625680888, 0.9389324767137053, 0.15551058566175127, 0.2738131170854148, 0.16982137575332346, 0.09826742529546245, 0.08300258253111877, 0.06105937105737473, 0.07918637184003285, 0.07918637184003285, 0.9868438611086779, 0.9674755775402912, 0.9564557634776524, 0.9610144048689834, 0.9668210285584034, 0.023737234296595675, 0.949489371863827, 0.04327509447909986, 0.9520520785401968, 0.9504203536305453, 0.2456702781181209, 0.09358867737833178, 0.023397169344582944, 0.04679433868916589, 0.023397169344582944, 0.011698584672291472, 0.5615320642699906, 0.07310925934610113, 0.8919329640224338, 0.014621851869220225, 0.014621851869220225, 0.948368652279826, 0.1830321260914316, 0.028158788629451016, 0.028158788629451016, 0.7039697157362754, 0.05631757725890203, 0.9384275575101, 0.9672830107571515, 0.07737598592781843, 0.9091678346518665, 0.039015955911317644, 0.5292919301931582, 0.02650140401523463, 0.1847736779951081, 0.031654454795974694, 0.07067041070729234, 0.10379716572633563, 0.01398685211915161, 0.2582178021858982, 0.07245514449395353, 0.14028549253084618, 0.09095433032219698, 0.10559951910288971, 0.07476754272248395, 0.16957587009223166, 0.0878711326841564, 0.7272180838222213, 0.032650607845079324, 0.04551296851132269, 0.09993064825312156, 0.008904711230476179, 0.035618844921904716, 0.02869295840931213, 0.02077765953777775, 0.17014409003902062, 0.206693561232588, 0.11847069973087361, 0.06049567645831844, 0.04537175734373883, 0.21173486760411453, 0.13485494543833484, 0.05293371690102863, 0.9632344532056604, 0.0740528648252945, 0.06849889996339742, 0.09071475941098577, 0.17217291071880972, 0.32027864036939874, 0.0740528648252945, 0.12218722696173592, 0.07775550806655923, 0.20909507376284664, 0.10979878302615234, 0.15467306826292765, 0.1288942235524397, 0.10788923897352361, 0.08688425439460751, 0.038190881052574725, 0.16422078852607133, 0.9668090884990854, 0.14506248718192635, 0.027288982737194066, 0.08904825945821222, 0.2039492394042925, 0.2901249743638527, 0.08904825945821222, 0.09622957070484224, 0.05888675222236615, 0.9702200074203995, 0.9277757918803053, 0.9627938936478821, 0.004451698014116898, 0.39620112325640394, 0.09348565829645486, 0.004451698014116898, 0.031161886098818287, 0.05342037616940278, 0.035613584112935186, 0.3783943311999364, 0.041205847207986215, 0.9477344857836829, 0.045535130015388954, 0.045535130015388954, 0.022767565007694477, 0.09107026003077791, 0.7740972102616123, 0.22461469775764317, 0.060291313608630534, 0.12649354031614643, 0.18914921916433108, 0.16668774938856679, 0.07447750504595536, 0.09575679220194262, 0.06147349622840761, 0.28612074131414655, 0.13430715486161182, 0.0681109604084345, 0.08972046190347999, 0.12391271110450132, 0.16767879008180864, 0.06975218837008353, 0.060178358593797554, 0.9852661250852155, 0.973602786037539, 0.924414517414004, 0.9404904457915434, 0.9616197699412611, 0.9655791908601126, 0.967142961507797, 0.9226440450569016, 0.015377400750948358, 0.061509603003793434, 0.007831759414948854, 0.09398111297938624, 0.697026587930448, 0.007831759414948854, 0.054822315904641976, 0.031327037659795415, 0.10181287239433509, 0.06845588789309039, 0.9241544865567203, 0.9562596992687756, 0.9405312295976211, 0.11320537771565298, 0.24452361586581045, 0.19018503456229702, 0.09660192231735722, 0.02867869568796542, 0.07999846691906144, 0.08754549210010497, 0.15848752880191416, 0.2467011494496941, 0.014511832320570241, 0.15237423936598754, 0.0072559161602851205, 0.5732173766625245, 0.9494671355937385, 0.03651796675360532, 0.9399077709667791, 0.24060710459063858, 0.020922356920925093, 0.0496905976871971, 0.1281494361406662, 0.08892001691393166, 0.0784588384534691, 0.36091065688595786, 0.03399882999650328, 0.3356621881555498, 0.012431932894649994, 0.012431932894649994, 0.1823350157881999, 0.016575910526199993, 0.09116750789409996, 0.3315182105239998, 0.012431932894649994, 0.013488145775468804, 0.5754942197533356, 0.035968388734583474, 0.04496048591822935, 0.035968388734583474, 0.03147234014276054, 0.13488145775468804, 0.13038540916286512, 0.978233040623611, 0.018696797218955855, 0.9535366581667485, 0.02101696529229532, 0.02101696529229532, 0.9037295075686987, 0.04203393058459064, 0.9635519779445989, 0.011038072140439914, 0.08830457712351931, 0.7505889055499142, 0.011038072140439914, 0.011038072140439914, 0.011038072140439914, 0.13245686568527898, 0.19774824460853224, 0.09355830927715504, 0.01701060168675546, 0.17861131771093233, 0.12970583786151038, 0.1041899353313772, 0.24240107403626532, 0.03402120337351092, 0.12795280246225554, 0.028789380554007496, 0.009596460184669165, 0.14288062941618535, 0.5171425766182828, 0.08530186830817035, 0.07783795483120545, 0.011729006892373424, 0.0999245793199431, 0.004946761352472431, 0.07914818163955889, 0.25030612443510497, 0.37199645370592677, 0.12169032927082178, 0.049467613524724306, 0.02275510222137318, 0.9477903686190412, 0.020984061838581293, 0.041968123677162586, 0.9023146590589955, 0.9634359929699816, 0.08342802322086498, 0.03792182873675681, 0.118821730041838, 0.18455289985221648, 0.37921828736756813, 0.1213498519576218, 0.04803431639989196, 0.025281219157837875, 0.11434908918786815, 0.8719118050574947, 0.18278670942637018, 0.025624305059771518, 0.03929060109164966, 0.2442850415698218, 0.29553365168936485, 0.0802894891872841, 0.09395578521916224, 0.03587402708368013, 0.9689714732580692, 0.9401048097314002, 0.923312082190044, 0.8360461409180647, 0.004804862878839453, 0.004804862878839453, 0.028829177273036716, 0.0816826689402707, 0.014414588636518358, 0.004804862878839453, 0.024024314394197263, 0.0223429742027421, 0.9384049165151682, 0.8826399018809004, 0.011927566241633788, 0.04771026496653515, 0.011927566241633788, 0.04771026496653515, 0.013425219630035793, 0.5101583459413601, 0.2559741876126825, 0.005817595173015511, 0.024165395334064428, 0.038485629606102606, 0.041170673532109764, 0.1109818156082959, 0.003364733633373701, 0.528263180439671, 0.27590815793664347, 0.006729467266747402, 0.006729467266747402, 0.06056520540072662, 0.023553135433615906, 0.09421254173446363, 0.024762446492258852, 0.5107254589028388, 0.28167282884944445, 0.00928591743459707, 0.013928876151895605, 0.0789302981940751, 0.041786628455686814, 0.04023897554992063, 0.20596471139863834, 0.14259095404521116, 0.11769412079922191, 0.15390769642975172, 0.047530318015070384, 0.0656371058303353, 0.0837438936456002, 0.1833312266295572, 0.0991230136971924, 0.08326333150564161, 0.12357335707583318, 0.3350357862965103, 0.07202938995329314, 0.12753827762372089, 0.07599431050118084, 0.08260251141432699, 0.04566023442205791, 0.011415058605514478, 0.03995270511930067, 0.5536303423674521, 0.21688611350477507, 0.1027355274496303, 0.022830117211028955, 0.011415058605514478, 0.011813834028951918, 0.9451067223161534, 0.03544150208685575, 0.11604725182811364, 0.21275329501820833, 0.22293287851190252, 0.1313166270686549, 0.13233458541802431, 0.027484875432974284, 0.09975991823820295, 0.05802362591405682, 0.9439962252972663, 0.8029010718153669, 0.02807346404948835, 0.04491754247918136, 0.01684407842969301, 0.03930284966928369, 0.02807346404948835, 0.00561469280989767, 0.03368815685938602, 0.8466112177236793, 0.03135597102680294, 0.007838992756700735, 0.007838992756700735, 0.03135597102680294, 0.01567798551340147, 0.047033956540204404, 0.8699499371028077, 0.01359296776723137, 0.040778903301694105, 0.02718593553446274, 0.01359296776723137, 0.040778903301694105, 0.932504702583679, 0.9352139556517375, 0.025978165434770484, 0.025978165434770484, 0.027137784899250655, 0.013568892449625327, 0.013568892449625327, 0.8955469016752716, 0.05427556979850131, 0.9478838877403022, 0.9707433723429543, 0.9507091459588556, 0.011938228343516833, 0.023876456687033667, 0.7401701572980437, 0.023876456687033667, 0.023876456687033667, 0.023876456687033667, 0.08356759840461783, 0.08356759840461783, 0.030941127069990988, 0.9282338120997297, 0.9340229924706089, 0.9686006120727196, 0.924381721168073, 0.9249476818195961, 0.9754391606625749, 0.7596275024826388, 0.015192550049652774, 0.027346590089374994, 0.04557765014895832, 0.00607702001986111, 0.05165467016881944, 0.033423610109236106, 0.060770200198611096, 0.9425173826791208, 0.9748689470800994, 0.976721444409894, 0.9771347687025821, 0.9724919238321946, 0.9657034405087538, 0.9544262744571231, 0.014962219630702513, 0.029924439261405027, 0.07481109815351257, 0.07481109815351257, 0.8229220796886383, 0.026106568296826334, 0.6069777129012123, 0.05873977866785925, 0.07179306281627242, 0.026106568296826334, 0.10442627318730534, 0.0391598524452395, 0.07179306281627242, 0.9757484343120053, 0.015473577946682871, 0.0051578593155609575, 0.010315718631121915, 0.061894311786731486, 0.08252574904897532, 0.7994681939119485, 0.02063143726224383, 0.9844954433464923, 0.09448831958928255, 0.12555297260493709, 0.15402890453595375, 0.12814169368957498, 0.023298489761740905, 0.3119408906988643, 0.11778680935102347, 0.04530261898116287, 0.0537096477330005, 0.2566127613910024, 0.035806431822000336, 0.40879009663450383, 0.035806431822000336, 0.07758060228100072, 0.12532251137700118, 0.005967738637000056, 0.9466520752816702, 0.964046102345384, 0.047942022123185664, 0.05520596486912288, 0.33268857776392474, 0.029055770983748886, 0.05811154196749777, 0.2658603045013023, 0.12929818087768255, 0.07990337020530944, 0.023197205497161498, 0.023197205497161498, 0.0417549698948907, 0.6124062251250636, 0.0974282630880783, 0.0695916164914845, 0.10206770418751059, 0.0278366465965938, 0.2172432790627994, 0.03558295088097576, 0.04869245910028262, 0.12360393463917896, 0.2921547546016957, 0.14420459041237546, 0.09363934442362043, 0.04494688532333781, 0.9700495312700969, 0.941376455348633, 0.9712355420239231, 0.013261061577199541, 0.026522123154399082, 0.8752300640951697, 0.07956636946319724, 0.015975433225108193, 0.9745014267315997, 0.9520398830245919, 0.02115644184499093, 0.02115644184499093, 0.982013769970357, 0.04276812859432338, 0.0315133579116067, 0.04727003686741005, 0.35114884530076035, 0.060775761686670066, 0.3106316708429803, 0.09003816546173343, 0.0630267158232134, 0.07747453724083285, 0.01549490744816657, 0.898704631993661, 0.01549490744816657, 0.9606450482419236, 0.228474942676798, 0.056239985889673355, 0.11775247045650358, 0.23550494091300717, 0.06502748368493481, 0.2038699488500659, 0.06502748368493481, 0.028119992944836678, 0.8856859103128617, 0.023618290941676313, 0.023618290941676313, 0.011809145470838157, 0.03542743641251447, 0.023618290941676313, 0.057825660598097677, 0.896297739270514, 0.8858562116953876, 0.008357134072597996, 0.008357134072597996, 0.050142804435587975, 0.01671426814519599, 0.008357134072597996, 0.008357134072597996, 0.09352642722118447, 0.8651194517959564, 0.023381606805296117, 0.038473317698142745, 0.035513831721362535, 0.02071640183746148, 0.18644761653715333, 0.5830187374257016, 0.035513831721362535, 0.08582509332662613, 0.011837943907120846, 0.11844856094325604, 0.029092629003606745, 0.04571698843423917, 0.05610721307838444, 0.4800283785595113, 0.08727788701082023, 0.155853369662179, 0.029092629003606745, 0.9423458278923625, 0.02944830712163633, 0.043612339167651934, 0.051789652761586674, 0.23441632302612914, 0.3270925437573895, 0.1826266702645425, 0.04633811036563018, 0.1063050767211516, 0.010903084791912983, 0.8629723400155386, 0.0035660014050228864, 0.0035660014050228864, 0.05705602248036618, 0.0017830007025114432, 0.04635801826529753, 0.01069800421506866, 0.014264005620091546, 0.8544703135056858, 0.0032822163130820196, 0.005470360521803366, 0.07439690309652577, 0.0021881442087213466, 0.02735180260901683, 0.020787369982852792, 0.013128865252328079, 0.9439285690892056, 0.02247448974021918, 0.07744947568399058, 0.8984139179342907, 0.015489895136798116, 0.8092827951791657, 0.04538034365490649, 0.030253562436604323, 0.007563390609151081, 0.015126781218302162, 0.09076068730981297, 0.5567194291527157, 0.0018619378901428617, 0.009309689450714309, 0.1601266585522861, 0.1452311554311432, 0.026067130462000064, 0.040962633583142956, 0.05772007459442871, 0.9681705181020382, 0.6363008352198375, 0.00497110027515498, 0.00497110027515498, 0.044739902476394824, 0.05468210302670479, 0.12427750687887451, 0.05468210302670479, 0.06959540385216972, 0.9720281664960392, 0.9745236923796812, 0.9676882486383259, 0.9424138683087199, 0.040974516013422606, 0.9692755079048336, 0.956656984462198, 0.01818185116306384, 0.01818185116306384, 0.8727288558270643, 0.05454555348919152, 0.03636370232612768, 0.9656673000773258, 0.20748929455917703, 0.07395658023891459, 0.11196204508391236, 0.16640230553755783, 0.11401639453499332, 0.1263424912414791, 0.11298921980945284, 0.08628267694540036, 0.9914683332986209, 0.9669921103385292, 0.014457899186077648, 0.13012109267469882, 0.04337369755823294, 0.11566319348862118, 0.6795212617456494, 0.014457899186077648, 0.014457899186077648, 0.9841974473326218, 0.028768348452581707, 0.297272934010011, 0.16621712439269432, 0.009589449484193902, 0.0031964831613979674, 0.12466284329452074, 0.08950152851914309, 0.27809403504162317, 0.0442446852036281, 0.33313645329790564, 0.2116804546997109, 0.02602628541389888, 0.015615771248339329, 0.07981394193595656, 0.07634377054743671, 0.2142830832411008, 0.9799628737247218, 0.9319472292310907, 0.0358441242011958, 0.9610171988402456, 0.05088889319071585, 0.012722223297678963, 0.012722223297678963, 0.025444446595357925, 0.8269445143491325, 0.03816666989303689, 0.025444446595357925, 0.025444446595357925, 0.942487965378642, 0.0734460137039738, 0.8813521644476856, 0.024482004567991267, 0.024482004567991267, 0.9637161241828843, 0.02572113157550732, 0.9516818682937709, 0.10739651889185699, 0.8591721511348559, 0.9228959651391464, 0.07482940257884971, 0.9655297052514223, 0.9424993005628113, 0.9560373640971827, 0.02071219534500151, 0.05178048836250377, 0.7767073254375566, 0.031068293017502264, 0.010356097672500755, 0.06213658603500453, 0.05178048836250377, 0.045451157351313685, 0.011362789337828421, 0.6817673602697053, 0.045451157351313685, 0.07953952536479895, 0.12499068271611263, 0.9721128028185632, 0.9579262760369294, 0.028174302236380275, 0.9371419461614647, 0.013048972301479311, 0.8090362826917173, 0.013048972301479311, 0.03914691690443793, 0.09134280611035518, 0.026097944602958622, 0.014034330951011103, 0.0421029928530333, 0.8139911951586439, 0.014034330951011103, 0.11227464760808882, 0.24921969836869579, 0.18721288346356574, 0.18244312847086344, 0.1025497323430997, 0.042927794934320807, 0.11089680358032875, 0.07512364113506141, 0.05008242742337427, 0.019201394251982737, 0.17281254826784462, 0.019201394251982737, 0.7680557700793095, 0.019201394251982737, 0.025065367097037296, 0.9524839496874172, 0.18383012557188028, 0.11687602232844783, 0.12509845606009742, 0.1679725748036989, 0.05990630290201849, 0.18265549218164462, 0.11041553868215173, 0.05344581925572238, 0.19172515966585268, 0.608518985026402, 0.09169464157932085, 0.02500762952163296, 0.07502288856489887, 0.02972878191692673, 0.05945756383385346, 0.8918634575078019, 0.9792040603275359, 0.09733567142453749, 0.8954881771057449, 0.9594411602239408, 0.022312585121486997, 0.0252968179243641, 0.006324204481091025, 0.006324204481091025, 0.16442931650836665, 0.6450688570712845, 0.018972613443273074, 0.12648408962182048, 0.7501723809099137, 0.0071786830709082644, 0.017946707677270662, 0.06819748917362851, 0.014357366141816529, 0.1005015629927157, 0.025125390748178926, 0.014357366141816529, 0.8432964236354072, 0.005173597691014768, 0.005173597691014768, 0.05173597691014769, 0.010347195382029536, 0.05690957460116246, 0.020694390764059073, 0.015520793073044306, 0.9527977751793836, 0.9683644069087439, 0.9639097133788561, 0.9527207054323888, 0.984084175617652, 0.9554256730361984, 0.1884781926161164, 0.056423407980620836, 0.11284681596124167, 0.10564382770839646, 0.1764732121947077, 0.2268941299646242, 0.036014941264226066, 0.09724034141341037, 0.03209850195032672, 0.9629550585098016, 0.0708894137330807, 0.019333476472658373, 0.012888984315105581, 0.09022289020573908, 0.6380047235977263, 0.10311187452084465, 0.025777968630211163, 0.04511144510286954, 0.10162383116036261, 0.060974298696217566, 0.040649532464145044, 0.040649532464145044, 0.020324766232072522, 0.7316915843546108, 0.9805202783911922, 0.007950299967435376, 0.01590059993487075, 0.007950299967435376, 0.007950299967435376, 0.9460856961248096, 0.007950299967435376, 0.05667944389477877, 0.03214655026868049, 0.08036637567170124, 0.15481101839917186, 0.5211124990922943, 0.052449634648899755, 0.07444464272747062, 0.028762702871977283, 0.15703899818400738, 0.02479563129221169, 0.19836505033769353, 0.19175288199310372, 0.2727519442143286, 0.08761123056581464, 0.04959126258442338, 0.014877378775327015, 0.09910694136837613, 0.028316268962393178, 0.13922165573176645, 0.07315036148618238, 0.43182310167649596, 0.10854569768917385, 0.08258911780698011, 0.03539533620299147, 0.9273386609631175, 0.07458498119644215, 0.01065499731377745, 0.04528373858355416, 0.38624365262443255, 0.1704799570204392, 0.12253246910844066, 0.17580745567732792, 0.01065499731377745, 0.9236414476669329, 0.7072449073762991, 0.023062333936183663, 0.0076874446453945545, 0.09609305806743193, 0.011531166968091831, 0.053812112517761884, 0.04228094554967005, 0.053812112517761884, 0.9853787209777058, 0.043468379315584886, 0.9563043449428674, 0.14088020705333867, 0.13179116143699424, 0.06816784212258323, 0.01817809123268886, 0.08634593335527209, 0.39082896150281055, 0.12724663862882202, 0.040900705273549935, 0.971421376830374, 0.9348966286731939, 0.10882992611304201, 0.17243183098430032, 0.1893923389499692, 0.12013693142348793, 0.08480253982834442, 0.0876292911559559, 0.11024330177684775, 0.1286171854063224, 0.011837912200360146, 0.7517074247228692, 0.04143269270126051, 0.01775686830054022, 0.011837912200360146, 0.04143269270126051, 0.07102747320216088, 0.05327060490162066, 0.02268577635866315, 0.9528026070638522, 0.9716566563912659, 0.05200267159089119, 0.13867379090904317, 0.044298572095944344, 0.26579143257566606, 0.09244919393936211, 0.08089304469694185, 0.31779410416655723, 0.007704099494946843, 0.04266808971976099, 0.2602753472905421, 0.025600853831856597, 0.0682689435516176, 0.09386979738347419, 0.42668089719761, 0.07253575252359369, 0.0085336179439522, 0.06150465566627094, 0.03075232783313547, 0.03075232783313547, 0.6457988844958449, 0.17426319105443433, 0.04442002909230679, 0.01708462657396415, 0.14958548938635166, 0.21025652703955724, 0.14121707039970263, 0.10355918495978192, 0.1297104942930602, 0.048118409173232006, 0.13598680853304698, 0.08054603274649705, 0.04171462678319141, 0.06257194017478712, 0.8134352222722326, 0.08342925356638282, 0.9352275188846502, 0.10099038675558797, 0.016831731125931327, 0.016831731125931327, 0.5891105894075965, 0.10099038675558797, 0.033663462251862654, 0.08415865562965665, 0.04207932781482832, 0.13053493827312657, 0.1189430325577524, 0.1486787906971905, 0.12751096286911592, 0.18395850374398146, 0.08517530721296676, 0.1259989751671106, 0.07912735640494545, 0.9679980347798914, 0.96509062691817, 0.03458278458871377, 0.9337351838952718, 0.015479159798299379, 0.030958319596598758, 0.9287495878979628, 0.030958319596598758, 0.946595346169533, 0.07418132498995342, 0.2427752454216657, 0.5664755726505534, 0.006743756817268492, 0.006743756817268492, 0.03371878408634246, 0.07418132498995342, 0.1613259450773808, 0.35236982740585804, 0.15991080520828097, 0.12170202874258551, 0.0070756993454991575, 0.10189007057518787, 0.021227098036497475, 0.07358727319319124, 0.18295604535154378, 0.17511507197933476, 0.12676240285071247, 0.07840973372209019, 0.21562676773574804, 0.05096632691935862, 0.09931899604798092, 0.07056876034988117, 0.029923780558515727, 0.11221417709443397, 0.7181707334043774, 0.11969512223406291, 0.014961890279257864, 0.1068968286634938, 0.030751142492237944, 0.07321700593389986, 0.09811078795142582, 0.4890895996384511, 0.10836116878217181, 0.04685888379769591, 0.04832322391637391, 0.1635593418506184, 0.24623769047840355, 0.13300429996643695, 0.017973554049518507, 0.007189421619807403, 0.059312728363411074, 0.06829950538817033, 0.3055504188418146, 0.14554849847208665, 0.10210118549534436, 0.171616886258132, 0.2118056507616186, 0.12708339045697117, 0.07929134618255466, 0.09992881984650724, 0.06245551240406703, 0.025920755545727533, 0.3251876604827636, 0.35110841602849113, 0.03770291715742187, 0.004712864644677734, 0.025920755545727533, 0.07540583431484374, 0.15788096559670406, 0.23104144136535618, 0.056906758956984285, 0.2060024674242831, 0.17299654722923222, 0.07853132736063831, 0.18893043973718782, 0.03072964983677151, 0.035282190553330255, 0.25574733907026165, 0.03760990280445024, 0.015043961121780096, 0.6845002310409944, 0.07070544633099264, 0.17322834351093197, 0.46665594578455144, 0.021211633899297793, 0.007070544633099265, 0.07070544633099264, 0.07424071864754228, 0.12373453107923713, 0.9736323703242413, 0.9699575059833186, 0.9603574020206647, 0.9559253248158528, 0.9529123891328664], \"Term\": [\"absence\", \"absence\", \"absorb\", \"academic\", \"adjustment\", \"admire\", \"ah\", \"aids\", \"aids\", \"alaska\", \"album\", \"album\", \"album\", \"album\", \"album\", \"album\", \"album\", \"album\", \"albums\", \"albums\", \"albums\", \"albums\", \"albums\", \"albums\", \"albums\", \"alert\", \"also\", \"also\", \"also\", \"also\", \"also\", \"also\", \"also\", \"also\", \"amazingly\", \"america\", \"america\", \"america\", \"america\", \"america\", \"america\", \"america\", \"american\", \"american\", \"american\", \"american\", \"american\", \"american\", \"american\", \"american\", \"angeles\", \"anne\", \"anne\", \"anne\", \"annoying\", \"annoying\", \"annoying\", \"annoying\", \"annoying\", \"annoying\", \"annoying\", \"anyone\", \"anyone\", \"anyone\", \"anyone\", \"anyone\", \"anyone\", \"anyone\", \"anyone\", \"arrive\", \"asking\", \"astounding\", \"atlas\", \"atmosphere\", \"atmosphere\", \"attack\", \"attack\", \"attack\", \"aunt\", \"author\", \"author\", \"author\", \"author\", \"author\", \"author\", \"author\", \"author\", \"authority\", \"avant\", \"avant\", \"avid\", \"avid\", \"avid\", \"avid\", \"back\", \"back\", \"back\", \"back\", \"back\", \"back\", \"back\", \"back\", \"backpack\", \"bag\", \"bag\", \"bag\", \"bag\", \"bag\", \"bag\", \"bag\", \"baker\", \"band\", \"band\", \"band\", \"band\", \"band\", \"band\", \"band\", \"bands\", \"bands\", \"bands\", \"bands\", \"bands\", \"bands\", \"becoming\", \"bedtime\", \"believer\", \"bells\", \"bend\", \"bend\", \"bend\", \"benjamin\", \"best\", \"best\", \"best\", \"best\", \"best\", \"best\", \"best\", \"best\", \"better\", \"better\", \"better\", \"better\", \"better\", \"better\", \"better\", \"better\", \"bible\", \"bible\", \"bible\", \"bible\", \"bible\", \"bible\", \"bible\", \"bible\", \"bird\", \"bird\", \"bird\", \"bird\", \"blades\", \"blades\", \"blu\", \"blu\", \"blu\", \"blu\", \"blues\", \"blues\", \"blues\", \"blues\", \"blues\", \"blues\", \"bo\", \"book\", \"book\", \"book\", \"book\", \"book\", \"book\", \"book\", \"book\", \"books\", \"books\", \"books\", \"books\", \"books\", \"books\", \"books\", \"books\", \"bookshelf\", \"bottles\", \"bottles\", \"bottles\", \"bought\", \"bought\", \"bought\", \"bought\", \"bought\", \"bought\", \"bought\", \"bought\", \"bracelet\", \"bradley\", \"brains\", \"braun\", \"braun\", \"bubble\", \"buried\", \"button\", \"button\", \"button\", \"button\", \"button\", \"buy\", \"buy\", \"buy\", \"buy\", \"buy\", \"buy\", \"buy\", \"buy\", \"cage\", \"cake\", \"cake\", \"cake\", \"california\", \"came\", \"came\", \"came\", \"came\", \"came\", \"came\", \"came\", \"came\", \"cameras\", \"cardio\", \"caribbean\", \"cartoons\", \"cases\", \"castle\", \"castle\", \"cat\", \"cat\", \"cat\", \"cat\", \"cat\", \"cat\", \"cbs\", \"cd\", \"cd\", \"cd\", \"cd\", \"cd\", \"cd\", \"cd\", \"cd\", \"celebrate\", \"chances\", \"characters\", \"characters\", \"characters\", \"characters\", \"characters\", \"characters\", \"characters\", \"characters\", \"charts\", \"chest\", \"children\", \"children\", \"children\", \"children\", \"children\", \"children\", \"children\", \"children\", \"chorus\", \"chorus\", \"chorus\", \"christmas\", \"christmas\", \"christmas\", \"christmas\", \"christmas\", \"christmas\", \"christmas\", \"christmas\", \"class\", \"class\", \"class\", \"class\", \"class\", \"class\", \"class\", \"class\", \"clean\", \"clean\", \"clean\", \"clean\", \"clean\", \"clean\", \"clean\", \"clean\", \"clients\", \"coffee\", \"coffee\", \"coffee\", \"coffee\", \"coffee\", \"coffee\", \"collection\", \"collection\", \"collection\", \"collection\", \"collection\", \"collection\", \"collection\", \"collection\", \"college\", \"college\", \"college\", \"college\", \"college\", \"college\", \"college\", \"comedy\", \"comedy\", \"comedy\", \"comedy\", \"comedy\", \"comedy\", \"companion\", \"companion\", \"companion\", \"compilations\", \"component\", \"computer\", \"computer\", \"computer\", \"computer\", \"computer\", \"computer\", \"computer\", \"computer\", \"computers\", \"concert\", \"concert\", \"concert\", \"concert\", \"concert\", \"concert\", \"concert\", \"concise\", \"concise\", \"concise\", \"concise\", \"condition\", \"condition\", \"condition\", \"condition\", \"condition\", \"condition\", \"condition\", \"conflict\", \"conflict\", \"conflict\", \"conflict\", \"contacted\", \"cooling\", \"corelle\", \"could\", \"could\", \"could\", \"could\", \"could\", \"could\", \"could\", \"could\", \"count\", \"count\", \"count\", \"cream\", \"cream\", \"cream\", \"cream\", \"cream\", \"crocker\", \"crowded\", \"crowded\", \"cultures\", \"cultures\", \"cups\", \"dallas\", \"damaged\", \"dance\", \"dance\", \"dance\", \"dance\", \"dance\", \"dance\", \"davis\", \"dc\", \"dc\", \"definitly\", \"deluxe\", \"designing\", \"detail\", \"detail\", \"detail\", \"detail\", \"detail\", \"detail\", \"detail\", \"detective\", \"diamond\", \"diamond\", \"different\", \"different\", \"different\", \"different\", \"different\", \"different\", \"different\", \"different\", \"difficulties\", \"dig\", \"dig\", \"directed\", \"disappointing\", \"disappointing\", \"disappointing\", \"disappoints\", \"dishes\", \"disk\", \"disk\", \"disk\", \"disk\", \"doctor\", \"doctor\", \"doctor\", \"doctor\", \"dressed\", \"drill\", \"drinking\", \"drives\", \"drives\", \"dropped\", \"drumming\", \"dryer\", \"dryer\", \"duke\", \"dvd\", \"dvd\", \"dvd\", \"dvd\", \"dvd\", \"dvd\", \"dvd\", \"dvd\", \"dvds\", \"dvds\", \"dvds\", \"dvds\", \"dvds\", \"dvds\", \"earrings\", \"ease\", \"easy\", \"easy\", \"easy\", \"easy\", \"easy\", \"easy\", \"easy\", \"easy\", \"eco\", \"edition\", \"edition\", \"edition\", \"edition\", \"edition\", \"electricity\", \"endless\", \"enjoy\", \"enjoy\", \"enjoy\", \"enjoy\", \"enjoy\", \"enjoy\", \"enjoy\", \"enjoy\", \"enjoyed\", \"enjoyed\", \"enjoyed\", \"enjoyed\", \"enjoyed\", \"enjoyed\", \"enjoyed\", \"enjoyed\", \"episode\", \"episode\", \"episode\", \"episode\", \"episode\", \"episode\", \"episodes\", \"episodes\", \"episodes\", \"episodes\", \"episodes\", \"episodes\", \"esp\", \"eve\", \"even\", \"even\", \"even\", \"even\", \"even\", \"even\", \"even\", \"even\", \"ever\", \"ever\", \"ever\", \"ever\", \"ever\", \"ever\", \"ever\", \"ever\", \"excellent\", \"excellent\", \"excellent\", \"excellent\", \"excellent\", \"excellent\", \"excellent\", \"excellent\", \"external\", \"external\", \"extraordinary\", \"extraordinary\", \"extraordinary\", \"factual\", \"fan\", \"fan\", \"fan\", \"fan\", \"fan\", \"fan\", \"fan\", \"fan\", \"fans\", \"fans\", \"fans\", \"fans\", \"fans\", \"fans\", \"fans\", \"fans\", \"feel\", \"feel\", \"feel\", \"feel\", \"feel\", \"feel\", \"feel\", \"feel\", \"figures\", \"files\", \"files\", \"film\", \"film\", \"film\", \"film\", \"film\", \"film\", \"film\", \"film\", \"filter\", \"filter\", \"filter\", \"find\", \"find\", \"find\", \"find\", \"find\", \"find\", \"find\", \"find\", \"first\", \"first\", \"first\", \"first\", \"first\", \"first\", \"first\", \"first\", \"fishing\", \"fit\", \"fit\", \"fit\", \"fit\", \"fit\", \"fit\", \"fit\", \"fit\", \"fitness\", \"fits\", \"fits\", \"fits\", \"fits\", \"fits\", \"fits\", \"fits\", \"fits\", \"flimsy\", \"flimsy\", \"flip\", \"floating\", \"floyd\", \"folk\", \"foods\", \"fox\", \"fox\", \"fox\", \"francisco\", \"franklin\", \"franklin\", \"freezer\", \"friends\", \"friends\", \"friends\", \"friends\", \"friends\", \"friends\", \"friends\", \"friends\", \"fun\", \"fun\", \"fun\", \"fun\", \"fun\", \"fun\", \"fun\", \"fun\", \"funk\", \"funk\", \"funny\", \"funny\", \"funny\", \"funny\", \"funny\", \"funny\", \"funny\", \"funny\", \"game\", \"game\", \"game\", \"game\", \"game\", \"game\", \"game\", \"game\", \"gameplay\", \"gameplay\", \"gameplay\", \"games\", \"games\", \"games\", \"games\", \"games\", \"games\", \"games\", \"gate\", \"gauge\", \"gauge\", \"gb\", \"germans\", \"get\", \"get\", \"get\", \"get\", \"get\", \"get\", \"get\", \"get\", \"gift\", \"gift\", \"gift\", \"gift\", \"gift\", \"gift\", \"gift\", \"gift\", \"go\", \"go\", \"go\", \"go\", \"go\", \"go\", \"go\", \"go\", \"god\", \"god\", \"god\", \"god\", \"god\", \"god\", \"god\", \"godzilla\", \"good\", \"good\", \"good\", \"good\", \"good\", \"good\", \"good\", \"good\", \"got\", \"got\", \"got\", \"got\", \"got\", \"got\", \"got\", \"got\", \"government\", \"grandchildren\", \"grandfather\", \"graphics\", \"graphics\", \"great\", \"great\", \"great\", \"great\", \"great\", \"great\", \"great\", \"great\", \"greedy\", \"growth\", \"growth\", \"growth\", \"guidance\", \"guitar\", \"guitar\", \"guitar\", \"guitar\", \"guitar\", \"guitar\", \"gum\", \"gum\", \"gum\", \"guns\", \"hair\", \"hair\", \"hair\", \"hair\", \"hair\", \"hair\", \"hardy\", \"harmonica\", \"harry\", \"harry\", \"harry\", \"harry\", \"harry\", \"harry\", \"harry\", \"heard\", \"heard\", \"heard\", \"heard\", \"heard\", \"heard\", \"heard\", \"heard\", \"heavenly\", \"helmet\", \"help\", \"help\", \"help\", \"help\", \"help\", \"help\", \"help\", \"help\", \"hero\", \"hero\", \"hero\", \"hero\", \"hero\", \"highly\", \"highly\", \"highly\", \"highly\", \"highly\", \"highly\", \"highly\", \"highly\", \"history\", \"history\", \"history\", \"history\", \"history\", \"history\", \"history\", \"history\", \"howard\", \"humans\", \"humans\", \"humans\", \"humor\", \"humor\", \"humor\", \"humor\", \"humor\", \"humor\", \"humor\", \"humor\", \"hunt\", \"ice\", \"ice\", \"ice\", \"ice\", \"imaginative\", \"import\", \"importantly\", \"information\", \"information\", \"information\", \"information\", \"information\", \"information\", \"information\", \"information\", \"informative\", \"informative\", \"informative\", \"informative\", \"informative\", \"initial\", \"interesting\", \"interesting\", \"interesting\", \"interesting\", \"interesting\", \"interesting\", \"interesting\", \"interesting\", \"isnt\", \"italy\", \"jail\", \"jazz\", \"jazz\", \"jazz\", \"jazz\", \"jazz\", \"jean\", \"jean\", \"jewel\", \"jobs\", \"kids\", \"kids\", \"kids\", \"kids\", \"kids\", \"kids\", \"kids\", \"kids\", \"kitchen\", \"kitchen\", \"kitchen\", \"kitchen\", \"kitchen\", \"kitchen\", \"kitchen\", \"kitchen\", \"know\", \"know\", \"know\", \"know\", \"know\", \"know\", \"know\", \"know\", \"labels\", \"lamp\", \"lane\", \"laptop\", \"laptop\", \"laptop\", \"laptops\", \"larger\", \"larger\", \"larger\", \"larger\", \"larger\", \"larger\", \"larger\", \"latin\", \"latin\", \"latin\", \"laugh\", \"laugh\", \"laugh\", \"laugh\", \"laugh\", \"laugh\", \"laugh\", \"laugh\", \"laughing\", \"laughing\", \"laughing\", \"law\", \"law\", \"law\", \"law\", \"law\", \"law\", \"law\", \"leaders\", \"leaders\", \"leg\", \"leg\", \"lens\", \"lens\", \"lens\", \"lens\", \"lens\", \"les\", \"life\", \"life\", \"life\", \"life\", \"life\", \"life\", \"life\", \"life\", \"like\", \"like\", \"like\", \"like\", \"like\", \"like\", \"like\", \"like\", \"lil\", \"listen\", \"listen\", \"listen\", \"listen\", \"listen\", \"listen\", \"listen\", \"listen\", \"listener\", \"listener\", \"listener\", \"listening\", \"listening\", \"listening\", \"listening\", \"listening\", \"listening\", \"listening\", \"listening\", \"little\", \"little\", \"little\", \"little\", \"little\", \"little\", \"little\", \"little\", \"live\", \"live\", \"live\", \"live\", \"live\", \"live\", \"live\", \"live\", \"loaded\", \"look\", \"look\", \"look\", \"look\", \"look\", \"look\", \"look\", \"look\", \"los\", \"love\", \"love\", \"love\", \"love\", \"love\", \"love\", \"love\", \"love\", \"lullaby\", \"lyrics\", \"lyrics\", \"lyrics\", \"lyrics\", \"lyrics\", \"lyrics\", \"lyrics\", \"made\", \"made\", \"made\", \"made\", \"made\", \"made\", \"made\", \"made\", \"make\", \"make\", \"make\", \"make\", \"make\", \"make\", \"make\", \"make\", \"management\", \"manilow\", \"many\", \"many\", \"many\", \"many\", \"many\", \"many\", \"many\", \"many\", \"mario\", \"martha\", \"marvel\", \"mat\", \"matters\", \"mb\", \"mb\", \"meals\", \"meals\", \"mega\", \"michael\", \"michael\", \"michael\", \"michael\", \"michael\", \"michael\", \"michael\", \"mini\", \"mini\", \"mini\", \"mini\", \"misses\", \"moon\", \"moon\", \"moon\", \"moon\", \"moon\", \"moore\", \"mop\", \"mouth\", \"mouth\", \"movie\", \"movie\", \"movie\", \"movie\", \"movie\", \"movie\", \"movie\", \"movie\", \"much\", \"much\", \"much\", \"much\", \"much\", \"much\", \"much\", \"much\", \"music\", \"music\", \"music\", \"music\", \"music\", \"music\", \"music\", \"music\", \"must\", \"must\", \"must\", \"must\", \"must\", \"must\", \"must\", \"must\", \"nancy\", \"need\", \"need\", \"need\", \"need\", \"need\", \"need\", \"need\", \"need\", \"new\", \"new\", \"new\", \"new\", \"new\", \"new\", \"new\", \"new\", \"newest\", \"nice\", \"nice\", \"nice\", \"nice\", \"nice\", \"nice\", \"nice\", \"nice\", \"nick\", \"nintendo\", \"notorious\", \"novel\", \"novel\", \"novel\", \"novel\", \"novel\", \"novel\", \"novel\", \"novel\", \"nyc\", \"nyc\", \"oil\", \"oil\", \"oil\", \"oil\", \"oil\", \"old\", \"old\", \"old\", \"old\", \"old\", \"old\", \"old\", \"old\", \"one\", \"one\", \"one\", \"one\", \"one\", \"one\", \"one\", \"one\", \"orchestra\", \"orders\", \"oscar\", \"outfits\", \"overwhelming\", \"para\", \"paradise\", \"parenting\", \"parenting\", \"parenting\", \"parents\", \"parents\", \"parents\", \"parents\", \"parents\", \"parents\", \"parents\", \"paris\", \"paris\", \"patients\", \"pedometer\", \"people\", \"people\", \"people\", \"people\", \"people\", \"people\", \"people\", \"people\", \"phone\", \"phone\", \"phone\", \"phone\", \"phone\", \"pilates\", \"pilates\", \"pirate\", \"play\", \"play\", \"play\", \"play\", \"play\", \"play\", \"play\", \"play\", \"playing\", \"playing\", \"playing\", \"playing\", \"playing\", \"playing\", \"playing\", \"playing\", \"plot\", \"plot\", \"plot\", \"plot\", \"plot\", \"plot\", \"plot\", \"plot\", \"poker\", \"popcorn\", \"popcorn\", \"potter\", \"potter\", \"potter\", \"potter\", \"powder\", \"practical\", \"practical\", \"practical\", \"practical\", \"practical\", \"practical\", \"practical\", \"pretty\", \"pretty\", \"pretty\", \"pretty\", \"pretty\", \"pretty\", \"pretty\", \"pretty\", \"price\", \"price\", \"price\", \"price\", \"price\", \"price\", \"price\", \"price\", \"product\", \"product\", \"product\", \"product\", \"product\", \"product\", \"product\", \"product\", \"prospective\", \"ps\", \"ps\", \"ps\", \"pt\", \"purchased\", \"purchased\", \"purchased\", \"purchased\", \"purchased\", \"purchased\", \"purchased\", \"purchased\", \"puzzles\", \"puzzles\", \"quality\", \"quality\", \"quality\", \"quality\", \"quality\", \"quality\", \"quality\", \"quality\", \"que\", \"questionable\", \"racing\", \"radio\", \"radio\", \"radio\", \"radio\", \"radio\", \"radio\", \"radio\", \"radio\", \"rally\", \"rally\", \"razor\", \"razor\", \"razor\", \"razor\", \"razor\", \"read\", \"read\", \"read\", \"read\", \"read\", \"read\", \"read\", \"read\", \"reader\", \"reader\", \"reader\", \"reader\", \"reader\", \"reader\", \"reader\", \"reader\", \"reading\", \"reading\", \"reading\", \"reading\", \"reading\", \"reading\", \"reading\", \"reading\", \"real\", \"real\", \"real\", \"real\", \"real\", \"real\", \"real\", \"real\", \"really\", \"really\", \"really\", \"really\", \"really\", \"really\", \"really\", \"really\", \"received\", \"received\", \"received\", \"received\", \"received\", \"received\", \"received\", \"received\", \"recipe\", \"recipe\", \"recipe\", \"recommend\", \"recommend\", \"recommend\", \"recommend\", \"recommend\", \"recommend\", \"recommend\", \"recommend\", \"recommendations\", \"record\", \"record\", \"record\", \"record\", \"record\", \"record\", \"record\", \"record\", \"recording\", \"recording\", \"recording\", \"recording\", \"recording\", \"recording\", \"recording\", \"recordings\", \"recordings\", \"recordings\", \"recordings\", \"recordings\", \"recordings\", \"refer\", \"region\", \"region\", \"region\", \"remote\", \"remote\", \"remote\", \"remote\", \"remote\", \"repair\", \"repeat\", \"reports\", \"resource\", \"resource\", \"resource\", \"resource\", \"resource\", \"resource\", \"resource\", \"resource\", \"response\", \"response\", \"retriever\", \"riff\", \"roads\", \"roast\", \"robin\", \"rock\", \"rock\", \"rock\", \"rock\", \"rock\", \"rock\", \"rock\", \"rock\", \"rocker\", \"roman\", \"root\", \"rounded\", \"russia\", \"russian\", \"saves\", \"scary\", \"scary\", \"scary\", \"scary\", \"scary\", \"scenes\", \"scenes\", \"scenes\", \"scenes\", \"scenes\", \"scenes\", \"scenes\", \"scenes\", \"scope\", \"season\", \"season\", \"season\", \"season\", \"season\", \"season\", \"season\", \"sec\", \"see\", \"see\", \"see\", \"see\", \"see\", \"see\", \"see\", \"see\", \"seen\", \"seen\", \"seen\", \"seen\", \"seen\", \"seen\", \"seen\", \"seen\", \"selections\", \"separate\", \"series\", \"series\", \"series\", \"series\", \"series\", \"series\", \"series\", \"series\", \"service\", \"service\", \"service\", \"service\", \"service\", \"service\", \"service\", \"service\", \"set\", \"set\", \"set\", \"set\", \"set\", \"set\", \"set\", \"set\", \"shakespeare\", \"sheet\", \"shes\", \"shipped\", \"shipped\", \"shipped\", \"shipped\", \"shirt\", \"shirt\", \"shoe\", \"shoe\", \"shoe\", \"shoulder\", \"show\", \"show\", \"show\", \"show\", \"show\", \"show\", \"show\", \"show\", \"shower\", \"shower\", \"shower\", \"shower\", \"shrek\", \"since\", \"since\", \"since\", \"since\", \"since\", \"since\", \"since\", \"since\", \"singer\", \"singer\", \"singer\", \"singer\", \"singer\", \"singer\", \"singers\", \"singers\", \"singing\", \"singing\", \"singing\", \"singing\", \"singing\", \"singing\", \"singing\", \"sinus\", \"sinus\", \"sinus\", \"size\", \"size\", \"size\", \"size\", \"size\", \"size\", \"size\", \"size\", \"small\", \"small\", \"small\", \"small\", \"small\", \"small\", \"small\", \"small\", \"solve\", \"solve\", \"son\", \"son\", \"son\", \"son\", \"son\", \"son\", \"son\", \"son\", \"song\", \"song\", \"song\", \"song\", \"song\", \"song\", \"song\", \"song\", \"songs\", \"songs\", \"songs\", \"songs\", \"songs\", \"songs\", \"songs\", \"songs\", \"songwriting\", \"songwriting\", \"sony\", \"sony\", \"sony\", \"soul\", \"soul\", \"soul\", \"soul\", \"soul\", \"soul\", \"sound\", \"sound\", \"sound\", \"sound\", \"sound\", \"sound\", \"sound\", \"sound\", \"sounded\", \"sounds\", \"sounds\", \"sounds\", \"sounds\", \"sounds\", \"sounds\", \"sounds\", \"sounds\", \"soundtracks\", \"spectacular\", \"speeds\", \"spends\", \"spends\", \"splendid\", \"sponge\", \"stays\", \"stays\", \"stays\", \"stays\", \"stays\", \"sticky\", \"still\", \"still\", \"still\", \"still\", \"still\", \"still\", \"still\", \"still\", \"stir\", \"stomach\", \"stopped\", \"stopped\", \"stopped\", \"stopped\", \"stopped\", \"stopped\", \"stopped\", \"stops\", \"stories\", \"stories\", \"stories\", \"stories\", \"stories\", \"stories\", \"stories\", \"stories\", \"story\", \"story\", \"story\", \"story\", \"story\", \"story\", \"story\", \"story\", \"strings\", \"struggling\", \"struggling\", \"studying\", \"sturdy\", \"sturdy\", \"sturdy\", \"sturdy\", \"sturdy\", \"sturdy\", \"sturdy\", \"sturdy\", \"suction\", \"suggestions\", \"suggestions\", \"suggestions\", \"suggestions\", \"sung\", \"supply\", \"supply\", \"survival\", \"survival\", \"talks\", \"talks\", \"tame\", \"target\", \"tastes\", \"teach\", \"teach\", \"teach\", \"teach\", \"teach\", \"teach\", \"teach\", \"teacher\", \"teacher\", \"teacher\", \"teacher\", \"teacher\", \"teacher\", \"ted\", \"teenager\", \"teenager\", \"temperature\", \"texas\", \"texas\", \"texas\", \"texas\", \"texas\", \"texas\", \"text\", \"text\", \"text\", \"text\", \"text\", \"think\", \"think\", \"think\", \"think\", \"think\", \"think\", \"think\", \"think\", \"thomas\", \"thomas\", \"thomas\", \"thomas\", \"thomas\", \"tile\", \"tile\", \"time\", \"time\", \"time\", \"time\", \"time\", \"time\", \"time\", \"time\", \"tips\", \"tips\", \"tips\", \"tips\", \"tips\", \"toaster\", \"toaster\", \"toaster\", \"tongue\", \"topics\", \"topics\", \"towel\", \"towel\", \"toy\", \"toy\", \"toy\", \"toy\", \"toy\", \"toy\", \"toy\", \"track\", \"track\", \"track\", \"track\", \"track\", \"track\", \"track\", \"track\", \"tracks\", \"tracks\", \"tracks\", \"tracks\", \"tracks\", \"tracks\", \"tracks\", \"tracks\", \"trek\", \"trials\", \"tripod\", \"tropical\", \"truck\", \"twins\", \"two\", \"two\", \"two\", \"two\", \"two\", \"two\", \"two\", \"two\", \"typically\", \"typically\", \"unit\", \"unit\", \"unit\", \"unit\", \"unit\", \"unit\", \"unit\", \"unit\", \"unusual\", \"unusual\", \"unusual\", \"unusual\", \"unusual\", \"unusual\", \"upside\", \"usb\", \"usb\", \"usb\", \"usb\", \"usb\", \"usb\", \"use\", \"use\", \"use\", \"use\", \"use\", \"use\", \"use\", \"use\", \"used\", \"used\", \"used\", \"used\", \"used\", \"used\", \"used\", \"used\", \"using\", \"using\", \"using\", \"using\", \"using\", \"using\", \"using\", \"using\", \"vice\", \"video\", \"video\", \"video\", \"video\", \"video\", \"video\", \"video\", \"video\", \"views\", \"voice\", \"voice\", \"voice\", \"voice\", \"voice\", \"voice\", \"voice\", \"voice\", \"voltage\", \"vs\", \"vs\", \"wait\", \"wait\", \"wait\", \"wait\", \"wait\", \"wait\", \"wait\", \"wait\", \"waking\", \"wallet\", \"want\", \"want\", \"want\", \"want\", \"want\", \"want\", \"want\", \"want\", \"war\", \"war\", \"war\", \"war\", \"war\", \"war\", \"war\", \"war\", \"wash\", \"wash\", \"washed\", \"watch\", \"watch\", \"watch\", \"watch\", \"watch\", \"watch\", \"watch\", \"watch\", \"watching\", \"watching\", \"watching\", \"watching\", \"watching\", \"watching\", \"watching\", \"watching\", \"water\", \"water\", \"water\", \"water\", \"water\", \"water\", \"water\", \"way\", \"way\", \"way\", \"way\", \"way\", \"way\", \"way\", \"way\", \"wayne\", \"wayne\", \"wayne\", \"wayne\", \"weaknesses\", \"wear\", \"wear\", \"wear\", \"wear\", \"wear\", \"wear\", \"wear\", \"wear\", \"well\", \"well\", \"well\", \"well\", \"well\", \"well\", \"well\", \"well\", \"whistles\", \"wider\", \"wii\", \"wii\", \"wire\", \"wire\", \"wire\", \"wire\", \"wizard\", \"women\", \"women\", \"women\", \"women\", \"women\", \"women\", \"women\", \"wonderful\", \"wonderful\", \"wonderful\", \"wonderful\", \"wonderful\", \"wonderful\", \"wonderful\", \"wonderful\", \"work\", \"work\", \"work\", \"work\", \"work\", \"work\", \"work\", \"work\", \"workout\", \"workout\", \"workout\", \"workout\", \"workout\", \"works\", \"works\", \"works\", \"works\", \"works\", \"works\", \"works\", \"works\", \"world\", \"world\", \"world\", \"world\", \"world\", \"world\", \"world\", \"world\", \"would\", \"would\", \"would\", \"would\", \"would\", \"would\", \"would\", \"would\", \"written\", \"written\", \"written\", \"written\", \"written\", \"written\", \"written\", \"written\", \"years\", \"years\", \"years\", \"years\", \"years\", \"years\", \"years\", \"years\", \"yoga\", \"yoga\", \"yoga\", \"yoga\", \"young\", \"young\", \"young\", \"young\", \"young\", \"young\", \"young\", \"young\", \"youth\", \"zelda\", \"zip\", \"zoo\", \"zoom\"]}, \"R\": 30, \"lambda.step\": 0.01, \"plot.opts\": {\"xlab\": \"PC1\", \"ylab\": \"PC2\"}, \"topic.order\": [3, 6, 4, 8, 5, 7, 1, 2]};\n",
              "\n",
              "function LDAvis_load_lib(url, callback){\n",
              "  var s = document.createElement('script');\n",
              "  s.src = url;\n",
              "  s.async = true;\n",
              "  s.onreadystatechange = s.onload = callback;\n",
              "  s.onerror = function(){console.warn(\"failed to load library \" + url);};\n",
              "  document.getElementsByTagName(\"head\")[0].appendChild(s);\n",
              "}\n",
              "\n",
              "if(typeof(LDAvis) !== \"undefined\"){\n",
              "   // already loaded: just create the visualization\n",
              "   !function(LDAvis){\n",
              "       new LDAvis(\"#\" + \"ldavis_el9901397266531527206810517959\", ldavis_el9901397266531527206810517959_data);\n",
              "   }(LDAvis);\n",
              "}else if(typeof define === \"function\" && define.amd){\n",
              "   // require.js is available: use it to load d3/LDAvis\n",
              "   require.config({paths: {d3: \"https://cdnjs.cloudflare.com/ajax/libs/d3/3.5.5/d3.min\"}});\n",
              "   require([\"d3\"], function(d3){\n",
              "      window.d3 = d3;\n",
              "      LDAvis_load_lib(\"https://cdn.rawgit.com/bmabey/pyLDAvis/files/ldavis.v1.0.0.js\", function(){\n",
              "        new LDAvis(\"#\" + \"ldavis_el9901397266531527206810517959\", ldavis_el9901397266531527206810517959_data);\n",
              "      });\n",
              "    });\n",
              "}else{\n",
              "    // require.js not available: dynamically load d3 & LDAvis\n",
              "    LDAvis_load_lib(\"https://cdnjs.cloudflare.com/ajax/libs/d3/3.5.5/d3.min.js\", function(){\n",
              "         LDAvis_load_lib(\"https://cdn.rawgit.com/bmabey/pyLDAvis/files/ldavis.v1.0.0.js\", function(){\n",
              "                 new LDAvis(\"#\" + \"ldavis_el9901397266531527206810517959\", ldavis_el9901397266531527206810517959_data);\n",
              "            })\n",
              "         });\n",
              "}\n",
              "</script>"
            ]
          },
          "metadata": {},
          "execution_count": 67
        }
      ]
    },
    {
      "cell_type": "code",
      "source": [
        "# Compute coherence score\n",
        "coherence_model_lda = CoherenceModel(model=lda_gensim_d2v_1, texts=text3, dictionary=dictionary3, coherence='c_v')\n",
        "coherence_lda = coherence_model_lda.get_coherence()\n",
        "\n",
        "print('Coherence Score: ', coherence_lda)"
      ],
      "metadata": {
        "colab": {
          "base_uri": "https://localhost:8080/"
        },
        "id": "zS6Njl-RyKP_",
        "outputId": "501049c1-222f-4345-9c78-a0de3665c119"
      },
      "execution_count": null,
      "outputs": [
        {
          "output_type": "stream",
          "name": "stdout",
          "text": [
            "Coherence Score:  0.40241844598614374\n"
          ]
        }
      ]
    },
    {
      "cell_type": "code",
      "source": [
        "#stampo per ogni topic identificato una coppia rappresentante parola e peso della parola nel topic\n",
        "topics_d2v_1 = lda_gensim_d2v_1.show_topics(num_topics=8, num_words=5, formatted=False)\n",
        "for topic in topics_d2v_1:\n",
        "  print(topic)"
      ],
      "metadata": {
        "colab": {
          "base_uri": "https://localhost:8080/"
        },
        "outputId": "c0f63031-69f2-4c32-b3e8-46bfd73cdfac",
        "id": "cmaRdcHia6GA"
      },
      "execution_count": null,
      "outputs": [
        {
          "output_type": "stream",
          "name": "stdout",
          "text": [
            "(0, [('game', 0.018421497), ('great', 0.01767098), ('good', 0.0173536), ('fun', 0.009967364), ('one', 0.0075210766)])\n",
            "(1, [('great', 0.011364744), ('book', 0.010401536), ('like', 0.008336098), ('read', 0.0080472985), ('story', 0.008002525)])\n",
            "(2, [('cd', 0.020835174), ('one', 0.016410634), ('album', 0.015891831), ('songs', 0.012245049), ('like', 0.0121971825)])\n",
            "(3, [('book', 0.03916156), ('read', 0.011551047), ('great', 0.01015448), ('would', 0.0063900775), ('life', 0.006128456)])\n",
            "(4, [('great', 0.024583854), ('good', 0.015345365), ('use', 0.014037846), ('price', 0.011045869), ('one', 0.010337643)])\n",
            "(5, [('book', 0.051547885), ('read', 0.021442669), ('movie', 0.013518631), ('good', 0.010119904), ('one', 0.00923971)])\n",
            "(6, [('one', 0.015488763), ('great', 0.013061269), ('like', 0.009569312), ('best', 0.008525645), ('time', 0.007853176)])\n",
            "(7, [('great', 0.016463174), ('really', 0.011512304), ('get', 0.009636662), ('dvd', 0.0095880255), ('good', 0.009307254)])\n"
          ]
        }
      ]
    },
    {
      "cell_type": "code",
      "source": [
        "num_topics = 8\n",
        "n_top_sentences = 3\n",
        "threshold = 0.7\n",
        "\n",
        "sentence_topic_distributions_d2v_1 = [lda_gensim_d2v_1[c] for c in corpus3] #calcolo la distribuzione di probabilitàdi appartenenza per ogni frase del corpus ad un topic\n",
        "for topic_id in range(num_topics):\n",
        "    sentences = []\n",
        "    for i, dist in enumerate(sentence_topic_distributions_d2v_1):\n",
        "        if max([p for t, p in dist]) >= threshold and topic_id in [t for t, p in dist]: #per ogni topic, verifico quali frasi sono oltre il threshold e le inserisco nella lista\n",
        "            sentences.append(\" \".join(text3[i]))\n",
        "\n",
        "    # print the selected sentences for this topic\n",
        "    print(\"Topic\", topic_id)\n",
        "    for i, sentence in enumerate(sentences[:n_top_sentences]):\n",
        "        print(f\"\\t{i+1}. {sentence}\")"
      ],
      "metadata": {
        "colab": {
          "base_uri": "https://localhost:8080/"
        },
        "outputId": "2a251703-aa31-4f01-a28f-a6ead7aafe45",
        "id": "ZHiWu5yZbBvR"
      },
      "execution_count": null,
      "outputs": [
        {
          "output_type": "stream",
          "name": "stdout",
          "text": [
            "Topic 0\n",
            "\t1. great book graduating students teachers witty fast paced story senior year high school students camping field trip turns rite passage participants characters well developed plot subplots keep reader riveted throughout students recent graduates teachers connect humorous adventure great summer read buy enjoy\n",
            "\t2. smallville vol metroplis mix love cd nice variety artist cool tunes cruising hanging\n",
            "\t3. amazing started playing game loved able choose teams amazing graphics great storyline astounding characters perfect must rtk fan\n",
            "Topic 1\n",
            "\t1. read read book probably love see played action great deal left happen may revelation someone read book waiting hear friends clearly jist rand warned th obvious today dont beleive forseen epa regulations though regulatory government none less awaiting sequels\n",
            "\t2. romantic wowie kazowie woman really devoted evelyn fantastically wacko obsessed woman love sensitive radio dj played ever charming irresistable mr eastwood despite slow scenes lead male actual girlfriend story still full action sure please great date flick\n",
            "\t3. great book graduating students teachers witty fast paced story senior year high school students camping field trip turns rite passage participants characters well developed plot subplots keep reader riveted throughout students recent graduates teachers connect humorous adventure great summer read buy enjoy\n",
            "Topic 2\n",
            "\t1. expected strings goodness sake players love em gotta try em know fit style playing fine\n",
            "\t2. smallville vol metroplis mix love cd nice variety artist cool tunes cruising hanging\n",
            "\t3. great soundtrack already best soundtrack ever heard aside thin red line soundtrack sets mood film beautifully interesting music baby bad bad thing chris issak song soundtrack unreal unbelieveable eyes wide shut sure unforgetable experience stanley kubrick forever\n",
            "Topic 3\n",
            "\t1. great book graduating students teachers witty fast paced story senior year high school students camping field trip turns rite passage participants characters well developed plot subplots keep reader riveted throughout students recent graduates teachers connect humorous adventure great summer read buy enjoy\n",
            "\t2. favorite pick love story first loves amazing story two sweet young lovers overcome unruly mother jealous friend fear seperated love author describes places go like sharing never cried hard ending broke heart lucky enough meet author told sequel book mend broken heart wait waiting go buy\n",
            "\t3. great key safe home use key safe easy install works great bought two houses buying another gift\n",
            "Topic 4\n",
            "\t1. expected strings goodness sake players love em gotta try em know fit style playing fine\n",
            "\t2. favorite pick love story first loves amazing story two sweet young lovers overcome unruly mother jealous friend fear seperated love author describes places go like sharing never cried hard ending broke heart lucky enough meet author told sequel book mend broken heart wait waiting go buy\n",
            "\t3. great key safe home use key safe easy install works great bought two houses buying another gift\n",
            "Topic 5\n",
            "\t1. romantic wowie kazowie woman really devoted evelyn fantastically wacko obsessed woman love sensitive radio dj played ever charming irresistable mr eastwood despite slow scenes lead male actual girlfriend story still full action sure please great date flick\n",
            "\t2. wonderful book want know exactly set canoe sail book care pristine wooden canoe uncles old aluminum monster seventies book writing clear engaging yet laid intuitive logical order book seem like book drags joyfully along infectious enthusiasm subject hand open whole new world please give try keep book forever\n",
            "\t3. favorite pick love story first loves amazing story two sweet young lovers overcome unruly mother jealous friend fear seperated love author describes places go like sharing never cried hard ending broke heart lucky enough meet author told sequel book mend broken heart wait waiting go buy\n",
            "Topic 6\n",
            "\t1. read read book probably love see played action great deal left happen may revelation someone read book waiting hear friends clearly jist rand warned th obvious today dont beleive forseen epa regulations though regulatory government none less awaiting sequels\n",
            "\t2. smallville vol metroplis mix love cd nice variety artist cool tunes cruising hanging\n",
            "\t3. amazing started playing game loved able choose teams amazing graphics great storyline astounding characters perfect must rtk fan\n",
            "Topic 7\n",
            "\t1. amazing book book one time favourites gibbons writes passion shows book characters amazing well structured sad action packed book flawless nothing short stunning\n",
            "\t2. smallville vol metroplis mix love cd nice variety artist cool tunes cruising hanging\n",
            "\t3. great shoe fast shipping great shoe running asics years shoes shipped quickly buy\n"
          ]
        }
      ]
    }
  ]
}